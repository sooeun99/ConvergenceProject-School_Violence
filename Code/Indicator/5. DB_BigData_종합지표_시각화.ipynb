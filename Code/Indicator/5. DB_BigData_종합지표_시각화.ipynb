{
 "cells": [
  {
   "cell_type": "markdown",
   "id": "7c3e7550-014c-4ee0-a58a-227a1829edb5",
   "metadata": {},
   "source": [
    "# 종합지표_학교폭력위험도_시각화"
   ]
  },
  {
   "cell_type": "code",
   "execution_count": 44,
   "id": "51ff5ac8-6e7b-4a46-892f-03e3b5ce5e6a",
   "metadata": {
    "execution": {
     "iopub.execute_input": "2023-02-05T05:19:37.446720Z",
     "iopub.status.busy": "2023-02-05T05:19:37.445662Z",
     "iopub.status.idle": "2023-02-05T05:19:37.981015Z",
     "shell.execute_reply": "2023-02-05T05:19:37.978533Z",
     "shell.execute_reply.started": "2023-02-05T05:19:37.446720Z"
    },
    "tags": []
   },
   "outputs": [
    {
     "name": "stdout",
     "output_type": "stream",
     "text": [
      "0.13.0\n"
     ]
    }
   ],
   "source": [
    "import requests\n",
    "import json\n",
    "import pandas as pd\n",
    "import numpy as np\n",
    "from pandas.io.json import json_normalize\n",
    "import os\n",
    "import webbrowser\n",
    "import folium\n",
    "from folium import plugins\n",
    "print(folium.__version__)\n",
    "\n",
    "from IPython.core.interactiveshell import InteractiveShell\n",
    "InteractiveShell.ast_node_interactivity=\"all\"\n",
    "\n",
    "import matplotlib.pyplot as plt #그래프 패키지 모듈 등록\n",
    "%matplotlib inline \n",
    "#그래프는 show()함수를 통해서 독립창에서 실행되는 것이 원칙\n",
    "#그래프를 콘솔에서 바로 작도되록 하는 설정"
   ]
  },
  {
   "cell_type": "code",
   "execution_count": 45,
   "id": "6365f2a3-8339-4b8a-a216-98e0473e18bb",
   "metadata": {
    "execution": {
     "iopub.execute_input": "2023-02-05T05:19:38.905354Z",
     "iopub.status.busy": "2023-02-05T05:19:38.903770Z",
     "iopub.status.idle": "2023-02-05T05:19:38.940090Z",
     "shell.execute_reply": "2023-02-05T05:19:38.935070Z",
     "shell.execute_reply.started": "2023-02-05T05:19:38.905354Z"
    },
    "tags": []
   },
   "outputs": [],
   "source": [
    "data_path = \"C:/sooeun/DATAexam/ConvergenceProject-School_Violence/Data/3. Indicator_Data/\""
   ]
  },
  {
   "cell_type": "code",
   "execution_count": 46,
   "id": "08c3b524-afdf-41bf-a258-b5f29e1a4ab9",
   "metadata": {
    "execution": {
     "iopub.execute_input": "2023-02-05T05:19:40.622428Z",
     "iopub.status.busy": "2023-02-05T05:19:40.621430Z",
     "iopub.status.idle": "2023-02-05T05:19:40.700508Z",
     "shell.execute_reply": "2023-02-05T05:19:40.696792Z",
     "shell.execute_reply.started": "2023-02-05T05:19:40.622428Z"
    },
    "scrolled": true,
    "tags": []
   },
   "outputs": [
    {
     "data": {
      "text/html": [
       "<div>\n",
       "<style scoped>\n",
       "    .dataframe tbody tr th:only-of-type {\n",
       "        vertical-align: middle;\n",
       "    }\n",
       "\n",
       "    .dataframe tbody tr th {\n",
       "        vertical-align: top;\n",
       "    }\n",
       "\n",
       "    .dataframe thead th {\n",
       "        text-align: right;\n",
       "    }\n",
       "</style>\n",
       "<table border=\"1\" class=\"dataframe\">\n",
       "  <thead>\n",
       "    <tr style=\"text-align: right;\">\n",
       "      <th></th>\n",
       "      <th>시도교육청코드</th>\n",
       "      <th>시도교육청명</th>\n",
       "      <th>표준학교코드</th>\n",
       "      <th>학교명</th>\n",
       "      <th>영문학교명</th>\n",
       "      <th>학교종류명</th>\n",
       "      <th>소재지명</th>\n",
       "      <th>시군구</th>\n",
       "      <th>관할조직명</th>\n",
       "      <th>설립명</th>\n",
       "      <th>...</th>\n",
       "      <th>고등학교구분명</th>\n",
       "      <th>산업체특별학급존재여부</th>\n",
       "      <th>고등학교일반실업구분명</th>\n",
       "      <th>특수목적고등학교계열명</th>\n",
       "      <th>입시전후기구분명</th>\n",
       "      <th>주야구분명</th>\n",
       "      <th>설립일자</th>\n",
       "      <th>개교기념일</th>\n",
       "      <th>위도</th>\n",
       "      <th>경도</th>\n",
       "    </tr>\n",
       "  </thead>\n",
       "  <tbody>\n",
       "    <tr>\n",
       "      <th>0</th>\n",
       "      <td>B10</td>\n",
       "      <td>서울특별시교육청</td>\n",
       "      <td>7010057</td>\n",
       "      <td>가락고등학교</td>\n",
       "      <td>Garak High School</td>\n",
       "      <td>고등학교</td>\n",
       "      <td>서울특별시</td>\n",
       "      <td>송파구</td>\n",
       "      <td>서울특별시교육청</td>\n",
       "      <td>공립</td>\n",
       "      <td>...</td>\n",
       "      <td>일반고</td>\n",
       "      <td>N</td>\n",
       "      <td>일반계</td>\n",
       "      <td>NaN</td>\n",
       "      <td>후기</td>\n",
       "      <td>주간</td>\n",
       "      <td>19881223</td>\n",
       "      <td>19890428</td>\n",
       "      <td>37.501076</td>\n",
       "      <td>127.116426</td>\n",
       "    </tr>\n",
       "    <tr>\n",
       "      <th>1</th>\n",
       "      <td>B10</td>\n",
       "      <td>서울특별시교육청</td>\n",
       "      <td>7011169</td>\n",
       "      <td>가재울고등학교</td>\n",
       "      <td>Gajaeul High School</td>\n",
       "      <td>고등학교</td>\n",
       "      <td>서울특별시</td>\n",
       "      <td>서대문구</td>\n",
       "      <td>서울특별시교육청</td>\n",
       "      <td>공립</td>\n",
       "      <td>...</td>\n",
       "      <td>일반고</td>\n",
       "      <td>N</td>\n",
       "      <td>일반계</td>\n",
       "      <td>NaN</td>\n",
       "      <td>후기</td>\n",
       "      <td>주간</td>\n",
       "      <td>20130301</td>\n",
       "      <td>20130501</td>\n",
       "      <td>37.574364</td>\n",
       "      <td>126.909530</td>\n",
       "    </tr>\n",
       "    <tr>\n",
       "      <th>2</th>\n",
       "      <td>B10</td>\n",
       "      <td>서울특별시교육청</td>\n",
       "      <td>7010117</td>\n",
       "      <td>강동고등학교</td>\n",
       "      <td>Kangdong High School</td>\n",
       "      <td>고등학교</td>\n",
       "      <td>서울특별시</td>\n",
       "      <td>강동구</td>\n",
       "      <td>서울특별시교육청</td>\n",
       "      <td>사립</td>\n",
       "      <td>...</td>\n",
       "      <td>일반고</td>\n",
       "      <td>N</td>\n",
       "      <td>일반계</td>\n",
       "      <td>NaN</td>\n",
       "      <td>후기</td>\n",
       "      <td>주간</td>\n",
       "      <td>19841217</td>\n",
       "      <td>19850908</td>\n",
       "      <td>37.549917</td>\n",
       "      <td>127.160668</td>\n",
       "    </tr>\n",
       "    <tr>\n",
       "      <th>3</th>\n",
       "      <td>B10</td>\n",
       "      <td>서울특별시교육청</td>\n",
       "      <td>7010118</td>\n",
       "      <td>강서고등학교</td>\n",
       "      <td>Gangseo High School</td>\n",
       "      <td>고등학교</td>\n",
       "      <td>서울특별시</td>\n",
       "      <td>양천구</td>\n",
       "      <td>서울특별시교육청</td>\n",
       "      <td>사립</td>\n",
       "      <td>...</td>\n",
       "      <td>일반고</td>\n",
       "      <td>N</td>\n",
       "      <td>일반계</td>\n",
       "      <td>NaN</td>\n",
       "      <td>후기</td>\n",
       "      <td>주간</td>\n",
       "      <td>19831101</td>\n",
       "      <td>19831101</td>\n",
       "      <td>37.536316</td>\n",
       "      <td>126.865771</td>\n",
       "    </tr>\n",
       "    <tr>\n",
       "      <th>4</th>\n",
       "      <td>B10</td>\n",
       "      <td>서울특별시교육청</td>\n",
       "      <td>7010270</td>\n",
       "      <td>강서공업고등학교</td>\n",
       "      <td>Gangseo Technical High School</td>\n",
       "      <td>고등학교</td>\n",
       "      <td>서울특별시</td>\n",
       "      <td>강서구</td>\n",
       "      <td>서울특별시교육청</td>\n",
       "      <td>공립</td>\n",
       "      <td>...</td>\n",
       "      <td>특성화고</td>\n",
       "      <td>N</td>\n",
       "      <td>전문계</td>\n",
       "      <td>NaN</td>\n",
       "      <td>전기</td>\n",
       "      <td>주간</td>\n",
       "      <td>19940105</td>\n",
       "      <td>19940105</td>\n",
       "      <td>37.576034</td>\n",
       "      <td>126.816182</td>\n",
       "    </tr>\n",
       "    <tr>\n",
       "      <th>...</th>\n",
       "      <td>...</td>\n",
       "      <td>...</td>\n",
       "      <td>...</td>\n",
       "      <td>...</td>\n",
       "      <td>...</td>\n",
       "      <td>...</td>\n",
       "      <td>...</td>\n",
       "      <td>...</td>\n",
       "      <td>...</td>\n",
       "      <td>...</td>\n",
       "      <td>...</td>\n",
       "      <td>...</td>\n",
       "      <td>...</td>\n",
       "      <td>...</td>\n",
       "      <td>...</td>\n",
       "      <td>...</td>\n",
       "      <td>...</td>\n",
       "      <td>...</td>\n",
       "      <td>...</td>\n",
       "      <td>...</td>\n",
       "      <td>...</td>\n",
       "    </tr>\n",
       "    <tr>\n",
       "      <th>315</th>\n",
       "      <td>B10</td>\n",
       "      <td>서울특별시교육청</td>\n",
       "      <td>7010766</td>\n",
       "      <td>효문고등학교</td>\n",
       "      <td>Hyomun High School</td>\n",
       "      <td>고등학교</td>\n",
       "      <td>서울특별시</td>\n",
       "      <td>도봉구</td>\n",
       "      <td>서울특별시교육청</td>\n",
       "      <td>공립</td>\n",
       "      <td>...</td>\n",
       "      <td>일반고</td>\n",
       "      <td>N</td>\n",
       "      <td>일반계</td>\n",
       "      <td>NaN</td>\n",
       "      <td>후기</td>\n",
       "      <td>주간</td>\n",
       "      <td>20051229</td>\n",
       "      <td>20060605</td>\n",
       "      <td>37.652699</td>\n",
       "      <td>127.018400</td>\n",
       "    </tr>\n",
       "    <tr>\n",
       "      <th>316</th>\n",
       "      <td>B10</td>\n",
       "      <td>서울특별시교육청</td>\n",
       "      <td>7010292</td>\n",
       "      <td>휘경공업고등학교</td>\n",
       "      <td>Hwigyeong Technical High School</td>\n",
       "      <td>고등학교</td>\n",
       "      <td>서울특별시</td>\n",
       "      <td>동대문구</td>\n",
       "      <td>서울특별시교육청</td>\n",
       "      <td>공립</td>\n",
       "      <td>...</td>\n",
       "      <td>특성화고</td>\n",
       "      <td>N</td>\n",
       "      <td>전문계</td>\n",
       "      <td>NaN</td>\n",
       "      <td>전기</td>\n",
       "      <td>주간</td>\n",
       "      <td>19971220</td>\n",
       "      <td>19980702</td>\n",
       "      <td>37.585153</td>\n",
       "      <td>127.069451</td>\n",
       "    </tr>\n",
       "    <tr>\n",
       "      <th>317</th>\n",
       "      <td>B10</td>\n",
       "      <td>서울특별시교육청</td>\n",
       "      <td>7010267</td>\n",
       "      <td>휘경여자고등학교</td>\n",
       "      <td>Hwikyung Girls` High School</td>\n",
       "      <td>고등학교</td>\n",
       "      <td>서울특별시</td>\n",
       "      <td>동대문구</td>\n",
       "      <td>서울특별시교육청</td>\n",
       "      <td>사립</td>\n",
       "      <td>...</td>\n",
       "      <td>일반고</td>\n",
       "      <td>N</td>\n",
       "      <td>일반계</td>\n",
       "      <td>NaN</td>\n",
       "      <td>후기</td>\n",
       "      <td>주간</td>\n",
       "      <td>19750303</td>\n",
       "      <td>19750519</td>\n",
       "      <td>37.581901</td>\n",
       "      <td>127.067434</td>\n",
       "    </tr>\n",
       "    <tr>\n",
       "      <th>318</th>\n",
       "      <td>B10</td>\n",
       "      <td>서울특별시교육청</td>\n",
       "      <td>7010268</td>\n",
       "      <td>휘문고등학교</td>\n",
       "      <td>Whimoon High School</td>\n",
       "      <td>고등학교</td>\n",
       "      <td>서울특별시</td>\n",
       "      <td>강남구</td>\n",
       "      <td>서울특별시교육청</td>\n",
       "      <td>사립</td>\n",
       "      <td>...</td>\n",
       "      <td>자율고</td>\n",
       "      <td>N</td>\n",
       "      <td>일반계</td>\n",
       "      <td>NaN</td>\n",
       "      <td>전기</td>\n",
       "      <td>주간</td>\n",
       "      <td>19060501</td>\n",
       "      <td>19060501</td>\n",
       "      <td>37.505289</td>\n",
       "      <td>127.061994</td>\n",
       "    </tr>\n",
       "    <tr>\n",
       "      <th>319</th>\n",
       "      <td>B10</td>\n",
       "      <td>서울특별시교육청</td>\n",
       "      <td>7011113</td>\n",
       "      <td>휘봉고등학교</td>\n",
       "      <td>HWIBONG High School</td>\n",
       "      <td>고등학교</td>\n",
       "      <td>서울특별시</td>\n",
       "      <td>동대문구</td>\n",
       "      <td>서울특별시교육청</td>\n",
       "      <td>공립</td>\n",
       "      <td>...</td>\n",
       "      <td>일반고</td>\n",
       "      <td>N</td>\n",
       "      <td>일반계</td>\n",
       "      <td>NaN</td>\n",
       "      <td>후기</td>\n",
       "      <td>주간</td>\n",
       "      <td>20120106</td>\n",
       "      <td>20120501</td>\n",
       "      <td>37.586372</td>\n",
       "      <td>127.068941</td>\n",
       "    </tr>\n",
       "  </tbody>\n",
       "</table>\n",
       "<p>320 rows × 27 columns</p>\n",
       "</div>"
      ],
      "text/plain": [
       "    시도교육청코드    시도교육청명   표준학교코드       학교명                            영문학교명  \\\n",
       "0       B10  서울특별시교육청  7010057    가락고등학교                Garak High School   \n",
       "1       B10  서울특별시교육청  7011169   가재울고등학교              Gajaeul High School   \n",
       "2       B10  서울특별시교육청  7010117    강동고등학교             Kangdong High School   \n",
       "3       B10  서울특별시교육청  7010118    강서고등학교              Gangseo High School   \n",
       "4       B10  서울특별시교육청  7010270  강서공업고등학교    Gangseo Technical High School   \n",
       "..      ...       ...      ...       ...                              ...   \n",
       "315     B10  서울특별시교육청  7010766    효문고등학교               Hyomun High School   \n",
       "316     B10  서울특별시교육청  7010292  휘경공업고등학교  Hwigyeong Technical High School   \n",
       "317     B10  서울특별시교육청  7010267  휘경여자고등학교      Hwikyung Girls` High School   \n",
       "318     B10  서울특별시교육청  7010268    휘문고등학교              Whimoon High School   \n",
       "319     B10  서울특별시교육청  7011113    휘봉고등학교              HWIBONG High School   \n",
       "\n",
       "    학교종류명   소재지명   시군구     관할조직명 설립명  ...  고등학교구분명 산업체특별학급존재여부 고등학교일반실업구분명  \\\n",
       "0    고등학교  서울특별시   송파구  서울특별시교육청  공립  ...      일반고           N         일반계   \n",
       "1    고등학교  서울특별시  서대문구  서울특별시교육청  공립  ...      일반고           N         일반계   \n",
       "2    고등학교  서울특별시   강동구  서울특별시교육청  사립  ...      일반고           N         일반계   \n",
       "3    고등학교  서울특별시   양천구  서울특별시교육청  사립  ...      일반고           N         일반계   \n",
       "4    고등학교  서울특별시   강서구  서울특별시교육청  공립  ...     특성화고           N         전문계   \n",
       "..    ...    ...   ...       ...  ..  ...      ...         ...         ...   \n",
       "315  고등학교  서울특별시   도봉구  서울특별시교육청  공립  ...      일반고           N         일반계   \n",
       "316  고등학교  서울특별시  동대문구  서울특별시교육청  공립  ...     특성화고           N         전문계   \n",
       "317  고등학교  서울특별시  동대문구  서울특별시교육청  사립  ...      일반고           N         일반계   \n",
       "318  고등학교  서울특별시   강남구  서울특별시교육청  사립  ...      자율고           N         일반계   \n",
       "319  고등학교  서울특별시  동대문구  서울특별시교육청  공립  ...      일반고           N         일반계   \n",
       "\n",
       "    특수목적고등학교계열명 입시전후기구분명 주야구분명      설립일자     개교기념일         위도          경도  \n",
       "0           NaN       후기    주간  19881223  19890428  37.501076  127.116426  \n",
       "1           NaN       후기    주간  20130301  20130501  37.574364  126.909530  \n",
       "2           NaN       후기    주간  19841217  19850908  37.549917  127.160668  \n",
       "3           NaN       후기    주간  19831101  19831101  37.536316  126.865771  \n",
       "4           NaN       전기    주간  19940105  19940105  37.576034  126.816182  \n",
       "..          ...      ...   ...       ...       ...        ...         ...  \n",
       "315         NaN       후기    주간  20051229  20060605  37.652699  127.018400  \n",
       "316         NaN       전기    주간  19971220  19980702  37.585153  127.069451  \n",
       "317         NaN       후기    주간  19750303  19750519  37.581901  127.067434  \n",
       "318         NaN       전기    주간  19060501  19060501  37.505289  127.061994  \n",
       "319         NaN       후기    주간  20120106  20120501  37.586372  127.068941  \n",
       "\n",
       "[320 rows x 27 columns]"
      ]
     },
     "execution_count": 46,
     "metadata": {},
     "output_type": "execute_result"
    }
   ],
   "source": [
    "school_info = pd.read_csv(data_path + \"DB_서울특별시_고등학교_정보.csv\",index_col=0)\n",
    "school_info"
   ]
  },
  {
   "cell_type": "code",
   "execution_count": 47,
   "id": "01a4072d-9ca9-468f-a7ca-4bd3bfbd774e",
   "metadata": {
    "execution": {
     "iopub.execute_input": "2023-02-05T05:19:42.359449Z",
     "iopub.status.busy": "2023-02-05T05:19:42.358451Z",
     "iopub.status.idle": "2023-02-05T05:19:42.414069Z",
     "shell.execute_reply": "2023-02-05T05:19:42.411973Z",
     "shell.execute_reply.started": "2023-02-05T05:19:42.359449Z"
    },
    "tags": []
   },
   "outputs": [
    {
     "data": {
      "text/html": [
       "<div>\n",
       "<style scoped>\n",
       "    .dataframe tbody tr th:only-of-type {\n",
       "        vertical-align: middle;\n",
       "    }\n",
       "\n",
       "    .dataframe tbody tr th {\n",
       "        vertical-align: top;\n",
       "    }\n",
       "\n",
       "    .dataframe thead th {\n",
       "        text-align: right;\n",
       "    }\n",
       "</style>\n",
       "<table border=\"1\" class=\"dataframe\">\n",
       "  <thead>\n",
       "    <tr style=\"text-align: right;\">\n",
       "      <th></th>\n",
       "      <th>학교명</th>\n",
       "      <th>시군구</th>\n",
       "      <th>환경지표_score</th>\n",
       "      <th>위해지표_score</th>\n",
       "      <th>경감지표_score</th>\n",
       "      <th>total_score</th>\n",
       "      <th>종합_위험도</th>\n",
       "    </tr>\n",
       "  </thead>\n",
       "  <tbody>\n",
       "    <tr>\n",
       "      <th>0</th>\n",
       "      <td>가락고등학교</td>\n",
       "      <td>송파구</td>\n",
       "      <td>48.715229</td>\n",
       "      <td>20</td>\n",
       "      <td>-20</td>\n",
       "      <td>22.009758</td>\n",
       "      <td>안전</td>\n",
       "    </tr>\n",
       "    <tr>\n",
       "      <th>1</th>\n",
       "      <td>가재울고등학교</td>\n",
       "      <td>서대문구</td>\n",
       "      <td>46.193799</td>\n",
       "      <td>100</td>\n",
       "      <td>-20</td>\n",
       "      <td>41.953421</td>\n",
       "      <td>위험</td>\n",
       "    </tr>\n",
       "    <tr>\n",
       "      <th>2</th>\n",
       "      <td>강동고등학교</td>\n",
       "      <td>강동구</td>\n",
       "      <td>55.148267</td>\n",
       "      <td>60</td>\n",
       "      <td>-20</td>\n",
       "      <td>35.504113</td>\n",
       "      <td>위험</td>\n",
       "    </tr>\n",
       "    <tr>\n",
       "      <th>3</th>\n",
       "      <td>강서고등학교</td>\n",
       "      <td>양천구</td>\n",
       "      <td>65.103834</td>\n",
       "      <td>100</td>\n",
       "      <td>-100</td>\n",
       "      <td>28.336670</td>\n",
       "      <td>보통</td>\n",
       "    </tr>\n",
       "    <tr>\n",
       "      <th>4</th>\n",
       "      <td>강서공업고등학교</td>\n",
       "      <td>강서구</td>\n",
       "      <td>77.831186</td>\n",
       "      <td>40</td>\n",
       "      <td>-40</td>\n",
       "      <td>35.046146</td>\n",
       "      <td>보통</td>\n",
       "    </tr>\n",
       "    <tr>\n",
       "      <th>...</th>\n",
       "      <td>...</td>\n",
       "      <td>...</td>\n",
       "      <td>...</td>\n",
       "      <td>...</td>\n",
       "      <td>...</td>\n",
       "      <td>...</td>\n",
       "      <td>...</td>\n",
       "    </tr>\n",
       "    <tr>\n",
       "      <th>315</th>\n",
       "      <td>효문고등학교</td>\n",
       "      <td>도봉구</td>\n",
       "      <td>89.946627</td>\n",
       "      <td>40</td>\n",
       "      <td>-20</td>\n",
       "      <td>46.161744</td>\n",
       "      <td>매우위험</td>\n",
       "    </tr>\n",
       "    <tr>\n",
       "      <th>316</th>\n",
       "      <td>휘경공업고등학교</td>\n",
       "      <td>동대문구</td>\n",
       "      <td>58.574818</td>\n",
       "      <td>40</td>\n",
       "      <td>-40</td>\n",
       "      <td>26.229772</td>\n",
       "      <td>안전</td>\n",
       "    </tr>\n",
       "    <tr>\n",
       "      <th>317</th>\n",
       "      <td>휘경여자고등학교</td>\n",
       "      <td>동대문구</td>\n",
       "      <td>58.574818</td>\n",
       "      <td>100</td>\n",
       "      <td>-40</td>\n",
       "      <td>42.053332</td>\n",
       "      <td>위험</td>\n",
       "    </tr>\n",
       "    <tr>\n",
       "      <th>318</th>\n",
       "      <td>휘문고등학교</td>\n",
       "      <td>강남구</td>\n",
       "      <td>19.071217</td>\n",
       "      <td>40</td>\n",
       "      <td>-60</td>\n",
       "      <td>2.574724</td>\n",
       "      <td>매우안전</td>\n",
       "    </tr>\n",
       "    <tr>\n",
       "      <th>319</th>\n",
       "      <td>휘봉고등학교</td>\n",
       "      <td>동대문구</td>\n",
       "      <td>58.574818</td>\n",
       "      <td>0</td>\n",
       "      <td>-40</td>\n",
       "      <td>15.680732</td>\n",
       "      <td>매우안전</td>\n",
       "    </tr>\n",
       "  </tbody>\n",
       "</table>\n",
       "<p>320 rows × 7 columns</p>\n",
       "</div>"
      ],
      "text/plain": [
       "          학교명   시군구  환경지표_score  위해지표_score  경감지표_score  total_score 종합_위험도\n",
       "0      가락고등학교   송파구   48.715229          20         -20    22.009758     안전\n",
       "1     가재울고등학교  서대문구   46.193799         100         -20    41.953421     위험\n",
       "2      강동고등학교   강동구   55.148267          60         -20    35.504113     위험\n",
       "3      강서고등학교   양천구   65.103834         100        -100    28.336670     보통\n",
       "4    강서공업고등학교   강서구   77.831186          40         -40    35.046146     보통\n",
       "..        ...   ...         ...         ...         ...          ...    ...\n",
       "315    효문고등학교   도봉구   89.946627          40         -20    46.161744   매우위험\n",
       "316  휘경공업고등학교  동대문구   58.574818          40         -40    26.229772     안전\n",
       "317  휘경여자고등학교  동대문구   58.574818         100         -40    42.053332     위험\n",
       "318    휘문고등학교   강남구   19.071217          40         -60     2.574724   매우안전\n",
       "319    휘봉고등학교  동대문구   58.574818           0         -40    15.680732   매우안전\n",
       "\n",
       "[320 rows x 7 columns]"
      ]
     },
     "execution_count": 47,
     "metadata": {},
     "output_type": "execute_result"
    }
   ],
   "source": [
    "school_violence_hazard = pd.read_csv(data_path + \"DB_서울특별시_고등학교_학교폭력_종합지표.csv\",index_col=0)\n",
    "school_violence_hazard"
   ]
  },
  {
   "cell_type": "code",
   "execution_count": 48,
   "id": "06dc0777-ea2c-4367-ab36-37623ce84a0b",
   "metadata": {
    "execution": {
     "iopub.execute_input": "2023-02-05T05:19:44.277461Z",
     "iopub.status.busy": "2023-02-05T05:19:44.275073Z",
     "iopub.status.idle": "2023-02-05T05:19:44.357701Z",
     "shell.execute_reply": "2023-02-05T05:19:44.355076Z",
     "shell.execute_reply.started": "2023-02-05T05:19:44.277461Z"
    },
    "tags": []
   },
   "outputs": [
    {
     "data": {
      "text/html": [
       "<div>\n",
       "<style scoped>\n",
       "    .dataframe tbody tr th:only-of-type {\n",
       "        vertical-align: middle;\n",
       "    }\n",
       "\n",
       "    .dataframe tbody tr th {\n",
       "        vertical-align: top;\n",
       "    }\n",
       "\n",
       "    .dataframe thead th {\n",
       "        text-align: right;\n",
       "    }\n",
       "</style>\n",
       "<table border=\"1\" class=\"dataframe\">\n",
       "  <thead>\n",
       "    <tr style=\"text-align: right;\">\n",
       "      <th></th>\n",
       "      <th>학교명</th>\n",
       "      <th>시군구</th>\n",
       "      <th>total_score</th>\n",
       "      <th>종합_위험도</th>\n",
       "      <th>위도</th>\n",
       "      <th>경도</th>\n",
       "    </tr>\n",
       "  </thead>\n",
       "  <tbody>\n",
       "    <tr>\n",
       "      <th>0</th>\n",
       "      <td>가락고등학교</td>\n",
       "      <td>송파구</td>\n",
       "      <td>22.009758</td>\n",
       "      <td>안전</td>\n",
       "      <td>37.501076</td>\n",
       "      <td>127.116426</td>\n",
       "    </tr>\n",
       "    <tr>\n",
       "      <th>1</th>\n",
       "      <td>가재울고등학교</td>\n",
       "      <td>서대문구</td>\n",
       "      <td>41.953421</td>\n",
       "      <td>위험</td>\n",
       "      <td>37.574364</td>\n",
       "      <td>126.909530</td>\n",
       "    </tr>\n",
       "    <tr>\n",
       "      <th>2</th>\n",
       "      <td>강동고등학교</td>\n",
       "      <td>강동구</td>\n",
       "      <td>35.504113</td>\n",
       "      <td>위험</td>\n",
       "      <td>37.549917</td>\n",
       "      <td>127.160668</td>\n",
       "    </tr>\n",
       "    <tr>\n",
       "      <th>3</th>\n",
       "      <td>강서고등학교</td>\n",
       "      <td>양천구</td>\n",
       "      <td>28.336670</td>\n",
       "      <td>보통</td>\n",
       "      <td>37.536316</td>\n",
       "      <td>126.865771</td>\n",
       "    </tr>\n",
       "    <tr>\n",
       "      <th>4</th>\n",
       "      <td>강서공업고등학교</td>\n",
       "      <td>강서구</td>\n",
       "      <td>35.046146</td>\n",
       "      <td>보통</td>\n",
       "      <td>37.576034</td>\n",
       "      <td>126.816182</td>\n",
       "    </tr>\n",
       "    <tr>\n",
       "      <th>...</th>\n",
       "      <td>...</td>\n",
       "      <td>...</td>\n",
       "      <td>...</td>\n",
       "      <td>...</td>\n",
       "      <td>...</td>\n",
       "      <td>...</td>\n",
       "    </tr>\n",
       "    <tr>\n",
       "      <th>315</th>\n",
       "      <td>효문고등학교</td>\n",
       "      <td>도봉구</td>\n",
       "      <td>46.161744</td>\n",
       "      <td>매우위험</td>\n",
       "      <td>37.652699</td>\n",
       "      <td>127.018400</td>\n",
       "    </tr>\n",
       "    <tr>\n",
       "      <th>316</th>\n",
       "      <td>휘경공업고등학교</td>\n",
       "      <td>동대문구</td>\n",
       "      <td>26.229772</td>\n",
       "      <td>안전</td>\n",
       "      <td>37.585153</td>\n",
       "      <td>127.069451</td>\n",
       "    </tr>\n",
       "    <tr>\n",
       "      <th>317</th>\n",
       "      <td>휘경여자고등학교</td>\n",
       "      <td>동대문구</td>\n",
       "      <td>42.053332</td>\n",
       "      <td>위험</td>\n",
       "      <td>37.581901</td>\n",
       "      <td>127.067434</td>\n",
       "    </tr>\n",
       "    <tr>\n",
       "      <th>318</th>\n",
       "      <td>휘문고등학교</td>\n",
       "      <td>강남구</td>\n",
       "      <td>2.574724</td>\n",
       "      <td>매우안전</td>\n",
       "      <td>37.505289</td>\n",
       "      <td>127.061994</td>\n",
       "    </tr>\n",
       "    <tr>\n",
       "      <th>319</th>\n",
       "      <td>휘봉고등학교</td>\n",
       "      <td>동대문구</td>\n",
       "      <td>15.680732</td>\n",
       "      <td>매우안전</td>\n",
       "      <td>37.586372</td>\n",
       "      <td>127.068941</td>\n",
       "    </tr>\n",
       "  </tbody>\n",
       "</table>\n",
       "<p>320 rows × 6 columns</p>\n",
       "</div>"
      ],
      "text/plain": [
       "          학교명   시군구  total_score 종합_위험도         위도          경도\n",
       "0      가락고등학교   송파구    22.009758     안전  37.501076  127.116426\n",
       "1     가재울고등학교  서대문구    41.953421     위험  37.574364  126.909530\n",
       "2      강동고등학교   강동구    35.504113     위험  37.549917  127.160668\n",
       "3      강서고등학교   양천구    28.336670     보통  37.536316  126.865771\n",
       "4    강서공업고등학교   강서구    35.046146     보통  37.576034  126.816182\n",
       "..        ...   ...          ...    ...        ...         ...\n",
       "315    효문고등학교   도봉구    46.161744   매우위험  37.652699  127.018400\n",
       "316  휘경공업고등학교  동대문구    26.229772     안전  37.585153  127.069451\n",
       "317  휘경여자고등학교  동대문구    42.053332     위험  37.581901  127.067434\n",
       "318    휘문고등학교   강남구     2.574724   매우안전  37.505289  127.061994\n",
       "319    휘봉고등학교  동대문구    15.680732   매우안전  37.586372  127.068941\n",
       "\n",
       "[320 rows x 6 columns]"
      ]
     },
     "execution_count": 48,
     "metadata": {},
     "output_type": "execute_result"
    }
   ],
   "source": [
    "school_map = pd.merge(school_info, school_violence_hazard, on=['학교명','시군구'], how='outer', sort=True)\n",
    "school_map = school_map[['학교명','시군구','total_score','종합_위험도','위도','경도']]\n",
    "school_map"
   ]
  },
  {
   "cell_type": "markdown",
   "id": "3ea865ac-b6d2-4996-8aab-61ede03050a1",
   "metadata": {},
   "source": [
    "<!-- count    320.000000\n",
    "mean      30.521733\n",
    "std       16.343069\n",
    "min      -19.111596\n",
    "20%       16.572482\n",
    "40%       26.401918\n",
    "50%       30.134691\n",
    "60%       35.089207\n",
    "80%       44.139709\n",
    "max       69.046744\n",
    "Name: total_score, dtype: float64 -->\n",
    "\n",
    "#### def group(score):\n",
    "    if score>44.139709: return '매우위험'\n",
    "    elif score>35.089207: return '위험'\n",
    "    elif score>26.401918: return '보통'\n",
    "    elif score>16.572482: return '안전'\n",
    "    else: return '매우안전'"
   ]
  },
  {
   "cell_type": "code",
   "execution_count": 49,
   "id": "ea1812d9-00cf-4cbc-9d10-5fa3e0094958",
   "metadata": {
    "execution": {
     "iopub.execute_input": "2023-02-05T05:19:47.047611Z",
     "iopub.status.busy": "2023-02-05T05:19:47.047611Z",
     "iopub.status.idle": "2023-02-05T05:19:47.200132Z",
     "shell.execute_reply": "2023-02-05T05:19:47.197939Z",
     "shell.execute_reply.started": "2023-02-05T05:19:47.047611Z"
    },
    "scrolled": true,
    "tags": []
   },
   "outputs": [
    {
     "data": {
      "text/html": [
       "<div>\n",
       "<style scoped>\n",
       "    .dataframe tbody tr th:only-of-type {\n",
       "        vertical-align: middle;\n",
       "    }\n",
       "\n",
       "    .dataframe tbody tr th {\n",
       "        vertical-align: top;\n",
       "    }\n",
       "\n",
       "    .dataframe thead th {\n",
       "        text-align: right;\n",
       "    }\n",
       "</style>\n",
       "<table border=\"1\" class=\"dataframe\">\n",
       "  <thead>\n",
       "    <tr style=\"text-align: right;\">\n",
       "      <th></th>\n",
       "      <th>학교명</th>\n",
       "      <th>시군구</th>\n",
       "      <th>total_score</th>\n",
       "      <th>종합_위험도</th>\n",
       "      <th>위도</th>\n",
       "      <th>경도</th>\n",
       "    </tr>\n",
       "  </thead>\n",
       "  <tbody>\n",
       "    <tr>\n",
       "      <th>15</th>\n",
       "      <td>경복비즈니스고등학교</td>\n",
       "      <td>강서구</td>\n",
       "      <td>50.869706</td>\n",
       "      <td>매우위험</td>\n",
       "      <td>37.558097</td>\n",
       "      <td>126.852670</td>\n",
       "    </tr>\n",
       "    <tr>\n",
       "      <th>16</th>\n",
       "      <td>경복여자고등학교</td>\n",
       "      <td>강서구</td>\n",
       "      <td>50.869706</td>\n",
       "      <td>매우위험</td>\n",
       "      <td>37.557822</td>\n",
       "      <td>126.850596</td>\n",
       "    </tr>\n",
       "    <tr>\n",
       "      <th>19</th>\n",
       "      <td>경인고등학교</td>\n",
       "      <td>구로구</td>\n",
       "      <td>53.298041</td>\n",
       "      <td>매우위험</td>\n",
       "      <td>37.495993</td>\n",
       "      <td>126.865429</td>\n",
       "    </tr>\n",
       "    <tr>\n",
       "      <th>30</th>\n",
       "      <td>광문고등학교</td>\n",
       "      <td>강동구</td>\n",
       "      <td>46.053153</td>\n",
       "      <td>매우위험</td>\n",
       "      <td>37.560462</td>\n",
       "      <td>127.158546</td>\n",
       "    </tr>\n",
       "    <tr>\n",
       "      <th>32</th>\n",
       "      <td>광신고등학교</td>\n",
       "      <td>관악구</td>\n",
       "      <td>56.454941</td>\n",
       "      <td>매우위험</td>\n",
       "      <td>37.464476</td>\n",
       "      <td>126.925941</td>\n",
       "    </tr>\n",
       "    <tr>\n",
       "      <th>...</th>\n",
       "      <td>...</td>\n",
       "      <td>...</td>\n",
       "      <td>...</td>\n",
       "      <td>...</td>\n",
       "      <td>...</td>\n",
       "      <td>...</td>\n",
       "    </tr>\n",
       "    <tr>\n",
       "      <th>306</th>\n",
       "      <td>혜성여자고등학교</td>\n",
       "      <td>노원구</td>\n",
       "      <td>49.036589</td>\n",
       "      <td>매우위험</td>\n",
       "      <td>37.640550</td>\n",
       "      <td>127.073620</td>\n",
       "    </tr>\n",
       "    <tr>\n",
       "      <th>307</th>\n",
       "      <td>혜원여자고등학교</td>\n",
       "      <td>중랑구</td>\n",
       "      <td>49.581670</td>\n",
       "      <td>매우위험</td>\n",
       "      <td>37.593280</td>\n",
       "      <td>127.097043</td>\n",
       "    </tr>\n",
       "    <tr>\n",
       "      <th>308</th>\n",
       "      <td>혜화여자고등학교</td>\n",
       "      <td>강북구</td>\n",
       "      <td>63.478104</td>\n",
       "      <td>매우위험</td>\n",
       "      <td>37.631308</td>\n",
       "      <td>127.013212</td>\n",
       "    </tr>\n",
       "    <tr>\n",
       "      <th>312</th>\n",
       "      <td>화곡고등학교</td>\n",
       "      <td>강서구</td>\n",
       "      <td>50.869706</td>\n",
       "      <td>매우위험</td>\n",
       "      <td>37.547936</td>\n",
       "      <td>126.831536</td>\n",
       "    </tr>\n",
       "    <tr>\n",
       "      <th>315</th>\n",
       "      <td>효문고등학교</td>\n",
       "      <td>도봉구</td>\n",
       "      <td>46.161744</td>\n",
       "      <td>매우위험</td>\n",
       "      <td>37.652699</td>\n",
       "      <td>127.018400</td>\n",
       "    </tr>\n",
       "  </tbody>\n",
       "</table>\n",
       "<p>64 rows × 6 columns</p>\n",
       "</div>"
      ],
      "text/plain": [
       "            학교명  시군구  total_score 종합_위험도         위도          경도\n",
       "15   경복비즈니스고등학교  강서구    50.869706   매우위험  37.558097  126.852670\n",
       "16     경복여자고등학교  강서구    50.869706   매우위험  37.557822  126.850596\n",
       "19       경인고등학교  구로구    53.298041   매우위험  37.495993  126.865429\n",
       "30       광문고등학교  강동구    46.053153   매우위험  37.560462  127.158546\n",
       "32       광신고등학교  관악구    56.454941   매우위험  37.464476  126.925941\n",
       "..          ...  ...          ...    ...        ...         ...\n",
       "306    혜성여자고등학교  노원구    49.036589   매우위험  37.640550  127.073620\n",
       "307    혜원여자고등학교  중랑구    49.581670   매우위험  37.593280  127.097043\n",
       "308    혜화여자고등학교  강북구    63.478104   매우위험  37.631308  127.013212\n",
       "312      화곡고등학교  강서구    50.869706   매우위험  37.547936  126.831536\n",
       "315      효문고등학교  도봉구    46.161744   매우위험  37.652699  127.018400\n",
       "\n",
       "[64 rows x 6 columns]"
      ]
     },
     "execution_count": 49,
     "metadata": {},
     "output_type": "execute_result"
    },
    {
     "data": {
      "text/html": [
       "<div>\n",
       "<style scoped>\n",
       "    .dataframe tbody tr th:only-of-type {\n",
       "        vertical-align: middle;\n",
       "    }\n",
       "\n",
       "    .dataframe tbody tr th {\n",
       "        vertical-align: top;\n",
       "    }\n",
       "\n",
       "    .dataframe thead th {\n",
       "        text-align: right;\n",
       "    }\n",
       "</style>\n",
       "<table border=\"1\" class=\"dataframe\">\n",
       "  <thead>\n",
       "    <tr style=\"text-align: right;\">\n",
       "      <th></th>\n",
       "      <th>학교명</th>\n",
       "      <th>시군구</th>\n",
       "      <th>total_score</th>\n",
       "      <th>종합_위험도</th>\n",
       "      <th>위도</th>\n",
       "      <th>경도</th>\n",
       "    </tr>\n",
       "  </thead>\n",
       "  <tbody>\n",
       "    <tr>\n",
       "      <th>1</th>\n",
       "      <td>가재울고등학교</td>\n",
       "      <td>서대문구</td>\n",
       "      <td>41.953421</td>\n",
       "      <td>위험</td>\n",
       "      <td>37.574364</td>\n",
       "      <td>126.909530</td>\n",
       "    </tr>\n",
       "    <tr>\n",
       "      <th>2</th>\n",
       "      <td>강동고등학교</td>\n",
       "      <td>강동구</td>\n",
       "      <td>35.504113</td>\n",
       "      <td>위험</td>\n",
       "      <td>37.549917</td>\n",
       "      <td>127.160668</td>\n",
       "    </tr>\n",
       "    <tr>\n",
       "      <th>9</th>\n",
       "      <td>경기기계공업고등학교</td>\n",
       "      <td>노원구</td>\n",
       "      <td>38.781669</td>\n",
       "      <td>위험</td>\n",
       "      <td>37.632240</td>\n",
       "      <td>127.074928</td>\n",
       "    </tr>\n",
       "    <tr>\n",
       "      <th>22</th>\n",
       "      <td>경희여자고등학교</td>\n",
       "      <td>동대문구</td>\n",
       "      <td>42.053332</td>\n",
       "      <td>위험</td>\n",
       "      <td>37.593949</td>\n",
       "      <td>127.054891</td>\n",
       "    </tr>\n",
       "    <tr>\n",
       "      <th>23</th>\n",
       "      <td>계성고등학교</td>\n",
       "      <td>성북구</td>\n",
       "      <td>38.343882</td>\n",
       "      <td>위험</td>\n",
       "      <td>37.607494</td>\n",
       "      <td>127.020184</td>\n",
       "    </tr>\n",
       "    <tr>\n",
       "      <th>...</th>\n",
       "      <td>...</td>\n",
       "      <td>...</td>\n",
       "      <td>...</td>\n",
       "      <td>...</td>\n",
       "      <td>...</td>\n",
       "      <td>...</td>\n",
       "    </tr>\n",
       "    <tr>\n",
       "      <th>293</th>\n",
       "      <td>한국삼육고등학교</td>\n",
       "      <td>노원구</td>\n",
       "      <td>38.781669</td>\n",
       "      <td>위험</td>\n",
       "      <td>37.643357</td>\n",
       "      <td>127.108850</td>\n",
       "    </tr>\n",
       "    <tr>\n",
       "      <th>294</th>\n",
       "      <td>한서고등학교</td>\n",
       "      <td>강서구</td>\n",
       "      <td>39.732426</td>\n",
       "      <td>위험</td>\n",
       "      <td>37.574793</td>\n",
       "      <td>126.808144</td>\n",
       "    </tr>\n",
       "    <tr>\n",
       "      <th>309</th>\n",
       "      <td>홍익대학교사범대학부속고등학교</td>\n",
       "      <td>성북구</td>\n",
       "      <td>38.343882</td>\n",
       "      <td>위험</td>\n",
       "      <td>37.593667</td>\n",
       "      <td>127.002805</td>\n",
       "    </tr>\n",
       "    <tr>\n",
       "      <th>311</th>\n",
       "      <td>홍익디자인고등학교</td>\n",
       "      <td>마포구</td>\n",
       "      <td>37.386668</td>\n",
       "      <td>위험</td>\n",
       "      <td>37.563511</td>\n",
       "      <td>126.919166</td>\n",
       "    </tr>\n",
       "    <tr>\n",
       "      <th>317</th>\n",
       "      <td>휘경여자고등학교</td>\n",
       "      <td>동대문구</td>\n",
       "      <td>42.053332</td>\n",
       "      <td>위험</td>\n",
       "      <td>37.581901</td>\n",
       "      <td>127.067434</td>\n",
       "    </tr>\n",
       "  </tbody>\n",
       "</table>\n",
       "<p>64 rows × 6 columns</p>\n",
       "</div>"
      ],
      "text/plain": [
       "                 학교명   시군구  total_score 종합_위험도         위도          경도\n",
       "1            가재울고등학교  서대문구    41.953421     위험  37.574364  126.909530\n",
       "2             강동고등학교   강동구    35.504113     위험  37.549917  127.160668\n",
       "9         경기기계공업고등학교   노원구    38.781669     위험  37.632240  127.074928\n",
       "22          경희여자고등학교  동대문구    42.053332     위험  37.593949  127.054891\n",
       "23            계성고등학교   성북구    38.343882     위험  37.607494  127.020184\n",
       "..               ...   ...          ...    ...        ...         ...\n",
       "293         한국삼육고등학교   노원구    38.781669     위험  37.643357  127.108850\n",
       "294           한서고등학교   강서구    39.732426     위험  37.574793  126.808144\n",
       "309  홍익대학교사범대학부속고등학교   성북구    38.343882     위험  37.593667  127.002805\n",
       "311        홍익디자인고등학교   마포구    37.386668     위험  37.563511  126.919166\n",
       "317         휘경여자고등학교  동대문구    42.053332     위험  37.581901  127.067434\n",
       "\n",
       "[64 rows x 6 columns]"
      ]
     },
     "execution_count": 49,
     "metadata": {},
     "output_type": "execute_result"
    },
    {
     "data": {
      "text/html": [
       "<div>\n",
       "<style scoped>\n",
       "    .dataframe tbody tr th:only-of-type {\n",
       "        vertical-align: middle;\n",
       "    }\n",
       "\n",
       "    .dataframe tbody tr th {\n",
       "        vertical-align: top;\n",
       "    }\n",
       "\n",
       "    .dataframe thead th {\n",
       "        text-align: right;\n",
       "    }\n",
       "</style>\n",
       "<table border=\"1\" class=\"dataframe\">\n",
       "  <thead>\n",
       "    <tr style=\"text-align: right;\">\n",
       "      <th></th>\n",
       "      <th>학교명</th>\n",
       "      <th>시군구</th>\n",
       "      <th>total_score</th>\n",
       "      <th>종합_위험도</th>\n",
       "      <th>위도</th>\n",
       "      <th>경도</th>\n",
       "    </tr>\n",
       "  </thead>\n",
       "  <tbody>\n",
       "    <tr>\n",
       "      <th>3</th>\n",
       "      <td>강서고등학교</td>\n",
       "      <td>양천구</td>\n",
       "      <td>28.336670</td>\n",
       "      <td>보통</td>\n",
       "      <td>37.536316</td>\n",
       "      <td>126.865771</td>\n",
       "    </tr>\n",
       "    <tr>\n",
       "      <th>4</th>\n",
       "      <td>강서공업고등학교</td>\n",
       "      <td>강서구</td>\n",
       "      <td>35.046146</td>\n",
       "      <td>보통</td>\n",
       "      <td>37.576034</td>\n",
       "      <td>126.816182</td>\n",
       "    </tr>\n",
       "    <tr>\n",
       "      <th>5</th>\n",
       "      <td>강일고등학교</td>\n",
       "      <td>강동구</td>\n",
       "      <td>29.347233</td>\n",
       "      <td>보통</td>\n",
       "      <td>37.563828</td>\n",
       "      <td>127.177903</td>\n",
       "    </tr>\n",
       "    <tr>\n",
       "      <th>12</th>\n",
       "      <td>경동고등학교</td>\n",
       "      <td>성북구</td>\n",
       "      <td>27.206602</td>\n",
       "      <td>보통</td>\n",
       "      <td>37.586601</td>\n",
       "      <td>127.016032</td>\n",
       "    </tr>\n",
       "    <tr>\n",
       "      <th>13</th>\n",
       "      <td>경문고등학교</td>\n",
       "      <td>동작구</td>\n",
       "      <td>28.554812</td>\n",
       "      <td>보통</td>\n",
       "      <td>37.493419</td>\n",
       "      <td>126.982273</td>\n",
       "    </tr>\n",
       "    <tr>\n",
       "      <th>...</th>\n",
       "      <td>...</td>\n",
       "      <td>...</td>\n",
       "      <td>...</td>\n",
       "      <td>...</td>\n",
       "      <td>...</td>\n",
       "      <td>...</td>\n",
       "    </tr>\n",
       "    <tr>\n",
       "      <th>279</th>\n",
       "      <td>창덕여자고등학교</td>\n",
       "      <td>송파구</td>\n",
       "      <td>32.558798</td>\n",
       "      <td>보통</td>\n",
       "      <td>37.516244</td>\n",
       "      <td>127.140274</td>\n",
       "    </tr>\n",
       "    <tr>\n",
       "      <th>284</th>\n",
       "      <td>청원고등학교</td>\n",
       "      <td>노원구</td>\n",
       "      <td>33.213029</td>\n",
       "      <td>보통</td>\n",
       "      <td>37.665252</td>\n",
       "      <td>127.062533</td>\n",
       "    </tr>\n",
       "    <tr>\n",
       "      <th>291</th>\n",
       "      <td>한강미디어고등학교</td>\n",
       "      <td>영등포구</td>\n",
       "      <td>32.433677</td>\n",
       "      <td>보통</td>\n",
       "      <td>37.539301</td>\n",
       "      <td>126.897109</td>\n",
       "    </tr>\n",
       "    <tr>\n",
       "      <th>297</th>\n",
       "      <td>한성여자고등학교</td>\n",
       "      <td>성북구</td>\n",
       "      <td>27.206602</td>\n",
       "      <td>보통</td>\n",
       "      <td>37.583065</td>\n",
       "      <td>127.011743</td>\n",
       "    </tr>\n",
       "    <tr>\n",
       "      <th>313</th>\n",
       "      <td>화곡보건경영고등학교</td>\n",
       "      <td>강서구</td>\n",
       "      <td>35.046146</td>\n",
       "      <td>보통</td>\n",
       "      <td>37.548406</td>\n",
       "      <td>126.832657</td>\n",
       "    </tr>\n",
       "  </tbody>\n",
       "</table>\n",
       "<p>68 rows × 6 columns</p>\n",
       "</div>"
      ],
      "text/plain": [
       "            학교명   시군구  total_score 종합_위험도         위도          경도\n",
       "3        강서고등학교   양천구    28.336670     보통  37.536316  126.865771\n",
       "4      강서공업고등학교   강서구    35.046146     보통  37.576034  126.816182\n",
       "5        강일고등학교   강동구    29.347233     보통  37.563828  127.177903\n",
       "12       경동고등학교   성북구    27.206602     보통  37.586601  127.016032\n",
       "13       경문고등학교   동작구    28.554812     보통  37.493419  126.982273\n",
       "..          ...   ...          ...    ...        ...         ...\n",
       "279    창덕여자고등학교   송파구    32.558798     보통  37.516244  127.140274\n",
       "284      청원고등학교   노원구    33.213029     보통  37.665252  127.062533\n",
       "291   한강미디어고등학교  영등포구    32.433677     보통  37.539301  126.897109\n",
       "297    한성여자고등학교   성북구    27.206602     보통  37.583065  127.011743\n",
       "313  화곡보건경영고등학교   강서구    35.046146     보통  37.548406  126.832657\n",
       "\n",
       "[68 rows x 6 columns]"
      ]
     },
     "execution_count": 49,
     "metadata": {},
     "output_type": "execute_result"
    },
    {
     "data": {
      "text/html": [
       "<div>\n",
       "<style scoped>\n",
       "    .dataframe tbody tr th:only-of-type {\n",
       "        vertical-align: middle;\n",
       "    }\n",
       "\n",
       "    .dataframe tbody tr th {\n",
       "        vertical-align: top;\n",
       "    }\n",
       "\n",
       "    .dataframe thead th {\n",
       "        text-align: right;\n",
       "    }\n",
       "</style>\n",
       "<table border=\"1\" class=\"dataframe\">\n",
       "  <thead>\n",
       "    <tr style=\"text-align: right;\">\n",
       "      <th></th>\n",
       "      <th>학교명</th>\n",
       "      <th>시군구</th>\n",
       "      <th>total_score</th>\n",
       "      <th>종합_위험도</th>\n",
       "      <th>위도</th>\n",
       "      <th>경도</th>\n",
       "    </tr>\n",
       "  </thead>\n",
       "  <tbody>\n",
       "    <tr>\n",
       "      <th>0</th>\n",
       "      <td>가락고등학교</td>\n",
       "      <td>송파구</td>\n",
       "      <td>22.009758</td>\n",
       "      <td>안전</td>\n",
       "      <td>37.501076</td>\n",
       "      <td>127.116426</td>\n",
       "    </tr>\n",
       "    <tr>\n",
       "      <th>10</th>\n",
       "      <td>경기상업고등학교</td>\n",
       "      <td>종로구</td>\n",
       "      <td>19.787699</td>\n",
       "      <td>안전</td>\n",
       "      <td>37.589259</td>\n",
       "      <td>126.970057</td>\n",
       "    </tr>\n",
       "    <tr>\n",
       "      <th>17</th>\n",
       "      <td>경성고등학교</td>\n",
       "      <td>마포구</td>\n",
       "      <td>20.680748</td>\n",
       "      <td>안전</td>\n",
       "      <td>37.563511</td>\n",
       "      <td>126.919166</td>\n",
       "    </tr>\n",
       "    <tr>\n",
       "      <th>21</th>\n",
       "      <td>경희고등학교</td>\n",
       "      <td>동대문구</td>\n",
       "      <td>20.955252</td>\n",
       "      <td>안전</td>\n",
       "      <td>37.593949</td>\n",
       "      <td>127.054891</td>\n",
       "    </tr>\n",
       "    <tr>\n",
       "      <th>36</th>\n",
       "      <td>광영여자고등학교</td>\n",
       "      <td>양천구</td>\n",
       "      <td>18.081750</td>\n",
       "      <td>안전</td>\n",
       "      <td>37.537198</td>\n",
       "      <td>126.823276</td>\n",
       "    </tr>\n",
       "    <tr>\n",
       "      <th>37</th>\n",
       "      <td>광운인공지능고등학교</td>\n",
       "      <td>노원구</td>\n",
       "      <td>17.095349</td>\n",
       "      <td>안전</td>\n",
       "      <td>37.619240</td>\n",
       "      <td>127.056545</td>\n",
       "    </tr>\n",
       "    <tr>\n",
       "      <th>55</th>\n",
       "      <td>대동세무고등학교</td>\n",
       "      <td>종로구</td>\n",
       "      <td>19.787699</td>\n",
       "      <td>안전</td>\n",
       "      <td>37.581583</td>\n",
       "      <td>126.987951</td>\n",
       "    </tr>\n",
       "    <tr>\n",
       "      <th>57</th>\n",
       "      <td>대신고등학교</td>\n",
       "      <td>종로구</td>\n",
       "      <td>19.493579</td>\n",
       "      <td>안전</td>\n",
       "      <td>37.573124</td>\n",
       "      <td>126.961255</td>\n",
       "    </tr>\n",
       "    <tr>\n",
       "      <th>58</th>\n",
       "      <td>대영고등학교</td>\n",
       "      <td>영등포구</td>\n",
       "      <td>21.296397</td>\n",
       "      <td>안전</td>\n",
       "      <td>37.503653</td>\n",
       "      <td>126.905518</td>\n",
       "    </tr>\n",
       "    <tr>\n",
       "      <th>62</th>\n",
       "      <td>대일고등학교</td>\n",
       "      <td>강서구</td>\n",
       "      <td>18.928466</td>\n",
       "      <td>안전</td>\n",
       "      <td>37.539489</td>\n",
       "      <td>126.863403</td>\n",
       "    </tr>\n",
       "    <tr>\n",
       "      <th>64</th>\n",
       "      <td>대일외국어고등학교</td>\n",
       "      <td>성북구</td>\n",
       "      <td>22.814442</td>\n",
       "      <td>안전</td>\n",
       "      <td>37.613305</td>\n",
       "      <td>127.014176</td>\n",
       "    </tr>\n",
       "    <tr>\n",
       "      <th>68</th>\n",
       "      <td>덕성여자고등학교</td>\n",
       "      <td>종로구</td>\n",
       "      <td>19.493579</td>\n",
       "      <td>안전</td>\n",
       "      <td>37.577761</td>\n",
       "      <td>126.983558</td>\n",
       "    </tr>\n",
       "    <tr>\n",
       "      <th>69</th>\n",
       "      <td>덕수고등학교</td>\n",
       "      <td>성동구</td>\n",
       "      <td>21.654837</td>\n",
       "      <td>안전</td>\n",
       "      <td>37.555264</td>\n",
       "      <td>127.041142</td>\n",
       "    </tr>\n",
       "    <tr>\n",
       "      <th>78</th>\n",
       "      <td>동국대학교사범대학부속여자고등학교</td>\n",
       "      <td>광진구</td>\n",
       "      <td>21.402339</td>\n",
       "      <td>안전</td>\n",
       "      <td>37.541929</td>\n",
       "      <td>127.086973</td>\n",
       "    </tr>\n",
       "    <tr>\n",
       "      <th>79</th>\n",
       "      <td>동덕여자고등학교</td>\n",
       "      <td>서초구</td>\n",
       "      <td>19.546943</td>\n",
       "      <td>안전</td>\n",
       "      <td>37.475846</td>\n",
       "      <td>126.992616</td>\n",
       "    </tr>\n",
       "    <tr>\n",
       "      <th>81</th>\n",
       "      <td>동명여자고등학교</td>\n",
       "      <td>은평구</td>\n",
       "      <td>22.852709</td>\n",
       "      <td>안전</td>\n",
       "      <td>37.614419</td>\n",
       "      <td>126.922820</td>\n",
       "    </tr>\n",
       "    <tr>\n",
       "      <th>82</th>\n",
       "      <td>동북고등학교</td>\n",
       "      <td>강동구</td>\n",
       "      <td>19.680553</td>\n",
       "      <td>안전</td>\n",
       "      <td>37.520241</td>\n",
       "      <td>127.139451</td>\n",
       "    </tr>\n",
       "    <tr>\n",
       "      <th>90</th>\n",
       "      <td>마포고등학교</td>\n",
       "      <td>강서구</td>\n",
       "      <td>24.497106</td>\n",
       "      <td>안전</td>\n",
       "      <td>37.560028</td>\n",
       "      <td>126.852865</td>\n",
       "    </tr>\n",
       "    <tr>\n",
       "      <th>95</th>\n",
       "      <td>명일여자고등학교</td>\n",
       "      <td>강동구</td>\n",
       "      <td>24.955073</td>\n",
       "      <td>안전</td>\n",
       "      <td>37.549776</td>\n",
       "      <td>127.149582</td>\n",
       "    </tr>\n",
       "    <tr>\n",
       "      <th>104</th>\n",
       "      <td>미림여자정보과학고등학교</td>\n",
       "      <td>관악구</td>\n",
       "      <td>23.925461</td>\n",
       "      <td>안전</td>\n",
       "      <td>37.466102</td>\n",
       "      <td>126.931928</td>\n",
       "    </tr>\n",
       "    <tr>\n",
       "      <th>121</th>\n",
       "      <td>상명대학교사범대학부속여자고등학교</td>\n",
       "      <td>종로구</td>\n",
       "      <td>19.787699</td>\n",
       "      <td>안전</td>\n",
       "      <td>37.604109</td>\n",
       "      <td>126.955159</td>\n",
       "    </tr>\n",
       "    <tr>\n",
       "      <th>127</th>\n",
       "      <td>서문여자고등학교</td>\n",
       "      <td>서초구</td>\n",
       "      <td>18.958703</td>\n",
       "      <td>안전</td>\n",
       "      <td>37.488920</td>\n",
       "      <td>126.984546</td>\n",
       "    </tr>\n",
       "    <tr>\n",
       "      <th>130</th>\n",
       "      <td>서울공업고등학교</td>\n",
       "      <td>동작구</td>\n",
       "      <td>22.986172</td>\n",
       "      <td>안전</td>\n",
       "      <td>37.501901</td>\n",
       "      <td>126.922363</td>\n",
       "    </tr>\n",
       "    <tr>\n",
       "      <th>138</th>\n",
       "      <td>서울동산고등학교</td>\n",
       "      <td>노원구</td>\n",
       "      <td>22.075749</td>\n",
       "      <td>안전</td>\n",
       "      <td>37.630778</td>\n",
       "      <td>127.073998</td>\n",
       "    </tr>\n",
       "    <tr>\n",
       "      <th>146</th>\n",
       "      <td>서울방송고등학교</td>\n",
       "      <td>성동구</td>\n",
       "      <td>22.537197</td>\n",
       "      <td>안전</td>\n",
       "      <td>37.547774</td>\n",
       "      <td>127.011037</td>\n",
       "    </tr>\n",
       "    <tr>\n",
       "      <th>147</th>\n",
       "      <td>서울세종고등학교</td>\n",
       "      <td>강남구</td>\n",
       "      <td>23.966924</td>\n",
       "      <td>안전</td>\n",
       "      <td>37.490389</td>\n",
       "      <td>127.102797</td>\n",
       "    </tr>\n",
       "    <tr>\n",
       "      <th>156</th>\n",
       "      <td>서울인공지능고등학교</td>\n",
       "      <td>송파구</td>\n",
       "      <td>16.735238</td>\n",
       "      <td>안전</td>\n",
       "      <td>37.491648</td>\n",
       "      <td>127.142085</td>\n",
       "    </tr>\n",
       "    <tr>\n",
       "      <th>159</th>\n",
       "      <td>서울컨벤션고등학교</td>\n",
       "      <td>강동구</td>\n",
       "      <td>24.955073</td>\n",
       "      <td>안전</td>\n",
       "      <td>37.559285</td>\n",
       "      <td>127.158216</td>\n",
       "    </tr>\n",
       "    <tr>\n",
       "      <th>166</th>\n",
       "      <td>선사고등학교</td>\n",
       "      <td>강동구</td>\n",
       "      <td>24.660953</td>\n",
       "      <td>안전</td>\n",
       "      <td>37.556316</td>\n",
       "      <td>127.135776</td>\n",
       "    </tr>\n",
       "    <tr>\n",
       "      <th>174</th>\n",
       "      <td>성덕고등학교</td>\n",
       "      <td>강동구</td>\n",
       "      <td>19.092313</td>\n",
       "      <td>안전</td>\n",
       "      <td>37.549855</td>\n",
       "      <td>127.141541</td>\n",
       "    </tr>\n",
       "    <tr>\n",
       "      <th>175</th>\n",
       "      <td>성동고등학교</td>\n",
       "      <td>중구</td>\n",
       "      <td>20.636777</td>\n",
       "      <td>안전</td>\n",
       "      <td>37.564162</td>\n",
       "      <td>127.022389</td>\n",
       "    </tr>\n",
       "    <tr>\n",
       "      <th>178</th>\n",
       "      <td>성보고등학교</td>\n",
       "      <td>관악구</td>\n",
       "      <td>18.650941</td>\n",
       "      <td>안전</td>\n",
       "      <td>37.480728</td>\n",
       "      <td>126.920957</td>\n",
       "    </tr>\n",
       "    <tr>\n",
       "      <th>179</th>\n",
       "      <td>성수고등학교</td>\n",
       "      <td>성동구</td>\n",
       "      <td>22.537197</td>\n",
       "      <td>안전</td>\n",
       "      <td>37.547342</td>\n",
       "      <td>127.038253</td>\n",
       "    </tr>\n",
       "    <tr>\n",
       "      <th>186</th>\n",
       "      <td>세종과학고등학교</td>\n",
       "      <td>구로구</td>\n",
       "      <td>26.043081</td>\n",
       "      <td>안전</td>\n",
       "      <td>37.497569</td>\n",
       "      <td>126.827352</td>\n",
       "    </tr>\n",
       "    <tr>\n",
       "      <th>188</th>\n",
       "      <td>세화고등학교</td>\n",
       "      <td>서초구</td>\n",
       "      <td>24.527343</td>\n",
       "      <td>안전</td>\n",
       "      <td>37.501996</td>\n",
       "      <td>126.994230</td>\n",
       "    </tr>\n",
       "    <tr>\n",
       "      <th>189</th>\n",
       "      <td>세화여자고등학교</td>\n",
       "      <td>서초구</td>\n",
       "      <td>24.527343</td>\n",
       "      <td>안전</td>\n",
       "      <td>37.501996</td>\n",
       "      <td>126.994230</td>\n",
       "    </tr>\n",
       "    <tr>\n",
       "      <th>193</th>\n",
       "      <td>수도여자고등학교</td>\n",
       "      <td>동작구</td>\n",
       "      <td>23.868532</td>\n",
       "      <td>안전</td>\n",
       "      <td>37.492801</td>\n",
       "      <td>126.914907</td>\n",
       "    </tr>\n",
       "    <tr>\n",
       "      <th>198</th>\n",
       "      <td>숭문고등학교</td>\n",
       "      <td>마포구</td>\n",
       "      <td>26.249388</td>\n",
       "      <td>안전</td>\n",
       "      <td>37.550891</td>\n",
       "      <td>126.945769</td>\n",
       "    </tr>\n",
       "    <tr>\n",
       "      <th>200</th>\n",
       "      <td>숭의여자고등학교</td>\n",
       "      <td>동작구</td>\n",
       "      <td>22.986172</td>\n",
       "      <td>안전</td>\n",
       "      <td>37.507364</td>\n",
       "      <td>126.929243</td>\n",
       "    </tr>\n",
       "    <tr>\n",
       "      <th>215</th>\n",
       "      <td>여의도고등학교</td>\n",
       "      <td>영등포구</td>\n",
       "      <td>16.610117</td>\n",
       "      <td>안전</td>\n",
       "      <td>37.525051</td>\n",
       "      <td>126.934219</td>\n",
       "    </tr>\n",
       "    <tr>\n",
       "      <th>216</th>\n",
       "      <td>여의도여자고등학교</td>\n",
       "      <td>영등포구</td>\n",
       "      <td>16.610117</td>\n",
       "      <td>안전</td>\n",
       "      <td>37.522954</td>\n",
       "      <td>126.934857</td>\n",
       "    </tr>\n",
       "    <tr>\n",
       "      <th>220</th>\n",
       "      <td>영동일고등학교</td>\n",
       "      <td>송파구</td>\n",
       "      <td>16.735238</td>\n",
       "      <td>안전</td>\n",
       "      <td>37.509975</td>\n",
       "      <td>127.089444</td>\n",
       "    </tr>\n",
       "    <tr>\n",
       "      <th>224</th>\n",
       "      <td>영락고등학교</td>\n",
       "      <td>관악구</td>\n",
       "      <td>18.945061</td>\n",
       "      <td>안전</td>\n",
       "      <td>37.476543</td>\n",
       "      <td>126.945416</td>\n",
       "    </tr>\n",
       "    <tr>\n",
       "      <th>225</th>\n",
       "      <td>영락의료과학고등학교</td>\n",
       "      <td>관악구</td>\n",
       "      <td>18.945061</td>\n",
       "      <td>안전</td>\n",
       "      <td>37.476543</td>\n",
       "      <td>126.945416</td>\n",
       "    </tr>\n",
       "    <tr>\n",
       "      <th>234</th>\n",
       "      <td>예일여자고등학교</td>\n",
       "      <td>은평구</td>\n",
       "      <td>17.578189</td>\n",
       "      <td>안전</td>\n",
       "      <td>37.610946</td>\n",
       "      <td>126.914793</td>\n",
       "    </tr>\n",
       "    <tr>\n",
       "      <th>237</th>\n",
       "      <td>오산고등학교</td>\n",
       "      <td>용산구</td>\n",
       "      <td>17.081705</td>\n",
       "      <td>안전</td>\n",
       "      <td>37.523581</td>\n",
       "      <td>127.000887</td>\n",
       "    </tr>\n",
       "    <tr>\n",
       "      <th>238</th>\n",
       "      <td>용문고등학교</td>\n",
       "      <td>성북구</td>\n",
       "      <td>17.539922</td>\n",
       "      <td>안전</td>\n",
       "      <td>37.588690</td>\n",
       "      <td>127.024661</td>\n",
       "    </tr>\n",
       "    <tr>\n",
       "      <th>253</th>\n",
       "      <td>인덕과학기술고등학교</td>\n",
       "      <td>노원구</td>\n",
       "      <td>22.075749</td>\n",
       "      <td>안전</td>\n",
       "      <td>37.630344</td>\n",
       "      <td>127.054500</td>\n",
       "    </tr>\n",
       "    <tr>\n",
       "      <th>257</th>\n",
       "      <td>자양고등학교</td>\n",
       "      <td>광진구</td>\n",
       "      <td>26.088619</td>\n",
       "      <td>안전</td>\n",
       "      <td>37.536078</td>\n",
       "      <td>127.073340</td>\n",
       "    </tr>\n",
       "    <tr>\n",
       "      <th>264</th>\n",
       "      <td>장훈고등학교</td>\n",
       "      <td>영등포구</td>\n",
       "      <td>21.590517</td>\n",
       "      <td>안전</td>\n",
       "      <td>37.513346</td>\n",
       "      <td>126.916229</td>\n",
       "    </tr>\n",
       "    <tr>\n",
       "      <th>265</th>\n",
       "      <td>재현고등학교</td>\n",
       "      <td>노원구</td>\n",
       "      <td>22.075749</td>\n",
       "      <td>안전</td>\n",
       "      <td>37.661291</td>\n",
       "      <td>127.080800</td>\n",
       "    </tr>\n",
       "    <tr>\n",
       "      <th>266</th>\n",
       "      <td>정신여자고등학교</td>\n",
       "      <td>송파구</td>\n",
       "      <td>22.009758</td>\n",
       "      <td>안전</td>\n",
       "      <td>37.509454</td>\n",
       "      <td>127.073847</td>\n",
       "    </tr>\n",
       "    <tr>\n",
       "      <th>268</th>\n",
       "      <td>정화여자상업고등학교</td>\n",
       "      <td>동대문구</td>\n",
       "      <td>20.072892</td>\n",
       "      <td>안전</td>\n",
       "      <td>37.586049</td>\n",
       "      <td>127.041070</td>\n",
       "    </tr>\n",
       "    <tr>\n",
       "      <th>274</th>\n",
       "      <td>중앙여자고등학교</td>\n",
       "      <td>서대문구</td>\n",
       "      <td>20.855341</td>\n",
       "      <td>안전</td>\n",
       "      <td>37.563177</td>\n",
       "      <td>126.954059</td>\n",
       "    </tr>\n",
       "    <tr>\n",
       "      <th>275</th>\n",
       "      <td>중화고등학교</td>\n",
       "      <td>중랑구</td>\n",
       "      <td>22.914950</td>\n",
       "      <td>안전</td>\n",
       "      <td>37.604815</td>\n",
       "      <td>127.083654</td>\n",
       "    </tr>\n",
       "    <tr>\n",
       "      <th>282</th>\n",
       "      <td>청담고등학교</td>\n",
       "      <td>강남구</td>\n",
       "      <td>18.986524</td>\n",
       "      <td>안전</td>\n",
       "      <td>37.527947</td>\n",
       "      <td>127.043867</td>\n",
       "    </tr>\n",
       "    <tr>\n",
       "      <th>283</th>\n",
       "      <td>청량고등학교</td>\n",
       "      <td>동대문구</td>\n",
       "      <td>25.347412</td>\n",
       "      <td>안전</td>\n",
       "      <td>37.588886</td>\n",
       "      <td>127.051311</td>\n",
       "    </tr>\n",
       "    <tr>\n",
       "      <th>304</th>\n",
       "      <td>해성여자고등학교</td>\n",
       "      <td>동대문구</td>\n",
       "      <td>20.661132</td>\n",
       "      <td>안전</td>\n",
       "      <td>37.581873</td>\n",
       "      <td>127.056977</td>\n",
       "    </tr>\n",
       "    <tr>\n",
       "      <th>314</th>\n",
       "      <td>환일고등학교</td>\n",
       "      <td>중구</td>\n",
       "      <td>25.911297</td>\n",
       "      <td>안전</td>\n",
       "      <td>37.553756</td>\n",
       "      <td>126.962588</td>\n",
       "    </tr>\n",
       "    <tr>\n",
       "      <th>316</th>\n",
       "      <td>휘경공업고등학교</td>\n",
       "      <td>동대문구</td>\n",
       "      <td>26.229772</td>\n",
       "      <td>안전</td>\n",
       "      <td>37.585153</td>\n",
       "      <td>127.069451</td>\n",
       "    </tr>\n",
       "  </tbody>\n",
       "</table>\n",
       "</div>"
      ],
      "text/plain": [
       "                   학교명   시군구  total_score 종합_위험도         위도          경도\n",
       "0               가락고등학교   송파구    22.009758     안전  37.501076  127.116426\n",
       "10            경기상업고등학교   종로구    19.787699     안전  37.589259  126.970057\n",
       "17              경성고등학교   마포구    20.680748     안전  37.563511  126.919166\n",
       "21              경희고등학교  동대문구    20.955252     안전  37.593949  127.054891\n",
       "36            광영여자고등학교   양천구    18.081750     안전  37.537198  126.823276\n",
       "37          광운인공지능고등학교   노원구    17.095349     안전  37.619240  127.056545\n",
       "55            대동세무고등학교   종로구    19.787699     안전  37.581583  126.987951\n",
       "57              대신고등학교   종로구    19.493579     안전  37.573124  126.961255\n",
       "58              대영고등학교  영등포구    21.296397     안전  37.503653  126.905518\n",
       "62              대일고등학교   강서구    18.928466     안전  37.539489  126.863403\n",
       "64           대일외국어고등학교   성북구    22.814442     안전  37.613305  127.014176\n",
       "68            덕성여자고등학교   종로구    19.493579     안전  37.577761  126.983558\n",
       "69              덕수고등학교   성동구    21.654837     안전  37.555264  127.041142\n",
       "78   동국대학교사범대학부속여자고등학교   광진구    21.402339     안전  37.541929  127.086973\n",
       "79            동덕여자고등학교   서초구    19.546943     안전  37.475846  126.992616\n",
       "81            동명여자고등학교   은평구    22.852709     안전  37.614419  126.922820\n",
       "82              동북고등학교   강동구    19.680553     안전  37.520241  127.139451\n",
       "90              마포고등학교   강서구    24.497106     안전  37.560028  126.852865\n",
       "95            명일여자고등학교   강동구    24.955073     안전  37.549776  127.149582\n",
       "104       미림여자정보과학고등학교   관악구    23.925461     안전  37.466102  126.931928\n",
       "121  상명대학교사범대학부속여자고등학교   종로구    19.787699     안전  37.604109  126.955159\n",
       "127           서문여자고등학교   서초구    18.958703     안전  37.488920  126.984546\n",
       "130           서울공업고등학교   동작구    22.986172     안전  37.501901  126.922363\n",
       "138           서울동산고등학교   노원구    22.075749     안전  37.630778  127.073998\n",
       "146           서울방송고등학교   성동구    22.537197     안전  37.547774  127.011037\n",
       "147           서울세종고등학교   강남구    23.966924     안전  37.490389  127.102797\n",
       "156         서울인공지능고등학교   송파구    16.735238     안전  37.491648  127.142085\n",
       "159          서울컨벤션고등학교   강동구    24.955073     안전  37.559285  127.158216\n",
       "166             선사고등학교   강동구    24.660953     안전  37.556316  127.135776\n",
       "174             성덕고등학교   강동구    19.092313     안전  37.549855  127.141541\n",
       "175             성동고등학교    중구    20.636777     안전  37.564162  127.022389\n",
       "178             성보고등학교   관악구    18.650941     안전  37.480728  126.920957\n",
       "179             성수고등학교   성동구    22.537197     안전  37.547342  127.038253\n",
       "186           세종과학고등학교   구로구    26.043081     안전  37.497569  126.827352\n",
       "188             세화고등학교   서초구    24.527343     안전  37.501996  126.994230\n",
       "189           세화여자고등학교   서초구    24.527343     안전  37.501996  126.994230\n",
       "193           수도여자고등학교   동작구    23.868532     안전  37.492801  126.914907\n",
       "198             숭문고등학교   마포구    26.249388     안전  37.550891  126.945769\n",
       "200           숭의여자고등학교   동작구    22.986172     안전  37.507364  126.929243\n",
       "215            여의도고등학교  영등포구    16.610117     안전  37.525051  126.934219\n",
       "216          여의도여자고등학교  영등포구    16.610117     안전  37.522954  126.934857\n",
       "220            영동일고등학교   송파구    16.735238     안전  37.509975  127.089444\n",
       "224             영락고등학교   관악구    18.945061     안전  37.476543  126.945416\n",
       "225         영락의료과학고등학교   관악구    18.945061     안전  37.476543  126.945416\n",
       "234           예일여자고등학교   은평구    17.578189     안전  37.610946  126.914793\n",
       "237             오산고등학교   용산구    17.081705     안전  37.523581  127.000887\n",
       "238             용문고등학교   성북구    17.539922     안전  37.588690  127.024661\n",
       "253         인덕과학기술고등학교   노원구    22.075749     안전  37.630344  127.054500\n",
       "257             자양고등학교   광진구    26.088619     안전  37.536078  127.073340\n",
       "264             장훈고등학교  영등포구    21.590517     안전  37.513346  126.916229\n",
       "265             재현고등학교   노원구    22.075749     안전  37.661291  127.080800\n",
       "266           정신여자고등학교   송파구    22.009758     안전  37.509454  127.073847\n",
       "268         정화여자상업고등학교  동대문구    20.072892     안전  37.586049  127.041070\n",
       "274           중앙여자고등학교  서대문구    20.855341     안전  37.563177  126.954059\n",
       "275             중화고등학교   중랑구    22.914950     안전  37.604815  127.083654\n",
       "282             청담고등학교   강남구    18.986524     안전  37.527947  127.043867\n",
       "283             청량고등학교  동대문구    25.347412     안전  37.588886  127.051311\n",
       "304           해성여자고등학교  동대문구    20.661132     안전  37.581873  127.056977\n",
       "314             환일고등학교    중구    25.911297     안전  37.553756  126.962588\n",
       "316           휘경공업고등학교  동대문구    26.229772     안전  37.585153  127.069451"
      ]
     },
     "execution_count": 49,
     "metadata": {},
     "output_type": "execute_result"
    },
    {
     "data": {
      "text/html": [
       "<div>\n",
       "<style scoped>\n",
       "    .dataframe tbody tr th:only-of-type {\n",
       "        vertical-align: middle;\n",
       "    }\n",
       "\n",
       "    .dataframe tbody tr th {\n",
       "        vertical-align: top;\n",
       "    }\n",
       "\n",
       "    .dataframe thead th {\n",
       "        text-align: right;\n",
       "    }\n",
       "</style>\n",
       "<table border=\"1\" class=\"dataframe\">\n",
       "  <thead>\n",
       "    <tr style=\"text-align: right;\">\n",
       "      <th></th>\n",
       "      <th>학교명</th>\n",
       "      <th>시군구</th>\n",
       "      <th>total_score</th>\n",
       "      <th>종합_위험도</th>\n",
       "      <th>위도</th>\n",
       "      <th>경도</th>\n",
       "    </tr>\n",
       "  </thead>\n",
       "  <tbody>\n",
       "    <tr>\n",
       "      <th>6</th>\n",
       "      <td>개포고등학교</td>\n",
       "      <td>강남구</td>\n",
       "      <td>13.712004</td>\n",
       "      <td>매우안전</td>\n",
       "      <td>37.484960</td>\n",
       "      <td>127.059407</td>\n",
       "    </tr>\n",
       "    <tr>\n",
       "      <th>7</th>\n",
       "      <td>건국대학교사범대학부속고등학교</td>\n",
       "      <td>광진구</td>\n",
       "      <td>16.421939</td>\n",
       "      <td>매우안전</td>\n",
       "      <td>37.539183</td>\n",
       "      <td>127.074712</td>\n",
       "    </tr>\n",
       "    <tr>\n",
       "      <th>8</th>\n",
       "      <td>경기고등학교</td>\n",
       "      <td>강남구</td>\n",
       "      <td>-19.111596</td>\n",
       "      <td>매우안전</td>\n",
       "      <td>37.517565</td>\n",
       "      <td>127.056076</td>\n",
       "    </tr>\n",
       "    <tr>\n",
       "      <th>11</th>\n",
       "      <td>경기여자고등학교</td>\n",
       "      <td>강남구</td>\n",
       "      <td>13.712004</td>\n",
       "      <td>매우안전</td>\n",
       "      <td>37.486957</td>\n",
       "      <td>127.066102</td>\n",
       "    </tr>\n",
       "    <tr>\n",
       "      <th>14</th>\n",
       "      <td>경복고등학교</td>\n",
       "      <td>종로구</td>\n",
       "      <td>-7.467261</td>\n",
       "      <td>매우안전</td>\n",
       "      <td>37.585946</td>\n",
       "      <td>126.971511</td>\n",
       "    </tr>\n",
       "    <tr>\n",
       "      <th>...</th>\n",
       "      <td>...</td>\n",
       "      <td>...</td>\n",
       "      <td>...</td>\n",
       "      <td>...</td>\n",
       "      <td>...</td>\n",
       "      <td>...</td>\n",
       "    </tr>\n",
       "    <tr>\n",
       "      <th>303</th>\n",
       "      <td>해성국제컨벤션고등학교</td>\n",
       "      <td>동대문구</td>\n",
       "      <td>10.112092</td>\n",
       "      <td>매우안전</td>\n",
       "      <td>37.581873</td>\n",
       "      <td>127.056977</td>\n",
       "    </tr>\n",
       "    <tr>\n",
       "      <th>305</th>\n",
       "      <td>현대고등학교</td>\n",
       "      <td>강남구</td>\n",
       "      <td>12.829644</td>\n",
       "      <td>매우안전</td>\n",
       "      <td>37.525480</td>\n",
       "      <td>127.022377</td>\n",
       "    </tr>\n",
       "    <tr>\n",
       "      <th>310</th>\n",
       "      <td>홍익대학교사범대학부속여자고등학교</td>\n",
       "      <td>마포구</td>\n",
       "      <td>-5.691852</td>\n",
       "      <td>매우안전</td>\n",
       "      <td>37.559665</td>\n",
       "      <td>126.912929</td>\n",
       "    </tr>\n",
       "    <tr>\n",
       "      <th>318</th>\n",
       "      <td>휘문고등학교</td>\n",
       "      <td>강남구</td>\n",
       "      <td>2.574724</td>\n",
       "      <td>매우안전</td>\n",
       "      <td>37.505289</td>\n",
       "      <td>127.061994</td>\n",
       "    </tr>\n",
       "    <tr>\n",
       "      <th>319</th>\n",
       "      <td>휘봉고등학교</td>\n",
       "      <td>동대문구</td>\n",
       "      <td>15.680732</td>\n",
       "      <td>매우안전</td>\n",
       "      <td>37.586372</td>\n",
       "      <td>127.068941</td>\n",
       "    </tr>\n",
       "  </tbody>\n",
       "</table>\n",
       "<p>64 rows × 6 columns</p>\n",
       "</div>"
      ],
      "text/plain": [
       "                   학교명   시군구  total_score 종합_위험도         위도          경도\n",
       "6               개포고등학교   강남구    13.712004   매우안전  37.484960  127.059407\n",
       "7      건국대학교사범대학부속고등학교   광진구    16.421939   매우안전  37.539183  127.074712\n",
       "8               경기고등학교   강남구   -19.111596   매우안전  37.517565  127.056076\n",
       "11            경기여자고등학교   강남구    13.712004   매우안전  37.486957  127.066102\n",
       "14              경복고등학교   종로구    -7.467261   매우안전  37.585946  126.971511\n",
       "..                 ...   ...          ...    ...        ...         ...\n",
       "303        해성국제컨벤션고등학교  동대문구    10.112092   매우안전  37.581873  127.056977\n",
       "305             현대고등학교   강남구    12.829644   매우안전  37.525480  127.022377\n",
       "310  홍익대학교사범대학부속여자고등학교   마포구    -5.691852   매우안전  37.559665  126.912929\n",
       "318             휘문고등학교   강남구     2.574724   매우안전  37.505289  127.061994\n",
       "319             휘봉고등학교  동대문구    15.680732   매우안전  37.586372  127.068941\n",
       "\n",
       "[64 rows x 6 columns]"
      ]
     },
     "execution_count": 49,
     "metadata": {},
     "output_type": "execute_result"
    }
   ],
   "source": [
    "# 매우위험 \n",
    "school_very_danger = school_map[(school_map['종합_위험도']=='매우위험')]\n",
    "school_very_danger\n",
    "\n",
    "# 위험 \n",
    "school_danger = school_map[(school_map['종합_위험도']=='위험')]\n",
    "school_danger\n",
    "\n",
    "# 보통\n",
    "school_normal = school_map[(school_map['종합_위험도']=='보통')]\n",
    "school_normal\n",
    "\n",
    "# 안전\n",
    "school_safety = school_map[(school_map['종합_위험도']=='안전')]\n",
    "school_safety\n",
    "\n",
    "# 매우안전\n",
    "school_very_safety = school_map[(school_map['종합_위험도']=='매우안전')]\n",
    "school_very_safety"
   ]
  },
  {
   "cell_type": "code",
   "execution_count": 73,
   "id": "dbb5b8dd-38d7-4b94-92a0-3af98a80b619",
   "metadata": {
    "execution": {
     "iopub.execute_input": "2023-02-05T05:41:33.338368Z",
     "iopub.status.busy": "2023-02-05T05:41:33.337391Z",
     "iopub.status.idle": "2023-02-05T05:41:37.930496Z",
     "shell.execute_reply": "2023-02-05T05:41:37.927296Z",
     "shell.execute_reply.started": "2023-02-05T05:41:33.338368Z"
    },
    "scrolled": true,
    "tags": []
   },
   "outputs": [
    {
     "data": {
      "text/plain": [
       "<folium.features.GeoJson at 0x268e90ec520>"
      ]
     },
     "execution_count": 73,
     "metadata": {},
     "output_type": "execute_result"
    },
    {
     "data": {
      "text/plain": [
       "<folium.vector_layers.CircleMarker at 0x268e9171160>"
      ]
     },
     "execution_count": 73,
     "metadata": {},
     "output_type": "execute_result"
    },
    {
     "data": {
      "text/plain": [
       "<folium.vector_layers.CircleMarker at 0x268e90ecbe0>"
      ]
     },
     "execution_count": 73,
     "metadata": {},
     "output_type": "execute_result"
    },
    {
     "data": {
      "text/plain": [
       "<folium.vector_layers.CircleMarker at 0x268e90ecd30>"
      ]
     },
     "execution_count": 73,
     "metadata": {},
     "output_type": "execute_result"
    },
    {
     "data": {
      "text/plain": [
       "<folium.vector_layers.CircleMarker at 0x268e9174df0>"
      ]
     },
     "execution_count": 73,
     "metadata": {},
     "output_type": "execute_result"
    },
    {
     "data": {
      "text/plain": [
       "<folium.vector_layers.CircleMarker at 0x268e9174e50>"
      ]
     },
     "execution_count": 73,
     "metadata": {},
     "output_type": "execute_result"
    },
    {
     "data": {
      "text/plain": [
       "<folium.vector_layers.CircleMarker at 0x268e9174e20>"
      ]
     },
     "execution_count": 73,
     "metadata": {},
     "output_type": "execute_result"
    },
    {
     "data": {
      "text/plain": [
       "<folium.vector_layers.CircleMarker at 0x268e9174f70>"
      ]
     },
     "execution_count": 73,
     "metadata": {},
     "output_type": "execute_result"
    },
    {
     "data": {
      "text/plain": [
       "<folium.vector_layers.CircleMarker at 0x268e9174d90>"
      ]
     },
     "execution_count": 73,
     "metadata": {},
     "output_type": "execute_result"
    },
    {
     "data": {
      "text/plain": [
       "<folium.vector_layers.CircleMarker at 0x268e9174fa0>"
      ]
     },
     "execution_count": 73,
     "metadata": {},
     "output_type": "execute_result"
    },
    {
     "data": {
      "text/plain": [
       "<folium.vector_layers.CircleMarker at 0x268e90ec3a0>"
      ]
     },
     "execution_count": 73,
     "metadata": {},
     "output_type": "execute_result"
    },
    {
     "data": {
      "text/plain": [
       "<folium.vector_layers.CircleMarker at 0x268e917ebe0>"
      ]
     },
     "execution_count": 73,
     "metadata": {},
     "output_type": "execute_result"
    },
    {
     "data": {
      "text/plain": [
       "<folium.vector_layers.CircleMarker at 0x268e917e550>"
      ]
     },
     "execution_count": 73,
     "metadata": {},
     "output_type": "execute_result"
    },
    {
     "data": {
      "text/plain": [
       "<folium.vector_layers.CircleMarker at 0x268e917ec40>"
      ]
     },
     "execution_count": 73,
     "metadata": {},
     "output_type": "execute_result"
    },
    {
     "data": {
      "text/plain": [
       "<folium.vector_layers.CircleMarker at 0x268e917ec70>"
      ]
     },
     "execution_count": 73,
     "metadata": {},
     "output_type": "execute_result"
    },
    {
     "data": {
      "text/plain": [
       "<folium.vector_layers.CircleMarker at 0x268e917e400>"
      ]
     },
     "execution_count": 73,
     "metadata": {},
     "output_type": "execute_result"
    },
    {
     "data": {
      "text/plain": [
       "<folium.vector_layers.CircleMarker at 0x268e917e4c0>"
      ]
     },
     "execution_count": 73,
     "metadata": {},
     "output_type": "execute_result"
    },
    {
     "data": {
      "text/plain": [
       "<folium.vector_layers.CircleMarker at 0x268e917e340>"
      ]
     },
     "execution_count": 73,
     "metadata": {},
     "output_type": "execute_result"
    },
    {
     "data": {
      "text/plain": [
       "<folium.vector_layers.CircleMarker at 0x268e917e3d0>"
      ]
     },
     "execution_count": 73,
     "metadata": {},
     "output_type": "execute_result"
    },
    {
     "data": {
      "text/plain": [
       "<folium.vector_layers.CircleMarker at 0x268e917e040>"
      ]
     },
     "execution_count": 73,
     "metadata": {},
     "output_type": "execute_result"
    },
    {
     "data": {
      "text/plain": [
       "<folium.vector_layers.CircleMarker at 0x268e917e460>"
      ]
     },
     "execution_count": 73,
     "metadata": {},
     "output_type": "execute_result"
    },
    {
     "data": {
      "text/plain": [
       "<folium.vector_layers.CircleMarker at 0x268e917e070>"
      ]
     },
     "execution_count": 73,
     "metadata": {},
     "output_type": "execute_result"
    },
    {
     "data": {
      "text/plain": [
       "<folium.vector_layers.CircleMarker at 0x268e917e100>"
      ]
     },
     "execution_count": 73,
     "metadata": {},
     "output_type": "execute_result"
    },
    {
     "data": {
      "text/plain": [
       "<folium.vector_layers.CircleMarker at 0x268e90ec310>"
      ]
     },
     "execution_count": 73,
     "metadata": {},
     "output_type": "execute_result"
    },
    {
     "data": {
      "text/plain": [
       "<folium.vector_layers.CircleMarker at 0x268e917e0d0>"
      ]
     },
     "execution_count": 73,
     "metadata": {},
     "output_type": "execute_result"
    },
    {
     "data": {
      "text/plain": [
       "<folium.vector_layers.CircleMarker at 0x268e917e190>"
      ]
     },
     "execution_count": 73,
     "metadata": {},
     "output_type": "execute_result"
    },
    {
     "data": {
      "text/plain": [
       "<folium.vector_layers.CircleMarker at 0x268e917e310>"
      ]
     },
     "execution_count": 73,
     "metadata": {},
     "output_type": "execute_result"
    },
    {
     "data": {
      "text/plain": [
       "<folium.vector_layers.CircleMarker at 0x268e917e5e0>"
      ]
     },
     "execution_count": 73,
     "metadata": {},
     "output_type": "execute_result"
    },
    {
     "data": {
      "text/plain": [
       "<folium.vector_layers.CircleMarker at 0x268e9174e80>"
      ]
     },
     "execution_count": 73,
     "metadata": {},
     "output_type": "execute_result"
    },
    {
     "data": {
      "text/plain": [
       "<folium.vector_layers.CircleMarker at 0x268e917e1c0>"
      ]
     },
     "execution_count": 73,
     "metadata": {},
     "output_type": "execute_result"
    },
    {
     "data": {
      "text/plain": [
       "<folium.vector_layers.CircleMarker at 0x268e917e250>"
      ]
     },
     "execution_count": 73,
     "metadata": {},
     "output_type": "execute_result"
    },
    {
     "data": {
      "text/plain": [
       "<folium.vector_layers.CircleMarker at 0x268e917e6d0>"
      ]
     },
     "execution_count": 73,
     "metadata": {},
     "output_type": "execute_result"
    },
    {
     "data": {
      "text/plain": [
       "<folium.vector_layers.CircleMarker at 0x268e917e760>"
      ]
     },
     "execution_count": 73,
     "metadata": {},
     "output_type": "execute_result"
    },
    {
     "data": {
      "text/plain": [
       "<folium.vector_layers.CircleMarker at 0x268e917e670>"
      ]
     },
     "execution_count": 73,
     "metadata": {},
     "output_type": "execute_result"
    },
    {
     "data": {
      "text/plain": [
       "<folium.vector_layers.CircleMarker at 0x268e917e880>"
      ]
     },
     "execution_count": 73,
     "metadata": {},
     "output_type": "execute_result"
    },
    {
     "data": {
      "text/plain": [
       "<folium.vector_layers.CircleMarker at 0x268e917e6a0>"
      ]
     },
     "execution_count": 73,
     "metadata": {},
     "output_type": "execute_result"
    },
    {
     "data": {
      "text/plain": [
       "<folium.vector_layers.CircleMarker at 0x268e917e730>"
      ]
     },
     "execution_count": 73,
     "metadata": {},
     "output_type": "execute_result"
    },
    {
     "data": {
      "text/plain": [
       "<folium.vector_layers.CircleMarker at 0x268e917e9d0>"
      ]
     },
     "execution_count": 73,
     "metadata": {},
     "output_type": "execute_result"
    },
    {
     "data": {
      "text/plain": [
       "<folium.vector_layers.CircleMarker at 0x268e917e940>"
      ]
     },
     "execution_count": 73,
     "metadata": {},
     "output_type": "execute_result"
    },
    {
     "data": {
      "text/plain": [
       "<folium.vector_layers.CircleMarker at 0x268e917e970>"
      ]
     },
     "execution_count": 73,
     "metadata": {},
     "output_type": "execute_result"
    },
    {
     "data": {
      "text/plain": [
       "<folium.vector_layers.CircleMarker at 0x268e917e910>"
      ]
     },
     "execution_count": 73,
     "metadata": {},
     "output_type": "execute_result"
    },
    {
     "data": {
      "text/plain": [
       "<folium.vector_layers.CircleMarker at 0x268e917eac0>"
      ]
     },
     "execution_count": 73,
     "metadata": {},
     "output_type": "execute_result"
    },
    {
     "data": {
      "text/plain": [
       "<folium.vector_layers.CircleMarker at 0x268e917e9a0>"
      ]
     },
     "execution_count": 73,
     "metadata": {},
     "output_type": "execute_result"
    },
    {
     "data": {
      "text/plain": [
       "<folium.vector_layers.CircleMarker at 0x268e917eb50>"
      ]
     },
     "execution_count": 73,
     "metadata": {},
     "output_type": "execute_result"
    },
    {
     "data": {
      "text/plain": [
       "<folium.vector_layers.CircleMarker at 0x268e917eb80>"
      ]
     },
     "execution_count": 73,
     "metadata": {},
     "output_type": "execute_result"
    },
    {
     "data": {
      "text/plain": [
       "<folium.vector_layers.CircleMarker at 0x268e917ea90>"
      ]
     },
     "execution_count": 73,
     "metadata": {},
     "output_type": "execute_result"
    },
    {
     "data": {
      "text/plain": [
       "<folium.vector_layers.CircleMarker at 0x268e91840a0>"
      ]
     },
     "execution_count": 73,
     "metadata": {},
     "output_type": "execute_result"
    },
    {
     "data": {
      "text/plain": [
       "<folium.vector_layers.CircleMarker at 0x268e9184160>"
      ]
     },
     "execution_count": 73,
     "metadata": {},
     "output_type": "execute_result"
    },
    {
     "data": {
      "text/plain": [
       "<folium.vector_layers.CircleMarker at 0x268e91841f0>"
      ]
     },
     "execution_count": 73,
     "metadata": {},
     "output_type": "execute_result"
    },
    {
     "data": {
      "text/plain": [
       "<folium.vector_layers.CircleMarker at 0x268e91841c0>"
      ]
     },
     "execution_count": 73,
     "metadata": {},
     "output_type": "execute_result"
    },
    {
     "data": {
      "text/plain": [
       "<folium.vector_layers.CircleMarker at 0x268e9184040>"
      ]
     },
     "execution_count": 73,
     "metadata": {},
     "output_type": "execute_result"
    },
    {
     "data": {
      "text/plain": [
       "<folium.vector_layers.CircleMarker at 0x268e9187fd0>"
      ]
     },
     "execution_count": 73,
     "metadata": {},
     "output_type": "execute_result"
    },
    {
     "data": {
      "text/plain": [
       "<folium.vector_layers.CircleMarker at 0x268e91872e0>"
      ]
     },
     "execution_count": 73,
     "metadata": {},
     "output_type": "execute_result"
    },
    {
     "data": {
      "text/plain": [
       "<folium.vector_layers.CircleMarker at 0x268e91870a0>"
      ]
     },
     "execution_count": 73,
     "metadata": {},
     "output_type": "execute_result"
    },
    {
     "data": {
      "text/plain": [
       "<folium.vector_layers.CircleMarker at 0x268e9187fa0>"
      ]
     },
     "execution_count": 73,
     "metadata": {},
     "output_type": "execute_result"
    },
    {
     "data": {
      "text/plain": [
       "<folium.vector_layers.CircleMarker at 0x268e9187190>"
      ]
     },
     "execution_count": 73,
     "metadata": {},
     "output_type": "execute_result"
    },
    {
     "data": {
      "text/plain": [
       "<folium.vector_layers.CircleMarker at 0x268e91871c0>"
      ]
     },
     "execution_count": 73,
     "metadata": {},
     "output_type": "execute_result"
    },
    {
     "data": {
      "text/plain": [
       "<folium.vector_layers.CircleMarker at 0x268e9187160>"
      ]
     },
     "execution_count": 73,
     "metadata": {},
     "output_type": "execute_result"
    },
    {
     "data": {
      "text/plain": [
       "<folium.vector_layers.CircleMarker at 0x268e9187070>"
      ]
     },
     "execution_count": 73,
     "metadata": {},
     "output_type": "execute_result"
    },
    {
     "data": {
      "text/plain": [
       "<folium.vector_layers.CircleMarker at 0x268e9187f40>"
      ]
     },
     "execution_count": 73,
     "metadata": {},
     "output_type": "execute_result"
    },
    {
     "data": {
      "text/plain": [
       "<folium.vector_layers.CircleMarker at 0x268e9187f70>"
      ]
     },
     "execution_count": 73,
     "metadata": {},
     "output_type": "execute_result"
    },
    {
     "data": {
      "text/plain": [
       "<folium.vector_layers.CircleMarker at 0x268e9187f10>"
      ]
     },
     "execution_count": 73,
     "metadata": {},
     "output_type": "execute_result"
    },
    {
     "data": {
      "text/plain": [
       "<folium.vector_layers.CircleMarker at 0x268e9187ee0>"
      ]
     },
     "execution_count": 73,
     "metadata": {},
     "output_type": "execute_result"
    },
    {
     "data": {
      "text/plain": [
       "<folium.vector_layers.CircleMarker at 0x268e9187250>"
      ]
     },
     "execution_count": 73,
     "metadata": {},
     "output_type": "execute_result"
    },
    {
     "data": {
      "text/plain": [
       "<folium.vector_layers.CircleMarker at 0x268e917e8b0>"
      ]
     },
     "execution_count": 73,
     "metadata": {},
     "output_type": "execute_result"
    },
    {
     "data": {
      "text/plain": [
       "<folium.vector_layers.CircleMarker at 0x268e90ec4f0>"
      ]
     },
     "execution_count": 73,
     "metadata": {},
     "output_type": "execute_result"
    },
    {
     "data": {
      "text/plain": [
       "<folium.vector_layers.CircleMarker at 0x268e9118580>"
      ]
     },
     "execution_count": 73,
     "metadata": {},
     "output_type": "execute_result"
    },
    {
     "data": {
      "text/plain": [
       "<folium.vector_layers.CircleMarker at 0x268e917ed00>"
      ]
     },
     "execution_count": 73,
     "metadata": {},
     "output_type": "execute_result"
    },
    {
     "data": {
      "text/plain": [
       "<folium.vector_layers.CircleMarker at 0x268e9118160>"
      ]
     },
     "execution_count": 73,
     "metadata": {},
     "output_type": "execute_result"
    },
    {
     "data": {
      "text/plain": [
       "<folium.vector_layers.CircleMarker at 0x268e9118400>"
      ]
     },
     "execution_count": 73,
     "metadata": {},
     "output_type": "execute_result"
    },
    {
     "data": {
      "text/plain": [
       "<folium.vector_layers.CircleMarker at 0x268e9118bb0>"
      ]
     },
     "execution_count": 73,
     "metadata": {},
     "output_type": "execute_result"
    },
    {
     "data": {
      "text/plain": [
       "<folium.vector_layers.CircleMarker at 0x268e91183d0>"
      ]
     },
     "execution_count": 73,
     "metadata": {},
     "output_type": "execute_result"
    },
    {
     "data": {
      "text/plain": [
       "<folium.vector_layers.CircleMarker at 0x268e9118a60>"
      ]
     },
     "execution_count": 73,
     "metadata": {},
     "output_type": "execute_result"
    },
    {
     "data": {
      "text/plain": [
       "<folium.vector_layers.CircleMarker at 0x268e9118520>"
      ]
     },
     "execution_count": 73,
     "metadata": {},
     "output_type": "execute_result"
    },
    {
     "data": {
      "text/plain": [
       "<folium.vector_layers.CircleMarker at 0x268e9118c40>"
      ]
     },
     "execution_count": 73,
     "metadata": {},
     "output_type": "execute_result"
    },
    {
     "data": {
      "text/plain": [
       "<folium.vector_layers.CircleMarker at 0x268e91182e0>"
      ]
     },
     "execution_count": 73,
     "metadata": {},
     "output_type": "execute_result"
    },
    {
     "data": {
      "text/plain": [
       "<folium.vector_layers.CircleMarker at 0x268e9118730>"
      ]
     },
     "execution_count": 73,
     "metadata": {},
     "output_type": "execute_result"
    },
    {
     "data": {
      "text/plain": [
       "<folium.vector_layers.CircleMarker at 0x268e9118ac0>"
      ]
     },
     "execution_count": 73,
     "metadata": {},
     "output_type": "execute_result"
    },
    {
     "data": {
      "text/plain": [
       "<folium.vector_layers.CircleMarker at 0x268e91185b0>"
      ]
     },
     "execution_count": 73,
     "metadata": {},
     "output_type": "execute_result"
    },
    {
     "data": {
      "text/plain": [
       "<folium.vector_layers.CircleMarker at 0x268e9118b20>"
      ]
     },
     "execution_count": 73,
     "metadata": {},
     "output_type": "execute_result"
    },
    {
     "data": {
      "text/plain": [
       "<folium.vector_layers.CircleMarker at 0x268e9118fa0>"
      ]
     },
     "execution_count": 73,
     "metadata": {},
     "output_type": "execute_result"
    },
    {
     "data": {
      "text/plain": [
       "<folium.vector_layers.CircleMarker at 0x268e9118700>"
      ]
     },
     "execution_count": 73,
     "metadata": {},
     "output_type": "execute_result"
    },
    {
     "data": {
      "text/plain": [
       "<folium.vector_layers.CircleMarker at 0x268e91189a0>"
      ]
     },
     "execution_count": 73,
     "metadata": {},
     "output_type": "execute_result"
    },
    {
     "data": {
      "text/plain": [
       "<folium.vector_layers.CircleMarker at 0x268e9118c10>"
      ]
     },
     "execution_count": 73,
     "metadata": {},
     "output_type": "execute_result"
    },
    {
     "data": {
      "text/plain": [
       "<folium.vector_layers.CircleMarker at 0x268e91184c0>"
      ]
     },
     "execution_count": 73,
     "metadata": {},
     "output_type": "execute_result"
    },
    {
     "data": {
      "text/plain": [
       "<folium.vector_layers.CircleMarker at 0x268e9118eb0>"
      ]
     },
     "execution_count": 73,
     "metadata": {},
     "output_type": "execute_result"
    },
    {
     "data": {
      "text/plain": [
       "<folium.vector_layers.CircleMarker at 0x268e9118c70>"
      ]
     },
     "execution_count": 73,
     "metadata": {},
     "output_type": "execute_result"
    },
    {
     "data": {
      "text/plain": [
       "<folium.vector_layers.CircleMarker at 0x268e9124df0>"
      ]
     },
     "execution_count": 73,
     "metadata": {},
     "output_type": "execute_result"
    },
    {
     "data": {
      "text/plain": [
       "<folium.vector_layers.CircleMarker at 0x268e91248e0>"
      ]
     },
     "execution_count": 73,
     "metadata": {},
     "output_type": "execute_result"
    },
    {
     "data": {
      "text/plain": [
       "<folium.vector_layers.CircleMarker at 0x268e9124b50>"
      ]
     },
     "execution_count": 73,
     "metadata": {},
     "output_type": "execute_result"
    },
    {
     "data": {
      "text/plain": [
       "<folium.vector_layers.CircleMarker at 0x268e9124a90>"
      ]
     },
     "execution_count": 73,
     "metadata": {},
     "output_type": "execute_result"
    },
    {
     "data": {
      "text/plain": [
       "<folium.vector_layers.CircleMarker at 0x268e91242e0>"
      ]
     },
     "execution_count": 73,
     "metadata": {},
     "output_type": "execute_result"
    },
    {
     "data": {
      "text/plain": [
       "<folium.vector_layers.CircleMarker at 0x268e9124b80>"
      ]
     },
     "execution_count": 73,
     "metadata": {},
     "output_type": "execute_result"
    },
    {
     "data": {
      "text/plain": [
       "<folium.vector_layers.CircleMarker at 0x268e91242b0>"
      ]
     },
     "execution_count": 73,
     "metadata": {},
     "output_type": "execute_result"
    },
    {
     "data": {
      "text/plain": [
       "<folium.vector_layers.CircleMarker at 0x268e9124ee0>"
      ]
     },
     "execution_count": 73,
     "metadata": {},
     "output_type": "execute_result"
    },
    {
     "data": {
      "text/plain": [
       "<folium.vector_layers.CircleMarker at 0x268e91241c0>"
      ]
     },
     "execution_count": 73,
     "metadata": {},
     "output_type": "execute_result"
    },
    {
     "data": {
      "text/plain": [
       "<folium.vector_layers.CircleMarker at 0x268e9124220>"
      ]
     },
     "execution_count": 73,
     "metadata": {},
     "output_type": "execute_result"
    },
    {
     "data": {
      "text/plain": [
       "<folium.vector_layers.CircleMarker at 0x268e9124250>"
      ]
     },
     "execution_count": 73,
     "metadata": {},
     "output_type": "execute_result"
    },
    {
     "data": {
      "text/plain": [
       "<folium.vector_layers.CircleMarker at 0x268e91243d0>"
      ]
     },
     "execution_count": 73,
     "metadata": {},
     "output_type": "execute_result"
    },
    {
     "data": {
      "text/plain": [
       "<folium.vector_layers.CircleMarker at 0x268e9124340>"
      ]
     },
     "execution_count": 73,
     "metadata": {},
     "output_type": "execute_result"
    },
    {
     "data": {
      "text/plain": [
       "<folium.vector_layers.CircleMarker at 0x268e9124430>"
      ]
     },
     "execution_count": 73,
     "metadata": {},
     "output_type": "execute_result"
    },
    {
     "data": {
      "text/plain": [
       "<folium.vector_layers.CircleMarker at 0x268e9124460>"
      ]
     },
     "execution_count": 73,
     "metadata": {},
     "output_type": "execute_result"
    },
    {
     "data": {
      "text/plain": [
       "<folium.vector_layers.CircleMarker at 0x268e91244c0>"
      ]
     },
     "execution_count": 73,
     "metadata": {},
     "output_type": "execute_result"
    },
    {
     "data": {
      "text/plain": [
       "<folium.vector_layers.CircleMarker at 0x268e9124400>"
      ]
     },
     "execution_count": 73,
     "metadata": {},
     "output_type": "execute_result"
    },
    {
     "data": {
      "text/plain": [
       "<folium.vector_layers.CircleMarker at 0x268e91245b0>"
      ]
     },
     "execution_count": 73,
     "metadata": {},
     "output_type": "execute_result"
    },
    {
     "data": {
      "text/plain": [
       "<folium.vector_layers.CircleMarker at 0x268e9124670>"
      ]
     },
     "execution_count": 73,
     "metadata": {},
     "output_type": "execute_result"
    },
    {
     "data": {
      "text/plain": [
       "<folium.vector_layers.CircleMarker at 0x268e91246a0>"
      ]
     },
     "execution_count": 73,
     "metadata": {},
     "output_type": "execute_result"
    },
    {
     "data": {
      "text/plain": [
       "<folium.vector_layers.CircleMarker at 0x268e91245e0>"
      ]
     },
     "execution_count": 73,
     "metadata": {},
     "output_type": "execute_result"
    },
    {
     "data": {
      "text/plain": [
       "<folium.vector_layers.CircleMarker at 0x268e9124700>"
      ]
     },
     "execution_count": 73,
     "metadata": {},
     "output_type": "execute_result"
    },
    {
     "data": {
      "text/plain": [
       "<folium.vector_layers.CircleMarker at 0x268e91247c0>"
      ]
     },
     "execution_count": 73,
     "metadata": {},
     "output_type": "execute_result"
    },
    {
     "data": {
      "text/plain": [
       "<folium.vector_layers.CircleMarker at 0x268e9124820>"
      ]
     },
     "execution_count": 73,
     "metadata": {},
     "output_type": "execute_result"
    },
    {
     "data": {
      "text/plain": [
       "<folium.vector_layers.CircleMarker at 0x268e9124730>"
      ]
     },
     "execution_count": 73,
     "metadata": {},
     "output_type": "execute_result"
    },
    {
     "data": {
      "text/plain": [
       "<folium.vector_layers.CircleMarker at 0x268e9124a00>"
      ]
     },
     "execution_count": 73,
     "metadata": {},
     "output_type": "execute_result"
    },
    {
     "data": {
      "text/plain": [
       "<folium.vector_layers.CircleMarker at 0x268e9124640>"
      ]
     },
     "execution_count": 73,
     "metadata": {},
     "output_type": "execute_result"
    },
    {
     "data": {
      "text/plain": [
       "<folium.vector_layers.CircleMarker at 0x268e9124f40>"
      ]
     },
     "execution_count": 73,
     "metadata": {},
     "output_type": "execute_result"
    },
    {
     "data": {
      "text/plain": [
       "<folium.vector_layers.CircleMarker at 0x268e9124f10>"
      ]
     },
     "execution_count": 73,
     "metadata": {},
     "output_type": "execute_result"
    },
    {
     "data": {
      "text/plain": [
       "<folium.vector_layers.CircleMarker at 0x268e9124d60>"
      ]
     },
     "execution_count": 73,
     "metadata": {},
     "output_type": "execute_result"
    },
    {
     "data": {
      "text/plain": [
       "<folium.vector_layers.CircleMarker at 0x268e9124880>"
      ]
     },
     "execution_count": 73,
     "metadata": {},
     "output_type": "execute_result"
    },
    {
     "data": {
      "text/plain": [
       "<folium.vector_layers.CircleMarker at 0x268e9124c70>"
      ]
     },
     "execution_count": 73,
     "metadata": {},
     "output_type": "execute_result"
    },
    {
     "data": {
      "text/plain": [
       "<folium.vector_layers.CircleMarker at 0x268e9124c40>"
      ]
     },
     "execution_count": 73,
     "metadata": {},
     "output_type": "execute_result"
    },
    {
     "data": {
      "text/plain": [
       "<folium.vector_layers.CircleMarker at 0x268e9124d90>"
      ]
     },
     "execution_count": 73,
     "metadata": {},
     "output_type": "execute_result"
    },
    {
     "data": {
      "text/plain": [
       "<folium.vector_layers.CircleMarker at 0x268e9124ca0>"
      ]
     },
     "execution_count": 73,
     "metadata": {},
     "output_type": "execute_result"
    },
    {
     "data": {
      "text/plain": [
       "<folium.vector_layers.CircleMarker at 0x268e9124d00>"
      ]
     },
     "execution_count": 73,
     "metadata": {},
     "output_type": "execute_result"
    },
    {
     "data": {
      "text/plain": [
       "<folium.vector_layers.CircleMarker at 0x268e91249d0>"
      ]
     },
     "execution_count": 73,
     "metadata": {},
     "output_type": "execute_result"
    },
    {
     "data": {
      "text/plain": [
       "<folium.vector_layers.CircleMarker at 0x268e9124c10>"
      ]
     },
     "execution_count": 73,
     "metadata": {},
     "output_type": "execute_result"
    },
    {
     "data": {
      "text/plain": [
       "<folium.vector_layers.CircleMarker at 0x268e9124160>"
      ]
     },
     "execution_count": 73,
     "metadata": {},
     "output_type": "execute_result"
    },
    {
     "data": {
      "text/plain": [
       "<folium.vector_layers.CircleMarker at 0x268e91249a0>"
      ]
     },
     "execution_count": 73,
     "metadata": {},
     "output_type": "execute_result"
    },
    {
     "data": {
      "text/plain": [
       "<folium.vector_layers.CircleMarker at 0x268e8ae41f0>"
      ]
     },
     "execution_count": 73,
     "metadata": {},
     "output_type": "execute_result"
    },
    {
     "data": {
      "text/plain": [
       "<folium.vector_layers.CircleMarker at 0x268e9124100>"
      ]
     },
     "execution_count": 73,
     "metadata": {},
     "output_type": "execute_result"
    },
    {
     "data": {
      "text/plain": [
       "<folium.vector_layers.CircleMarker at 0x268e9187e80>"
      ]
     },
     "execution_count": 73,
     "metadata": {},
     "output_type": "execute_result"
    },
    {
     "data": {
      "text/plain": [
       "<folium.vector_layers.CircleMarker at 0x268e90ec3d0>"
      ]
     },
     "execution_count": 73,
     "metadata": {},
     "output_type": "execute_result"
    },
    {
     "data": {
      "text/plain": [
       "<folium.vector_layers.CircleMarker at 0x268e8e262e0>"
      ]
     },
     "execution_count": 73,
     "metadata": {},
     "output_type": "execute_result"
    },
    {
     "data": {
      "text/plain": [
       "<folium.vector_layers.CircleMarker at 0x268e8e26070>"
      ]
     },
     "execution_count": 73,
     "metadata": {},
     "output_type": "execute_result"
    },
    {
     "data": {
      "text/plain": [
       "<folium.vector_layers.CircleMarker at 0x268e8e260d0>"
      ]
     },
     "execution_count": 73,
     "metadata": {},
     "output_type": "execute_result"
    },
    {
     "data": {
      "text/plain": [
       "<folium.vector_layers.CircleMarker at 0x268e9124bb0>"
      ]
     },
     "execution_count": 73,
     "metadata": {},
     "output_type": "execute_result"
    },
    {
     "data": {
      "text/plain": [
       "<folium.vector_layers.CircleMarker at 0x268e92d3070>"
      ]
     },
     "execution_count": 73,
     "metadata": {},
     "output_type": "execute_result"
    },
    {
     "data": {
      "text/plain": [
       "<folium.vector_layers.CircleMarker at 0x268e92d30d0>"
      ]
     },
     "execution_count": 73,
     "metadata": {},
     "output_type": "execute_result"
    },
    {
     "data": {
      "text/plain": [
       "<folium.vector_layers.CircleMarker at 0x268e92d3190>"
      ]
     },
     "execution_count": 73,
     "metadata": {},
     "output_type": "execute_result"
    },
    {
     "data": {
      "text/plain": [
       "<folium.vector_layers.CircleMarker at 0x268e92d3100>"
      ]
     },
     "execution_count": 73,
     "metadata": {},
     "output_type": "execute_result"
    },
    {
     "data": {
      "text/plain": [
       "<folium.vector_layers.CircleMarker at 0x268e92d3280>"
      ]
     },
     "execution_count": 73,
     "metadata": {},
     "output_type": "execute_result"
    },
    {
     "data": {
      "text/plain": [
       "<folium.vector_layers.CircleMarker at 0x268e92d3250>"
      ]
     },
     "execution_count": 73,
     "metadata": {},
     "output_type": "execute_result"
    },
    {
     "data": {
      "text/plain": [
       "<folium.vector_layers.CircleMarker at 0x268e92d3220>"
      ]
     },
     "execution_count": 73,
     "metadata": {},
     "output_type": "execute_result"
    },
    {
     "data": {
      "text/plain": [
       "<folium.vector_layers.CircleMarker at 0x268e92d32b0>"
      ]
     },
     "execution_count": 73,
     "metadata": {},
     "output_type": "execute_result"
    },
    {
     "data": {
      "text/plain": [
       "<folium.vector_layers.CircleMarker at 0x268e92d3370>"
      ]
     },
     "execution_count": 73,
     "metadata": {},
     "output_type": "execute_result"
    },
    {
     "data": {
      "text/plain": [
       "<folium.vector_layers.CircleMarker at 0x268e92d3460>"
      ]
     },
     "execution_count": 73,
     "metadata": {},
     "output_type": "execute_result"
    },
    {
     "data": {
      "text/plain": [
       "<folium.vector_layers.CircleMarker at 0x268e92d33d0>"
      ]
     },
     "execution_count": 73,
     "metadata": {},
     "output_type": "execute_result"
    },
    {
     "data": {
      "text/plain": [
       "<folium.vector_layers.CircleMarker at 0x268e92d3520>"
      ]
     },
     "execution_count": 73,
     "metadata": {},
     "output_type": "execute_result"
    },
    {
     "data": {
      "text/plain": [
       "<folium.vector_layers.CircleMarker at 0x268e92d3310>"
      ]
     },
     "execution_count": 73,
     "metadata": {},
     "output_type": "execute_result"
    },
    {
     "data": {
      "text/plain": [
       "<folium.vector_layers.CircleMarker at 0x268e92d34f0>"
      ]
     },
     "execution_count": 73,
     "metadata": {},
     "output_type": "execute_result"
    },
    {
     "data": {
      "text/plain": [
       "<folium.vector_layers.CircleMarker at 0x268e92d3580>"
      ]
     },
     "execution_count": 73,
     "metadata": {},
     "output_type": "execute_result"
    },
    {
     "data": {
      "text/plain": [
       "<folium.vector_layers.CircleMarker at 0x268e92d3160>"
      ]
     },
     "execution_count": 73,
     "metadata": {},
     "output_type": "execute_result"
    },
    {
     "data": {
      "text/plain": [
       "<folium.vector_layers.CircleMarker at 0x268e92d3700>"
      ]
     },
     "execution_count": 73,
     "metadata": {},
     "output_type": "execute_result"
    },
    {
     "data": {
      "text/plain": [
       "<folium.vector_layers.CircleMarker at 0x268e92d3760>"
      ]
     },
     "execution_count": 73,
     "metadata": {},
     "output_type": "execute_result"
    },
    {
     "data": {
      "text/plain": [
       "<folium.vector_layers.CircleMarker at 0x268e92d3790>"
      ]
     },
     "execution_count": 73,
     "metadata": {},
     "output_type": "execute_result"
    },
    {
     "data": {
      "text/plain": [
       "<folium.vector_layers.CircleMarker at 0x268e92d3850>"
      ]
     },
     "execution_count": 73,
     "metadata": {},
     "output_type": "execute_result"
    },
    {
     "data": {
      "text/plain": [
       "<folium.vector_layers.CircleMarker at 0x268e92d36d0>"
      ]
     },
     "execution_count": 73,
     "metadata": {},
     "output_type": "execute_result"
    },
    {
     "data": {
      "text/plain": [
       "<folium.vector_layers.CircleMarker at 0x268e92d3910>"
      ]
     },
     "execution_count": 73,
     "metadata": {},
     "output_type": "execute_result"
    },
    {
     "data": {
      "text/plain": [
       "<folium.vector_layers.CircleMarker at 0x268e92d37c0>"
      ]
     },
     "execution_count": 73,
     "metadata": {},
     "output_type": "execute_result"
    },
    {
     "data": {
      "text/plain": [
       "<folium.vector_layers.CircleMarker at 0x268e92d38b0>"
      ]
     },
     "execution_count": 73,
     "metadata": {},
     "output_type": "execute_result"
    },
    {
     "data": {
      "text/plain": [
       "<folium.vector_layers.CircleMarker at 0x268e92d39d0>"
      ]
     },
     "execution_count": 73,
     "metadata": {},
     "output_type": "execute_result"
    },
    {
     "data": {
      "text/plain": [
       "<folium.vector_layers.CircleMarker at 0x268e92d3a90>"
      ]
     },
     "execution_count": 73,
     "metadata": {},
     "output_type": "execute_result"
    },
    {
     "data": {
      "text/plain": [
       "<folium.vector_layers.CircleMarker at 0x268e92d3af0>"
      ]
     },
     "execution_count": 73,
     "metadata": {},
     "output_type": "execute_result"
    },
    {
     "data": {
      "text/plain": [
       "<folium.vector_layers.CircleMarker at 0x268e92d3b50>"
      ]
     },
     "execution_count": 73,
     "metadata": {},
     "output_type": "execute_result"
    },
    {
     "data": {
      "text/plain": [
       "<folium.vector_layers.CircleMarker at 0x268e92d3ac0>"
      ]
     },
     "execution_count": 73,
     "metadata": {},
     "output_type": "execute_result"
    },
    {
     "data": {
      "text/plain": [
       "<folium.vector_layers.CircleMarker at 0x268e92d3b20>"
      ]
     },
     "execution_count": 73,
     "metadata": {},
     "output_type": "execute_result"
    },
    {
     "data": {
      "text/plain": [
       "<folium.vector_layers.CircleMarker at 0x268e92d3c70>"
      ]
     },
     "execution_count": 73,
     "metadata": {},
     "output_type": "execute_result"
    },
    {
     "data": {
      "text/plain": [
       "<folium.vector_layers.CircleMarker at 0x268e92d3b80>"
      ]
     },
     "execution_count": 73,
     "metadata": {},
     "output_type": "execute_result"
    },
    {
     "data": {
      "text/plain": [
       "<folium.vector_layers.CircleMarker at 0x268e92d3d30>"
      ]
     },
     "execution_count": 73,
     "metadata": {},
     "output_type": "execute_result"
    },
    {
     "data": {
      "text/plain": [
       "<folium.vector_layers.CircleMarker at 0x268e92d3d00>"
      ]
     },
     "execution_count": 73,
     "metadata": {},
     "output_type": "execute_result"
    },
    {
     "data": {
      "text/plain": [
       "<folium.vector_layers.CircleMarker at 0x268e92d3e80>"
      ]
     },
     "execution_count": 73,
     "metadata": {},
     "output_type": "execute_result"
    },
    {
     "data": {
      "text/plain": [
       "<folium.vector_layers.CircleMarker at 0x268e92d3e50>"
      ]
     },
     "execution_count": 73,
     "metadata": {},
     "output_type": "execute_result"
    },
    {
     "data": {
      "text/plain": [
       "<folium.vector_layers.CircleMarker at 0x268e92d3dc0>"
      ]
     },
     "execution_count": 73,
     "metadata": {},
     "output_type": "execute_result"
    },
    {
     "data": {
      "text/plain": [
       "<folium.vector_layers.CircleMarker at 0x268e92d3d90>"
      ]
     },
     "execution_count": 73,
     "metadata": {},
     "output_type": "execute_result"
    },
    {
     "data": {
      "text/plain": [
       "<folium.vector_layers.CircleMarker at 0x268e92d3ee0>"
      ]
     },
     "execution_count": 73,
     "metadata": {},
     "output_type": "execute_result"
    },
    {
     "data": {
      "text/plain": [
       "<folium.vector_layers.CircleMarker at 0x268e92d3f70>"
      ]
     },
     "execution_count": 73,
     "metadata": {},
     "output_type": "execute_result"
    },
    {
     "data": {
      "text/plain": [
       "<folium.vector_layers.CircleMarker at 0x268e92d3f40>"
      ]
     },
     "execution_count": 73,
     "metadata": {},
     "output_type": "execute_result"
    },
    {
     "data": {
      "text/plain": [
       "<folium.vector_layers.CircleMarker at 0x268e8413bb0>"
      ]
     },
     "execution_count": 73,
     "metadata": {},
     "output_type": "execute_result"
    },
    {
     "data": {
      "text/plain": [
       "<folium.vector_layers.CircleMarker at 0x268e92b8130>"
      ]
     },
     "execution_count": 73,
     "metadata": {},
     "output_type": "execute_result"
    },
    {
     "data": {
      "text/plain": [
       "<folium.vector_layers.CircleMarker at 0x268e92b81f0>"
      ]
     },
     "execution_count": 73,
     "metadata": {},
     "output_type": "execute_result"
    },
    {
     "data": {
      "text/plain": [
       "<folium.vector_layers.CircleMarker at 0x268e92b8070>"
      ]
     },
     "execution_count": 73,
     "metadata": {},
     "output_type": "execute_result"
    },
    {
     "data": {
      "text/plain": [
       "<folium.vector_layers.CircleMarker at 0x268e92b8190>"
      ]
     },
     "execution_count": 73,
     "metadata": {},
     "output_type": "execute_result"
    },
    {
     "data": {
      "text/plain": [
       "<folium.vector_layers.CircleMarker at 0x268e92b82e0>"
      ]
     },
     "execution_count": 73,
     "metadata": {},
     "output_type": "execute_result"
    },
    {
     "data": {
      "text/plain": [
       "<folium.vector_layers.CircleMarker at 0x268e92b8280>"
      ]
     },
     "execution_count": 73,
     "metadata": {},
     "output_type": "execute_result"
    },
    {
     "data": {
      "text/plain": [
       "<folium.vector_layers.CircleMarker at 0x268e92b83a0>"
      ]
     },
     "execution_count": 73,
     "metadata": {},
     "output_type": "execute_result"
    },
    {
     "data": {
      "text/plain": [
       "<folium.vector_layers.CircleMarker at 0x268e92d3be0>"
      ]
     },
     "execution_count": 73,
     "metadata": {},
     "output_type": "execute_result"
    },
    {
     "data": {
      "text/plain": [
       "<folium.vector_layers.CircleMarker at 0x268e92b8550>"
      ]
     },
     "execution_count": 73,
     "metadata": {},
     "output_type": "execute_result"
    },
    {
     "data": {
      "text/plain": [
       "<folium.vector_layers.CircleMarker at 0x268e92b83d0>"
      ]
     },
     "execution_count": 73,
     "metadata": {},
     "output_type": "execute_result"
    },
    {
     "data": {
      "text/plain": [
       "<folium.vector_layers.CircleMarker at 0x268e92b8400>"
      ]
     },
     "execution_count": 73,
     "metadata": {},
     "output_type": "execute_result"
    },
    {
     "data": {
      "text/plain": [
       "<folium.vector_layers.CircleMarker at 0x268e92b84c0>"
      ]
     },
     "execution_count": 73,
     "metadata": {},
     "output_type": "execute_result"
    },
    {
     "data": {
      "text/plain": [
       "<folium.vector_layers.CircleMarker at 0x268e92b8580>"
      ]
     },
     "execution_count": 73,
     "metadata": {},
     "output_type": "execute_result"
    },
    {
     "data": {
      "text/plain": [
       "<folium.vector_layers.CircleMarker at 0x268e92b8430>"
      ]
     },
     "execution_count": 73,
     "metadata": {},
     "output_type": "execute_result"
    },
    {
     "data": {
      "text/plain": [
       "<folium.vector_layers.CircleMarker at 0x268e92b82b0>"
      ]
     },
     "execution_count": 73,
     "metadata": {},
     "output_type": "execute_result"
    },
    {
     "data": {
      "text/plain": [
       "<folium.vector_layers.CircleMarker at 0x268e92b85b0>"
      ]
     },
     "execution_count": 73,
     "metadata": {},
     "output_type": "execute_result"
    },
    {
     "data": {
      "text/plain": [
       "<folium.vector_layers.CircleMarker at 0x268e92b8730>"
      ]
     },
     "execution_count": 73,
     "metadata": {},
     "output_type": "execute_result"
    },
    {
     "data": {
      "text/plain": [
       "<folium.vector_layers.CircleMarker at 0x268e92b8310>"
      ]
     },
     "execution_count": 73,
     "metadata": {},
     "output_type": "execute_result"
    },
    {
     "data": {
      "text/plain": [
       "<folium.vector_layers.CircleMarker at 0x268e92b8220>"
      ]
     },
     "execution_count": 73,
     "metadata": {},
     "output_type": "execute_result"
    },
    {
     "data": {
      "text/plain": [
       "<folium.vector_layers.CircleMarker at 0x268e92b8640>"
      ]
     },
     "execution_count": 73,
     "metadata": {},
     "output_type": "execute_result"
    },
    {
     "data": {
      "text/plain": [
       "<folium.vector_layers.CircleMarker at 0x268e8ae4280>"
      ]
     },
     "execution_count": 73,
     "metadata": {},
     "output_type": "execute_result"
    },
    {
     "data": {
      "text/plain": [
       "<folium.vector_layers.CircleMarker at 0x268e92b8910>"
      ]
     },
     "execution_count": 73,
     "metadata": {},
     "output_type": "execute_result"
    },
    {
     "data": {
      "text/plain": [
       "<folium.vector_layers.CircleMarker at 0x268e92b8970>"
      ]
     },
     "execution_count": 73,
     "metadata": {},
     "output_type": "execute_result"
    },
    {
     "data": {
      "text/plain": [
       "<folium.vector_layers.CircleMarker at 0x268e92b87f0>"
      ]
     },
     "execution_count": 73,
     "metadata": {},
     "output_type": "execute_result"
    },
    {
     "data": {
      "text/plain": [
       "<folium.vector_layers.CircleMarker at 0x268e92b88b0>"
      ]
     },
     "execution_count": 73,
     "metadata": {},
     "output_type": "execute_result"
    },
    {
     "data": {
      "text/plain": [
       "<folium.vector_layers.CircleMarker at 0x268e92d3f10>"
      ]
     },
     "execution_count": 73,
     "metadata": {},
     "output_type": "execute_result"
    },
    {
     "data": {
      "text/plain": [
       "<folium.vector_layers.CircleMarker at 0x268e92d3fd0>"
      ]
     },
     "execution_count": 73,
     "metadata": {},
     "output_type": "execute_result"
    },
    {
     "data": {
      "text/plain": [
       "<folium.vector_layers.CircleMarker at 0x268e92b8b20>"
      ]
     },
     "execution_count": 73,
     "metadata": {},
     "output_type": "execute_result"
    },
    {
     "data": {
      "text/plain": [
       "<folium.vector_layers.CircleMarker at 0x268e92b87c0>"
      ]
     },
     "execution_count": 73,
     "metadata": {},
     "output_type": "execute_result"
    },
    {
     "data": {
      "text/plain": [
       "<folium.vector_layers.CircleMarker at 0x268e92b8b80>"
      ]
     },
     "execution_count": 73,
     "metadata": {},
     "output_type": "execute_result"
    },
    {
     "data": {
      "text/plain": [
       "<folium.vector_layers.CircleMarker at 0x268e92b8bb0>"
      ]
     },
     "execution_count": 73,
     "metadata": {},
     "output_type": "execute_result"
    },
    {
     "data": {
      "text/plain": [
       "<folium.vector_layers.CircleMarker at 0x268e92b8c70>"
      ]
     },
     "execution_count": 73,
     "metadata": {},
     "output_type": "execute_result"
    },
    {
     "data": {
      "text/plain": [
       "<folium.vector_layers.CircleMarker at 0x268e92b8a60>"
      ]
     },
     "execution_count": 73,
     "metadata": {},
     "output_type": "execute_result"
    },
    {
     "data": {
      "text/plain": [
       "<folium.vector_layers.CircleMarker at 0x268e92b8d00>"
      ]
     },
     "execution_count": 73,
     "metadata": {},
     "output_type": "execute_result"
    },
    {
     "data": {
      "text/plain": [
       "<folium.vector_layers.CircleMarker at 0x268e92b8cd0>"
      ]
     },
     "execution_count": 73,
     "metadata": {},
     "output_type": "execute_result"
    },
    {
     "data": {
      "text/plain": [
       "<folium.vector_layers.CircleMarker at 0x268e92b8d60>"
      ]
     },
     "execution_count": 73,
     "metadata": {},
     "output_type": "execute_result"
    },
    {
     "data": {
      "text/plain": [
       "<folium.vector_layers.CircleMarker at 0x268e92b8e50>"
      ]
     },
     "execution_count": 73,
     "metadata": {},
     "output_type": "execute_result"
    },
    {
     "data": {
      "text/plain": [
       "<folium.vector_layers.CircleMarker at 0x268e92b8f10>"
      ]
     },
     "execution_count": 73,
     "metadata": {},
     "output_type": "execute_result"
    },
    {
     "data": {
      "text/plain": [
       "<folium.vector_layers.CircleMarker at 0x268e92b8940>"
      ]
     },
     "execution_count": 73,
     "metadata": {},
     "output_type": "execute_result"
    },
    {
     "data": {
      "text/plain": [
       "<folium.vector_layers.CircleMarker at 0x268e92b8790>"
      ]
     },
     "execution_count": 73,
     "metadata": {},
     "output_type": "execute_result"
    },
    {
     "data": {
      "text/plain": [
       "<folium.vector_layers.CircleMarker at 0x268e92b8e20>"
      ]
     },
     "execution_count": 73,
     "metadata": {},
     "output_type": "execute_result"
    },
    {
     "data": {
      "text/plain": [
       "<folium.vector_layers.CircleMarker at 0x268e92b8fd0>"
      ]
     },
     "execution_count": 73,
     "metadata": {},
     "output_type": "execute_result"
    },
    {
     "data": {
      "text/plain": [
       "<folium.vector_layers.CircleMarker at 0x268e92b8eb0>"
      ]
     },
     "execution_count": 73,
     "metadata": {},
     "output_type": "execute_result"
    },
    {
     "data": {
      "text/plain": [
       "<folium.vector_layers.CircleMarker at 0x268e92fd1f0>"
      ]
     },
     "execution_count": 73,
     "metadata": {},
     "output_type": "execute_result"
    },
    {
     "data": {
      "text/plain": [
       "<folium.vector_layers.CircleMarker at 0x268e92fd040>"
      ]
     },
     "execution_count": 73,
     "metadata": {},
     "output_type": "execute_result"
    },
    {
     "data": {
      "text/plain": [
       "<folium.vector_layers.CircleMarker at 0x268e92fd070>"
      ]
     },
     "execution_count": 73,
     "metadata": {},
     "output_type": "execute_result"
    },
    {
     "data": {
      "text/plain": [
       "<folium.vector_layers.CircleMarker at 0x268e92fd280>"
      ]
     },
     "execution_count": 73,
     "metadata": {},
     "output_type": "execute_result"
    },
    {
     "data": {
      "text/plain": [
       "<folium.vector_layers.CircleMarker at 0x268e92fd1c0>"
      ]
     },
     "execution_count": 73,
     "metadata": {},
     "output_type": "execute_result"
    },
    {
     "data": {
      "text/plain": [
       "<folium.vector_layers.CircleMarker at 0x268e92fd250>"
      ]
     },
     "execution_count": 73,
     "metadata": {},
     "output_type": "execute_result"
    },
    {
     "data": {
      "text/plain": [
       "<folium.vector_layers.CircleMarker at 0x268e92fd370>"
      ]
     },
     "execution_count": 73,
     "metadata": {},
     "output_type": "execute_result"
    },
    {
     "data": {
      "text/plain": [
       "<folium.vector_layers.CircleMarker at 0x268e92b8f40>"
      ]
     },
     "execution_count": 73,
     "metadata": {},
     "output_type": "execute_result"
    },
    {
     "data": {
      "text/plain": [
       "<folium.vector_layers.CircleMarker at 0x268e92fd3a0>"
      ]
     },
     "execution_count": 73,
     "metadata": {},
     "output_type": "execute_result"
    },
    {
     "data": {
      "text/plain": [
       "<folium.vector_layers.CircleMarker at 0x268e92fd4c0>"
      ]
     },
     "execution_count": 73,
     "metadata": {},
     "output_type": "execute_result"
    },
    {
     "data": {
      "text/plain": [
       "<folium.vector_layers.CircleMarker at 0x268e92fd520>"
      ]
     },
     "execution_count": 73,
     "metadata": {},
     "output_type": "execute_result"
    },
    {
     "data": {
      "text/plain": [
       "<folium.vector_layers.CircleMarker at 0x268e92fd550>"
      ]
     },
     "execution_count": 73,
     "metadata": {},
     "output_type": "execute_result"
    },
    {
     "data": {
      "text/plain": [
       "<folium.vector_layers.CircleMarker at 0x268e92fd2e0>"
      ]
     },
     "execution_count": 73,
     "metadata": {},
     "output_type": "execute_result"
    },
    {
     "data": {
      "text/plain": [
       "<folium.vector_layers.CircleMarker at 0x268e92fd4f0>"
      ]
     },
     "execution_count": 73,
     "metadata": {},
     "output_type": "execute_result"
    },
    {
     "data": {
      "text/plain": [
       "<folium.vector_layers.CircleMarker at 0x268e92fd640>"
      ]
     },
     "execution_count": 73,
     "metadata": {},
     "output_type": "execute_result"
    },
    {
     "data": {
      "text/plain": [
       "<folium.vector_layers.CircleMarker at 0x268e92fd700>"
      ]
     },
     "execution_count": 73,
     "metadata": {},
     "output_type": "execute_result"
    },
    {
     "data": {
      "text/plain": [
       "<folium.vector_layers.CircleMarker at 0x268e92fd760>"
      ]
     },
     "execution_count": 73,
     "metadata": {},
     "output_type": "execute_result"
    },
    {
     "data": {
      "text/plain": [
       "<folium.vector_layers.CircleMarker at 0x268e92fd7c0>"
      ]
     },
     "execution_count": 73,
     "metadata": {},
     "output_type": "execute_result"
    },
    {
     "data": {
      "text/plain": [
       "<folium.vector_layers.CircleMarker at 0x268e92fd580>"
      ]
     },
     "execution_count": 73,
     "metadata": {},
     "output_type": "execute_result"
    },
    {
     "data": {
      "text/plain": [
       "<folium.vector_layers.CircleMarker at 0x268e92fd6a0>"
      ]
     },
     "execution_count": 73,
     "metadata": {},
     "output_type": "execute_result"
    },
    {
     "data": {
      "text/plain": [
       "<folium.vector_layers.CircleMarker at 0x268e92fd400>"
      ]
     },
     "execution_count": 73,
     "metadata": {},
     "output_type": "execute_result"
    },
    {
     "data": {
      "text/plain": [
       "<folium.vector_layers.CircleMarker at 0x268e92fd790>"
      ]
     },
     "execution_count": 73,
     "metadata": {},
     "output_type": "execute_result"
    },
    {
     "data": {
      "text/plain": [
       "<folium.vector_layers.CircleMarker at 0x268e92fd880>"
      ]
     },
     "execution_count": 73,
     "metadata": {},
     "output_type": "execute_result"
    },
    {
     "data": {
      "text/plain": [
       "<folium.vector_layers.CircleMarker at 0x268e92fda30>"
      ]
     },
     "execution_count": 73,
     "metadata": {},
     "output_type": "execute_result"
    },
    {
     "data": {
      "text/plain": [
       "<folium.vector_layers.CircleMarker at 0x268e92fd850>"
      ]
     },
     "execution_count": 73,
     "metadata": {},
     "output_type": "execute_result"
    },
    {
     "data": {
      "text/plain": [
       "<folium.vector_layers.CircleMarker at 0x268e92fd7f0>"
      ]
     },
     "execution_count": 73,
     "metadata": {},
     "output_type": "execute_result"
    },
    {
     "data": {
      "text/plain": [
       "<folium.vector_layers.CircleMarker at 0x268e92b8fa0>"
      ]
     },
     "execution_count": 73,
     "metadata": {},
     "output_type": "execute_result"
    },
    {
     "data": {
      "text/plain": [
       "<folium.vector_layers.CircleMarker at 0x268e92b8670>"
      ]
     },
     "execution_count": 73,
     "metadata": {},
     "output_type": "execute_result"
    },
    {
     "data": {
      "text/plain": [
       "<folium.vector_layers.CircleMarker at 0x268e92fda60>"
      ]
     },
     "execution_count": 73,
     "metadata": {},
     "output_type": "execute_result"
    },
    {
     "data": {
      "text/plain": [
       "<folium.vector_layers.CircleMarker at 0x268e92fdc70>"
      ]
     },
     "execution_count": 73,
     "metadata": {},
     "output_type": "execute_result"
    },
    {
     "data": {
      "text/plain": [
       "<folium.vector_layers.CircleMarker at 0x268e92fdac0>"
      ]
     },
     "execution_count": 73,
     "metadata": {},
     "output_type": "execute_result"
    },
    {
     "data": {
      "text/plain": [
       "<folium.vector_layers.CircleMarker at 0x268e92fda90>"
      ]
     },
     "execution_count": 73,
     "metadata": {},
     "output_type": "execute_result"
    },
    {
     "data": {
      "text/plain": [
       "<folium.vector_layers.CircleMarker at 0x268e92fdd60>"
      ]
     },
     "execution_count": 73,
     "metadata": {},
     "output_type": "execute_result"
    },
    {
     "data": {
      "text/plain": [
       "<folium.vector_layers.CircleMarker at 0x268e92fdcd0>"
      ]
     },
     "execution_count": 73,
     "metadata": {},
     "output_type": "execute_result"
    },
    {
     "data": {
      "text/plain": [
       "<folium.vector_layers.CircleMarker at 0x268e92fdb50>"
      ]
     },
     "execution_count": 73,
     "metadata": {},
     "output_type": "execute_result"
    },
    {
     "data": {
      "text/plain": [
       "<folium.vector_layers.CircleMarker at 0x268e92fdeb0>"
      ]
     },
     "execution_count": 73,
     "metadata": {},
     "output_type": "execute_result"
    },
    {
     "data": {
      "text/plain": [
       "<folium.vector_layers.CircleMarker at 0x268e92fdf40>"
      ]
     },
     "execution_count": 73,
     "metadata": {},
     "output_type": "execute_result"
    },
    {
     "data": {
      "text/plain": [
       "<folium.vector_layers.CircleMarker at 0x268e92b8820>"
      ]
     },
     "execution_count": 73,
     "metadata": {},
     "output_type": "execute_result"
    },
    {
     "data": {
      "text/plain": [
       "<folium.vector_layers.CircleMarker at 0x268e92fdf10>"
      ]
     },
     "execution_count": 73,
     "metadata": {},
     "output_type": "execute_result"
    },
    {
     "data": {
      "text/plain": [
       "<folium.vector_layers.CircleMarker at 0x268e92fdd00>"
      ]
     },
     "execution_count": 73,
     "metadata": {},
     "output_type": "execute_result"
    },
    {
     "data": {
      "text/plain": [
       "<folium.vector_layers.CircleMarker at 0x268e92fde50>"
      ]
     },
     "execution_count": 73,
     "metadata": {},
     "output_type": "execute_result"
    },
    {
     "data": {
      "text/plain": [
       "<folium.vector_layers.CircleMarker at 0x268e92fde80>"
      ]
     },
     "execution_count": 73,
     "metadata": {},
     "output_type": "execute_result"
    },
    {
     "data": {
      "text/plain": [
       "<folium.vector_layers.CircleMarker at 0x268e9312040>"
      ]
     },
     "execution_count": 73,
     "metadata": {},
     "output_type": "execute_result"
    },
    {
     "data": {
      "text/plain": [
       "<folium.vector_layers.CircleMarker at 0x268e93120d0>"
      ]
     },
     "execution_count": 73,
     "metadata": {},
     "output_type": "execute_result"
    },
    {
     "data": {
      "text/plain": [
       "<folium.vector_layers.CircleMarker at 0x268e93120a0>"
      ]
     },
     "execution_count": 73,
     "metadata": {},
     "output_type": "execute_result"
    },
    {
     "data": {
      "text/plain": [
       "<folium.vector_layers.CircleMarker at 0x268e93121c0>"
      ]
     },
     "execution_count": 73,
     "metadata": {},
     "output_type": "execute_result"
    },
    {
     "data": {
      "text/plain": [
       "<folium.vector_layers.CircleMarker at 0x268e9312370>"
      ]
     },
     "execution_count": 73,
     "metadata": {},
     "output_type": "execute_result"
    },
    {
     "data": {
      "text/plain": [
       "<folium.vector_layers.CircleMarker at 0x268e93122b0>"
      ]
     },
     "execution_count": 73,
     "metadata": {},
     "output_type": "execute_result"
    },
    {
     "data": {
      "text/plain": [
       "<folium.vector_layers.CircleMarker at 0x268e9312130>"
      ]
     },
     "execution_count": 73,
     "metadata": {},
     "output_type": "execute_result"
    },
    {
     "data": {
      "text/plain": [
       "<folium.vector_layers.CircleMarker at 0x268e93124c0>"
      ]
     },
     "execution_count": 73,
     "metadata": {},
     "output_type": "execute_result"
    },
    {
     "data": {
      "text/plain": [
       "<folium.vector_layers.CircleMarker at 0x268e93123a0>"
      ]
     },
     "execution_count": 73,
     "metadata": {},
     "output_type": "execute_result"
    },
    {
     "data": {
      "text/plain": [
       "<folium.vector_layers.CircleMarker at 0x268e9312100>"
      ]
     },
     "execution_count": 73,
     "metadata": {},
     "output_type": "execute_result"
    },
    {
     "data": {
      "text/plain": [
       "<folium.vector_layers.CircleMarker at 0x268e9312520>"
      ]
     },
     "execution_count": 73,
     "metadata": {},
     "output_type": "execute_result"
    },
    {
     "data": {
      "text/plain": [
       "<folium.vector_layers.CircleMarker at 0x268e9312430>"
      ]
     },
     "execution_count": 73,
     "metadata": {},
     "output_type": "execute_result"
    },
    {
     "data": {
      "text/plain": [
       "<folium.vector_layers.CircleMarker at 0x268e9312220>"
      ]
     },
     "execution_count": 73,
     "metadata": {},
     "output_type": "execute_result"
    },
    {
     "data": {
      "text/plain": [
       "<folium.vector_layers.CircleMarker at 0x268e9312460>"
      ]
     },
     "execution_count": 73,
     "metadata": {},
     "output_type": "execute_result"
    },
    {
     "data": {
      "text/plain": [
       "<folium.vector_layers.CircleMarker at 0x268e9312280>"
      ]
     },
     "execution_count": 73,
     "metadata": {},
     "output_type": "execute_result"
    },
    {
     "data": {
      "text/plain": [
       "<folium.vector_layers.CircleMarker at 0x268e93126d0>"
      ]
     },
     "execution_count": 73,
     "metadata": {},
     "output_type": "execute_result"
    },
    {
     "data": {
      "text/plain": [
       "<folium.vector_layers.CircleMarker at 0x268e9312790>"
      ]
     },
     "execution_count": 73,
     "metadata": {},
     "output_type": "execute_result"
    },
    {
     "data": {
      "text/plain": [
       "<folium.vector_layers.CircleMarker at 0x268e9312850>"
      ]
     },
     "execution_count": 73,
     "metadata": {},
     "output_type": "execute_result"
    },
    {
     "data": {
      "text/plain": [
       "<folium.vector_layers.CircleMarker at 0x268e9312730>"
      ]
     },
     "execution_count": 73,
     "metadata": {},
     "output_type": "execute_result"
    },
    {
     "data": {
      "text/plain": [
       "<folium.vector_layers.CircleMarker at 0x268e9312880>"
      ]
     },
     "execution_count": 73,
     "metadata": {},
     "output_type": "execute_result"
    },
    {
     "data": {
      "text/plain": [
       "<folium.vector_layers.CircleMarker at 0x268e93127f0>"
      ]
     },
     "execution_count": 73,
     "metadata": {},
     "output_type": "execute_result"
    },
    {
     "data": {
      "text/plain": [
       "<folium.vector_layers.CircleMarker at 0x268e9312610>"
      ]
     },
     "execution_count": 73,
     "metadata": {},
     "output_type": "execute_result"
    },
    {
     "data": {
      "text/plain": [
       "<folium.vector_layers.CircleMarker at 0x268e9312a30>"
      ]
     },
     "execution_count": 73,
     "metadata": {},
     "output_type": "execute_result"
    },
    {
     "data": {
      "text/plain": [
       "<folium.vector_layers.CircleMarker at 0x268e9312640>"
      ]
     },
     "execution_count": 73,
     "metadata": {},
     "output_type": "execute_result"
    },
    {
     "data": {
      "text/plain": [
       "<folium.vector_layers.CircleMarker at 0x268e93129a0>"
      ]
     },
     "execution_count": 73,
     "metadata": {},
     "output_type": "execute_result"
    },
    {
     "data": {
      "text/plain": [
       "<folium.vector_layers.CircleMarker at 0x268e9312af0>"
      ]
     },
     "execution_count": 73,
     "metadata": {},
     "output_type": "execute_result"
    },
    {
     "data": {
      "text/plain": [
       "<folium.vector_layers.CircleMarker at 0x268e9312970>"
      ]
     },
     "execution_count": 73,
     "metadata": {},
     "output_type": "execute_result"
    },
    {
     "data": {
      "text/plain": [
       "<folium.vector_layers.CircleMarker at 0x268e93128e0>"
      ]
     },
     "execution_count": 73,
     "metadata": {},
     "output_type": "execute_result"
    },
    {
     "data": {
      "text/plain": [
       "<folium.vector_layers.CircleMarker at 0x268e92fddf0>"
      ]
     },
     "execution_count": 73,
     "metadata": {},
     "output_type": "execute_result"
    },
    {
     "data": {
      "text/plain": [
       "<folium.vector_layers.CircleMarker at 0x268e9312910>"
      ]
     },
     "execution_count": 73,
     "metadata": {},
     "output_type": "execute_result"
    },
    {
     "data": {
      "text/plain": [
       "<folium.vector_layers.CircleMarker at 0x268e9312b80>"
      ]
     },
     "execution_count": 73,
     "metadata": {},
     "output_type": "execute_result"
    },
    {
     "data": {
      "text/plain": [
       "<folium.vector_layers.CircleMarker at 0x268e9312cd0>"
      ]
     },
     "execution_count": 73,
     "metadata": {},
     "output_type": "execute_result"
    },
    {
     "data": {
      "text/plain": [
       "<folium.vector_layers.CircleMarker at 0x268e9312bb0>"
      ]
     },
     "execution_count": 73,
     "metadata": {},
     "output_type": "execute_result"
    },
    {
     "data": {
      "text/plain": [
       "<folium.vector_layers.CircleMarker at 0x268e9312be0>"
      ]
     },
     "execution_count": 73,
     "metadata": {},
     "output_type": "execute_result"
    },
    {
     "data": {
      "text/plain": [
       "<folium.vector_layers.CircleMarker at 0x268e9312a60>"
      ]
     },
     "execution_count": 73,
     "metadata": {},
     "output_type": "execute_result"
    },
    {
     "data": {
      "text/plain": [
       "<folium.vector_layers.CircleMarker at 0x268e9312d30>"
      ]
     },
     "execution_count": 73,
     "metadata": {},
     "output_type": "execute_result"
    },
    {
     "data": {
      "text/plain": [
       "<folium.vector_layers.CircleMarker at 0x268e9312c70>"
      ]
     },
     "execution_count": 73,
     "metadata": {},
     "output_type": "execute_result"
    },
    {
     "data": {
      "text/plain": [
       "<folium.vector_layers.CircleMarker at 0x268e9312df0>"
      ]
     },
     "execution_count": 73,
     "metadata": {},
     "output_type": "execute_result"
    },
    {
     "data": {
      "text/plain": [
       "<folium.vector_layers.CircleMarker at 0x268e9312e50>"
      ]
     },
     "execution_count": 73,
     "metadata": {},
     "output_type": "execute_result"
    },
    {
     "data": {
      "text/plain": [
       "<folium.vector_layers.CircleMarker at 0x268e9312f70>"
      ]
     },
     "execution_count": 73,
     "metadata": {},
     "output_type": "execute_result"
    },
    {
     "data": {
      "text/plain": [
       "<folium.vector_layers.CircleMarker at 0x268e9312c10>"
      ]
     },
     "execution_count": 73,
     "metadata": {},
     "output_type": "execute_result"
    },
    {
     "data": {
      "text/plain": [
       "<folium.vector_layers.CircleMarker at 0x268e931b040>"
      ]
     },
     "execution_count": 73,
     "metadata": {},
     "output_type": "execute_result"
    },
    {
     "data": {
      "text/plain": [
       "<folium.vector_layers.CircleMarker at 0x268e931b0a0>"
      ]
     },
     "execution_count": 73,
     "metadata": {},
     "output_type": "execute_result"
    },
    {
     "data": {
      "text/plain": [
       "<folium.vector_layers.CircleMarker at 0x268e931b160>"
      ]
     },
     "execution_count": 73,
     "metadata": {},
     "output_type": "execute_result"
    },
    {
     "data": {
      "text/plain": [
       "<folium.vector_layers.CircleMarker at 0x268e931b2e0>"
      ]
     },
     "execution_count": 73,
     "metadata": {},
     "output_type": "execute_result"
    },
    {
     "data": {
      "text/plain": [
       "<folium.vector_layers.CircleMarker at 0x268e931b0d0>"
      ]
     },
     "execution_count": 73,
     "metadata": {},
     "output_type": "execute_result"
    },
    {
     "data": {
      "text/plain": [
       "<folium.vector_layers.CircleMarker at 0x268e931b310>"
      ]
     },
     "execution_count": 73,
     "metadata": {},
     "output_type": "execute_result"
    },
    {
     "data": {
      "text/plain": [
       "<folium.vector_layers.CircleMarker at 0x268e9312fd0>"
      ]
     },
     "execution_count": 73,
     "metadata": {},
     "output_type": "execute_result"
    },
    {
     "data": {
      "text/plain": [
       "<folium.vector_layers.CircleMarker at 0x268e9312d90>"
      ]
     },
     "execution_count": 73,
     "metadata": {},
     "output_type": "execute_result"
    },
    {
     "data": {
      "text/plain": [
       "<folium.vector_layers.CircleMarker at 0x268e931b2b0>"
      ]
     },
     "execution_count": 73,
     "metadata": {},
     "output_type": "execute_result"
    },
    {
     "data": {
      "text/plain": [
       "<folium.vector_layers.CircleMarker at 0x268e931b490>"
      ]
     },
     "execution_count": 73,
     "metadata": {},
     "output_type": "execute_result"
    },
    {
     "data": {
      "text/plain": [
       "<folium.vector_layers.CircleMarker at 0x268e931b3d0>"
      ]
     },
     "execution_count": 73,
     "metadata": {},
     "output_type": "execute_result"
    },
    {
     "data": {
      "text/plain": [
       "<folium.vector_layers.CircleMarker at 0x268e931b130>"
      ]
     },
     "execution_count": 73,
     "metadata": {},
     "output_type": "execute_result"
    },
    {
     "data": {
      "text/plain": [
       "<folium.vector_layers.CircleMarker at 0x268e931b400>"
      ]
     },
     "execution_count": 73,
     "metadata": {},
     "output_type": "execute_result"
    },
    {
     "data": {
      "text/plain": [
       "<folium.vector_layers.CircleMarker at 0x268e931b640>"
      ]
     },
     "execution_count": 73,
     "metadata": {},
     "output_type": "execute_result"
    },
    {
     "data": {
      "text/plain": [
       "<folium.vector_layers.CircleMarker at 0x268e92fdee0>"
      ]
     },
     "execution_count": 73,
     "metadata": {},
     "output_type": "execute_result"
    },
    {
     "data": {
      "text/plain": [
       "<folium.vector_layers.CircleMarker at 0x268e931b6d0>"
      ]
     },
     "execution_count": 73,
     "metadata": {},
     "output_type": "execute_result"
    },
    {
     "data": {
      "text/plain": [
       "<folium.vector_layers.CircleMarker at 0x268e931b700>"
      ]
     },
     "execution_count": 73,
     "metadata": {},
     "output_type": "execute_result"
    },
    {
     "data": {
      "text/plain": [
       "<folium.vector_layers.CircleMarker at 0x268e931b670>"
      ]
     },
     "execution_count": 73,
     "metadata": {},
     "output_type": "execute_result"
    }
   ],
   "source": [
    "# 서울특별시 고등학교 \n",
    "import pandas as pd\n",
    "import folium\n",
    "import json\n",
    "\n",
    "geo_path = \"C:/sooeun/DATAexam/ConvergenceProject-School_Violence/Data/3. Indicator_Data/seoul_geo.json\"\n",
    "geo_str = json.load(open(geo_path, encoding='utf-8'))\n",
    "\n",
    "map = folium.Map(location=[37.5502, 126.982], tiles=\"OpenStreetMap\", zoom_start=15)\n",
    "\n",
    "fmap=folium.Choropleth(geo_data = geo_str,\n",
    "                       line_opacity=2.0, \n",
    "                       key_on='feature.properties.name',\n",
    "                       fill_color='#00000000',\n",
    "                       fill_opacity=0.7,\n",
    "                       color = 'gray',\n",
    "                       highlight=True).add_to(map)\n",
    "\n",
    "fmap.geojson.zoom_on_click = False \n",
    "fmap.geojson.add_child(\n",
    "     folium.features.GeoJsonTooltip(['name'],labels=False)\n",
    ")\n",
    "\n",
    "# 서울특별시 고등학교 위치 시각화(매우위험)\n",
    "for i in range(len(school_very_danger)):\n",
    "    folium.CircleMarker(\n",
    "        location=[school_very_danger['위도'].iloc[i], school_very_danger['경도'].iloc[i]],\n",
    "        name='학교폭력위험도 매우위험',\n",
    "        radius=50, # 원 크기\n",
    "        color='red', # 원 선 색상\n",
    "        fill_color='red', # 원 내부 색상\n",
    "        tooltip=[school_very_danger['학교명'].iloc[i]]\n",
    "    ).add_to(map)\n",
    "\n",
    "# 서울특별시 고등학교 위치 시각화(위험)\n",
    "for i in range(len(school_danger)):\n",
    "    folium.CircleMarker(\n",
    "        location=[school_danger['위도'].iloc[i], school_danger['경도'].iloc[i]],\n",
    "        name='학교폭력위험도 위험',\n",
    "        radius=50, # 원 크기\n",
    "        color='red', # 원 선 색상\n",
    "        fill_color='orange', # 원 내부 색상\n",
    "        tooltip=[school_danger['학교명'].iloc[i]]\n",
    "    ).add_to(map)\n",
    "    \n",
    "# 서울특별시 고등학교 위치 시각화(보통) \n",
    "for i in range(len(school_normal)):\n",
    "    folium.CircleMarker(\n",
    "        location=[school_normal['위도'].iloc[i], school_normal['경도'].iloc[i]],\n",
    "        name='학교폭력위험도 보통',\n",
    "        radius=50, # 원 크기\n",
    "        color='yellow', # 원 선 색상\n",
    "        fill_color='yellow', # 원 내부 색상\n",
    "        tooltip=[school_normal['학교명'].iloc[i]]\n",
    "    ).add_to(map)\n",
    "    \n",
    "# 서울특별시 고등학교 위치 시각화(안전)\n",
    "for i in range(len(school_safety)):\n",
    "    folium.CircleMarker(\n",
    "        location=[school_safety['위도'].iloc[i], school_safety['경도'].iloc[i]],\n",
    "        name='학교폭력위험도 안전',\n",
    "        radius=50, # 원 크기\n",
    "        color='green', # 원 선 색상\n",
    "        fill_color='green', # 원 내부 색상\n",
    "        tooltip=[school_safety['학교명'].iloc[i]]\n",
    "    ).add_to(map)\n",
    "    \n",
    "# 서울특별시 고등학교 위치 시각화(매우안전)\n",
    "for i in range(len(school_very_safety)):\n",
    "    folium.CircleMarker(\n",
    "        location=[school_very_safety['위도'].iloc[i], school_very_safety['경도'].iloc[i]],\n",
    "        name='학교폭력위험도 매우안전',\n",
    "        radius=50, # 원 크기\n",
    "        color='blue', # 원 선 색상\n",
    "        fill_color='blue', # 원 내부 색상\n",
    "        tooltip=[school_very_safety['학교명'].iloc[i]]\n",
    "    ).add_to(map)"
   ]
  },
  {
   "cell_type": "code",
   "execution_count": 74,
   "id": "3ff9e13c-d2de-4909-b6a7-18d8d0ced421",
   "metadata": {
    "execution": {
     "iopub.execute_input": "2023-02-05T05:41:48.515112Z",
     "iopub.status.busy": "2023-02-05T05:41:48.514565Z",
     "iopub.status.idle": "2023-02-05T05:41:49.856014Z",
     "shell.execute_reply": "2023-02-05T05:41:49.853724Z",
     "shell.execute_reply.started": "2023-02-05T05:41:48.515112Z"
    },
    "tags": []
   },
   "outputs": [
    {
     "data": {
      "text/html": [
       "<div style=\"width:100%;\"><div style=\"position:relative;width:100%;height:0;padding-bottom:60%;\"><span style=\"color:#565656\">Make this Notebook Trusted to load map: File -> Trust Notebook</span><iframe srcdoc=\"&lt;!DOCTYPE html&gt;\n",
       "&lt;html&gt;\n",
       "&lt;head&gt;\n",
       "    \n",
       "    &lt;meta http-equiv=&quot;content-type&quot; content=&quot;text/html; charset=UTF-8&quot; /&gt;\n",
       "    \n",
       "        &lt;script&gt;\n",
       "            L_NO_TOUCH = false;\n",
       "            L_DISABLE_3D = false;\n",
       "        &lt;/script&gt;\n",
       "    \n",
       "    &lt;style&gt;html, body {width: 100%;height: 100%;margin: 0;padding: 0;}&lt;/style&gt;\n",
       "    &lt;style&gt;#map {position:absolute;top:0;bottom:0;right:0;left:0;}&lt;/style&gt;\n",
       "    &lt;script src=&quot;https://cdn.jsdelivr.net/npm/leaflet@1.6.0/dist/leaflet.js&quot;&gt;&lt;/script&gt;\n",
       "    &lt;script src=&quot;https://code.jquery.com/jquery-1.12.4.min.js&quot;&gt;&lt;/script&gt;\n",
       "    &lt;script src=&quot;https://maxcdn.bootstrapcdn.com/bootstrap/3.2.0/js/bootstrap.min.js&quot;&gt;&lt;/script&gt;\n",
       "    &lt;script src=&quot;https://cdnjs.cloudflare.com/ajax/libs/Leaflet.awesome-markers/2.0.2/leaflet.awesome-markers.js&quot;&gt;&lt;/script&gt;\n",
       "    &lt;link rel=&quot;stylesheet&quot; href=&quot;https://cdn.jsdelivr.net/npm/leaflet@1.6.0/dist/leaflet.css&quot;/&gt;\n",
       "    &lt;link rel=&quot;stylesheet&quot; href=&quot;https://maxcdn.bootstrapcdn.com/bootstrap/3.2.0/css/bootstrap.min.css&quot;/&gt;\n",
       "    &lt;link rel=&quot;stylesheet&quot; href=&quot;https://maxcdn.bootstrapcdn.com/bootstrap/3.2.0/css/bootstrap-theme.min.css&quot;/&gt;\n",
       "    &lt;link rel=&quot;stylesheet&quot; href=&quot;https://maxcdn.bootstrapcdn.com/font-awesome/4.6.3/css/font-awesome.min.css&quot;/&gt;\n",
       "    &lt;link rel=&quot;stylesheet&quot; href=&quot;https://cdnjs.cloudflare.com/ajax/libs/Leaflet.awesome-markers/2.0.2/leaflet.awesome-markers.css&quot;/&gt;\n",
       "    &lt;link rel=&quot;stylesheet&quot; href=&quot;https://cdn.jsdelivr.net/gh/python-visualization/folium/folium/templates/leaflet.awesome.rotate.min.css&quot;/&gt;\n",
       "    \n",
       "            &lt;meta name=&quot;viewport&quot; content=&quot;width=device-width,\n",
       "                initial-scale=1.0, maximum-scale=1.0, user-scalable=no&quot; /&gt;\n",
       "            &lt;style&gt;\n",
       "                #map_03370fc5c66f256379235e7baf904a67 {\n",
       "                    position: relative;\n",
       "                    width: 100.0%;\n",
       "                    height: 100.0%;\n",
       "                    left: 0.0%;\n",
       "                    top: 0.0%;\n",
       "                }\n",
       "            &lt;/style&gt;\n",
       "        \n",
       "    \n",
       "                    &lt;style&gt;\n",
       "                        .foliumtooltip {\n",
       "                            \n",
       "                        }\n",
       "                       .foliumtooltip table{\n",
       "                            margin: auto;\n",
       "                        }\n",
       "                        .foliumtooltip tr{\n",
       "                            text-align: left;\n",
       "                        }\n",
       "                        .foliumtooltip th{\n",
       "                            padding: 2px; padding-right: 8px;\n",
       "                        }\n",
       "                    &lt;/style&gt;\n",
       "            \n",
       "&lt;/head&gt;\n",
       "&lt;body&gt;\n",
       "    \n",
       "    \n",
       "            &lt;div class=&quot;folium-map&quot; id=&quot;map_03370fc5c66f256379235e7baf904a67&quot; &gt;&lt;/div&gt;\n",
       "        \n",
       "&lt;/body&gt;\n",
       "&lt;script&gt;\n",
       "    \n",
       "    \n",
       "            var map_03370fc5c66f256379235e7baf904a67 = L.map(\n",
       "                &quot;map_03370fc5c66f256379235e7baf904a67&quot;,\n",
       "                {\n",
       "                    center: [37.5502, 126.982],\n",
       "                    crs: L.CRS.EPSG3857,\n",
       "                    zoom: 15,\n",
       "                    zoomControl: true,\n",
       "                    preferCanvas: false,\n",
       "                }\n",
       "            );\n",
       "\n",
       "            \n",
       "\n",
       "        \n",
       "    \n",
       "            var tile_layer_549584aeabc9cda1d82e202456095efb = L.tileLayer(\n",
       "                &quot;https://{s}.tile.openstreetmap.org/{z}/{x}/{y}.png&quot;,\n",
       "                {&quot;attribution&quot;: &quot;Data by \\u0026copy; \\u003ca href=\\&quot;http://openstreetmap.org\\&quot;\\u003eOpenStreetMap\\u003c/a\\u003e, under \\u003ca href=\\&quot;http://www.openstreetmap.org/copyright\\&quot;\\u003eODbL\\u003c/a\\u003e.&quot;, &quot;detectRetina&quot;: false, &quot;maxNativeZoom&quot;: 18, &quot;maxZoom&quot;: 18, &quot;minZoom&quot;: 0, &quot;noWrap&quot;: false, &quot;opacity&quot;: 1, &quot;subdomains&quot;: &quot;abc&quot;, &quot;tms&quot;: false}\n",
       "            ).addTo(map_03370fc5c66f256379235e7baf904a67);\n",
       "        \n",
       "    \n",
       "            var choropleth_23890fd52fee91c9ddefad59660b89e2 = L.featureGroup(\n",
       "                {}\n",
       "            ).addTo(map_03370fc5c66f256379235e7baf904a67);\n",
       "        \n",
       "    \n",
       "        function geo_json_10a31297a8eb941060981af2f5873568_styler(feature) {\n",
       "            switch(feature.properties.name) {\n",
       "                default:\n",
       "                    return {&quot;color&quot;: &quot;black&quot;, &quot;fillColor&quot;: &quot;#00000000&quot;, &quot;fillOpacity&quot;: 0.7, &quot;opacity&quot;: 2.0, &quot;weight&quot;: 1};\n",
       "            }\n",
       "        }\n",
       "        function geo_json_10a31297a8eb941060981af2f5873568_highlighter(feature) {\n",
       "            switch(feature.properties.name) {\n",
       "                default:\n",
       "                    return {&quot;fillOpacity&quot;: 0.8999999999999999, &quot;weight&quot;: 3};\n",
       "            }\n",
       "        }\n",
       "\n",
       "        function geo_json_10a31297a8eb941060981af2f5873568_onEachFeature(feature, layer) {\n",
       "            layer.on({\n",
       "                mouseout: function(e) {\n",
       "                    if(typeof e.target.setStyle === &quot;function&quot;){\n",
       "                        geo_json_10a31297a8eb941060981af2f5873568.resetStyle(e.target);\n",
       "                    }\n",
       "                },\n",
       "                mouseover: function(e) {\n",
       "                    if(typeof e.target.setStyle === &quot;function&quot;){\n",
       "                        const highlightStyle = geo_json_10a31297a8eb941060981af2f5873568_highlighter(e.target.feature)\n",
       "                        e.target.setStyle(highlightStyle);\n",
       "                    }\n",
       "                },\n",
       "            });\n",
       "        };\n",
       "        var geo_json_10a31297a8eb941060981af2f5873568 = L.geoJson(null, {\n",
       "                onEachFeature: geo_json_10a31297a8eb941060981af2f5873568_onEachFeature,\n",
       "            \n",
       "                style: geo_json_10a31297a8eb941060981af2f5873568_styler,\n",
       "        });\n",
       "\n",
       "        function geo_json_10a31297a8eb941060981af2f5873568_add (data) {\n",
       "            geo_json_10a31297a8eb941060981af2f5873568\n",
       "                .addData(data)\n",
       "                .addTo(choropleth_23890fd52fee91c9ddefad59660b89e2);\n",
       "        }\n",
       "            geo_json_10a31297a8eb941060981af2f5873568_add({&quot;crs&quot;: {&quot;properties&quot;: {&quot;name&quot;: &quot;urn:ogc:def:crs:OGC:1.3:CRS84&quot;}, &quot;type&quot;: &quot;name&quot;}, &quot;features&quot;: [{&quot;geometry&quot;: {&quot;coordinates&quot;: [[[[126.97468086053324, 37.629805433945975], [126.97496550641705, 37.62902584732434], [126.97619200024447, 37.629086831818235], [126.97841861289852, 37.62929009924553], [126.97952791872238, 37.62889299772442], [126.97993254143336, 37.62855138674378], [126.97997245663913, 37.62845560448294], [126.98004544991201, 37.628280435760445], [126.97960294035302, 37.626371002121644], [126.98090237068868, 37.625391798020395], [126.98168803207568, 37.62449661776251], [126.98184774907679, 37.62431463061319], [126.98310978892584, 37.622104640078], [126.98365101056845, 37.62115092912986], [126.98355888565348, 37.620963267437894], [126.98317999257362, 37.62018285183479], [126.9831620682276, 37.6192347829173], [126.9837143460292, 37.61775856638039], [126.98453643307462, 37.61598061074333], [126.985901535693, 37.612194740823796], [126.9857804843237, 37.61090698776889], [126.98586523076781, 37.60946995153532], [126.98623831468637, 37.607736782107125], [126.98675598705915, 37.60608704965549], [126.98677074181907, 37.60458661863664], [126.9866691435352, 37.604023824468506], [126.98589778740545, 37.60363176153766], [126.98259603020061, 37.60224271097029], [126.9806843648502, 37.60161031225276], [126.97880665420949, 37.60101042316433], [126.97852169405631, 37.60099248777431], [126.97841693568347, 37.600914296754326], [126.97830701720335, 37.600830447643865], [126.97768193317589, 37.60024002437466], [126.9774909383084, 37.599649166074286], [126.97719804274786, 37.59864847380904], [126.97672044958631, 37.59790077442683], [126.97713557023776, 37.59768356016227], [126.97874017601505, 37.59663493476611], [126.97911091252222, 37.596394270916285], [126.98148823597326, 37.59533576215007], [126.98292059990969, 37.594775982193624], [126.98384405286397, 37.59443543461552], [126.98432317109803, 37.59437806733553], [126.98450416009975, 37.59437471448865], [126.9846156223434, 37.59438909275369], [126.98463785016311, 37.59439408049888], [126.98464216134765, 37.59439557572296], [126.98466445483236, 37.59440401859687], [126.98474441343951, 37.594434717703415], [126.98479058424006, 37.594451906863895], [126.98487868712496, 37.59446656147479], [126.98514831673403, 37.594501790677405], [126.98542946037894, 37.59444945443447], [126.98577892249222, 37.59425495254234], [126.98851705023388, 37.59194143989685], [126.98886704210804, 37.59164472228141], [126.98907495209343, 37.59142090222344], [126.98908433025534, 37.59140908294205], [126.98962720754243, 37.59139763837295], [126.99366158210871, 37.59149362412968], [126.99744340490047, 37.59221011675905], [126.99845395445548, 37.59247126210828], [127.00182654761254, 37.59117745103071], [127.00408062474574, 37.58773357887768], [127.00656012457411, 37.58553460128624], [127.00863797169242, 37.58045993171883], [127.01051131122689, 37.58025727035416], [127.0111260694579, 37.58104392936677], [127.0111791729006, 37.58109176738164], [127.01169858419944, 37.58150458110694], [127.0117885968101, 37.58157458058202], [127.0120845128743, 37.581585674737156], [127.01222457400928, 37.581550873062085], [127.0124187027769, 37.58150235525185], [127.01253278245557, 37.58147102693477], [127.01262598550882, 37.58144402349896], [127.01274334585422, 37.58141185855377], [127.01285982629548, 37.58138609392204], [127.01314825156626, 37.58143362114355], [127.01324571819538, 37.58145032393419], [127.0141191759168, 37.581820171723166], [127.01474563580459, 37.582305831258346], [127.01483334205895, 37.58233145649853], [127.01491713941482, 37.582244907556685], [127.01638580146992, 37.58193775580977], [127.01673363020068, 37.58169269831286], [127.01829142498933, 37.579049416348774], [127.01830026223921, 37.57903270179077], [127.0187770633223, 37.57751723332606], [127.02179265953254, 37.57888146291368], [127.02313849621643, 37.57802087910892], [127.02336168058478, 37.57191110395814], [127.0231368263208, 37.57196081106164], [127.01902025943656, 37.57101323682973], [127.01733386994712, 37.570076865408346], [127.01003508740953, 37.569770822171066], [127.00983517715241, 37.569764939352325], [127.00667501959796, 37.5696322906642], [127.00331554021028, 37.56962809025019], [127.00166446511412, 37.56954949223042], [126.99997987347145, 37.5692153342546], [126.99979663625149, 37.569179012484], [126.99919901238287, 37.569061584986855], [126.99894910731591, 37.56901456760983], [126.99872661605082, 37.56897317063658], [126.99854409537699, 37.568939937981746], [126.99823033791377, 37.56888559029638], [126.99795832632955, 37.56884081225306], [126.99734249535118, 37.56876646165091], [126.99683684418163, 37.568709851806034], [126.99646755692298, 37.56866901280384], [126.99624859929914, 37.56864873037851], [126.9908841263958, 37.568202068530944], [126.99015096670833, 37.56813614100136], [126.9899958620981, 37.568128802881496], [126.98961154520899, 37.5681113107368], [126.98956785452701, 37.56810990322031], [126.98946917417102, 37.5681067923079], [126.98894530081218, 37.56810280048161], [126.98892726902085, 37.56810279903639], [126.98892019626068, 37.56810279906341], [126.98838782923946, 37.56812610223998], [126.9882334327857, 37.568133130541256], [126.98821751956565, 37.56813396831202], [126.98663917909906, 37.568232328822624], [126.97973830842082, 37.5690421486377], [126.97762523789515, 37.569298907580105], [126.97566360541524, 37.56938088043951], [126.96909869121171, 37.56824768293371], [126.96669861216496, 37.565820355825934], [126.9657113705709, 37.56677550324494], [126.95940037405296, 37.57304934989536], [126.95491745681615, 37.577149174890465], [126.95355819355073, 37.578748855084044], [126.95362029368313, 37.57880909633655], [126.95720618763337, 37.5798655310825], [126.9575728370125, 37.58230278085636], [126.95799889706633, 37.58412468840079], [126.95799717111329, 37.58444209574531], [126.95790145320846, 37.584703977736275], [126.95782691437041, 37.58485252016721], [126.95784782389684, 37.585019116837834], [126.95783833056504, 37.58504093891924], [126.9578273214224, 37.58506624584095], [126.95747215846923, 37.5860469085176], [126.95737395766116, 37.587076849872744], [126.9573886107174, 37.58906602474426], [126.95749035641607, 37.59007828277017], [126.95779750312285, 37.592573592797144], [126.95852639147067, 37.59418568474202], [126.95902399975766, 37.59479744400614], [126.95903333866578, 37.59505902103998], [126.95826848335163, 37.597788688618316], [126.9580418874916, 37.598155874167304], [126.95771415677586, 37.59836707719559], [126.9573078320294, 37.5985310319704], [126.95654122604887, 37.598827579847494], [126.95634147535245, 37.59892143950143], [126.95414105350225, 37.59909827963582], [126.95338041139009, 37.599531288469684], [126.95259689745177, 37.60122903220133], [126.95250806229828, 37.60156792706982], [126.95237511989355, 37.602476036294], [126.95356668581537, 37.60447934849368], [126.95376271651638, 37.60469036467159], [126.95388420830209, 37.60480196572351], [126.95254683214502, 37.60665255755602], [126.95220372203077, 37.60688813942989], [126.95056465460655, 37.60835968464961], [126.95033780725277, 37.60909261594867], [126.95036280527036, 37.610622635741834], [126.94982875644766, 37.61165624620594], [126.94986821104538, 37.611730018151725], [126.95047793576704, 37.6128699970444], [126.95073164301206, 37.61352828204463], [126.95079658268352, 37.613849365294406], [126.95072414848573, 37.615537943529716], [126.95046953204748, 37.616099153508785], [126.94986337153628, 37.61872668218891], [126.94889796158519, 37.623262743943236], [126.94900026337734, 37.6243351349276], [126.94971290787633, 37.625344069539224], [126.94981195859722, 37.625497586539126], [126.95045372101613, 37.626418006443956], [126.95556524710337, 37.62828290175954], [126.95841841842733, 37.629469751140356], [126.96011573909414, 37.62977556572832], [126.96708433443806, 37.63070658019315], [126.97302977391784, 37.6323747679206], [126.97538835725105, 37.63173308759023], [126.97536907543345, 37.631698170595676], [126.97508476623943, 37.63118349920217], [126.97468086053324, 37.629805433945975]]]], &quot;type&quot;: &quot;MultiPolygon&quot;}, &quot;properties&quot;: {&quot;base_year&quot;: &quot;2018&quot;, &quot;code&quot;: &quot;11010&quot;, &quot;name&quot;: &quot;\\uc885\\ub85c\\uad6c&quot;, &quot;name_eng&quot;: &quot;Jongno-gu&quot;}, &quot;type&quot;: &quot;Feature&quot;}, {&quot;geometry&quot;: {&quot;coordinates&quot;: [[[[127.02339132012439, 37.571904440082946], [127.0235820843341, 37.565199780474096], [127.02676724664535, 37.564955165753794], [127.02675615893189, 37.564277145660014], [127.0266975805678, 37.56384680516852], [127.0266474618172, 37.56367476566317], [127.02661925889667, 37.563581645989565], [127.02652602115124, 37.563391233488446], [127.0261489168859, 37.562885262538664], [127.02592920260471, 37.56260371301054], [127.02338927303772, 37.560729613897976], [127.02291590427346, 37.557862093852975], [127.01962807753183, 37.55729293549939], [127.01940961576902, 37.557432666923766], [127.01807250030079, 37.55688810862334], [127.01776210010382, 37.556589302089144], [127.01767993325542, 37.55647708552204], [127.01763629774473, 37.556396948523314], [127.01733893261793, 37.55585083668857], [127.016983589042, 37.554088888444404], [127.01630244006427, 37.553012143085084], [127.01322028033584, 37.55012566509271], [127.01313426487246, 37.55005099950744], [127.01264193935847, 37.549645599650674], [127.0105878521131, 37.54826906148721], [127.00967019425472, 37.54789054033861], [127.00930538728761, 37.54746436066499], [127.00920418078636, 37.54728180768359], [127.00908693559808, 37.547057181375344], [127.00815255414294, 37.54502577962789], [127.00898372441858, 37.5441342204587], [127.00837393114149, 37.54402880656706], [127.00782264363687, 37.54394268526391], [127.00729447809717, 37.54386023983948], [127.00726340032126, 37.54385711947774], [127.00602071875495, 37.5451137794029], [127.00501703336113, 37.54617162912512], [127.00501119587072, 37.546198102567246], [127.00500625204826, 37.54622090584914], [127.00532986437376, 37.54734854306918], [127.00568925535966, 37.5477030044415], [127.00432222162723, 37.55020450788634], [127.00286418194912, 37.54964161583054], [127.00284349575993, 37.54963626484794], [127.00282757387546, 37.5496328871485], [127.00282729759996, 37.549632894097364], [127.00265040596311, 37.54963879389518], [127.00081055818448, 37.54985329203749], [126.99890894784762, 37.549795001418836], [126.99834689801288, 37.54970127383072], [126.99832479625032, 37.54969536261424], [126.99765997607052, 37.549362254367125], [126.99742871643281, 37.54915924706586], [126.99674800274988, 37.548521200552756], [126.9967547424639, 37.54823908321863], [126.9967466243271, 37.547970190252585], [126.99669730579059, 37.54781617272593], [126.99635518818243, 37.54744872516758], [126.99558006340055, 37.54729861892021], [126.99523510221773, 37.54723215200436], [126.99522453034425, 37.547231596646625], [126.99521989236412, 37.547232431299676], [126.99332604343016, 37.548867162255135], [126.99234397447965, 37.55006800922459], [126.98771919906893, 37.55145069960589], [126.98541169639836, 37.55370258696939], [126.98462370924285, 37.55313681823486], [126.98460337399068, 37.5531292212332], [126.9840278182622, 37.553039037749535], [126.98402754202884, 37.5530390365424], [126.97873199754834, 37.553204613431475], [126.9787128034525, 37.553795241147206], [126.97642885901303, 37.55308720933771], [126.97642605045286, 37.55308862642271], [126.97583181103306, 37.553388358098196], [126.97583021527454, 37.55338892427174], [126.97178723785997, 37.554194464154236], [126.97178586327793, 37.55419352240507], [126.97178547204207, 37.55419329261363], [126.97169155458997, 37.554138539132104], [126.97169115537896, 37.554138316515456], [126.97169097827265, 37.55413822558815], [126.97158555306287, 37.55408437145261], [126.97158487942248, 37.55408405206449], [126.97143967431683, 37.55402068449462], [126.97143874737, 37.55402032341102], [126.97143856439362, 37.55402026220155], [126.97125556517143, 37.55396006470429], [126.97125482403192, 37.55395984506169], [126.97112353027231, 37.55392498054942], [126.9711225400937, 37.55392475618506], [126.97098748349731, 37.553901059499566], [126.97098663073659, 37.55390093489811], [126.97079859292543, 37.553880930483096], [126.97079766277997, 37.55388086231838], [126.97079742281633, 37.55388085493341], [126.97058651185841, 37.55387595430898], [126.97058573630916, 37.55387595804232], [126.9705854226115, 37.55387597105731], [126.9704394059795, 37.55388378711968], [126.9704387070504, 37.55388384257255], [126.97043788547028, 37.553883951556216], [126.97024646035061, 37.55391530252187], [126.97024628466228, 37.553915331478095], [126.97024573707883, 37.55391543808438], [126.97004633672191, 37.553959128455325], [126.97004590351347, 37.5539592310673], [126.97004505947076, 37.55395947424833], [126.96989147120692, 37.55400942703442], [126.96989112162774, 37.55400955075233], [126.96978968195255, 37.55404678064511], [126.96978911316569, 37.554047003428], [126.96978884400473, 37.55404712209864], [126.96967235167435, 37.55409961082093], [126.9696708355854, 37.554100428744995], [126.96933915066526, 37.554299712915736], [126.96917331893223, 37.55487626392344], [126.96918604816612, 37.55566231478658], [126.96663709129992, 37.55443480631841], [126.96337569880178, 37.55225904063448], [126.96240556625945, 37.55159213643027], [126.96221147576172, 37.55325535792476], [126.96344215086458, 37.55684990111131], [126.96342917207873, 37.556955909121314], [126.96342686896764, 37.55696478233747], [126.96307114716869, 37.55811588780199], [126.96207452967786, 37.558452574386166], [126.96191958776049, 37.558459189089504], [126.96182701366088, 37.558449337253556], [126.96157354706754, 37.55841993339053], [126.96167996127201, 37.55902750312324], [126.96180226440266, 37.559041054526034], [126.96208463681876, 37.55907296375186], [126.96330371892424, 37.55921401666352], [126.96396404847887, 37.559455001069246], [126.96398318266212, 37.55946203552578], [126.96401249119556, 37.559474747787114], [126.96456437662596, 37.55978702518433], [126.96510448609645, 37.56009401522906], [126.96558039988518, 37.56036508918786], [126.96593140477017, 37.56062030400109], [126.96612795779161, 37.56076331018034], [126.96622221438783, 37.56083173579996], [126.96637895032396, 37.5609453867288], [126.96666769119673, 37.56115385165759], [126.96683355968507, 37.561272814313924], [126.96744146130754, 37.561508338125854], [126.96946310425139, 37.5619763646108], [126.96669861216496, 37.565820355825934], [126.96909869121171, 37.56824768293371], [126.97566360541524, 37.56938088043951], [126.97762523789515, 37.569298907580105], [126.97973830842082, 37.5690421486377], [126.98663917909906, 37.568232328822624], [126.98821751956565, 37.56813396831202], [126.9882334327857, 37.568133130541256], [126.98838782923946, 37.56812610223998], [126.98892019626068, 37.56810279906341], [126.98892726902085, 37.56810279903639], [126.98894530081218, 37.56810280048161], [126.98946917417102, 37.5681067923079], [126.98956785452701, 37.56810990322031], [126.98961154520899, 37.5681113107368], [126.9899958620981, 37.568128802881496], [126.99015096670833, 37.56813614100136], [126.9908841263958, 37.568202068530944], [126.99624859929914, 37.56864873037851], [126.99646755692298, 37.56866901280384], [126.99683684418163, 37.568709851806034], [126.99734249535118, 37.56876646165091], [126.99795832632955, 37.56884081225306], [126.99823033791377, 37.56888559029638], [126.99854409537699, 37.568939937981746], [126.99872661605082, 37.56897317063658], [126.99894910731591, 37.56901456760983], [126.99919901238287, 37.569061584986855], [126.99979663625149, 37.569179012484], [126.99997987347145, 37.5692153342546], [127.00166446511412, 37.56954949223042], [127.00331554021028, 37.56962809025019], [127.00667501959796, 37.5696322906642], [127.00983517715241, 37.569764939352325], [127.01003508740953, 37.569770822171066], [127.01733386994712, 37.570076865408346], [127.01902025943656, 37.57101323682973], [127.0231368263208, 37.57196081106164], [127.02336168058478, 37.57191110395814], [127.02339132012439, 37.571904440082946]]]], &quot;type&quot;: &quot;MultiPolygon&quot;}, &quot;properties&quot;: {&quot;base_year&quot;: &quot;2018&quot;, &quot;code&quot;: &quot;11020&quot;, &quot;name&quot;: &quot;\\uc911\\uad6c&quot;, &quot;name_eng&quot;: &quot;Jung-gu&quot;}, &quot;type&quot;: &quot;Feature&quot;}, {&quot;geometry&quot;: {&quot;coordinates&quot;: [[[[126.97058573630916, 37.55387595804232], [126.97058651185841, 37.55387595430898], [126.97079742281633, 37.55388085493341], [126.97079766277997, 37.55388086231838], [126.97079859292543, 37.553880930483096], [126.97098663073659, 37.55390093489811], [126.97098748349731, 37.553901059499566], [126.9711225400937, 37.55392475618506], [126.97112353027231, 37.55392498054942], [126.97125482403192, 37.55395984506169], [126.97125556517143, 37.55396006470429], [126.97143856439362, 37.55402026220155], [126.97143874737, 37.55402032341102], [126.97143967431683, 37.55402068449462], [126.97158487942248, 37.55408405206449], [126.97158555306287, 37.55408437145261], [126.97169097827265, 37.55413822558815], [126.97169115537896, 37.554138316515456], [126.97169155458997, 37.554138539132104], [126.97178547204207, 37.55419329261363], [126.97178586327793, 37.55419352240507], [126.97178723785997, 37.554194464154236], [126.97583021527454, 37.55338892427174], [126.97583181103306, 37.553388358098196], [126.97642605045286, 37.55308862642271], [126.97642885901303, 37.55308720933771], [126.9787128034525, 37.553795241147206], [126.97873199754834, 37.553204613431475], [126.98402754202884, 37.5530390365424], [126.9840278182622, 37.553039037749535], [126.98460337399068, 37.5531292212332], [126.98462370924285, 37.55313681823486], [126.98541169639836, 37.55370258696939], [126.98771919906893, 37.55145069960589], [126.99234397447965, 37.55006800922459], [126.99332604343016, 37.548867162255135], [126.99521989236412, 37.547232431299676], [126.99522453034425, 37.547231596646625], [126.99523510221773, 37.54723215200436], [126.99558006340055, 37.54729861892021], [126.99635518818243, 37.54744872516758], [126.99669730579059, 37.54781617272593], [126.9967466243271, 37.547970190252585], [126.9967547424639, 37.54823908321863], [126.99674800274988, 37.548521200552756], [126.99742871643281, 37.54915924706586], [126.99765997607052, 37.549362254367125], [126.99832479625032, 37.54969536261424], [126.99834689801288, 37.54970127383072], [126.99890894784762, 37.549795001418836], [127.00081055818448, 37.54985329203749], [127.00265040596311, 37.54963879389518], [127.00282729759996, 37.549632894097364], [127.00282757387546, 37.5496328871485], [127.00284349575993, 37.54963626484794], [127.00286418194912, 37.54964161583054], [127.00432222162723, 37.55020450788634], [127.00568925535966, 37.5477030044415], [127.00532986437376, 37.54734854306918], [127.00500625204826, 37.54622090584914], [127.00501119587072, 37.546198102567246], [127.00501703336113, 37.54617162912512], [127.00602071875495, 37.5451137794029], [127.00726340032126, 37.54385711947774], [127.00729447809717, 37.54386023983948], [127.00782264363687, 37.54394268526391], [127.00837393114149, 37.54402880656706], [127.00898372441858, 37.5441342204587], [127.00869961220984, 37.54199342230531], [127.00872772209142, 37.54188358967872], [127.00880834601224, 37.54158157116291], [127.00934370193075, 37.539966247062665], [127.00958968610645, 37.53963896313964], [127.00984679636447, 37.539457414002236], [127.00994635800906, 37.53939253597947], [127.01148342817797, 37.53902571157863], [127.01322897580299, 37.53888641044216], [127.01502236048485, 37.538542391744954], [127.01729268884499, 37.53774071646722], [127.01753062665715, 37.53765227105406], [127.0174399502128, 37.5340035161648], [127.0155317701902, 37.532435463716006], [127.01489568044202, 37.53220762145792], [127.01210153494804, 37.52929577525301], [127.00857748177432, 37.52559552160008], [127.00765736980212, 37.52465455692122], [127.00319310984193, 37.521165848043665], [127.00319248904668, 37.521160996144594], [127.00249420600797, 37.52067368055248], [126.99742831617398, 37.517357838932725], [126.99584667326984, 37.51636102836289], [126.99070234073508, 37.51309032365475], [126.99029938691216, 37.51258495315584], [126.98981312726907, 37.511973817846446], [126.98809486087553, 37.50981672523019], [126.98771401590916, 37.509332727070436], [126.98620752133297, 37.50739567677136], [126.98554764158752, 37.506543091737434], [126.9855321571263, 37.50654237892677], [126.9838236839766, 37.50652050292752], [126.98316517932905, 37.50651989675191], [126.9824128451054, 37.5065330117685], [126.98040672662873, 37.5065362897333], [126.97867549985075, 37.50655446759843], [126.97405348820429, 37.50747610766051], [126.97034929840454, 37.508918600067254], [126.97027087874405, 37.508948656526634], [126.97009784223579, 37.50901404797222], [126.97009237393699, 37.509016113683266], [126.96895130960068, 37.50932653013852], [126.96891089231379, 37.50933752161895], [126.96753626466662, 37.509710048142516], [126.96692063503207, 37.50987506039534], [126.96682223676665, 37.5099227540379], [126.96574111029743, 37.51044865883372], [126.9650118327607, 37.510803518525414], [126.9649812050089, 37.510823539500116], [126.96311825467312, 37.51222854026386], [126.96190968925961, 37.513117117517254], [126.9569748624454, 37.51512275073511], [126.94988654989376, 37.517519985388724], [126.94988248009479, 37.52342494613875], [126.94987682973515, 37.527028924355626], [126.94943967088527, 37.52758517630757], [126.94924730511903, 37.527829883255556], [126.94880546108193, 37.52839219592833], [126.94830668921367, 37.52902701064826], [126.9482075528347, 37.52915327568521], [126.94741600067402, 37.53016303049531], [126.94717240060359, 37.53063168722498], [126.94458999713282, 37.533785726032306], [126.94481868374436, 37.53452170301972], [126.94485812066728, 37.534585420999605], [126.94509447153172, 37.534962286770146], [126.94599290199963, 37.53553043486862], [126.94627653418974, 37.535691026536306], [126.94640477121575, 37.5357357037959], [126.94641457494401, 37.53573884318848], [126.94669437338528, 37.535546566093515], [126.94730824405993, 37.53528799507341], [126.95093645079223, 37.53616834359133], [126.95128383515414, 37.53628561953873], [126.95335583666409, 37.537493372526846], [126.95463815486944, 37.53906890466911], [126.95518526468129, 37.53918489838677], [126.95526467715118, 37.539212769442145], [126.9557337435262, 37.53947063722594], [126.95665907639187, 37.540594169710204], [126.95658258906258, 37.54076126512396], [126.95750573464218, 37.54400118025511], [126.95779886687306, 37.54522191888898], [126.95791898445925, 37.545495779306165], [126.96143171405134, 37.547544211887946], [126.96293886133624, 37.54871389072237], [126.96333956605022, 37.54863825609617], [126.96349470585591, 37.55015910577084], [126.96240556625945, 37.55159213643027], [126.96337569880178, 37.55225904063448], [126.96663709129992, 37.55443480631841], [126.96918604816612, 37.55566231478658], [126.96917331893223, 37.55487626392344], [126.96933915066526, 37.554299712915736], [126.9696708355854, 37.554100428744995], [126.96967235167435, 37.55409961082093], [126.96978884400473, 37.55404712209864], [126.96978911316569, 37.554047003428], [126.96978968195255, 37.55404678064511], [126.96989112162774, 37.55400955075233], [126.96989147120692, 37.55400942703442], [126.97004505947076, 37.55395947424833], [126.97004590351347, 37.5539592310673], [126.97004633672191, 37.553959128455325], [126.97024573707883, 37.55391543808438], [126.97024628466228, 37.553915331478095], [126.97024646035061, 37.55391530252187], [126.97043788547028, 37.553883951556216], [126.9704387070504, 37.55388384257255], [126.9704394059795, 37.55388378711968], [126.9705854226115, 37.55387597105731], [126.97058573630916, 37.55387595804232]]]], &quot;type&quot;: &quot;MultiPolygon&quot;}, &quot;properties&quot;: {&quot;base_year&quot;: &quot;2018&quot;, &quot;code&quot;: &quot;11030&quot;, &quot;name&quot;: &quot;\\uc6a9\\uc0b0\\uad6c&quot;, &quot;name_eng&quot;: &quot;Yongsan-gu&quot;}, &quot;type&quot;: &quot;Feature&quot;}, {&quot;geometry&quot;: {&quot;coordinates&quot;: [[[[127.04323711128917, 37.57240962915567], [127.04491321588206, 37.57169602878096], [127.04795064384513, 37.570384241586346], [127.04816472001133, 37.57022606142278], [127.04838542696314, 37.57006256934487], [127.0484861354268, 37.56998795513731], [127.04855501594116, 37.56993670738165], [127.04861828453745, 37.56988953295532], [127.04875402966513, 37.56978812738354], [127.05495009334904, 37.56515810716947], [127.05779766614016, 37.56303723739784], [127.05876084234758, 37.56231431497808], [127.0594629479534, 37.56221387289767], [127.0645482007912, 37.56148651213379], [127.07085587714086, 37.56058396952708], [127.07105821472967, 37.560554927787685], [127.0720030312792, 37.56009903540849], [127.07238515054827, 37.55996034375495], [127.07373575894405, 37.55941397583424], [127.07273792352518, 37.55765132356379], [127.06746584694035, 37.54833002796885], [127.06746518801573, 37.54832886281026], [127.06401169976147, 37.542229208004684], [127.06285420541717, 37.54017746622938], [127.06147143778892, 37.53770843804644], [127.0600916472293, 37.53525823236088], [127.05996358458248, 37.53503098349384], [127.0596358265026, 37.53445051894064], [127.05955546744343, 37.53430874265821], [127.05951936056927, 37.53424533921109], [127.05927725863621, 37.53384642572189], [127.05857745984557, 37.53259015932764], [127.05790548112682, 37.53137808701062], [127.05746849147607, 37.530589379089406], [127.05728079543104, 37.530249926566064], [127.05622154261032, 37.52833096963777], [127.05368487141529, 37.52958838043007], [127.05207108475754, 37.53063337118711], [127.05169910616739, 37.53086452638734], [127.05146823245727, 37.531003828444426], [127.05102544702143, 37.5312680960251], [127.04891941294919, 37.53251960988298], [127.04657679488355, 37.53392330324264], [127.04604434826467, 37.53423977279849], [127.04566997178793, 37.53434596917792], [127.04533290376176, 37.53444153593039], [127.0403881499905, 37.53582315700936], [127.03961490035904, 37.53582481399736], [127.03915964827696, 37.53582568016234], [127.03769424592844, 37.53582752564262], [127.03580666466924, 37.53582956539934], [127.02330345040704, 37.53579763863646], [127.0211786898245, 37.53581843745539], [127.0174399502128, 37.5340035161648], [127.01753062665715, 37.53765227105406], [127.01729268884499, 37.53774071646722], [127.01502236048485, 37.538542391744954], [127.01322897580299, 37.53888641044216], [127.01148342817797, 37.53902571157863], [127.00994635800906, 37.53939253597947], [127.00984679636447, 37.539457414002236], [127.00958968610645, 37.53963896313964], [127.00934370193075, 37.539966247062665], [127.00880834601224, 37.54158157116291], [127.00872772209142, 37.54188358967872], [127.00869961220984, 37.54199342230531], [127.00898372441858, 37.5441342204587], [127.00815255414294, 37.54502577962789], [127.00908693559808, 37.547057181375344], [127.00920418078636, 37.54728180768359], [127.00930538728761, 37.54746436066499], [127.00967019425472, 37.54789054033861], [127.0105878521131, 37.54826906148721], [127.01264193935847, 37.549645599650674], [127.01313426487246, 37.55005099950744], [127.01322028033584, 37.55012566509271], [127.01630244006427, 37.553012143085084], [127.016983589042, 37.554088888444404], [127.01733893261793, 37.55585083668857], [127.01763629774473, 37.556396948523314], [127.01767993325542, 37.55647708552204], [127.01776210010382, 37.556589302089144], [127.01807250030079, 37.55688810862334], [127.01940961576902, 37.557432666923766], [127.01962807753183, 37.55729293549939], [127.02291590427346, 37.557862093852975], [127.02338927303772, 37.560729613897976], [127.02592920260471, 37.56260371301054], [127.0261489168859, 37.562885262538664], [127.02652602115124, 37.563391233488446], [127.02661925889667, 37.563581645989565], [127.0266474618172, 37.56367476566317], [127.0266975805678, 37.56384680516852], [127.02675615893189, 37.564277145660014], [127.02676724664535, 37.564955165753794], [127.0235820843341, 37.565199780474096], [127.02339132012439, 37.571904440082946], [127.0252051769051, 37.57084575046508], [127.0261637824846, 37.571243539631176], [127.0262137314074, 37.57122918513987], [127.0262216977334, 37.571226895239285], [127.02645087489209, 37.57116052735182], [127.0272067939433, 37.57094077643396], [127.02727598660903, 37.5709128124933], [127.02767575934688, 37.570412143719345], [127.02788328900208, 37.57035924990361], [127.02830034745492, 37.57025414877797], [127.02875103745501, 37.57014214450647], [127.0287814703547, 37.57013482625816], [127.0288503452664, 37.57011826397435], [127.02885615184715, 37.570116882847834], [127.02888757078543, 37.57010942609428], [127.0289987204352, 37.57008493651163], [127.02908648526629, 37.57006559939084], [127.02913675112575, 37.57005465021333], [127.02946260319497, 37.56998443107242], [127.02987557776328, 37.5698956567375], [127.02999249683555, 37.569870545629186], [127.0301141488498, 37.56984477542935], [127.0302887839006, 37.569809162285935], [127.03030246652034, 37.56980719409992], [127.03042371858598, 37.569799281301194], [127.0306392330458, 37.56978528051779], [127.03087617192581, 37.56978325686657], [127.03096354510265, 37.569782542249165], [127.0309964969286, 37.56978411892643], [127.03118742588251, 37.56979594764816], [127.03126082303339, 37.569800659308505], [127.0312653505358, 37.56980135149348], [127.03132856385965, 37.56981350747168], [127.03142253343931, 37.56983282863147], [127.0315303157729, 37.56985508163328], [127.03156634804705, 37.5698652908695], [127.03191631768821, 37.569992195352384], [127.03199610815747, 37.570022312968426], [127.03216656227139, 37.570086941935905], [127.03418883036981, 37.571389966759945], [127.03474690567859, 37.57163073448362], [127.0350770301636, 37.57177195131856], [127.0351196910263, 37.571790139070565], [127.03529910694307, 37.57186645593821], [127.03534997632455, 37.57188710054486], [127.03546862855076, 37.57193467554873], [127.0354853506366, 37.571941130103006], [127.0355896516327, 37.57197979367212], [127.0356581539814, 37.572003573897696], [127.03570141328512, 37.57201843872069], [127.0357595711283, 37.57203726855957], [127.0359238771272, 37.572084755832094], [127.03593219990402, 37.572087038314194], [127.0359682234306, 37.57209673781291], [127.03613785627982, 37.572141727359956], [127.03617671204088, 37.57215197873258], [127.03627400259977, 37.57217150016808], [127.03633040458615, 37.57218096954067], [127.03633481873939, 37.57218170975903], [127.03663685155567, 37.572228118080204], [127.03665257466687, 37.572230240275175], [127.0367771659786, 37.572242834327625], [127.03699999483374, 37.57226252681781], [127.03711800302419, 37.572263294243555], [127.03757713466665, 37.57226534418462], [127.03777267234759, 37.57226559079064], [127.03813003652147, 37.572265141732444], [127.04002007117221, 37.57299357983903], [127.04255513269382, 37.572696557392305], [127.04323711128917, 37.57240962915567]]]], &quot;type&quot;: &quot;MultiPolygon&quot;}, &quot;properties&quot;: {&quot;base_year&quot;: &quot;2018&quot;, &quot;code&quot;: &quot;11040&quot;, &quot;name&quot;: &quot;\\uc131\\ub3d9\\uad6c&quot;, &quot;name_eng&quot;: &quot;Seongdong-gu&quot;}, &quot;type&quot;: &quot;Feature&quot;}, {&quot;geometry&quot;: {&quot;coordinates&quot;: [[[[127.10385348252463, 37.57049375224537], [127.10272467850362, 37.56706421405732], [127.1016708249184, 37.56340484721128], [127.10120468903561, 37.5615799018106], [127.10116259249064, 37.56131329844273], [127.10112209660652, 37.56105064026446], [127.10113406477275, 37.56100303975552], [127.10127747348403, 37.560465992243266], [127.10139885383022, 37.56025021107248], [127.10154158722871, 37.55999837114519], [127.1016940352686, 37.559741460351624], [127.10180078959051, 37.55956709158058], [127.10185922720237, 37.5594938275748], [127.1021672646245, 37.559278101603745], [127.1049292880672, 37.55642158519452], [127.10540370314904, 37.55633533577432], [127.10540397940876, 37.5563353348949], [127.10604044631467, 37.55636800171892], [127.10639619123218, 37.55646172283895], [127.10714458119001, 37.55710610089777], [127.1099866052493, 37.558342114996144], [127.11167162254561, 37.55872797038606], [127.11296064617515, 37.558794345844014], [127.11522556154925, 37.55676018797063], [127.1146376770023, 37.55536410230976], [127.11448348920776, 37.55500385278786], [127.114189809287, 37.554320625183166], [127.11408829227737, 37.55408492219535], [127.1140826315613, 37.55407568555548], [127.11154690812323, 37.55038361692281], [127.11150961150881, 37.5486128190928], [127.1114707977827, 37.546926730400926], [127.11062416779798, 37.54560452043856], [127.11024351583286, 37.54501002655402], [127.10950033532019, 37.54364544073184], [127.10923971636981, 37.54316689400482], [127.10923890010653, 37.54316539415364], [127.1082817634447, 37.54140784863495], [127.10409418163047, 37.538081972352735], [127.10203059436252, 37.53644539546243], [127.09427588506165, 37.53030308187625], [127.09130696910889, 37.527961029057444], [127.08981364950037, 37.52684589991698], [127.08749534358789, 37.52569045247004], [127.08563283360114, 37.52476211681813], [127.07997463154842, 37.522948496312125], [127.07695436883313, 37.52251398694484], [127.07694214110053, 37.522514173892894], [127.0743183873431, 37.52286592907278], [127.07240098181579, 37.52333021751951], [127.06747910492537, 37.52458218650356], [127.06544730806671, 37.52505302917654], [127.06419078621448, 37.525528448797466], [127.05622154261032, 37.52833096963777], [127.05728079543104, 37.530249926566064], [127.05746849147607, 37.530589379089406], [127.05790548112682, 37.53137808701062], [127.05857745984557, 37.53259015932764], [127.05927725863621, 37.53384642572189], [127.05951936056927, 37.53424533921109], [127.05955546744343, 37.53430874265821], [127.0596358265026, 37.53445051894064], [127.05996358458248, 37.53503098349384], [127.0600916472293, 37.53525823236088], [127.06147143778892, 37.53770843804644], [127.06285420541717, 37.54017746622938], [127.06401169976147, 37.542229208004684], [127.06746518801573, 37.54832886281026], [127.06746584694035, 37.54833002796885], [127.07273792352518, 37.55765132356379], [127.07373575894405, 37.55941397583424], [127.07238515054827, 37.55996034375495], [127.0740257877226, 37.56440991629549], [127.07413402488906, 37.56465072215018], [127.07580460711752, 37.566636130367456], [127.07820162861698, 37.57186953138493], [127.08014802739001, 37.571688172459346], [127.0861477100342, 37.57083637712318], [127.0881770655646, 37.570846444686254], [127.08824857703267, 37.570637930693664], [127.08828155024054, 37.57054005995241], [127.08839590332234, 37.57018154479105], [127.08845589260001, 37.57016770368953], [127.0904929043143, 37.569697800027], [127.09375966722334, 37.57057239960443], [127.09560434923812, 37.57060914093626], [127.09943915968115, 37.5727376796701], [127.10069593961647, 37.57359428797753], [127.10088786747095, 37.573763493919046], [127.10166464538098, 37.57240065904414], [127.10312974021967, 37.572279426149066], [127.10366088897042, 37.57191791152321], [127.10367642874411, 37.57190732956565], [127.10423020035165, 37.571387655366465], [127.10385348252463, 37.57049375224537]]]], &quot;type&quot;: &quot;MultiPolygon&quot;}, &quot;properties&quot;: {&quot;base_year&quot;: &quot;2018&quot;, &quot;code&quot;: &quot;11050&quot;, &quot;name&quot;: &quot;\\uad11\\uc9c4\\uad6c&quot;, &quot;name_eng&quot;: &quot;Gwangjin-gu&quot;}, &quot;type&quot;: &quot;Feature&quot;}, {&quot;geometry&quot;: {&quot;coordinates&quot;: [[[[127.07248235876295, 37.6002397234268], [127.0719967944068, 37.59962695896707], [127.07199624998218, 37.59962628278672], [127.07197848485184, 37.59960449865203], [127.07187986951939, 37.5994990991338], [127.07178346132514, 37.59939605734639], [127.0715023301752, 37.59909859094387], [127.07115459970905, 37.598810978755715], [127.07068480777988, 37.59853823995601], [127.06942439845734, 37.59532664396148], [127.07054560206898, 37.5925310552383], [127.07054750383026, 37.592524174973285], [127.07056721926476, 37.59087415420664], [127.07162140140774, 37.58799515979742], [127.07218290000449, 37.58502989005395], [127.07525042546939, 37.58101349121999], [127.07581177513109, 37.580949943924516], [127.07590616098169, 37.58080455493645], [127.07595747705707, 37.58072154126993], [127.07602246418628, 37.580609960688285], [127.07608325750157, 37.58049693907506], [127.07614008755425, 37.580382565596615], [127.07619272731152, 37.580266934986426], [127.07624129178701, 37.58015013960045], [127.07628555175695, 37.5800322615449], [127.07632550845256, 37.57991348650675], [127.07636127742055, 37.57979381310232], [127.07639274215126, 37.57967341938424], [127.07641979164687, 37.57955231036577], [127.07644242492728, 37.57943066271064], [127.07645795097355, 37.579335689283305], [127.07687417447642, 37.57617730139086], [127.07771053420724, 37.572400081944956], [127.07818450015714, 37.571889096164895], [127.07820162861698, 37.57186953138493], [127.07580460711752, 37.566636130367456], [127.07413402488906, 37.56465072215018], [127.0740257877226, 37.56440991629549], [127.07238515054827, 37.55996034375495], [127.0720030312792, 37.56009903540849], [127.07105821472967, 37.560554927787685], [127.07085587714086, 37.56058396952708], [127.0645482007912, 37.56148651213379], [127.0594629479534, 37.56221387289767], [127.05876084234758, 37.56231431497808], [127.05779766614016, 37.56303723739784], [127.05495009334904, 37.56515810716947], [127.04875402966513, 37.56978812738354], [127.04861828453745, 37.56988953295532], [127.04855501594116, 37.56993670738165], [127.0484861354268, 37.56998795513731], [127.04838542696314, 37.57006256934487], [127.04816472001133, 37.57022606142278], [127.04795064384513, 37.570384241586346], [127.04491321588206, 37.57169602878096], [127.04323711128917, 37.57240962915567], [127.04255513269382, 37.572696557392305], [127.04002007117221, 37.57299357983903], [127.03813003652147, 37.572265141732444], [127.03777267234759, 37.57226559079064], [127.03757713466665, 37.57226534418462], [127.03711800302419, 37.572263294243555], [127.03699999483374, 37.57226252681781], [127.0367771659786, 37.572242834327625], [127.03665257466687, 37.572230240275175], [127.03663685155567, 37.572228118080204], [127.03633481873939, 37.57218170975903], [127.03633040458615, 37.57218096954067], [127.03627400259977, 37.57217150016808], [127.03617671204088, 37.57215197873258], [127.03613785627982, 37.572141727359956], [127.0359682234306, 37.57209673781291], [127.03593219990402, 37.572087038314194], [127.0359238771272, 37.572084755832094], [127.0357595711283, 37.57203726855957], [127.03570141328512, 37.57201843872069], [127.0356581539814, 37.572003573897696], [127.0355896516327, 37.57197979367212], [127.0354853506366, 37.571941130103006], [127.03546862855076, 37.57193467554873], [127.03534997632455, 37.57188710054486], [127.03529910694307, 37.57186645593821], [127.0351196910263, 37.571790139070565], [127.0350770301636, 37.57177195131856], [127.03474690567859, 37.57163073448362], [127.03418883036981, 37.571389966759945], [127.03216656227139, 37.570086941935905], [127.03199610815747, 37.570022312968426], [127.03191631768821, 37.569992195352384], [127.03156634804705, 37.5698652908695], [127.0315303157729, 37.56985508163328], [127.03142253343931, 37.56983282863147], [127.03132856385965, 37.56981350747168], [127.0312653505358, 37.56980135149348], [127.03126082303339, 37.569800659308505], [127.03118742588251, 37.56979594764816], [127.0309964969286, 37.56978411892643], [127.03096354510265, 37.569782542249165], [127.03087617192581, 37.56978325686657], [127.0306392330458, 37.56978528051779], [127.03042371858598, 37.569799281301194], [127.03030246652034, 37.56980719409992], [127.0302887839006, 37.569809162285935], [127.0301141488498, 37.56984477542935], [127.02999249683555, 37.569870545629186], [127.02987557776328, 37.5698956567375], [127.02946260319497, 37.56998443107242], [127.02913675112575, 37.57005465021333], [127.02908648526629, 37.57006559939084], [127.0289987204352, 37.57008493651163], [127.02888757078543, 37.57010942609428], [127.02885615184715, 37.570116882847834], [127.0288503452664, 37.57011826397435], [127.0287814703547, 37.57013482625816], [127.02875103745501, 37.57014214450647], [127.02830034745492, 37.57025414877797], [127.02788328900208, 37.57035924990361], [127.02767575934688, 37.570412143719345], [127.02727598660903, 37.5709128124933], [127.0272067939433, 37.57094077643396], [127.02645087489209, 37.57116052735182], [127.0262216977334, 37.571226895239285], [127.0262137314074, 37.57122918513987], [127.0261637824846, 37.571243539631176], [127.0252051769051, 37.57084575046508], [127.02339132012439, 37.571904440082946], [127.02336168058478, 37.57191110395814], [127.02313849621643, 37.57802087910892], [127.0244061903747, 37.579188023803795], [127.02953878229418, 37.582684314573555], [127.0310497780675, 37.584376139930434], [127.03521195268722, 37.5886220464876], [127.03529271071443, 37.5887014340919], [127.03554401872374, 37.58895075652304], [127.03562731529344, 37.58907124622142], [127.03591718417324, 37.58950380262045], [127.03632926515961, 37.59014091562435], [127.03630972660031, 37.59034585705316], [127.03630050071047, 37.59044261987647], [127.03623007116393, 37.59111876664835], [127.0362229871897, 37.5911775371596], [127.038762705812, 37.59127598674701], [127.04107222722529, 37.595580583591044], [127.04300950932904, 37.59696419041485], [127.04733130929675, 37.596135054023705], [127.04743158496322, 37.59646672510195], [127.05034198497134, 37.60061052141516], [127.05101384219559, 37.60117414161917], [127.05119896898752, 37.60122431151284], [127.05131550806072, 37.60111819141815], [127.05209937183126, 37.600146182174655], [127.05344891356137, 37.60043515820604], [127.06006347158258, 37.602087362685864], [127.06082019091025, 37.60353380080409], [127.06148450970115, 37.60446971185731], [127.06182612893872, 37.60479060265414], [127.06219763083516, 37.605132399114765], [127.0623037691909, 37.605162796737254], [127.06244704843017, 37.60518876215903], [127.06307647973803, 37.60524578767402], [127.0654825250699, 37.60547549830736], [127.0660141004462, 37.605553179789794], [127.0669932961098, 37.60616719184501], [127.06788317761999, 37.60682195110385], [127.06786284986707, 37.607613538519146], [127.06785313380357, 37.60784436677491], [127.0688481651125, 37.60901005160768], [127.06936945104897, 37.609018754678424], [127.07105863151394, 37.607619367490315], [127.07107481348277, 37.607363908883784], [127.0710782081987, 37.60732162566726], [127.07111009930279, 37.607068990360226], [127.0711158003034, 37.60702519585631], [127.07122331750512, 37.60636492134039], [127.07138375342318, 37.60539249611117], [127.07153342057372, 37.60464238399198], [127.07165686829073, 37.604361062003335], [127.0716844412365, 37.60429823563112], [127.07179952997481, 37.604041675512164], [127.07191195302988, 37.6037922812006], [127.07212002485781, 37.60342650047932], [127.07212901096719, 37.60341069283258], [127.07225928598511, 37.60318077423145], [127.07241236558123, 37.60287798958951], [127.07286940283049, 37.601331328360764], [127.072871306144, 37.601260770774616], [127.07287117485586, 37.601075277160106], [127.072842139851, 37.60097097842613], [127.0728153391387, 37.600889231304556], [127.07279874652603, 37.60083862563346], [127.07265282652203, 37.60055621529401], [127.07250683672032, 37.600282234789006], [127.07248235876295, 37.6002397234268]]]], &quot;type&quot;: &quot;MultiPolygon&quot;}, &quot;properties&quot;: {&quot;base_year&quot;: &quot;2018&quot;, &quot;code&quot;: &quot;11060&quot;, &quot;name&quot;: &quot;\\ub3d9\\ub300\\ubb38\\uad6c&quot;, &quot;name_eng&quot;: &quot;Dongdaemun-gu&quot;}, &quot;type&quot;: &quot;Feature&quot;}, {&quot;geometry&quot;: {&quot;coordinates&quot;: [[[[127.11502106925631, 37.61953760293729], [127.11619333189469, 37.6189477834431], [127.1172524224928, 37.6167418701653], [127.11699384398685, 37.616455741500445], [127.11687860991027, 37.6163249330879], [127.11667194594477, 37.61601542283305], [127.1167035199795, 37.61571891570098], [127.11679649625243, 37.61495467619512], [127.11708589483639, 37.613960223603655], [127.11737381616724, 37.612245257767235], [127.11728722215112, 37.61118050005634], [127.11687784414526, 37.60953069989563], [127.11669806398619, 37.608849251093304], [127.11809512108222, 37.605472423890596], [127.11809557089268, 37.60544383106571], [127.11807036611677, 37.604938458869164], [127.11804701094859, 37.6046022976969], [127.11558444992862, 37.601718190214015], [127.11409999433764, 37.600128533482966], [127.11447064760604, 37.59905460470494], [127.11548924244445, 37.59765428160478], [127.1157267001411, 37.597314488400414], [127.11644313894737, 37.59619235734776], [127.11687748390602, 37.59549705041634], [127.11666448770198, 37.59401654541522], [127.11569009351689, 37.593625284641654], [127.11552687550098, 37.59356012108733], [127.11548546109452, 37.59354861027366], [127.11541325037844, 37.59353094926121], [127.11502820634463, 37.59349020779498], [127.11445400936937, 37.593433041330925], [127.11426838869293, 37.593416046559156], [127.11366535125455, 37.59335636278787], [127.11333737254422, 37.59325981810984], [127.11241171414305, 37.591856364343634], [127.11015453369288, 37.58743032754742], [127.10994422490282, 37.58595741329089], [127.10973285561782, 37.58524413491051], [127.1093764947318, 37.58409232645656], [127.1089666589148, 37.58337922691785], [127.1074133018655, 37.58249485408721], [127.10525566069576, 37.58156565541441], [127.10344046869434, 37.58059529766129], [127.10313623034897, 37.580214622589565], [127.102894346857, 37.579906792595395], [127.10290869757564, 37.579786273744425], [127.10302529347312, 37.578906982698335], [127.10231819102627, 37.57804309144464], [127.101957569733, 37.57755236140461], [127.10114351349213, 37.57607092857546], [127.10091888177018, 37.57420410098162], [127.10088786747095, 37.573763493919046], [127.10069593961647, 37.57359428797753], [127.09943915968115, 37.5727376796701], [127.09560434923812, 37.57060914093626], [127.09375966722334, 37.57057239960443], [127.0904929043143, 37.569697800027], [127.08845589260001, 37.57016770368953], [127.08839590332234, 37.57018154479105], [127.08828155024054, 37.57054005995241], [127.08824857703267, 37.570637930693664], [127.0881770655646, 37.570846444686254], [127.0861477100342, 37.57083637712318], [127.08014802739001, 37.571688172459346], [127.07820162861698, 37.57186953138493], [127.07818450015714, 37.571889096164895], [127.07771053420724, 37.572400081944956], [127.07687417447642, 37.57617730139086], [127.07645795097355, 37.579335689283305], [127.07644242492728, 37.57943066271064], [127.07641979164687, 37.57955231036577], [127.07639274215126, 37.57967341938424], [127.07636127742055, 37.57979381310232], [127.07632550845256, 37.57991348650675], [127.07628555175695, 37.5800322615449], [127.07624129178701, 37.58015013960045], [127.07619272731152, 37.580266934986426], [127.07614008755425, 37.580382565596615], [127.07608325750157, 37.58049693907506], [127.07602246418628, 37.580609960688285], [127.07595747705707, 37.58072154126993], [127.07590616098169, 37.58080455493645], [127.07581177513109, 37.580949943924516], [127.07525042546939, 37.58101349121999], [127.07218290000449, 37.58502989005395], [127.07162140140774, 37.58799515979742], [127.07056721926476, 37.59087415420664], [127.07054750383026, 37.592524174973285], [127.07054560206898, 37.5925310552383], [127.06942439845734, 37.59532664396148], [127.07068480777988, 37.59853823995601], [127.07115459970905, 37.598810978755715], [127.0715023301752, 37.59909859094387], [127.07178346132514, 37.59939605734639], [127.07187986951939, 37.5994990991338], [127.07197848485184, 37.59960449865203], [127.07199624998218, 37.59962628278672], [127.0719967944068, 37.59962695896707], [127.07248235876295, 37.6002397234268], [127.07250683672032, 37.600282234789006], [127.07265282652203, 37.60055621529401], [127.07279874652603, 37.60083862563346], [127.0728153391387, 37.600889231304556], [127.072842139851, 37.60097097842613], [127.07287117485586, 37.601075277160106], [127.072871306144, 37.601260770774616], [127.07286940283049, 37.601331328360764], [127.07241236558123, 37.60287798958951], [127.07225928598511, 37.60318077423145], [127.07212901096719, 37.60341069283258], [127.07212002485781, 37.60342650047932], [127.07191195302988, 37.6037922812006], [127.07179952997481, 37.604041675512164], [127.0716844412365, 37.60429823563112], [127.07165686829073, 37.604361062003335], [127.07153342057372, 37.60464238399198], [127.07138375342318, 37.60539249611117], [127.07122331750512, 37.60636492134039], [127.0711158003034, 37.60702519585631], [127.07111009930279, 37.607068990360226], [127.0710782081987, 37.60732162566726], [127.07107481348277, 37.607363908883784], [127.07105863151394, 37.607619367490315], [127.07137286249512, 37.61033241380939], [127.0717094743468, 37.613514185337905], [127.07169409091938, 37.613559802347915], [127.07162229361222, 37.6137628359997], [127.07113589552804, 37.61480604456654], [127.07005942210341, 37.6154306408354], [127.07019217009989, 37.615445987550736], [127.07415857224088, 37.61683236767206], [127.0757931026157, 37.617251444652666], [127.08166602497586, 37.61917180424706], [127.08607255931196, 37.620292484083144], [127.08972088508338, 37.61951983715039], [127.09275528717941, 37.61815101391237], [127.09321564978096, 37.61800262466536], [127.09364037781992, 37.61806585976165], [127.09444784046772, 37.619006255761924], [127.09881685821152, 37.62039396413475], [127.10087077289205, 37.61940424792502], [127.1016748692705, 37.619471681374385], [127.10492543231754, 37.620095509669255], [127.10555591395581, 37.62037072483441], [127.11130504668466, 37.620691841654214], [127.11214286414007, 37.620307017403164], [127.11502106925631, 37.61953760293729]]]], &quot;type&quot;: &quot;MultiPolygon&quot;}, &quot;properties&quot;: {&quot;base_year&quot;: &quot;2018&quot;, &quot;code&quot;: &quot;11070&quot;, &quot;name&quot;: &quot;\\uc911\\ub791\\uad6c&quot;, &quot;name_eng&quot;: &quot;Jungnang-gu&quot;}, &quot;type&quot;: &quot;Feature&quot;}, {&quot;geometry&quot;: {&quot;coordinates&quot;: [[[[126.99539347327784, 37.63024956303842], [126.99650991505622, 37.62908592097056], [126.99677555703369, 37.62865921791406], [126.99927294114651, 37.626202304680746], [127.00020359599583, 37.62582385392936], [127.00519019673372, 37.624008961461065], [127.0078883153562, 37.62402715471589], [127.00789021569521, 37.623989862523814], [127.00789967763858, 37.62375888785719], [127.00779038719841, 37.62294341583866], [127.00762526950739, 37.62228631215807], [127.00737929582485, 37.62139493158913], [127.00724772018421, 37.62098673067349], [127.00717923800447, 37.62085664997607], [127.00719198731443, 37.62050798754226], [127.0077421172549, 37.61963453129854], [127.00858008736951, 37.61857746605269], [127.01022998138144, 37.61679250361606], [127.01095186941751, 37.61628591578429], [127.01237235034243, 37.61591318700495], [127.01340914297161, 37.61556824325856], [127.0137647631667, 37.61539984245899], [127.01376616347885, 37.615399000067356], [127.01416477214238, 37.61507597892437], [127.01416593037483, 37.61507489937999], [127.01450912451915, 37.614720032559184], [127.01689399309112, 37.61481263711152], [127.01753682818857, 37.61461613743954], [127.01951520550497, 37.61333051274926], [127.02039775825841, 37.61259595849451], [127.02043535643041, 37.61258371604729], [127.02067018071962, 37.612511834509206], [127.02188519500221, 37.612332700515964], [127.02223126639886, 37.61138683369593], [127.02671085898818, 37.612700310754285], [127.0301770807107, 37.6123570482839], [127.030426615164, 37.609072558223836], [127.0371819707973, 37.61270972011124], [127.0398427506398, 37.61559264922097], [127.04233882742264, 37.61750330509338], [127.04394446004554, 37.61864076778619], [127.0440234551241, 37.618725791919246], [127.04467890055363, 37.61944210388214], [127.044734488811, 37.61954644128197], [127.04521151457989, 37.62044758111611], [127.04522251430554, 37.62046821013686], [127.04570285727364, 37.62135909979668], [127.0457226959546, 37.621387564804046], [127.04608013363345, 37.6218747702297], [127.04652863829226, 37.62232332354302], [127.04656127735457, 37.62235302556501], [127.04666540529682, 37.62243716381287], [127.04686849056992, 37.622601236151965], [127.04764121738559, 37.6230670754991], [127.04771965563005, 37.6231141665705], [127.04784859870288, 37.623188554440915], [127.04973987978762, 37.62427412688289], [127.05370933688069, 37.620484466916075], [127.05377732534974, 37.62040960986678], [127.05388467190004, 37.62029395725545], [127.05403445953955, 37.62013313830196], [127.05407997152054, 37.62008535714123], [127.05427358717061, 37.619912273996064], [127.05438927786915, 37.6198093469214], [127.05442484488992, 37.619779032116554], [127.05742057357863, 37.61748133930581], [127.06115777273014, 37.61482536465201], [127.06145441308465, 37.61463579206633], [127.06150122736877, 37.61461338019621], [127.06175411317581, 37.61449260956062], [127.06196243991441, 37.61441495544598], [127.06202630243632, 37.61439171251567], [127.06209571115086, 37.614366755949014], [127.06230889499834, 37.614316300124635], [127.06324674172075, 37.614268989664666], [127.065808430565, 37.61497315258845], [127.07005942210341, 37.6154306408354], [127.07113589552804, 37.61480604456654], [127.07162229361222, 37.6137628359997], [127.07169409091938, 37.613559802347915], [127.0717094743468, 37.613514185337905], [127.07137286249512, 37.61033241380939], [127.07105863151394, 37.607619367490315], [127.06936945104897, 37.609018754678424], [127.0688481651125, 37.60901005160768], [127.06785313380357, 37.60784436677491], [127.06786284986707, 37.607613538519146], [127.06788317761999, 37.60682195110385], [127.0669932961098, 37.60616719184501], [127.0660141004462, 37.605553179789794], [127.0654825250699, 37.60547549830736], [127.06307647973803, 37.60524578767402], [127.06244704843017, 37.60518876215903], [127.0623037691909, 37.605162796737254], [127.06219763083516, 37.605132399114765], [127.06182612893872, 37.60479060265414], [127.06148450970115, 37.60446971185731], [127.06082019091025, 37.60353380080409], [127.06006347158258, 37.602087362685864], [127.05344891356137, 37.60043515820604], [127.05209937183126, 37.600146182174655], [127.05131550806072, 37.60111819141815], [127.05119896898752, 37.60122431151284], [127.05101384219559, 37.60117414161917], [127.05034198497134, 37.60061052141516], [127.04743158496322, 37.59646672510195], [127.04733130929675, 37.596135054023705], [127.04300950932904, 37.59696419041485], [127.04107222722529, 37.595580583591044], [127.038762705812, 37.59127598674701], [127.0362229871897, 37.5911775371596], [127.03623007116393, 37.59111876664835], [127.03630050071047, 37.59044261987647], [127.03630972660031, 37.59034585705316], [127.03632926515961, 37.59014091562435], [127.03591718417324, 37.58950380262045], [127.03562731529344, 37.58907124622142], [127.03554401872374, 37.58895075652304], [127.03529271071443, 37.5887014340919], [127.03521195268722, 37.5886220464876], [127.0310497780675, 37.584376139930434], [127.02953878229418, 37.582684314573555], [127.0244061903747, 37.579188023803795], [127.02313849621643, 37.57802087910892], [127.02179265953254, 37.57888146291368], [127.0187770633223, 37.57751723332606], [127.01830026223921, 37.57903270179077], [127.01829142498933, 37.579049416348774], [127.01673363020068, 37.58169269831286], [127.01638580146992, 37.58193775580977], [127.01491713941482, 37.582244907556685], [127.01483334205895, 37.58233145649853], [127.01474563580459, 37.582305831258346], [127.0141191759168, 37.581820171723166], [127.01324571819538, 37.58145032393419], [127.01314825156626, 37.58143362114355], [127.01285982629548, 37.58138609392204], [127.01274334585422, 37.58141185855377], [127.01262598550882, 37.58144402349896], [127.01253278245557, 37.58147102693477], [127.0124187027769, 37.58150235525185], [127.01222457400928, 37.581550873062085], [127.0120845128743, 37.581585674737156], [127.0117885968101, 37.58157458058202], [127.01169858419944, 37.58150458110694], [127.0111791729006, 37.58109176738164], [127.0111260694579, 37.58104392936677], [127.01051131122689, 37.58025727035416], [127.00863797169242, 37.58045993171883], [127.00656012457411, 37.58553460128624], [127.00408062474574, 37.58773357887768], [127.00182654761254, 37.59117745103071], [126.99845395445548, 37.59247126210828], [126.99744340490047, 37.59221011675905], [126.99366158210871, 37.59149362412968], [126.98962720754243, 37.59139763837295], [126.98908433025534, 37.59140908294205], [126.98907495209343, 37.59142090222344], [126.98886704210804, 37.59164472228141], [126.98851705023388, 37.59194143989685], [126.98577892249222, 37.59425495254234], [126.98542946037894, 37.59444945443447], [126.98514831673403, 37.594501790677405], [126.98487868712496, 37.59446656147479], [126.98479058424006, 37.594451906863895], [126.98474441343951, 37.594434717703415], [126.98466445483236, 37.59440401859687], [126.98464216134765, 37.59439557572296], [126.98463785016311, 37.59439408049888], [126.9846156223434, 37.59438909275369], [126.98450416009975, 37.59437471448865], [126.98432317109803, 37.59437806733553], [126.98384405286397, 37.59443543461552], [126.98292059990969, 37.594775982193624], [126.98148823597326, 37.59533576215007], [126.97911091252222, 37.596394270916285], [126.97874017601505, 37.59663493476611], [126.97713557023776, 37.59768356016227], [126.97672044958631, 37.59790077442683], [126.97719804274786, 37.59864847380904], [126.9774909383084, 37.599649166074286], [126.97768193317589, 37.60024002437466], [126.97830701720335, 37.600830447643865], [126.97841693568347, 37.600914296754326], [126.97852169405631, 37.60099248777431], [126.97880665420949, 37.60101042316433], [126.9806843648502, 37.60161031225276], [126.98259603020061, 37.60224271097029], [126.98589778740545, 37.60363176153766], [126.9866691435352, 37.604023824468506], [126.98677074181907, 37.60458661863664], [126.98675598705915, 37.60608704965549], [126.98623831468637, 37.607736782107125], [126.98586523076781, 37.60946995153532], [126.9857804843237, 37.61090698776889], [126.985901535693, 37.612194740823796], [126.98453643307462, 37.61598061074333], [126.9837143460292, 37.61775856638039], [126.9831620682276, 37.6192347829173], [126.98317999257362, 37.62018285183479], [126.98355888565348, 37.620963267437894], [126.98365101056845, 37.62115092912986], [126.98310978892584, 37.622104640078], [126.98184774907679, 37.62431463061319], [126.98168803207568, 37.62449661776251], [126.98090237068868, 37.625391798020395], [126.97960294035302, 37.626371002121644], [126.98004544991201, 37.628280435760445], [126.97997245663913, 37.62845560448294], [126.97993254143336, 37.62855138674378], [126.97952791872238, 37.62889299772442], [126.97841861289852, 37.62929009924553], [126.97619200024447, 37.629086831818235], [126.97496550641705, 37.62902584732434], [126.97468086053324, 37.629805433945975], [126.97508476623943, 37.63118349920217], [126.97536907543345, 37.631698170595676], [126.97700602129369, 37.63296890116872], [126.98251597502936, 37.63578603309753], [126.98395943800122, 37.63643805844229], [126.98420224929413, 37.636340308512715], [126.98537780747625, 37.6359700191154], [126.98590683844145, 37.63579688662923], [126.98945807598774, 37.63399787828244], [126.99410351428078, 37.63112087936725], [126.99539347327784, 37.63024956303842]]]], &quot;type&quot;: &quot;MultiPolygon&quot;}, &quot;properties&quot;: {&quot;base_year&quot;: &quot;2018&quot;, &quot;code&quot;: &quot;11080&quot;, &quot;name&quot;: &quot;\\uc131\\ubd81\\uad6c&quot;, &quot;name_eng&quot;: &quot;Seongbuk-gu&quot;}, &quot;type&quot;: &quot;Feature&quot;}, {&quot;geometry&quot;: {&quot;coordinates&quot;: [[[[127.01792610207332, 37.6707526157727], [127.01823302609685, 37.670653014356795], [127.01869598324153, 37.67085900036572], [127.01873329557495, 37.670458423834], [127.01839697818227, 37.66888429243892], [127.0179745871098, 37.668569191635555], [127.01759437098109, 37.668293006503355], [127.01712099950493, 37.668055753134624], [127.01660683896986, 37.66788067048517], [127.01616199640429, 37.66744231304366], [127.01575931934292, 37.66699475856969], [127.0154674055618, 37.666076882539045], [127.01540751711633, 37.66583524870867], [127.01534625993989, 37.66555307085875], [127.01531945964142, 37.664035113836235], [127.01532074370027, 37.663632918939484], [127.01594143243065, 37.66276466787497], [127.0161780265096, 37.66250948137416], [127.01662880470974, 37.66217696537238], [127.01688697944635, 37.662172337457854], [127.01650233550264, 37.6616736975439], [127.01620750628565, 37.661424436230035], [127.01602695538226, 37.66136337290647], [127.01588154190009, 37.661324467699245], [127.01554834409777, 37.66133522985797], [127.0152635457347, 37.66137553740675], [127.01523430673788, 37.66138022496035], [127.01490970136514, 37.66158946906527], [127.01488902049148, 37.66160280487209], [127.01460546359053, 37.660975128514636], [127.01438334476039, 37.66038519445203], [127.01402468237283, 37.659227122055995], [127.01267791032929, 37.65342831292476], [127.01256722862495, 37.65288755766005], [127.01245074335041, 37.65215967012775], [127.01251279642621, 37.65184964018431], [127.01289813717976, 37.65074734875073], [127.0131394598285, 37.65047478068656], [127.01509420939128, 37.64928375288154], [127.015536192234, 37.64913621209279], [127.01646554150142, 37.648854453022864], [127.01731218072896, 37.648653064624796], [127.01778412504582, 37.64862723175944], [127.01818005578558, 37.64863252876558], [127.01856766157603, 37.648696469229634], [127.01880532371337, 37.648741384413036], [127.01884806827593, 37.64875030712419], [127.01904149435637, 37.6487922724987], [127.01923690355542, 37.64884105793386], [127.01961795552778, 37.64893654022975], [127.01971138916238, 37.648960041728074], [127.0202055052659, 37.64908472238384], [127.02062748543325, 37.649077121666465], [127.02087935007468, 37.649037244045374], [127.0211570028142, 37.6489932721414], [127.02144688612864, 37.648875897539405], [127.0246854353279, 37.64734218792874], [127.02515977354795, 37.646610311279], [127.0253347479038, 37.64638900547646], [127.03085258687666, 37.64287009321485], [127.03085453519496, 37.64286885892014], [127.03085531133041, 37.642868368073835], [127.03165073484456, 37.64236253981222], [127.03194570211512, 37.64217280900936], [127.03241951065209, 37.64183319638113], [127.03264533978758, 37.64160014550062], [127.03283062404502, 37.64140818784148], [127.0328376433891, 37.64139719408362], [127.03304880594774, 37.641049901106356], [127.0331932783647, 37.64081119298557], [127.0333289066538, 37.64056014463325], [127.03341596826891, 37.640398846717595], [127.0335704723706, 37.640045441109045], [127.03393312609927, 37.63921536148397], [127.03404461372247, 37.63895954432421], [127.03410437680053, 37.63882104823423], [127.03413131358522, 37.63875797082437], [127.03447143794439, 37.637994749944596], [127.03456606273384, 37.63778299339444], [127.0347762448585, 37.637564898194725], [127.03509732786858, 37.63731379461283], [127.03514817979567, 37.63727413601105], [127.03523631088581, 37.63724302832181], [127.03541347675282, 37.63718053869112], [127.03584427399142, 37.63702977114635], [127.0359838325489, 37.636981078199966], [127.03606573353703, 37.636955466982286], [127.03641755781956, 37.636863619102726], [127.03746918208765, 37.63635751877705], [127.03858068720407, 37.633680260979666], [127.04175372056642, 37.63079916241632], [127.04238955530332, 37.630511271824936], [127.04257019040021, 37.630572197953335], [127.04384394461616, 37.62938882319026], [127.04390871243267, 37.62933655251321], [127.04432100291069, 37.629004790465515], [127.04440600654513, 37.62893833846634], [127.04487246485637, 37.62866771235985], [127.0451143694848, 37.62853123237029], [127.04527013424776, 37.62845508730819], [127.04558054421193, 37.62830559902181], [127.04610025435525, 37.62806246385244], [127.0463683549193, 37.62794221601901], [127.04684679463236, 37.6276846236073], [127.04712094655355, 37.627536362013], [127.04760429248047, 37.62712360703311], [127.04869323922524, 37.625867761329495], [127.04973987978762, 37.62427412688289], [127.04784859870288, 37.623188554440915], [127.04771965563005, 37.6231141665705], [127.04764121738559, 37.6230670754991], [127.04686849056992, 37.622601236151965], [127.04666540529682, 37.62243716381287], [127.04656127735457, 37.62235302556501], [127.04652863829226, 37.62232332354302], [127.04608013363345, 37.6218747702297], [127.0457226959546, 37.621387564804046], [127.04570285727364, 37.62135909979668], [127.04522251430554, 37.62046821013686], [127.04521151457989, 37.62044758111611], [127.044734488811, 37.61954644128197], [127.04467890055363, 37.61944210388214], [127.0440234551241, 37.618725791919246], [127.04394446004554, 37.61864076778619], [127.04233882742264, 37.61750330509338], [127.0398427506398, 37.61559264922097], [127.0371819707973, 37.61270972011124], [127.030426615164, 37.609072558223836], [127.0301770807107, 37.6123570482839], [127.02671085898818, 37.612700310754285], [127.02223126639886, 37.61138683369593], [127.02188519500221, 37.612332700515964], [127.02067018071962, 37.612511834509206], [127.02043535643041, 37.61258371604729], [127.02039775825841, 37.61259595849451], [127.01951520550497, 37.61333051274926], [127.01753682818857, 37.61461613743954], [127.01689399309112, 37.61481263711152], [127.01450912451915, 37.614720032559184], [127.01416593037483, 37.61507489937999], [127.01416477214238, 37.61507597892437], [127.01376616347885, 37.615399000067356], [127.0137647631667, 37.61539984245899], [127.01340914297161, 37.61556824325856], [127.01237235034243, 37.61591318700495], [127.01095186941751, 37.61628591578429], [127.01022998138144, 37.61679250361606], [127.00858008736951, 37.61857746605269], [127.0077421172549, 37.61963453129854], [127.00719198731443, 37.62050798754226], [127.00717923800447, 37.62085664997607], [127.00724772018421, 37.62098673067349], [127.00737929582485, 37.62139493158913], [127.00762526950739, 37.62228631215807], [127.00779038719841, 37.62294341583866], [127.00789967763858, 37.62375888785719], [127.00789021569521, 37.623989862523814], [127.0078883153562, 37.62402715471589], [127.00519019673372, 37.624008961461065], [127.00020359599583, 37.62582385392936], [126.99927294114651, 37.626202304680746], [126.99677555703369, 37.62865921791406], [126.99650991505622, 37.62908592097056], [126.99539347327784, 37.63024956303842], [126.99410351428078, 37.63112087936725], [126.98945807598774, 37.63399787828244], [126.98590683844145, 37.63579688662923], [126.98537780747625, 37.6359700191154], [126.98420224929413, 37.636340308512715], [126.98585532517849, 37.640610039019066], [126.98425704772306, 37.64164491416027], [126.9838309775185, 37.64214883975446], [126.98324743810194, 37.64368350099746], [126.98464321064165, 37.645337560017154], [126.98494836744501, 37.64567236952786], [126.98510051510036, 37.645929496848225], [126.98460321736101, 37.64761251862551], [126.98393720848537, 37.649610055976154], [126.98249556788542, 37.65054036929409], [126.98104806685429, 37.65271261309705], [126.98043175541142, 37.65378718778039], [126.9799443566949, 37.65481505786533], [126.97965839014978, 37.6560386457306], [126.98119360370444, 37.65648770371924], [126.98119363882947, 37.65648770657773], [126.98285678657075, 37.65644969866086], [126.98602052202877, 37.65894331741109], [126.98650969800036, 37.65944285392678], [126.98654402845844, 37.65948509652039], [126.98727674460659, 37.660600142741394], [126.98722498418817, 37.6608476157203], [126.98728371889293, 37.66117028858857], [126.98736526702288, 37.66161825387105], [126.9878019516605, 37.66359369064679], [126.98803298381395, 37.66398901936008], [126.98826825673973, 37.664391105261906], [126.98881828335179, 37.66446830713937], [126.98945314593885, 37.66453003638003], [126.98945342368803, 37.664530042088906], [126.98952921310409, 37.66452611221875], [126.98999721725082, 37.66449942206015], [126.9922245191536, 37.66523164133129], [126.99274903861429, 37.665532660113456], [126.99401724806808, 37.66678312738985], [126.99412914895156, 37.66703006402365], [126.99396105483228, 37.667338916290966], [126.9935605900015, 37.66780401717283], [126.99380243100494, 37.670197242208175], [126.99407385497375, 37.67276108494362], [126.99398135862037, 37.674907085514874], [126.99324726945171, 37.67766063101788], [126.99292441722176, 37.67882173510181], [126.9921976450405, 37.67962695974978], [126.9935142862047, 37.68005695422111], [126.99407575072897, 37.68032418394348], [126.99673749142505, 37.682389229374806], [126.99697076897168, 37.68264573541175], [127.00373777447324, 37.684705373602675], [127.00459121986965, 37.6850743456393], [127.00866351651996, 37.684449524658596], [127.00864852765471, 37.68394700678072], [127.00871162465491, 37.68225930535651], [127.00886665672883, 37.68059997802444], [127.00936466475338, 37.679581037937645], [127.0100653312255, 37.67944322957563], [127.01141644018695, 37.679177698093454], [127.0139619485745, 37.67583521344754], [127.01621937801586, 37.67392354246082], [127.01700066604401, 37.672597752238715], [127.01792610207332, 37.6707526157727]]]], &quot;type&quot;: &quot;MultiPolygon&quot;}, &quot;properties&quot;: {&quot;base_year&quot;: &quot;2018&quot;, &quot;code&quot;: &quot;11090&quot;, &quot;name&quot;: &quot;\\uac15\\ubd81\\uad6c&quot;, &quot;name_eng&quot;: &quot;Gangbuk-gu&quot;}, &quot;type&quot;: &quot;Feature&quot;}, {&quot;geometry&quot;: {&quot;coordinates&quot;: [[[[127.02214829033659, 37.69972082165531], [127.02531549140792, 37.69958052630348], [127.02689807118314, 37.700251138438944], [127.02702219136249, 37.70111540615458], [127.02768734764808, 37.70093738131669], [127.02899106815737, 37.69965827830464], [127.02928557886966, 37.69929162313716], [127.02960141525138, 37.6981751956102], [127.02965442167992, 37.697806632053236], [127.0297293120123, 37.696272436548036], [127.03016631938283, 37.695198205370204], [127.03097248027929, 37.69355683762865], [127.03241428815484, 37.69183903851268], [127.0357765269626, 37.69237420128613], [127.03676285026374, 37.692639919858024], [127.03790670482977, 37.69327193505584], [127.03999748093096, 37.69468439176983], [127.04110878694894, 37.69529978248172], [127.04181262306909, 37.695382285238516], [127.04307253505463, 37.69523090689407], [127.04481711593947, 37.69293625104109], [127.04509429159557, 37.69238519924843], [127.04862943516483, 37.694062261011545], [127.04880746297891, 37.6932813036233], [127.0497510283555, 37.68920713501158], [127.04982002343775, 37.68797700359355], [127.04998471037996, 37.6876103497584], [127.05064314496623, 37.686507803512725], [127.05092067299914, 37.686158552040006], [127.0510856940153, 37.68605516040658], [127.051367976711, 37.68592158114428], [127.05179813595967, 37.68581484612482], [127.05183676434588, 37.685743571444334], [127.05191329950924, 37.68560235236931], [127.05204347207204, 37.68531927456765], [127.05213953359433, 37.68510967699511], [127.05219521754319, 37.684987868920196], [127.05220186252802, 37.68497182792122], [127.05229679429586, 37.68458436168898], [127.05233561313388, 37.68442025942854], [127.05235577748225, 37.68433203703691], [127.05231109386915, 37.68404274642827], [127.05225086094532, 37.683658119703864], [127.05221516098457, 37.68343890290748], [127.05215028435939, 37.683045863460414], [127.05213382601845, 37.682947413401294], [127.0507158472178, 37.67973836752305], [127.04912838830049, 37.67566128502126], [127.04873624888522, 37.674499550135515], [127.04832002227852, 37.67234260024354], [127.04830577912477, 37.67224132688736], [127.04815819608395, 37.67118835591463], [127.0485124820278, 37.66917597322999], [127.04890716415773, 37.6675847166542], [127.0508259561085, 37.66490523802348], [127.05163521716457, 37.663978967272605], [127.05166209593733, 37.66326407858884], [127.05169059246366, 37.661906052136175], [127.05178629647507, 37.66060310355826], [127.0534069941705, 37.65751763097472], [127.0534132712648, 37.6575019787115], [127.05400636237019, 37.655300626182886], [127.05404901769683, 37.654592982739764], [127.05405422985544, 37.654494116869024], [127.0539933288965, 37.653722647589156], [127.05373438012398, 37.65205805749839], [127.05373500802546, 37.65204633528998], [127.05382002995256, 37.6511427552312], [127.05382209400629, 37.65112707617694], [127.05394795869691, 37.65055276621472], [127.05395130875986, 37.65054609637197], [127.05404500270386, 37.65039060048265], [127.05419092099562, 37.65015143611095], [127.05421634910562, 37.650117106548706], [127.05440997227873, 37.649863286148474], [127.05450654197973, 37.64973769266472], [127.05464515980275, 37.64956223725878], [127.05464587261386, 37.64956132599425], [127.05472700299394, 37.649430224552006], [127.05522658863002, 37.6485984067938], [127.05543964128199, 37.648240676027555], [127.05545278406717, 37.64820644229905], [127.05573219565625, 37.64735328868797], [127.05577397686703, 37.64721967316555], [127.05582563706962, 37.647048921871324], [127.05586492667393, 37.64669823508753], [127.05587167941218, 37.64663482258954], [127.05587537764981, 37.646595511166495], [127.05585381902428, 37.646366411010895], [127.05581057685957, 37.64595780177496], [127.0557427638778, 37.64539969607773], [127.05567259507434, 37.64482887075667], [127.05564404549877, 37.64459755752207], [127.05564173946499, 37.64458963869761], [127.05557626252151, 37.64444081917238], [127.05527987321044, 37.64376230375982], [127.05519672414087, 37.64356820809116], [127.05515137019377, 37.64346021005116], [127.05514885835846, 37.64344956118908], [127.05499362663173, 37.64235539519334], [127.05503180069648, 37.64204028902745], [127.05506583316468, 37.64178477449678], [127.05511734872226, 37.64139916905413], [127.0551279895463, 37.64132242779515], [127.05577791769392, 37.640625351836654], [127.05477378618353, 37.64015210292561], [127.0547311939721, 37.6401348401929], [127.05465423859202, 37.64019676369768], [127.05438739058044, 37.64041751414049], [127.05382924837095, 37.64088807360944], [127.05358585245123, 37.641098451763], [127.05339298387148, 37.641270126148186], [127.05334702441739, 37.641313528246634], [127.05302532129828, 37.641621722973596], [127.0529713353345, 37.64167361576104], [127.05292340066843, 37.6417272620236], [127.05285259477374, 37.64180694956737], [127.05241701518318, 37.64246039923465], [127.0523260790181, 37.642613811614716], [127.05220057659116, 37.64286933867378], [127.05199773632879, 37.64332040917096], [127.0513557614907, 37.64481572575869], [127.05111313988796, 37.64490995342587], [127.0504815954264, 37.64482502047636], [127.0477726682392, 37.64141261935174], [127.04678359851499, 37.63970226497606], [127.04645716648328, 37.63909843177987], [127.04502554840036, 37.63650543699809], [127.04505558439591, 37.63625473915989], [127.04505073731998, 37.636043677459654], [127.04496922584985, 37.63566113427186], [127.04419807388273, 37.63397160508509], [127.0440006429957, 37.63357664165323], [127.04392411543313, 37.63347476857162], [127.04351323110336, 37.63309208086553], [127.04295292410126, 37.63277147587823], [127.04280231101764, 37.632698595950444], [127.04269108746855, 37.632621131070074], [127.04165790111458, 37.631467099891566], [127.04257019040021, 37.630572197953335], [127.04238955530332, 37.630511271824936], [127.04175372056642, 37.63079916241632], [127.03858068720407, 37.633680260979666], [127.03746918208765, 37.63635751877705], [127.03641755781956, 37.636863619102726], [127.03606573353703, 37.636955466982286], [127.0359838325489, 37.636981078199966], [127.03584427399142, 37.63702977114635], [127.03541347675282, 37.63718053869112], [127.03523631088581, 37.63724302832181], [127.03514817979567, 37.63727413601105], [127.03509732786858, 37.63731379461283], [127.0347762448585, 37.637564898194725], [127.03456606273384, 37.63778299339444], [127.03447143794439, 37.637994749944596], [127.03413131358522, 37.63875797082437], [127.03410437680053, 37.63882104823423], [127.03404461372247, 37.63895954432421], [127.03393312609927, 37.63921536148397], [127.0335704723706, 37.640045441109045], [127.03341596826891, 37.640398846717595], [127.0333289066538, 37.64056014463325], [127.0331932783647, 37.64081119298557], [127.03304880594774, 37.641049901106356], [127.0328376433891, 37.64139719408362], [127.03283062404502, 37.64140818784148], [127.03264533978758, 37.64160014550062], [127.03241951065209, 37.64183319638113], [127.03194570211512, 37.64217280900936], [127.03165073484456, 37.64236253981222], [127.03085531133041, 37.642868368073835], [127.03085453519496, 37.64286885892014], [127.03085258687666, 37.64287009321485], [127.0253347479038, 37.64638900547646], [127.02515977354795, 37.646610311279], [127.0246854353279, 37.64734218792874], [127.02144688612864, 37.648875897539405], [127.0211570028142, 37.6489932721414], [127.02087935007468, 37.649037244045374], [127.02062748543325, 37.649077121666465], [127.0202055052659, 37.64908472238384], [127.01971138916238, 37.648960041728074], [127.01961795552778, 37.64893654022975], [127.01923690355542, 37.64884105793386], [127.01904149435637, 37.6487922724987], [127.01884806827593, 37.64875030712419], [127.01880532371337, 37.648741384413036], [127.01856766157603, 37.648696469229634], [127.01818005578558, 37.64863252876558], [127.01778412504582, 37.64862723175944], [127.01731218072896, 37.648653064624796], [127.01646554150142, 37.648854453022864], [127.015536192234, 37.64913621209279], [127.01509420939128, 37.64928375288154], [127.0131394598285, 37.65047478068656], [127.01289813717976, 37.65074734875073], [127.01251279642621, 37.65184964018431], [127.01245074335041, 37.65215967012775], [127.01256722862495, 37.65288755766005], [127.01267791032929, 37.65342831292476], [127.01402468237283, 37.659227122055995], [127.01438334476039, 37.66038519445203], [127.01460546359053, 37.660975128514636], [127.01488902049148, 37.66160280487209], [127.01490970136514, 37.66158946906527], [127.01523430673788, 37.66138022496035], [127.0152635457347, 37.66137553740675], [127.01554834409777, 37.66133522985797], [127.01588154190009, 37.661324467699245], [127.01602695538226, 37.66136337290647], [127.01620750628565, 37.661424436230035], [127.01650233550264, 37.6616736975439], [127.01688697944635, 37.662172337457854], [127.01662880470974, 37.66217696537238], [127.0161780265096, 37.66250948137416], [127.01594143243065, 37.66276466787497], [127.01532074370027, 37.663632918939484], [127.01531945964142, 37.664035113836235], [127.01534625993989, 37.66555307085875], [127.01540751711633, 37.66583524870867], [127.0154674055618, 37.666076882539045], [127.01575931934292, 37.66699475856969], [127.01616199640429, 37.66744231304366], [127.01660683896986, 37.66788067048517], [127.01712099950493, 37.668055753134624], [127.01759437098109, 37.668293006503355], [127.0179745871098, 37.668569191635555], [127.01839697818227, 37.66888429243892], [127.01873329557495, 37.670458423834], [127.01869598324153, 37.67085900036572], [127.01823302609685, 37.670653014356795], [127.01792610207332, 37.6707526157727], [127.01700066604401, 37.672597752238715], [127.01621937801586, 37.67392354246082], [127.0139619485745, 37.67583521344754], [127.01141644018695, 37.679177698093454], [127.0100653312255, 37.67944322957563], [127.00936466475338, 37.679581037937645], [127.00886665672883, 37.68059997802444], [127.00871162465491, 37.68225930535651], [127.00864852765471, 37.68394700678072], [127.00866351651996, 37.684449524658596], [127.00847486016629, 37.68523253499906], [127.00844015376353, 37.68543159865479], [127.00829302814554, 37.69011495654657], [127.00971166080298, 37.69336342818521], [127.00966649126505, 37.696699835529195], [127.00971826518887, 37.696714111525594], [127.01212459828831, 37.697377609048274], [127.01387862687343, 37.698800689951966], [127.0149614434617, 37.70042822419904], [127.01500893792007, 37.70052619919688], [127.01541538638106, 37.70145528326448], [127.0198273600697, 37.701017423729915], [127.02214829033659, 37.69972082165531]]]], &quot;type&quot;: &quot;MultiPolygon&quot;}, &quot;properties&quot;: {&quot;base_year&quot;: &quot;2018&quot;, &quot;code&quot;: &quot;11100&quot;, &quot;name&quot;: &quot;\\ub3c4\\ubd09\\uad6c&quot;, &quot;name_eng&quot;: &quot;Dobong-gu&quot;}, &quot;type&quot;: &quot;Feature&quot;}, {&quot;geometry&quot;: {&quot;coordinates&quot;: [[[[127.08384328754063, 37.6942688898015], [127.08387832209971, 37.692792123134254], [127.08390501823084, 37.691782451515934], [127.08503096559657, 37.69054991857279], [127.08517719517896, 37.690389848226765], [127.0884535785335, 37.68990263914024], [127.09055188582387, 37.68957025115677], [127.09238424486433, 37.689933183856546], [127.0930367218721, 37.68996646570196], [127.09509714240252, 37.68938484966939], [127.09599596020615, 37.68907104654473], [127.09611844459816, 37.687777461439616], [127.09629522630483, 37.68716976030822], [127.09642514702104, 37.68626418117494], [127.09642311377311, 37.685637440776496], [127.09580983583557, 37.6846403927442], [127.09428757838566, 37.68341853773355], [127.0929190517262, 37.68155150213765], [127.09194656295605, 37.67919029871859], [127.09194153817919, 37.6786925154349], [127.09218959030717, 37.678030107306384], [127.09247959816388, 37.67764303424013], [127.09261435573042, 37.67747456102342], [127.09396277364324, 37.67561723190618], [127.0964472574026, 37.66968910659041], [127.09623736513255, 37.668829414175114], [127.09497929359163, 37.66760002681466], [127.09458063154648, 37.666172300318465], [127.09468001408504, 37.664921278956754], [127.0954106306299, 37.66388964422891], [127.09414211731995, 37.66329882495924], [127.09217357525276, 37.66079254837739], [127.09120691183224, 37.6593345563533], [127.09113228687777, 37.65824302438993], [127.09157431760497, 37.65777243648777], [127.09235164571213, 37.65549186243395], [127.0928674143661, 37.6544536592633], [127.09356843210026, 37.653318728648856], [127.09391574224523, 37.65296172964191], [127.09400788363699, 37.65272853008202], [127.09404075469858, 37.652540141085304], [127.09403529621697, 37.65241851924895], [127.0939999117434, 37.65229522609135], [127.0932658743462, 37.65061772819729], [127.09246587906362, 37.64970976716624], [127.09269449938395, 37.64857999315302], [127.0943813686756, 37.64495591620639], [127.09456996937807, 37.64457060044399], [127.09755891061224, 37.643964830491136], [127.09890806296772, 37.64403439806308], [127.10159264207758, 37.644772357792554], [127.10280013783462, 37.64520492231784], [127.1028823882268, 37.645408976610014], [127.10386737219535, 37.645488524243454], [127.10411721494455, 37.64548033148544], [127.10657637828419, 37.6453773093634], [127.10769224207937, 37.644966646404804], [127.10786269649422, 37.6446928220515], [127.10928861306374, 37.64285888850737], [127.10989832913302, 37.642487523589466], [127.11125728360498, 37.64237533356503], [127.11142380080302, 37.642086863089226], [127.11178551174109, 37.64073538362639], [127.11113544302627, 37.63994393313249], [127.11090335187392, 37.6382624751997], [127.11155819222292, 37.63803293629741], [127.11163126006056, 37.637977623638456], [127.11163252362714, 37.637976575032425], [127.11163356013799, 37.63797537966185], [127.11163434110775, 37.63797406627585], [127.11248319299678, 37.63648912122625], [127.11220344839815, 37.63264276687464], [127.11163231974184, 37.63150328405249], [127.11137117206455, 37.6312278828498], [127.1108254929571, 37.630781845581], [127.10888476044302, 37.62930151888616], [127.10596351558793, 37.62733070915169], [127.10432790764757, 37.62327070392699], [127.10406621921243, 37.62165311352813], [127.10490909707308, 37.62156734394026], [127.10538285083847, 37.62090189603842], [127.10566198916815, 37.62041624655368], [127.10555591395581, 37.62037072483441], [127.10492543231754, 37.620095509669255], [127.1016748692705, 37.619471681374385], [127.10087077289205, 37.61940424792502], [127.09881685821152, 37.62039396413475], [127.09444784046772, 37.619006255761924], [127.09364037781992, 37.61806585976165], [127.09321564978096, 37.61800262466536], [127.09275528717941, 37.61815101391237], [127.08972088508338, 37.61951983715039], [127.08607255931196, 37.620292484083144], [127.08166602497586, 37.61917180424706], [127.0757931026157, 37.617251444652666], [127.07415857224088, 37.61683236767206], [127.07019217009989, 37.615445987550736], [127.07005942210341, 37.6154306408354], [127.065808430565, 37.61497315258845], [127.06324674172075, 37.614268989664666], [127.06230889499834, 37.614316300124635], [127.06209571115086, 37.614366755949014], [127.06202630243632, 37.61439171251567], [127.06196243991441, 37.61441495544598], [127.06175411317581, 37.61449260956062], [127.06150122736877, 37.61461338019621], [127.06145441308465, 37.61463579206633], [127.06115777273014, 37.61482536465201], [127.05742057357863, 37.61748133930581], [127.05442484488992, 37.619779032116554], [127.05438927786915, 37.6198093469214], [127.05427358717061, 37.619912273996064], [127.05407997152054, 37.62008535714123], [127.05403445953955, 37.62013313830196], [127.05388467190004, 37.62029395725545], [127.05377732534974, 37.62040960986678], [127.05370933688069, 37.620484466916075], [127.04973987978762, 37.62427412688289], [127.04869323922524, 37.625867761329495], [127.04760429248047, 37.62712360703311], [127.04712094655355, 37.627536362013], [127.04684679463236, 37.6276846236073], [127.0463683549193, 37.62794221601901], [127.04610025435525, 37.62806246385244], [127.04558054421193, 37.62830559902181], [127.04527013424776, 37.62845508730819], [127.0451143694848, 37.62853123237029], [127.04487246485637, 37.62866771235985], [127.04440600654513, 37.62893833846634], [127.04432100291069, 37.629004790465515], [127.04390871243267, 37.62933655251321], [127.04384394461616, 37.62938882319026], [127.04257019040021, 37.630572197953335], [127.04165790111458, 37.631467099891566], [127.04269108746855, 37.632621131070074], [127.04280231101764, 37.632698595950444], [127.04295292410126, 37.63277147587823], [127.04351323110336, 37.63309208086553], [127.04392411543313, 37.63347476857162], [127.0440006429957, 37.63357664165323], [127.04419807388273, 37.63397160508509], [127.04496922584985, 37.63566113427186], [127.04505073731998, 37.636043677459654], [127.04505558439591, 37.63625473915989], [127.04502554840036, 37.63650543699809], [127.04645716648328, 37.63909843177987], [127.04678359851499, 37.63970226497606], [127.0477726682392, 37.64141261935174], [127.0504815954264, 37.64482502047636], [127.05111313988796, 37.64490995342587], [127.0513557614907, 37.64481572575869], [127.05199773632879, 37.64332040917096], [127.05220057659116, 37.64286933867378], [127.0523260790181, 37.642613811614716], [127.05241701518318, 37.64246039923465], [127.05285259477374, 37.64180694956737], [127.05292340066843, 37.6417272620236], [127.0529713353345, 37.64167361576104], [127.05302532129828, 37.641621722973596], [127.05334702441739, 37.641313528246634], [127.05339298387148, 37.641270126148186], [127.05358585245123, 37.641098451763], [127.05382924837095, 37.64088807360944], [127.05438739058044, 37.64041751414049], [127.05465423859202, 37.64019676369768], [127.0547311939721, 37.6401348401929], [127.05477378618353, 37.64015210292561], [127.05577791769392, 37.640625351836654], [127.0551279895463, 37.64132242779515], [127.05511734872226, 37.64139916905413], [127.05506583316468, 37.64178477449678], [127.05503180069648, 37.64204028902745], [127.05499362663173, 37.64235539519334], [127.05514885835846, 37.64344956118908], [127.05515137019377, 37.64346021005116], [127.05519672414087, 37.64356820809116], [127.05527987321044, 37.64376230375982], [127.05557626252151, 37.64444081917238], [127.05564173946499, 37.64458963869761], [127.05564404549877, 37.64459755752207], [127.05567259507434, 37.64482887075667], [127.0557427638778, 37.64539969607773], [127.05581057685957, 37.64595780177496], [127.05585381902428, 37.646366411010895], [127.05587537764981, 37.646595511166495], [127.05587167941218, 37.64663482258954], [127.05586492667393, 37.64669823508753], [127.05582563706962, 37.647048921871324], [127.05577397686703, 37.64721967316555], [127.05573219565625, 37.64735328868797], [127.05545278406717, 37.64820644229905], [127.05543964128199, 37.648240676027555], [127.05522658863002, 37.6485984067938], [127.05472700299394, 37.649430224552006], [127.05464587261386, 37.64956132599425], [127.05464515980275, 37.64956223725878], [127.05450654197973, 37.64973769266472], [127.05440997227873, 37.649863286148474], [127.05421634910562, 37.650117106548706], [127.05419092099562, 37.65015143611095], [127.05404500270386, 37.65039060048265], [127.05395130875986, 37.65054609637197], [127.05394795869691, 37.65055276621472], [127.05382209400629, 37.65112707617694], [127.05382002995256, 37.6511427552312], [127.05373500802546, 37.65204633528998], [127.05373438012398, 37.65205805749839], [127.0539933288965, 37.653722647589156], [127.05405422985544, 37.654494116869024], [127.05404901769683, 37.654592982739764], [127.05400636237019, 37.655300626182886], [127.0534132712648, 37.6575019787115], [127.0534069941705, 37.65751763097472], [127.05178629647507, 37.66060310355826], [127.05169059246366, 37.661906052136175], [127.05166209593733, 37.66326407858884], [127.05163521716457, 37.663978967272605], [127.0508259561085, 37.66490523802348], [127.04890716415773, 37.6675847166542], [127.0485124820278, 37.66917597322999], [127.04815819608395, 37.67118835591463], [127.04830577912477, 37.67224132688736], [127.04832002227852, 37.67234260024354], [127.04873624888522, 37.674499550135515], [127.04912838830049, 37.67566128502126], [127.0507158472178, 37.67973836752305], [127.05213382601845, 37.682947413401294], [127.05215028435939, 37.683045863460414], [127.05221516098457, 37.68343890290748], [127.05225086094532, 37.683658119703864], [127.05231109386915, 37.68404274642827], [127.05235577748225, 37.68433203703691], [127.05233561313388, 37.68442025942854], [127.05229679429586, 37.68458436168898], [127.05220186252802, 37.68497182792122], [127.05219521754319, 37.684987868920196], [127.05213953359433, 37.68510967699511], [127.05204347207204, 37.68531927456765], [127.05191329950924, 37.68560235236931], [127.05183676434588, 37.685743571444334], [127.05179813595967, 37.68581484612482], [127.05180416011648, 37.68706675931995], [127.05206062998293, 37.687282882377026], [127.0521442897982, 37.68735239259423], [127.05222706394157, 37.68742077633041], [127.05469544688493, 37.688722717083735], [127.05610252930241, 37.68920437170736], [127.05817261206987, 37.689669926217924], [127.05839034018145, 37.68968586789889], [127.05966013494556, 37.690331982441066], [127.06220905308155, 37.692805264461846], [127.06236779480362, 37.69302423523369], [127.06237354355198, 37.693135158965596], [127.06239478699443, 37.69354649501908], [127.0626017487538, 37.69424379198582], [127.06273214249462, 37.694675909992675], [127.06305928794947, 37.69479906359933], [127.06338631280825, 37.694921883261166], [127.0663081398085, 37.694441720726445], [127.06854802293456, 37.69400040056079], [127.06915096963311, 37.693689500889306], [127.07087882215323, 37.6937000483053], [127.07087906821349, 37.69370006181934], [127.07265759996096, 37.6937995008786], [127.0731378651995, 37.693975746069796], [127.07339823265883, 37.694100876312135], [127.07378269875925, 37.69449368918357], [127.07393007305292, 37.6946442320067], [127.07448636263345, 37.69500962828338], [127.07490680550465, 37.695219680112636], [127.07819627833626, 37.69598650999871], [127.08110478593213, 37.69613745758589], [127.08384328754063, 37.6942688898015]]]], &quot;type&quot;: &quot;MultiPolygon&quot;}, &quot;properties&quot;: {&quot;base_year&quot;: &quot;2018&quot;, &quot;code&quot;: &quot;11110&quot;, &quot;name&quot;: &quot;\\ub178\\uc6d0\\uad6c&quot;, &quot;name_eng&quot;: &quot;Nowon-gu&quot;}, &quot;type&quot;: &quot;Feature&quot;}, {&quot;geometry&quot;: {&quot;coordinates&quot;: [[[[126.95171836569233, 37.65488968779871], [126.9518600028143, 37.65486492575817], [126.9532104982364, 37.65493307712028], [126.95403723951043, 37.65498197574444], [126.95523592345037, 37.65431392825821], [126.95529054663065, 37.65427443353534], [126.95710810534295, 37.65283722958429], [126.95746014828867, 37.6518719036918], [126.95837734343056, 37.6476502978112], [126.95890654216902, 37.644760365359566], [126.95901970658504, 37.643879044128795], [126.95926778267058, 37.642132733638995], [126.96160434255039, 37.63711735648122], [126.96254077916645, 37.635818856359556], [126.96292222487274, 37.634645548040844], [126.96332878955559, 37.63324513285884], [126.95982244106627, 37.629761154837034], [126.95841841842733, 37.629469751140356], [126.95556524710337, 37.62828290175954], [126.95045372101613, 37.626418006443956], [126.94981195859722, 37.625497586539126], [126.94971290787633, 37.625344069539224], [126.94900026337734, 37.6243351349276], [126.94889796158519, 37.623262743943236], [126.94986337153628, 37.61872668218891], [126.95046953204748, 37.616099153508785], [126.95072414848573, 37.615537943529716], [126.95079658268352, 37.613849365294406], [126.95073164301206, 37.61352828204463], [126.95047793576704, 37.6128699970444], [126.94986821104538, 37.611730018151725], [126.94982875644766, 37.61165624620594], [126.95036280527036, 37.610622635741834], [126.94816425246368, 37.60863426947397], [126.94699788211231, 37.60813855677867], [126.94381337231586, 37.60631309441429], [126.94370777909549, 37.60624016147419], [126.94213780344225, 37.60495755522392], [126.94066198938457, 37.603119069197916], [126.94037652063808, 37.60156950053447], [126.94109348186682, 37.601120820107816], [126.94140323005104, 37.60065652084556], [126.9408834593043, 37.59869706763729], [126.94066570132307, 37.59856135753587], [126.93967548817565, 37.59795186826467], [126.93872444969915, 37.597504387278285], [126.93863252092936, 37.597504860417125], [126.93774913267222, 37.59780063950712], [126.93760131707081, 37.59784930345596], [126.93754151180805, 37.59786819177375], [126.9373838104382, 37.59782576032909], [126.93677599526349, 37.597650726907666], [126.93279539772789, 37.5962984424746], [126.93023107812589, 37.59453540817443], [126.92912491696627, 37.59313433506714], [126.9282537357851, 37.59197979441583], [126.92814408986243, 37.591888658627425], [126.92776181812548, 37.59157091470336], [126.9276577915868, 37.590510389887584], [126.9276213081591, 37.58938945276903], [126.92774518485636, 37.58892056812057], [126.92366758480483, 37.58629671312606], [126.9228331682321, 37.58560836167845], [126.92284177472725, 37.58538147114305], [126.92172253944953, 37.58368488471992], [126.92085895816992, 37.582939197853385], [126.91994756131265, 37.58322371276999], [126.91973989606986, 37.58326690112155], [126.91914436708173, 37.58337220612495], [126.91897105508018, 37.58340283070926], [126.91642059085756, 37.58317177976779], [126.91593725531797, 37.58309466613763], [126.91573000533107, 37.58344995350426], [126.9153102010713, 37.585415418813426], [126.91569800528703, 37.58597962839699], [126.91284408930106, 37.587222455151014], [126.91277240098806, 37.5870572955092], [126.91268530957353, 37.586888024775796], [126.91263119466306, 37.5867904971846], [126.91252012827168, 37.586598144448644], [126.91247990276304, 37.58653081053892], [126.91243986900473, 37.5864719447686], [126.91232889882171, 37.5863147302103], [126.91224163708772, 37.58619501222467], [126.9120532833823, 37.5859698943755], [126.91191386043585, 37.58582337902238], [126.91164889332799, 37.5855709016422], [126.90761505897667, 37.58177803535238], [126.9060327817748, 37.580290980461314], [126.90189081162006, 37.57660231268041], [126.90208151541718, 37.576007006603575], [126.90150140827771, 37.57641764235617], [126.9005978962814, 37.577028193414975], [126.89776806372691, 37.57893781266455], [126.89714880745935, 37.57934910843181], [126.89527733994785, 37.58055629093877], [126.88998252295013, 37.58394974546869], [126.8888866414036, 37.584649851716286], [126.8881246250305, 37.585239267239345], [126.88756954624633, 37.5856688641969], [126.88672197762651, 37.586343780160135], [126.88615585884051, 37.586799127346865], [126.88573636269852, 37.58717550777171], [126.88535095163586, 37.58754516531134], [126.88487980319965, 37.58800375162556], [126.8822838489155, 37.59056418922206], [126.88209752118244, 37.59075059333694], [126.88205583154172, 37.590792433369934], [126.88210861392824, 37.590916349105655], [126.88334879698805, 37.59178784484037], [126.88526186504859, 37.59388967185111], [126.88636544900437, 37.593954030556986], [126.88730319358343, 37.59392312273377], [126.88733768839869, 37.59391977756213], [126.8873172252254, 37.59388371782724], [126.88725121360062, 37.593779203784884], [126.88643888466012, 37.59256742910026], [126.88576944538201, 37.591748293782544], [126.88559765577693, 37.591501834276535], [126.88559539382906, 37.591498379385854], [126.88554020229357, 37.59138485411273], [126.88549305106437, 37.59121193635908], [126.88546703934172, 37.59110491921033], [126.88548936146601, 37.59097035099629], [126.88582444526895, 37.58953002404432], [126.88673986070432, 37.588974487687196], [126.88760860398199, 37.58866702110648], [126.8914441369448, 37.588465406829975], [126.89641421448592, 37.588738259349164], [126.89808208899069, 37.58953879777211], [126.89946874522516, 37.58978720842698], [126.89964366150531, 37.589816890664636], [126.89969641014379, 37.59136215400526], [126.9003551003794, 37.594211235501085], [126.90121055102682, 37.59630168984979], [126.90119917990998, 37.598294510877615], [126.90126122227728, 37.59848859007289], [126.90132268815624, 37.59936653369915], [126.90101249180395, 37.600175469666894], [126.9005290233238, 37.60088063509534], [126.90029321949716, 37.6012326626407], [126.89998230392312, 37.60204018133119], [126.90015265653746, 37.603116442957244], [126.90077091230138, 37.603369806052534], [126.90210819464313, 37.60374163949952], [126.90174950124273, 37.605715231902316], [126.90141386308864, 37.606190711705295], [126.90124674486215, 37.6067787438955], [126.90077575197824, 37.60843924888372], [126.90067562561235, 37.60894201925166], [126.90060115022779, 37.60931952123671], [126.90030432374373, 37.61119134407966], [126.90086461912328, 37.61217694921639], [126.90091349355302, 37.61272466028625], [126.9018226017139, 37.61575356530819], [126.90336123041793, 37.61883930777479], [126.90372905566218, 37.61879822197141], [126.90427428735013, 37.618831332840486], [126.90523109100752, 37.619074544743576], [126.90521389237122, 37.61986778145183], [126.90555758011216, 37.62062308053529], [126.9056126957038, 37.62070393488938], [126.90627822002062, 37.621352052319175], [126.90711746934839, 37.62194146250673], [126.90714042354412, 37.622546823757126], [126.9071428075242, 37.62331265629486], [126.90710897918376, 37.62344877994794], [126.90699954054479, 37.62393675013807], [126.90743985925224, 37.625094023285605], [126.90839575490764, 37.62599238188772], [126.90861082733392, 37.626265656012635], [126.90890317015352, 37.627458555876416], [126.90880184512208, 37.62908784343685], [126.90880183074496, 37.62908794161027], [126.90729415718353, 37.63086720631103], [126.90620219583803, 37.63322013469785], [126.90709624945417, 37.633397950233025], [126.90811267115275, 37.63382982171455], [126.90912245902427, 37.63433291428095], [126.91085446032065, 37.63531660251684], [126.91121037321544, 37.63590558370986], [126.91115147846872, 37.640979146165016], [126.91227986260449, 37.644315358352124], [126.90647940170804, 37.64770342679705], [126.90481016432571, 37.649128043724616], [126.90498672239968, 37.64908285022057], [126.90554053380849, 37.6488898352312], [126.9060293144061, 37.64865879833195], [126.90861282969618, 37.64740568464371], [126.91030455493745, 37.64638327103694], [126.91043851635676, 37.64628623169017], [126.91086323024503, 37.646011201941874], [126.91194559100133, 37.645365578961695], [126.91201927428901, 37.64532903667278], [126.91214168568658, 37.64526878245412], [126.91232774567655, 37.64517733010399], [126.9137208255028, 37.644755655371746], [126.92286233148991, 37.645877628973025], [126.92339534879696, 37.64594443010184], [126.92368015545682, 37.646006001976595], [126.92408190318369, 37.64609700388171], [126.92412291111178, 37.64610630212105], [126.92424358570783, 37.64618287347427], [126.92439726969066, 37.64628042384705], [126.92479199659745, 37.64653351357936], [126.92548059453199, 37.64699064586631], [126.92689886625945, 37.64794010747192], [126.92709682325257, 37.648077235090184], [126.93154475662755, 37.65031364684436], [126.93220637135171, 37.650367573665925], [126.9338897233797, 37.65072509334281], [126.93526706871327, 37.651060506516025], [126.93570569118158, 37.65120265541688], [126.93613676326656, 37.6514858647635], [126.93628169103567, 37.65158392563835], [126.93645473601666, 37.65171747361586], [126.93665945927117, 37.651883068066496], [126.93676609651767, 37.651969422850755], [126.93706073494255, 37.65222131669906], [126.93716331982063, 37.65231570428598], [126.93730616423369, 37.652520636633305], [126.93742507110004, 37.65269133742171], [126.93753709782602, 37.65295634771677], [126.9379233327891, 37.65372097070887], [126.9384596558593, 37.6547711737807], [126.93880981868804, 37.6552756274079], [126.93903624763117, 37.655536470937136], [126.93939846626537, 37.65594404728655], [126.93966623314768, 37.65624105908979], [126.93990472691559, 37.65644549792015], [126.9401281615775, 37.65663592750005], [126.94018606299754, 37.65667282521084], [126.9403352123107, 37.65676784739276], [126.94209995830359, 37.65772216097039], [126.9426972190164, 37.657919458278585], [126.94751096467553, 37.65918537633999], [126.94796704011313, 37.65870814020106], [126.94800190674655, 37.65857236993344], [126.94793946464266, 37.65838011929777], [126.94775784376729, 37.65728084764372], [126.94788243441626, 37.6571258105062], [126.9497911634497, 37.65591176198445], [126.95137605585785, 37.65494968250177], [126.95171836569233, 37.65488968779871]]]], &quot;type&quot;: &quot;MultiPolygon&quot;}, &quot;properties&quot;: {&quot;base_year&quot;: &quot;2018&quot;, &quot;code&quot;: &quot;11120&quot;, &quot;name&quot;: &quot;\\uc740\\ud3c9\\uad6c&quot;, &quot;name_eng&quot;: &quot;Eunpyeong-gu&quot;}, &quot;type&quot;: &quot;Feature&quot;}, {&quot;geometry&quot;: {&quot;coordinates&quot;: [[[[126.95826848362613, 37.597788689214426], [126.95903333917313, 37.59505902171021], [126.95902399983736, 37.59479744400457], [126.95852639196318, 37.59418568532416], [126.9577975031031, 37.59257359339102], [126.9574903564004, 37.59007828341072], [126.95738861060879, 37.58906602462564], [126.95737395819859, 37.58707685050351], [126.95747215843029, 37.58604690855157], [126.95782732192771, 37.585066245866855], [126.95783833049413, 37.58504093955162], [126.95784782404249, 37.58501911689114], [126.95782691428577, 37.58485252101165], [126.95790145338952, 37.58470397778445], [126.95799717113798, 37.58444209585086], [126.95799889730472, 37.58412468832425], [126.95757283735861, 37.58230278148184], [126.95720618863858, 37.57986553186682], [126.95362029363977, 37.578809096973444], [126.95355819400915, 37.578748855621164], [126.95491745708837, 37.57714917563005], [126.9594003742411, 37.573049350492845], [126.96571137108626, 37.566775503241814], [126.96669861231422, 37.565820355520124], [126.9694631043063, 37.56197636466721], [126.96744146120692, 37.56150833813403], [126.966833560058, 37.56127281427318], [126.96666769108317, 37.561153851304816], [126.96637895056855, 37.560945386391715], [126.96622221430707, 37.56083173550191], [126.9661279577345, 37.56076330997746], [126.96593140488409, 37.56062030369159], [126.96558039975702, 37.56036508932971], [126.96510448600957, 37.56009401532531], [126.96456437715808, 37.55978702515223], [126.9640124913914, 37.55947474777286], [126.9639831826487, 37.559462035241225], [126.96396404849663, 37.55945500121792], [126.96330371926142, 37.55921401682947], [126.96208463673887, 37.55907296364217], [126.96180226457372, 37.55904105441837], [126.96167996135281, 37.5590275031111], [126.96164703141285, 37.55908797054915], [126.95987953163622, 37.557623724028375], [126.95824682783139, 37.557299200250576], [126.95627073598624, 37.55740321004606], [126.9560142398011, 37.557398001518436], [126.95559404370772, 37.55737671086159], [126.95551724603428, 37.55737274396159], [126.95528318290455, 37.557359804421836], [126.95505566337117, 37.557346858861756], [126.94937213623267, 37.55702080415625], [126.94893989102906, 37.55699033874147], [126.94893679759392, 37.55699010479799], [126.94651413751522, 37.55684652302826], [126.94137158040499, 37.55654828649525], [126.94099179574025, 37.556468959043706], [126.94076903838831, 37.55639797220317], [126.93912458615571, 37.555855483923715], [126.93758527240755, 37.555341988415584], [126.93715273948291, 37.555197658707144], [126.93686249930701, 37.5551006469186], [126.93643108441437, 37.55525408016578], [126.93280161724363, 37.55657479390996], [126.92985960950413, 37.55765220461296], [126.92659377860379, 37.55884850281845], [126.92660057634878, 37.55945216197374], [126.92666822181597, 37.56067573949327], [126.92672118042921, 37.56096736005274], [126.9267609712764, 37.561072413908974], [126.92677445086468, 37.56110774923553], [126.926812716882, 37.561199603366816], [126.92684820686063, 37.561281093167196], [126.9269414595709, 37.56143905081079], [126.92717864658879, 37.56178412096402], [126.92718888790824, 37.561790505488354], [126.92735673253789, 37.561780804385435], [126.9279382309741, 37.562576632538494], [126.92813986503819, 37.56287490593592], [126.92825257784277, 37.56304229811239], [126.92828215205529, 37.563332191079226], [126.92721725158229, 37.564170851151225], [126.92720081622396, 37.56418378821316], [126.92677088540196, 37.56451761154252], [126.92656737684581, 37.56467554307564], [126.92601359882525, 37.56510474554354], [126.92575003516536, 37.565234364600926], [126.92530328900247, 37.565452279191845], [126.92473367301284, 37.565674471490276], [126.92472367342461, 37.5656778622222], [126.92426056713681, 37.56580919338644], [126.92425437303334, 37.565810938471785], [126.9235808214979, 37.56599927938822], [126.92155989040265, 37.566443353637766], [126.92134355875663, 37.566480085149195], [126.92083801803643, 37.56655717137188], [126.9204263966269, 37.56661742683312], [126.92027675647752, 37.56663281167598], [126.92027647984155, 37.56663283562384], [126.91957941736865, 37.566807118052296], [126.91873544082564, 37.5670332898378], [126.9184375250971, 37.567115717967134], [126.91678525563734, 37.567806963206955], [126.91677296673552, 37.56781136960789], [126.9167580267321, 37.56781771314508], [126.90979165134901, 37.57099037616708], [126.90592140270802, 37.57344601189293], [126.90208610115934, 37.57600204883602], [126.90208151541663, 37.57600700653739], [126.901890811547, 37.5766023126913], [126.90603278180998, 37.58029098035305], [126.90761505901044, 37.581778035421905], [126.91164889319502, 37.58557090139403], [126.91191386095936, 37.585823378841724], [126.91205328364319, 37.58596989439774], [126.91224163747272, 37.586195011933306], [126.91232889937093, 37.58631472999895], [126.91243986904325, 37.58647194493761], [126.91247990324918, 37.58653081061158], [126.91252012882222, 37.58659814435175], [126.91263119512264, 37.58679049725801], [126.91268531000954, 37.586888024896616], [126.9127724011964, 37.58705729518261], [126.91284408935498, 37.58722245519073], [126.9156980053693, 37.58597962806186], [126.91531020132888, 37.5854154189756], [126.91573000529792, 37.5834499532196], [126.91593725584802, 37.58309466610752], [126.91642059131306, 37.5831717799371], [126.91897105536712, 37.583402830509804], [126.91914436723582, 37.583372206938854], [126.91973989610558, 37.58326690122541], [126.91994756119456, 37.58322371245676], [126.92085895863653, 37.582939197589674], [126.92172253936316, 37.583684884880405], [126.92284177491058, 37.5853814708973], [126.92283316813348, 37.585608361846795], [126.92366758475085, 37.58629671382099], [126.92774518491059, 37.58892056898679], [126.92762130857709, 37.58938945365815], [126.92765779155135, 37.5905103904761], [126.92776181829262, 37.591570915269095], [126.92814409036379, 37.59188865932064], [126.92825373622, 37.59197979497405], [126.9291249171904, 37.59313433614015], [126.93023107806415, 37.59453540887373], [126.93279539759415, 37.59629844333639], [126.93677599559625, 37.59765072781922], [126.93738381065296, 37.597825761196944], [126.9375415120434, 37.59786819270069], [126.93760131713229, 37.59784930440671], [126.93774913313644, 37.597800640154354], [126.93863252120543, 37.5975048612219], [126.93872445005687, 37.597504387964634], [126.93967548833955, 37.59795186927839], [126.94066570139859, 37.598561358388096], [126.94088345932006, 37.59869706863887], [126.94140323054731, 37.60065652165312], [126.9410934818583, 37.60112082095524], [126.94037652081504, 37.601569501283315], [126.94066198931671, 37.60311906984174], [126.94213780338553, 37.60495755615474], [126.94370777896359, 37.60624016225327], [126.94381337246985, 37.60631309498698], [126.94699788246665, 37.608138557637474], [126.94816425258229, 37.60863427034575], [126.95036280566144, 37.61062263672931], [126.95033780770466, 37.60909261588722], [126.95056465509829, 37.608359684737984], [126.95220372248855, 37.60688813932094], [126.95254683262154, 37.606652558208545], [126.95388420819822, 37.6048019657079], [126.95376271667458, 37.60469036543353], [126.95356668606918, 37.60447934843572], [126.95237512007924, 37.60247603692667], [126.95250806248264, 37.60156792772978], [126.95259689736343, 37.6012290321805], [126.95338041144252, 37.59953128901724], [126.95414105375616, 37.599098279712514], [126.9563414752601, 37.59892144048755], [126.95654122631993, 37.59882758045768], [126.95730783193588, 37.59853103190025], [126.9577141571825, 37.59836707787768], [126.95804188751862, 37.5981558741074], [126.95826848362613, 37.597788689214426]]]], &quot;type&quot;: &quot;MultiPolygon&quot;}, &quot;properties&quot;: {&quot;base_year&quot;: &quot;2018&quot;, &quot;code&quot;: &quot;11130&quot;, &quot;name&quot;: &quot;\\uc11c\\ub300\\ubb38\\uad6c&quot;, &quot;name_eng&quot;: &quot;Seodaemun-gu&quot;}, &quot;type&quot;: &quot;Feature&quot;}, {&quot;geometry&quot;: {&quot;coordinates&quot;: [[[[126.89776806372691, 37.57893781266455], [126.9005978962814, 37.577028193414975], [126.90150140827771, 37.57641764235617], [126.90208151541718, 37.576007006603575], [126.90208610083941, 37.5760020490115], [126.90592140283532, 37.573446010899985], [126.90979165122886, 37.57099037555227], [126.91675802665496, 37.567817712541924], [126.91677296662546, 37.56781136968146], [126.91678525536432, 37.56780696332901], [126.91843752491454, 37.567115717977856], [126.9187354407481, 37.567033289851686], [126.91957941708723, 37.56680711811712], [126.92027647953107, 37.56663283587161], [126.92027675600728, 37.56663281199161], [126.9204263962723, 37.566617427069225], [126.9208380179022, 37.56655717142598], [126.92134355842386, 37.56648008513541], [126.92155989037546, 37.56644335371615], [126.92358082150221, 37.5659992796833], [126.9242543731421, 37.565810938703116], [126.92426056682481, 37.565809193259234], [126.92472367325436, 37.565677862500586], [126.92473367286195, 37.565674471694805], [126.92530328913794, 37.56545227925694], [126.92575003515037, 37.5652343645359], [126.92601359882384, 37.565104745723275], [126.92656737653171, 37.56467554293786], [126.92677088546321, 37.5645176114849], [126.92720081568983, 37.56418378850561], [126.92721725162859, 37.56417085102136], [126.92828215208544, 37.56333219132776], [126.92825257737904, 37.56304229801879], [126.92813986507069, 37.56287490587377], [126.92793823049728, 37.562576632857635], [126.92735673216565, 37.561780804622344], [126.92718888753444, 37.56179050549111], [126.92717864637312, 37.56178412024491], [126.92694145930928, 37.56143905089333], [126.92684820698751, 37.5612810934884], [126.92681271672875, 37.56119960359246], [126.92677445040196, 37.561107749153365], [126.92676097099884, 37.56107241405216], [126.9267211800186, 37.5609673600967], [126.92666822178944, 37.56067573934457], [126.92660057645998, 37.55945216203343], [126.9265937783984, 37.55884850306937], [126.92985960955785, 37.55765220495933], [126.93280161706362, 37.556574794172455], [126.93643108424065, 37.55525408003222], [126.93686249942706, 37.55510064712532], [126.93715273896746, 37.55519765858603], [126.9375852725298, 37.55534198832832], [126.93912458618243, 37.55585548374885], [126.94076903731163, 37.55639797216832], [126.94099179577623, 37.55646895896044], [126.94137157910185, 37.55654828584231], [126.94651413749462, 37.55684652312165], [126.94893679721446, 37.556990104670525], [126.94893989091298, 37.55699033903861], [126.94937213625919, 37.55702080400339], [126.95505566333331, 37.557346858742925], [126.95528318244406, 37.55735980373155], [126.95551724580459, 37.55737274330934], [126.9555940436595, 37.55737671095046], [126.95601423940242, 37.55739800145429], [126.95627073605694, 37.55740320928692], [126.95824682758067, 37.55729920021264], [126.95987953110861, 37.55762372329116], [126.96164703127802, 37.55908797038323], [126.96167996127201, 37.55902750312324], [126.96157354706754, 37.55841993339053], [126.96182701366088, 37.558449337253556], [126.96191958776049, 37.558459189089504], [126.96207452967786, 37.558452574386166], [126.96307114716869, 37.55811588780199], [126.96342686896764, 37.55696478233747], [126.96342917207873, 37.556955909121314], [126.96344215086458, 37.55684990111131], [126.96221147576172, 37.55325535792476], [126.96240556625945, 37.55159213643027], [126.96349470585591, 37.55015910577084], [126.96333956605022, 37.54863825609617], [126.96293886133624, 37.54871389072237], [126.96143171405134, 37.547544211887946], [126.95791898445925, 37.545495779306165], [126.95779886687306, 37.54522191888898], [126.95750573464218, 37.54400118025511], [126.95658258906258, 37.54076126512396], [126.95665907639187, 37.540594169710204], [126.9557337435262, 37.53947063722594], [126.95526467715118, 37.539212769442145], [126.95518526468129, 37.53918489838677], [126.95463815486944, 37.53906890466911], [126.95335583666409, 37.537493372526846], [126.95128383515414, 37.53628561953873], [126.95093645079223, 37.53616834359133], [126.94730824405993, 37.53528799507341], [126.94669437338528, 37.535546566093515], [126.94641457494401, 37.53573884318848], [126.94640477121575, 37.5357357037959], [126.94627653418974, 37.535691026536306], [126.94599290199963, 37.53553043486862], [126.94509447153172, 37.534962286770146], [126.94485812066728, 37.534585420999605], [126.94481868374436, 37.53452170301972], [126.94458999713282, 37.533785726032306], [126.94102514315331, 37.53627136503437], [126.93534087560043, 37.539356892577786], [126.93033769545193, 37.54136254260469], [126.9276652944228, 37.53907615609478], [126.92764927608147, 37.53907310941323], [126.92710019626892, 37.53903514006957], [126.92683670377413, 37.539087331256354], [126.92673463651273, 37.53911785482447], [126.9261796941798, 37.53928436520467], [126.92443955491345, 37.539902594350714], [126.9230759054395, 37.54045450926464], [126.9228343155885, 37.54061912094162], [126.92261732993694, 37.54103634267421], [126.92245373158762, 37.54135293356441], [126.92241402520577, 37.54142961626317], [126.92180082442002, 37.541429204879165], [126.9171389090278, 37.54142596572174], [126.90483069511345, 37.54141652994167], [126.90419252161807, 37.54216618929542], [126.9021909488218, 37.54412752331309], [126.90204799132901, 37.54448150029995], [126.90200637124718, 37.54458448566097], [126.90196510588342, 37.54468584767289], [126.90191175968802, 37.54481610425205], [126.90182777562976, 37.54502014399858], [126.9018236588748, 37.54502732220228], [126.9018180706254, 37.54503434332776], [126.89894300943189, 37.54800786451002], [126.89573087039602, 37.54904306132252], [126.88811978450299, 37.55229266406138], [126.88682483094793, 37.55308978201638], [126.88046377712031, 37.55626953232584], [126.87304250725138, 37.56004939587947], [126.8698865496599, 37.561566060438054], [126.86677491978503, 37.56285264754437], [126.86654450468639, 37.562944177661784], [126.86629141145252, 37.563052574106294], [126.86465274713674, 37.56400488648508], [126.86382542171395, 37.56448989081053], [126.86304144973026, 37.56499736829967], [126.85720402890688, 37.56871381456034], [126.85363177699416, 37.57179056678837], [126.85362850898825, 37.57379873051782], [126.85483415409423, 37.57403731201967], [126.855766284446, 37.574221474757834], [126.85929409300994, 37.57524051303467], [126.86341573736131, 37.576868713134644], [126.86733277826667, 37.57750503048314], [126.87060053190014, 37.57800846773788], [126.87144307156403, 37.57809245174052], [126.87308486620043, 37.5782218026738], [126.87391525076346, 37.57828069949472], [126.87519538289925, 37.57827448035932], [126.8762604850096, 37.5781852344133], [126.8770764972564, 37.57890255449431], [126.87742720910832, 37.579363264697975], [126.87752213185111, 37.57951484713316], [126.87758792642695, 37.57962585528098], [126.87763159195134, 37.5797480927954], [126.877461946103, 37.58049995827179], [126.87741784525568, 37.58063956506396], [126.87704967615343, 37.58220615419876], [126.87674571187188, 37.584637258492705], [126.87754227116534, 37.586247482643145], [126.88004451247495, 37.58906632818055], [126.88100436786972, 37.58998293815784], [126.88205583154172, 37.590792433369934], [126.88209752118244, 37.59075059333694], [126.8822838489155, 37.59056418922206], [126.88487980319965, 37.58800375162556], [126.88535095163586, 37.58754516531134], [126.88573636269852, 37.58717550777171], [126.88615585884051, 37.586799127346865], [126.88672197762651, 37.586343780160135], [126.88756954624633, 37.5856688641969], [126.8881246250305, 37.585239267239345], [126.8888866414036, 37.584649851716286], [126.88998252295013, 37.58394974546869], [126.89527733994785, 37.58055629093877], [126.89714880745935, 37.57934910843181], [126.89776806372691, 37.57893781266455]]]], &quot;type&quot;: &quot;MultiPolygon&quot;}, &quot;properties&quot;: {&quot;base_year&quot;: &quot;2018&quot;, &quot;code&quot;: &quot;11140&quot;, &quot;name&quot;: &quot;\\ub9c8\\ud3ec\\uad6c&quot;, &quot;name_eng&quot;: &quot;Mapo-gu&quot;}, &quot;type&quot;: &quot;Feature&quot;}, {&quot;geometry&quot;: {&quot;coordinates&quot;: [[[[126.87472185044413, 37.510720075456526], [126.87496420514431, 37.511153189690866], [126.87490412346686, 37.51089877372536], [126.87484263289255, 37.51080960051784], [126.8747531704179, 37.510740667437624], [126.87472185044413, 37.510720075456526]]], [[[126.87472185044413, 37.510720075456526], [126.87385011463266, 37.50916214083729], [126.87378825914865, 37.50902214859416], [126.87378538539656, 37.50891727040626], [126.87379335684959, 37.50881906901134], [126.87449446609088, 37.507388820381365], [126.87470606064474, 37.50662936918409], [126.8735801376334, 37.50356024598203], [126.87357077551869, 37.50355599985342], [126.87186994166444, 37.50412787827162], [126.87185010215619, 37.50420420723534], [126.87143425980602, 37.50485228825133], [126.8712047513821, 37.505133777277784], [126.87064892796104, 37.50575521224184], [126.8706039886766, 37.505777777256434], [126.87027489218475, 37.50583390417039], [126.86977781379728, 37.50539096125509], [126.8694257064684, 37.50509098691902], [126.86920303033486, 37.50490591488943], [126.86915307437654, 37.50486798267463], [126.86900982086681, 37.5048588025643], [126.86464825021096, 37.50486750754842], [126.86352464116628, 37.505051175345805], [126.8633896009421, 37.50511435698956], [126.86334543448173, 37.505147191238436], [126.86331336727413, 37.50518067108583], [126.86323832609683, 37.505272754121755], [126.8631593103463, 37.50537510607021], [126.86313312073169, 37.505409673825945], [126.86284161729928, 37.50580468919506], [126.86277759840252, 37.505930484611085], [126.86273089319289, 37.50605026188074], [126.86268460902161, 37.506292540215476], [126.86267913254517, 37.5064708702531], [126.86287990529398, 37.506628155452916], [126.8626699726056, 37.50676924539162], [126.86217895941387, 37.507275728551164], [126.86031610788204, 37.506609440703926], [126.86006764750621, 37.507020089963326], [126.85952760531478, 37.50791277967813], [126.85834434365218, 37.50986831639356], [126.85822563211715, 37.50984203874672], [126.85394022944143, 37.51020194208075], [126.8529070542314, 37.510643035109645], [126.85011516415399, 37.51009060321782], [126.84726984562246, 37.509524430782115], [126.84698273355873, 37.509387374508684], [126.84625804835612, 37.50896763962429], [126.8452829769628, 37.50796934059329], [126.84533193890093, 37.50781107360071], [126.84435850508387, 37.506536582277796], [126.83957994849645, 37.50445756573178], [126.83641341132436, 37.503021688932975], [126.83530428688036, 37.50281649794343], [126.83398249844245, 37.50335576811453], [126.83206134823736, 37.50461883991729], [126.83164908352684, 37.505082170968564], [126.83061517910954, 37.50631324401894], [126.83066027721598, 37.506871116118695], [126.83068675856126, 37.50691404231934], [126.8310175282554, 37.50782866947607], [126.83101357296256, 37.50797696922629], [126.83064850123941, 37.50816736253982], [126.83032432901872, 37.5082481357513], [126.82815509954754, 37.508774685389405], [126.82774032396864, 37.50873536980482], [126.82699050942098, 37.50852643963278], [126.8269537946068, 37.51039259057846], [126.8241877541951, 37.51052493397963], [126.82425573652655, 37.514467566321315], [126.82459184667432, 37.51804575252933], [126.82552098695295, 37.51987605268121], [126.82612672089931, 37.524295828085485], [126.8279590338155, 37.52568819554661], [126.82814882043147, 37.525832569341], [126.82842768713249, 37.526702386396224], [126.82821380069792, 37.529028938475236], [126.82706967904431, 37.529708300274166], [126.82654446589474, 37.529796497184904], [126.8262472408993, 37.529825896178494], [126.82555831052892, 37.52984655100496], [126.82531251391205, 37.529958528756396], [126.82505960383577, 37.53023690127545], [126.82473543176546, 37.53059990386942], [126.823430650996, 37.53261617598254], [126.8227028689323, 37.53375465778407], [126.82262295484267, 37.534201095262524], [126.82193281218719, 37.53504967898033], [126.82243395441502, 37.536542707164095], [126.82243403444892, 37.53654310042123], [126.82232182797316, 37.53792397835391], [126.82205440762819, 37.53863733039421], [126.82189058723705, 37.539050411244844], [126.8218043307843, 37.53921488542533], [126.82211888561298, 37.54067728557008], [126.82439258370546, 37.541379874830376], [126.82442689034511, 37.541377902471694], [126.82445104431389, 37.54138443489852], [126.82448355235879, 37.54139489082549], [126.82501380755944, 37.54156959325528], [126.8254271287663, 37.54170742360255], [126.82606973141795, 37.542956486862316], [126.82599505613287, 37.54331145550471], [126.8258950892743, 37.5435753514667], [126.82562848424013, 37.54389828429017], [126.82567871646452, 37.54423017531393], [126.82585383176577, 37.54466536331082], [126.8258587115007, 37.544674289078095], [126.82596167241225, 37.54486259608342], [126.8279737533496, 37.54755058612882], [126.82976315012486, 37.54773617447229], [126.82983345155324, 37.5472350571127], [126.83012653440035, 37.546198082444306], [126.82975443911727, 37.5442877105982], [126.82972906275451, 37.543954848308125], [126.82971698166898, 37.543796166525084], [126.82971634929935, 37.54372642760944], [126.8300279561632, 37.542598660775944], [126.8305438130366, 37.54175941393454], [126.83268154701366, 37.541832136636465], [126.8331020827633, 37.541849314454076], [126.83312225220496, 37.541786544959095], [126.83354711211176, 37.540435663175224], [126.833728838881, 37.539857776630114], [126.83516264779085, 37.536911762958944], [126.834418404534, 37.53645190262071], [126.83451514295157, 37.53628902288354], [126.83525447334324, 37.53505805721116], [126.83533784641321, 37.53492051291984], [126.83724473806517, 37.53177998626357], [126.84045351162149, 37.52653066831603], [126.8405152340596, 37.52648670649042], [126.84887076549222, 37.52789694127174], [126.84889461717178, 37.52790017390737], [126.85196414656424, 37.52828470232455], [126.85848705142621, 37.52909690031921], [126.86396980310423, 37.529785444832086], [126.86397585906585, 37.52979497944759], [126.86347698009955, 37.5355987735927], [126.8636941605731, 37.539282119357416], [126.86369588037418, 37.53930160461229], [126.86377635135477, 37.54027350767738], [126.86378551826999, 37.540395512752525], [126.86378989944485, 37.540474264950404], [126.86379009377539, 37.54055319153877], [126.8637857636208, 37.540632023331376], [126.86377735949277, 37.540710670881985], [126.86376442909206, 37.54078886163494], [126.86374731230978, 37.54086659686998], [126.86352204757968, 37.5417175013467], [126.86289653207182, 37.54251838056318], [126.86285816300486, 37.54258590979779], [126.86278765725189, 37.54271439855593], [126.86227569822698, 37.543656053297354], [126.8621635199037, 37.54392153190082], [126.86211897768803, 37.544142942819406], [126.86210964334674, 37.54435547655025], [126.86212003975733, 37.54448406134816], [126.86258810180773, 37.54600033129296], [126.8635828001052, 37.54917926382087], [126.86386500292512, 37.550078628121625], [126.86417109812261, 37.55104835189132], [126.86420340004943, 37.551150353991034], [126.86446329081222, 37.55124096283016], [126.8650273753072, 37.55098774391124], [126.87071749157694, 37.54770004622743], [126.87075129270521, 37.54768362156488], [126.87080792059113, 37.54765611333128], [126.87099987895616, 37.54756974177048], [126.87119544739475, 37.54748859672153], [126.87139428871883, 37.547412682423236], [126.87159617765576, 37.54734208788304], [126.87180099666168, 37.54727699180509], [126.87200840797885, 37.54721730270567], [126.87221818624475, 37.547163203669335], [126.87243010552598, 37.547114781504945], [126.87264405047064, 37.54707203723883], [126.87285957055197, 37.547035062540914], [126.8730765505323, 37.54700376271747], [126.87329476781078, 37.54697832252577], [126.8735138776909, 37.54695873792977], [126.87373376896831, 37.5469450105355], [126.87395410451548, 37.54693714020179], [126.8740493866953, 37.54693625185208], [126.87417454375993, 37.5469351256714], [126.87439508392204, 37.54693905770194], [126.8745051792698, 37.54694395129494], [126.8750154890542, 37.54696675330951], [126.87631242876948, 37.54702480728521], [126.87795866454987, 37.54709853078092], [126.8802556825763, 37.54773556971849], [126.88066399025197, 37.54819623757961], [126.88180049375421, 37.54703529333227], [126.88425034421408, 37.543928017658054], [126.8847051308313, 37.543325766615574], [126.88621439579514, 37.53992607810197], [126.8865198238237, 37.539362417612644], [126.88652025337757, 37.53936167935761], [126.88671795590122, 37.53902307102281], [126.88683022093932, 37.538831890515056], [126.88763861802398, 37.53756363358194], [126.88788459430573, 37.53720703252076], [126.887955282147, 37.537105550045844], [126.88824029768517, 37.53669757555901], [126.888489023918, 37.53637533038992], [126.88854786004937, 37.53630008061118], [126.88855627895565, 37.536291501874366], [126.888566882717, 37.53628287338414], [126.88885537107844, 37.536044168344844], [126.88941473116097, 37.535496888123184], [126.88951224089335, 37.53538916724124], [126.88961583727917, 37.53527322674992], [126.88989526952271, 37.5348370680535], [126.88991813062208, 37.534793382428795], [126.88997313002079, 37.53468004465656], [126.89006206522397, 37.534468945255], [126.8901011233425, 37.53436943259762], [126.8901296102239, 37.53422624534084], [126.8905139353847, 37.53170898069044], [126.89031033123226, 37.53117016558475], [126.88973787043344, 37.53035772513773], [126.88846672472123, 37.53043042855855], [126.8881252833551, 37.53043154270687], [126.88791714374415, 37.53041314406699], [126.88768742513498, 37.53037508066808], [126.88714969672273, 37.53018150463224], [126.88100633060881, 37.52773403763723], [126.88080150386956, 37.52763111489439], [126.88067687158744, 37.52753800490817], [126.87875373576813, 37.52535456797445], [126.87873167970746, 37.525311081132145], [126.87860871998907, 37.52506864725787], [126.87860801450054, 37.525063346800074], [126.8786059706051, 37.52504785676288], [126.87861026972979, 37.52486049076602], [126.8786143382299, 37.5246835211922], [126.87862077436591, 37.52464298334396], [126.8789235491899, 37.52291817311985], [126.87897185711951, 37.522777730495584], [126.87900099287381, 37.52269742022003], [126.87903169773449, 37.52261279353537], [126.87903173944258, 37.522612678225265], [126.87903251754099, 37.52249471358967], [126.87915385916526, 37.52216214434349], [126.87918654332788, 37.522063915898336], [126.87927911532444, 37.521657996371076], [126.87930679680777, 37.52148458364625], [126.87940809274052, 37.52082752901571], [126.87943691730487, 37.5205980849579], [126.87943414403973, 37.5205645728984], [126.879429115626, 37.520504877168314], [126.87942529242568, 37.520463202112026], [126.87941460565699, 37.52040602874956], [126.8794001830075, 37.520364355761465], [126.87910398227498, 37.52002335638873], [126.87908103439123, 37.52000671723577], [126.8786718933581, 37.51976724934877], [126.87857124603906, 37.5197085810022], [126.87850116485079, 37.51965614146561], [126.87835137996714, 37.51948592262112], [126.87832142375369, 37.51943351537016], [126.87821232292248, 37.519136074334085], [126.8782001960525, 37.51909551631163], [126.87819460765124, 37.51905440736194], [126.87819103712205, 37.51886659926039], [126.87819577429472, 37.51877931582671], [126.87820519027373, 37.51874919735222], [126.87842500059102, 37.51824571554613], [126.87844980964833, 37.518209422411225], [126.8786202885356, 37.51804263773977], [126.8787395755894, 37.51794195689774], [126.87877461016603, 37.51792003653401], [126.8788034393765, 37.517908236364555], [126.87913514327226, 37.51785775787398], [126.87756170401084, 37.51447362552273], [126.87774193182814, 37.513706492822934], [126.87610435560417, 37.51240976491973], [126.87582346133375, 37.5122363838469], [126.87573372877377, 37.51219168929685], [126.8755978162828, 37.5121665875425], [126.87543795886764, 37.51218903147827], [126.87532373848981, 37.5122447712323], [126.87518090757978, 37.512447216332575], [126.87509983550187, 37.51241752379555], [126.87501334151045, 37.51233075455715], [126.874003907032, 37.51130559740966], [126.8739966841154, 37.51129738568525], [126.87400181443999, 37.510806984222484], [126.87403490017445, 37.51077133988816], [126.87418813139486, 37.510654015672024], [126.87431057502454, 37.51061576552737], [126.87452386493466, 37.51063158174333], [126.87467205035347, 37.5106873325925], [126.87472185044413, 37.510720075456526]]]], &quot;type&quot;: &quot;MultiPolygon&quot;}, &quot;properties&quot;: {&quot;base_year&quot;: &quot;2018&quot;, &quot;code&quot;: &quot;11150&quot;, &quot;name&quot;: &quot;\\uc591\\ucc9c\\uad6c&quot;, &quot;name_eng&quot;: &quot;Yangcheon-gu&quot;}, &quot;type&quot;: &quot;Feature&quot;}, {&quot;geometry&quot;: {&quot;coordinates&quot;: [[[[126.82521886717447, 37.58912388306379], [126.82765846529612, 37.58760539674233], [126.83192748528634, 37.585725326072605], [126.83458691027126, 37.584106630989375], [126.83665547850555, 37.5828613948668], [126.83714914642414, 37.582563342835265], [126.84183034318008, 37.57958187613684], [126.84838127856014, 37.575157145202255], [126.85134558147867, 37.573339299306575], [126.85363177699416, 37.57179056678837], [126.85720402890688, 37.56871381456034], [126.86304144973026, 37.56499736829967], [126.86382542171395, 37.56448989081053], [126.86465274713674, 37.56400488648508], [126.86629141145252, 37.563052574106294], [126.86654450468639, 37.562944177661784], [126.86677491978503, 37.56285264754437], [126.8698865496599, 37.561566060438054], [126.87304250725138, 37.56004939587947], [126.88046377712031, 37.55626953232584], [126.87929195218116, 37.55481626905577], [126.87923698545335, 37.55474698034431], [126.87803260686803, 37.553031070642774], [126.87804665457169, 37.55252836008723], [126.87807573471574, 37.551699443600995], [126.88066399030672, 37.54819623683894], [126.88025568265307, 37.54773556912052], [126.8779586646293, 37.54709852986521], [126.87631242830575, 37.54702480654972], [126.87501548919018, 37.54696675251117], [126.87450517919281, 37.546943950319424], [126.87439508388847, 37.54693905682084], [126.87417454325366, 37.546935124603834], [126.87404938679309, 37.546936251262146], [126.87395410459904, 37.54693713959329], [126.87373376864122, 37.54694500985618], [126.87351387718952, 37.5469587372064], [126.87329476754076, 37.54697832163374], [126.87307655059416, 37.54700376192843], [126.87285957040953, 37.54703506172525], [126.87264405036369, 37.54707203654043], [126.87243010508693, 37.54711478073084], [126.87221818585155, 37.54716320296412], [126.87200840809145, 37.54721730206212], [126.8718009966394, 37.54727699090027], [126.87159617713293, 37.547342086817125], [126.8713942883761, 37.54741268176406], [126.8711954473103, 37.54748859610951], [126.87099987879515, 37.547569740931834], [126.87080792018126, 37.54765611263653], [126.8707512924249, 37.54768362097733], [126.87071749053031, 37.54770004631975], [126.86502737483636, 37.550987743110525], [126.8644632904932, 37.55124096224855], [126.86420339988962, 37.551150353409405], [126.86417109807392, 37.55104835097932], [126.86386500296497, 37.55007862759213], [126.86358279957454, 37.54917926303831], [126.86258810137494, 37.546000330576064], [126.86212003986437, 37.54448406032697], [126.86210964342503, 37.5443554759215], [126.86211897763218, 37.54414294223569], [126.86216351997932, 37.54392153119635], [126.86227569805288, 37.543656052708606], [126.86278765671261, 37.54271439749253], [126.86285816293903, 37.54258590895612], [126.86289653193522, 37.54251837985316], [126.86352204733623, 37.54171750033243], [126.86374731209995, 37.54086659632594], [126.86376442892444, 37.54078886093356], [126.86377735911826, 37.54071067033441], [126.86378576312649, 37.54063202270042], [126.86379009368594, 37.54055319087566], [126.86378989953602, 37.54047426436661], [126.86378551799073, 37.54039551178912], [126.86377635139533, 37.54027350667519], [126.86369588048085, 37.53930160402681], [126.86369416027782, 37.53928211937008], [126.86347697984439, 37.535598772786976], [126.86397585871843, 37.529794978446844], [126.863969803168, 37.52978544382652], [126.85848705096156, 37.5290968993363], [126.85196414512357, 37.52828470136442], [126.84889461717741, 37.52790017287508], [126.84887076532777, 37.527896940735836], [126.8405152338797, 37.52648670557856], [126.840453510498, 37.52653066750364], [126.83724473781099, 37.53177998625439], [126.83533784645553, 37.53492051275478], [126.8352544731487, 37.535058056587914], [126.8345151424928, 37.53628902226498], [126.83441840433233, 37.53645190267432], [126.83516264774276, 37.53691176302047], [126.83372883881367, 37.53985777686318], [126.8335471115849, 37.54043566250346], [126.83312225196312, 37.54178654430918], [126.83310208276292, 37.54184931449473], [126.8326815471541, 37.54183213588396], [126.83054381305874, 37.541759413803696], [126.83002795583671, 37.5425986608174], [126.82971634901516, 37.54372642699803], [126.82971698112635, 37.54379616576431], [126.82972906278181, 37.543954848342786], [126.82975443909528, 37.54428770996361], [126.83012653439147, 37.546198082444434], [126.82983345163358, 37.54723505641268], [126.82976314999773, 37.54773617385032], [126.8279737529103, 37.54755058543287], [126.82596167201622, 37.54486259537012], [126.82585871154915, 37.54467428835941], [126.82585383148361, 37.544665363334914], [126.82567871613566, 37.54423017537031], [126.82562848390309, 37.543898284148476], [126.82589508912858, 37.543575351562], [126.82599505581055, 37.54331145532523], [126.826069731381, 37.54295648617394], [126.82542712861151, 37.54170742360184], [126.82501380736142, 37.54156959327282], [126.8244835521495, 37.541394890126455], [126.82445104396831, 37.541384434237436], [126.82442689042969, 37.54137790191782], [126.82439258350487, 37.54137987426959], [126.82211888543806, 37.54067728462126], [126.82183298169532, 37.54070127630511], [126.82155536289503, 37.5407219727136], [126.82093614551616, 37.54075171533663], [126.8207276964227, 37.54075364858655], [126.82018739739367, 37.54075648724636], [126.8197912039708, 37.54075108521148], [126.8193197145597, 37.540743601077665], [126.81790058398006, 37.54066144058649], [126.81682071243732, 37.540589370891375], [126.81656779420432, 37.54055969347712], [126.81631233318834, 37.540551408615464], [126.81534820548598, 37.54057466999246], [126.81351313296001, 37.540632702770345], [126.81331779378193, 37.54064110320012], [126.8130506034545, 37.54065813842805], [126.81233420975393, 37.540736677707876], [126.80719326725475, 37.5437161286602], [126.80395979544724, 37.543146518432614], [126.80302534433044, 37.54296503192097], [126.8018499166745, 37.54271555654866], [126.80168082916639, 37.54261025151406], [126.80029809743597, 37.54167707206806], [126.79932937617109, 37.54064181045023], [126.79900903628143, 37.5393588664441], [126.79924277568963, 37.53928775514482], [126.79941191906762, 37.53904139056651], [126.79942665277305, 37.53901917874975], [126.79945859045361, 37.53891167393952], [126.7994790116532, 37.5377674496593], [126.79947893157374, 37.53776705619854], [126.79946224136762, 37.5377253565841], [126.79908806112685, 37.53756478998723], [126.79442374200738, 37.53583264967985], [126.79436487109584, 37.53602390098096], [126.79396340186753, 37.537360321422405], [126.79380273607032, 37.53999448726422], [126.79301738413409, 37.541594046960135], [126.79056480956329, 37.543922420456106], [126.78694625373551, 37.545983385006004], [126.78548186195654, 37.54600436519843], [126.78394714719026, 37.54600830528698], [126.77790625357366, 37.54666825888446], [126.77681242907023, 37.548106918517135], [126.77674352778493, 37.54820393321287], [126.77575609323607, 37.54876714115444], [126.77561017840321, 37.54883977920537], [126.77554625840284, 37.54886753319268], [126.77529327744627, 37.54897123025005], [126.77483496716684, 37.54897175672276], [126.77406900220032, 37.5489131245512], [126.77392688227516, 37.54890186725098], [126.77357580916514, 37.54887162930416], [126.77339375864604, 37.548851572871605], [126.77296370713987, 37.548803439471925], [126.77258034360476, 37.54875285387749], [126.77251382314311, 37.54870992872085], [126.7723665646219, 37.548584630949], [126.77226176805348, 37.54850925676298], [126.77195698735366, 37.548377175656576], [126.77181815513333, 37.54833100915546], [126.77169074326832, 37.548306829927895], [126.77155173712788, 37.54831753301258], [126.77149432480026, 37.54835628254689], [126.76746505543427, 37.551950739641335], [126.76737004123984, 37.55313158085912], [126.76636535329581, 37.55376348699766], [126.7662043570345, 37.554242374832576], [126.76459277969056, 37.55517815437032], [126.76449486208837, 37.55527509273249], [126.76448395860741, 37.55536939499352], [126.76455922063771, 37.55544387817604], [126.76729200407257, 37.55662146213021], [126.76905068881094, 37.557114849228626], [126.7690978627256, 37.557124799124566], [126.76914859221118, 37.557134467260546], [126.76998439937876, 37.55722198270933], [126.7703493817771, 37.557224112720604], [126.77069902504581, 37.55720930893902], [126.77319226651873, 37.55928642717778], [126.7755347991455, 37.5618283400212], [126.77563557079445, 37.56189751326542], [126.7757585239307, 37.56194139213456], [126.77610890965066, 37.561863504919515], [126.77678802709436, 37.56108995059527], [126.7773481123267, 37.560315885396335], [126.77739332427579, 37.56027936407041], [126.7777872202613, 37.55996195582607], [126.77784212031399, 37.55993305582219], [126.77791195318896, 37.56006102061012], [126.77793607479953, 37.56015482266109], [126.77793374610218, 37.56022154535315], [126.77793002178048, 37.56028658121569], [126.77783305713527, 37.56077630924982], [126.7771016404336, 37.56371945606085], [126.77594285685981, 37.56520584959009], [126.77699234790445, 37.56637152940751], [126.7804620437755, 37.567954522354995], [126.78136064174697, 37.56892504122428], [126.78142885573014, 37.569485474704955], [126.78131574864915, 37.57017507738928], [126.78213984107582, 37.57316901011844], [126.78217324799725, 37.57323411404717], [126.78235595923043, 37.57353656358126], [126.7824082912788, 37.57360620715523], [126.78524915379892, 37.574861843426376], [126.78708404611048, 37.57542717952099], [126.78728657903451, 37.57548583301225], [126.78755871247607, 37.57556340167763], [126.78868676052576, 37.57704059068048], [126.79100913265646, 37.5807818780042], [126.79132700771298, 37.58121970200833], [126.79163003704642, 37.58121686192019], [126.79220200343694, 37.58017724023157], [126.7936954447703, 37.58159385726774], [126.7937317691296, 37.583038595929175], [126.79344108035994, 37.58451960555157], [126.80056961406461, 37.58784169758019], [126.80073874918791, 37.58783973252001], [126.80094007508913, 37.58816612344872], [126.8011640987835, 37.58939830965799], [126.80028694451532, 37.59204178710149], [126.79865947517163, 37.593667513441915], [126.79845922367451, 37.59385242824061], [126.79831325092724, 37.59398817220572], [126.79822117283835, 37.59408374308874], [126.79816793878919, 37.59413939493052], [126.79807919535416, 37.59424061165993], [126.79781499140353, 37.59459041281155], [126.79771660749836, 37.59472257060287], [126.7976572840559, 37.59480581818803], [126.79760789942578, 37.59488230719521], [126.79755421721427, 37.5949728710816], [126.79751509916035, 37.59504207166775], [126.79749122859687, 37.59510482832192], [126.79747532450601, 37.595161103122436], [126.79745296436873, 37.595251153959], [126.79718937210238, 37.59698537720214], [126.79709163160318, 37.59766291846716], [126.797082229066, 37.597738926962585], [126.79792345290107, 37.6000131067145], [126.79795216691004, 37.600059890009575], [126.79805296623867, 37.60020815781966], [126.79812191879434, 37.600294995918404], [126.79994096401141, 37.60254466098657], [126.80037936282312, 37.60296127478856], [126.80104952449199, 37.60359253425202], [126.80258140126219, 37.60503274958829], [126.80902143882585, 37.60064326069175], [126.80936480922334, 37.600396058828245], [126.81053935516246, 37.59955187997531], [126.81136891992439, 37.59896082302566], [126.81238160176413, 37.5984398811302], [126.81395323343493, 37.59761939992623], [126.81752598800163, 37.595330332908546], [126.81836518092231, 37.59416008056747], [126.8186828744287, 37.593715836609896], [126.82005393712708, 37.59240351942407], [126.8221405228, 37.59107841714914], [126.82266835817411, 37.59074068995497], [126.82365189473872, 37.590116839290125], [126.82521886717447, 37.58912388306379]]]], &quot;type&quot;: &quot;MultiPolygon&quot;}, &quot;properties&quot;: {&quot;base_year&quot;: &quot;2018&quot;, &quot;code&quot;: &quot;11160&quot;, &quot;name&quot;: &quot;\\uac15\\uc11c\\uad6c&quot;, &quot;name_eng&quot;: &quot;Gangseo-gu&quot;}, &quot;type&quot;: &quot;Feature&quot;}, {&quot;geometry&quot;: {&quot;coordinates&quot;: [[[[126.87472184926801, 37.51072007457906], [126.87475317033592, 37.51074066679746], [126.87484263284041, 37.510809599744015], [126.87490412360421, 37.510898773153244], [126.8749642048681, 37.511153189153525], [126.87472184926801, 37.51072007457906], [126.87467205047942, 37.510687331663824], [126.87452386475745, 37.510631580863226], [126.87431057484223, 37.510615764597944], [126.87418813135935, 37.51065401462807], [126.87403490025582, 37.510771339138806], [126.8740018141379, 37.51080698347991], [126.87399668416026, 37.511297384941], [126.87400390697297, 37.51130559667101], [126.87501334136796, 37.51233075401523], [126.87509983527143, 37.51241752320212], [126.87518090771941, 37.51244721535291], [126.87532373844887, 37.5122447703089], [126.87543795875867, 37.51218903089341], [126.87559781610523, 37.5121665869687], [126.87573372826473, 37.51219168871954], [126.87582346087265, 37.51223638321704], [126.87610435572986, 37.51240976388808], [126.87774193158914, 37.51370649219337], [126.87756170404363, 37.514473624898116], [126.87913514309011, 37.51785775731338], [126.87935739467528, 37.517925584769415], [126.88244775803199, 37.51596751443658], [126.88272733255354, 37.51577858630257], [126.88272735707888, 37.515620370553435], [126.88272727648156, 37.51517185623738], [126.8844331423335, 37.51384936468685], [126.88461607986486, 37.51375025627791], [126.88679717832709, 37.513301357414576], [126.88713940236772, 37.51325528719434], [126.88751971570298, 37.513226373323306], [126.88773689903756, 37.51314305804296], [126.88922579829811, 37.51227718498836], [126.88970624386835, 37.5119207556551], [126.89207462354398, 37.50943771914886], [126.89234045851272, 37.50908856295708], [126.89228351901195, 37.50906434993791], [126.89373617069896, 37.505599782099985], [126.89397665557956, 37.50501165948161], [126.8939706420509, 37.504985498413625], [126.89393117089321, 37.50482046191832], [126.89324571801431, 37.50385701127133], [126.89315340047865, 37.503746941542225], [126.89281024688644, 37.50346209564583], [126.8941229536052, 37.49756257711072], [126.8942262279696, 37.497049926305756], [126.89540046205742, 37.49203683838112], [126.89541694693249, 37.4919741415841], [126.8955622748354, 37.491388353821236], [126.8964105283384, 37.48900434317227], [126.89814417303063, 37.486935105499384], [126.89859609613215, 37.48667357826063], [126.89865120366112, 37.48664211843128], [126.89979173511855, 37.486076078286466], [126.90009008267965, 37.48593740212848], [126.9001547786323, 37.485908211218174], [126.90125820649953, 37.485495505358344], [126.90135962289634, 37.48546082583619], [126.9016181229941, 37.48537829124226], [126.90275897997384, 37.48501564278649], [126.9028001676534, 37.48501413480748], [126.90293134074929, 37.48500961318917], [126.90302921511504, 37.485006379767206], [126.90315040383786, 37.48500243570062], [126.90319677975282, 37.48500151353549], [126.90106618467146, 37.48239811383528], [126.90062813003895, 37.48186279048205], [126.90006396215506, 37.48117333676037], [126.8998307901639, 37.48086868919505], [126.89978485729245, 37.480807470068385], [126.8997400568492, 37.48074580419578], [126.8996961604144, 37.48068368500978], [126.89965339711085, 37.48062103075081], [126.8996194819209, 37.48056983621911], [126.89959980514261, 37.480539173027324], [126.89953222867003, 37.480431085032976], [126.89946197961984, 37.48031269713174], [126.89945552696265, 37.48030154519738], [126.89941920779766, 37.4802364610993], [126.89938391248172, 37.48017092791053], [126.89937007594884, 37.48014415578009], [126.89934985745519, 37.48010503506523], [126.89931682102764, 37.48003878324012], [126.89928491630967, 37.47997217120839], [126.89925402946437, 37.47990529033052], [126.89922438515991, 37.479838049811285], [126.89919587481914, 37.47977044909948], [126.89916849698153, 37.47970267026256], [126.89914224630178, 37.47963453300276], [126.8991171266082, 37.47956612387051], [126.89909313785468, 37.47949744827442], [126.89904866789485, 37.47935937579363], [126.89902818893003, 37.47928998072432], [126.89900894949567, 37.47922031614062], [126.89899073096919, 37.479150564807846], [126.89899045943952, 37.47914944574413], [126.8989903894251, 37.47914914974293], [126.89621211681211, 37.47853199314129], [126.8958713452671, 37.478339077937775], [126.89055772801369, 37.479270139377334], [126.88988151233839, 37.4793897161109], [126.88985246681565, 37.4794001201017], [126.88985149126137, 37.47940047380364], [126.88878454626247, 37.47978989832148], [126.88877050761924, 37.47979827050328], [126.88864855093277, 37.479871048681176], [126.88836236666803, 37.48004229712283], [126.8882488104211, 37.48011036732041], [126.8882109115289, 37.48013398401395], [126.88772951698766, 37.480441437890754], [126.88770049655184, 37.48047640253229], [126.887664281709, 37.48052063457967], [126.8875454989756, 37.48066571681366], [126.88740137430213, 37.48084175079402], [126.88737412380341, 37.4808751714924], [126.88734104199415, 37.48091574935968], [126.88725402106341, 37.48102247923505], [126.8870401876118, 37.481284741782446], [126.88699676816653, 37.48133799216217], [126.8865096485954, 37.481934342696995], [126.88640704018489, 37.48205534417245], [126.88624086971508, 37.482249692203546], [126.88615494860777, 37.48234962711915], [126.88610262555392, 37.482391094342425], [126.88588103968462, 37.482564501132714], [126.8857297735514, 37.482682671194056], [126.88279531445404, 37.4846978947307], [126.88264810314163, 37.48479311451874], [126.88237215828583, 37.48495895660549], [126.88217952656585, 37.485073792498774], [126.88147911635684, 37.485489741001565], [126.88135373290788, 37.4855632164656], [126.88097258584254, 37.48569621146611], [126.88088641431395, 37.485725922875694], [126.87924694570533, 37.4863194189257], [126.87455644404149, 37.48536674953535], [126.87494361249534, 37.48569955700039], [126.87626185557068, 37.48723955086788], [126.87668873504263, 37.487852687905544], [126.87676002621208, 37.488117431302946], [126.87680025447774, 37.48835707211685], [126.87679035624329, 37.48857077431366], [126.87666836737358, 37.488731698524354], [126.87638215026942, 37.48894116265731], [126.87604346834662, 37.48904723406489], [126.87581682403392, 37.48902812691509], [126.87471601683505, 37.4885772963145], [126.87307774833437, 37.48825285703498], [126.87295540304608, 37.488300588833496], [126.87292252326037, 37.4883135055863], [126.87274847526244, 37.488430729351755], [126.872669113227, 37.488553962955116], [126.87241371617706, 37.48933079607257], [126.87244040029164, 37.48953552357759], [126.8724451603154, 37.48954200796647], [126.87267624714168, 37.489851410040444], [126.8727705922228, 37.48995878272923], [126.87283922358931, 37.49001433519712], [126.87336843837356, 37.49038657241299], [126.87357693271686, 37.490481683944004], [126.8737527388436, 37.49047567919546], [126.87393321696192, 37.490428854986874], [126.87402067958367, 37.490316032672595], [126.87409064132812, 37.49021447102669], [126.87414915897037, 37.48998055696759], [126.87411047129568, 37.48977722824918], [126.8743224408571, 37.48969551840632], [126.8745791942904, 37.489769285503186], [126.87465124000707, 37.48989887240123], [126.87483956028392, 37.49074546002488], [126.87453459407928, 37.49106836570974], [126.87437268127762, 37.4912213622828], [126.87413007319198, 37.491337667875996], [126.87395184982367, 37.49130790906643], [126.8722546374657, 37.49060244288089], [126.87157723327783, 37.49020920056159], [126.87154776576233, 37.490085280696576], [126.87150568312296, 37.48999879364293], [126.87134236984302, 37.48983362409847], [126.87125961286029, 37.48977073968798], [126.87108027214046, 37.48968324970039], [126.87094589673329, 37.489637217795284], [126.87065821443308, 37.489560873244706], [126.8704209856538, 37.489535831543336], [126.87033475276662, 37.48954474604846], [126.87022812433788, 37.48959615697015], [126.87017041550108, 37.48966564116472], [126.8701362191793, 37.489719094821275], [126.8698769023579, 37.4902960134501], [126.8693662673583, 37.492018604173964], [126.86936892654933, 37.4927174413822], [126.86937341968988, 37.49277207296737], [126.86950267694691, 37.49432840147462], [126.86758862613486, 37.494815889523416], [126.86761040794927, 37.494688089699196], [126.8661940680097, 37.49253860283681], [126.86451819473415, 37.49120302572165], [126.86302813846493, 37.490876085979245], [126.86281109009505, 37.4908282362115], [126.8627337565103, 37.490804493854164], [126.8625868439911, 37.490758717430936], [126.8623876859345, 37.49067907352605], [126.86217497795913, 37.49057746045202], [126.8620895572405, 37.49053119245234], [126.86195048431598, 37.49044796937686], [126.86183032234166, 37.49036786422271], [126.86176820896944, 37.49032611959573], [126.86162303581902, 37.490203744435824], [126.86148176669448, 37.490067301140265], [126.86138442613277, 37.48996807587806], [126.86111908442535, 37.48966817873917], [126.86102581422908, 37.48955826620849], [126.86101648184726, 37.48954726879311], [126.86068610510091, 37.48916817569303], [126.86018595692865, 37.48859544391291], [126.8592560177947, 37.48753114837796], [126.8585450414029, 37.48672107518763], [126.8582254289465, 37.48636028778588], [126.85811613473285, 37.48623739381655], [126.85797103310416, 37.486084615462154], [126.85783430252475, 37.48598308654644], [126.85763012192062, 37.48586711340461], [126.85748360090687, 37.48580696429026], [126.85744917326682, 37.485794533960956], [126.8572904238359, 37.48576055290904], [126.85721499727698, 37.48575426212487], [126.85708640429733, 37.48574368898492], [126.85676809559237, 37.48572105398256], [126.85655188270499, 37.48570671504273], [126.85653942960067, 37.485706265044264], [126.85349858605232, 37.48262183439031], [126.85270046897372, 37.481818615681924], [126.85261962515514, 37.481786685719904], [126.85258624258405, 37.481778760164005], [126.85206621867817, 37.481664923878725], [126.85175188493758, 37.48160370843335], [126.85166783168589, 37.481588681337385], [126.85161377562974, 37.4815835399146], [126.85099046973622, 37.48152784537386], [126.85084315168194, 37.48152258965418], [126.85070181968823, 37.48152550858191], [126.85057300378112, 37.481539417849014], [126.85041837241091, 37.481566818027794], [126.84933242716977, 37.48184331516695], [126.84698612854493, 37.48189443216334], [126.8466017678761, 37.48167122480389], [126.84655685916789, 37.48163332957704], [126.84651717604417, 37.48159893164688], [126.84642038277852, 37.481507010646844], [126.84640821834235, 37.48149545289155], [126.84626305104183, 37.481303236371666], [126.84621918937087, 37.48124010889262], [126.84604936974014, 37.48092537702667], [126.84600724743325, 37.48079833955977], [126.84598678036785, 37.48069553948569], [126.84597683007362, 37.480641751073854], [126.84593421911569, 37.48031479770404], [126.84543437472423, 37.47446358321831], [126.84536592652722, 37.473859498832184], [126.8453605531639, 37.473812465188395], [126.84503323859211, 37.473558917164674], [126.84419346855717, 37.47401499767925], [126.84395991354467, 37.47448291235705], [126.84311200086469, 37.47486984737222], [126.84307734261884, 37.474884995744844], [126.84295255095967, 37.474924819566176], [126.84278163898782, 37.4749716137909], [126.83841967251226, 37.47536790932511], [126.83825923823939, 37.47537471027069], [126.83610875699942, 37.47467554579777], [126.8346135903904, 37.47487025914431], [126.83305167525448, 37.477246092146046], [126.83207896887878, 37.47756783939341], [126.8317480945732, 37.477650995002406], [126.83080142656493, 37.477423822772096], [126.83045751578597, 37.477339135515365], [126.82962156686561, 37.47689529721459], [126.8295532920407, 37.47662461717227], [126.82953676308252, 37.47659559892726], [126.82920434415361, 37.47619529560501], [126.82818195171049, 37.47603415277005], [126.82787204405314, 37.47598920636289], [126.82410830336246, 37.476352188680366], [126.81957593781446, 37.47635542339983], [126.81942337103494, 37.47632759962935], [126.81930759614188, 37.476289407541046], [126.81929647194845, 37.47628516477753], [126.81914316078777, 37.47620553195954], [126.818321336153, 37.4752987528633], [126.8176685518762, 37.47323840007966], [126.81465604900723, 37.47476019057891], [126.81472979718343, 37.47505730607246], [126.81496487064867, 37.475860118520025], [126.81522179376702, 37.47625106283586], [126.8152955353487, 37.47636211870879], [126.81641141870855, 37.47753674845272], [126.81706064527361, 37.47802485408831], [126.81721035574022, 37.478135181492846], [126.81732392027826, 37.47813929531357], [126.81825621889305, 37.47816382860208], [126.81837348623598, 37.47831887455605], [126.81877934298784, 37.4788626437664], [126.81899730200118, 37.47916199578153], [126.81936728749875, 37.4798630946616], [126.8195428126451, 37.48032315579163], [126.81998646048007, 37.48164420915509], [126.81998493126152, 37.48169263544958], [126.821292030654, 37.486177400348666], [126.82256900614911, 37.48698404320124], [126.82322519530751, 37.48749016181887], [126.8232678918209, 37.487907644084586], [126.82304057055845, 37.48838063044877], [126.82078537514093, 37.49053311077891], [126.82091210336894, 37.490717106616785], [126.82033949077467, 37.4907286742675], [126.82020958814118, 37.49074818832819], [126.82004518274455, 37.49078820139927], [126.81457485705701, 37.493192935047446], [126.81438948432023, 37.49355712906329], [126.81301232084375, 37.49640025868296], [126.8132473641712, 37.49673344481671], [126.81364538587799, 37.49704435512701], [126.81410528978142, 37.49784990761084], [126.81577225678541, 37.49764419622035], [126.81609666466271, 37.49764385928255], [126.81622203418442, 37.49767924825992], [126.81651457954669, 37.497777690390365], [126.81891244804112, 37.498748867609436], [126.81963994069616, 37.49921047073038], [126.82156435914432, 37.50215642195039], [126.82255039893329, 37.50568489059935], [126.82251347676106, 37.505997712046415], [126.82249113933582, 37.50610185201215], [126.82234749111606, 37.50632398754987], [126.82231890840016, 37.50652056286509], [126.8222470445289, 37.507083856110775], [126.82222393528967, 37.50728879755672], [126.82221865405954, 37.5074304169634], [126.82221511099877, 37.507653967250015], [126.82221519786678, 37.507654370651494], [126.82222289243212, 37.50768732395815], [126.8231149157323, 37.50793333995904], [126.82418922390934, 37.50821990655502], [126.82627359242916, 37.50876811112662], [126.82646025294669, 37.508750097709104], [126.82651068212678, 37.50872201619855], [126.82688122067458, 37.50851561477434], [126.8269905082076, 37.508526439891], [126.82774032361363, 37.508735369223785], [126.82815509947613, 37.5087746844799], [126.83032432907267, 37.50824813490502], [126.83064850107388, 37.50816736189209], [126.8310135727904, 37.507976968579406], [126.8310175280296, 37.50782866852609], [126.83068675826384, 37.50691404134871], [126.83066027679432, 37.50687111594573], [126.83061517879011, 37.506313243161735], [126.831649083586, 37.50508217003076], [126.83206134800702, 37.504618839354585], [126.83398249819705, 37.50335576750422], [126.83530428633036, 37.5028164977944], [126.83641341131576, 37.50302168790324], [126.83957994832639, 37.50445756484198], [126.84435850506563, 37.50653658145574], [126.84533193897084, 37.507811072677924], [126.84528297703407, 37.507969339767335], [126.84625804814117, 37.50896763880292], [126.84698273354863, 37.509387373511515], [126.84726984571634, 37.50952442976703], [126.85011516364973, 37.510090602369324], [126.85290705389, 37.5106430342066], [126.85394022937685, 37.51020194110792], [126.85822563180747, 37.50984203813522], [126.85834434338089, 37.509868315682795], [126.85952760513148, 37.507912778627215], [126.86006764755147, 37.507020089189155], [126.8603161076497, 37.506609440091964], [126.86217895930014, 37.507275727887915], [126.86266997247454, 37.50676924468955], [126.86287990506725, 37.506628154827794], [126.86267913254922, 37.506470869385396], [126.86268460747037, 37.50629254046519], [126.86273089332138, 37.50605026092745], [126.8627775982501, 37.50593048356033], [126.86284161735126, 37.50580468840596], [126.86313312039314, 37.50540967309371], [126.86315930980243, 37.50537510505783], [126.86323832574809, 37.505272753551424], [126.86331336675077, 37.50518067039133], [126.86334543460389, 37.50514719038106], [126.86338960074468, 37.505114356035385], [126.86352464115498, 37.505051174330134], [126.86464824999592, 37.504867506844136], [126.86900982063518, 37.50485880159235], [126.86915307418975, 37.504867981759254], [126.86920303010616, 37.504905914226455], [126.86942570658357, 37.5050909860968], [126.86977781328984, 37.5053909602359], [126.87027489185999, 37.50583390349988], [126.87060398823921, 37.50577777631332], [126.87064892751923, 37.50575521156275], [126.87120475107226, 37.50513377653956], [126.87143425950813, 37.50485228727287], [126.8718501018886, 37.50420420646741], [126.87186994115527, 37.50412787732636], [126.87357077535704, 37.503555998833434], [126.8735801371595, 37.503560245175166], [126.87470606033823, 37.50662936844062], [126.87449446599513, 37.50738881940838], [126.87379335644945, 37.508819068099235], [126.87378538521169, 37.50891726952083], [126.87378825872521, 37.509022147958326], [126.87385011431715, 37.50916214024604], [126.87472184926801, 37.51072007457906]]]], &quot;type&quot;: &quot;MultiPolygon&quot;}, &quot;properties&quot;: {&quot;base_year&quot;: &quot;2018&quot;, &quot;code&quot;: &quot;11170&quot;, &quot;name&quot;: &quot;\\uad6c\\ub85c\\uad6c&quot;, &quot;name_eng&quot;: &quot;Guro-gu&quot;}, &quot;type&quot;: &quot;Feature&quot;}, {&quot;geometry&quot;: {&quot;coordinates&quot;: [[[[126.88147911635684, 37.485489741001565], [126.88217952656585, 37.485073792498774], [126.88237215828583, 37.48495895660549], [126.88264810314163, 37.48479311451874], [126.88279531445404, 37.4846978947307], [126.8857297735514, 37.482682671194056], [126.88588103968462, 37.482564501132714], [126.88610262555392, 37.482391094342425], [126.88615494860777, 37.48234962711915], [126.88624086971508, 37.482249692203546], [126.88640704018489, 37.48205534417245], [126.8865096485954, 37.481934342696995], [126.88699676816653, 37.48133799216217], [126.8870401876118, 37.481284741782446], [126.88725402106341, 37.48102247923505], [126.88734104199415, 37.48091574935968], [126.88737412380341, 37.4808751714924], [126.88740137430213, 37.48084175079402], [126.8875454989756, 37.48066571681366], [126.887664281709, 37.48052063457967], [126.88770049655184, 37.48047640253229], [126.88772951698766, 37.480441437890754], [126.8882109115289, 37.48013398401395], [126.8882488104211, 37.48011036732041], [126.88836236666803, 37.48004229712283], [126.88864855093277, 37.479871048681176], [126.88877050761924, 37.47979827050328], [126.88878454626247, 37.47978989832148], [126.88985149126137, 37.47940047380364], [126.88985246681565, 37.4794001201017], [126.88988151233839, 37.4793897161109], [126.89055772801369, 37.479270139377334], [126.8958713452671, 37.478339077937775], [126.89621211681211, 37.47853199314129], [126.8989903894251, 37.47914914974293], [126.89894342073991, 37.478940138534824], [126.90088422184644, 37.47931329130166], [126.903833975051, 37.479854925341826], [126.90523850677052, 37.48011268400565], [126.90536863276263, 37.48006521553072], [126.90737802307727, 37.48032605268829], [126.90978342417567, 37.48076530954199], [126.90899876936916, 37.480078385654004], [126.90869257131727, 37.47940355602575], [126.9086506876791, 37.479080296356585], [126.90888338275852, 37.47878314574824], [126.90939147823187, 37.478146065426074], [126.90962301410882, 37.478109663011224], [126.90982384871896, 37.47820800935997], [126.91047084622198, 37.47835519156568], [126.91160031935284, 37.478117177600126], [126.91183397124442, 37.477821040773854], [126.91180793667914, 37.47685410951124], [126.91135924326605, 37.47450696352028], [126.91102355057322, 37.47391579343841], [126.9107451064113, 37.473619626777], [126.90819969784899, 37.47268633381235], [126.9087889299042, 37.47178041328281], [126.91165377967265, 37.466831255711966], [126.91241424507021, 37.465890602505254], [126.91356451255876, 37.46545533733541], [126.9137239903153, 37.46546933179755], [126.91294797554893, 37.46424052416079], [126.91290858022238, 37.464050884258235], [126.91290197025288, 37.46400973318911], [126.91292563935305, 37.46386779648477], [126.9129638879208, 37.46364815206104], [126.9129686649249, 37.46362175693618], [126.91304436707064, 37.463503643824744], [126.91316683587979, 37.46331520987554], [126.9132981786815, 37.463116032375176], [126.91331409436242, 37.46310517970159], [126.91381892712151, 37.46251166795103], [126.91441173722622, 37.461613254206355], [126.91402996602994, 37.45790532095747], [126.91475241636354, 37.45739526238083], [126.91714263439503, 37.45740514653306], [126.92218690490184, 37.456623612477934], [126.92308298112842, 37.454528923261606], [126.92330828911196, 37.4542242179776], [126.92477930676749, 37.45284411014339], [126.92480935076622, 37.452849284169844], [126.92636579360172, 37.45233382667818], [126.92836601964717, 37.451011918073945], [126.92845209404018, 37.45081133597123], [126.9285099943505, 37.45054468289928], [126.92849373611627, 37.450490639709955], [126.92839869335639, 37.450212484714136], [126.92835700547255, 37.44989868915034], [126.92830790229065, 37.44954867068333], [126.92827965978826, 37.44935268419551], [126.92399602678289, 37.44621022386653], [126.92325327598556, 37.44577274592307], [126.92289722946047, 37.44517334928159], [126.92294662341422, 37.44487295163003], [126.92290340368451, 37.44467300755931], [126.92276280843977, 37.444041082851676], [126.92200702112994, 37.44325075689736], [126.9206989530819, 37.441519968072875], [126.91866309971482, 37.4399826198143], [126.91538923780588, 37.43966802699629], [126.91389137398706, 37.439307082345366], [126.91318980927927, 37.43909539176742], [126.91230851381813, 37.438579460427064], [126.91143164683129, 37.43762316803425], [126.91120280830195, 37.43720121403737], [126.91120000006525, 37.437187408281744], [126.91121640599795, 37.43704635987985], [126.91128427704638, 37.43654325201822], [126.9113332743897, 37.43617134274236], [126.91002834721299, 37.43432412155058], [126.90990399524907, 37.434227446042016], [126.90967840074123, 37.43405973758077], [126.90940570394216, 37.43386468211851], [126.90939564103967, 37.43386044860753], [126.90859344615595, 37.43369172866171], [126.90752668284063, 37.433620219084695], [126.90663449134107, 37.433596943039184], [126.90582547176508, 37.433996151994094], [126.90582519370572, 37.4339961514977], [126.90522457655972, 37.433997068836675], [126.90298757600856, 37.434067619816375], [126.90186086991396, 37.436397524455025], [126.89914461646569, 37.43866819315659], [126.89897791293275, 37.438701825428986], [126.89958451294281, 37.44036666462504], [126.89825700987785, 37.44320652443164], [126.8957823529159, 37.44563339765403], [126.89564123420615, 37.448293203472865], [126.89460381918062, 37.45115915453541], [126.89398299964908, 37.452717339556756], [126.89182284693914, 37.45228350373588], [126.89104860136464, 37.45224245285522], [126.88978012450036, 37.45227307484194], [126.88964213474911, 37.45231546351483], [126.88956055612155, 37.45243222804214], [126.88952054944558, 37.45262112140718], [126.88950365831651, 37.452701069551985], [126.88953577215493, 37.45294663442383], [126.88964770380561, 37.45331924184843], [126.88966648001411, 37.453521706835296], [126.88965276958545, 37.45359855811726], [126.88959204730254, 37.453702964536056], [126.88876417105661, 37.45476564183316], [126.88828498896916, 37.45516865369041], [126.88631690257334, 37.45628901574754], [126.88626467992937, 37.456362515433995], [126.88618548808273, 37.45652264531473], [126.88588075144008, 37.457508389806094], [126.88535647279093, 37.45953456820853], [126.88534006058752, 37.45963704129848], [126.88534960200909, 37.459862581252786], [126.88539936070168, 37.460009169404636], [126.88543071581601, 37.46009095956028], [126.88544367738106, 37.46012453229016], [126.88551853738325, 37.4602552517998], [126.8856503749765, 37.460430797332634], [126.88607198147488, 37.46085946648082], [126.8861280837725, 37.46089978728866], [126.88620134619725, 37.46091646441948], [126.88625378811255, 37.460926660762524], [126.88747359748791, 37.46106552654828], [126.887496558517, 37.46106301629766], [126.88768203405324, 37.4610372918714], [126.8878588848284, 37.460997474794475], [126.88795324977237, 37.46095448922621], [126.88833586946399, 37.46078084499512], [126.8886306165106, 37.46078817321342], [126.88876919200511, 37.460832508638745], [126.88887551734004, 37.46094692004447], [126.88853249103101, 37.46133205127881], [126.88810791031237, 37.46180664543915], [126.88712180525275, 37.46290436132275], [126.88704339725399, 37.46290231145964], [126.88692384750225, 37.46289178083983], [126.8866437800214, 37.46286673080834], [126.88624491309524, 37.462798199928294], [126.88485800434349, 37.46254315165955], [126.88285845637517, 37.464260786136016], [126.88457429371452, 37.465648235366345], [126.88399444654908, 37.4666686142717], [126.88153185152697, 37.469291157844246], [126.88020447443844, 37.470934970368816], [126.87987759325688, 37.47142131860115], [126.87978452211613, 37.47153905842666], [126.87955796374929, 37.47182967707249], [126.87896535297452, 37.47259125891967], [126.878737715495, 37.47288413625716], [126.87845148220593, 37.47325521399897], [126.87801141518874, 37.473827737663726], [126.87758404635294, 37.47451796165278], [126.87614354048272, 37.47684468748306], [126.875985712755, 37.477103834904355], [126.87532045000799, 37.47837269170999], [126.87527082683833, 37.47846810105765], [126.87495854192933, 37.479071997423006], [126.87428469725933, 37.48038025568152], [126.87413691152803, 37.48075711205315], [126.87337901434464, 37.48243356016608], [126.87274429659675, 37.48242499487622], [126.87277987705443, 37.48279498546454], [126.87278663435971, 37.48348878173847], [126.87179719541923, 37.48499743332655], [126.87176262505115, 37.48526939013452], [126.87244469850039, 37.4861100401392], [126.87267382344012, 37.48622009555947], [126.87273456218324, 37.48624015412052], [126.87289532357438, 37.486251870679055], [126.8730422228684, 37.486197970552574], [126.87313717650365, 37.486151897810466], [126.87455644404149, 37.48536674953535], [126.87924694570533, 37.4863194189257], [126.88088641431395, 37.485725922875694], [126.88097258584254, 37.48569621146611], [126.88135373290788, 37.4855632164656], [126.88147911635684, 37.485489741001565]]]], &quot;type&quot;: &quot;MultiPolygon&quot;}, &quot;properties&quot;: {&quot;base_year&quot;: &quot;2018&quot;, &quot;code&quot;: &quot;11180&quot;, &quot;name&quot;: &quot;\\uae08\\ucc9c\\uad6c&quot;, &quot;name_eng&quot;: &quot;Geumcheon-gu&quot;}, &quot;type&quot;: &quot;Feature&quot;}, {&quot;geometry&quot;: {&quot;coordinates&quot;: [[[[126.92683670377413, 37.539087331256354], [126.92710019626892, 37.53903514006957], [126.92764927608147, 37.53907310941323], [126.9276652944228, 37.53907615609478], [126.93033769545193, 37.54136254260469], [126.93534087560043, 37.539356892577786], [126.94102514315331, 37.53627136503437], [126.94458999713282, 37.533785726032306], [126.94717240060359, 37.53063168722498], [126.94741600067402, 37.53016303049531], [126.9482075528347, 37.52915327568521], [126.94830668921367, 37.52902701064826], [126.94880546108193, 37.52839219592833], [126.94924730511903, 37.527829883255556], [126.94943967088527, 37.52758517630757], [126.94987682973515, 37.527028924355626], [126.94988248009479, 37.52342494613875], [126.94988654989376, 37.517519985388724], [126.94955994370162, 37.51761449208498], [126.9386526755327, 37.516056065403255], [126.9323856920258, 37.51557517725443], [126.92686652774294, 37.515543660974174], [126.92683987852695, 37.51520169189876], [126.92702369326635, 37.51387362213737], [126.92703283601087, 37.51371082809225], [126.92703586696234, 37.51365331034637], [126.92697044904294, 37.5132168995519], [126.92679556653337, 37.51280227411497], [126.92679011846666, 37.51280120751441], [126.92667102695852, 37.512777906397346], [126.92431474421537, 37.509862231862165], [126.920886166695, 37.50138094499679], [126.9202437993178, 37.498507188733285], [126.92021466667602, 37.49834085484858], [126.92021388004673, 37.49833636674738], [126.91981522963603, 37.4977985567205], [126.9197345043297, 37.497758820586114], [126.91940772721804, 37.49759970231641], [126.91857847665777, 37.49741475972815], [126.9176206112718, 37.497206817425045], [126.9152805701811, 37.49669916855421], [126.91485385132879, 37.49660998116511], [126.91424440963212, 37.49655171049], [126.91369567903908, 37.49649908574307], [126.91356156035548, 37.49648559734706], [126.91289722187369, 37.49641867090286], [126.91252379711882, 37.49635292280624], [126.91240248738092, 37.49630996300147], [126.91236198370056, 37.49629025440589], [126.9121552789026, 37.496179138120226], [126.91206961572769, 37.49612006786857], [126.9120163746054, 37.496083267365506], [126.91195936419417, 37.496041842152415], [126.91179507193642, 37.49587593206926], [126.91178487586889, 37.4958639509677], [126.91176054515545, 37.49583011824246], [126.9116052949631, 37.49561286757502], [126.91156866821991, 37.495556168384475], [126.91155083089265, 37.495528425965226], [126.9112578401028, 37.49505861581194], [126.91105354119304, 37.49473540542802], [126.91047220552164, 37.49382214711048], [126.91023407846862, 37.49348277280372], [126.90979432711302, 37.49294480568925], [126.90969560500136, 37.49282809169028], [126.9095240805693, 37.49264175180459], [126.90950244863859, 37.492662531687884], [126.90638294045122, 37.488896449890944], [126.90399809368434, 37.485977723467535], [126.90319890757814, 37.485002766352856], [126.90319677975282, 37.48500151353549], [126.90315040383786, 37.48500243570062], [126.90302921511504, 37.485006379767206], [126.90293134074929, 37.48500961318917], [126.9028001676534, 37.48501413480748], [126.90275897997384, 37.48501564278649], [126.9016181229941, 37.48537829124226], [126.90135962289634, 37.48546082583619], [126.90125820649953, 37.485495505358344], [126.9001547786323, 37.485908211218174], [126.90009008267965, 37.48593740212848], [126.89979173511855, 37.486076078286466], [126.89865120366112, 37.48664211843128], [126.89859609613215, 37.48667357826063], [126.89814417303063, 37.486935105499384], [126.8964105283384, 37.48900434317227], [126.8955622748354, 37.491388353821236], [126.89541694693249, 37.4919741415841], [126.89540046205742, 37.49203683838112], [126.8942262279696, 37.497049926305756], [126.8941229536052, 37.49756257711072], [126.89281024688644, 37.50346209564583], [126.89315340047865, 37.503746941542225], [126.89324571801431, 37.50385701127133], [126.89393117089321, 37.50482046191832], [126.8939706420509, 37.504985498413625], [126.89397665557956, 37.50501165948161], [126.89373617069896, 37.505599782099985], [126.89228351901195, 37.50906434993791], [126.89234045851272, 37.50908856295708], [126.89207462354398, 37.50943771914886], [126.88970624386835, 37.5119207556551], [126.88922579829811, 37.51227718498836], [126.88773689903756, 37.51314305804296], [126.88751971570298, 37.513226373323306], [126.88713940236772, 37.51325528719434], [126.88679717832709, 37.513301357414576], [126.88461607986486, 37.51375025627791], [126.8844331423335, 37.51384936468685], [126.88272727648156, 37.51517185623738], [126.88272735707888, 37.515620370553435], [126.88272733255354, 37.51577858630257], [126.88244775803199, 37.51596751443658], [126.87935739467528, 37.517925584769415], [126.87913514309011, 37.51785775731338], [126.87880343939085, 37.51790823649684], [126.87877461020359, 37.51792003586628], [126.87873957512915, 37.51794195629431], [126.8786202886509, 37.51804263782418], [126.8784498096933, 37.51820942165201], [126.87842500030699, 37.51824571554569], [126.87820519021511, 37.51874919735738], [126.8781957742148, 37.51877931506684], [126.8781910371961, 37.51886659939035], [126.87819460719479, 37.51905440723209], [126.87820019574943, 37.51909551567645], [126.8782123228462, 37.51913607446855], [126.87832142377593, 37.519433514684756], [126.87835137989343, 37.51948592271069], [126.87850116451922, 37.51965614133465], [126.87857124588372, 37.51970858107462], [126.8786718930698, 37.519767249462724], [126.87908103429783, 37.520006716634256], [126.87910398173521, 37.52002335631125], [126.8794001825365, 37.52036435511837], [126.87941460526812, 37.52040602819491], [126.87942529196481, 37.52046320198039], [126.87942911576287, 37.52050487704951], [126.87943414375634, 37.520564572821385], [126.87943691711396, 37.520598084253784], [126.87940809267235, 37.52082752910442], [126.87930679690838, 37.52148458364079], [126.87927911489656, 37.521657995722045], [126.87918654284454, 37.52206391594261], [126.87915385894323, 37.522162144459564], [126.87903251756111, 37.522494712892815], [126.87903173902052, 37.52261267741165], [126.87903169732586, 37.522612792565155], [126.87900099297569, 37.52269741925867], [126.87897185662256, 37.522777729513464], [126.87892354905782, 37.52291817251726], [126.8786207744317, 37.52464298273889], [126.87861433831378, 37.52468352040062], [126.87861026977866, 37.524860490600965], [126.87860597012974, 37.525047856640846], [126.87860801453148, 37.52506334626435], [126.87860871976157, 37.525068646301804], [126.87873167944464, 37.52531108096722], [126.87875373580542, 37.525354567202], [126.88067687111584, 37.527538003931475], [126.88080150358458, 37.527631114203864], [126.88100633031547, 37.52773403675213], [126.88714969673376, 37.530181504767164], [126.88768742464345, 37.53037507981717], [126.8879171432331, 37.530413143032895], [126.88812528324414, 37.53043154194684], [126.88846672438854, 37.53043042801568], [126.88973787037311, 37.53035772453553], [126.89031033084292, 37.5311701654817], [126.89051393420806, 37.531708979948675], [126.8901296098193, 37.534226245479765], [126.89010112315462, 37.534369431640904], [126.89006206515846, 37.53446894515363], [126.88997312957319, 37.534680044782945], [126.88991813073365, 37.53479338189173], [126.88989526898122, 37.534837067492816], [126.88961583719451, 37.53527322614936], [126.88951224096742, 37.53538916642231], [126.889414730703, 37.535496888031204], [126.88885537058849, 37.536044168239506], [126.88856688143888, 37.53628287233991], [126.88855627771022, 37.53629150102044], [126.88854785891589, 37.53630007972174], [126.888489023902, 37.53637532963919], [126.88824029771959, 37.53669757472581], [126.88795528202482, 37.537105549439794], [126.88788459321134, 37.537207031715155], [126.88763861754268, 37.537563633772386], [126.88683022062419, 37.538831889983705], [126.88671795541862, 37.53902307042281], [126.88652025299241, 37.53936167833297], [126.8865198235998, 37.539362417009585], [126.88621439477066, 37.53992607726238], [126.88470513048668, 37.54332576604182], [126.88425034390957, 37.54392801677818], [126.88180049388708, 37.547035292367546], [126.88066399030672, 37.54819623683894], [126.87807573471574, 37.551699443600995], [126.87804665457169, 37.55252836008723], [126.87803260686803, 37.553031070642774], [126.87923698545335, 37.55474698034431], [126.87929195218116, 37.55481626905577], [126.88046377712031, 37.55626953232584], [126.88682483094793, 37.55308978201638], [126.88811978450299, 37.55229266406138], [126.89573087039602, 37.54904306132252], [126.89894300943189, 37.54800786451002], [126.9018180706254, 37.54503434332776], [126.9018236588748, 37.54502732220228], [126.90182777562976, 37.54502014399858], [126.90191175968802, 37.54481610425205], [126.90196510588342, 37.54468584767289], [126.90200637124718, 37.54458448566097], [126.90204799132901, 37.54448150029995], [126.9021909488218, 37.54412752331309], [126.90419252161807, 37.54216618929542], [126.90483069511345, 37.54141652994167], [126.9171389090278, 37.54142596572174], [126.92180082442002, 37.541429204879165], [126.92241402520577, 37.54142961626317], [126.92245373158762, 37.54135293356441], [126.92261732993694, 37.54103634267421], [126.9228343155885, 37.54061912094162], [126.9230759054395, 37.54045450926464], [126.92443955491345, 37.539902594350714], [126.9261796941798, 37.53928436520467], [126.92673463651273, 37.53911785482447], [126.92683670377413, 37.539087331256354]]]], &quot;type&quot;: &quot;MultiPolygon&quot;}, &quot;properties&quot;: {&quot;base_year&quot;: &quot;2018&quot;, &quot;code&quot;: &quot;11190&quot;, &quot;name&quot;: &quot;\\uc601\\ub4f1\\ud3ec\\uad6c&quot;, &quot;name_eng&quot;: &quot;Yeongdeungpo-gu&quot;}, &quot;type&quot;: &quot;Feature&quot;}, {&quot;geometry&quot;: {&quot;coordinates&quot;: [[[[126.98289128257595, 37.49576780661851], [126.98275300718826, 37.49231897337942], [126.98265560613129, 37.49089146403362], [126.98212594765053, 37.48540130504212], [126.98212541773611, 37.485391560733355], [126.98208124465073, 37.484575693027125], [126.98169584276825, 37.47653035810707], [126.97842292777399, 37.476650247608056], [126.97428555934948, 37.47620102881258], [126.97226139494036, 37.47578824437038], [126.97052259750959, 37.47537649370402], [126.97028959330045, 37.476498585807], [126.97008393615741, 37.47650775882012], [126.96889719964783, 37.47656786542343], [126.96824058292715, 37.47728644026298], [126.96805802455206, 37.477507603700786], [126.9677778890808, 37.477858852885966], [126.96776428081476, 37.477871632553935], [126.9663255270583, 37.47895967646784], [126.96564807232411, 37.479232747825485], [126.96479461177299, 37.479511535159304], [126.96430940108442, 37.48010699905928], [126.9626147431235, 37.48208804427397], [126.96106884957159, 37.48355761944808], [126.96107823680624, 37.483701347673474], [126.9610784029128, 37.48370369205185], [126.96193301275184, 37.485316602592384], [126.96172293764266, 37.48722392208581], [126.96086751525272, 37.49017493084177], [126.96077897529536, 37.490822871615904], [126.96133833210673, 37.49247682212461], [126.96137765096967, 37.49287406736278], [126.96105234337867, 37.49325823306866], [126.96058086817685, 37.49356242880224], [126.96028902519352, 37.49374369826425], [126.95975865618388, 37.49378955255704], [126.95970550690092, 37.49379349719282], [126.95936383178774, 37.49380286432515], [126.95893337660233, 37.49358289271204], [126.95886442475248, 37.49339576754122], [126.95869621007778, 37.492916464472], [126.95868537903765, 37.492779851850116], [126.95747834702772, 37.49197726460213], [126.95712489659469, 37.49175410695375], [126.95712332216058, 37.491753376828456], [126.95670413335682, 37.49159352301641], [126.95670243864923, 37.491593003588044], [126.95670066015285, 37.49159270878357], [126.95612100435095, 37.491500314642856], [126.95372725694683, 37.49064161582414], [126.949565459255, 37.49277703039072], [126.94882261925773, 37.49317914176397], [126.94807951374078, 37.49373334726392], [126.9469641635546, 37.494125663339574], [126.94371441507614, 37.49240029580514], [126.94038764692012, 37.492971723797105], [126.9397821905118, 37.492820660723886], [126.93826511273525, 37.49236617684185], [126.93431555083465, 37.49305111667057], [126.92985918446982, 37.494003344182254], [126.92791345345888, 37.495078093656645], [126.92749636335915, 37.49499707848219], [126.92677229802419, 37.49424265668739], [126.92590020300793, 37.49304421392889], [126.92416917984244, 37.490345546141555], [126.92416246678728, 37.490211551659975], [126.92415122848264, 37.489977943060886], [126.92101497129289, 37.49063650623984], [126.91878062352424, 37.49014811708615], [126.91870222720937, 37.49013098058161], [126.91595775549483, 37.489218976420055], [126.91304507106283, 37.487363193612794], [126.91231303542858, 37.486774471155705], [126.91192325992611, 37.48651567974581], [126.9112744316477, 37.48626758958161], [126.91061436843086, 37.4860581419081], [126.90609769576211, 37.48496058714278], [126.90574566291211, 37.48491669299422], [126.90552745186747, 37.484912731168265], [126.90319890748525, 37.485002767205145], [126.90399809389392, 37.485977724479795], [126.90638294045304, 37.488896450642486], [126.90950244899186, 37.49266253228539], [126.909524080538, 37.49264175255509], [126.90969560519089, 37.49282809231601], [126.90979432761102, 37.49294480670382], [126.91023407900096, 37.49348277338363], [126.91047220548842, 37.49382214726682], [126.91105354108028, 37.49473540614643], [126.9112578401468, 37.49505861598363], [126.91155083096481, 37.49552842662735], [126.91156866838648, 37.49555616898543], [126.91160529487539, 37.49561286819849], [126.91176054514558, 37.495830118376915], [126.91178487578975, 37.49586395176286], [126.91179507193513, 37.4958759329405], [126.91195936439104, 37.4960418428354], [126.91201637453436, 37.49608326797585], [126.91206961578659, 37.49612006853148], [126.9121552791884, 37.4961791390149], [126.91236198416908, 37.496290254959064], [126.91240248777997, 37.496309963965366], [126.91252379741589, 37.49635292338849], [126.91289722177687, 37.496418671843166], [126.91356156040843, 37.496485597927226], [126.91369567917216, 37.496499086390514], [126.91424441005636, 37.49655171148131], [126.91485385161802, 37.49660998105281], [126.91528057015438, 37.49669916844387], [126.91762061167864, 37.49720681738903], [126.91857847661896, 37.497414760319295], [126.91940772731876, 37.49759970287128], [126.91973450464472, 37.49775882057077], [126.919815229729, 37.49779855727179], [126.92021388053898, 37.49833636681388], [126.92021466683384, 37.49834085544157], [126.92024379927567, 37.49850718847059], [126.92088616681922, 37.50138094479476], [126.92431474441743, 37.50986223159802], [126.92667102697757, 37.5127779060751], [126.92679011835449, 37.512801207156315], [126.92679556685867, 37.512802273916556], [126.9269704493204, 37.5132168992538], [126.92703586691452, 37.5136533109674], [126.92703283592489, 37.51371082792442], [126.9270236932039, 37.51387362178039], [126.92683987863185, 37.51520169205578], [126.9268665276421, 37.515543660867884], [126.93238569220705, 37.515575177256004], [126.93865267586688, 37.51605606623208], [126.9495599439672, 37.51761449278759], [126.94988654975661, 37.51751998601199], [126.95697486260924, 37.51512275161415], [126.961909689745, 37.5131171185606], [126.96311825491382, 37.51222854106314], [126.96498120530437, 37.51082354037095], [126.96501183321521, 37.510803519096804], [126.96574111029537, 37.51044865959404], [126.96682223696351, 37.50992275479472], [126.96692063502189, 37.50987506136601], [126.96753626488405, 37.50971004880438], [126.96891089251079, 37.50933752251221], [126.96895130963568, 37.50932653081452], [126.97009237445062, 37.50901611449432], [126.97009784269464, 37.5090140479301], [126.9702708791669, 37.5089486572026], [126.97034929868352, 37.50891860077691], [126.97405348808284, 37.50747610843703], [126.97867550036264, 37.50655446819201], [126.98040672675684, 37.50653629054085], [126.98039694975964, 37.50458969512657], [126.98342618334351, 37.5012482867765], [126.98538718873932, 37.49985897998422], [126.98319567877624, 37.49737424562892], [126.98302987103962, 37.49715307870595], [126.98299393883478, 37.49709698546509], [126.98292971774929, 37.49699358521137], [126.9829126468105, 37.496562391013605], [126.98291099616524, 37.49651498164317], [126.98289128257595, 37.49576780661851]]]], &quot;type&quot;: &quot;MultiPolygon&quot;}, &quot;properties&quot;: {&quot;base_year&quot;: &quot;2018&quot;, &quot;code&quot;: &quot;11200&quot;, &quot;name&quot;: &quot;\\ub3d9\\uc791\\uad6c&quot;, &quot;name_eng&quot;: &quot;Dongjak-gu&quot;}, &quot;type&quot;: &quot;Feature&quot;}, {&quot;geometry&quot;: {&quot;coordinates&quot;: [[[[126.93431555083465, 37.49305111667057], [126.93826511273525, 37.49236617684185], [126.9397821905118, 37.492820660723886], [126.94038764692012, 37.492971723797105], [126.94371441507614, 37.49240029580514], [126.9469641635546, 37.494125663339574], [126.94807951374078, 37.49373334726392], [126.94882261925773, 37.49317914176397], [126.949565459255, 37.49277703039072], [126.95372725694683, 37.49064161582414], [126.95612100435095, 37.491500314642856], [126.95670066015285, 37.49159270878357], [126.95670243864923, 37.491593003588044], [126.95670413335682, 37.49159352301641], [126.95712332216058, 37.491753376828456], [126.95712489659469, 37.49175410695375], [126.95747834702772, 37.49197726460213], [126.95868537903765, 37.492779851850116], [126.95869621007778, 37.492916464472], [126.95886442475248, 37.49339576754122], [126.95893337660233, 37.49358289271204], [126.95936383178774, 37.49380286432515], [126.95970550690092, 37.49379349719282], [126.95975865618388, 37.49378955255704], [126.96028902519352, 37.49374369826425], [126.96058086817685, 37.49356242880224], [126.96105234337867, 37.49325823306866], [126.96137765096967, 37.49287406736278], [126.96133833210673, 37.49247682212461], [126.96077897529536, 37.490822871615904], [126.96086751525272, 37.49017493084177], [126.96172293764266, 37.48722392208581], [126.96193301275184, 37.485316602592384], [126.9610784029128, 37.48370369205185], [126.96107823680624, 37.483701347673474], [126.96106884957159, 37.48355761944808], [126.9626147431235, 37.48208804427397], [126.96430940108442, 37.48010699905928], [126.96479461177299, 37.479511535159304], [126.96564807232411, 37.479232747825485], [126.9663255270583, 37.47895967646784], [126.96776428081476, 37.477871632553935], [126.9677778890808, 37.477858852885966], [126.96805802455206, 37.477507603700786], [126.96824058292715, 37.47728644026298], [126.96889719964783, 37.47656786542343], [126.97008393615741, 37.47650775882012], [126.97028959330045, 37.476498585807], [126.97052259750959, 37.47537649370402], [126.97226139494036, 37.47578824437038], [126.97428555934948, 37.47620102881258], [126.97842292777399, 37.476650247608056], [126.98169584276825, 37.47653035810707], [126.98170806186782, 37.476292245431345], [126.98174389416559, 37.47592961594442], [126.98181841173599, 37.47530717094243], [126.98184864722896, 37.47507516682252], [126.98214497438627, 37.47381210918276], [126.98215331231556, 37.4737824762918], [126.98217244547195, 37.473718915275256], [126.98230331535476, 37.473435904396815], [126.982406325299, 37.47321652622516], [126.98257734612994, 37.47285910853161], [126.98269347280586, 37.472618107869245], [126.98284851627878, 37.47230216030803], [126.98299347962003, 37.47201352779268], [126.98321408265666, 37.47157499059005], [126.98382614009563, 37.47073840284386], [126.98423816857324, 37.47018440124011], [126.98469209061034, 37.46985425872112], [126.98550236997565, 37.46918336696042], [126.98692982635468, 37.467946535835814], [126.98723529089796, 37.46767720996495], [126.98730279678522, 37.467614445490455], [126.9879346900128, 37.465939039660725], [126.9880436648916, 37.46551455222996], [126.9881071785259, 37.46520401960714], [126.9883440096067, 37.46399856556942], [126.98832990123098, 37.463875567823116], [126.98830235778898, 37.463666803211446], [126.98826205524095, 37.46344466424537], [126.98799530226022, 37.4624683060811], [126.98763915187412, 37.461165493809666], [126.98757930610306, 37.46090925796617], [126.98752471868576, 37.460573582544555], [126.98752880987229, 37.46033927610113], [126.9875473237678, 37.46014844606073], [126.98760999455403, 37.45986565540254], [126.98764791337246, 37.45975051032815], [126.98773002194689, 37.45953843302966], [126.98787320927853, 37.45927233831548], [126.98796614268323, 37.45913447712669], [126.98863551052985, 37.4581658465439], [126.98678106957291, 37.45740326483425], [126.9823892123104, 37.45591710288219], [126.97775711925088, 37.45519911714964], [126.97457956204858, 37.454412875691716], [126.97175282682676, 37.45173733580538], [126.97056939412994, 37.44945270143509], [126.9695935699211, 37.449095977537084], [126.96866171965453, 37.44875446511718], [126.96766297922977, 37.448380544535944], [126.96428976906869, 37.446267236841074], [126.96394189906968, 37.44524588963409], [126.9639336184295, 37.44521463055169], [126.96432082182223, 37.44346229412915], [126.96463404091546, 37.44203964674453], [126.9638033058933, 37.44078692617933], [126.96373604586569, 37.44074688151416], [126.96311396138697, 37.440376525457424], [126.9629835316899, 37.440299608996824], [126.96294293035015, 37.44028045810513], [126.95899886202953, 37.43912694173681], [126.95636819830904, 37.43875401179986], [126.94928411079705, 37.43825027352572], [126.94815539543096, 37.43863037512576], [126.94567627248503, 37.43730530002872], [126.94509063737182, 37.43708822147991], [126.94022016129315, 37.435712371688936], [126.93936430637983, 37.43602581769317], [126.93857452563437, 37.436420428996726], [126.93774638365332, 37.43738575742863], [126.93727268517134, 37.438632271750684], [126.93725777437116, 37.438927343194244], [126.93724856513724, 37.439167511566296], [126.93724711349529, 37.439212839702854], [126.93740216686238, 37.43937426762992], [126.93769358374067, 37.43968442728396], [126.93771385882941, 37.4397207571165], [126.93786405761941, 37.44019753435152], [126.93774580783652, 37.44035402022138], [126.93735357770757, 37.44087159900919], [126.93668810945012, 37.44169594637959], [126.93664692463936, 37.441745758077126], [126.93489799747779, 37.44320948203192], [126.93445088177559, 37.443258225574795], [126.93055407030073, 37.445468480484294], [126.93051744790405, 37.445548422702295], [126.9303939366348, 37.44581837181988], [126.93032633823253, 37.44596869040995], [126.93016316361407, 37.44637798276581], [126.93035671266796, 37.44733422201457], [126.9283986946123, 37.45021248551224], [126.92849373655669, 37.450490640600066], [126.9285099943979, 37.45054468378308], [126.92845209440031, 37.45081133667522], [126.92836601988652, 37.45101191912417], [126.92636579356541, 37.45233382767866], [126.92480935063126, 37.45284928478078], [126.92477930701017, 37.45284411075351], [126.92330828916606, 37.45422421855599], [126.92308298120557, 37.454528923857715], [126.92218690494298, 37.4566236134471], [126.91714263489916, 37.45740514716738], [126.9147524163583, 37.4573952629158], [126.91402996599582, 37.45790532151255], [126.91441173731604, 37.46161325501115], [126.91381892736766, 37.462511668815566], [126.91331409477375, 37.463105180625945], [126.91329817881899, 37.46311603301473], [126.9131668360162, 37.46331521051333], [126.91304436725844, 37.463503644665245], [126.91296866538545, 37.46362175749725], [126.91296388797396, 37.463648152892944], [126.91292563950852, 37.463867797508215], [126.91290197046717, 37.4640097337507], [126.9129085801641, 37.46405088507639], [126.91294797607195, 37.46424052478466], [126.91372399063498, 37.46546933258149], [126.9135645127657, 37.465455338274595], [126.9124142453987, 37.465890603148395], [126.91165377967063, 37.46683125667652], [126.90878892984443, 37.4717804138624], [126.90819969838309, 37.472686334710914], [126.91074510627566, 37.47361962759829], [126.91102355081, 37.47391579422898], [126.91135924339345, 37.4745069643191], [126.9118079367857, 37.476854110294106], [126.91183397117837, 37.47782104173721], [126.91160031982817, 37.47811717839981], [126.9104708466747, 37.47835519257034], [126.90982384917135, 37.478208009985245], [126.90962301430326, 37.478109663990836], [126.90939147830095, 37.47814606633464], [126.90888338293317, 37.478783146432875], [126.90865068780467, 37.479080296963524], [126.90869257150851, 37.47940355657051], [126.90899876958612, 37.480078386579144], [126.9097834242041, 37.48076531028839], [126.90737802329365, 37.480326053682106], [126.90536863320808, 37.48006521618944], [126.90523850719687, 37.48011268456744], [126.90383397517479, 37.47985492588977], [126.90088422199402, 37.47931329232858], [126.89894342120255, 37.47894013938378], [126.8989903896766, 37.479149150476374], [126.89899045978666, 37.479149446810794], [126.89899073109594, 37.47915056553451], [126.89900894981716, 37.47922031696245], [126.89902818886813, 37.47928998170264], [126.89904866785992, 37.47935937657316], [126.899093137842, 37.47949744917027], [126.89911712678507, 37.47956612468457], [126.89914224658402, 37.479634533622814], [126.89916849728134, 37.47970267103324], [126.8991958747437, 37.479770449971234], [126.8992243851268, 37.479838050364606], [126.8992540298825, 37.47990529122237], [126.8992849167088, 37.479972171991], [126.89931682121193, 37.48003878395299], [126.89934985733878, 37.48010503581266], [126.89937007729944, 37.48014415650241], [126.89938391255981, 37.48017092864749], [126.89941920778662, 37.48023646192912], [126.89945552697625, 37.480301545985085], [126.89946197997607, 37.48031269775482], [126.89953222902052, 37.48043108609438], [126.89959980559266, 37.48053917365879], [126.89961948183357, 37.480569836920914], [126.89965339760236, 37.48062103130679], [126.89969616085276, 37.48068368558309], [126.89974005714916, 37.480745804808], [126.8997848573378, 37.480807470887925], [126.89983079056225, 37.48086868993717], [126.90006396248022, 37.48117333767728], [126.90062813041573, 37.48186279116156], [126.90106618460467, 37.48239811459528], [126.90319678005878, 37.48500151423312], [126.90319890748525, 37.485002767205145], [126.90552745186747, 37.484912731168265], [126.90574566291211, 37.48491669299422], [126.90609769576211, 37.48496058714278], [126.91061436843086, 37.4860581419081], [126.9112744316477, 37.48626758958161], [126.91192325992611, 37.48651567974581], [126.91231303542858, 37.486774471155705], [126.91304507106283, 37.487363193612794], [126.91595775549483, 37.489218976420055], [126.91870222720937, 37.49013098058161], [126.91878062352424, 37.49014811708615], [126.92101497129289, 37.49063650623984], [126.92415122848264, 37.489977943060886], [126.92416246678728, 37.490211551659975], [126.92416917984244, 37.490345546141555], [126.92590020300793, 37.49304421392889], [126.92677229802419, 37.49424265668739], [126.92749636335915, 37.49499707848219], [126.92791345345888, 37.495078093656645], [126.92985918446982, 37.494003344182254], [126.93431555083465, 37.49305111667057]]]], &quot;type&quot;: &quot;MultiPolygon&quot;}, &quot;properties&quot;: {&quot;base_year&quot;: &quot;2018&quot;, &quot;code&quot;: &quot;11210&quot;, &quot;name&quot;: &quot;\\uad00\\uc545\\uad6c&quot;, &quot;name_eng&quot;: &quot;Gwanak-gu&quot;}, &quot;type&quot;: &quot;Feature&quot;}, {&quot;geometry&quot;: {&quot;coordinates&quot;: [[[[127.0121174730835, 37.52327269531339], [127.01318734642018, 37.52258312733175], [127.01386311893008, 37.52333492937878], [127.01436506762742, 37.52390707957611], [127.0145283978167, 37.52409901850441], [127.01495339109623, 37.52456876689835], [127.01523076878426, 37.524845404753265], [127.01693961755207, 37.523024553982005], [127.01782216927248, 37.521811965816354], [127.01952531696055, 37.51611237729764], [127.02051511973522, 37.51279907971415], [127.02132633397461, 37.511101557809944], [127.02448458436844, 37.50447766155348], [127.02760065233623, 37.49795359550581], [127.03161130103366, 37.489554883846736], [127.03408715469952, 37.48436905941273], [127.04175003929338, 37.485437087727085], [127.04160792318676, 37.48523936632722], [127.04295109616147, 37.48227199560109], [127.04354383186583, 37.480167677751304], [127.04400475856225, 37.479941990675634], [127.04404934906592, 37.47984325177102], [127.04509866206958, 37.47751933941766], [127.04512587555632, 37.477463467763314], [127.0451564811553, 37.477408854843446], [127.04519036628797, 37.47735541369127], [127.04522764469122, 37.47730341154509], [127.04526797423924, 37.47725294082677], [127.04531135891709, 37.477204089882065], [127.0453577976187, 37.47715704077868], [127.04540389751747, 37.477112514168624], [127.04980022174108, 37.47287149292963], [127.05090015569024, 37.47181037680006], [127.04885925456526, 37.469893066642484], [127.0495224456833, 37.46983819795019], [127.05044604187846, 37.469734673008716], [127.05105042186187, 37.46936523386942], [127.05111994941545, 37.468537813160545], [127.05095171547278, 37.46758491143215], [127.05196819885546, 37.46774599484185], [127.05331322120166, 37.468127826580975], [127.05493724871368, 37.468565315088206], [127.0571863842218, 37.46894351003526], [127.05910973116087, 37.469158991090374], [127.06215292002129, 37.46911874308971], [127.0632466373456, 37.46907929805809], [127.06550736612736, 37.46952326733121], [127.06594149272554, 37.46984115524768], [127.0664682459764, 37.47017515711895], [127.0685907790899, 37.47106171074949], [127.06965629098538, 37.4711056834015], [127.07074789358441, 37.47141673258518], [127.07268871083842, 37.471995203343454], [127.07290543286476, 37.4721721603544], [127.07690947544005, 37.47521716088978], [127.07796312662701, 37.474854448816785], [127.07899330876911, 37.47491604558583], [127.08176024036436, 37.475444123933606], [127.08447847210752, 37.47579663833734], [127.08493924600982, 37.475660722280374], [127.08446054352085, 37.47514386501599], [127.08413589728086, 37.47300028420671], [127.08456564331235, 37.47216697901681], [127.08501667441267, 37.471300183655906], [127.0851130913697, 37.471290728000696], [127.08588608920553, 37.47121497217722], [127.08660413570965, 37.47084991886608], [127.08676149380985, 37.47070202348379], [127.09043006878245, 37.46714836747454], [127.0916179208453, 37.46571888158445], [127.091947373871, 37.46522602428245], [127.09204155658584, 37.464918159811276], [127.09204934342016, 37.4646446815854], [127.09206801343456, 37.46388327372783], [127.09202082589604, 37.46363426344266], [127.09190976630984, 37.462306430558094], [127.09308863532038, 37.461280287856965], [127.09435536557973, 37.46097738138066], [127.09487828024201, 37.46098070931629], [127.09531875660967, 37.460989847701484], [127.09565654413129, 37.46101507766347], [127.09571819604585, 37.460694820262844], [127.09543971669305, 37.45756047391742], [127.09537453428284, 37.45719735668539], [127.09522278273491, 37.456394227058304], [127.09431215524917, 37.45622476979355], [127.09377352246857, 37.45607736401472], [127.0935403618261, 37.455888054842106], [127.08882127500135, 37.44974941919765], [127.08843214224363, 37.448994842624366], [127.08832682066434, 37.44862776039573], [127.0883267663301, 37.4486273599989], [127.0883693044476, 37.44724005775124], [127.08816128477004, 37.44538498319209], [127.0878550725825, 37.44489387035113], [127.0877781603685, 37.44487515110258], [127.08730388205909, 37.44464170985698], [127.08290459036265, 37.44217380831064], [127.08243181843186, 37.44157946798249], [127.08209733886396, 37.44135078652848], [127.08144410326472, 37.44123099961201], [127.08017160064007, 37.441051093594616], [127.07908335106478, 37.44129874301541], [127.07817890609653, 37.441551614755475], [127.07760188073385, 37.44170909635985], [127.07601057573979, 37.44213893573602], [127.07475598588965, 37.44221884628492], [127.07449768943327, 37.44223280009534], [127.07224980499747, 37.44219981117951], [127.07186137386867, 37.441029701497754], [127.07221171671044, 37.43938290117875], [127.07376019300058, 37.437789433480354], [127.07379537685112, 37.43765707163712], [127.07384351060155, 37.43740785964167], [127.07356006719249, 37.436963726733666], [127.07302423007563, 37.43640683249204], [127.07090997824638, 37.43309491343312], [127.06961542917558, 37.43061169174978], [127.06569800659521, 37.429158102055716], [127.06114498919129, 37.429985281929845], [127.05978112015005, 37.42958726536712], [127.05345831966387, 37.42880858693607], [127.05036152150768, 37.42982129031807], [127.0495797509848, 37.43027014287479], [127.04736923910885, 37.43070182006726], [127.04722475529006, 37.43204044257094], [127.0464416607334, 37.43299046021094], [127.04590560846029, 37.43348142414597], [127.04418573153055, 37.43505545363318], [127.0410903166323, 37.43776912455584], [127.04087975129109, 37.43787844145925], [127.04048048675028, 37.43808242717391], [127.0400527763899, 37.4382371447092], [127.03956828715538, 37.43819590916947], [127.03922186053144, 37.43816448502413], [127.0390324171541, 37.43815131828641], [127.03706776487029, 37.438274967463066], [127.03697772802812, 37.43829639365387], [127.03557372561033, 37.439004097483384], [127.03532026656313, 37.439966563769815], [127.03529506962866, 37.4400721510103], [127.03520801043479, 37.44043765232797], [127.03516906689966, 37.44060575483156], [127.03517186179447, 37.44094194721132], [127.03528263931074, 37.44103476220868], [127.03607225418138, 37.44155099396838], [127.03608762727009, 37.44156253232662], [127.03643099214948, 37.44183273411859], [127.03665445341147, 37.44208015967284], [127.03748293985498, 37.44326670391554], [127.037934862518, 37.44417883654999], [127.03803531867813, 37.4445164037656], [127.03818353140329, 37.44501754294937], [127.03823039711982, 37.44518026873738], [127.03820566227157, 37.44585885209366], [127.03781196798302, 37.44892239723604], [127.03777449169161, 37.44920171943093], [127.0377444007935, 37.449418818497946], [127.03696803965829, 37.45069115719689], [127.0364097037293, 37.45149687749907], [127.03577642409789, 37.4521959088065], [127.03626740770981, 37.45426216926557], [127.037127701425, 37.455207681020035], [127.03706742834527, 37.45547434294183], [127.0367406504963, 37.456443867498706], [127.03492422058716, 37.460175404140166], [127.03453266574884, 37.46333521985229], [127.03466011300839, 37.46397659189589], [127.03467091203233, 37.464090457811416], [127.03460314151096, 37.464173939390065], [127.03314058887757, 37.465017388744734], [127.03275757005144, 37.46519318133296], [127.03192176530247, 37.465518883172386], [127.03119554673394, 37.46562606084154], [127.03055508241947, 37.465514162923114], [127.03039681977214, 37.46548632371157], [127.02992820521146, 37.4653515859194], [127.02958338879576, 37.46428818512473], [127.0287312694625, 37.462028268523156], [127.02815696774842, 37.46062199335284], [127.02634678258774, 37.45810435887991], [127.0262045806446, 37.457987815619525], [127.02599541795769, 37.45781695778052], [127.02543481200372, 37.45756450245491], [127.02527761644484, 37.45749386838271], [127.02150295501012, 37.45622583423501], [127.01969200962168, 37.45578660606295], [127.01557484697679, 37.45491601374188], [127.01506499615063, 37.45483188318312], [127.0148735742931, 37.45484175258828], [127.01450961750989, 37.454861228243765], [127.01072511828906, 37.45577244633828], [127.00923267374057, 37.45722090997268], [127.0070409238036, 37.460215469473], [127.00496875782406, 37.463186899526434], [127.00446967186222, 37.4640732762062], [127.00476218545566, 37.46492302420819], [127.00490546512334, 37.4658426021669], [127.00452135753395, 37.46679064030309], [127.00424565811787, 37.46714344374423], [127.00367535854645, 37.46772038622644], [127.00273482151238, 37.46712461072491], [127.00196279684896, 37.46708744920077], [127.00047686472816, 37.46706294789318], [126.99742674450822, 37.4672422348142], [126.99717099499884, 37.467214069870714], [126.99698554414492, 37.46717971563867], [126.99675187583445, 37.46707243294178], [126.99628192957668, 37.46665064258991], [126.9971935952484, 37.4641841655715], [126.99725312910522, 37.46401973443485], [126.9973707712399, 37.463687492189756], [126.99676862947065, 37.461873352522396], [126.99428993164409, 37.461421317531155], [126.9931529286288, 37.461276234751054], [126.9916230695598, 37.46044156266895], [126.9899945380182, 37.459462977644705], [126.98863550906393, 37.45816584549993], [126.98796614223528, 37.4591344764225], [126.98787320886804, 37.45927233746269], [126.98773002162311, 37.459538432087456], [126.98764791311562, 37.45975050944786], [126.98760999425768, 37.459865654651466], [126.98754732376791, 37.46014844523348], [126.9875288093707, 37.46033927549001], [126.98752471816361, 37.460573581545155], [126.98757930613078, 37.460909256972684], [126.98763915184402, 37.46116549368384], [126.98799530212453, 37.46246830541171], [126.98826205473303, 37.46344466342473], [126.98830235729866, 37.46366680304664], [126.9883299009203, 37.463875567063184], [126.9883440095508, 37.463998565017455], [126.98810717824651, 37.465204018630814], [126.988043664412, 37.46551455130117], [126.9879346895121, 37.465939039071614], [126.9873027968354, 37.46761444460622], [126.98723529071664, 37.467677209182696], [126.98692982596988, 37.46794653525512], [126.98550237001814, 37.46918336623548], [126.98469209055652, 37.469854257708796], [126.98423816818978, 37.470184401111865], [126.98382614004346, 37.47073840223468], [126.98321408240767, 37.47157499001875], [126.98299347964435, 37.47201352698226], [126.98284851624207, 37.4723021601813], [126.98269347240866, 37.47261810716878], [126.98257734572202, 37.4728591076216], [126.98240632529676, 37.47321652526236], [126.982303315453, 37.4734359042381], [126.98217244523578, 37.47371891428589], [126.98215331224895, 37.47378247553645], [126.98214497406397, 37.47381210819214], [126.9818486467481, 37.47507516607768], [126.98181841124915, 37.47530716994229], [126.98174389368735, 37.47592961578054], [126.98170806182856, 37.47629224455465], [126.98169584269972, 37.4765303574679], [126.9820812435695, 37.48457569300055], [126.98212541667938, 37.48539156003615], [126.98212594664638, 37.485401304250075], [126.98265560624678, 37.49089146346127], [126.98275300671754, 37.492318972753445], [126.98289128140325, 37.495767806853856], [126.98291099614755, 37.49651498164328], [126.98291264674427, 37.49656239036301], [126.9829297178023, 37.49699358440726], [126.98299393767773, 37.49709698438808], [126.98302987114437, 37.49715307808954], [126.98319567888943, 37.497374245877815], [126.98538718867434, 37.49985897995155], [126.98342618285947, 37.50124828678952], [126.98039694826355, 37.50458969513248], [126.98040672662873, 37.5065362897333], [126.9824128451054, 37.5065330117685], [126.98316517932905, 37.50651989675191], [126.9838236839766, 37.50652050292752], [126.9855321571263, 37.50654237892677], [126.98554764158752, 37.506543091737434], [126.98620752133297, 37.50739567677136], [126.98771401590916, 37.509332727070436], [126.98809486087553, 37.50981672523019], [126.98981312726907, 37.511973817846446], [126.99029938691216, 37.51258495315584], [126.99070234073508, 37.51309032365475], [126.99584667326984, 37.51636102836289], [126.99742831617398, 37.517357838932725], [127.00249420600797, 37.52067368055248], [127.00319248904668, 37.521160996144594], [127.00319310984193, 37.521165848043665], [127.00765736980212, 37.52465455692122], [127.00857748177432, 37.52559552160008], [127.0121174730835, 37.52327269531339]]]], &quot;type&quot;: &quot;MultiPolygon&quot;}, &quot;properties&quot;: {&quot;base_year&quot;: &quot;2018&quot;, &quot;code&quot;: &quot;11220&quot;, &quot;name&quot;: &quot;\\uc11c\\ucd08\\uad6c&quot;, &quot;name_eng&quot;: &quot;Seocho-gu&quot;}, &quot;type&quot;: &quot;Feature&quot;}, {&quot;geometry&quot;: {&quot;coordinates&quot;: [[[[127.06544730806671, 37.52505302917654], [127.06747910492537, 37.52458218650356], [127.06751144635363, 37.523417796757634], [127.06758889056701, 37.52087648818812], [127.06766796559802, 37.51986886059256], [127.06773115402066, 37.5193188386729], [127.06789761859937, 37.51838917516127], [127.06841771512224, 37.51428011860499], [127.06860927151207, 37.51257846868971], [127.06874643047416, 37.51134788193052], [127.0688212349275, 37.510676712474], [127.06886805705334, 37.51029988842771], [127.069178762574, 37.507799224582996], [127.0692662712787, 37.50707387500493], [127.06937384665075, 37.5061564530088], [127.06958940501245, 37.50430593151663], [127.06968375766266, 37.50347048071932], [127.06980805999102, 37.50277665946743], [127.06981486924425, 37.50273869556277], [127.07216501603747, 37.50250992073006], [127.07353824605346, 37.50238595580538], [127.07358892946823, 37.50238157788957], [127.07392793027226, 37.50235216929568], [127.0748919093199, 37.50226492584691], [127.07607374016105, 37.502156650830244], [127.07698678090398, 37.50207183672402], [127.07782254570351, 37.50179937821036], [127.08211035605994, 37.50036307487277], [127.08338379785461, 37.499939843079], [127.09114685472181, 37.497706812943434], [127.09587059243532, 37.4962976670235], [127.10169876001436, 37.49355576063504], [127.10337598813449, 37.49277603320451], [127.10789095910295, 37.489046355497244], [127.1116546014832, 37.48379400478347], [127.11198071585828, 37.4832654240747], [127.11227699239784, 37.482787148764515], [127.11262369841911, 37.482236400698426], [127.11298086114343, 37.48170417638741], [127.11425626194014, 37.479974955294004], [127.1155698694524, 37.47821522655233], [127.11603070338145, 37.47759801835366], [127.1165792613796, 37.47688554108469], [127.11742841859889, 37.47577878534076], [127.11970334735067, 37.47276079451611], [127.12084146554076, 37.471186961863815], [127.12337785601797, 37.46767368697676], [127.12420688080829, 37.466520485914515], [127.1241432676594, 37.466495214786256], [127.12376697135583, 37.4663334243992], [127.12320225897348, 37.465978669689555], [127.12185946719671, 37.4651339522826], [127.11747484988372, 37.462200610088956], [127.11747077271515, 37.46219498317628], [127.11711993970741, 37.461677537548866], [127.11698929539779, 37.461484508231514], [127.1169396589959, 37.460900309097795], [127.11689967803116, 37.46040113923713], [127.11689489605689, 37.458640421172866], [127.11669702873284, 37.45862325748916], [127.11623941190035, 37.45859611399791], [127.1158929122454, 37.45859194436388], [127.1154960688439, 37.458697916594346], [127.11547664943663, 37.45870440454893], [127.11395536537135, 37.459516766117275], [127.11363425961751, 37.45973246494915], [127.11353635557944, 37.45980154740623], [127.11341975664047, 37.45990076894191], [127.11276328573584, 37.460530250098785], [127.11290865104385, 37.46064192893116], [127.1131848637613, 37.46075823091809], [127.11329182704627, 37.460836409546445], [127.11333484655827, 37.460905349874636], [127.11333484496166, 37.46090565993974], [127.1133338748721, 37.46108724530914], [127.11222980318432, 37.46150499873251], [127.11182027142836, 37.46164419084958], [127.10868615877925, 37.46215642082139], [127.10688007541606, 37.462369501803174], [127.1066720864287, 37.462410511446], [127.10646723498677, 37.462423929515424], [127.10616731385446, 37.46240645426298], [127.10434135823188, 37.46217434517301], [127.10447230372728, 37.46102952657086], [127.10394160814988, 37.460050593345706], [127.10381093832616, 37.45992765593974], [127.09930610868457, 37.45667755578753], [127.09823746125537, 37.4563712466055], [127.09522278273491, 37.456394227058304], [127.09537453428284, 37.45719735668539], [127.09543971669305, 37.45756047391742], [127.09571819604585, 37.460694820262844], [127.09565654413129, 37.46101507766347], [127.09531875660967, 37.460989847701484], [127.09487828024201, 37.46098070931629], [127.09435536557973, 37.46097738138066], [127.09308863532038, 37.461280287856965], [127.09190976630984, 37.462306430558094], [127.09202082589604, 37.46363426344266], [127.09206801343456, 37.46388327372783], [127.09204934342016, 37.4646446815854], [127.09204155658584, 37.464918159811276], [127.091947373871, 37.46522602428245], [127.0916179208453, 37.46571888158445], [127.09043006878245, 37.46714836747454], [127.08676149380985, 37.47070202348379], [127.08660413570965, 37.47084991886608], [127.08588608920553, 37.47121497217722], [127.0851130913697, 37.471290728000696], [127.08501667441267, 37.471300183655906], [127.08456564331235, 37.47216697901681], [127.08413589728086, 37.47300028420671], [127.08446054352085, 37.47514386501599], [127.08493924600982, 37.475660722280374], [127.08447847210752, 37.47579663833734], [127.08176024036436, 37.475444123933606], [127.07899330876911, 37.47491604558583], [127.07796312662701, 37.474854448816785], [127.07690947544005, 37.47521716088978], [127.07290543286476, 37.4721721603544], [127.07268871083842, 37.471995203343454], [127.07074789358441, 37.47141673258518], [127.06965629098538, 37.4711056834015], [127.0685907790899, 37.47106171074949], [127.0664682459764, 37.47017515711895], [127.06594149272554, 37.46984115524768], [127.06550736612736, 37.46952326733121], [127.0632466373456, 37.46907929805809], [127.06215292002129, 37.46911874308971], [127.05910973116087, 37.469158991090374], [127.0571863842218, 37.46894351003526], [127.05493724871368, 37.468565315088206], [127.05331322120166, 37.468127826580975], [127.05196819885546, 37.46774599484185], [127.05095171547278, 37.46758491143215], [127.05111994941545, 37.468537813160545], [127.05105042186187, 37.46936523386942], [127.05044604187846, 37.469734673008716], [127.0495224456833, 37.46983819795019], [127.04885925456526, 37.469893066642484], [127.05090015569024, 37.47181037680006], [127.04980022174108, 37.47287149292963], [127.04540389751747, 37.477112514168624], [127.0453577976187, 37.47715704077868], [127.04531135891709, 37.477204089882065], [127.04526797423924, 37.47725294082677], [127.04522764469122, 37.47730341154509], [127.04519036628797, 37.47735541369127], [127.0451564811553, 37.477408854843446], [127.04512587555632, 37.477463467763314], [127.04509866206958, 37.47751933941766], [127.04404934906592, 37.47984325177102], [127.04400475856225, 37.479941990675634], [127.04354383186583, 37.480167677751304], [127.04295109616147, 37.48227199560109], [127.04160792318676, 37.48523936632722], [127.04175003929338, 37.485437087727085], [127.03408715469952, 37.48436905941273], [127.03161130103366, 37.489554883846736], [127.02760065233623, 37.49795359550581], [127.02448458436844, 37.50447766155348], [127.02132633397461, 37.511101557809944], [127.02051511973522, 37.51279907971415], [127.01952531696055, 37.51611237729764], [127.01782216927248, 37.521811965816354], [127.01693961755207, 37.523024553982005], [127.01523076878426, 37.524845404753265], [127.01495339109623, 37.52456876689835], [127.0145283978167, 37.52409901850441], [127.01436506762742, 37.52390707957611], [127.01386311893008, 37.52333492937878], [127.01318734642018, 37.52258312733175], [127.0121174730835, 37.52327269531339], [127.00857748177432, 37.52559552160008], [127.01210153494804, 37.52929577525301], [127.01489568044202, 37.53220762145792], [127.0155317701902, 37.532435463716006], [127.0174399502128, 37.5340035161648], [127.0211786898245, 37.53581843745539], [127.02330345040704, 37.53579763863646], [127.03580666466924, 37.53582956539934], [127.03769424592844, 37.53582752564262], [127.03915964827696, 37.53582568016234], [127.03961490035904, 37.53582481399736], [127.0403881499905, 37.53582315700936], [127.04533290376176, 37.53444153593039], [127.04566997178793, 37.53434596917792], [127.04604434826467, 37.53423977279849], [127.04657679488355, 37.53392330324264], [127.04891941294919, 37.53251960988298], [127.05102544702143, 37.5312680960251], [127.05146823245727, 37.531003828444426], [127.05169910616739, 37.53086452638734], [127.05207108475754, 37.53063337118711], [127.05368487141529, 37.52958838043007], [127.05622154261032, 37.52833096963777], [127.06419078621448, 37.525528448797466], [127.06544730806671, 37.52505302917654]]]], &quot;type&quot;: &quot;MultiPolygon&quot;}, &quot;properties&quot;: {&quot;base_year&quot;: &quot;2018&quot;, &quot;code&quot;: &quot;11230&quot;, &quot;name&quot;: &quot;\\uac15\\ub0a8\\uad6c&quot;, &quot;name_eng&quot;: &quot;Gangnam-gu&quot;}, &quot;type&quot;: &quot;Feature&quot;}, {&quot;geometry&quot;: {&quot;coordinates&quot;: [[[[127.12344237458899, 37.53864625174143], [127.12142692338865, 37.533058577634], [127.1214232942917, 37.53305888327777], [127.11929067963428, 37.52787257788642], [127.12870491403204, 37.52371454282713], [127.13386836260304, 37.52143324602228], [127.13842680727642, 37.51931749078148], [127.13856931403005, 37.519355492895066], [127.14081589401046, 37.51836553502401], [127.14250477851805, 37.51761450680394], [127.14509193596389, 37.51683494815689], [127.1453288592654, 37.51660715795943], [127.14538965795137, 37.51651332689791], [127.14543403964367, 37.51642852501652], [127.14544427296202, 37.51633278176456], [127.14543916573811, 37.51606474172115], [127.14485430067985, 37.51567802466811], [127.14475438254533, 37.5156454843563], [127.1446035514429, 37.5156062487087], [127.14337411558229, 37.515577602411284], [127.14210518769946, 37.51466010365649], [127.14023773604391, 37.50985352302276], [127.13996581203968, 37.508640884568784], [127.14001384513232, 37.508524536400834], [127.14032052050622, 37.508273590767686], [127.14135345384898, 37.50694790742122], [127.14147949226368, 37.50677882154182], [127.14151664992602, 37.50670810266013], [127.14151309827719, 37.50670219698032], [127.14126852543748, 37.50641867228786], [127.14117786135054, 37.50631882265546], [127.14099714658454, 37.506163893846235], [127.1408128489952, 37.50597856807869], [127.14113191199611, 37.505463776267106], [127.14223298761027, 37.5048844168083], [127.14342402659838, 37.50441363609581], [127.14392479909421, 37.504400924081644], [127.14410326494442, 37.50439648278571], [127.14550250098304, 37.503305705322845], [127.14595206560556, 37.5032268864895], [127.14769492103265, 37.50321206538758], [127.14860243536484, 37.5037228228092], [127.14904511255733, 37.50400073337204], [127.15082434833758, 37.504061567814404], [127.15165372921953, 37.50339575230847], [127.15210914024111, 37.50297029775577], [127.15323083134814, 37.50267941745188], [127.15643795904391, 37.501859005402274], [127.1565550131589, 37.50189404461657], [127.15772923887285, 37.5031789516014], [127.15886611751519, 37.5023901962124], [127.16050427075791, 37.50109451207648], [127.16121949106041, 37.50039527386577], [127.16139030474956, 37.50020104947585], [127.16143108828791, 37.5000224793588], [127.16142016657595, 37.49970545956891], [127.16135443308924, 37.49953745906458], [127.16125092735477, 37.499390898187386], [127.16110733125561, 37.499275322831295], [127.15986640608432, 37.49570683367272], [127.15996541473676, 37.49527985991365], [127.16001826885173, 37.494707646346], [127.16002621564688, 37.4943745541629], [127.15974549846491, 37.49363667046399], [127.15970484937563, 37.493546904670524], [127.15965196300516, 37.49343435860097], [127.15951698300843, 37.49327460317779], [127.15931845568105, 37.49313662878762], [127.15764946328756, 37.490182673514965], [127.1576338029278, 37.49017178833055], [127.1574020680837, 37.48908854228848], [127.15043020175867, 37.48524889288521], [127.15021754486497, 37.48510537918658], [127.14992170939618, 37.4849057286585], [127.148683052686, 37.484043192100835], [127.14857902736314, 37.48388986346033], [127.14822520124325, 37.48336825435757], [127.14777037910684, 37.482624167493725], [127.14766978377149, 37.482425765582974], [127.14760689947494, 37.4822691695987], [127.14758794950609, 37.48222195276354], [127.14752532553702, 37.48201386342945], [127.14748230221781, 37.4818026408046], [127.147478616208, 37.48177347966324], [127.14745907182058, 37.48158945635659], [127.14739684764444, 37.480585692585485], [127.14728211377543, 37.478739627998436], [127.14715916483595, 37.477295112845276], [127.14714533131837, 37.47722179861792], [127.14584352028511, 37.47727306827354], [127.14579687815217, 37.477274916873654], [127.14575646447675, 37.477276517324796], [127.14437047450426, 37.47733114273004], [127.14364342875211, 37.47525741727404], [127.14361885761811, 37.47517065340099], [127.14360185814174, 37.47508274599262], [127.14359250967952, 37.47499412614436], [127.14357336328439, 37.47468530368326], [127.1435672286025, 37.47458630798269], [127.14352658918455, 37.4739304181604], [127.1394881491149, 37.474089616296936], [127.13833405240807, 37.474135061555046], [127.13766388381363, 37.47414791877835], [127.13684251953056, 37.47415318681356], [127.13677760978857, 37.47415548678632], [127.13639695332893, 37.47417048203141], [127.13546828407536, 37.47424021215635], [127.13528731063202, 37.47425705005961], [127.13312242924579, 37.474579859438265], [127.1328560514945, 37.47462645830652], [127.13262354309016, 37.47239535717762], [127.13282098428267, 37.46919569153006], [127.1328209553607, 37.46919420598816], [127.13279960284679, 37.46839366391436], [127.13087554349113, 37.467757568877374], [127.13083001129093, 37.46774525728489], [127.13078324239981, 37.467736073158676], [127.13073584594436, 37.467730097721], [127.13068790095315, 37.46772735645639], [127.13063981447768, 37.46772785965018], [127.13059198222986, 37.46773162386246], [127.13054470966749, 37.467738622106204], [127.13018892529146, 37.467803369345646], [127.12933858695118, 37.467959210406974], [127.12930302537004, 37.46796665500912], [127.12668129839902, 37.468621775549], [127.12644686726101, 37.46875010855133], [127.12602455101808, 37.46910587787534], [127.12570131900755, 37.469318233098164], [127.12551817283564, 37.46943048315168], [127.12537453603326, 37.4695170764045], [127.12531488636263, 37.4695528995644], [127.1252030158505, 37.46961974524381], [127.12510091724013, 37.46961365261644], [127.12494334041098, 37.46960312306634], [127.12487834264333, 37.469597279599384], [127.12485136214916, 37.469523254870694], [127.12489759667652, 37.46938552415506], [127.12504582771463, 37.468979629827295], [127.12516820478514, 37.46875143968419], [127.12518202806179, 37.46835245222408], [127.12519937245423, 37.467833230905725], [127.1249882238782, 37.46724835828133], [127.12482726845768, 37.4670015967092], [127.12475930555026, 37.46691635229195], [127.12448809616612, 37.46664352229044], [127.12420970221402, 37.4665171039455], [127.12420688080829, 37.466520485914515], [127.12337785601797, 37.46767368697676], [127.12084146554076, 37.471186961863815], [127.11970334735067, 37.47276079451611], [127.11742841859889, 37.47577878534076], [127.1165792613796, 37.47688554108469], [127.11603070338145, 37.47759801835366], [127.1155698694524, 37.47821522655233], [127.11425626194014, 37.479974955294004], [127.11298086114343, 37.48170417638741], [127.11262369841911, 37.482236400698426], [127.11227699239784, 37.482787148764515], [127.11198071585828, 37.4832654240747], [127.1116546014832, 37.48379400478347], [127.10789095910295, 37.489046355497244], [127.10337598813449, 37.49277603320451], [127.10169876001436, 37.49355576063504], [127.09587059243532, 37.4962976670235], [127.09114685472181, 37.497706812943434], [127.08338379785461, 37.499939843079], [127.08211035605994, 37.50036307487277], [127.07782254570351, 37.50179937821036], [127.07698678090398, 37.50207183672402], [127.07607374016105, 37.502156650830244], [127.0748919093199, 37.50226492584691], [127.07392793027226, 37.50235216929568], [127.07358892946823, 37.50238157788957], [127.07353824605346, 37.50238595580538], [127.07216501603747, 37.50250992073006], [127.06981486924425, 37.50273869556277], [127.06980805999102, 37.50277665946743], [127.06968375766266, 37.50347048071932], [127.06958940501245, 37.50430593151663], [127.06937384665075, 37.5061564530088], [127.0692662712787, 37.50707387500493], [127.069178762574, 37.507799224582996], [127.06886805705334, 37.51029988842771], [127.0688212349275, 37.510676712474], [127.06874643047416, 37.51134788193052], [127.06860927151207, 37.51257846868971], [127.06841771512224, 37.51428011860499], [127.06789761859937, 37.51838917516127], [127.06773115402066, 37.5193188386729], [127.06766796559802, 37.51986886059256], [127.06758889056701, 37.52087648818812], [127.06751144635363, 37.523417796757634], [127.06747910492537, 37.52458218650356], [127.07240098181579, 37.52333021751951], [127.0743183873431, 37.52286592907278], [127.07694214110053, 37.522514173892894], [127.07695436883313, 37.52251398694484], [127.07997463154842, 37.522948496312125], [127.08563283360114, 37.52476211681813], [127.08749534358789, 37.52569045247004], [127.08981364950037, 37.52684589991698], [127.09130696910889, 37.527961029057444], [127.09427588506165, 37.53030308187625], [127.10203059436252, 37.53644539546243], [127.10409418163047, 37.538081972352735], [127.1082817634447, 37.54140784863495], [127.10923890010653, 37.54316539415364], [127.10923971636981, 37.54316689400482], [127.10934385917574, 37.543167015049434], [127.1116733450523, 37.54316968895812], [127.11310483370004, 37.54317130879341], [127.11310459588658, 37.5431695747091], [127.11310241196861, 37.543153642418304], [127.11304385935277, 37.54298329281107], [127.11304881614234, 37.54298179838356], [127.11334014390273, 37.542893976444915], [127.1144539255237, 37.54256627205448], [127.11652545826458, 37.541959570570505], [127.12344237458899, 37.53864625174143]]]], &quot;type&quot;: &quot;MultiPolygon&quot;}, &quot;properties&quot;: {&quot;base_year&quot;: &quot;2018&quot;, &quot;code&quot;: &quot;11240&quot;, &quot;name&quot;: &quot;\\uc1a1\\ud30c\\uad6c&quot;, &quot;name_eng&quot;: &quot;Songpa-gu&quot;}, &quot;type&quot;: &quot;Feature&quot;}, {&quot;geometry&quot;: {&quot;coordinates&quot;: [[[[127.17668903244073, 37.579069342290886], [127.17559141925378, 37.57845491673286], [127.17544226970043, 37.57836278528333], [127.17541541507458, 37.57829862990076], [127.17540428126487, 37.57820808652491], [127.17540423424151, 37.5782077006174], [127.17536098639258, 37.57784747935142], [127.17532131667103, 37.57736334203139], [127.17532434072902, 37.577299904245315], [127.1753275528901, 37.577235136581585], [127.17568308752233, 37.574898698167836], [127.17570202897346, 37.57483166351462], [127.17610386525732, 37.574135337851544], [127.17613152443364, 37.5740885623817], [127.17630848418344, 37.57397427141854], [127.17649804066413, 37.573801388992706], [127.17694363950706, 37.57329364388023], [127.1777311312385, 37.57218791497067], [127.17781926562634, 37.57205770827359], [127.17913286127269, 37.569123694340256], [127.17914903541117, 37.5690850991228], [127.17920371727689, 37.56894648992141], [127.17922017336346, 37.568873818927564], [127.17933120710624, 37.56826577341907], [127.17937794667982, 37.56798582938336], [127.17943875389247, 37.56760084562285], [127.17946466995389, 37.56658301652593], [127.18019418051615, 37.564587874297196], [127.18099458516393, 37.56332274605246], [127.18118573209225, 37.56301696627082], [127.18127812842319, 37.56283042916966], [127.18151410900009, 37.56226751093802], [127.18190991978074, 37.5612487991362], [127.18199542120145, 37.56099244560626], [127.18204081594298, 37.56040549721851], [127.18202084612436, 37.55994782788304], [127.18202079796072, 37.55994743836844], [127.18198419440421, 37.55965551022531], [127.18178737389458, 37.558829116119696], [127.18165662795639, 37.5579983019435], [127.18135146477186, 37.553258048403904], [127.18134032696469, 37.552964964423815], [127.1814216938366, 37.55275732432377], [127.18159477212205, 37.55259235017686], [127.18170384449498, 37.55250799530243], [127.1829267456116, 37.55023535010362], [127.18284450813684, 37.54942909031863], [127.18267369230992, 37.5477473200798], [127.18265679486768, 37.547524400928815], [127.18276107481579, 37.54649942577025], [127.18279599074758, 37.546389838970356], [127.18353917115842, 37.545170394594436], [127.18169282625828, 37.54644474913138], [127.18125643774309, 37.546579715470926], [127.17991053592189, 37.54657443154738], [127.17933128131813, 37.54656742112269], [127.1760860162139, 37.545619465107656], [127.1757174201393, 37.54520770370662], [127.17538324338183, 37.54520199750085], [127.17463760414572, 37.54525912566082], [127.17447709938925, 37.54527766044751], [127.17431466293307, 37.545297323593765], [127.17390569647615, 37.54560003207294], [127.17157168992374, 37.545385772958696], [127.16516817790703, 37.54463179853773], [127.16316273052594, 37.54499101061492], [127.16009589861592, 37.541514530437105], [127.15958338000469, 37.541028223573505], [127.15671195084393, 37.53757774518583], [127.15603276352323, 37.537342413896695], [127.15402132864257, 37.5345144967954], [127.15356680124307, 37.533665192708845], [127.15374715061179, 37.53160008809987], [127.1535391056616, 37.53043671938133], [127.15323227720624, 37.52923709859446], [127.15316377578458, 37.52910880456484], [127.14947629469927, 37.52502054110397], [127.1477974332902, 37.52214947298403], [127.1459324918162, 37.52195580133707], [127.14578093939355, 37.52194137494612], [127.14480065906714, 37.51938973738377], [127.14509193596389, 37.51683494815689], [127.14250477851805, 37.51761450680394], [127.14081589401046, 37.51836553502401], [127.13856931403005, 37.519355492895066], [127.13842680727642, 37.51931749078148], [127.13386836260304, 37.52143324602228], [127.12870491403204, 37.52371454282713], [127.11929067963428, 37.52787257788642], [127.1214232942917, 37.53305888327777], [127.12142692338865, 37.533058577634], [127.12344237458899, 37.53864625174143], [127.11652545826458, 37.541959570570505], [127.1144539255237, 37.54256627205448], [127.11334014390273, 37.542893976444915], [127.11304881614234, 37.54298179838356], [127.11304385935277, 37.54298329281107], [127.11310241196861, 37.543153642418304], [127.11310459588658, 37.5431695747091], [127.11310483370004, 37.54317130879341], [127.1116733450523, 37.54316968895812], [127.10934385917574, 37.543167015049434], [127.10923971636981, 37.54316689400482], [127.10950033532019, 37.54364544073184], [127.11024351583286, 37.54501002655402], [127.11062416779798, 37.54560452043856], [127.1114707977827, 37.546926730400926], [127.11150961150881, 37.5486128190928], [127.11154690812323, 37.55038361692281], [127.1140826315613, 37.55407568555548], [127.11408829227737, 37.55408492219535], [127.114189809287, 37.554320625183166], [127.11448348920776, 37.55500385278786], [127.1146376770023, 37.55536410230976], [127.11522556154925, 37.55676018797063], [127.11564563364867, 37.55769987962405], [127.11730331874692, 37.55942564159552], [127.1173670642955, 37.55947935968795], [127.12295557042017, 37.563489901820525], [127.12807612404525, 37.565909309196805], [127.12861049382194, 37.56616043508011], [127.13087184081435, 37.5668779490725], [127.13375309941789, 37.56779331005828], [127.13426636913894, 37.56795394382144], [127.13474102698532, 37.568024641628035], [127.137665793487, 37.56842420909886], [127.14560001440859, 37.56843116899919], [127.14894954366348, 37.56843431818256], [127.15124335222247, 37.56979530128121], [127.15319599249811, 37.57096984974328], [127.15498105974297, 37.57204353683337], [127.15689916819491, 37.572954115407406], [127.16084531212606, 37.57565266261124], [127.16146811755371, 37.5760462143798], [127.16200668459653, 37.576386528565614], [127.16255503676933, 37.576730120329984], [127.16674716205108, 37.57897566578203], [127.16864750782337, 37.578997477585695], [127.16864773604172, 37.57899709154686], [127.17025143876717, 37.57901649686742], [127.17183744176506, 37.57926199001281], [127.17434341719033, 37.580028970497715], [127.17456468448731, 37.580097346058174], [127.17507432460513, 37.580255396607946], [127.17510636688122, 37.58026661197588], [127.1756591417444, 37.58056537588874], [127.17585094709973, 37.580669273234506], [127.17601761575949, 37.580761657733454], [127.17637876645895, 37.58095906079552], [127.17651851009599, 37.58103431090415], [127.17715482825524, 37.58120032767144], [127.17714288072239, 37.57985826500337], [127.17706037119414, 37.57954433949501], [127.17698860315724, 37.579416335196896], [127.17693589639289, 37.57934067669176], [127.17688336067563, 37.57926529714791], [127.17674096725122, 37.57911572021528], [127.17668903244073, 37.579069342290886]]]], &quot;type&quot;: &quot;MultiPolygon&quot;}, &quot;properties&quot;: {&quot;base_year&quot;: &quot;2018&quot;, &quot;code&quot;: &quot;11250&quot;, &quot;name&quot;: &quot;\\uac15\\ub3d9\\uad6c&quot;, &quot;name_eng&quot;: &quot;Gangdong-gu&quot;}, &quot;type&quot;: &quot;Feature&quot;}], &quot;name&quot;: &quot;seoul&quot;, &quot;type&quot;: &quot;FeatureCollection&quot;});\n",
       "\n",
       "        \n",
       "    \n",
       "    geo_json_10a31297a8eb941060981af2f5873568.bindTooltip(\n",
       "    function(layer){\n",
       "    let div = L.DomUtil.create(&#x27;div&#x27;);\n",
       "    \n",
       "    let handleObject = feature=&gt;typeof(feature)==&#x27;object&#x27; ? JSON.stringify(feature) : feature;\n",
       "    let fields = [&quot;name&quot;];\n",
       "    let aliases = [&quot;name&quot;];\n",
       "    let table = &#x27;&lt;table&gt;&#x27; +\n",
       "        String(\n",
       "        fields.map(\n",
       "        (v,i)=&gt;\n",
       "        `&lt;tr&gt;\n",
       "            &lt;td&gt;${handleObject(layer.feature.properties[v])}&lt;/td&gt;\n",
       "        &lt;/tr&gt;`).join(&#x27;&#x27;))\n",
       "    +&#x27;&lt;/table&gt;&#x27;;\n",
       "    div.innerHTML=table;\n",
       "    \n",
       "    return div\n",
       "    }\n",
       "    ,{&quot;className&quot;: &quot;foliumtooltip&quot;, &quot;sticky&quot;: true});\n",
       "                     \n",
       "    \n",
       "            var circle_marker_3f0ad35e12eb657d447e35b87a3d48a0 = L.circleMarker(\n",
       "                [37.5580972589988, 126.852670273321],\n",
       "                {&quot;bubblingMouseEvents&quot;: true, &quot;color&quot;: &quot;red&quot;, &quot;dashArray&quot;: null, &quot;dashOffset&quot;: null, &quot;fill&quot;: true, &quot;fillColor&quot;: &quot;red&quot;, &quot;fillOpacity&quot;: 0.2, &quot;fillRule&quot;: &quot;evenodd&quot;, &quot;lineCap&quot;: &quot;round&quot;, &quot;lineJoin&quot;: &quot;round&quot;, &quot;opacity&quot;: 1.0, &quot;radius&quot;: 50, &quot;stroke&quot;: true, &quot;weight&quot;: 3}\n",
       "            ).addTo(map_03370fc5c66f256379235e7baf904a67);\n",
       "        \n",
       "    \n",
       "            circle_marker_3f0ad35e12eb657d447e35b87a3d48a0.bindTooltip(\n",
       "                `&lt;div&gt;\n",
       "                     [&#x27;경복비즈니스고등학교&#x27;]\n",
       "                 &lt;/div&gt;`,\n",
       "                {&quot;sticky&quot;: true}\n",
       "            );\n",
       "        \n",
       "    \n",
       "            var circle_marker_0b227158ac708f87cefa7d1378c314d9 = L.circleMarker(\n",
       "                [37.5578218303652, 126.850595718037],\n",
       "                {&quot;bubblingMouseEvents&quot;: true, &quot;color&quot;: &quot;red&quot;, &quot;dashArray&quot;: null, &quot;dashOffset&quot;: null, &quot;fill&quot;: true, &quot;fillColor&quot;: &quot;red&quot;, &quot;fillOpacity&quot;: 0.2, &quot;fillRule&quot;: &quot;evenodd&quot;, &quot;lineCap&quot;: &quot;round&quot;, &quot;lineJoin&quot;: &quot;round&quot;, &quot;opacity&quot;: 1.0, &quot;radius&quot;: 50, &quot;stroke&quot;: true, &quot;weight&quot;: 3}\n",
       "            ).addTo(map_03370fc5c66f256379235e7baf904a67);\n",
       "        \n",
       "    \n",
       "            circle_marker_0b227158ac708f87cefa7d1378c314d9.bindTooltip(\n",
       "                `&lt;div&gt;\n",
       "                     [&#x27;경복여자고등학교&#x27;]\n",
       "                 &lt;/div&gt;`,\n",
       "                {&quot;sticky&quot;: true}\n",
       "            );\n",
       "        \n",
       "    \n",
       "            var circle_marker_e76b7b143f28a1ecee247e3e6a9e6ad5 = L.circleMarker(\n",
       "                [37.4959926823743, 126.86542887783],\n",
       "                {&quot;bubblingMouseEvents&quot;: true, &quot;color&quot;: &quot;red&quot;, &quot;dashArray&quot;: null, &quot;dashOffset&quot;: null, &quot;fill&quot;: true, &quot;fillColor&quot;: &quot;red&quot;, &quot;fillOpacity&quot;: 0.2, &quot;fillRule&quot;: &quot;evenodd&quot;, &quot;lineCap&quot;: &quot;round&quot;, &quot;lineJoin&quot;: &quot;round&quot;, &quot;opacity&quot;: 1.0, &quot;radius&quot;: 50, &quot;stroke&quot;: true, &quot;weight&quot;: 3}\n",
       "            ).addTo(map_03370fc5c66f256379235e7baf904a67);\n",
       "        \n",
       "    \n",
       "            circle_marker_e76b7b143f28a1ecee247e3e6a9e6ad5.bindTooltip(\n",
       "                `&lt;div&gt;\n",
       "                     [&#x27;경인고등학교&#x27;]\n",
       "                 &lt;/div&gt;`,\n",
       "                {&quot;sticky&quot;: true}\n",
       "            );\n",
       "        \n",
       "    \n",
       "            var circle_marker_d3edb31eba134454cd97589e6c0b4781 = L.circleMarker(\n",
       "                [37.560461810282, 127.158546302765],\n",
       "                {&quot;bubblingMouseEvents&quot;: true, &quot;color&quot;: &quot;red&quot;, &quot;dashArray&quot;: null, &quot;dashOffset&quot;: null, &quot;fill&quot;: true, &quot;fillColor&quot;: &quot;red&quot;, &quot;fillOpacity&quot;: 0.2, &quot;fillRule&quot;: &quot;evenodd&quot;, &quot;lineCap&quot;: &quot;round&quot;, &quot;lineJoin&quot;: &quot;round&quot;, &quot;opacity&quot;: 1.0, &quot;radius&quot;: 50, &quot;stroke&quot;: true, &quot;weight&quot;: 3}\n",
       "            ).addTo(map_03370fc5c66f256379235e7baf904a67);\n",
       "        \n",
       "    \n",
       "            circle_marker_d3edb31eba134454cd97589e6c0b4781.bindTooltip(\n",
       "                `&lt;div&gt;\n",
       "                     [&#x27;광문고등학교&#x27;]\n",
       "                 &lt;/div&gt;`,\n",
       "                {&quot;sticky&quot;: true}\n",
       "            );\n",
       "        \n",
       "    \n",
       "            var circle_marker_1c7dc0897e1bd7ca263fc825d735618b = L.circleMarker(\n",
       "                [37.4644762024804, 126.925940565455],\n",
       "                {&quot;bubblingMouseEvents&quot;: true, &quot;color&quot;: &quot;red&quot;, &quot;dashArray&quot;: null, &quot;dashOffset&quot;: null, &quot;fill&quot;: true, &quot;fillColor&quot;: &quot;red&quot;, &quot;fillOpacity&quot;: 0.2, &quot;fillRule&quot;: &quot;evenodd&quot;, &quot;lineCap&quot;: &quot;round&quot;, &quot;lineJoin&quot;: &quot;round&quot;, &quot;opacity&quot;: 1.0, &quot;radius&quot;: 50, &quot;stroke&quot;: true, &quot;weight&quot;: 3}\n",
       "            ).addTo(map_03370fc5c66f256379235e7baf904a67);\n",
       "        \n",
       "    \n",
       "            circle_marker_1c7dc0897e1bd7ca263fc825d735618b.bindTooltip(\n",
       "                `&lt;div&gt;\n",
       "                     [&#x27;광신고등학교&#x27;]\n",
       "                 &lt;/div&gt;`,\n",
       "                {&quot;sticky&quot;: true}\n",
       "            );\n",
       "        \n",
       "    \n",
       "            var circle_marker_2264c50178118888ddac88ad3c993bb3 = L.circleMarker(\n",
       "                [37.4644762024804, 126.925940565455],\n",
       "                {&quot;bubblingMouseEvents&quot;: true, &quot;color&quot;: &quot;red&quot;, &quot;dashArray&quot;: null, &quot;dashOffset&quot;: null, &quot;fill&quot;: true, &quot;fillColor&quot;: &quot;red&quot;, &quot;fillOpacity&quot;: 0.2, &quot;fillRule&quot;: &quot;evenodd&quot;, &quot;lineCap&quot;: &quot;round&quot;, &quot;lineJoin&quot;: &quot;round&quot;, &quot;opacity&quot;: 1.0, &quot;radius&quot;: 50, &quot;stroke&quot;: true, &quot;weight&quot;: 3}\n",
       "            ).addTo(map_03370fc5c66f256379235e7baf904a67);\n",
       "        \n",
       "    \n",
       "            circle_marker_2264c50178118888ddac88ad3c993bb3.bindTooltip(\n",
       "                `&lt;div&gt;\n",
       "                     [&#x27;광신방송예술고등학교&#x27;]\n",
       "                 &lt;/div&gt;`,\n",
       "                {&quot;sticky&quot;: true}\n",
       "            );\n",
       "        \n",
       "    \n",
       "            var circle_marker_38731efd8e1afe5905d8b8e91baa003b = L.circleMarker(\n",
       "                [37.4924598533601, 126.949783193871],\n",
       "                {&quot;bubblingMouseEvents&quot;: true, &quot;color&quot;: &quot;red&quot;, &quot;dashArray&quot;: null, &quot;dashOffset&quot;: null, &quot;fill&quot;: true, &quot;fillColor&quot;: &quot;red&quot;, &quot;fillOpacity&quot;: 0.2, &quot;fillRule&quot;: &quot;evenodd&quot;, &quot;lineCap&quot;: &quot;round&quot;, &quot;lineJoin&quot;: &quot;round&quot;, &quot;opacity&quot;: 1.0, &quot;radius&quot;: 50, &quot;stroke&quot;: true, &quot;weight&quot;: 3}\n",
       "            ).addTo(map_03370fc5c66f256379235e7baf904a67);\n",
       "        \n",
       "    \n",
       "            circle_marker_38731efd8e1afe5905d8b8e91baa003b.bindTooltip(\n",
       "                `&lt;div&gt;\n",
       "                     [&#x27;구암고등학교&#x27;]\n",
       "                 &lt;/div&gt;`,\n",
       "                {&quot;sticky&quot;: true}\n",
       "            );\n",
       "        \n",
       "    \n",
       "            var circle_marker_c3168cab0e17d323ef013788014adf48 = L.circleMarker(\n",
       "                [37.4935052933826, 126.874618469825],\n",
       "                {&quot;bubblingMouseEvents&quot;: true, &quot;color&quot;: &quot;red&quot;, &quot;dashArray&quot;: null, &quot;dashOffset&quot;: null, &quot;fill&quot;: true, &quot;fillColor&quot;: &quot;red&quot;, &quot;fillOpacity&quot;: 0.2, &quot;fillRule&quot;: &quot;evenodd&quot;, &quot;lineCap&quot;: &quot;round&quot;, &quot;lineJoin&quot;: &quot;round&quot;, &quot;opacity&quot;: 1.0, &quot;radius&quot;: 50, &quot;stroke&quot;: true, &quot;weight&quot;: 3}\n",
       "            ).addTo(map_03370fc5c66f256379235e7baf904a67);\n",
       "        \n",
       "    \n",
       "            circle_marker_c3168cab0e17d323ef013788014adf48.bindTooltip(\n",
       "                `&lt;div&gt;\n",
       "                     [&#x27;구일고등학교&#x27;]\n",
       "                 &lt;/div&gt;`,\n",
       "                {&quot;sticky&quot;: true}\n",
       "            );\n",
       "        \n",
       "    \n",
       "            var circle_marker_9ecd7c4a92e24e876598311309f32b8f = L.circleMarker(\n",
       "                [37.5109653172242, 126.843971681779],\n",
       "                {&quot;bubblingMouseEvents&quot;: true, &quot;color&quot;: &quot;red&quot;, &quot;dashArray&quot;: null, &quot;dashOffset&quot;: null, &quot;fill&quot;: true, &quot;fillColor&quot;: &quot;red&quot;, &quot;fillOpacity&quot;: 0.2, &quot;fillRule&quot;: &quot;evenodd&quot;, &quot;lineCap&quot;: &quot;round&quot;, &quot;lineJoin&quot;: &quot;round&quot;, &quot;opacity&quot;: 1.0, &quot;radius&quot;: 50, &quot;stroke&quot;: true, &quot;weight&quot;: 3}\n",
       "            ).addTo(map_03370fc5c66f256379235e7baf904a67);\n",
       "        \n",
       "    \n",
       "            circle_marker_9ecd7c4a92e24e876598311309f32b8f.bindTooltip(\n",
       "                `&lt;div&gt;\n",
       "                     [&#x27;금옥여자고등학교&#x27;]\n",
       "                 &lt;/div&gt;`,\n",
       "                {&quot;sticky&quot;: true}\n",
       "            );\n",
       "        \n",
       "    \n",
       "            var circle_marker_ec06d0565fca35e22e77518c715e24b4 = L.circleMarker(\n",
       "                [37.4448950223082, 126.904901769267],\n",
       "                {&quot;bubblingMouseEvents&quot;: true, &quot;color&quot;: &quot;red&quot;, &quot;dashArray&quot;: null, &quot;dashOffset&quot;: null, &quot;fill&quot;: true, &quot;fillColor&quot;: &quot;red&quot;, &quot;fillOpacity&quot;: 0.2, &quot;fillRule&quot;: &quot;evenodd&quot;, &quot;lineCap&quot;: &quot;round&quot;, &quot;lineJoin&quot;: &quot;round&quot;, &quot;opacity&quot;: 1.0, &quot;radius&quot;: 50, &quot;stroke&quot;: true, &quot;weight&quot;: 3}\n",
       "            ).addTo(map_03370fc5c66f256379235e7baf904a67);\n",
       "        \n",
       "    \n",
       "            circle_marker_ec06d0565fca35e22e77518c715e24b4.bindTooltip(\n",
       "                `&lt;div&gt;\n",
       "                     [&#x27;금천고등학교&#x27;]\n",
       "                 &lt;/div&gt;`,\n",
       "                {&quot;sticky&quot;: true}\n",
       "            );\n",
       "        \n",
       "    \n",
       "            var circle_marker_e88be77e9796c1bea648733c95a5acc7 = L.circleMarker(\n",
       "                [37.6855689580624, 127.049932683549],\n",
       "                {&quot;bubblingMouseEvents&quot;: true, &quot;color&quot;: &quot;red&quot;, &quot;dashArray&quot;: null, &quot;dashOffset&quot;: null, &quot;fill&quot;: true, &quot;fillColor&quot;: &quot;red&quot;, &quot;fillOpacity&quot;: 0.2, &quot;fillRule&quot;: &quot;evenodd&quot;, &quot;lineCap&quot;: &quot;round&quot;, &quot;lineJoin&quot;: &quot;round&quot;, &quot;opacity&quot;: 1.0, &quot;radius&quot;: 50, &quot;stroke&quot;: true, &quot;weight&quot;: 3}\n",
       "            ).addTo(map_03370fc5c66f256379235e7baf904a67);\n",
       "        \n",
       "    \n",
       "            circle_marker_e88be77e9796c1bea648733c95a5acc7.bindTooltip(\n",
       "                `&lt;div&gt;\n",
       "                     [&#x27;누원고등학교&#x27;]\n",
       "                 &lt;/div&gt;`,\n",
       "                {&quot;sticky&quot;: true}\n",
       "            );\n",
       "        \n",
       "    \n",
       "            var circle_marker_9d7402cc3946d788b0b2b483cfcd2a69 = L.circleMarker(\n",
       "                [37.4917603442825, 126.934246405052],\n",
       "                {&quot;bubblingMouseEvents&quot;: true, &quot;color&quot;: &quot;red&quot;, &quot;dashArray&quot;: null, &quot;dashOffset&quot;: null, &quot;fill&quot;: true, &quot;fillColor&quot;: &quot;red&quot;, &quot;fillOpacity&quot;: 0.2, &quot;fillRule&quot;: &quot;evenodd&quot;, &quot;lineCap&quot;: &quot;round&quot;, &quot;lineJoin&quot;: &quot;round&quot;, &quot;opacity&quot;: 1.0, &quot;radius&quot;: 50, &quot;stroke&quot;: true, &quot;weight&quot;: 3}\n",
       "            ).addTo(map_03370fc5c66f256379235e7baf904a67);\n",
       "        \n",
       "    \n",
       "            circle_marker_9d7402cc3946d788b0b2b483cfcd2a69.bindTooltip(\n",
       "                `&lt;div&gt;\n",
       "                     [&#x27;당곡고등학교&#x27;]\n",
       "                 &lt;/div&gt;`,\n",
       "                {&quot;sticky&quot;: true}\n",
       "            );\n",
       "        \n",
       "    \n",
       "            var circle_marker_74363691ef0b6bcd1ae930cf80e1bf61 = L.circleMarker(\n",
       "                [37.6231422778381, 126.909790703133],\n",
       "                {&quot;bubblingMouseEvents&quot;: true, &quot;color&quot;: &quot;red&quot;, &quot;dashArray&quot;: null, &quot;dashOffset&quot;: null, &quot;fill&quot;: true, &quot;fillColor&quot;: &quot;red&quot;, &quot;fillOpacity&quot;: 0.2, &quot;fillRule&quot;: &quot;evenodd&quot;, &quot;lineCap&quot;: &quot;round&quot;, &quot;lineJoin&quot;: &quot;round&quot;, &quot;opacity&quot;: 1.0, &quot;radius&quot;: 50, &quot;stroke&quot;: true, &quot;weight&quot;: 3}\n",
       "            ).addTo(map_03370fc5c66f256379235e7baf904a67);\n",
       "        \n",
       "    \n",
       "            circle_marker_74363691ef0b6bcd1ae930cf80e1bf61.bindTooltip(\n",
       "                `&lt;div&gt;\n",
       "                     [&#x27;대성고등학교&#x27;]\n",
       "                 &lt;/div&gt;`,\n",
       "                {&quot;sticky&quot;: true}\n",
       "            );\n",
       "        \n",
       "    \n",
       "            var circle_marker_fde066b6c34371a5b5119f077601644c = L.circleMarker(\n",
       "                [37.6461248249441, 127.06719658578],\n",
       "                {&quot;bubblingMouseEvents&quot;: true, &quot;color&quot;: &quot;red&quot;, &quot;dashArray&quot;: null, &quot;dashOffset&quot;: null, &quot;fill&quot;: true, &quot;fillColor&quot;: &quot;red&quot;, &quot;fillOpacity&quot;: 0.2, &quot;fillRule&quot;: &quot;evenodd&quot;, &quot;lineCap&quot;: &quot;round&quot;, &quot;lineJoin&quot;: &quot;round&quot;, &quot;opacity&quot;: 1.0, &quot;radius&quot;: 50, &quot;stroke&quot;: true, &quot;weight&quot;: 3}\n",
       "            ).addTo(map_03370fc5c66f256379235e7baf904a67);\n",
       "        \n",
       "    \n",
       "            circle_marker_fde066b6c34371a5b5119f077601644c.bindTooltip(\n",
       "                `&lt;div&gt;\n",
       "                     [&#x27;대진여자고등학교&#x27;]\n",
       "                 &lt;/div&gt;`,\n",
       "                {&quot;sticky&quot;: true}\n",
       "            );\n",
       "        \n",
       "    \n",
       "            var circle_marker_102c142dc010d80c3f505d219e0f21b4 = L.circleMarker(\n",
       "                [37.5486225773288, 126.829024518952],\n",
       "                {&quot;bubblingMouseEvents&quot;: true, &quot;color&quot;: &quot;red&quot;, &quot;dashArray&quot;: null, &quot;dashOffset&quot;: null, &quot;fill&quot;: true, &quot;fillColor&quot;: &quot;red&quot;, &quot;fillOpacity&quot;: 0.2, &quot;fillRule&quot;: &quot;evenodd&quot;, &quot;lineCap&quot;: &quot;round&quot;, &quot;lineJoin&quot;: &quot;round&quot;, &quot;opacity&quot;: 1.0, &quot;radius&quot;: 50, &quot;stroke&quot;: true, &quot;weight&quot;: 3}\n",
       "            ).addTo(map_03370fc5c66f256379235e7baf904a67);\n",
       "        \n",
       "    \n",
       "            circle_marker_102c142dc010d80c3f505d219e0f21b4.bindTooltip(\n",
       "                `&lt;div&gt;\n",
       "                     [&#x27;덕원여자고등학교&#x27;]\n",
       "                 &lt;/div&gt;`,\n",
       "                {&quot;sticky&quot;: true}\n",
       "            );\n",
       "        \n",
       "    \n",
       "            var circle_marker_d03857c1f568b51c18f9c8a8e76151fe = L.circleMarker(\n",
       "                [37.6867550062856, 127.042578432977],\n",
       "                {&quot;bubblingMouseEvents&quot;: true, &quot;color&quot;: &quot;red&quot;, &quot;dashArray&quot;: null, &quot;dashOffset&quot;: null, &quot;fill&quot;: true, &quot;fillColor&quot;: &quot;red&quot;, &quot;fillOpacity&quot;: 0.2, &quot;fillRule&quot;: &quot;evenodd&quot;, &quot;lineCap&quot;: &quot;round&quot;, &quot;lineJoin&quot;: &quot;round&quot;, &quot;opacity&quot;: 1.0, &quot;radius&quot;: 50, &quot;stroke&quot;: true, &quot;weight&quot;: 3}\n",
       "            ).addTo(map_03370fc5c66f256379235e7baf904a67);\n",
       "        \n",
       "    \n",
       "            circle_marker_d03857c1f568b51c18f9c8a8e76151fe.bindTooltip(\n",
       "                `&lt;div&gt;\n",
       "                     [&#x27;도봉고등학교&#x27;]\n",
       "                 &lt;/div&gt;`,\n",
       "                {&quot;sticky&quot;: true}\n",
       "            );\n",
       "        \n",
       "    \n",
       "            var circle_marker_bf3b3d225dcfa5404955a5547bd15b26 = L.circleMarker(\n",
       "                [37.5690302418497, 126.846888761424],\n",
       "                {&quot;bubblingMouseEvents&quot;: true, &quot;color&quot;: &quot;red&quot;, &quot;dashArray&quot;: null, &quot;dashOffset&quot;: null, &quot;fill&quot;: true, &quot;fillColor&quot;: &quot;red&quot;, &quot;fillOpacity&quot;: 0.2, &quot;fillRule&quot;: &quot;evenodd&quot;, &quot;lineCap&quot;: &quot;round&quot;, &quot;lineJoin&quot;: &quot;round&quot;, &quot;opacity&quot;: 1.0, &quot;radius&quot;: 50, &quot;stroke&quot;: true, &quot;weight&quot;: 3}\n",
       "            ).addTo(map_03370fc5c66f256379235e7baf904a67);\n",
       "        \n",
       "    \n",
       "            circle_marker_bf3b3d225dcfa5404955a5547bd15b26.bindTooltip(\n",
       "                `&lt;div&gt;\n",
       "                     [&#x27;동양고등학교&#x27;]\n",
       "                 &lt;/div&gt;`,\n",
       "                {&quot;sticky&quot;: true}\n",
       "            );\n",
       "        \n",
       "    \n",
       "            var circle_marker_fc172835abc675d8fac5abe906d7ead9 = L.circleMarker(\n",
       "                [37.5629452192593, 126.845046119983],\n",
       "                {&quot;bubblingMouseEvents&quot;: true, &quot;color&quot;: &quot;red&quot;, &quot;dashArray&quot;: null, &quot;dashOffset&quot;: null, &quot;fill&quot;: true, &quot;fillColor&quot;: &quot;red&quot;, &quot;fillOpacity&quot;: 0.2, &quot;fillRule&quot;: &quot;evenodd&quot;, &quot;lineCap&quot;: &quot;round&quot;, &quot;lineJoin&quot;: &quot;round&quot;, &quot;opacity&quot;: 1.0, &quot;radius&quot;: 50, &quot;stroke&quot;: true, &quot;weight&quot;: 3}\n",
       "            ).addTo(map_03370fc5c66f256379235e7baf904a67);\n",
       "        \n",
       "    \n",
       "            circle_marker_fc172835abc675d8fac5abe906d7ead9.bindTooltip(\n",
       "                `&lt;div&gt;\n",
       "                     [&#x27;등촌고등학교&#x27;]\n",
       "                 &lt;/div&gt;`,\n",
       "                {&quot;sticky&quot;: true}\n",
       "            );\n",
       "        \n",
       "    \n",
       "            var circle_marker_cac62c7562d602267845f5a40caba93b = L.circleMarker(\n",
       "                [37.5846634085871, 127.097270640409],\n",
       "                {&quot;bubblingMouseEvents&quot;: true, &quot;color&quot;: &quot;red&quot;, &quot;dashArray&quot;: null, &quot;dashOffset&quot;: null, &quot;fill&quot;: true, &quot;fillColor&quot;: &quot;red&quot;, &quot;fillOpacity&quot;: 0.2, &quot;fillRule&quot;: &quot;evenodd&quot;, &quot;lineCap&quot;: &quot;round&quot;, &quot;lineJoin&quot;: &quot;round&quot;, &quot;opacity&quot;: 1.0, &quot;radius&quot;: 50, &quot;stroke&quot;: true, &quot;weight&quot;: 3}\n",
       "            ).addTo(map_03370fc5c66f256379235e7baf904a67);\n",
       "        \n",
       "    \n",
       "            circle_marker_cac62c7562d602267845f5a40caba93b.bindTooltip(\n",
       "                `&lt;div&gt;\n",
       "                     [&#x27;면목고등학교&#x27;]\n",
       "                 &lt;/div&gt;`,\n",
       "                {&quot;sticky&quot;: true}\n",
       "            );\n",
       "        \n",
       "    \n",
       "            var circle_marker_0ae10294fbe2e635272d0287796c40c9 = L.circleMarker(\n",
       "                [37.5538694849081, 126.8339773378],\n",
       "                {&quot;bubblingMouseEvents&quot;: true, &quot;color&quot;: &quot;red&quot;, &quot;dashArray&quot;: null, &quot;dashOffset&quot;: null, &quot;fill&quot;: true, &quot;fillColor&quot;: &quot;red&quot;, &quot;fillOpacity&quot;: 0.2, &quot;fillRule&quot;: &quot;evenodd&quot;, &quot;lineCap&quot;: &quot;round&quot;, &quot;lineJoin&quot;: &quot;round&quot;, &quot;opacity&quot;: 1.0, &quot;radius&quot;: 50, &quot;stroke&quot;: true, &quot;weight&quot;: 3}\n",
       "            ).addTo(map_03370fc5c66f256379235e7baf904a67);\n",
       "        \n",
       "    \n",
       "            circle_marker_0ae10294fbe2e635272d0287796c40c9.bindTooltip(\n",
       "                `&lt;div&gt;\n",
       "                     [&#x27;명덕외국어고등학교&#x27;]\n",
       "                 &lt;/div&gt;`,\n",
       "                {&quot;sticky&quot;: true}\n",
       "            );\n",
       "        \n",
       "    \n",
       "            var circle_marker_eb8874ddc87c75cfff0cb7c2eb24a1ae = L.circleMarker(\n",
       "                [37.4489152569278, 126.898720653088],\n",
       "                {&quot;bubblingMouseEvents&quot;: true, &quot;color&quot;: &quot;red&quot;, &quot;dashArray&quot;: null, &quot;dashOffset&quot;: null, &quot;fill&quot;: true, &quot;fillColor&quot;: &quot;red&quot;, &quot;fillOpacity&quot;: 0.2, &quot;fillRule&quot;: &quot;evenodd&quot;, &quot;lineCap&quot;: &quot;round&quot;, &quot;lineJoin&quot;: &quot;round&quot;, &quot;opacity&quot;: 1.0, &quot;radius&quot;: 50, &quot;stroke&quot;: true, &quot;weight&quot;: 3}\n",
       "            ).addTo(map_03370fc5c66f256379235e7baf904a67);\n",
       "        \n",
       "    \n",
       "            circle_marker_eb8874ddc87c75cfff0cb7c2eb24a1ae.bindTooltip(\n",
       "                `&lt;div&gt;\n",
       "                     [&#x27;문일고등학교&#x27;]\n",
       "                 &lt;/div&gt;`,\n",
       "                {&quot;sticky&quot;: true}\n",
       "            );\n",
       "        \n",
       "    \n",
       "            var circle_marker_5d9c519d9ae7163cbd8e704e14e7bf25 = L.circleMarker(\n",
       "                [37.4661018035835, 126.931927855676],\n",
       "                {&quot;bubblingMouseEvents&quot;: true, &quot;color&quot;: &quot;red&quot;, &quot;dashArray&quot;: null, &quot;dashOffset&quot;: null, &quot;fill&quot;: true, &quot;fillColor&quot;: &quot;red&quot;, &quot;fillOpacity&quot;: 0.2, &quot;fillRule&quot;: &quot;evenodd&quot;, &quot;lineCap&quot;: &quot;round&quot;, &quot;lineJoin&quot;: &quot;round&quot;, &quot;opacity&quot;: 1.0, &quot;radius&quot;: 50, &quot;stroke&quot;: true, &quot;weight&quot;: 3}\n",
       "            ).addTo(map_03370fc5c66f256379235e7baf904a67);\n",
       "        \n",
       "    \n",
       "            circle_marker_5d9c519d9ae7163cbd8e704e14e7bf25.bindTooltip(\n",
       "                `&lt;div&gt;\n",
       "                     [&#x27;미림여자고등학교&#x27;]\n",
       "                 &lt;/div&gt;`,\n",
       "                {&quot;sticky&quot;: true}\n",
       "            );\n",
       "        \n",
       "    \n",
       "            var circle_marker_675a9e69bd7156153f0585772c971e02 = L.circleMarker(\n",
       "                [37.6236671693342, 127.012179171162],\n",
       "                {&quot;bubblingMouseEvents&quot;: true, &quot;color&quot;: &quot;red&quot;, &quot;dashArray&quot;: null, &quot;dashOffset&quot;: null, &quot;fill&quot;: true, &quot;fillColor&quot;: &quot;red&quot;, &quot;fillOpacity&quot;: 0.2, &quot;fillRule&quot;: &quot;evenodd&quot;, &quot;lineCap&quot;: &quot;round&quot;, &quot;lineJoin&quot;: &quot;round&quot;, &quot;opacity&quot;: 1.0, &quot;radius&quot;: 50, &quot;stroke&quot;: true, &quot;weight&quot;: 3}\n",
       "            ).addTo(map_03370fc5c66f256379235e7baf904a67);\n",
       "        \n",
       "    \n",
       "            circle_marker_675a9e69bd7156153f0585772c971e02.bindTooltip(\n",
       "                `&lt;div&gt;\n",
       "                     [&#x27;미양고등학교&#x27;]\n",
       "                 &lt;/div&gt;`,\n",
       "                {&quot;sticky&quot;: true}\n",
       "            );\n",
       "        \n",
       "    \n",
       "            var circle_marker_ec19062d4215181792dec2b1a72ce910 = L.circleMarker(\n",
       "                [37.5121962622678, 126.844376986498],\n",
       "                {&quot;bubblingMouseEvents&quot;: true, &quot;color&quot;: &quot;red&quot;, &quot;dashArray&quot;: null, &quot;dashOffset&quot;: null, &quot;fill&quot;: true, &quot;fillColor&quot;: &quot;red&quot;, &quot;fillOpacity&quot;: 0.2, &quot;fillRule&quot;: &quot;evenodd&quot;, &quot;lineCap&quot;: &quot;round&quot;, &quot;lineJoin&quot;: &quot;round&quot;, &quot;opacity&quot;: 1.0, &quot;radius&quot;: 50, &quot;stroke&quot;: true, &quot;weight&quot;: 3}\n",
       "            ).addTo(map_03370fc5c66f256379235e7baf904a67);\n",
       "        \n",
       "    \n",
       "            circle_marker_ec19062d4215181792dec2b1a72ce910.bindTooltip(\n",
       "                `&lt;div&gt;\n",
       "                     [&#x27;백암고등학교&#x27;]\n",
       "                 &lt;/div&gt;`,\n",
       "                {&quot;sticky&quot;: true}\n",
       "            );\n",
       "        \n",
       "    \n",
       "            var circle_marker_586ead598fc079eae4daa91e160dd505 = L.circleMarker(\n",
       "                [37.6491585296421, 127.080305829512],\n",
       "                {&quot;bubblingMouseEvents&quot;: true, &quot;color&quot;: &quot;red&quot;, &quot;dashArray&quot;: null, &quot;dashOffset&quot;: null, &quot;fill&quot;: true, &quot;fillColor&quot;: &quot;red&quot;, &quot;fillOpacity&quot;: 0.2, &quot;fillRule&quot;: &quot;evenodd&quot;, &quot;lineCap&quot;: &quot;round&quot;, &quot;lineJoin&quot;: &quot;round&quot;, &quot;opacity&quot;: 1.0, &quot;radius&quot;: 50, &quot;stroke&quot;: true, &quot;weight&quot;: 3}\n",
       "            ).addTo(map_03370fc5c66f256379235e7baf904a67);\n",
       "        \n",
       "    \n",
       "            circle_marker_586ead598fc079eae4daa91e160dd505.bindTooltip(\n",
       "                `&lt;div&gt;\n",
       "                     [&#x27;불암고등학교&#x27;]\n",
       "                 &lt;/div&gt;`,\n",
       "                {&quot;sticky&quot;: true}\n",
       "            );\n",
       "        \n",
       "    \n",
       "            var circle_marker_a85fbc4234631ca2cba969951197b42f = L.circleMarker(\n",
       "                [37.6162857334914, 127.020107911458],\n",
       "                {&quot;bubblingMouseEvents&quot;: true, &quot;color&quot;: &quot;red&quot;, &quot;dashArray&quot;: null, &quot;dashOffset&quot;: null, &quot;fill&quot;: true, &quot;fillColor&quot;: &quot;red&quot;, &quot;fillOpacity&quot;: 0.2, &quot;fillRule&quot;: &quot;evenodd&quot;, &quot;lineCap&quot;: &quot;round&quot;, &quot;lineJoin&quot;: &quot;round&quot;, &quot;opacity&quot;: 1.0, &quot;radius&quot;: 50, &quot;stroke&quot;: true, &quot;weight&quot;: 3}\n",
       "            ).addTo(map_03370fc5c66f256379235e7baf904a67);\n",
       "        \n",
       "    \n",
       "            circle_marker_a85fbc4234631ca2cba969951197b42f.bindTooltip(\n",
       "                `&lt;div&gt;\n",
       "                     [&#x27;삼각산고등학교&#x27;]\n",
       "                 &lt;/div&gt;`,\n",
       "                {&quot;sticky&quot;: true}\n",
       "            );\n",
       "        \n",
       "    \n",
       "            var circle_marker_1504ec2d22d3ab45c4b198f1c444bf5b = L.circleMarker(\n",
       "                [37.469107701859, 126.944010788599],\n",
       "                {&quot;bubblingMouseEvents&quot;: true, &quot;color&quot;: &quot;red&quot;, &quot;dashArray&quot;: null, &quot;dashOffset&quot;: null, &quot;fill&quot;: true, &quot;fillColor&quot;: &quot;red&quot;, &quot;fillOpacity&quot;: 0.2, &quot;fillRule&quot;: &quot;evenodd&quot;, &quot;lineCap&quot;: &quot;round&quot;, &quot;lineJoin&quot;: &quot;round&quot;, &quot;opacity&quot;: 1.0, &quot;radius&quot;: 50, &quot;stroke&quot;: true, &quot;weight&quot;: 3}\n",
       "            ).addTo(map_03370fc5c66f256379235e7baf904a67);\n",
       "        \n",
       "    \n",
       "            circle_marker_1504ec2d22d3ab45c4b198f1c444bf5b.bindTooltip(\n",
       "                `&lt;div&gt;\n",
       "                     [&#x27;삼성고등학교&#x27;]\n",
       "                 &lt;/div&gt;`,\n",
       "                {&quot;sticky&quot;: true}\n",
       "            );\n",
       "        \n",
       "    \n",
       "            var circle_marker_1f113ce0dc3c7e643abea1cadd424bdd = L.circleMarker(\n",
       "                [37.652724684304, 127.055453430868],\n",
       "                {&quot;bubblingMouseEvents&quot;: true, &quot;color&quot;: &quot;red&quot;, &quot;dashArray&quot;: null, &quot;dashOffset&quot;: null, &quot;fill&quot;: true, &quot;fillColor&quot;: &quot;red&quot;, &quot;fillOpacity&quot;: 0.2, &quot;fillRule&quot;: &quot;evenodd&quot;, &quot;lineCap&quot;: &quot;round&quot;, &quot;lineJoin&quot;: &quot;round&quot;, &quot;opacity&quot;: 1.0, &quot;radius&quot;: 50, &quot;stroke&quot;: true, &quot;weight&quot;: 3}\n",
       "            ).addTo(map_03370fc5c66f256379235e7baf904a67);\n",
       "        \n",
       "    \n",
       "            circle_marker_1f113ce0dc3c7e643abea1cadd424bdd.bindTooltip(\n",
       "                `&lt;div&gt;\n",
       "                     [&#x27;상계고등학교&#x27;]\n",
       "                 &lt;/div&gt;`,\n",
       "                {&quot;sticky&quot;: true}\n",
       "            );\n",
       "        \n",
       "    \n",
       "            var circle_marker_d8b5c6ef703e96cd9f15ceb76b622f80 = L.circleMarker(\n",
       "                [37.5485874781342, 127.170823536325],\n",
       "                {&quot;bubblingMouseEvents&quot;: true, &quot;color&quot;: &quot;red&quot;, &quot;dashArray&quot;: null, &quot;dashOffset&quot;: null, &quot;fill&quot;: true, &quot;fillColor&quot;: &quot;red&quot;, &quot;fillOpacity&quot;: 0.2, &quot;fillRule&quot;: &quot;evenodd&quot;, &quot;lineCap&quot;: &quot;round&quot;, &quot;lineJoin&quot;: &quot;round&quot;, &quot;opacity&quot;: 1.0, &quot;radius&quot;: 50, &quot;stroke&quot;: true, &quot;weight&quot;: 3}\n",
       "            ).addTo(map_03370fc5c66f256379235e7baf904a67);\n",
       "        \n",
       "    \n",
       "            circle_marker_d8b5c6ef703e96cd9f15ceb76b622f80.bindTooltip(\n",
       "                `&lt;div&gt;\n",
       "                     [&#x27;상일여자고등학교&#x27;]\n",
       "                 &lt;/div&gt;`,\n",
       "                {&quot;sticky&quot;: true}\n",
       "            );\n",
       "        \n",
       "    \n",
       "            var circle_marker_e83adcc2c1f207d847d4074b12fe463a = L.circleMarker(\n",
       "                [37.6641314270343, 127.047285814495],\n",
       "                {&quot;bubblingMouseEvents&quot;: true, &quot;color&quot;: &quot;red&quot;, &quot;dashArray&quot;: null, &quot;dashOffset&quot;: null, &quot;fill&quot;: true, &quot;fillColor&quot;: &quot;red&quot;, &quot;fillOpacity&quot;: 0.2, &quot;fillRule&quot;: &quot;evenodd&quot;, &quot;lineCap&quot;: &quot;round&quot;, &quot;lineJoin&quot;: &quot;round&quot;, &quot;opacity&quot;: 1.0, &quot;radius&quot;: 50, &quot;stroke&quot;: true, &quot;weight&quot;: 3}\n",
       "            ).addTo(map_03370fc5c66f256379235e7baf904a67);\n",
       "        \n",
       "    \n",
       "            circle_marker_e83adcc2c1f207d847d4074b12fe463a.bindTooltip(\n",
       "                `&lt;div&gt;\n",
       "                     [&#x27;서울문화고등학교&#x27;]\n",
       "                 &lt;/div&gt;`,\n",
       "                {&quot;sticky&quot;: true}\n",
       "            );\n",
       "        \n",
       "    \n",
       "            var circle_marker_6488b1e219c3613dad3279f5259edeb1 = L.circleMarker(\n",
       "                [37.4729045674501, 126.950918062755],\n",
       "                {&quot;bubblingMouseEvents&quot;: true, &quot;color&quot;: &quot;red&quot;, &quot;dashArray&quot;: null, &quot;dashOffset&quot;: null, &quot;fill&quot;: true, &quot;fillColor&quot;: &quot;red&quot;, &quot;fillOpacity&quot;: 0.2, &quot;fillRule&quot;: &quot;evenodd&quot;, &quot;lineCap&quot;: &quot;round&quot;, &quot;lineJoin&quot;: &quot;round&quot;, &quot;opacity&quot;: 1.0, &quot;radius&quot;: 50, &quot;stroke&quot;: true, &quot;weight&quot;: 3}\n",
       "            ).addTo(map_03370fc5c66f256379235e7baf904a67);\n",
       "        \n",
       "    \n",
       "            circle_marker_6488b1e219c3613dad3279f5259edeb1.bindTooltip(\n",
       "                `&lt;div&gt;\n",
       "                     [&#x27;서울여자상업고등학교&#x27;]\n",
       "                 &lt;/div&gt;`,\n",
       "                {&quot;sticky&quot;: true}\n",
       "            );\n",
       "        \n",
       "    \n",
       "            var circle_marker_5ce90c77eea7e900d4de1e41ee71ed7d = L.circleMarker(\n",
       "                [37.6562750160952, 127.026703057445],\n",
       "                {&quot;bubblingMouseEvents&quot;: true, &quot;color&quot;: &quot;red&quot;, &quot;dashArray&quot;: null, &quot;dashOffset&quot;: null, &quot;fill&quot;: true, &quot;fillColor&quot;: &quot;red&quot;, &quot;fillOpacity&quot;: 0.2, &quot;fillRule&quot;: &quot;evenodd&quot;, &quot;lineCap&quot;: &quot;round&quot;, &quot;lineJoin&quot;: &quot;round&quot;, &quot;opacity&quot;: 1.0, &quot;radius&quot;: 50, &quot;stroke&quot;: true, &quot;weight&quot;: 3}\n",
       "            ).addTo(map_03370fc5c66f256379235e7baf904a67);\n",
       "        \n",
       "    \n",
       "            circle_marker_5ce90c77eea7e900d4de1e41ee71ed7d.bindTooltip(\n",
       "                `&lt;div&gt;\n",
       "                     [&#x27;선덕고등학교&#x27;]\n",
       "                 &lt;/div&gt;`,\n",
       "                {&quot;sticky&quot;: true}\n",
       "            );\n",
       "        \n",
       "    \n",
       "            var circle_marker_5fa72eb9a6d3687e4aa71ba0386337ac = L.circleMarker(\n",
       "                [37.6204135324231, 127.023905892641],\n",
       "                {&quot;bubblingMouseEvents&quot;: true, &quot;color&quot;: &quot;red&quot;, &quot;dashArray&quot;: null, &quot;dashOffset&quot;: null, &quot;fill&quot;: true, &quot;fillColor&quot;: &quot;red&quot;, &quot;fillOpacity&quot;: 0.2, &quot;fillRule&quot;: &quot;evenodd&quot;, &quot;lineCap&quot;: &quot;round&quot;, &quot;lineJoin&quot;: &quot;round&quot;, &quot;opacity&quot;: 1.0, &quot;radius&quot;: 50, &quot;stroke&quot;: true, &quot;weight&quot;: 3}\n",
       "            ).addTo(map_03370fc5c66f256379235e7baf904a67);\n",
       "        \n",
       "    \n",
       "            circle_marker_5fa72eb9a6d3687e4aa71ba0386337ac.bindTooltip(\n",
       "                `&lt;div&gt;\n",
       "                     [&#x27;성암국제무역고등학교&#x27;]\n",
       "                 &lt;/div&gt;`,\n",
       "                {&quot;sticky&quot;: true}\n",
       "            );\n",
       "        \n",
       "    \n",
       "            var circle_marker_e432fd1771340180687627cbad538570 = L.circleMarker(\n",
       "                [37.6562750160952, 127.026703057445],\n",
       "                {&quot;bubblingMouseEvents&quot;: true, &quot;color&quot;: &quot;red&quot;, &quot;dashArray&quot;: null, &quot;dashOffset&quot;: null, &quot;fill&quot;: true, &quot;fillColor&quot;: &quot;red&quot;, &quot;fillOpacity&quot;: 0.2, &quot;fillRule&quot;: &quot;evenodd&quot;, &quot;lineCap&quot;: &quot;round&quot;, &quot;lineJoin&quot;: &quot;round&quot;, &quot;opacity&quot;: 1.0, &quot;radius&quot;: 50, &quot;stroke&quot;: true, &quot;weight&quot;: 3}\n",
       "            ).addTo(map_03370fc5c66f256379235e7baf904a67);\n",
       "        \n",
       "    \n",
       "            circle_marker_e432fd1771340180687627cbad538570.bindTooltip(\n",
       "                `&lt;div&gt;\n",
       "                     [&#x27;세그루패션디자인고등학교&#x27;]\n",
       "                 &lt;/div&gt;`,\n",
       "                {&quot;sticky&quot;: true}\n",
       "            );\n",
       "        \n",
       "    \n",
       "            var circle_marker_13ee7e017058d94edc15944e5fb71818 = L.circleMarker(\n",
       "                [37.6058454355439, 127.106463734951],\n",
       "                {&quot;bubblingMouseEvents&quot;: true, &quot;color&quot;: &quot;red&quot;, &quot;dashArray&quot;: null, &quot;dashOffset&quot;: null, &quot;fill&quot;: true, &quot;fillColor&quot;: &quot;red&quot;, &quot;fillOpacity&quot;: 0.2, &quot;fillRule&quot;: &quot;evenodd&quot;, &quot;lineCap&quot;: &quot;round&quot;, &quot;lineJoin&quot;: &quot;round&quot;, &quot;opacity&quot;: 1.0, &quot;radius&quot;: 50, &quot;stroke&quot;: true, &quot;weight&quot;: 3}\n",
       "            ).addTo(map_03370fc5c66f256379235e7baf904a67);\n",
       "        \n",
       "    \n",
       "            circle_marker_13ee7e017058d94edc15944e5fb71818.bindTooltip(\n",
       "                `&lt;div&gt;\n",
       "                     [&#x27;송곡고등학교&#x27;]\n",
       "                 &lt;/div&gt;`,\n",
       "                {&quot;sticky&quot;: true}\n",
       "            );\n",
       "        \n",
       "    \n",
       "            var circle_marker_50339f6a53b00895938e5138aeb43967 = L.circleMarker(\n",
       "                [37.6066890425626, 127.105145451077],\n",
       "                {&quot;bubblingMouseEvents&quot;: true, &quot;color&quot;: &quot;red&quot;, &quot;dashArray&quot;: null, &quot;dashOffset&quot;: null, &quot;fill&quot;: true, &quot;fillColor&quot;: &quot;red&quot;, &quot;fillOpacity&quot;: 0.2, &quot;fillRule&quot;: &quot;evenodd&quot;, &quot;lineCap&quot;: &quot;round&quot;, &quot;lineJoin&quot;: &quot;round&quot;, &quot;opacity&quot;: 1.0, &quot;radius&quot;: 50, &quot;stroke&quot;: true, &quot;weight&quot;: 3}\n",
       "            ).addTo(map_03370fc5c66f256379235e7baf904a67);\n",
       "        \n",
       "    \n",
       "            circle_marker_50339f6a53b00895938e5138aeb43967.bindTooltip(\n",
       "                `&lt;div&gt;\n",
       "                     [&#x27;송곡관광고등학교&#x27;]\n",
       "                 &lt;/div&gt;`,\n",
       "                {&quot;sticky&quot;: true}\n",
       "            );\n",
       "        \n",
       "    \n",
       "            var circle_marker_885f47e3d17f7e5a2065be9f6eb0f905 = L.circleMarker(\n",
       "                [37.5497618629354, 126.824766247612],\n",
       "                {&quot;bubblingMouseEvents&quot;: true, &quot;color&quot;: &quot;red&quot;, &quot;dashArray&quot;: null, &quot;dashOffset&quot;: null, &quot;fill&quot;: true, &quot;fillColor&quot;: &quot;red&quot;, &quot;fillOpacity&quot;: 0.2, &quot;fillRule&quot;: &quot;evenodd&quot;, &quot;lineCap&quot;: &quot;round&quot;, &quot;lineJoin&quot;: &quot;round&quot;, &quot;opacity&quot;: 1.0, &quot;radius&quot;: 50, &quot;stroke&quot;: true, &quot;weight&quot;: 3}\n",
       "            ).addTo(map_03370fc5c66f256379235e7baf904a67);\n",
       "        \n",
       "    \n",
       "            circle_marker_885f47e3d17f7e5a2065be9f6eb0f905.bindTooltip(\n",
       "                `&lt;div&gt;\n",
       "                     [&#x27;수명고등학교&#x27;]\n",
       "                 &lt;/div&gt;`,\n",
       "                {&quot;sticky&quot;: true}\n",
       "            );\n",
       "        \n",
       "    \n",
       "            var circle_marker_eba35cad2c75ca2d19b9a35fc46c239f = L.circleMarker(\n",
       "                [37.5932748232178, 126.902403937432],\n",
       "                {&quot;bubblingMouseEvents&quot;: true, &quot;color&quot;: &quot;red&quot;, &quot;dashArray&quot;: null, &quot;dashOffset&quot;: null, &quot;fill&quot;: true, &quot;fillColor&quot;: &quot;red&quot;, &quot;fillOpacity&quot;: 0.2, &quot;fillRule&quot;: &quot;evenodd&quot;, &quot;lineCap&quot;: &quot;round&quot;, &quot;lineJoin&quot;: &quot;round&quot;, &quot;opacity&quot;: 1.0, &quot;radius&quot;: 50, &quot;stroke&quot;: true, &quot;weight&quot;: 3}\n",
       "            ).addTo(map_03370fc5c66f256379235e7baf904a67);\n",
       "        \n",
       "    \n",
       "            circle_marker_eba35cad2c75ca2d19b9a35fc46c239f.bindTooltip(\n",
       "                `&lt;div&gt;\n",
       "                     [&#x27;숭실고등학교&#x27;]\n",
       "                 &lt;/div&gt;`,\n",
       "                {&quot;sticky&quot;: true}\n",
       "            );\n",
       "        \n",
       "    \n",
       "            var circle_marker_6d027d058731c8c1e575476b3eaff0cc = L.circleMarker(\n",
       "                [37.6291325083008, 126.918748608965],\n",
       "                {&quot;bubblingMouseEvents&quot;: true, &quot;color&quot;: &quot;red&quot;, &quot;dashArray&quot;: null, &quot;dashOffset&quot;: null, &quot;fill&quot;: true, &quot;fillColor&quot;: &quot;red&quot;, &quot;fillOpacity&quot;: 0.2, &quot;fillRule&quot;: &quot;evenodd&quot;, &quot;lineCap&quot;: &quot;round&quot;, &quot;lineJoin&quot;: &quot;round&quot;, &quot;opacity&quot;: 1.0, &quot;radius&quot;: 50, &quot;stroke&quot;: true, &quot;weight&quot;: 3}\n",
       "            ).addTo(map_03370fc5c66f256379235e7baf904a67);\n",
       "        \n",
       "    \n",
       "            circle_marker_6d027d058731c8c1e575476b3eaff0cc.bindTooltip(\n",
       "                `&lt;div&gt;\n",
       "                     [&#x27;신도고등학교&#x27;]\n",
       "                 &lt;/div&gt;`,\n",
       "                {&quot;sticky&quot;: true}\n",
       "            );\n",
       "        \n",
       "    \n",
       "            var circle_marker_eff89d1f100752c6b07e78e77deaa051 = L.circleMarker(\n",
       "                [37.5140629233737, 126.88208378322],\n",
       "                {&quot;bubblingMouseEvents&quot;: true, &quot;color&quot;: &quot;red&quot;, &quot;dashArray&quot;: null, &quot;dashOffset&quot;: null, &quot;fill&quot;: true, &quot;fillColor&quot;: &quot;red&quot;, &quot;fillOpacity&quot;: 0.2, &quot;fillRule&quot;: &quot;evenodd&quot;, &quot;lineCap&quot;: &quot;round&quot;, &quot;lineJoin&quot;: &quot;round&quot;, &quot;opacity&quot;: 1.0, &quot;radius&quot;: 50, &quot;stroke&quot;: true, &quot;weight&quot;: 3}\n",
       "            ).addTo(map_03370fc5c66f256379235e7baf904a67);\n",
       "        \n",
       "    \n",
       "            circle_marker_eff89d1f100752c6b07e78e77deaa051.bindTooltip(\n",
       "                `&lt;div&gt;\n",
       "                     [&#x27;신도림고등학교&#x27;]\n",
       "                 &lt;/div&gt;`,\n",
       "                {&quot;sticky&quot;: true}\n",
       "            );\n",
       "        \n",
       "    \n",
       "            var circle_marker_9ec25841ab4e5a4160cf449676a00b94 = L.circleMarker(\n",
       "                [37.512909431854, 126.873606945101],\n",
       "                {&quot;bubblingMouseEvents&quot;: true, &quot;color&quot;: &quot;red&quot;, &quot;dashArray&quot;: null, &quot;dashOffset&quot;: null, &quot;fill&quot;: true, &quot;fillColor&quot;: &quot;red&quot;, &quot;fillOpacity&quot;: 0.2, &quot;fillRule&quot;: &quot;evenodd&quot;, &quot;lineCap&quot;: &quot;round&quot;, &quot;lineJoin&quot;: &quot;round&quot;, &quot;opacity&quot;: 1.0, &quot;radius&quot;: 50, &quot;stroke&quot;: true, &quot;weight&quot;: 3}\n",
       "            ).addTo(map_03370fc5c66f256379235e7baf904a67);\n",
       "        \n",
       "    \n",
       "            circle_marker_9ec25841ab4e5a4160cf449676a00b94.bindTooltip(\n",
       "                `&lt;div&gt;\n",
       "                     [&#x27;신목고등학교&#x27;]\n",
       "                 &lt;/div&gt;`,\n",
       "                {&quot;sticky&quot;: true}\n",
       "            );\n",
       "        \n",
       "    \n",
       "            var circle_marker_dea37af31e03361b09867b4d0bd36e44 = L.circleMarker(\n",
       "                [37.6052490449627, 127.092949934138],\n",
       "                {&quot;bubblingMouseEvents&quot;: true, &quot;color&quot;: &quot;red&quot;, &quot;dashArray&quot;: null, &quot;dashOffset&quot;: null, &quot;fill&quot;: true, &quot;fillColor&quot;: &quot;red&quot;, &quot;fillOpacity&quot;: 0.2, &quot;fillRule&quot;: &quot;evenodd&quot;, &quot;lineCap&quot;: &quot;round&quot;, &quot;lineJoin&quot;: &quot;round&quot;, &quot;opacity&quot;: 1.0, &quot;radius&quot;: 50, &quot;stroke&quot;: true, &quot;weight&quot;: 3}\n",
       "            ).addTo(map_03370fc5c66f256379235e7baf904a67);\n",
       "        \n",
       "    \n",
       "            circle_marker_dea37af31e03361b09867b4d0bd36e44.bindTooltip(\n",
       "                `&lt;div&gt;\n",
       "                     [&#x27;신현고등학교&#x27;]\n",
       "                 &lt;/div&gt;`,\n",
       "                {&quot;sticky&quot;: true}\n",
       "            );\n",
       "        \n",
       "    \n",
       "            var circle_marker_695a3f8ebc19aff24775da4a9a760406 = L.circleMarker(\n",
       "                [37.5353922607054, 126.887734285049],\n",
       "                {&quot;bubblingMouseEvents&quot;: true, &quot;color&quot;: &quot;red&quot;, &quot;dashArray&quot;: null, &quot;dashOffset&quot;: null, &quot;fill&quot;: true, &quot;fillColor&quot;: &quot;red&quot;, &quot;fillOpacity&quot;: 0.2, &quot;fillRule&quot;: &quot;evenodd&quot;, &quot;lineCap&quot;: &quot;round&quot;, &quot;lineJoin&quot;: &quot;round&quot;, &quot;opacity&quot;: 1.0, &quot;radius&quot;: 50, &quot;stroke&quot;: true, &quot;weight&quot;: 3}\n",
       "            ).addTo(map_03370fc5c66f256379235e7baf904a67);\n",
       "        \n",
       "    \n",
       "            circle_marker_695a3f8ebc19aff24775da4a9a760406.bindTooltip(\n",
       "                `&lt;div&gt;\n",
       "                     [&#x27;양정고등학교&#x27;]\n",
       "                 &lt;/div&gt;`,\n",
       "                {&quot;sticky&quot;: true}\n",
       "            );\n",
       "        \n",
       "    \n",
       "            var circle_marker_2e042590dfa12eca538f3c79535bf227 = L.circleMarker(\n",
       "                [37.5698356164942, 126.850028274704],\n",
       "                {&quot;bubblingMouseEvents&quot;: true, &quot;color&quot;: &quot;red&quot;, &quot;dashArray&quot;: null, &quot;dashOffset&quot;: null, &quot;fill&quot;: true, &quot;fillColor&quot;: &quot;red&quot;, &quot;fillOpacity&quot;: 0.2, &quot;fillRule&quot;: &quot;evenodd&quot;, &quot;lineCap&quot;: &quot;round&quot;, &quot;lineJoin&quot;: &quot;round&quot;, &quot;opacity&quot;: 1.0, &quot;radius&quot;: 50, &quot;stroke&quot;: true, &quot;weight&quot;: 3}\n",
       "            ).addTo(map_03370fc5c66f256379235e7baf904a67);\n",
       "        \n",
       "    \n",
       "            circle_marker_2e042590dfa12eca538f3c79535bf227.bindTooltip(\n",
       "                `&lt;div&gt;\n",
       "                     [&#x27;영등포공업고등학교&#x27;]\n",
       "                 &lt;/div&gt;`,\n",
       "                {&quot;sticky&quot;: true}\n",
       "            );\n",
       "        \n",
       "    \n",
       "            var circle_marker_30edcedc430b397a596ff508c5ec1f06 = L.circleMarker(\n",
       "                [37.6525485061054, 127.08350874514],\n",
       "                {&quot;bubblingMouseEvents&quot;: true, &quot;color&quot;: &quot;red&quot;, &quot;dashArray&quot;: null, &quot;dashOffset&quot;: null, &quot;fill&quot;: true, &quot;fillColor&quot;: &quot;red&quot;, &quot;fillOpacity&quot;: 0.2, &quot;fillRule&quot;: &quot;evenodd&quot;, &quot;lineCap&quot;: &quot;round&quot;, &quot;lineJoin&quot;: &quot;round&quot;, &quot;opacity&quot;: 1.0, &quot;radius&quot;: 50, &quot;stroke&quot;: true, &quot;weight&quot;: 3}\n",
       "            ).addTo(map_03370fc5c66f256379235e7baf904a67);\n",
       "        \n",
       "    \n",
       "            circle_marker_30edcedc430b397a596ff508c5ec1f06.bindTooltip(\n",
       "                `&lt;div&gt;\n",
       "                     [&#x27;영신여자고등학교&#x27;]\n",
       "                 &lt;/div&gt;`,\n",
       "                {&quot;sticky&quot;: true}\n",
       "            );\n",
       "        \n",
       "    \n",
       "            var circle_marker_3a44c0acd6243ee20c728026567aef5b = L.circleMarker(\n",
       "                [37.6146818749027, 127.02809331872],\n",
       "                {&quot;bubblingMouseEvents&quot;: true, &quot;color&quot;: &quot;red&quot;, &quot;dashArray&quot;: null, &quot;dashOffset&quot;: null, &quot;fill&quot;: true, &quot;fillColor&quot;: &quot;red&quot;, &quot;fillOpacity&quot;: 0.2, &quot;fillRule&quot;: &quot;evenodd&quot;, &quot;lineCap&quot;: &quot;round&quot;, &quot;lineJoin&quot;: &quot;round&quot;, &quot;opacity&quot;: 1.0, &quot;radius&quot;: 50, &quot;stroke&quot;: true, &quot;weight&quot;: 3}\n",
       "            ).addTo(map_03370fc5c66f256379235e7baf904a67);\n",
       "        \n",
       "    \n",
       "            circle_marker_3a44c0acd6243ee20c728026567aef5b.bindTooltip(\n",
       "                `&lt;div&gt;\n",
       "                     [&#x27;영훈고등학교&#x27;]\n",
       "                 &lt;/div&gt;`,\n",
       "                {&quot;sticky&quot;: true}\n",
       "            );\n",
       "        \n",
       "    \n",
       "            var circle_marker_b86919aecfdac4b56c76e323721123d3 = L.circleMarker(\n",
       "                [37.6152323139525, 127.085507784516],\n",
       "                {&quot;bubblingMouseEvents&quot;: true, &quot;color&quot;: &quot;red&quot;, &quot;dashArray&quot;: null, &quot;dashOffset&quot;: null, &quot;fill&quot;: true, &quot;fillColor&quot;: &quot;red&quot;, &quot;fillOpacity&quot;: 0.2, &quot;fillRule&quot;: &quot;evenodd&quot;, &quot;lineCap&quot;: &quot;round&quot;, &quot;lineJoin&quot;: &quot;round&quot;, &quot;opacity&quot;: 1.0, &quot;radius&quot;: 50, &quot;stroke&quot;: true, &quot;weight&quot;: 3}\n",
       "            ).addTo(map_03370fc5c66f256379235e7baf904a67);\n",
       "        \n",
       "    \n",
       "            circle_marker_b86919aecfdac4b56c76e323721123d3.bindTooltip(\n",
       "                `&lt;div&gt;\n",
       "                     [&#x27;원묵고등학교&#x27;]\n",
       "                 &lt;/div&gt;`,\n",
       "                {&quot;sticky&quot;: true}\n",
       "            );\n",
       "        \n",
       "    \n",
       "            var circle_marker_298aff491665171fb1194ee1efde202c = L.circleMarker(\n",
       "                [37.6317330134184, 127.048715943694],\n",
       "                {&quot;bubblingMouseEvents&quot;: true, &quot;color&quot;: &quot;red&quot;, &quot;dashArray&quot;: null, &quot;dashOffset&quot;: null, &quot;fill&quot;: true, &quot;fillColor&quot;: &quot;red&quot;, &quot;fillOpacity&quot;: 0.2, &quot;fillRule&quot;: &quot;evenodd&quot;, &quot;lineCap&quot;: &quot;round&quot;, &quot;lineJoin&quot;: &quot;round&quot;, &quot;opacity&quot;: 1.0, &quot;radius&quot;: 50, &quot;stroke&quot;: true, &quot;weight&quot;: 3}\n",
       "            ).addTo(map_03370fc5c66f256379235e7baf904a67);\n",
       "        \n",
       "    \n",
       "            circle_marker_298aff491665171fb1194ee1efde202c.bindTooltip(\n",
       "                `&lt;div&gt;\n",
       "                     [&#x27;월계고등학교&#x27;]\n",
       "                 &lt;/div&gt;`,\n",
       "                {&quot;sticky&quot;: true}\n",
       "            );\n",
       "        \n",
       "    \n",
       "            var circle_marker_724f53ca0891b02624ef4bf6298668b2 = L.circleMarker(\n",
       "                [37.6031323992803, 127.105332396209],\n",
       "                {&quot;bubblingMouseEvents&quot;: true, &quot;color&quot;: &quot;red&quot;, &quot;dashArray&quot;: null, &quot;dashOffset&quot;: null, &quot;fill&quot;: true, &quot;fillColor&quot;: &quot;red&quot;, &quot;fillOpacity&quot;: 0.2, &quot;fillRule&quot;: &quot;evenodd&quot;, &quot;lineCap&quot;: &quot;round&quot;, &quot;lineJoin&quot;: &quot;round&quot;, &quot;opacity&quot;: 1.0, &quot;radius&quot;: 50, &quot;stroke&quot;: true, &quot;weight&quot;: 3}\n",
       "            ).addTo(map_03370fc5c66f256379235e7baf904a67);\n",
       "        \n",
       "    \n",
       "            circle_marker_724f53ca0891b02624ef4bf6298668b2.bindTooltip(\n",
       "                `&lt;div&gt;\n",
       "                     [&#x27;이화여자대학교병설미디어고등학교&#x27;]\n",
       "                 &lt;/div&gt;`,\n",
       "                {&quot;sticky&quot;: true}\n",
       "            );\n",
       "        \n",
       "    \n",
       "            var circle_marker_68188820826f197c1e5add5d638ba0a3 = L.circleMarker(\n",
       "                [37.4723107319026, 126.970485117895],\n",
       "                {&quot;bubblingMouseEvents&quot;: true, &quot;color&quot;: &quot;red&quot;, &quot;dashArray&quot;: null, &quot;dashOffset&quot;: null, &quot;fill&quot;: true, &quot;fillColor&quot;: &quot;red&quot;, &quot;fillOpacity&quot;: 0.2, &quot;fillRule&quot;: &quot;evenodd&quot;, &quot;lineCap&quot;: &quot;round&quot;, &quot;lineJoin&quot;: &quot;round&quot;, &quot;opacity&quot;: 1.0, &quot;radius&quot;: 50, &quot;stroke&quot;: true, &quot;weight&quot;: 3}\n",
       "            ).addTo(map_03370fc5c66f256379235e7baf904a67);\n",
       "        \n",
       "    \n",
       "            circle_marker_68188820826f197c1e5add5d638ba0a3.bindTooltip(\n",
       "                `&lt;div&gt;\n",
       "                     [&#x27;인헌고등학교&#x27;]\n",
       "                 &lt;/div&gt;`,\n",
       "                {&quot;sticky&quot;: true}\n",
       "            );\n",
       "        \n",
       "    \n",
       "            var circle_marker_1aebe5e7dfbf01a451e13a341615fc81 = L.circleMarker(\n",
       "                [37.6533558400471, 127.032427255133],\n",
       "                {&quot;bubblingMouseEvents&quot;: true, &quot;color&quot;: &quot;red&quot;, &quot;dashArray&quot;: null, &quot;dashOffset&quot;: null, &quot;fill&quot;: true, &quot;fillColor&quot;: &quot;red&quot;, &quot;fillOpacity&quot;: 0.2, &quot;fillRule&quot;: &quot;evenodd&quot;, &quot;lineCap&quot;: &quot;round&quot;, &quot;lineJoin&quot;: &quot;round&quot;, &quot;opacity&quot;: 1.0, &quot;radius&quot;: 50, &quot;stroke&quot;: true, &quot;weight&quot;: 3}\n",
       "            ).addTo(map_03370fc5c66f256379235e7baf904a67);\n",
       "        \n",
       "    \n",
       "            circle_marker_1aebe5e7dfbf01a451e13a341615fc81.bindTooltip(\n",
       "                `&lt;div&gt;\n",
       "                     [&#x27;정의여자고등학교&#x27;]\n",
       "                 &lt;/div&gt;`,\n",
       "                {&quot;sticky&quot;: true}\n",
       "            );\n",
       "        \n",
       "    \n",
       "            var circle_marker_2c6a5e0a65ca9fc912e4539d2a1da2d5 = L.circleMarker(\n",
       "                [37.643338571257, 126.924382489033],\n",
       "                {&quot;bubblingMouseEvents&quot;: true, &quot;color&quot;: &quot;red&quot;, &quot;dashArray&quot;: null, &quot;dashOffset&quot;: null, &quot;fill&quot;: true, &quot;fillColor&quot;: &quot;red&quot;, &quot;fillOpacity&quot;: 0.2, &quot;fillRule&quot;: &quot;evenodd&quot;, &quot;lineCap&quot;: &quot;round&quot;, &quot;lineJoin&quot;: &quot;round&quot;, &quot;opacity&quot;: 1.0, &quot;radius&quot;: 50, &quot;stroke&quot;: true, &quot;weight&quot;: 3}\n",
       "            ).addTo(map_03370fc5c66f256379235e7baf904a67);\n",
       "        \n",
       "    \n",
       "            circle_marker_2c6a5e0a65ca9fc912e4539d2a1da2d5.bindTooltip(\n",
       "                `&lt;div&gt;\n",
       "                     [&#x27;진관고등학교&#x27;]\n",
       "                 &lt;/div&gt;`,\n",
       "                {&quot;sticky&quot;: true}\n",
       "            );\n",
       "        \n",
       "    \n",
       "            var circle_marker_854e762c4b3699b3d3b779420db3737f = L.circleMarker(\n",
       "                [37.6134009168268, 127.035828005248],\n",
       "                {&quot;bubblingMouseEvents&quot;: true, &quot;color&quot;: &quot;red&quot;, &quot;dashArray&quot;: null, &quot;dashOffset&quot;: null, &quot;fill&quot;: true, &quot;fillColor&quot;: &quot;red&quot;, &quot;fillOpacity&quot;: 0.2, &quot;fillRule&quot;: &quot;evenodd&quot;, &quot;lineCap&quot;: &quot;round&quot;, &quot;lineJoin&quot;: &quot;round&quot;, &quot;opacity&quot;: 1.0, &quot;radius&quot;: 50, &quot;stroke&quot;: true, &quot;weight&quot;: 3}\n",
       "            ).addTo(map_03370fc5c66f256379235e7baf904a67);\n",
       "        \n",
       "    \n",
       "            circle_marker_854e762c4b3699b3d3b779420db3737f.bindTooltip(\n",
       "                `&lt;div&gt;\n",
       "                     [&#x27;창문여자고등학교&#x27;]\n",
       "                 &lt;/div&gt;`,\n",
       "                {&quot;sticky&quot;: true}\n",
       "            );\n",
       "        \n",
       "    \n",
       "            var circle_marker_51a3f34d266b274abd3ea110ba1bbb09 = L.circleMarker(\n",
       "                [37.6652515464657, 127.062532889006],\n",
       "                {&quot;bubblingMouseEvents&quot;: true, &quot;color&quot;: &quot;red&quot;, &quot;dashArray&quot;: null, &quot;dashOffset&quot;: null, &quot;fill&quot;: true, &quot;fillColor&quot;: &quot;red&quot;, &quot;fillOpacity&quot;: 0.2, &quot;fillRule&quot;: &quot;evenodd&quot;, &quot;lineCap&quot;: &quot;round&quot;, &quot;lineJoin&quot;: &quot;round&quot;, &quot;opacity&quot;: 1.0, &quot;radius&quot;: 50, &quot;stroke&quot;: true, &quot;weight&quot;: 3}\n",
       "            ).addTo(map_03370fc5c66f256379235e7baf904a67);\n",
       "        \n",
       "    \n",
       "            circle_marker_51a3f34d266b274abd3ea110ba1bbb09.bindTooltip(\n",
       "                `&lt;div&gt;\n",
       "                     [&#x27;청원여자고등학교&#x27;]\n",
       "                 &lt;/div&gt;`,\n",
       "                {&quot;sticky&quot;: true}\n",
       "            );\n",
       "        \n",
       "    \n",
       "            var circle_marker_a0084a95234ccc41e042762a13fcd936 = L.circleMarker(\n",
       "                [37.6416375903135, 126.936930247565],\n",
       "                {&quot;bubblingMouseEvents&quot;: true, &quot;color&quot;: &quot;red&quot;, &quot;dashArray&quot;: null, &quot;dashOffset&quot;: null, &quot;fill&quot;: true, &quot;fillColor&quot;: &quot;red&quot;, &quot;fillOpacity&quot;: 0.2, &quot;fillRule&quot;: &quot;evenodd&quot;, &quot;lineCap&quot;: &quot;round&quot;, &quot;lineJoin&quot;: &quot;round&quot;, &quot;opacity&quot;: 1.0, &quot;radius&quot;: 50, &quot;stroke&quot;: true, &quot;weight&quot;: 3}\n",
       "            ).addTo(map_03370fc5c66f256379235e7baf904a67);\n",
       "        \n",
       "    \n",
       "            circle_marker_a0084a95234ccc41e042762a13fcd936.bindTooltip(\n",
       "                `&lt;div&gt;\n",
       "                     [&#x27;하나고등학교&#x27;]\n",
       "                 &lt;/div&gt;`,\n",
       "                {&quot;sticky&quot;: true}\n",
       "            );\n",
       "        \n",
       "    \n",
       "            var circle_marker_be240b538e83d48e1c5f9f0b0e297dfc = L.circleMarker(\n",
       "                [37.5374620404618, 126.88400754353],\n",
       "                {&quot;bubblingMouseEvents&quot;: true, &quot;color&quot;: &quot;red&quot;, &quot;dashArray&quot;: null, &quot;dashOffset&quot;: null, &quot;fill&quot;: true, &quot;fillColor&quot;: &quot;red&quot;, &quot;fillOpacity&quot;: 0.2, &quot;fillRule&quot;: &quot;evenodd&quot;, &quot;lineCap&quot;: &quot;round&quot;, &quot;lineJoin&quot;: &quot;round&quot;, &quot;opacity&quot;: 1.0, &quot;radius&quot;: 50, &quot;stroke&quot;: true, &quot;weight&quot;: 3}\n",
       "            ).addTo(map_03370fc5c66f256379235e7baf904a67);\n",
       "        \n",
       "    \n",
       "            circle_marker_be240b538e83d48e1c5f9f0b0e297dfc.bindTooltip(\n",
       "                `&lt;div&gt;\n",
       "                     [&#x27;한가람고등학교&#x27;]\n",
       "                 &lt;/div&gt;`,\n",
       "                {&quot;sticky&quot;: true}\n",
       "            );\n",
       "        \n",
       "    \n",
       "            var circle_marker_a4ea110e3c57bfacc5987a4c0e2655c2 = L.circleMarker(\n",
       "                [37.5388437129063, 126.857939342826],\n",
       "                {&quot;bubblingMouseEvents&quot;: true, &quot;color&quot;: &quot;red&quot;, &quot;dashArray&quot;: null, &quot;dashOffset&quot;: null, &quot;fill&quot;: true, &quot;fillColor&quot;: &quot;red&quot;, &quot;fillOpacity&quot;: 0.2, &quot;fillRule&quot;: &quot;evenodd&quot;, &quot;lineCap&quot;: &quot;round&quot;, &quot;lineJoin&quot;: &quot;round&quot;, &quot;opacity&quot;: 1.0, &quot;radius&quot;: 50, &quot;stroke&quot;: true, &quot;weight&quot;: 3}\n",
       "            ).addTo(map_03370fc5c66f256379235e7baf904a67);\n",
       "        \n",
       "    \n",
       "            circle_marker_a4ea110e3c57bfacc5987a4c0e2655c2.bindTooltip(\n",
       "                `&lt;div&gt;\n",
       "                     [&#x27;한광고등학교&#x27;]\n",
       "                 &lt;/div&gt;`,\n",
       "                {&quot;sticky&quot;: true}\n",
       "            );\n",
       "        \n",
       "    \n",
       "            var circle_marker_7ac707dc1cb54e4448dc3987ad486a04 = L.circleMarker(\n",
       "                [37.5490844724683, 127.156927612469],\n",
       "                {&quot;bubblingMouseEvents&quot;: true, &quot;color&quot;: &quot;red&quot;, &quot;dashArray&quot;: null, &quot;dashOffset&quot;: null, &quot;fill&quot;: true, &quot;fillColor&quot;: &quot;red&quot;, &quot;fillOpacity&quot;: 0.2, &quot;fillRule&quot;: &quot;evenodd&quot;, &quot;lineCap&quot;: &quot;round&quot;, &quot;lineJoin&quot;: &quot;round&quot;, &quot;opacity&quot;: 1.0, &quot;radius&quot;: 50, &quot;stroke&quot;: true, &quot;weight&quot;: 3}\n",
       "            ).addTo(map_03370fc5c66f256379235e7baf904a67);\n",
       "        \n",
       "    \n",
       "            circle_marker_7ac707dc1cb54e4448dc3987ad486a04.bindTooltip(\n",
       "                `&lt;div&gt;\n",
       "                     [&#x27;한영고등학교&#x27;]\n",
       "                 &lt;/div&gt;`,\n",
       "                {&quot;sticky&quot;: true}\n",
       "            );\n",
       "        \n",
       "    \n",
       "            var circle_marker_a5472010dd6234c0ffa4202c13a0b4c0 = L.circleMarker(\n",
       "                [37.5490844724683, 127.156927612469],\n",
       "                {&quot;bubblingMouseEvents&quot;: true, &quot;color&quot;: &quot;red&quot;, &quot;dashArray&quot;: null, &quot;dashOffset&quot;: null, &quot;fill&quot;: true, &quot;fillColor&quot;: &quot;red&quot;, &quot;fillOpacity&quot;: 0.2, &quot;fillRule&quot;: &quot;evenodd&quot;, &quot;lineCap&quot;: &quot;round&quot;, &quot;lineJoin&quot;: &quot;round&quot;, &quot;opacity&quot;: 1.0, &quot;radius&quot;: 50, &quot;stroke&quot;: true, &quot;weight&quot;: 3}\n",
       "            ).addTo(map_03370fc5c66f256379235e7baf904a67);\n",
       "        \n",
       "    \n",
       "            circle_marker_a5472010dd6234c0ffa4202c13a0b4c0.bindTooltip(\n",
       "                `&lt;div&gt;\n",
       "                     [&#x27;한영외국어고등학교&#x27;]\n",
       "                 &lt;/div&gt;`,\n",
       "                {&quot;sticky&quot;: true}\n",
       "            );\n",
       "        \n",
       "    \n",
       "            var circle_marker_71e18a79293077936db79b8519d42b2f = L.circleMarker(\n",
       "                [37.6405502075269, 127.073619657657],\n",
       "                {&quot;bubblingMouseEvents&quot;: true, &quot;color&quot;: &quot;red&quot;, &quot;dashArray&quot;: null, &quot;dashOffset&quot;: null, &quot;fill&quot;: true, &quot;fillColor&quot;: &quot;red&quot;, &quot;fillOpacity&quot;: 0.2, &quot;fillRule&quot;: &quot;evenodd&quot;, &quot;lineCap&quot;: &quot;round&quot;, &quot;lineJoin&quot;: &quot;round&quot;, &quot;opacity&quot;: 1.0, &quot;radius&quot;: 50, &quot;stroke&quot;: true, &quot;weight&quot;: 3}\n",
       "            ).addTo(map_03370fc5c66f256379235e7baf904a67);\n",
       "        \n",
       "    \n",
       "            circle_marker_71e18a79293077936db79b8519d42b2f.bindTooltip(\n",
       "                `&lt;div&gt;\n",
       "                     [&#x27;혜성여자고등학교&#x27;]\n",
       "                 &lt;/div&gt;`,\n",
       "                {&quot;sticky&quot;: true}\n",
       "            );\n",
       "        \n",
       "    \n",
       "            var circle_marker_76deafb6b862e51dd11ac88f54c1e1ae = L.circleMarker(\n",
       "                [37.5932798745236, 127.097042711299],\n",
       "                {&quot;bubblingMouseEvents&quot;: true, &quot;color&quot;: &quot;red&quot;, &quot;dashArray&quot;: null, &quot;dashOffset&quot;: null, &quot;fill&quot;: true, &quot;fillColor&quot;: &quot;red&quot;, &quot;fillOpacity&quot;: 0.2, &quot;fillRule&quot;: &quot;evenodd&quot;, &quot;lineCap&quot;: &quot;round&quot;, &quot;lineJoin&quot;: &quot;round&quot;, &quot;opacity&quot;: 1.0, &quot;radius&quot;: 50, &quot;stroke&quot;: true, &quot;weight&quot;: 3}\n",
       "            ).addTo(map_03370fc5c66f256379235e7baf904a67);\n",
       "        \n",
       "    \n",
       "            circle_marker_76deafb6b862e51dd11ac88f54c1e1ae.bindTooltip(\n",
       "                `&lt;div&gt;\n",
       "                     [&#x27;혜원여자고등학교&#x27;]\n",
       "                 &lt;/div&gt;`,\n",
       "                {&quot;sticky&quot;: true}\n",
       "            );\n",
       "        \n",
       "    \n",
       "            var circle_marker_3db1bf51c22336c6e34fb371c460a694 = L.circleMarker(\n",
       "                [37.6313084157842, 127.013212021303],\n",
       "                {&quot;bubblingMouseEvents&quot;: true, &quot;color&quot;: &quot;red&quot;, &quot;dashArray&quot;: null, &quot;dashOffset&quot;: null, &quot;fill&quot;: true, &quot;fillColor&quot;: &quot;red&quot;, &quot;fillOpacity&quot;: 0.2, &quot;fillRule&quot;: &quot;evenodd&quot;, &quot;lineCap&quot;: &quot;round&quot;, &quot;lineJoin&quot;: &quot;round&quot;, &quot;opacity&quot;: 1.0, &quot;radius&quot;: 50, &quot;stroke&quot;: true, &quot;weight&quot;: 3}\n",
       "            ).addTo(map_03370fc5c66f256379235e7baf904a67);\n",
       "        \n",
       "    \n",
       "            circle_marker_3db1bf51c22336c6e34fb371c460a694.bindTooltip(\n",
       "                `&lt;div&gt;\n",
       "                     [&#x27;혜화여자고등학교&#x27;]\n",
       "                 &lt;/div&gt;`,\n",
       "                {&quot;sticky&quot;: true}\n",
       "            );\n",
       "        \n",
       "    \n",
       "            var circle_marker_fc12472f8de70ea948994c70e182d0e6 = L.circleMarker(\n",
       "                [37.547936112544, 126.831535677751],\n",
       "                {&quot;bubblingMouseEvents&quot;: true, &quot;color&quot;: &quot;red&quot;, &quot;dashArray&quot;: null, &quot;dashOffset&quot;: null, &quot;fill&quot;: true, &quot;fillColor&quot;: &quot;red&quot;, &quot;fillOpacity&quot;: 0.2, &quot;fillRule&quot;: &quot;evenodd&quot;, &quot;lineCap&quot;: &quot;round&quot;, &quot;lineJoin&quot;: &quot;round&quot;, &quot;opacity&quot;: 1.0, &quot;radius&quot;: 50, &quot;stroke&quot;: true, &quot;weight&quot;: 3}\n",
       "            ).addTo(map_03370fc5c66f256379235e7baf904a67);\n",
       "        \n",
       "    \n",
       "            circle_marker_fc12472f8de70ea948994c70e182d0e6.bindTooltip(\n",
       "                `&lt;div&gt;\n",
       "                     [&#x27;화곡고등학교&#x27;]\n",
       "                 &lt;/div&gt;`,\n",
       "                {&quot;sticky&quot;: true}\n",
       "            );\n",
       "        \n",
       "    \n",
       "            var circle_marker_2b8699de84e097bee3e5e1e9043343dd = L.circleMarker(\n",
       "                [37.6526987118348, 127.0184004627],\n",
       "                {&quot;bubblingMouseEvents&quot;: true, &quot;color&quot;: &quot;red&quot;, &quot;dashArray&quot;: null, &quot;dashOffset&quot;: null, &quot;fill&quot;: true, &quot;fillColor&quot;: &quot;red&quot;, &quot;fillOpacity&quot;: 0.2, &quot;fillRule&quot;: &quot;evenodd&quot;, &quot;lineCap&quot;: &quot;round&quot;, &quot;lineJoin&quot;: &quot;round&quot;, &quot;opacity&quot;: 1.0, &quot;radius&quot;: 50, &quot;stroke&quot;: true, &quot;weight&quot;: 3}\n",
       "            ).addTo(map_03370fc5c66f256379235e7baf904a67);\n",
       "        \n",
       "    \n",
       "            circle_marker_2b8699de84e097bee3e5e1e9043343dd.bindTooltip(\n",
       "                `&lt;div&gt;\n",
       "                     [&#x27;효문고등학교&#x27;]\n",
       "                 &lt;/div&gt;`,\n",
       "                {&quot;sticky&quot;: true}\n",
       "            );\n",
       "        \n",
       "    \n",
       "            var circle_marker_be75c7cd151d1b795ddda01e4213ffe1 = L.circleMarker(\n",
       "                [37.5743637013203, 126.909529666957],\n",
       "                {&quot;bubblingMouseEvents&quot;: true, &quot;color&quot;: &quot;red&quot;, &quot;dashArray&quot;: null, &quot;dashOffset&quot;: null, &quot;fill&quot;: true, &quot;fillColor&quot;: &quot;orange&quot;, &quot;fillOpacity&quot;: 0.2, &quot;fillRule&quot;: &quot;evenodd&quot;, &quot;lineCap&quot;: &quot;round&quot;, &quot;lineJoin&quot;: &quot;round&quot;, &quot;opacity&quot;: 1.0, &quot;radius&quot;: 50, &quot;stroke&quot;: true, &quot;weight&quot;: 3}\n",
       "            ).addTo(map_03370fc5c66f256379235e7baf904a67);\n",
       "        \n",
       "    \n",
       "            circle_marker_be75c7cd151d1b795ddda01e4213ffe1.bindTooltip(\n",
       "                `&lt;div&gt;\n",
       "                     [&#x27;가재울고등학교&#x27;]\n",
       "                 &lt;/div&gt;`,\n",
       "                {&quot;sticky&quot;: true}\n",
       "            );\n",
       "        \n",
       "    \n",
       "            var circle_marker_2965af9d1fb3bfa56e20efcf2945b275 = L.circleMarker(\n",
       "                [37.5499166487971, 127.160668324892],\n",
       "                {&quot;bubblingMouseEvents&quot;: true, &quot;color&quot;: &quot;red&quot;, &quot;dashArray&quot;: null, &quot;dashOffset&quot;: null, &quot;fill&quot;: true, &quot;fillColor&quot;: &quot;orange&quot;, &quot;fillOpacity&quot;: 0.2, &quot;fillRule&quot;: &quot;evenodd&quot;, &quot;lineCap&quot;: &quot;round&quot;, &quot;lineJoin&quot;: &quot;round&quot;, &quot;opacity&quot;: 1.0, &quot;radius&quot;: 50, &quot;stroke&quot;: true, &quot;weight&quot;: 3}\n",
       "            ).addTo(map_03370fc5c66f256379235e7baf904a67);\n",
       "        \n",
       "    \n",
       "            circle_marker_2965af9d1fb3bfa56e20efcf2945b275.bindTooltip(\n",
       "                `&lt;div&gt;\n",
       "                     [&#x27;강동고등학교&#x27;]\n",
       "                 &lt;/div&gt;`,\n",
       "                {&quot;sticky&quot;: true}\n",
       "            );\n",
       "        \n",
       "    \n",
       "            var circle_marker_4a1fd7e9ea2f5ed154c932277a6950d9 = L.circleMarker(\n",
       "                [37.6322400488783, 127.074928451599],\n",
       "                {&quot;bubblingMouseEvents&quot;: true, &quot;color&quot;: &quot;red&quot;, &quot;dashArray&quot;: null, &quot;dashOffset&quot;: null, &quot;fill&quot;: true, &quot;fillColor&quot;: &quot;orange&quot;, &quot;fillOpacity&quot;: 0.2, &quot;fillRule&quot;: &quot;evenodd&quot;, &quot;lineCap&quot;: &quot;round&quot;, &quot;lineJoin&quot;: &quot;round&quot;, &quot;opacity&quot;: 1.0, &quot;radius&quot;: 50, &quot;stroke&quot;: true, &quot;weight&quot;: 3}\n",
       "            ).addTo(map_03370fc5c66f256379235e7baf904a67);\n",
       "        \n",
       "    \n",
       "            circle_marker_4a1fd7e9ea2f5ed154c932277a6950d9.bindTooltip(\n",
       "                `&lt;div&gt;\n",
       "                     [&#x27;경기기계공업고등학교&#x27;]\n",
       "                 &lt;/div&gt;`,\n",
       "                {&quot;sticky&quot;: true}\n",
       "            );\n",
       "        \n",
       "    \n",
       "            var circle_marker_e08fd71c35f226c25ccde2ce354bdeaf = L.circleMarker(\n",
       "                [37.5939491407769, 127.054890960564],\n",
       "                {&quot;bubblingMouseEvents&quot;: true, &quot;color&quot;: &quot;red&quot;, &quot;dashArray&quot;: null, &quot;dashOffset&quot;: null, &quot;fill&quot;: true, &quot;fillColor&quot;: &quot;orange&quot;, &quot;fillOpacity&quot;: 0.2, &quot;fillRule&quot;: &quot;evenodd&quot;, &quot;lineCap&quot;: &quot;round&quot;, &quot;lineJoin&quot;: &quot;round&quot;, &quot;opacity&quot;: 1.0, &quot;radius&quot;: 50, &quot;stroke&quot;: true, &quot;weight&quot;: 3}\n",
       "            ).addTo(map_03370fc5c66f256379235e7baf904a67);\n",
       "        \n",
       "    \n",
       "            circle_marker_e08fd71c35f226c25ccde2ce354bdeaf.bindTooltip(\n",
       "                `&lt;div&gt;\n",
       "                     [&#x27;경희여자고등학교&#x27;]\n",
       "                 &lt;/div&gt;`,\n",
       "                {&quot;sticky&quot;: true}\n",
       "            );\n",
       "        \n",
       "    \n",
       "            var circle_marker_39dbf9c22fb1284ffa3315ff0995f092 = L.circleMarker(\n",
       "                [37.6074935996761, 127.020183575106],\n",
       "                {&quot;bubblingMouseEvents&quot;: true, &quot;color&quot;: &quot;red&quot;, &quot;dashArray&quot;: null, &quot;dashOffset&quot;: null, &quot;fill&quot;: true, &quot;fillColor&quot;: &quot;orange&quot;, &quot;fillOpacity&quot;: 0.2, &quot;fillRule&quot;: &quot;evenodd&quot;, &quot;lineCap&quot;: &quot;round&quot;, &quot;lineJoin&quot;: &quot;round&quot;, &quot;opacity&quot;: 1.0, &quot;radius&quot;: 50, &quot;stroke&quot;: true, &quot;weight&quot;: 3}\n",
       "            ).addTo(map_03370fc5c66f256379235e7baf904a67);\n",
       "        \n",
       "    \n",
       "            circle_marker_39dbf9c22fb1284ffa3315ff0995f092.bindTooltip(\n",
       "                `&lt;div&gt;\n",
       "                     [&#x27;계성고등학교&#x27;]\n",
       "                 &lt;/div&gt;`,\n",
       "                {&quot;sticky&quot;: true}\n",
       "            );\n",
       "        \n",
       "    \n",
       "            var circle_marker_16d509f3c230bd5c2d888d3ec72dfe73 = L.circleMarker(\n",
       "                [37.5080493827144, 126.849869103403],\n",
       "                {&quot;bubblingMouseEvents&quot;: true, &quot;color&quot;: &quot;red&quot;, &quot;dashArray&quot;: null, &quot;dashOffset&quot;: null, &quot;fill&quot;: true, &quot;fillColor&quot;: &quot;orange&quot;, &quot;fillOpacity&quot;: 0.2, &quot;fillRule&quot;: &quot;evenodd&quot;, &quot;lineCap&quot;: &quot;round&quot;, &quot;lineJoin&quot;: &quot;round&quot;, &quot;opacity&quot;: 1.0, &quot;radius&quot;: 50, &quot;stroke&quot;: true, &quot;weight&quot;: 3}\n",
       "            ).addTo(map_03370fc5c66f256379235e7baf904a67);\n",
       "        \n",
       "    \n",
       "            circle_marker_16d509f3c230bd5c2d888d3ec72dfe73.bindTooltip(\n",
       "                `&lt;div&gt;\n",
       "                     [&#x27;고척고등학교&#x27;]\n",
       "                 &lt;/div&gt;`,\n",
       "                {&quot;sticky&quot;: true}\n",
       "            );\n",
       "        \n",
       "    \n",
       "            var circle_marker_709468af8971a11a98067784b5431778 = L.circleMarker(\n",
       "                [37.5704610944881, 126.81851983357],\n",
       "                {&quot;bubblingMouseEvents&quot;: true, &quot;color&quot;: &quot;red&quot;, &quot;dashArray&quot;: null, &quot;dashOffset&quot;: null, &quot;fill&quot;: true, &quot;fillColor&quot;: &quot;orange&quot;, &quot;fillOpacity&quot;: 0.2, &quot;fillRule&quot;: &quot;evenodd&quot;, &quot;lineCap&quot;: &quot;round&quot;, &quot;lineJoin&quot;: &quot;round&quot;, &quot;opacity&quot;: 1.0, &quot;radius&quot;: 50, &quot;stroke&quot;: true, &quot;weight&quot;: 3}\n",
       "            ).addTo(map_03370fc5c66f256379235e7baf904a67);\n",
       "        \n",
       "    \n",
       "            circle_marker_709468af8971a11a98067784b5431778.bindTooltip(\n",
       "                `&lt;div&gt;\n",
       "                     [&#x27;공항고등학교&#x27;]\n",
       "                 &lt;/div&gt;`,\n",
       "                {&quot;sticky&quot;: true}\n",
       "            );\n",
       "        \n",
       "    \n",
       "            var circle_marker_4f6d65c2e07af0efdf2d408b3990a810 = L.circleMarker(\n",
       "                [37.5486975552073, 126.935969575594],\n",
       "                {&quot;bubblingMouseEvents&quot;: true, &quot;color&quot;: &quot;red&quot;, &quot;dashArray&quot;: null, &quot;dashOffset&quot;: null, &quot;fill&quot;: true, &quot;fillColor&quot;: &quot;orange&quot;, &quot;fillOpacity&quot;: 0.2, &quot;fillRule&quot;: &quot;evenodd&quot;, &quot;lineCap&quot;: &quot;round&quot;, &quot;lineJoin&quot;: &quot;round&quot;, &quot;opacity&quot;: 1.0, &quot;radius&quot;: 50, &quot;stroke&quot;: true, &quot;weight&quot;: 3}\n",
       "            ).addTo(map_03370fc5c66f256379235e7baf904a67);\n",
       "        \n",
       "    \n",
       "            circle_marker_4f6d65c2e07af0efdf2d408b3990a810.bindTooltip(\n",
       "                `&lt;div&gt;\n",
       "                     [&#x27;광성고등학교&#x27;]\n",
       "                 &lt;/div&gt;`,\n",
       "                {&quot;sticky&quot;: true}\n",
       "            );\n",
       "        \n",
       "    \n",
       "            var circle_marker_cbb2f6f086b91b06fb6d3fef0e928880 = L.circleMarker(\n",
       "                [37.529378916523, 127.085182284683],\n",
       "                {&quot;bubblingMouseEvents&quot;: true, &quot;color&quot;: &quot;red&quot;, &quot;dashArray&quot;: null, &quot;dashOffset&quot;: null, &quot;fill&quot;: true, &quot;fillColor&quot;: &quot;orange&quot;, &quot;fillOpacity&quot;: 0.2, &quot;fillRule&quot;: &quot;evenodd&quot;, &quot;lineCap&quot;: &quot;round&quot;, &quot;lineJoin&quot;: &quot;round&quot;, &quot;opacity&quot;: 1.0, &quot;radius&quot;: 50, &quot;stroke&quot;: true, &quot;weight&quot;: 3}\n",
       "            ).addTo(map_03370fc5c66f256379235e7baf904a67);\n",
       "        \n",
       "    \n",
       "            circle_marker_cbb2f6f086b91b06fb6d3fef0e928880.bindTooltip(\n",
       "                `&lt;div&gt;\n",
       "                     [&#x27;광양고등학교&#x27;]\n",
       "                 &lt;/div&gt;`,\n",
       "                {&quot;sticky&quot;: true}\n",
       "            );\n",
       "        \n",
       "    \n",
       "            var circle_marker_ac24ce2930b5495936fb25cc3d629a39 = L.circleMarker(\n",
       "                [37.4988400846064, 126.890309191986],\n",
       "                {&quot;bubblingMouseEvents&quot;: true, &quot;color&quot;: &quot;red&quot;, &quot;dashArray&quot;: null, &quot;dashOffset&quot;: null, &quot;fill&quot;: true, &quot;fillColor&quot;: &quot;orange&quot;, &quot;fillOpacity&quot;: 0.2, &quot;fillRule&quot;: &quot;evenodd&quot;, &quot;lineCap&quot;: &quot;round&quot;, &quot;lineJoin&quot;: &quot;round&quot;, &quot;opacity&quot;: 1.0, &quot;radius&quot;: 50, &quot;stroke&quot;: true, &quot;weight&quot;: 3}\n",
       "            ).addTo(map_03370fc5c66f256379235e7baf904a67);\n",
       "        \n",
       "    \n",
       "            circle_marker_ac24ce2930b5495936fb25cc3d629a39.bindTooltip(\n",
       "                `&lt;div&gt;\n",
       "                     [&#x27;구로고등학교&#x27;]\n",
       "                 &lt;/div&gt;`,\n",
       "                {&quot;sticky&quot;: true}\n",
       "            );\n",
       "        \n",
       "    \n",
       "            var circle_marker_33a267e37cd6fe437702063a4d1efb42 = L.circleMarker(\n",
       "                [37.5022832205782, 126.874418207198],\n",
       "                {&quot;bubblingMouseEvents&quot;: true, &quot;color&quot;: &quot;red&quot;, &quot;dashArray&quot;: null, &quot;dashOffset&quot;: null, &quot;fill&quot;: true, &quot;fillColor&quot;: &quot;orange&quot;, &quot;fillOpacity&quot;: 0.2, &quot;fillRule&quot;: &quot;evenodd&quot;, &quot;lineCap&quot;: &quot;round&quot;, &quot;lineJoin&quot;: &quot;round&quot;, &quot;opacity&quot;: 1.0, &quot;radius&quot;: 50, &quot;stroke&quot;: true, &quot;weight&quot;: 3}\n",
       "            ).addTo(map_03370fc5c66f256379235e7baf904a67);\n",
       "        \n",
       "    \n",
       "            circle_marker_33a267e37cd6fe437702063a4d1efb42.bindTooltip(\n",
       "                `&lt;div&gt;\n",
       "                     [&#x27;구현고등학교&#x27;]\n",
       "                 &lt;/div&gt;`,\n",
       "                {&quot;sticky&quot;: true}\n",
       "            );\n",
       "        \n",
       "    \n",
       "            var circle_marker_c241bdc7d2a3f27bc5c0b992d7e245f8 = L.circleMarker(\n",
       "                [37.4463706879704, 126.906463378333],\n",
       "                {&quot;bubblingMouseEvents&quot;: true, &quot;color&quot;: &quot;red&quot;, &quot;dashArray&quot;: null, &quot;dashOffset&quot;: null, &quot;fill&quot;: true, &quot;fillColor&quot;: &quot;orange&quot;, &quot;fillOpacity&quot;: 0.2, &quot;fillRule&quot;: &quot;evenodd&quot;, &quot;lineCap&quot;: &quot;round&quot;, &quot;lineJoin&quot;: &quot;round&quot;, &quot;opacity&quot;: 1.0, &quot;radius&quot;: 50, &quot;stroke&quot;: true, &quot;weight&quot;: 3}\n",
       "            ).addTo(map_03370fc5c66f256379235e7baf904a67);\n",
       "        \n",
       "    \n",
       "            circle_marker_c241bdc7d2a3f27bc5c0b992d7e245f8.bindTooltip(\n",
       "                `&lt;div&gt;\n",
       "                     [&#x27;국립전통예술고등학교&#x27;]\n",
       "                 &lt;/div&gt;`,\n",
       "                {&quot;sticky&quot;: true}\n",
       "            );\n",
       "        \n",
       "    \n",
       "            var circle_marker_23468b12c17b4af55db20099787dcb28 = L.circleMarker(\n",
       "                [37.5624502219725, 127.089376716312],\n",
       "                {&quot;bubblingMouseEvents&quot;: true, &quot;color&quot;: &quot;red&quot;, &quot;dashArray&quot;: null, &quot;dashOffset&quot;: null, &quot;fill&quot;: true, &quot;fillColor&quot;: &quot;orange&quot;, &quot;fillOpacity&quot;: 0.2, &quot;fillRule&quot;: &quot;evenodd&quot;, &quot;lineCap&quot;: &quot;round&quot;, &quot;lineJoin&quot;: &quot;round&quot;, &quot;opacity&quot;: 1.0, &quot;radius&quot;: 50, &quot;stroke&quot;: true, &quot;weight&quot;: 3}\n",
       "            ).addTo(map_03370fc5c66f256379235e7baf904a67);\n",
       "        \n",
       "    \n",
       "            circle_marker_23468b12c17b4af55db20099787dcb28.bindTooltip(\n",
       "                `&lt;div&gt;\n",
       "                     [&#x27;대원고등학교&#x27;]\n",
       "                 &lt;/div&gt;`,\n",
       "                {&quot;sticky&quot;: true}\n",
       "            );\n",
       "        \n",
       "    \n",
       "            var circle_marker_0e8a696283b6804fd3cd8312c5ec7ad6 = L.circleMarker(\n",
       "                [37.5624502219725, 127.089376716312],\n",
       "                {&quot;bubblingMouseEvents&quot;: true, &quot;color&quot;: &quot;red&quot;, &quot;dashArray&quot;: null, &quot;dashOffset&quot;: null, &quot;fill&quot;: true, &quot;fillColor&quot;: &quot;orange&quot;, &quot;fillOpacity&quot;: 0.2, &quot;fillRule&quot;: &quot;evenodd&quot;, &quot;lineCap&quot;: &quot;round&quot;, &quot;lineJoin&quot;: &quot;round&quot;, &quot;opacity&quot;: 1.0, &quot;radius&quot;: 50, &quot;stroke&quot;: true, &quot;weight&quot;: 3}\n",
       "            ).addTo(map_03370fc5c66f256379235e7baf904a67);\n",
       "        \n",
       "    \n",
       "            circle_marker_0e8a696283b6804fd3cd8312c5ec7ad6.bindTooltip(\n",
       "                `&lt;div&gt;\n",
       "                     [&#x27;대원외국어고등학교&#x27;]\n",
       "                 &lt;/div&gt;`,\n",
       "                {&quot;sticky&quot;: true}\n",
       "            );\n",
       "        \n",
       "    \n",
       "            var circle_marker_88f9b3b1dec7a2240f4d746d0f218db4 = L.circleMarker(\n",
       "                [37.4762187185354, 126.910939635513],\n",
       "                {&quot;bubblingMouseEvents&quot;: true, &quot;color&quot;: &quot;red&quot;, &quot;dashArray&quot;: null, &quot;dashOffset&quot;: null, &quot;fill&quot;: true, &quot;fillColor&quot;: &quot;orange&quot;, &quot;fillOpacity&quot;: 0.2, &quot;fillRule&quot;: &quot;evenodd&quot;, &quot;lineCap&quot;: &quot;round&quot;, &quot;lineJoin&quot;: &quot;round&quot;, &quot;opacity&quot;: 1.0, &quot;radius&quot;: 50, &quot;stroke&quot;: true, &quot;weight&quot;: 3}\n",
       "            ).addTo(map_03370fc5c66f256379235e7baf904a67);\n",
       "        \n",
       "    \n",
       "            circle_marker_88f9b3b1dec7a2240f4d746d0f218db4.bindTooltip(\n",
       "                `&lt;div&gt;\n",
       "                     [&#x27;독산고등학교&#x27;]\n",
       "                 &lt;/div&gt;`,\n",
       "                {&quot;sticky&quot;: true}\n",
       "            );\n",
       "        \n",
       "    \n",
       "            var circle_marker_7858a8797b1e3f3680df62e9e71dea25 = L.circleMarker(\n",
       "                [37.5780471818476, 127.075133018965],\n",
       "                {&quot;bubblingMouseEvents&quot;: true, &quot;color&quot;: &quot;red&quot;, &quot;dashArray&quot;: null, &quot;dashOffset&quot;: null, &quot;fill&quot;: true, &quot;fillColor&quot;: &quot;orange&quot;, &quot;fillOpacity&quot;: 0.2, &quot;fillRule&quot;: &quot;evenodd&quot;, &quot;lineCap&quot;: &quot;round&quot;, &quot;lineJoin&quot;: &quot;round&quot;, &quot;opacity&quot;: 1.0, &quot;radius&quot;: 50, &quot;stroke&quot;: true, &quot;weight&quot;: 3}\n",
       "            ).addTo(map_03370fc5c66f256379235e7baf904a67);\n",
       "        \n",
       "    \n",
       "            circle_marker_7858a8797b1e3f3680df62e9e71dea25.bindTooltip(\n",
       "                `&lt;div&gt;\n",
       "                     [&#x27;동국대학교사범대학부속고등학교&#x27;]\n",
       "                 &lt;/div&gt;`,\n",
       "                {&quot;sticky&quot;: true}\n",
       "            );\n",
       "        \n",
       "    \n",
       "            var circle_marker_74fc1083c6fe74dafebfd08fdb0e37d1 = L.circleMarker(\n",
       "                [37.4519362557404, 126.915819922214],\n",
       "                {&quot;bubblingMouseEvents&quot;: true, &quot;color&quot;: &quot;red&quot;, &quot;dashArray&quot;: null, &quot;dashOffset&quot;: null, &quot;fill&quot;: true, &quot;fillColor&quot;: &quot;orange&quot;, &quot;fillOpacity&quot;: 0.2, &quot;fillRule&quot;: &quot;evenodd&quot;, &quot;lineCap&quot;: &quot;round&quot;, &quot;lineJoin&quot;: &quot;round&quot;, &quot;opacity&quot;: 1.0, &quot;radius&quot;: 50, &quot;stroke&quot;: true, &quot;weight&quot;: 3}\n",
       "            ).addTo(map_03370fc5c66f256379235e7baf904a67);\n",
       "        \n",
       "    \n",
       "            circle_marker_74fc1083c6fe74dafebfd08fdb0e37d1.bindTooltip(\n",
       "                `&lt;div&gt;\n",
       "                     [&#x27;동일여자고등학교&#x27;]\n",
       "                 &lt;/div&gt;`,\n",
       "                {&quot;sticky&quot;: true}\n",
       "            );\n",
       "        \n",
       "    \n",
       "            var circle_marker_ad0a2b04f0064bf76400e376b1495380 = L.circleMarker(\n",
       "                [37.531432583881, 127.143808707936],\n",
       "                {&quot;bubblingMouseEvents&quot;: true, &quot;color&quot;: &quot;red&quot;, &quot;dashArray&quot;: null, &quot;dashOffset&quot;: null, &quot;fill&quot;: true, &quot;fillColor&quot;: &quot;orange&quot;, &quot;fillOpacity&quot;: 0.2, &quot;fillRule&quot;: &quot;evenodd&quot;, &quot;lineCap&quot;: &quot;round&quot;, &quot;lineJoin&quot;: &quot;round&quot;, &quot;opacity&quot;: 1.0, &quot;radius&quot;: 50, &quot;stroke&quot;: true, &quot;weight&quot;: 3}\n",
       "            ).addTo(map_03370fc5c66f256379235e7baf904a67);\n",
       "        \n",
       "    \n",
       "            circle_marker_ad0a2b04f0064bf76400e376b1495380.bindTooltip(\n",
       "                `&lt;div&gt;\n",
       "                     [&#x27;둔촌고등학교&#x27;]\n",
       "                 &lt;/div&gt;`,\n",
       "                {&quot;sticky&quot;: true}\n",
       "            );\n",
       "        \n",
       "    \n",
       "            var circle_marker_c3b6b15b64eb929e9275aa7b15f78d68 = L.circleMarker(\n",
       "                [37.5538694849081, 126.8339773378],\n",
       "                {&quot;bubblingMouseEvents&quot;: true, &quot;color&quot;: &quot;red&quot;, &quot;dashArray&quot;: null, &quot;dashOffset&quot;: null, &quot;fill&quot;: true, &quot;fillColor&quot;: &quot;orange&quot;, &quot;fillOpacity&quot;: 0.2, &quot;fillRule&quot;: &quot;evenodd&quot;, &quot;lineCap&quot;: &quot;round&quot;, &quot;lineJoin&quot;: &quot;round&quot;, &quot;opacity&quot;: 1.0, &quot;radius&quot;: 50, &quot;stroke&quot;: true, &quot;weight&quot;: 3}\n",
       "            ).addTo(map_03370fc5c66f256379235e7baf904a67);\n",
       "        \n",
       "    \n",
       "            circle_marker_c3b6b15b64eb929e9275aa7b15f78d68.bindTooltip(\n",
       "                `&lt;div&gt;\n",
       "                     [&#x27;명덕고등학교&#x27;]\n",
       "                 &lt;/div&gt;`,\n",
       "                {&quot;sticky&quot;: true}\n",
       "            );\n",
       "        \n",
       "    \n",
       "            var circle_marker_72e4c724dd6dfa2891d3aaf9dd6f8dea = L.circleMarker(\n",
       "                [37.5538694849081, 126.8339773378],\n",
       "                {&quot;bubblingMouseEvents&quot;: true, &quot;color&quot;: &quot;red&quot;, &quot;dashArray&quot;: null, &quot;dashOffset&quot;: null, &quot;fill&quot;: true, &quot;fillColor&quot;: &quot;orange&quot;, &quot;fillOpacity&quot;: 0.2, &quot;fillRule&quot;: &quot;evenodd&quot;, &quot;lineCap&quot;: &quot;round&quot;, &quot;lineJoin&quot;: &quot;round&quot;, &quot;opacity&quot;: 1.0, &quot;radius&quot;: 50, &quot;stroke&quot;: true, &quot;weight&quot;: 3}\n",
       "            ).addTo(map_03370fc5c66f256379235e7baf904a67);\n",
       "        \n",
       "    \n",
       "            circle_marker_72e4c724dd6dfa2891d3aaf9dd6f8dea.bindTooltip(\n",
       "                `&lt;div&gt;\n",
       "                     [&#x27;명덕여자고등학교&#x27;]\n",
       "                 &lt;/div&gt;`,\n",
       "                {&quot;sticky&quot;: true}\n",
       "            );\n",
       "        \n",
       "    \n",
       "            var circle_marker_678664f41d11b6595e9c33e7c11504e9 = L.circleMarker(\n",
       "                [37.4813135489878, 127.128762268141],\n",
       "                {&quot;bubblingMouseEvents&quot;: true, &quot;color&quot;: &quot;red&quot;, &quot;dashArray&quot;: null, &quot;dashOffset&quot;: null, &quot;fill&quot;: true, &quot;fillColor&quot;: &quot;orange&quot;, &quot;fillOpacity&quot;: 0.2, &quot;fillRule&quot;: &quot;evenodd&quot;, &quot;lineCap&quot;: &quot;round&quot;, &quot;lineJoin&quot;: &quot;round&quot;, &quot;opacity&quot;: 1.0, &quot;radius&quot;: 50, &quot;stroke&quot;: true, &quot;weight&quot;: 3}\n",
       "            ).addTo(map_03370fc5c66f256379235e7baf904a67);\n",
       "        \n",
       "    \n",
       "            circle_marker_678664f41d11b6595e9c33e7c11504e9.bindTooltip(\n",
       "                `&lt;div&gt;\n",
       "                     [&#x27;문현고등학교&#x27;]\n",
       "                 &lt;/div&gt;`,\n",
       "                {&quot;sticky&quot;: true}\n",
       "            );\n",
       "        \n",
       "    \n",
       "            var circle_marker_4310c62e56161697eb270cc4e6c70dd7 = L.circleMarker(\n",
       "                [37.5083995194679, 127.120469638696],\n",
       "                {&quot;bubblingMouseEvents&quot;: true, &quot;color&quot;: &quot;red&quot;, &quot;dashArray&quot;: null, &quot;dashOffset&quot;: null, &quot;fill&quot;: true, &quot;fillColor&quot;: &quot;orange&quot;, &quot;fillOpacity&quot;: 0.2, &quot;fillRule&quot;: &quot;evenodd&quot;, &quot;lineCap&quot;: &quot;round&quot;, &quot;lineJoin&quot;: &quot;round&quot;, &quot;opacity&quot;: 1.0, &quot;radius&quot;: 50, &quot;stroke&quot;: true, &quot;weight&quot;: 3}\n",
       "            ).addTo(map_03370fc5c66f256379235e7baf904a67);\n",
       "        \n",
       "    \n",
       "            circle_marker_4310c62e56161697eb270cc4e6c70dd7.bindTooltip(\n",
       "                `&lt;div&gt;\n",
       "                     [&#x27;방산고등학교&#x27;]\n",
       "                 &lt;/div&gt;`,\n",
       "                {&quot;sticky&quot;: true}\n",
       "            );\n",
       "        \n",
       "    \n",
       "            var circle_marker_dda0d3ac466b5f5c56e0ffb9ccd5ca9c = L.circleMarker(\n",
       "                [37.5499187190496, 126.963904100329],\n",
       "                {&quot;bubblingMouseEvents&quot;: true, &quot;color&quot;: &quot;red&quot;, &quot;dashArray&quot;: null, &quot;dashOffset&quot;: null, &quot;fill&quot;: true, &quot;fillColor&quot;: &quot;orange&quot;, &quot;fillOpacity&quot;: 0.2, &quot;fillRule&quot;: &quot;evenodd&quot;, &quot;lineCap&quot;: &quot;round&quot;, &quot;lineJoin&quot;: &quot;round&quot;, &quot;opacity&quot;: 1.0, &quot;radius&quot;: 50, &quot;stroke&quot;: true, &quot;weight&quot;: 3}\n",
       "            ).addTo(map_03370fc5c66f256379235e7baf904a67);\n",
       "        \n",
       "    \n",
       "            circle_marker_dda0d3ac466b5f5c56e0ffb9ccd5ca9c.bindTooltip(\n",
       "                `&lt;div&gt;\n",
       "                     [&#x27;배문고등학교&#x27;]\n",
       "                 &lt;/div&gt;`,\n",
       "                {&quot;sticky&quot;: true}\n",
       "            );\n",
       "        \n",
       "    \n",
       "            var circle_marker_6bd5a4070766d02e409818dcf9ce28e6 = L.circleMarker(\n",
       "                [37.5550593859098, 127.150247335505],\n",
       "                {&quot;bubblingMouseEvents&quot;: true, &quot;color&quot;: &quot;red&quot;, &quot;dashArray&quot;: null, &quot;dashOffset&quot;: null, &quot;fill&quot;: true, &quot;fillColor&quot;: &quot;orange&quot;, &quot;fillOpacity&quot;: 0.2, &quot;fillRule&quot;: &quot;evenodd&quot;, &quot;lineCap&quot;: &quot;round&quot;, &quot;lineJoin&quot;: &quot;round&quot;, &quot;opacity&quot;: 1.0, &quot;radius&quot;: 50, &quot;stroke&quot;: true, &quot;weight&quot;: 3}\n",
       "            ).addTo(map_03370fc5c66f256379235e7baf904a67);\n",
       "        \n",
       "    \n",
       "            circle_marker_6bd5a4070766d02e409818dcf9ce28e6.bindTooltip(\n",
       "                `&lt;div&gt;\n",
       "                     [&#x27;배재고등학교&#x27;]\n",
       "                 &lt;/div&gt;`,\n",
       "                {&quot;sticky&quot;: true}\n",
       "            );\n",
       "        \n",
       "    \n",
       "            var circle_marker_beeeff172efe28584284c71e61d67aab = L.circleMarker(\n",
       "                [37.5200898870034, 127.135729296295],\n",
       "                {&quot;bubblingMouseEvents&quot;: true, &quot;color&quot;: &quot;red&quot;, &quot;dashArray&quot;: null, &quot;dashOffset&quot;: null, &quot;fill&quot;: true, &quot;fillColor&quot;: &quot;orange&quot;, &quot;fillOpacity&quot;: 0.2, &quot;fillRule&quot;: &quot;evenodd&quot;, &quot;lineCap&quot;: &quot;round&quot;, &quot;lineJoin&quot;: &quot;round&quot;, &quot;opacity&quot;: 1.0, &quot;radius&quot;: 50, &quot;stroke&quot;: true, &quot;weight&quot;: 3}\n",
       "            ).addTo(map_03370fc5c66f256379235e7baf904a67);\n",
       "        \n",
       "    \n",
       "            circle_marker_beeeff172efe28584284c71e61d67aab.bindTooltip(\n",
       "                `&lt;div&gt;\n",
       "                     [&#x27;보성고등학교&#x27;]\n",
       "                 &lt;/div&gt;`,\n",
       "                {&quot;sticky&quot;: true}\n",
       "            );\n",
       "        \n",
       "    \n",
       "            var circle_marker_2c665293cd4970e35bfdfc9df13e581d = L.circleMarker(\n",
       "                [37.5430815444968, 126.984284175086],\n",
       "                {&quot;bubblingMouseEvents&quot;: true, &quot;color&quot;: &quot;red&quot;, &quot;dashArray&quot;: null, &quot;dashOffset&quot;: null, &quot;fill&quot;: true, &quot;fillColor&quot;: &quot;orange&quot;, &quot;fillOpacity&quot;: 0.2, &quot;fillRule&quot;: &quot;evenodd&quot;, &quot;lineCap&quot;: &quot;round&quot;, &quot;lineJoin&quot;: &quot;round&quot;, &quot;opacity&quot;: 1.0, &quot;radius&quot;: 50, &quot;stroke&quot;: true, &quot;weight&quot;: 3}\n",
       "            ).addTo(map_03370fc5c66f256379235e7baf904a67);\n",
       "        \n",
       "    \n",
       "            circle_marker_2c665293cd4970e35bfdfc9df13e581d.bindTooltip(\n",
       "                `&lt;div&gt;\n",
       "                     [&#x27;보성여자고등학교&#x27;]\n",
       "                 &lt;/div&gt;`,\n",
       "                {&quot;sticky&quot;: true}\n",
       "            );\n",
       "        \n",
       "    \n",
       "            var circle_marker_4eb7cc10b3f79e85c665b9b0b7d7d5f2 = L.circleMarker(\n",
       "                [37.6452565325417, 127.075840635297],\n",
       "                {&quot;bubblingMouseEvents&quot;: true, &quot;color&quot;: &quot;red&quot;, &quot;dashArray&quot;: null, &quot;dashOffset&quot;: null, &quot;fill&quot;: true, &quot;fillColor&quot;: &quot;orange&quot;, &quot;fillOpacity&quot;: 0.2, &quot;fillRule&quot;: &quot;evenodd&quot;, &quot;lineCap&quot;: &quot;round&quot;, &quot;lineJoin&quot;: &quot;round&quot;, &quot;opacity&quot;: 1.0, &quot;radius&quot;: 50, &quot;stroke&quot;: true, &quot;weight&quot;: 3}\n",
       "            ).addTo(map_03370fc5c66f256379235e7baf904a67);\n",
       "        \n",
       "    \n",
       "            circle_marker_4eb7cc10b3f79e85c665b9b0b7d7d5f2.bindTooltip(\n",
       "                `&lt;div&gt;\n",
       "                     [&#x27;서라벌고등학교&#x27;]\n",
       "                 &lt;/div&gt;`,\n",
       "                {&quot;sticky&quot;: true}\n",
       "            );\n",
       "        \n",
       "    \n",
       "            var circle_marker_25479af46d5907297543e80b7146df8f = L.circleMarker(\n",
       "                [37.4999306587647, 126.832608691425],\n",
       "                {&quot;bubblingMouseEvents&quot;: true, &quot;color&quot;: &quot;red&quot;, &quot;dashArray&quot;: null, &quot;dashOffset&quot;: null, &quot;fill&quot;: true, &quot;fillColor&quot;: &quot;orange&quot;, &quot;fillOpacity&quot;: 0.2, &quot;fillRule&quot;: &quot;evenodd&quot;, &quot;lineCap&quot;: &quot;round&quot;, &quot;lineJoin&quot;: &quot;round&quot;, &quot;opacity&quot;: 1.0, &quot;radius&quot;: 50, &quot;stroke&quot;: true, &quot;weight&quot;: 3}\n",
       "            ).addTo(map_03370fc5c66f256379235e7baf904a67);\n",
       "        \n",
       "    \n",
       "            circle_marker_25479af46d5907297543e80b7146df8f.bindTooltip(\n",
       "                `&lt;div&gt;\n",
       "                     [&#x27;서울공연예술고등학교&#x27;]\n",
       "                 &lt;/div&gt;`,\n",
       "                {&quot;sticky&quot;: true}\n",
       "            );\n",
       "        \n",
       "    \n",
       "            var circle_marker_a2a8d3b47451244df466169c8babaf1c = L.circleMarker(\n",
       "                [37.5467017705682, 126.946905266201],\n",
       "                {&quot;bubblingMouseEvents&quot;: true, &quot;color&quot;: &quot;red&quot;, &quot;dashArray&quot;: null, &quot;dashOffset&quot;: null, &quot;fill&quot;: true, &quot;fillColor&quot;: &quot;orange&quot;, &quot;fillOpacity&quot;: 0.2, &quot;fillRule&quot;: &quot;evenodd&quot;, &quot;lineCap&quot;: &quot;round&quot;, &quot;lineJoin&quot;: &quot;round&quot;, &quot;opacity&quot;: 1.0, &quot;radius&quot;: 50, &quot;stroke&quot;: true, &quot;weight&quot;: 3}\n",
       "            ).addTo(map_03370fc5c66f256379235e7baf904a67);\n",
       "        \n",
       "    \n",
       "            circle_marker_a2a8d3b47451244df466169c8babaf1c.bindTooltip(\n",
       "                `&lt;div&gt;\n",
       "                     [&#x27;서울디자인고등학교&#x27;]\n",
       "                 &lt;/div&gt;`,\n",
       "                {&quot;sticky&quot;: true}\n",
       "            );\n",
       "        \n",
       "    \n",
       "            var circle_marker_1e82497628566af6274579b53279987e = L.circleMarker(\n",
       "                [37.5389694235589, 126.990617730566],\n",
       "                {&quot;bubblingMouseEvents&quot;: true, &quot;color&quot;: &quot;red&quot;, &quot;dashArray&quot;: null, &quot;dashOffset&quot;: null, &quot;fill&quot;: true, &quot;fillColor&quot;: &quot;orange&quot;, &quot;fillOpacity&quot;: 0.2, &quot;fillRule&quot;: &quot;evenodd&quot;, &quot;lineCap&quot;: &quot;round&quot;, &quot;lineJoin&quot;: &quot;round&quot;, &quot;opacity&quot;: 1.0, &quot;radius&quot;: 50, &quot;stroke&quot;: true, &quot;weight&quot;: 3}\n",
       "            ).addTo(map_03370fc5c66f256379235e7baf904a67);\n",
       "        \n",
       "    \n",
       "            circle_marker_1e82497628566af6274579b53279987e.bindTooltip(\n",
       "                `&lt;div&gt;\n",
       "                     [&#x27;서울디지텍고등학교&#x27;]\n",
       "                 &lt;/div&gt;`,\n",
       "                {&quot;sticky&quot;: true}\n",
       "            );\n",
       "        \n",
       "    \n",
       "            var circle_marker_b9c3f958723e05daaa0c2f9d141c3d20 = L.circleMarker(\n",
       "                [37.4729045674501, 126.950918062755],\n",
       "                {&quot;bubblingMouseEvents&quot;: true, &quot;color&quot;: &quot;red&quot;, &quot;dashArray&quot;: null, &quot;dashOffset&quot;: null, &quot;fill&quot;: true, &quot;fillColor&quot;: &quot;orange&quot;, &quot;fillOpacity&quot;: 0.2, &quot;fillRule&quot;: &quot;evenodd&quot;, &quot;lineCap&quot;: &quot;round&quot;, &quot;lineJoin&quot;: &quot;round&quot;, &quot;opacity&quot;: 1.0, &quot;radius&quot;: 50, &quot;stroke&quot;: true, &quot;weight&quot;: 3}\n",
       "            ).addTo(map_03370fc5c66f256379235e7baf904a67);\n",
       "        \n",
       "    \n",
       "            circle_marker_b9c3f958723e05daaa0c2f9d141c3d20.bindTooltip(\n",
       "                `&lt;div&gt;\n",
       "                     [&#x27;서울문영여자고등학교&#x27;]\n",
       "                 &lt;/div&gt;`,\n",
       "                {&quot;sticky&quot;: true}\n",
       "            );\n",
       "        \n",
       "    \n",
       "            var circle_marker_3ca2e54d6490c9fdd0b5b54faf13324e = L.circleMarker(\n",
       "                [37.5383814328153, 126.857062195471],\n",
       "                {&quot;bubblingMouseEvents&quot;: true, &quot;color&quot;: &quot;red&quot;, &quot;dashArray&quot;: null, &quot;dashOffset&quot;: null, &quot;fill&quot;: true, &quot;fillColor&quot;: &quot;orange&quot;, &quot;fillOpacity&quot;: 0.2, &quot;fillRule&quot;: &quot;evenodd&quot;, &quot;lineCap&quot;: &quot;round&quot;, &quot;lineJoin&quot;: &quot;round&quot;, &quot;opacity&quot;: 1.0, &quot;radius&quot;: 50, &quot;stroke&quot;: true, &quot;weight&quot;: 3}\n",
       "            ).addTo(map_03370fc5c66f256379235e7baf904a67);\n",
       "        \n",
       "    \n",
       "            circle_marker_3ca2e54d6490c9fdd0b5b54faf13324e.bindTooltip(\n",
       "                `&lt;div&gt;\n",
       "                     [&#x27;서울신정고등학교&#x27;]\n",
       "                 &lt;/div&gt;`,\n",
       "                {&quot;sticky&quot;: true}\n",
       "            );\n",
       "        \n",
       "    \n",
       "            var circle_marker_de2db20cf5843b7d3bb294064572c6ae = L.circleMarker(\n",
       "                [37.6424184430399, 127.06244927375],\n",
       "                {&quot;bubblingMouseEvents&quot;: true, &quot;color&quot;: &quot;red&quot;, &quot;dashArray&quot;: null, &quot;dashOffset&quot;: null, &quot;fill&quot;: true, &quot;fillColor&quot;: &quot;orange&quot;, &quot;fillOpacity&quot;: 0.2, &quot;fillRule&quot;: &quot;evenodd&quot;, &quot;lineCap&quot;: &quot;round&quot;, &quot;lineJoin&quot;: &quot;round&quot;, &quot;opacity&quot;: 1.0, &quot;radius&quot;: 50, &quot;stroke&quot;: true, &quot;weight&quot;: 3}\n",
       "            ).addTo(map_03370fc5c66f256379235e7baf904a67);\n",
       "        \n",
       "    \n",
       "            circle_marker_de2db20cf5843b7d3bb294064572c6ae.bindTooltip(\n",
       "                `&lt;div&gt;\n",
       "                     [&#x27;서울아이티고등학교&#x27;]\n",
       "                 &lt;/div&gt;`,\n",
       "                {&quot;sticky&quot;: true}\n",
       "            );\n",
       "        \n",
       "    \n",
       "            var circle_marker_08922da7cf5ac40577c425e40f66eb70 = L.circleMarker(\n",
       "                [37.5477804988422, 126.949069964415],\n",
       "                {&quot;bubblingMouseEvents&quot;: true, &quot;color&quot;: &quot;red&quot;, &quot;dashArray&quot;: null, &quot;dashOffset&quot;: null, &quot;fill&quot;: true, &quot;fillColor&quot;: &quot;orange&quot;, &quot;fillOpacity&quot;: 0.2, &quot;fillRule&quot;: &quot;evenodd&quot;, &quot;lineCap&quot;: &quot;round&quot;, &quot;lineJoin&quot;: &quot;round&quot;, &quot;opacity&quot;: 1.0, &quot;radius&quot;: 50, &quot;stroke&quot;: true, &quot;weight&quot;: 3}\n",
       "            ).addTo(map_03370fc5c66f256379235e7baf904a67);\n",
       "        \n",
       "    \n",
       "            circle_marker_08922da7cf5ac40577c425e40f66eb70.bindTooltip(\n",
       "                `&lt;div&gt;\n",
       "                     [&#x27;서울여자고등학교&#x27;]\n",
       "                 &lt;/div&gt;`,\n",
       "                {&quot;sticky&quot;: true}\n",
       "            );\n",
       "        \n",
       "    \n",
       "            var circle_marker_e3430270e4b64e62104983ff26eee7fc = L.circleMarker(\n",
       "                [37.6457807932104, 127.0515086969],\n",
       "                {&quot;bubblingMouseEvents&quot;: true, &quot;color&quot;: &quot;red&quot;, &quot;dashArray&quot;: null, &quot;dashOffset&quot;: null, &quot;fill&quot;: true, &quot;fillColor&quot;: &quot;orange&quot;, &quot;fillOpacity&quot;: 0.2, &quot;fillRule&quot;: &quot;evenodd&quot;, &quot;lineCap&quot;: &quot;round&quot;, &quot;lineJoin&quot;: &quot;round&quot;, &quot;opacity&quot;: 1.0, &quot;radius&quot;: 50, &quot;stroke&quot;: true, &quot;weight&quot;: 3}\n",
       "            ).addTo(map_03370fc5c66f256379235e7baf904a67);\n",
       "        \n",
       "    \n",
       "            circle_marker_e3430270e4b64e62104983ff26eee7fc.bindTooltip(\n",
       "                `&lt;div&gt;\n",
       "                     [&#x27;서울외국어고등학교&#x27;]\n",
       "                 &lt;/div&gt;`,\n",
       "                {&quot;sticky&quot;: true}\n",
       "            );\n",
       "        \n",
       "    \n",
       "            var circle_marker_45117e0b6840c5709a89694f0cbef8fb = L.circleMarker(\n",
       "                [37.5692177821112, 126.817040800626],\n",
       "                {&quot;bubblingMouseEvents&quot;: true, &quot;color&quot;: &quot;red&quot;, &quot;dashArray&quot;: null, &quot;dashOffset&quot;: null, &quot;fill&quot;: true, &quot;fillColor&quot;: &quot;orange&quot;, &quot;fillOpacity&quot;: 0.2, &quot;fillRule&quot;: &quot;evenodd&quot;, &quot;lineCap&quot;: &quot;round&quot;, &quot;lineJoin&quot;: &quot;round&quot;, &quot;opacity&quot;: 1.0, &quot;radius&quot;: 50, &quot;stroke&quot;: true, &quot;weight&quot;: 3}\n",
       "            ).addTo(map_03370fc5c66f256379235e7baf904a67);\n",
       "        \n",
       "    \n",
       "            circle_marker_45117e0b6840c5709a89694f0cbef8fb.bindTooltip(\n",
       "                `&lt;div&gt;\n",
       "                     [&#x27;서울항공비즈니스고등학교&#x27;]\n",
       "                 &lt;/div&gt;`,\n",
       "                {&quot;sticky&quot;: true}\n",
       "            );\n",
       "        \n",
       "    \n",
       "            var circle_marker_b5f5d3c015d419674039b8d19c8f3214 = L.circleMarker(\n",
       "                [37.6203042094228, 126.911993073275],\n",
       "                {&quot;bubblingMouseEvents&quot;: true, &quot;color&quot;: &quot;red&quot;, &quot;dashArray&quot;: null, &quot;dashOffset&quot;: null, &quot;fill&quot;: true, &quot;fillColor&quot;: &quot;orange&quot;, &quot;fillOpacity&quot;: 0.2, &quot;fillRule&quot;: &quot;evenodd&quot;, &quot;lineCap&quot;: &quot;round&quot;, &quot;lineJoin&quot;: &quot;round&quot;, &quot;opacity&quot;: 1.0, &quot;radius&quot;: 50, &quot;stroke&quot;: true, &quot;weight&quot;: 3}\n",
       "            ).addTo(map_03370fc5c66f256379235e7baf904a67);\n",
       "        \n",
       "    \n",
       "            circle_marker_b5f5d3c015d419674039b8d19c8f3214.bindTooltip(\n",
       "                `&lt;div&gt;\n",
       "                     [&#x27;선일빅데이터고등학교&#x27;]\n",
       "                 &lt;/div&gt;`,\n",
       "                {&quot;sticky&quot;: true}\n",
       "            );\n",
       "        \n",
       "    \n",
       "            var circle_marker_364822d86367f7827c2d4305eba9d612 = L.circleMarker(\n",
       "                [37.6203042094228, 126.911993073275],\n",
       "                {&quot;bubblingMouseEvents&quot;: true, &quot;color&quot;: &quot;red&quot;, &quot;dashArray&quot;: null, &quot;dashOffset&quot;: null, &quot;fill&quot;: true, &quot;fillColor&quot;: &quot;orange&quot;, &quot;fillOpacity&quot;: 0.2, &quot;fillRule&quot;: &quot;evenodd&quot;, &quot;lineCap&quot;: &quot;round&quot;, &quot;lineJoin&quot;: &quot;round&quot;, &quot;opacity&quot;: 1.0, &quot;radius&quot;: 50, &quot;stroke&quot;: true, &quot;weight&quot;: 3}\n",
       "            ).addTo(map_03370fc5c66f256379235e7baf904a67);\n",
       "        \n",
       "    \n",
       "            circle_marker_364822d86367f7827c2d4305eba9d612.bindTooltip(\n",
       "                `&lt;div&gt;\n",
       "                     [&#x27;선일여자고등학교&#x27;]\n",
       "                 &lt;/div&gt;`,\n",
       "                {&quot;sticky&quot;: true}\n",
       "            );\n",
       "        \n",
       "    \n",
       "            var circle_marker_bb159d2edb0dc770322c5e2a6038a164 = L.circleMarker(\n",
       "                [37.6187045126614, 126.909031611714],\n",
       "                {&quot;bubblingMouseEvents&quot;: true, &quot;color&quot;: &quot;red&quot;, &quot;dashArray&quot;: null, &quot;dashOffset&quot;: null, &quot;fill&quot;: true, &quot;fillColor&quot;: &quot;orange&quot;, &quot;fillOpacity&quot;: 0.2, &quot;fillRule&quot;: &quot;evenodd&quot;, &quot;lineCap&quot;: &quot;round&quot;, &quot;lineJoin&quot;: &quot;round&quot;, &quot;opacity&quot;: 1.0, &quot;radius&quot;: 50, &quot;stroke&quot;: true, &quot;weight&quot;: 3}\n",
       "            ).addTo(map_03370fc5c66f256379235e7baf904a67);\n",
       "        \n",
       "    \n",
       "            circle_marker_bb159d2edb0dc770322c5e2a6038a164.bindTooltip(\n",
       "                `&lt;div&gt;\n",
       "                     [&#x27;선정고등학교&#x27;]\n",
       "                 &lt;/div&gt;`,\n",
       "                {&quot;sticky&quot;: true}\n",
       "            );\n",
       "        \n",
       "    \n",
       "            var circle_marker_a2a1ed9122adabbff6df096db956cc95 = L.circleMarker(\n",
       "                [37.5509798002896, 127.087095159462],\n",
       "                {&quot;bubblingMouseEvents&quot;: true, &quot;color&quot;: &quot;red&quot;, &quot;dashArray&quot;: null, &quot;dashOffset&quot;: null, &quot;fill&quot;: true, &quot;fillColor&quot;: &quot;orange&quot;, &quot;fillOpacity&quot;: 0.2, &quot;fillRule&quot;: &quot;evenodd&quot;, &quot;lineCap&quot;: &quot;round&quot;, &quot;lineJoin&quot;: &quot;round&quot;, &quot;opacity&quot;: 1.0, &quot;radius&quot;: 50, &quot;stroke&quot;: true, &quot;weight&quot;: 3}\n",
       "            ).addTo(map_03370fc5c66f256379235e7baf904a67);\n",
       "        \n",
       "    \n",
       "            circle_marker_a2a1ed9122adabbff6df096db956cc95.bindTooltip(\n",
       "                `&lt;div&gt;\n",
       "                     [&#x27;선화예술고등학교&#x27;]\n",
       "                 &lt;/div&gt;`,\n",
       "                {&quot;sticky&quot;: true}\n",
       "            );\n",
       "        \n",
       "    \n",
       "            var circle_marker_cd0c157a69e5eca935f806993a60bec9 = L.circleMarker(\n",
       "                [37.534209370461, 126.95459335968],\n",
       "                {&quot;bubblingMouseEvents&quot;: true, &quot;color&quot;: &quot;red&quot;, &quot;dashArray&quot;: null, &quot;dashOffset&quot;: null, &quot;fill&quot;: true, &quot;fillColor&quot;: &quot;orange&quot;, &quot;fillOpacity&quot;: 0.2, &quot;fillRule&quot;: &quot;evenodd&quot;, &quot;lineCap&quot;: &quot;round&quot;, &quot;lineJoin&quot;: &quot;round&quot;, &quot;opacity&quot;: 1.0, &quot;radius&quot;: 50, &quot;stroke&quot;: true, &quot;weight&quot;: 3}\n",
       "            ).addTo(map_03370fc5c66f256379235e7baf904a67);\n",
       "        \n",
       "    \n",
       "            circle_marker_cd0c157a69e5eca935f806993a60bec9.bindTooltip(\n",
       "                `&lt;div&gt;\n",
       "                     [&#x27;성심여자고등학교&#x27;]\n",
       "                 &lt;/div&gt;`,\n",
       "                {&quot;sticky&quot;: true}\n",
       "            );\n",
       "        \n",
       "    \n",
       "            var circle_marker_eb22a24f1fd9f96260e74fdbfeb3b2a3 = L.circleMarker(\n",
       "                [37.5604306618095, 126.863621128106],\n",
       "                {&quot;bubblingMouseEvents&quot;: true, &quot;color&quot;: &quot;red&quot;, &quot;dashArray&quot;: null, &quot;dashOffset&quot;: null, &quot;fill&quot;: true, &quot;fillColor&quot;: &quot;orange&quot;, &quot;fillOpacity&quot;: 0.2, &quot;fillRule&quot;: &quot;evenodd&quot;, &quot;lineCap&quot;: &quot;round&quot;, &quot;lineJoin&quot;: &quot;round&quot;, &quot;opacity&quot;: 1.0, &quot;radius&quot;: 50, &quot;stroke&quot;: true, &quot;weight&quot;: 3}\n",
       "            ).addTo(map_03370fc5c66f256379235e7baf904a67);\n",
       "        \n",
       "    \n",
       "            circle_marker_eb22a24f1fd9f96260e74fdbfeb3b2a3.bindTooltip(\n",
       "                `&lt;div&gt;\n",
       "                     [&#x27;세현고등학교&#x27;]\n",
       "                 &lt;/div&gt;`,\n",
       "                {&quot;sticky&quot;: true}\n",
       "            );\n",
       "        \n",
       "    \n",
       "            var circle_marker_651b01a397d50760814a251fe4fa1a7b = L.circleMarker(\n",
       "                [37.627967222367, 127.028403050284],\n",
       "                {&quot;bubblingMouseEvents&quot;: true, &quot;color&quot;: &quot;red&quot;, &quot;dashArray&quot;: null, &quot;dashOffset&quot;: null, &quot;fill&quot;: true, &quot;fillColor&quot;: &quot;orange&quot;, &quot;fillOpacity&quot;: 0.2, &quot;fillRule&quot;: &quot;evenodd&quot;, &quot;lineCap&quot;: &quot;round&quot;, &quot;lineJoin&quot;: &quot;round&quot;, &quot;opacity&quot;: 1.0, &quot;radius&quot;: 50, &quot;stroke&quot;: true, &quot;weight&quot;: 3}\n",
       "            ).addTo(map_03370fc5c66f256379235e7baf904a67);\n",
       "        \n",
       "    \n",
       "            circle_marker_651b01a397d50760814a251fe4fa1a7b.bindTooltip(\n",
       "                `&lt;div&gt;\n",
       "                     [&#x27;신일고등학교&#x27;]\n",
       "                 &lt;/div&gt;`,\n",
       "                {&quot;sticky&quot;: true}\n",
       "            );\n",
       "        \n",
       "    \n",
       "            var circle_marker_eb31629024a2f8b29221ceff97b56bca = L.circleMarker(\n",
       "                [37.59871384669, 126.918836393178],\n",
       "                {&quot;bubblingMouseEvents&quot;: true, &quot;color&quot;: &quot;red&quot;, &quot;dashArray&quot;: null, &quot;dashOffset&quot;: null, &quot;fill&quot;: true, &quot;fillColor&quot;: &quot;orange&quot;, &quot;fillOpacity&quot;: 0.2, &quot;fillRule&quot;: &quot;evenodd&quot;, &quot;lineCap&quot;: &quot;round&quot;, &quot;lineJoin&quot;: &quot;round&quot;, &quot;opacity&quot;: 1.0, &quot;radius&quot;: 50, &quot;stroke&quot;: true, &quot;weight&quot;: 3}\n",
       "            ).addTo(map_03370fc5c66f256379235e7baf904a67);\n",
       "        \n",
       "    \n",
       "            circle_marker_eb31629024a2f8b29221ceff97b56bca.bindTooltip(\n",
       "                `&lt;div&gt;\n",
       "                     [&#x27;신진과학기술고등학교&#x27;]\n",
       "                 &lt;/div&gt;`,\n",
       "                {&quot;sticky&quot;: true}\n",
       "            );\n",
       "        \n",
       "    \n",
       "            var circle_marker_7663aea9c18ddc840e920140b50fc2d9 = L.circleMarker(\n",
       "                [37.5083205987323, 126.845202760621],\n",
       "                {&quot;bubblingMouseEvents&quot;: true, &quot;color&quot;: &quot;red&quot;, &quot;dashArray&quot;: null, &quot;dashOffset&quot;: null, &quot;fill&quot;: true, &quot;fillColor&quot;: &quot;orange&quot;, &quot;fillOpacity&quot;: 0.2, &quot;fillRule&quot;: &quot;evenodd&quot;, &quot;lineCap&quot;: &quot;round&quot;, &quot;lineJoin&quot;: &quot;round&quot;, &quot;opacity&quot;: 1.0, &quot;radius&quot;: 50, &quot;stroke&quot;: true, &quot;weight&quot;: 3}\n",
       "            ).addTo(map_03370fc5c66f256379235e7baf904a67);\n",
       "        \n",
       "    \n",
       "            circle_marker_7663aea9c18ddc840e920140b50fc2d9.bindTooltip(\n",
       "                `&lt;div&gt;\n",
       "                     [&#x27;양천고등학교&#x27;]\n",
       "                 &lt;/div&gt;`,\n",
       "                {&quot;sticky&quot;: true}\n",
       "            );\n",
       "        \n",
       "    \n",
       "            var circle_marker_411536656b87dee0cdcfbc0ec96562b0 = L.circleMarker(\n",
       "                [37.6302844506448, 127.049264552091],\n",
       "                {&quot;bubblingMouseEvents&quot;: true, &quot;color&quot;: &quot;red&quot;, &quot;dashArray&quot;: null, &quot;dashOffset&quot;: null, &quot;fill&quot;: true, &quot;fillColor&quot;: &quot;orange&quot;, &quot;fillOpacity&quot;: 0.2, &quot;fillRule&quot;: &quot;evenodd&quot;, &quot;lineCap&quot;: &quot;round&quot;, &quot;lineJoin&quot;: &quot;round&quot;, &quot;opacity&quot;: 1.0, &quot;radius&quot;: 50, &quot;stroke&quot;: true, &quot;weight&quot;: 3}\n",
       "            ).addTo(map_03370fc5c66f256379235e7baf904a67);\n",
       "        \n",
       "    \n",
       "            circle_marker_411536656b87dee0cdcfbc0ec96562b0.bindTooltip(\n",
       "                `&lt;div&gt;\n",
       "                     [&#x27;염광고등학교&#x27;]\n",
       "                 &lt;/div&gt;`,\n",
       "                {&quot;sticky&quot;: true}\n",
       "            );\n",
       "        \n",
       "    \n",
       "            var circle_marker_e719b6a01fd7fffb566256773385c50e = L.circleMarker(\n",
       "                [37.5003550678039, 126.827683012604],\n",
       "                {&quot;bubblingMouseEvents&quot;: true, &quot;color&quot;: &quot;red&quot;, &quot;dashArray&quot;: null, &quot;dashOffset&quot;: null, &quot;fill&quot;: true, &quot;fillColor&quot;: &quot;orange&quot;, &quot;fillOpacity&quot;: 0.2, &quot;fillRule&quot;: &quot;evenodd&quot;, &quot;lineCap&quot;: &quot;round&quot;, &quot;lineJoin&quot;: &quot;round&quot;, &quot;opacity&quot;: 1.0, &quot;radius&quot;: 50, &quot;stroke&quot;: true, &quot;weight&quot;: 3}\n",
       "            ).addTo(map_03370fc5c66f256379235e7baf904a67);\n",
       "        \n",
       "    \n",
       "            circle_marker_e719b6a01fd7fffb566256773385c50e.bindTooltip(\n",
       "                `&lt;div&gt;\n",
       "                     [&#x27;예림디자인고등학교&#x27;]\n",
       "                 &lt;/div&gt;`,\n",
       "                {&quot;sticky&quot;: true}\n",
       "            );\n",
       "        \n",
       "    \n",
       "            var circle_marker_93c57d8dd01a70be5b9b6dff7966cd58 = L.circleMarker(\n",
       "                [37.6109458980893, 126.914792838283],\n",
       "                {&quot;bubblingMouseEvents&quot;: true, &quot;color&quot;: &quot;red&quot;, &quot;dashArray&quot;: null, &quot;dashOffset&quot;: null, &quot;fill&quot;: true, &quot;fillColor&quot;: &quot;orange&quot;, &quot;fillOpacity&quot;: 0.2, &quot;fillRule&quot;: &quot;evenodd&quot;, &quot;lineCap&quot;: &quot;round&quot;, &quot;lineJoin&quot;: &quot;round&quot;, &quot;opacity&quot;: 1.0, &quot;radius&quot;: 50, &quot;stroke&quot;: true, &quot;weight&quot;: 3}\n",
       "            ).addTo(map_03370fc5c66f256379235e7baf904a67);\n",
       "        \n",
       "    \n",
       "            circle_marker_93c57d8dd01a70be5b9b6dff7966cd58.bindTooltip(\n",
       "                `&lt;div&gt;\n",
       "                     [&#x27;예일디자인고등학교&#x27;]\n",
       "                 &lt;/div&gt;`,\n",
       "                {&quot;sticky&quot;: true}\n",
       "            );\n",
       "        \n",
       "    \n",
       "            var circle_marker_aecb2bac04e809902119c2d1ef6d4717 = L.circleMarker(\n",
       "                [37.5045321738186, 127.128968951167],\n",
       "                {&quot;bubblingMouseEvents&quot;: true, &quot;color&quot;: &quot;red&quot;, &quot;dashArray&quot;: null, &quot;dashOffset&quot;: null, &quot;fill&quot;: true, &quot;fillColor&quot;: &quot;orange&quot;, &quot;fillOpacity&quot;: 0.2, &quot;fillRule&quot;: &quot;evenodd&quot;, &quot;lineCap&quot;: &quot;round&quot;, &quot;lineJoin&quot;: &quot;round&quot;, &quot;opacity&quot;: 1.0, &quot;radius&quot;: 50, &quot;stroke&quot;: true, &quot;weight&quot;: 3}\n",
       "            ).addTo(map_03370fc5c66f256379235e7baf904a67);\n",
       "        \n",
       "    \n",
       "            circle_marker_aecb2bac04e809902119c2d1ef6d4717.bindTooltip(\n",
       "                `&lt;div&gt;\n",
       "                     [&#x27;오금고등학교&#x27;]\n",
       "                 &lt;/div&gt;`,\n",
       "                {&quot;sticky&quot;: true}\n",
       "            );\n",
       "        \n",
       "    \n",
       "            var circle_marker_d518d747991f48bf1a7b2b67d40bc611 = L.circleMarker(\n",
       "                [37.5003550678039, 126.827683012604],\n",
       "                {&quot;bubblingMouseEvents&quot;: true, &quot;color&quot;: &quot;red&quot;, &quot;dashArray&quot;: null, &quot;dashOffset&quot;: null, &quot;fill&quot;: true, &quot;fillColor&quot;: &quot;orange&quot;, &quot;fillOpacity&quot;: 0.2, &quot;fillRule&quot;: &quot;evenodd&quot;, &quot;lineCap&quot;: &quot;round&quot;, &quot;lineJoin&quot;: &quot;round&quot;, &quot;opacity&quot;: 1.0, &quot;radius&quot;: 50, &quot;stroke&quot;: true, &quot;weight&quot;: 3}\n",
       "            ).addTo(map_03370fc5c66f256379235e7baf904a67);\n",
       "        \n",
       "    \n",
       "            circle_marker_d518d747991f48bf1a7b2b67d40bc611.bindTooltip(\n",
       "                `&lt;div&gt;\n",
       "                     [&#x27;오류고등학교&#x27;]\n",
       "                 &lt;/div&gt;`,\n",
       "                {&quot;sticky&quot;: true}\n",
       "            );\n",
       "        \n",
       "    \n",
       "            var circle_marker_ae8b0cb432d69155ee56d16581c864c6 = L.circleMarker(\n",
       "                [37.6591313767305, 127.058280693098],\n",
       "                {&quot;bubblingMouseEvents&quot;: true, &quot;color&quot;: &quot;red&quot;, &quot;dashArray&quot;: null, &quot;dashOffset&quot;: null, &quot;fill&quot;: true, &quot;fillColor&quot;: &quot;orange&quot;, &quot;fillOpacity&quot;: 0.2, &quot;fillRule&quot;: &quot;evenodd&quot;, &quot;lineCap&quot;: &quot;round&quot;, &quot;lineJoin&quot;: &quot;round&quot;, &quot;opacity&quot;: 1.0, &quot;radius&quot;: 50, &quot;stroke&quot;: true, &quot;weight&quot;: 3}\n",
       "            ).addTo(map_03370fc5c66f256379235e7baf904a67);\n",
       "        \n",
       "    \n",
       "            circle_marker_ae8b0cb432d69155ee56d16581c864c6.bindTooltip(\n",
       "                `&lt;div&gt;\n",
       "                     [&#x27;용화여자고등학교&#x27;]\n",
       "                 &lt;/div&gt;`,\n",
       "                {&quot;sticky&quot;: true}\n",
       "            );\n",
       "        \n",
       "    \n",
       "            var circle_marker_c761044a8a962365e0e31b21170ba30d = L.circleMarker(\n",
       "                [37.5663888550725, 126.947355714248],\n",
       "                {&quot;bubblingMouseEvents&quot;: true, &quot;color&quot;: &quot;red&quot;, &quot;dashArray&quot;: null, &quot;dashOffset&quot;: null, &quot;fill&quot;: true, &quot;fillColor&quot;: &quot;orange&quot;, &quot;fillOpacity&quot;: 0.2, &quot;fillRule&quot;: &quot;evenodd&quot;, &quot;lineCap&quot;: &quot;round&quot;, &quot;lineJoin&quot;: &quot;round&quot;, &quot;opacity&quot;: 1.0, &quot;radius&quot;: 50, &quot;stroke&quot;: true, &quot;weight&quot;: 3}\n",
       "            ).addTo(map_03370fc5c66f256379235e7baf904a67);\n",
       "        \n",
       "    \n",
       "            circle_marker_c761044a8a962365e0e31b21170ba30d.bindTooltip(\n",
       "                `&lt;div&gt;\n",
       "                     [&#x27;이화여자대학교사범대학부속이화금란고등학교&#x27;]\n",
       "                 &lt;/div&gt;`,\n",
       "                {&quot;sticky&quot;: true}\n",
       "            );\n",
       "        \n",
       "    \n",
       "            var circle_marker_b701485ec578929c31a9fe75e532ec42 = L.circleMarker(\n",
       "                [37.5655773233848, 126.969641663889],\n",
       "                {&quot;bubblingMouseEvents&quot;: true, &quot;color&quot;: &quot;red&quot;, &quot;dashArray&quot;: null, &quot;dashOffset&quot;: null, &quot;fill&quot;: true, &quot;fillColor&quot;: &quot;orange&quot;, &quot;fillOpacity&quot;: 0.2, &quot;fillRule&quot;: &quot;evenodd&quot;, &quot;lineCap&quot;: &quot;round&quot;, &quot;lineJoin&quot;: &quot;round&quot;, &quot;opacity&quot;: 1.0, &quot;radius&quot;: 50, &quot;stroke&quot;: true, &quot;weight&quot;: 3}\n",
       "            ).addTo(map_03370fc5c66f256379235e7baf904a67);\n",
       "        \n",
       "    \n",
       "            circle_marker_b701485ec578929c31a9fe75e532ec42.bindTooltip(\n",
       "                `&lt;div&gt;\n",
       "                     [&#x27;이화여자외국어고등학교&#x27;]\n",
       "                 &lt;/div&gt;`,\n",
       "                {&quot;sticky&quot;: true}\n",
       "            );\n",
       "        \n",
       "    \n",
       "            var circle_marker_4a6ddce9ce32d3bdab646a5783b33d32 = L.circleMarker(\n",
       "                [37.6590464061269, 127.050690661699],\n",
       "                {&quot;bubblingMouseEvents&quot;: true, &quot;color&quot;: &quot;red&quot;, &quot;dashArray&quot;: null, &quot;dashOffset&quot;: null, &quot;fill&quot;: true, &quot;fillColor&quot;: &quot;orange&quot;, &quot;fillOpacity&quot;: 0.2, &quot;fillRule&quot;: &quot;evenodd&quot;, &quot;lineCap&quot;: &quot;round&quot;, &quot;lineJoin&quot;: &quot;round&quot;, &quot;opacity&quot;: 1.0, &quot;radius&quot;: 50, &quot;stroke&quot;: true, &quot;weight&quot;: 3}\n",
       "            ).addTo(map_03370fc5c66f256379235e7baf904a67);\n",
       "        \n",
       "    \n",
       "            circle_marker_4a6ddce9ce32d3bdab646a5783b33d32.bindTooltip(\n",
       "                `&lt;div&gt;\n",
       "                     [&#x27;자운고등학교&#x27;]\n",
       "                 &lt;/div&gt;`,\n",
       "                {&quot;sticky&quot;: true}\n",
       "            );\n",
       "        \n",
       "    \n",
       "            var circle_marker_57763093f68c315e30650143e8d023d8 = L.circleMarker(\n",
       "                [37.5147012912615, 127.08828295987],\n",
       "                {&quot;bubblingMouseEvents&quot;: true, &quot;color&quot;: &quot;red&quot;, &quot;dashArray&quot;: null, &quot;dashOffset&quot;: null, &quot;fill&quot;: true, &quot;fillColor&quot;: &quot;orange&quot;, &quot;fillOpacity&quot;: 0.2, &quot;fillRule&quot;: &quot;evenodd&quot;, &quot;lineCap&quot;: &quot;round&quot;, &quot;lineJoin&quot;: &quot;round&quot;, &quot;opacity&quot;: 1.0, &quot;radius&quot;: 50, &quot;stroke&quot;: true, &quot;weight&quot;: 3}\n",
       "            ).addTo(map_03370fc5c66f256379235e7baf904a67);\n",
       "        \n",
       "    \n",
       "            circle_marker_57763093f68c315e30650143e8d023d8.bindTooltip(\n",
       "                `&lt;div&gt;\n",
       "                     [&#x27;잠신고등학교&#x27;]\n",
       "                 &lt;/div&gt;`,\n",
       "                {&quot;sticky&quot;: true}\n",
       "            );\n",
       "        \n",
       "    \n",
       "            var circle_marker_856722ba0c217f2371e2cbaa015510e3 = L.circleMarker(\n",
       "                [37.5017941334924, 127.114241325581],\n",
       "                {&quot;bubblingMouseEvents&quot;: true, &quot;color&quot;: &quot;red&quot;, &quot;dashArray&quot;: null, &quot;dashOffset&quot;: null, &quot;fill&quot;: true, &quot;fillColor&quot;: &quot;orange&quot;, &quot;fillOpacity&quot;: 0.2, &quot;fillRule&quot;: &quot;evenodd&quot;, &quot;lineCap&quot;: &quot;round&quot;, &quot;lineJoin&quot;: &quot;round&quot;, &quot;opacity&quot;: 1.0, &quot;radius&quot;: 50, &quot;stroke&quot;: true, &quot;weight&quot;: 3}\n",
       "            ).addTo(map_03370fc5c66f256379235e7baf904a67);\n",
       "        \n",
       "    \n",
       "            circle_marker_856722ba0c217f2371e2cbaa015510e3.bindTooltip(\n",
       "                `&lt;div&gt;\n",
       "                     [&#x27;잠실여자고등학교&#x27;]\n",
       "                 &lt;/div&gt;`,\n",
       "                {&quot;sticky&quot;: true}\n",
       "            );\n",
       "        \n",
       "    \n",
       "            var circle_marker_702e25797f8dedd14362a24ac94efab1 = L.circleMarker(\n",
       "                [37.6510357712645, 127.038819095625],\n",
       "                {&quot;bubblingMouseEvents&quot;: true, &quot;color&quot;: &quot;red&quot;, &quot;dashArray&quot;: null, &quot;dashOffset&quot;: null, &quot;fill&quot;: true, &quot;fillColor&quot;: &quot;orange&quot;, &quot;fillOpacity&quot;: 0.2, &quot;fillRule&quot;: &quot;evenodd&quot;, &quot;lineCap&quot;: &quot;round&quot;, &quot;lineJoin&quot;: &quot;round&quot;, &quot;opacity&quot;: 1.0, &quot;radius&quot;: 50, &quot;stroke&quot;: true, &quot;weight&quot;: 3}\n",
       "            ).addTo(map_03370fc5c66f256379235e7baf904a67);\n",
       "        \n",
       "    \n",
       "            circle_marker_702e25797f8dedd14362a24ac94efab1.bindTooltip(\n",
       "                `&lt;div&gt;\n",
       "                     [&#x27;창동고등학교&#x27;]\n",
       "                 &lt;/div&gt;`,\n",
       "                {&quot;sticky&quot;: true}\n",
       "            );\n",
       "        \n",
       "    \n",
       "            var circle_marker_0d7a7b03ec1a194e22fc0e1f49689cbf = L.circleMarker(\n",
       "                [37.5846402882465, 126.921809482886],\n",
       "                {&quot;bubblingMouseEvents&quot;: true, &quot;color&quot;: &quot;red&quot;, &quot;dashArray&quot;: null, &quot;dashOffset&quot;: null, &quot;fill&quot;: true, &quot;fillColor&quot;: &quot;orange&quot;, &quot;fillOpacity&quot;: 0.2, &quot;fillRule&quot;: &quot;evenodd&quot;, &quot;lineCap&quot;: &quot;round&quot;, &quot;lineJoin&quot;: &quot;round&quot;, &quot;opacity&quot;: 1.0, &quot;radius&quot;: 50, &quot;stroke&quot;: true, &quot;weight&quot;: 3}\n",
       "            ).addTo(map_03370fc5c66f256379235e7baf904a67);\n",
       "        \n",
       "    \n",
       "            circle_marker_0d7a7b03ec1a194e22fc0e1f49689cbf.bindTooltip(\n",
       "                `&lt;div&gt;\n",
       "                     [&#x27;충암고등학교&#x27;]\n",
       "                 &lt;/div&gt;`,\n",
       "                {&quot;sticky&quot;: true}\n",
       "            );\n",
       "        \n",
       "    \n",
       "            var circle_marker_3dd2e050b8628180c2a5a41b363c87f1 = L.circleMarker(\n",
       "                [37.6189925408244, 127.085819844147],\n",
       "                {&quot;bubblingMouseEvents&quot;: true, &quot;color&quot;: &quot;red&quot;, &quot;dashArray&quot;: null, &quot;dashOffset&quot;: null, &quot;fill&quot;: true, &quot;fillColor&quot;: &quot;orange&quot;, &quot;fillOpacity&quot;: 0.2, &quot;fillRule&quot;: &quot;evenodd&quot;, &quot;lineCap&quot;: &quot;round&quot;, &quot;lineJoin&quot;: &quot;round&quot;, &quot;opacity&quot;: 1.0, &quot;radius&quot;: 50, &quot;stroke&quot;: true, &quot;weight&quot;: 3}\n",
       "            ).addTo(map_03370fc5c66f256379235e7baf904a67);\n",
       "        \n",
       "    \n",
       "            circle_marker_3dd2e050b8628180c2a5a41b363c87f1.bindTooltip(\n",
       "                `&lt;div&gt;\n",
       "                     [&#x27;태릉고등학교&#x27;]\n",
       "                 &lt;/div&gt;`,\n",
       "                {&quot;sticky&quot;: true}\n",
       "            );\n",
       "        \n",
       "    \n",
       "            var circle_marker_10bf97139b27d30ee0452aa5bf05a5cd = L.circleMarker(\n",
       "                [37.643357369067, 127.108850343184],\n",
       "                {&quot;bubblingMouseEvents&quot;: true, &quot;color&quot;: &quot;red&quot;, &quot;dashArray&quot;: null, &quot;dashOffset&quot;: null, &quot;fill&quot;: true, &quot;fillColor&quot;: &quot;orange&quot;, &quot;fillOpacity&quot;: 0.2, &quot;fillRule&quot;: &quot;evenodd&quot;, &quot;lineCap&quot;: &quot;round&quot;, &quot;lineJoin&quot;: &quot;round&quot;, &quot;opacity&quot;: 1.0, &quot;radius&quot;: 50, &quot;stroke&quot;: true, &quot;weight&quot;: 3}\n",
       "            ).addTo(map_03370fc5c66f256379235e7baf904a67);\n",
       "        \n",
       "    \n",
       "            circle_marker_10bf97139b27d30ee0452aa5bf05a5cd.bindTooltip(\n",
       "                `&lt;div&gt;\n",
       "                     [&#x27;한국삼육고등학교&#x27;]\n",
       "                 &lt;/div&gt;`,\n",
       "                {&quot;sticky&quot;: true}\n",
       "            );\n",
       "        \n",
       "    \n",
       "            var circle_marker_04a0dd24b29d249bab1b7f923c749c00 = L.circleMarker(\n",
       "                [37.5747927037293, 126.808143937842],\n",
       "                {&quot;bubblingMouseEvents&quot;: true, &quot;color&quot;: &quot;red&quot;, &quot;dashArray&quot;: null, &quot;dashOffset&quot;: null, &quot;fill&quot;: true, &quot;fillColor&quot;: &quot;orange&quot;, &quot;fillOpacity&quot;: 0.2, &quot;fillRule&quot;: &quot;evenodd&quot;, &quot;lineCap&quot;: &quot;round&quot;, &quot;lineJoin&quot;: &quot;round&quot;, &quot;opacity&quot;: 1.0, &quot;radius&quot;: 50, &quot;stroke&quot;: true, &quot;weight&quot;: 3}\n",
       "            ).addTo(map_03370fc5c66f256379235e7baf904a67);\n",
       "        \n",
       "    \n",
       "            circle_marker_04a0dd24b29d249bab1b7f923c749c00.bindTooltip(\n",
       "                `&lt;div&gt;\n",
       "                     [&#x27;한서고등학교&#x27;]\n",
       "                 &lt;/div&gt;`,\n",
       "                {&quot;sticky&quot;: true}\n",
       "            );\n",
       "        \n",
       "    \n",
       "            var circle_marker_1caff789aa2038d798a71704e8804da2 = L.circleMarker(\n",
       "                [37.5936666161184, 127.002804963597],\n",
       "                {&quot;bubblingMouseEvents&quot;: true, &quot;color&quot;: &quot;red&quot;, &quot;dashArray&quot;: null, &quot;dashOffset&quot;: null, &quot;fill&quot;: true, &quot;fillColor&quot;: &quot;orange&quot;, &quot;fillOpacity&quot;: 0.2, &quot;fillRule&quot;: &quot;evenodd&quot;, &quot;lineCap&quot;: &quot;round&quot;, &quot;lineJoin&quot;: &quot;round&quot;, &quot;opacity&quot;: 1.0, &quot;radius&quot;: 50, &quot;stroke&quot;: true, &quot;weight&quot;: 3}\n",
       "            ).addTo(map_03370fc5c66f256379235e7baf904a67);\n",
       "        \n",
       "    \n",
       "            circle_marker_1caff789aa2038d798a71704e8804da2.bindTooltip(\n",
       "                `&lt;div&gt;\n",
       "                     [&#x27;홍익대학교사범대학부속고등학교&#x27;]\n",
       "                 &lt;/div&gt;`,\n",
       "                {&quot;sticky&quot;: true}\n",
       "            );\n",
       "        \n",
       "    \n",
       "            var circle_marker_d1a8216b442eb03a707586face18e181 = L.circleMarker(\n",
       "                [37.563510635781, 126.919166278819],\n",
       "                {&quot;bubblingMouseEvents&quot;: true, &quot;color&quot;: &quot;red&quot;, &quot;dashArray&quot;: null, &quot;dashOffset&quot;: null, &quot;fill&quot;: true, &quot;fillColor&quot;: &quot;orange&quot;, &quot;fillOpacity&quot;: 0.2, &quot;fillRule&quot;: &quot;evenodd&quot;, &quot;lineCap&quot;: &quot;round&quot;, &quot;lineJoin&quot;: &quot;round&quot;, &quot;opacity&quot;: 1.0, &quot;radius&quot;: 50, &quot;stroke&quot;: true, &quot;weight&quot;: 3}\n",
       "            ).addTo(map_03370fc5c66f256379235e7baf904a67);\n",
       "        \n",
       "    \n",
       "            circle_marker_d1a8216b442eb03a707586face18e181.bindTooltip(\n",
       "                `&lt;div&gt;\n",
       "                     [&#x27;홍익디자인고등학교&#x27;]\n",
       "                 &lt;/div&gt;`,\n",
       "                {&quot;sticky&quot;: true}\n",
       "            );\n",
       "        \n",
       "    \n",
       "            var circle_marker_aa99e00ab041d283916611500de02a02 = L.circleMarker(\n",
       "                [37.5819005156881, 127.067434080061],\n",
       "                {&quot;bubblingMouseEvents&quot;: true, &quot;color&quot;: &quot;red&quot;, &quot;dashArray&quot;: null, &quot;dashOffset&quot;: null, &quot;fill&quot;: true, &quot;fillColor&quot;: &quot;orange&quot;, &quot;fillOpacity&quot;: 0.2, &quot;fillRule&quot;: &quot;evenodd&quot;, &quot;lineCap&quot;: &quot;round&quot;, &quot;lineJoin&quot;: &quot;round&quot;, &quot;opacity&quot;: 1.0, &quot;radius&quot;: 50, &quot;stroke&quot;: true, &quot;weight&quot;: 3}\n",
       "            ).addTo(map_03370fc5c66f256379235e7baf904a67);\n",
       "        \n",
       "    \n",
       "            circle_marker_aa99e00ab041d283916611500de02a02.bindTooltip(\n",
       "                `&lt;div&gt;\n",
       "                     [&#x27;휘경여자고등학교&#x27;]\n",
       "                 &lt;/div&gt;`,\n",
       "                {&quot;sticky&quot;: true}\n",
       "            );\n",
       "        \n",
       "    \n",
       "            var circle_marker_f4416f66c23bd1c425bc591566d13735 = L.circleMarker(\n",
       "                [37.5363155693554, 126.865771125825],\n",
       "                {&quot;bubblingMouseEvents&quot;: true, &quot;color&quot;: &quot;yellow&quot;, &quot;dashArray&quot;: null, &quot;dashOffset&quot;: null, &quot;fill&quot;: true, &quot;fillColor&quot;: &quot;yellow&quot;, &quot;fillOpacity&quot;: 0.2, &quot;fillRule&quot;: &quot;evenodd&quot;, &quot;lineCap&quot;: &quot;round&quot;, &quot;lineJoin&quot;: &quot;round&quot;, &quot;opacity&quot;: 1.0, &quot;radius&quot;: 50, &quot;stroke&quot;: true, &quot;weight&quot;: 3}\n",
       "            ).addTo(map_03370fc5c66f256379235e7baf904a67);\n",
       "        \n",
       "    \n",
       "            circle_marker_f4416f66c23bd1c425bc591566d13735.bindTooltip(\n",
       "                `&lt;div&gt;\n",
       "                     [&#x27;강서고등학교&#x27;]\n",
       "                 &lt;/div&gt;`,\n",
       "                {&quot;sticky&quot;: true}\n",
       "            );\n",
       "        \n",
       "    \n",
       "            var circle_marker_986d03a6ae1f63ed10f6891df7ad0118 = L.circleMarker(\n",
       "                [37.5760340875363, 126.816181657979],\n",
       "                {&quot;bubblingMouseEvents&quot;: true, &quot;color&quot;: &quot;yellow&quot;, &quot;dashArray&quot;: null, &quot;dashOffset&quot;: null, &quot;fill&quot;: true, &quot;fillColor&quot;: &quot;yellow&quot;, &quot;fillOpacity&quot;: 0.2, &quot;fillRule&quot;: &quot;evenodd&quot;, &quot;lineCap&quot;: &quot;round&quot;, &quot;lineJoin&quot;: &quot;round&quot;, &quot;opacity&quot;: 1.0, &quot;radius&quot;: 50, &quot;stroke&quot;: true, &quot;weight&quot;: 3}\n",
       "            ).addTo(map_03370fc5c66f256379235e7baf904a67);\n",
       "        \n",
       "    \n",
       "            circle_marker_986d03a6ae1f63ed10f6891df7ad0118.bindTooltip(\n",
       "                `&lt;div&gt;\n",
       "                     [&#x27;강서공업고등학교&#x27;]\n",
       "                 &lt;/div&gt;`,\n",
       "                {&quot;sticky&quot;: true}\n",
       "            );\n",
       "        \n",
       "    \n",
       "            var circle_marker_10fa4f1dac64a33367d71b0b3bd391ed = L.circleMarker(\n",
       "                [37.5638280994729, 127.177903473129],\n",
       "                {&quot;bubblingMouseEvents&quot;: true, &quot;color&quot;: &quot;yellow&quot;, &quot;dashArray&quot;: null, &quot;dashOffset&quot;: null, &quot;fill&quot;: true, &quot;fillColor&quot;: &quot;yellow&quot;, &quot;fillOpacity&quot;: 0.2, &quot;fillRule&quot;: &quot;evenodd&quot;, &quot;lineCap&quot;: &quot;round&quot;, &quot;lineJoin&quot;: &quot;round&quot;, &quot;opacity&quot;: 1.0, &quot;radius&quot;: 50, &quot;stroke&quot;: true, &quot;weight&quot;: 3}\n",
       "            ).addTo(map_03370fc5c66f256379235e7baf904a67);\n",
       "        \n",
       "    \n",
       "            circle_marker_10fa4f1dac64a33367d71b0b3bd391ed.bindTooltip(\n",
       "                `&lt;div&gt;\n",
       "                     [&#x27;강일고등학교&#x27;]\n",
       "                 &lt;/div&gt;`,\n",
       "                {&quot;sticky&quot;: true}\n",
       "            );\n",
       "        \n",
       "    \n",
       "            var circle_marker_36c27ed1c3cfef2e0d141928034b2826 = L.circleMarker(\n",
       "                [37.5866013303355, 127.01603168441],\n",
       "                {&quot;bubblingMouseEvents&quot;: true, &quot;color&quot;: &quot;yellow&quot;, &quot;dashArray&quot;: null, &quot;dashOffset&quot;: null, &quot;fill&quot;: true, &quot;fillColor&quot;: &quot;yellow&quot;, &quot;fillOpacity&quot;: 0.2, &quot;fillRule&quot;: &quot;evenodd&quot;, &quot;lineCap&quot;: &quot;round&quot;, &quot;lineJoin&quot;: &quot;round&quot;, &quot;opacity&quot;: 1.0, &quot;radius&quot;: 50, &quot;stroke&quot;: true, &quot;weight&quot;: 3}\n",
       "            ).addTo(map_03370fc5c66f256379235e7baf904a67);\n",
       "        \n",
       "    \n",
       "            circle_marker_36c27ed1c3cfef2e0d141928034b2826.bindTooltip(\n",
       "                `&lt;div&gt;\n",
       "                     [&#x27;경동고등학교&#x27;]\n",
       "                 &lt;/div&gt;`,\n",
       "                {&quot;sticky&quot;: true}\n",
       "            );\n",
       "        \n",
       "    \n",
       "            var circle_marker_93756358bc580028eacfeffe8d18d55a = L.circleMarker(\n",
       "                [37.4934188575707, 126.982273400501],\n",
       "                {&quot;bubblingMouseEvents&quot;: true, &quot;color&quot;: &quot;yellow&quot;, &quot;dashArray&quot;: null, &quot;dashOffset&quot;: null, &quot;fill&quot;: true, &quot;fillColor&quot;: &quot;yellow&quot;, &quot;fillOpacity&quot;: 0.2, &quot;fillRule&quot;: &quot;evenodd&quot;, &quot;lineCap&quot;: &quot;round&quot;, &quot;lineJoin&quot;: &quot;round&quot;, &quot;opacity&quot;: 1.0, &quot;radius&quot;: 50, &quot;stroke&quot;: true, &quot;weight&quot;: 3}\n",
       "            ).addTo(map_03370fc5c66f256379235e7baf904a67);\n",
       "        \n",
       "    \n",
       "            circle_marker_93756358bc580028eacfeffe8d18d55a.bindTooltip(\n",
       "                `&lt;div&gt;\n",
       "                     [&#x27;경문고등학교&#x27;]\n",
       "                 &lt;/div&gt;`,\n",
       "                {&quot;sticky&quot;: true}\n",
       "            );\n",
       "        \n",
       "    \n",
       "            var circle_marker_afcfea1556c825bd0bd1cb29c8e6b8ff = L.circleMarker(\n",
       "                [37.607838568731, 127.002830184796],\n",
       "                {&quot;bubblingMouseEvents&quot;: true, &quot;color&quot;: &quot;yellow&quot;, &quot;dashArray&quot;: null, &quot;dashOffset&quot;: null, &quot;fill&quot;: true, &quot;fillColor&quot;: &quot;yellow&quot;, &quot;fillOpacity&quot;: 0.2, &quot;fillRule&quot;: &quot;evenodd&quot;, &quot;lineCap&quot;: &quot;round&quot;, &quot;lineJoin&quot;: &quot;round&quot;, &quot;opacity&quot;: 1.0, &quot;radius&quot;: 50, &quot;stroke&quot;: true, &quot;weight&quot;: 3}\n",
       "            ).addTo(map_03370fc5c66f256379235e7baf904a67);\n",
       "        \n",
       "    \n",
       "            circle_marker_afcfea1556c825bd0bd1cb29c8e6b8ff.bindTooltip(\n",
       "                `&lt;div&gt;\n",
       "                     [&#x27;고려대학교사범대학부속고등학교&#x27;]\n",
       "                 &lt;/div&gt;`,\n",
       "                {&quot;sticky&quot;: true}\n",
       "            );\n",
       "        \n",
       "    \n",
       "            var circle_marker_7cf71cd074b9e9e5b4a6a1983cba5f6a = L.circleMarker(\n",
       "                [37.5217916605406, 126.88292354628],\n",
       "                {&quot;bubblingMouseEvents&quot;: true, &quot;color&quot;: &quot;yellow&quot;, &quot;dashArray&quot;: null, &quot;dashOffset&quot;: null, &quot;fill&quot;: true, &quot;fillColor&quot;: &quot;yellow&quot;, &quot;fillOpacity&quot;: 0.2, &quot;fillRule&quot;: &quot;evenodd&quot;, &quot;lineCap&quot;: &quot;round&quot;, &quot;lineJoin&quot;: &quot;round&quot;, &quot;opacity&quot;: 1.0, &quot;radius&quot;: 50, &quot;stroke&quot;: true, &quot;weight&quot;: 3}\n",
       "            ).addTo(map_03370fc5c66f256379235e7baf904a67);\n",
       "        \n",
       "    \n",
       "            circle_marker_7cf71cd074b9e9e5b4a6a1983cba5f6a.bindTooltip(\n",
       "                `&lt;div&gt;\n",
       "                     [&#x27;관악고등학교&#x27;]\n",
       "                 &lt;/div&gt;`,\n",
       "                {&quot;sticky&quot;: true}\n",
       "            );\n",
       "        \n",
       "    \n",
       "            var circle_marker_0d73a0afb7910e98ddea00dc9f7bba58 = L.circleMarker(\n",
       "                [37.5371981027922, 126.823275879439],\n",
       "                {&quot;bubblingMouseEvents&quot;: true, &quot;color&quot;: &quot;yellow&quot;, &quot;dashArray&quot;: null, &quot;dashOffset&quot;: null, &quot;fill&quot;: true, &quot;fillColor&quot;: &quot;yellow&quot;, &quot;fillOpacity&quot;: 0.2, &quot;fillRule&quot;: &quot;evenodd&quot;, &quot;lineCap&quot;: &quot;round&quot;, &quot;lineJoin&quot;: &quot;round&quot;, &quot;opacity&quot;: 1.0, &quot;radius&quot;: 50, &quot;stroke&quot;: true, &quot;weight&quot;: 3}\n",
       "            ).addTo(map_03370fc5c66f256379235e7baf904a67);\n",
       "        \n",
       "    \n",
       "            circle_marker_0d73a0afb7910e98ddea00dc9f7bba58.bindTooltip(\n",
       "                `&lt;div&gt;\n",
       "                     [&#x27;광영고등학교&#x27;]\n",
       "                 &lt;/div&gt;`,\n",
       "                {&quot;sticky&quot;: true}\n",
       "            );\n",
       "        \n",
       "    \n",
       "            var circle_marker_1e217c34bcfc6ebeb7488c3d21d7e6f0 = L.circleMarker(\n",
       "                [37.4713756726623, 126.924909105757],\n",
       "                {&quot;bubblingMouseEvents&quot;: true, &quot;color&quot;: &quot;yellow&quot;, &quot;dashArray&quot;: null, &quot;dashOffset&quot;: null, &quot;fill&quot;: true, &quot;fillColor&quot;: &quot;yellow&quot;, &quot;fillOpacity&quot;: 0.2, &quot;fillRule&quot;: &quot;evenodd&quot;, &quot;lineCap&quot;: &quot;round&quot;, &quot;lineJoin&quot;: &quot;round&quot;, &quot;opacity&quot;: 1.0, &quot;radius&quot;: 50, &quot;stroke&quot;: true, &quot;weight&quot;: 3}\n",
       "            ).addTo(map_03370fc5c66f256379235e7baf904a67);\n",
       "        \n",
       "    \n",
       "            circle_marker_1e217c34bcfc6ebeb7488c3d21d7e6f0.bindTooltip(\n",
       "                `&lt;div&gt;\n",
       "                     [&#x27;남강고등학교&#x27;]\n",
       "                 &lt;/div&gt;`,\n",
       "                {&quot;sticky&quot;: true}\n",
       "            );\n",
       "        \n",
       "    \n",
       "            var circle_marker_03940cf062ffdb81cc66e913a7030cbe = L.circleMarker(\n",
       "                [37.6618031933787, 127.054019473757],\n",
       "                {&quot;bubblingMouseEvents&quot;: true, &quot;color&quot;: &quot;yellow&quot;, &quot;dashArray&quot;: null, &quot;dashOffset&quot;: null, &quot;fill&quot;: true, &quot;fillColor&quot;: &quot;yellow&quot;, &quot;fillOpacity&quot;: 0.2, &quot;fillRule&quot;: &quot;evenodd&quot;, &quot;lineCap&quot;: &quot;round&quot;, &quot;lineJoin&quot;: &quot;round&quot;, &quot;opacity&quot;: 1.0, &quot;radius&quot;: 50, &quot;stroke&quot;: true, &quot;weight&quot;: 3}\n",
       "            ).addTo(map_03370fc5c66f256379235e7baf904a67);\n",
       "        \n",
       "    \n",
       "            circle_marker_03940cf062ffdb81cc66e913a7030cbe.bindTooltip(\n",
       "                `&lt;div&gt;\n",
       "                     [&#x27;노원고등학교&#x27;]\n",
       "                 &lt;/div&gt;`,\n",
       "                {&quot;sticky&quot;: true}\n",
       "            );\n",
       "        \n",
       "    \n",
       "            var circle_marker_45e41bbe9d9c3b438aebe42879a202fe = L.circleMarker(\n",
       "                [37.5779546698355, 127.025323479801],\n",
       "                {&quot;bubblingMouseEvents&quot;: true, &quot;color&quot;: &quot;yellow&quot;, &quot;dashArray&quot;: null, &quot;dashOffset&quot;: null, &quot;fill&quot;: true, &quot;fillColor&quot;: &quot;yellow&quot;, &quot;fillOpacity&quot;: 0.2, &quot;fillRule&quot;: &quot;evenodd&quot;, &quot;lineCap&quot;: &quot;round&quot;, &quot;lineJoin&quot;: &quot;round&quot;, &quot;opacity&quot;: 1.0, &quot;radius&quot;: 50, &quot;stroke&quot;: true, &quot;weight&quot;: 3}\n",
       "            ).addTo(map_03370fc5c66f256379235e7baf904a67);\n",
       "        \n",
       "    \n",
       "            circle_marker_45e41bbe9d9c3b438aebe42879a202fe.bindTooltip(\n",
       "                `&lt;div&gt;\n",
       "                     [&#x27;대광고등학교&#x27;]\n",
       "                 &lt;/div&gt;`,\n",
       "                {&quot;sticky&quot;: true}\n",
       "            );\n",
       "        \n",
       "    \n",
       "            var circle_marker_90ba69815944a92b65ae8d02f7807bc0 = L.circleMarker(\n",
       "                [37.5624502219725, 127.089376716312],\n",
       "                {&quot;bubblingMouseEvents&quot;: true, &quot;color&quot;: &quot;yellow&quot;, &quot;dashArray&quot;: null, &quot;dashOffset&quot;: null, &quot;fill&quot;: true, &quot;fillColor&quot;: &quot;yellow&quot;, &quot;fillOpacity&quot;: 0.2, &quot;fillRule&quot;: &quot;evenodd&quot;, &quot;lineCap&quot;: &quot;round&quot;, &quot;lineJoin&quot;: &quot;round&quot;, &quot;opacity&quot;: 1.0, &quot;radius&quot;: 50, &quot;stroke&quot;: true, &quot;weight&quot;: 3}\n",
       "            ).addTo(map_03370fc5c66f256379235e7baf904a67);\n",
       "        \n",
       "    \n",
       "            circle_marker_90ba69815944a92b65ae8d02f7807bc0.bindTooltip(\n",
       "                `&lt;div&gt;\n",
       "                     [&#x27;대원여자고등학교&#x27;]\n",
       "                 &lt;/div&gt;`,\n",
       "                {&quot;sticky&quot;: true}\n",
       "            );\n",
       "        \n",
       "    \n",
       "            var circle_marker_b599a5880cbcc1e18ad93f352afeeb07 = L.circleMarker(\n",
       "                [37.5114137684075, 126.834906714744],\n",
       "                {&quot;bubblingMouseEvents&quot;: true, &quot;color&quot;: &quot;yellow&quot;, &quot;dashArray&quot;: null, &quot;dashOffset&quot;: null, &quot;fill&quot;: true, &quot;fillColor&quot;: &quot;yellow&quot;, &quot;fillOpacity&quot;: 0.2, &quot;fillRule&quot;: &quot;evenodd&quot;, &quot;lineCap&quot;: &quot;round&quot;, &quot;lineJoin&quot;: &quot;round&quot;, &quot;opacity&quot;: 1.0, &quot;radius&quot;: 50, &quot;stroke&quot;: true, &quot;weight&quot;: 3}\n",
       "            ).addTo(map_03370fc5c66f256379235e7baf904a67);\n",
       "        \n",
       "    \n",
       "            circle_marker_b599a5880cbcc1e18ad93f352afeeb07.bindTooltip(\n",
       "                `&lt;div&gt;\n",
       "                     [&#x27;대일관광고등학교&#x27;]\n",
       "                 &lt;/div&gt;`,\n",
       "                {&quot;sticky&quot;: true}\n",
       "            );\n",
       "        \n",
       "    \n",
       "            var circle_marker_3c1c3291a9976f33c5c5ac0c76207e50 = L.circleMarker(\n",
       "                [37.6378068538477, 127.076090022542],\n",
       "                {&quot;bubblingMouseEvents&quot;: true, &quot;color&quot;: &quot;yellow&quot;, &quot;dashArray&quot;: null, &quot;dashOffset&quot;: null, &quot;fill&quot;: true, &quot;fillColor&quot;: &quot;yellow&quot;, &quot;fillOpacity&quot;: 0.2, &quot;fillRule&quot;: &quot;evenodd&quot;, &quot;lineCap&quot;: &quot;round&quot;, &quot;lineJoin&quot;: &quot;round&quot;, &quot;opacity&quot;: 1.0, &quot;radius&quot;: 50, &quot;stroke&quot;: true, &quot;weight&quot;: 3}\n",
       "            ).addTo(map_03370fc5c66f256379235e7baf904a67);\n",
       "        \n",
       "    \n",
       "            circle_marker_3c1c3291a9976f33c5c5ac0c76207e50.bindTooltip(\n",
       "                `&lt;div&gt;\n",
       "                     [&#x27;대진고등학교&#x27;]\n",
       "                 &lt;/div&gt;`,\n",
       "                {&quot;sticky&quot;: true}\n",
       "            );\n",
       "        \n",
       "    \n",
       "            var circle_marker_5df103746107b11cfe41921a404820c4 = L.circleMarker(\n",
       "                [37.5486225773288, 126.829024518952],\n",
       "                {&quot;bubblingMouseEvents&quot;: true, &quot;color&quot;: &quot;yellow&quot;, &quot;dashArray&quot;: null, &quot;dashOffset&quot;: null, &quot;fill&quot;: true, &quot;fillColor&quot;: &quot;yellow&quot;, &quot;fillOpacity&quot;: 0.2, &quot;fillRule&quot;: &quot;evenodd&quot;, &quot;lineCap&quot;: &quot;round&quot;, &quot;lineJoin&quot;: &quot;round&quot;, &quot;opacity&quot;: 1.0, &quot;radius&quot;: 50, &quot;stroke&quot;: true, &quot;weight&quot;: 3}\n",
       "            ).addTo(map_03370fc5c66f256379235e7baf904a67);\n",
       "        \n",
       "    \n",
       "            circle_marker_5df103746107b11cfe41921a404820c4.bindTooltip(\n",
       "                `&lt;div&gt;\n",
       "                     [&#x27;덕원예술고등학교&#x27;]\n",
       "                 &lt;/div&gt;`,\n",
       "                {&quot;sticky&quot;: true}\n",
       "            );\n",
       "        \n",
       "    \n",
       "            var circle_marker_14d86fb6fddf8e3e7c134c763825b3e6 = L.circleMarker(\n",
       "                [37.4905365201163, 126.837134461147],\n",
       "                {&quot;bubblingMouseEvents&quot;: true, &quot;color&quot;: &quot;yellow&quot;, &quot;dashArray&quot;: null, &quot;dashOffset&quot;: null, &quot;fill&quot;: true, &quot;fillColor&quot;: &quot;yellow&quot;, &quot;fillOpacity&quot;: 0.2, &quot;fillRule&quot;: &quot;evenodd&quot;, &quot;lineCap&quot;: &quot;round&quot;, &quot;lineJoin&quot;: &quot;round&quot;, &quot;opacity&quot;: 1.0, &quot;radius&quot;: 50, &quot;stroke&quot;: true, &quot;weight&quot;: 3}\n",
       "            ).addTo(map_03370fc5c66f256379235e7baf904a67);\n",
       "        \n",
       "    \n",
       "            circle_marker_14d86fb6fddf8e3e7c134c763825b3e6.bindTooltip(\n",
       "                `&lt;div&gt;\n",
       "                     [&#x27;덕일전자공업고등학교&#x27;]\n",
       "                 &lt;/div&gt;`,\n",
       "                {&quot;sticky&quot;: true}\n",
       "            );\n",
       "        \n",
       "    \n",
       "            var circle_marker_a45c45c827cd02ad224e7bc806621227 = L.circleMarker(\n",
       "                [37.5941065881018, 127.008215538987],\n",
       "                {&quot;bubblingMouseEvents&quot;: true, &quot;color&quot;: &quot;yellow&quot;, &quot;dashArray&quot;: null, &quot;dashOffset&quot;: null, &quot;fill&quot;: true, &quot;fillColor&quot;: &quot;yellow&quot;, &quot;fillOpacity&quot;: 0.2, &quot;fillRule&quot;: &quot;evenodd&quot;, &quot;lineCap&quot;: &quot;round&quot;, &quot;lineJoin&quot;: &quot;round&quot;, &quot;opacity&quot;: 1.0, &quot;radius&quot;: 50, &quot;stroke&quot;: true, &quot;weight&quot;: 3}\n",
       "            ).addTo(map_03370fc5c66f256379235e7baf904a67);\n",
       "        \n",
       "    \n",
       "            circle_marker_a45c45c827cd02ad224e7bc806621227.bindTooltip(\n",
       "                `&lt;div&gt;\n",
       "                     [&#x27;동구마케팅고등학교&#x27;]\n",
       "                 &lt;/div&gt;`,\n",
       "                {&quot;sticky&quot;: true}\n",
       "            );\n",
       "        \n",
       "    \n",
       "            var circle_marker_8544bfe86fa45cb75f7d5879bb2628ca = L.circleMarker(\n",
       "                [37.6144187859471, 126.92282044301],\n",
       "                {&quot;bubblingMouseEvents&quot;: true, &quot;color&quot;: &quot;yellow&quot;, &quot;dashArray&quot;: null, &quot;dashOffset&quot;: null, &quot;fill&quot;: true, &quot;fillColor&quot;: &quot;yellow&quot;, &quot;fillOpacity&quot;: 0.2, &quot;fillRule&quot;: &quot;evenodd&quot;, &quot;lineCap&quot;: &quot;round&quot;, &quot;lineJoin&quot;: &quot;round&quot;, &quot;opacity&quot;: 1.0, &quot;radius&quot;: 50, &quot;stroke&quot;: true, &quot;weight&quot;: 3}\n",
       "            ).addTo(map_03370fc5c66f256379235e7baf904a67);\n",
       "        \n",
       "    \n",
       "            circle_marker_8544bfe86fa45cb75f7d5879bb2628ca.bindTooltip(\n",
       "                `&lt;div&gt;\n",
       "                     [&#x27;동명생활경영고등학교&#x27;]\n",
       "                 &lt;/div&gt;`,\n",
       "                {&quot;sticky&quot;: true}\n",
       "            );\n",
       "        \n",
       "    \n",
       "            var circle_marker_d726b2165fd1f269afd9093ad7297750 = L.circleMarker(\n",
       "                [37.4826019423842, 126.965086250636],\n",
       "                {&quot;bubblingMouseEvents&quot;: true, &quot;color&quot;: &quot;yellow&quot;, &quot;dashArray&quot;: null, &quot;dashOffset&quot;: null, &quot;fill&quot;: true, &quot;fillColor&quot;: &quot;yellow&quot;, &quot;fillOpacity&quot;: 0.2, &quot;fillRule&quot;: &quot;evenodd&quot;, &quot;lineCap&quot;: &quot;round&quot;, &quot;lineJoin&quot;: &quot;round&quot;, &quot;opacity&quot;: 1.0, &quot;radius&quot;: 50, &quot;stroke&quot;: true, &quot;weight&quot;: 3}\n",
       "            ).addTo(map_03370fc5c66f256379235e7baf904a67);\n",
       "        \n",
       "    \n",
       "            circle_marker_d726b2165fd1f269afd9093ad7297750.bindTooltip(\n",
       "                `&lt;div&gt;\n",
       "                     [&#x27;동작고등학교&#x27;]\n",
       "                 &lt;/div&gt;`,\n",
       "                {&quot;sticky&quot;: true}\n",
       "            );\n",
       "        \n",
       "    \n",
       "            var circle_marker_aef373be72dde9f5881267b41ebd8c6a = L.circleMarker(\n",
       "                [37.557131, 126.988243],\n",
       "                {&quot;bubblingMouseEvents&quot;: true, &quot;color&quot;: &quot;yellow&quot;, &quot;dashArray&quot;: null, &quot;dashOffset&quot;: null, &quot;fill&quot;: true, &quot;fillColor&quot;: &quot;yellow&quot;, &quot;fillOpacity&quot;: 0.2, &quot;fillRule&quot;: &quot;evenodd&quot;, &quot;lineCap&quot;: &quot;round&quot;, &quot;lineJoin&quot;: &quot;round&quot;, &quot;opacity&quot;: 1.0, &quot;radius&quot;: 50, &quot;stroke&quot;: true, &quot;weight&quot;: 3}\n",
       "            ).addTo(map_03370fc5c66f256379235e7baf904a67);\n",
       "        \n",
       "    \n",
       "            circle_marker_aef373be72dde9f5881267b41ebd8c6a.bindTooltip(\n",
       "                `&lt;div&gt;\n",
       "                     [&#x27;리라아트고등학교&#x27;]\n",
       "                 &lt;/div&gt;`,\n",
       "                {&quot;sticky&quot;: true}\n",
       "            );\n",
       "        \n",
       "    \n",
       "            var circle_marker_fa9df15f17d75dee0bd5f5df918d81f7 = L.circleMarker(\n",
       "                [37.5092159752312, 126.86019842592],\n",
       "                {&quot;bubblingMouseEvents&quot;: true, &quot;color&quot;: &quot;yellow&quot;, &quot;dashArray&quot;: null, &quot;dashOffset&quot;: null, &quot;fill&quot;: true, &quot;fillColor&quot;: &quot;yellow&quot;, &quot;fillOpacity&quot;: 0.2, &quot;fillRule&quot;: &quot;evenodd&quot;, &quot;lineCap&quot;: &quot;round&quot;, &quot;lineJoin&quot;: &quot;round&quot;, &quot;opacity&quot;: 1.0, &quot;radius&quot;: 50, &quot;stroke&quot;: true, &quot;weight&quot;: 3}\n",
       "            ).addTo(map_03370fc5c66f256379235e7baf904a67);\n",
       "        \n",
       "    \n",
       "            circle_marker_fa9df15f17d75dee0bd5f5df918d81f7.bindTooltip(\n",
       "                `&lt;div&gt;\n",
       "                     [&#x27;목동고등학교&#x27;]\n",
       "                 &lt;/div&gt;`,\n",
       "                {&quot;sticky&quot;: true}\n",
       "            );\n",
       "        \n",
       "    \n",
       "            var circle_marker_afeeac8a09a4970bc8806daf3e0b6fa1 = L.circleMarker(\n",
       "                [37.4851784987927, 127.126692082604],\n",
       "                {&quot;bubblingMouseEvents&quot;: true, &quot;color&quot;: &quot;yellow&quot;, &quot;dashArray&quot;: null, &quot;dashOffset&quot;: null, &quot;fill&quot;: true, &quot;fillColor&quot;: &quot;yellow&quot;, &quot;fillOpacity&quot;: 0.2, &quot;fillRule&quot;: &quot;evenodd&quot;, &quot;lineCap&quot;: &quot;round&quot;, &quot;lineJoin&quot;: &quot;round&quot;, &quot;opacity&quot;: 1.0, &quot;radius&quot;: 50, &quot;stroke&quot;: true, &quot;weight&quot;: 3}\n",
       "            ).addTo(map_03370fc5c66f256379235e7baf904a67);\n",
       "        \n",
       "    \n",
       "            circle_marker_afeeac8a09a4970bc8806daf3e0b6fa1.bindTooltip(\n",
       "                `&lt;div&gt;\n",
       "                     [&#x27;문정고등학교&#x27;]\n",
       "                 &lt;/div&gt;`,\n",
       "                {&quot;sticky&quot;: true}\n",
       "            );\n",
       "        \n",
       "    \n",
       "            var circle_marker_e4e029b1353da055cf3e79a411626e4a = L.circleMarker(\n",
       "                [37.658779482984, 127.07844069313],\n",
       "                {&quot;bubblingMouseEvents&quot;: true, &quot;color&quot;: &quot;yellow&quot;, &quot;dashArray&quot;: null, &quot;dashOffset&quot;: null, &quot;fill&quot;: true, &quot;fillColor&quot;: &quot;yellow&quot;, &quot;fillOpacity&quot;: 0.2, &quot;fillRule&quot;: &quot;evenodd&quot;, &quot;lineCap&quot;: &quot;round&quot;, &quot;lineJoin&quot;: &quot;round&quot;, &quot;opacity&quot;: 1.0, &quot;radius&quot;: 50, &quot;stroke&quot;: true, &quot;weight&quot;: 3}\n",
       "            ).addTo(map_03370fc5c66f256379235e7baf904a67);\n",
       "        \n",
       "    \n",
       "            circle_marker_e4e029b1353da055cf3e79a411626e4a.bindTooltip(\n",
       "                `&lt;div&gt;\n",
       "                     [&#x27;미래산업과학고등학교&#x27;]\n",
       "                 &lt;/div&gt;`,\n",
       "                {&quot;sticky&quot;: true}\n",
       "            );\n",
       "        \n",
       "    \n",
       "            var circle_marker_63b6156b847b3664f089e187bd5f3235 = L.circleMarker(\n",
       "                [37.5027027335348, 127.016510661972],\n",
       "                {&quot;bubblingMouseEvents&quot;: true, &quot;color&quot;: &quot;yellow&quot;, &quot;dashArray&quot;: null, &quot;dashOffset&quot;: null, &quot;fill&quot;: true, &quot;fillColor&quot;: &quot;yellow&quot;, &quot;fillOpacity&quot;: 0.2, &quot;fillRule&quot;: &quot;evenodd&quot;, &quot;lineCap&quot;: &quot;round&quot;, &quot;lineJoin&quot;: &quot;round&quot;, &quot;opacity&quot;: 1.0, &quot;radius&quot;: 50, &quot;stroke&quot;: true, &quot;weight&quot;: 3}\n",
       "            ).addTo(map_03370fc5c66f256379235e7baf904a67);\n",
       "        \n",
       "    \n",
       "            circle_marker_63b6156b847b3664f089e187bd5f3235.bindTooltip(\n",
       "                `&lt;div&gt;\n",
       "                     [&#x27;반포고등학교&#x27;]\n",
       "                 &lt;/div&gt;`,\n",
       "                {&quot;sticky&quot;: true}\n",
       "            );\n",
       "        \n",
       "    \n",
       "            var circle_marker_46f62e7ddda138a3689943cda17477a0 = L.circleMarker(\n",
       "                [37.4976894981876, 127.095811765574],\n",
       "                {&quot;bubblingMouseEvents&quot;: true, &quot;color&quot;: &quot;yellow&quot;, &quot;dashArray&quot;: null, &quot;dashOffset&quot;: null, &quot;fill&quot;: true, &quot;fillColor&quot;: &quot;yellow&quot;, &quot;fillOpacity&quot;: 0.2, &quot;fillRule&quot;: &quot;evenodd&quot;, &quot;lineCap&quot;: &quot;round&quot;, &quot;lineJoin&quot;: &quot;round&quot;, &quot;opacity&quot;: 1.0, &quot;radius&quot;: 50, &quot;stroke&quot;: true, &quot;weight&quot;: 3}\n",
       "            ).addTo(map_03370fc5c66f256379235e7baf904a67);\n",
       "        \n",
       "    \n",
       "            circle_marker_46f62e7ddda138a3689943cda17477a0.bindTooltip(\n",
       "                `&lt;div&gt;\n",
       "                     [&#x27;배명고등학교&#x27;]\n",
       "                 &lt;/div&gt;`,\n",
       "                {&quot;sticky&quot;: true}\n",
       "            );\n",
       "        \n",
       "    \n",
       "            var circle_marker_ad9ee094c61eaf43c2ffb7320e439676 = L.circleMarker(\n",
       "                [37.4975692004431, 127.139517839227],\n",
       "                {&quot;bubblingMouseEvents&quot;: true, &quot;color&quot;: &quot;yellow&quot;, &quot;dashArray&quot;: null, &quot;dashOffset&quot;: null, &quot;fill&quot;: true, &quot;fillColor&quot;: &quot;yellow&quot;, &quot;fillOpacity&quot;: 0.2, &quot;fillRule&quot;: &quot;evenodd&quot;, &quot;lineCap&quot;: &quot;round&quot;, &quot;lineJoin&quot;: &quot;round&quot;, &quot;opacity&quot;: 1.0, &quot;radius&quot;: 50, &quot;stroke&quot;: true, &quot;weight&quot;: 3}\n",
       "            ).addTo(map_03370fc5c66f256379235e7baf904a67);\n",
       "        \n",
       "    \n",
       "            circle_marker_ad9ee094c61eaf43c2ffb7320e439676.bindTooltip(\n",
       "                `&lt;div&gt;\n",
       "                     [&#x27;보인고등학교&#x27;]\n",
       "                 &lt;/div&gt;`,\n",
       "                {&quot;sticky&quot;: true}\n",
       "            );\n",
       "        \n",
       "    \n",
       "            var circle_marker_70063e6cf4974e45d27a9f4886494c05 = L.circleMarker(\n",
       "                [37.649540794927, 127.067701313205],\n",
       "                {&quot;bubblingMouseEvents&quot;: true, &quot;color&quot;: &quot;yellow&quot;, &quot;dashArray&quot;: null, &quot;dashOffset&quot;: null, &quot;fill&quot;: true, &quot;fillColor&quot;: &quot;yellow&quot;, &quot;fillOpacity&quot;: 0.2, &quot;fillRule&quot;: &quot;evenodd&quot;, &quot;lineCap&quot;: &quot;round&quot;, &quot;lineJoin&quot;: &quot;round&quot;, &quot;opacity&quot;: 1.0, &quot;radius&quot;: 50, &quot;stroke&quot;: true, &quot;weight&quot;: 3}\n",
       "            ).addTo(map_03370fc5c66f256379235e7baf904a67);\n",
       "        \n",
       "    \n",
       "            circle_marker_70063e6cf4974e45d27a9f4886494c05.bindTooltip(\n",
       "                `&lt;div&gt;\n",
       "                     [&#x27;상명고등학교&#x27;]\n",
       "                 &lt;/div&gt;`,\n",
       "                {&quot;sticky&quot;: true}\n",
       "            );\n",
       "        \n",
       "    \n",
       "            var circle_marker_54181d54e5d1aea2093236a908e26726 = L.circleMarker(\n",
       "                [37.4797554325594, 127.003916819634],\n",
       "                {&quot;bubblingMouseEvents&quot;: true, &quot;color&quot;: &quot;yellow&quot;, &quot;dashArray&quot;: null, &quot;dashOffset&quot;: null, &quot;fill&quot;: true, &quot;fillColor&quot;: &quot;yellow&quot;, &quot;fillOpacity&quot;: 0.2, &quot;fillRule&quot;: &quot;evenodd&quot;, &quot;lineCap&quot;: &quot;round&quot;, &quot;lineJoin&quot;: &quot;round&quot;, &quot;opacity&quot;: 1.0, &quot;radius&quot;: 50, &quot;stroke&quot;: true, &quot;weight&quot;: 3}\n",
       "            ).addTo(map_03370fc5c66f256379235e7baf904a67);\n",
       "        \n",
       "    \n",
       "            circle_marker_54181d54e5d1aea2093236a908e26726.bindTooltip(\n",
       "                `&lt;div&gt;\n",
       "                     [&#x27;상문고등학교&#x27;]\n",
       "                 &lt;/div&gt;`,\n",
       "                {&quot;sticky&quot;: true}\n",
       "            );\n",
       "        \n",
       "    \n",
       "            var circle_marker_0f2ce962f9f2cf1c186c9f6a61affff9 = L.circleMarker(\n",
       "                [37.5485874781342, 127.170823536325],\n",
       "                {&quot;bubblingMouseEvents&quot;: true, &quot;color&quot;: &quot;yellow&quot;, &quot;dashArray&quot;: null, &quot;dashOffset&quot;: null, &quot;fill&quot;: true, &quot;fillColor&quot;: &quot;yellow&quot;, &quot;fillOpacity&quot;: 0.2, &quot;fillRule&quot;: &quot;evenodd&quot;, &quot;lineCap&quot;: &quot;round&quot;, &quot;lineJoin&quot;: &quot;round&quot;, &quot;opacity&quot;: 1.0, &quot;radius&quot;: 50, &quot;stroke&quot;: true, &quot;weight&quot;: 3}\n",
       "            ).addTo(map_03370fc5c66f256379235e7baf904a67);\n",
       "        \n",
       "    \n",
       "            circle_marker_0f2ce962f9f2cf1c186c9f6a61affff9.bindTooltip(\n",
       "                `&lt;div&gt;\n",
       "                     [&#x27;상일미디어고등학교&#x27;]\n",
       "                 &lt;/div&gt;`,\n",
       "                {&quot;sticky&quot;: true}\n",
       "            );\n",
       "        \n",
       "    \n",
       "            var circle_marker_e8fc547123fc2aee02a26239547a21fa = L.circleMarker(\n",
       "                [37.5038291911751, 126.828259957002],\n",
       "                {&quot;bubblingMouseEvents&quot;: true, &quot;color&quot;: &quot;yellow&quot;, &quot;dashArray&quot;: null, &quot;dashOffset&quot;: null, &quot;fill&quot;: true, &quot;fillColor&quot;: &quot;yellow&quot;, &quot;fillOpacity&quot;: 0.2, &quot;fillRule&quot;: &quot;evenodd&quot;, &quot;lineCap&quot;: &quot;round&quot;, &quot;lineJoin&quot;: &quot;round&quot;, &quot;opacity&quot;: 1.0, &quot;radius&quot;: 50, &quot;stroke&quot;: true, &quot;weight&quot;: 3}\n",
       "            ).addTo(map_03370fc5c66f256379235e7baf904a67);\n",
       "        \n",
       "    \n",
       "            circle_marker_e8fc547123fc2aee02a26239547a21fa.bindTooltip(\n",
       "                `&lt;div&gt;\n",
       "                     [&#x27;서서울생활과학고등학교&#x27;]\n",
       "                 &lt;/div&gt;`,\n",
       "                {&quot;sticky&quot;: true}\n",
       "            );\n",
       "        \n",
       "    \n",
       "            var circle_marker_7d312da3fa825bc8460a992d58e3c519 = L.circleMarker(\n",
       "                [37.4878154195732, 126.943760849751],\n",
       "                {&quot;bubblingMouseEvents&quot;: true, &quot;color&quot;: &quot;yellow&quot;, &quot;dashArray&quot;: null, &quot;dashOffset&quot;: null, &quot;fill&quot;: true, &quot;fillColor&quot;: &quot;yellow&quot;, &quot;fillOpacity&quot;: 0.2, &quot;fillRule&quot;: &quot;evenodd&quot;, &quot;lineCap&quot;: &quot;round&quot;, &quot;lineJoin&quot;: &quot;round&quot;, &quot;opacity&quot;: 1.0, &quot;radius&quot;: 50, &quot;stroke&quot;: true, &quot;weight&quot;: 3}\n",
       "            ).addTo(map_03370fc5c66f256379235e7baf904a67);\n",
       "        \n",
       "    \n",
       "            circle_marker_7d312da3fa825bc8460a992d58e3c519.bindTooltip(\n",
       "                `&lt;div&gt;\n",
       "                     [&#x27;서울관광고등학교&#x27;]\n",
       "                 &lt;/div&gt;`,\n",
       "                {&quot;sticky&quot;: true}\n",
       "            );\n",
       "        \n",
       "    \n",
       "            var circle_marker_7760a0e2c3be720c758d13d1bd64c841 = L.circleMarker(\n",
       "                [37.5376595496119, 126.825914607519],\n",
       "                {&quot;bubblingMouseEvents&quot;: true, &quot;color&quot;: &quot;yellow&quot;, &quot;dashArray&quot;: null, &quot;dashOffset&quot;: null, &quot;fill&quot;: true, &quot;fillColor&quot;: &quot;yellow&quot;, &quot;fillOpacity&quot;: 0.2, &quot;fillRule&quot;: &quot;evenodd&quot;, &quot;lineCap&quot;: &quot;round&quot;, &quot;lineJoin&quot;: &quot;round&quot;, &quot;opacity&quot;: 1.0, &quot;radius&quot;: 50, &quot;stroke&quot;: true, &quot;weight&quot;: 3}\n",
       "            ).addTo(map_03370fc5c66f256379235e7baf904a67);\n",
       "        \n",
       "    \n",
       "            circle_marker_7760a0e2c3be720c758d13d1bd64c841.bindTooltip(\n",
       "                `&lt;div&gt;\n",
       "                     [&#x27;서울금융고등학교&#x27;]\n",
       "                 &lt;/div&gt;`,\n",
       "                {&quot;sticky&quot;: true}\n",
       "            );\n",
       "        \n",
       "    \n",
       "            var circle_marker_ea99cbe4cb703a44dfa741d0909f24c5 = L.circleMarker(\n",
       "                [37.594723843967, 127.038120392429],\n",
       "                {&quot;bubblingMouseEvents&quot;: true, &quot;color&quot;: &quot;yellow&quot;, &quot;dashArray&quot;: null, &quot;dashOffset&quot;: null, &quot;fill&quot;: true, &quot;fillColor&quot;: &quot;yellow&quot;, &quot;fillOpacity&quot;: 0.2, &quot;fillRule&quot;: &quot;evenodd&quot;, &quot;lineCap&quot;: &quot;round&quot;, &quot;lineJoin&quot;: &quot;round&quot;, &quot;opacity&quot;: 1.0, &quot;radius&quot;: 50, &quot;stroke&quot;: true, &quot;weight&quot;: 3}\n",
       "            ).addTo(map_03370fc5c66f256379235e7baf904a67);\n",
       "        \n",
       "    \n",
       "            circle_marker_ea99cbe4cb703a44dfa741d0909f24c5.bindTooltip(\n",
       "                `&lt;div&gt;\n",
       "                     [&#x27;서울대학교사범대학부설고등학교&#x27;]\n",
       "                 &lt;/div&gt;`,\n",
       "                {&quot;sticky&quot;: true}\n",
       "            );\n",
       "        \n",
       "    \n",
       "            var circle_marker_42ebe6bb622668d5a24eabb9d58b3281 = L.circleMarker(\n",
       "                [37.6078128032701, 127.033044179358],\n",
       "                {&quot;bubblingMouseEvents&quot;: true, &quot;color&quot;: &quot;yellow&quot;, &quot;dashArray&quot;: null, &quot;dashOffset&quot;: null, &quot;fill&quot;: true, &quot;fillColor&quot;: &quot;yellow&quot;, &quot;fillOpacity&quot;: 0.2, &quot;fillRule&quot;: &quot;evenodd&quot;, &quot;lineCap&quot;: &quot;round&quot;, &quot;lineJoin&quot;: &quot;round&quot;, &quot;opacity&quot;: 1.0, &quot;radius&quot;: 50, &quot;stroke&quot;: true, &quot;weight&quot;: 3}\n",
       "            ).addTo(map_03370fc5c66f256379235e7baf904a67);\n",
       "        \n",
       "    \n",
       "            circle_marker_42ebe6bb622668d5a24eabb9d58b3281.bindTooltip(\n",
       "                `&lt;div&gt;\n",
       "                     [&#x27;서울도시과학기술고등학교&#x27;]\n",
       "                 &lt;/div&gt;`,\n",
       "                {&quot;sticky&quot;: true}\n",
       "            );\n",
       "        \n",
       "    \n",
       "            var circle_marker_74bfe314583653d5128edf8b89471998 = L.circleMarker(\n",
       "                [37.4519362557404, 126.915819922214],\n",
       "                {&quot;bubblingMouseEvents&quot;: true, &quot;color&quot;: &quot;yellow&quot;, &quot;dashArray&quot;: null, &quot;dashOffset&quot;: null, &quot;fill&quot;: true, &quot;fillColor&quot;: &quot;yellow&quot;, &quot;fillOpacity&quot;: 0.2, &quot;fillRule&quot;: &quot;evenodd&quot;, &quot;lineCap&quot;: &quot;round&quot;, &quot;lineJoin&quot;: &quot;round&quot;, &quot;opacity&quot;: 1.0, &quot;radius&quot;: 50, &quot;stroke&quot;: true, &quot;weight&quot;: 3}\n",
       "            ).addTo(map_03370fc5c66f256379235e7baf904a67);\n",
       "        \n",
       "    \n",
       "            circle_marker_74bfe314583653d5128edf8b89471998.bindTooltip(\n",
       "                `&lt;div&gt;\n",
       "                     [&#x27;서울매그넷고등학교&#x27;]\n",
       "                 &lt;/div&gt;`,\n",
       "                {&quot;sticky&quot;: true}\n",
       "            );\n",
       "        \n",
       "    \n",
       "            var circle_marker_d19bfbb4c929bc760983a4c8f473a8bd = L.circleMarker(\n",
       "                [37.4766963066016, 126.966748525059],\n",
       "                {&quot;bubblingMouseEvents&quot;: true, &quot;color&quot;: &quot;yellow&quot;, &quot;dashArray&quot;: null, &quot;dashOffset&quot;: null, &quot;fill&quot;: true, &quot;fillColor&quot;: &quot;yellow&quot;, &quot;fillOpacity&quot;: 0.2, &quot;fillRule&quot;: &quot;evenodd&quot;, &quot;lineCap&quot;: &quot;round&quot;, &quot;lineJoin&quot;: &quot;round&quot;, &quot;opacity&quot;: 1.0, &quot;radius&quot;: 50, &quot;stroke&quot;: true, &quot;weight&quot;: 3}\n",
       "            ).addTo(map_03370fc5c66f256379235e7baf904a67);\n",
       "        \n",
       "    \n",
       "            circle_marker_d19bfbb4c929bc760983a4c8f473a8bd.bindTooltip(\n",
       "                `&lt;div&gt;\n",
       "                     [&#x27;서울미술고등학교&#x27;]\n",
       "                 &lt;/div&gt;`,\n",
       "                {&quot;sticky&quot;: true}\n",
       "            );\n",
       "        \n",
       "    \n",
       "            var circle_marker_820d2015898d56323d8c2710d63ff64d = L.circleMarker(\n",
       "                [37.5233044400227, 126.860293524636],\n",
       "                {&quot;bubblingMouseEvents&quot;: true, &quot;color&quot;: &quot;yellow&quot;, &quot;dashArray&quot;: null, &quot;dashOffset&quot;: null, &quot;fill&quot;: true, &quot;fillColor&quot;: &quot;yellow&quot;, &quot;fillOpacity&quot;: 0.2, &quot;fillRule&quot;: &quot;evenodd&quot;, &quot;lineCap&quot;: &quot;round&quot;, &quot;lineJoin&quot;: &quot;round&quot;, &quot;opacity&quot;: 1.0, &quot;radius&quot;: 50, &quot;stroke&quot;: true, &quot;weight&quot;: 3}\n",
       "            ).addTo(map_03370fc5c66f256379235e7baf904a67);\n",
       "        \n",
       "    \n",
       "            circle_marker_820d2015898d56323d8c2710d63ff64d.bindTooltip(\n",
       "                `&lt;div&gt;\n",
       "                     [&#x27;서울영상고등학교&#x27;]\n",
       "                 &lt;/div&gt;`,\n",
       "                {&quot;sticky&quot;: true}\n",
       "            );\n",
       "        \n",
       "    \n",
       "            var circle_marker_6966663e91f4ce44380f6a203e07608d = L.circleMarker(\n",
       "                [37.4694909673091, 126.988245947982],\n",
       "                {&quot;bubblingMouseEvents&quot;: true, &quot;color&quot;: &quot;yellow&quot;, &quot;dashArray&quot;: null, &quot;dashOffset&quot;: null, &quot;fill&quot;: true, &quot;fillColor&quot;: &quot;yellow&quot;, &quot;fillOpacity&quot;: 0.2, &quot;fillRule&quot;: &quot;evenodd&quot;, &quot;lineCap&quot;: &quot;round&quot;, &quot;lineJoin&quot;: &quot;round&quot;, &quot;opacity&quot;: 1.0, &quot;radius&quot;: 50, &quot;stroke&quot;: true, &quot;weight&quot;: 3}\n",
       "            ).addTo(map_03370fc5c66f256379235e7baf904a67);\n",
       "        \n",
       "    \n",
       "            circle_marker_6966663e91f4ce44380f6a203e07608d.bindTooltip(\n",
       "                `&lt;div&gt;\n",
       "                     [&#x27;서울전자고등학교&#x27;]\n",
       "                 &lt;/div&gt;`,\n",
       "                {&quot;sticky&quot;: true}\n",
       "            );\n",
       "        \n",
       "    \n",
       "            var circle_marker_a7b952f34a2ebfeb5b833bbd50a50137 = L.circleMarker(\n",
       "                [37.5223303821085, 127.129822552593],\n",
       "                {&quot;bubblingMouseEvents&quot;: true, &quot;color&quot;: &quot;yellow&quot;, &quot;dashArray&quot;: null, &quot;dashOffset&quot;: null, &quot;fill&quot;: true, &quot;fillColor&quot;: &quot;yellow&quot;, &quot;fillOpacity&quot;: 0.2, &quot;fillRule&quot;: &quot;evenodd&quot;, &quot;lineCap&quot;: &quot;round&quot;, &quot;lineJoin&quot;: &quot;round&quot;, &quot;opacity&quot;: 1.0, &quot;radius&quot;: 50, &quot;stroke&quot;: true, &quot;weight&quot;: 3}\n",
       "            ).addTo(map_03370fc5c66f256379235e7baf904a67);\n",
       "        \n",
       "    \n",
       "            circle_marker_a7b952f34a2ebfeb5b833bbd50a50137.bindTooltip(\n",
       "                `&lt;div&gt;\n",
       "                     [&#x27;서울체육고등학교&#x27;]\n",
       "                 &lt;/div&gt;`,\n",
       "                {&quot;sticky&quot;: true}\n",
       "            );\n",
       "        \n",
       "    \n",
       "            var circle_marker_2db3f7e2def3ee075e39651fc36aca8d = L.circleMarker(\n",
       "                [37.4896116868936, 127.005378249754],\n",
       "                {&quot;bubblingMouseEvents&quot;: true, &quot;color&quot;: &quot;yellow&quot;, &quot;dashArray&quot;: null, &quot;dashOffset&quot;: null, &quot;fill&quot;: true, &quot;fillColor&quot;: &quot;yellow&quot;, &quot;fillOpacity&quot;: 0.2, &quot;fillRule&quot;: &quot;evenodd&quot;, &quot;lineCap&quot;: &quot;round&quot;, &quot;lineJoin&quot;: &quot;round&quot;, &quot;opacity&quot;: 1.0, &quot;radius&quot;: 50, &quot;stroke&quot;: true, &quot;weight&quot;: 3}\n",
       "            ).addTo(map_03370fc5c66f256379235e7baf904a67);\n",
       "        \n",
       "    \n",
       "            circle_marker_2db3f7e2def3ee075e39651fc36aca8d.bindTooltip(\n",
       "                `&lt;div&gt;\n",
       "                     [&#x27;서초고등학교&#x27;]\n",
       "                 &lt;/div&gt;`,\n",
       "                {&quot;sticky&quot;: true}\n",
       "            );\n",
       "        \n",
       "    \n",
       "            var circle_marker_95d47c04eeb634d5ad44619b9a513203 = L.circleMarker(\n",
       "                [37.6095892871169, 127.066717588798],\n",
       "                {&quot;bubblingMouseEvents&quot;: true, &quot;color&quot;: &quot;yellow&quot;, &quot;dashArray&quot;: null, &quot;dashOffset&quot;: null, &quot;fill&quot;: true, &quot;fillColor&quot;: &quot;yellow&quot;, &quot;fillOpacity&quot;: 0.2, &quot;fillRule&quot;: &quot;evenodd&quot;, &quot;lineCap&quot;: &quot;round&quot;, &quot;lineJoin&quot;: &quot;round&quot;, &quot;opacity&quot;: 1.0, &quot;radius&quot;: 50, &quot;stroke&quot;: true, &quot;weight&quot;: 3}\n",
       "            ).addTo(map_03370fc5c66f256379235e7baf904a67);\n",
       "        \n",
       "    \n",
       "            circle_marker_95d47c04eeb634d5ad44619b9a513203.bindTooltip(\n",
       "                `&lt;div&gt;\n",
       "                     [&#x27;석관고등학교&#x27;]\n",
       "                 &lt;/div&gt;`,\n",
       "                {&quot;sticky&quot;: true}\n",
       "            );\n",
       "        \n",
       "    \n",
       "            var circle_marker_65902f896136fc61c20f2504ea84efc6 = L.circleMarker(\n",
       "                [37.5427698351486, 126.966038693159],\n",
       "                {&quot;bubblingMouseEvents&quot;: true, &quot;color&quot;: &quot;yellow&quot;, &quot;dashArray&quot;: null, &quot;dashOffset&quot;: null, &quot;fill&quot;: true, &quot;fillColor&quot;: &quot;yellow&quot;, &quot;fillOpacity&quot;: 0.2, &quot;fillRule&quot;: &quot;evenodd&quot;, &quot;lineCap&quot;: &quot;round&quot;, &quot;lineJoin&quot;: &quot;round&quot;, &quot;opacity&quot;: 1.0, &quot;radius&quot;: 50, &quot;stroke&quot;: true, &quot;weight&quot;: 3}\n",
       "            ).addTo(map_03370fc5c66f256379235e7baf904a67);\n",
       "        \n",
       "    \n",
       "            circle_marker_65902f896136fc61c20f2504ea84efc6.bindTooltip(\n",
       "                `&lt;div&gt;\n",
       "                     [&#x27;선린인터넷고등학교&#x27;]\n",
       "                 &lt;/div&gt;`,\n",
       "                {&quot;sticky&quot;: true}\n",
       "            );\n",
       "        \n",
       "    \n",
       "            var circle_marker_038bbad2c4698ff4996598bb0233ac0c = L.circleMarker(\n",
       "                [37.5339016190568, 126.894850696134],\n",
       "                {&quot;bubblingMouseEvents&quot;: true, &quot;color&quot;: &quot;yellow&quot;, &quot;dashArray&quot;: null, &quot;dashOffset&quot;: null, &quot;fill&quot;: true, &quot;fillColor&quot;: &quot;yellow&quot;, &quot;fillOpacity&quot;: 0.2, &quot;fillRule&quot;: &quot;evenodd&quot;, &quot;lineCap&quot;: &quot;round&quot;, &quot;lineJoin&quot;: &quot;round&quot;, &quot;opacity&quot;: 1.0, &quot;radius&quot;: 50, &quot;stroke&quot;: true, &quot;weight&quot;: 3}\n",
       "            ).addTo(map_03370fc5c66f256379235e7baf904a67);\n",
       "        \n",
       "    \n",
       "            circle_marker_038bbad2c4698ff4996598bb0233ac0c.bindTooltip(\n",
       "                `&lt;div&gt;\n",
       "                     [&#x27;선유고등학교&#x27;]\n",
       "                 &lt;/div&gt;`,\n",
       "                {&quot;sticky&quot;: true}\n",
       "            );\n",
       "        \n",
       "    \n",
       "            var circle_marker_6bf21b7ec3e4b8d9f2dcd48a92b96ea0 = L.circleMarker(\n",
       "                [37.6187045126614, 126.909031611714],\n",
       "                {&quot;bubblingMouseEvents&quot;: true, &quot;color&quot;: &quot;yellow&quot;, &quot;dashArray&quot;: null, &quot;dashOffset&quot;: null, &quot;fill&quot;: true, &quot;fillColor&quot;: &quot;yellow&quot;, &quot;fillOpacity&quot;: 0.2, &quot;fillRule&quot;: &quot;evenodd&quot;, &quot;lineCap&quot;: &quot;round&quot;, &quot;lineJoin&quot;: &quot;round&quot;, &quot;opacity&quot;: 1.0, &quot;radius&quot;: 50, &quot;stroke&quot;: true, &quot;weight&quot;: 3}\n",
       "            ).addTo(map_03370fc5c66f256379235e7baf904a67);\n",
       "        \n",
       "    \n",
       "            circle_marker_6bf21b7ec3e4b8d9f2dcd48a92b96ea0.bindTooltip(\n",
       "                `&lt;div&gt;\n",
       "                     [&#x27;선정국제관광고등학교&#x27;]\n",
       "                 &lt;/div&gt;`,\n",
       "                {&quot;sticky&quot;: true}\n",
       "            );\n",
       "        \n",
       "    \n",
       "            var circle_marker_399c6cad829804d22094078073da82d1 = L.circleMarker(\n",
       "                [37.5942896306119, 127.022407171613],\n",
       "                {&quot;bubblingMouseEvents&quot;: true, &quot;color&quot;: &quot;yellow&quot;, &quot;dashArray&quot;: null, &quot;dashOffset&quot;: null, &quot;fill&quot;: true, &quot;fillColor&quot;: &quot;yellow&quot;, &quot;fillOpacity&quot;: 0.2, &quot;fillRule&quot;: &quot;evenodd&quot;, &quot;lineCap&quot;: &quot;round&quot;, &quot;lineJoin&quot;: &quot;round&quot;, &quot;opacity&quot;: 1.0, &quot;radius&quot;: 50, &quot;stroke&quot;: true, &quot;weight&quot;: 3}\n",
       "            ).addTo(map_03370fc5c66f256379235e7baf904a67);\n",
       "        \n",
       "    \n",
       "            circle_marker_399c6cad829804d22094078073da82d1.bindTooltip(\n",
       "                `&lt;div&gt;\n",
       "                     [&#x27;성신여자고등학교&#x27;]\n",
       "                 &lt;/div&gt;`,\n",
       "                {&quot;sticky&quot;: true}\n",
       "            );\n",
       "        \n",
       "    \n",
       "            var circle_marker_f01371bd17284321e6bcdd10b21b3262 = L.circleMarker(\n",
       "                [37.6066890425626, 127.105145451077],\n",
       "                {&quot;bubblingMouseEvents&quot;: true, &quot;color&quot;: &quot;yellow&quot;, &quot;dashArray&quot;: null, &quot;dashOffset&quot;: null, &quot;fill&quot;: true, &quot;fillColor&quot;: &quot;yellow&quot;, &quot;fillOpacity&quot;: 0.2, &quot;fillRule&quot;: &quot;evenodd&quot;, &quot;lineCap&quot;: &quot;round&quot;, &quot;lineJoin&quot;: &quot;round&quot;, &quot;opacity&quot;: 1.0, &quot;radius&quot;: 50, &quot;stroke&quot;: true, &quot;weight&quot;: 3}\n",
       "            ).addTo(map_03370fc5c66f256379235e7baf904a67);\n",
       "        \n",
       "    \n",
       "            circle_marker_f01371bd17284321e6bcdd10b21b3262.bindTooltip(\n",
       "                `&lt;div&gt;\n",
       "                     [&#x27;송곡여자고등학교&#x27;]\n",
       "                 &lt;/div&gt;`,\n",
       "                {&quot;sticky&quot;: true}\n",
       "            );\n",
       "        \n",
       "    \n",
       "            var circle_marker_cd2d1d543e801e5eec24f2cbea16ae63 = L.circleMarker(\n",
       "                [37.6829077650293, 127.053570991513],\n",
       "                {&quot;bubblingMouseEvents&quot;: true, &quot;color&quot;: &quot;yellow&quot;, &quot;dashArray&quot;: null, &quot;dashOffset&quot;: null, &quot;fill&quot;: true, &quot;fillColor&quot;: &quot;yellow&quot;, &quot;fillOpacity&quot;: 0.2, &quot;fillRule&quot;: &quot;evenodd&quot;, &quot;lineCap&quot;: &quot;round&quot;, &quot;lineJoin&quot;: &quot;round&quot;, &quot;opacity&quot;: 1.0, &quot;radius&quot;: 50, &quot;stroke&quot;: true, &quot;weight&quot;: 3}\n",
       "            ).addTo(map_03370fc5c66f256379235e7baf904a67);\n",
       "        \n",
       "    \n",
       "            circle_marker_cd2d1d543e801e5eec24f2cbea16ae63.bindTooltip(\n",
       "                `&lt;div&gt;\n",
       "                     [&#x27;수락고등학교&#x27;]\n",
       "                 &lt;/div&gt;`,\n",
       "                {&quot;sticky&quot;: true}\n",
       "            );\n",
       "        \n",
       "    \n",
       "            var circle_marker_27ef087a43e069873e9454a533324866 = L.circleMarker(\n",
       "                [37.4914753613052, 127.052612582715],\n",
       "                {&quot;bubblingMouseEvents&quot;: true, &quot;color&quot;: &quot;yellow&quot;, &quot;dashArray&quot;: null, &quot;dashOffset&quot;: null, &quot;fill&quot;: true, &quot;fillColor&quot;: &quot;yellow&quot;, &quot;fillOpacity&quot;: 0.2, &quot;fillRule&quot;: &quot;evenodd&quot;, &quot;lineCap&quot;: &quot;round&quot;, &quot;lineJoin&quot;: &quot;round&quot;, &quot;opacity&quot;: 1.0, &quot;radius&quot;: 50, &quot;stroke&quot;: true, &quot;weight&quot;: 3}\n",
       "            ).addTo(map_03370fc5c66f256379235e7baf904a67);\n",
       "        \n",
       "    \n",
       "            circle_marker_27ef087a43e069873e9454a533324866.bindTooltip(\n",
       "                `&lt;div&gt;\n",
       "                     [&#x27;숙명여자고등학교&#x27;]\n",
       "                 &lt;/div&gt;`,\n",
       "                {&quot;sticky&quot;: true}\n",
       "            );\n",
       "        \n",
       "    \n",
       "            var circle_marker_d0861864e3086f04ec3dd26881c1a037 = L.circleMarker(\n",
       "                [37.5428998795519, 126.969447523164],\n",
       "                {&quot;bubblingMouseEvents&quot;: true, &quot;color&quot;: &quot;yellow&quot;, &quot;dashArray&quot;: null, &quot;dashOffset&quot;: null, &quot;fill&quot;: true, &quot;fillColor&quot;: &quot;yellow&quot;, &quot;fillOpacity&quot;: 0.2, &quot;fillRule&quot;: &quot;evenodd&quot;, &quot;lineCap&quot;: &quot;round&quot;, &quot;lineJoin&quot;: &quot;round&quot;, &quot;opacity&quot;: 1.0, &quot;radius&quot;: 50, &quot;stroke&quot;: true, &quot;weight&quot;: 3}\n",
       "            ).addTo(map_03370fc5c66f256379235e7baf904a67);\n",
       "        \n",
       "    \n",
       "            circle_marker_d0861864e3086f04ec3dd26881c1a037.bindTooltip(\n",
       "                `&lt;div&gt;\n",
       "                     [&#x27;신광여자고등학교&#x27;]\n",
       "                 &lt;/div&gt;`,\n",
       "                {&quot;sticky&quot;: true}\n",
       "            );\n",
       "        \n",
       "    \n",
       "            var circle_marker_2d31876e6f3cc041f17fb7f3a515b829 = L.circleMarker(\n",
       "                [37.4792104943499, 126.916967177377],\n",
       "                {&quot;bubblingMouseEvents&quot;: true, &quot;color&quot;: &quot;yellow&quot;, &quot;dashArray&quot;: null, &quot;dashOffset&quot;: null, &quot;fill&quot;: true, &quot;fillColor&quot;: &quot;yellow&quot;, &quot;fillOpacity&quot;: 0.2, &quot;fillRule&quot;: &quot;evenodd&quot;, &quot;lineCap&quot;: &quot;round&quot;, &quot;lineJoin&quot;: &quot;round&quot;, &quot;opacity&quot;: 1.0, &quot;radius&quot;: 50, &quot;stroke&quot;: true, &quot;weight&quot;: 3}\n",
       "            ).addTo(map_03370fc5c66f256379235e7baf904a67);\n",
       "        \n",
       "    \n",
       "            circle_marker_2d31876e6f3cc041f17fb7f3a515b829.bindTooltip(\n",
       "                `&lt;div&gt;\n",
       "                     [&#x27;신림고등학교&#x27;]\n",
       "                 &lt;/div&gt;`,\n",
       "                {&quot;sticky&quot;: true}\n",
       "            );\n",
       "        \n",
       "    \n",
       "            var circle_marker_0f258179c111233f3a5d01a355a5beb3 = L.circleMarker(\n",
       "                [37.6302844506448, 127.049264552091],\n",
       "                {&quot;bubblingMouseEvents&quot;: true, &quot;color&quot;: &quot;yellow&quot;, &quot;dashArray&quot;: null, &quot;dashOffset&quot;: null, &quot;fill&quot;: true, &quot;fillColor&quot;: &quot;yellow&quot;, &quot;fillOpacity&quot;: 0.2, &quot;fillRule&quot;: &quot;evenodd&quot;, &quot;lineCap&quot;: &quot;round&quot;, &quot;lineJoin&quot;: &quot;round&quot;, &quot;opacity&quot;: 1.0, &quot;radius&quot;: 50, &quot;stroke&quot;: true, &quot;weight&quot;: 3}\n",
       "            ).addTo(map_03370fc5c66f256379235e7baf904a67);\n",
       "        \n",
       "    \n",
       "            circle_marker_0f258179c111233f3a5d01a355a5beb3.bindTooltip(\n",
       "                `&lt;div&gt;\n",
       "                     [&#x27;염광여자메디텍고등학교&#x27;]\n",
       "                 &lt;/div&gt;`,\n",
       "                {&quot;sticky&quot;: true}\n",
       "            );\n",
       "        \n",
       "    \n",
       "            var circle_marker_356e54257080a25159ae2419d175726a = L.circleMarker(\n",
       "                [37.5080846020876, 126.933143484357],\n",
       "                {&quot;bubblingMouseEvents&quot;: true, &quot;color&quot;: &quot;yellow&quot;, &quot;dashArray&quot;: null, &quot;dashOffset&quot;: null, &quot;fill&quot;: true, &quot;fillColor&quot;: &quot;yellow&quot;, &quot;fillOpacity&quot;: 0.2, &quot;fillRule&quot;: &quot;evenodd&quot;, &quot;lineCap&quot;: &quot;round&quot;, &quot;lineJoin&quot;: &quot;round&quot;, &quot;opacity&quot;: 1.0, &quot;radius&quot;: 50, &quot;stroke&quot;: true, &quot;weight&quot;: 3}\n",
       "            ).addTo(map_03370fc5c66f256379235e7baf904a67);\n",
       "        \n",
       "    \n",
       "            circle_marker_356e54257080a25159ae2419d175726a.bindTooltip(\n",
       "                `&lt;div&gt;\n",
       "                     [&#x27;영등포고등학교&#x27;]\n",
       "                 &lt;/div&gt;`,\n",
       "                {&quot;sticky&quot;: true}\n",
       "            );\n",
       "        \n",
       "    \n",
       "            var circle_marker_506eac12395bcb6cde8fcb0354aceb84 = L.circleMarker(\n",
       "                [37.5327356176544, 127.11973953985],\n",
       "                {&quot;bubblingMouseEvents&quot;: true, &quot;color&quot;: &quot;yellow&quot;, &quot;dashArray&quot;: null, &quot;dashOffset&quot;: null, &quot;fill&quot;: true, &quot;fillColor&quot;: &quot;yellow&quot;, &quot;fillOpacity&quot;: 0.2, &quot;fillRule&quot;: &quot;evenodd&quot;, &quot;lineCap&quot;: &quot;round&quot;, &quot;lineJoin&quot;: &quot;round&quot;, &quot;opacity&quot;: 1.0, &quot;radius&quot;: 50, &quot;stroke&quot;: true, &quot;weight&quot;: 3}\n",
       "            ).addTo(map_03370fc5c66f256379235e7baf904a67);\n",
       "        \n",
       "    \n",
       "            circle_marker_506eac12395bcb6cde8fcb0354aceb84.bindTooltip(\n",
       "                `&lt;div&gt;\n",
       "                     [&#x27;영파여자고등학교&#x27;]\n",
       "                 &lt;/div&gt;`,\n",
       "                {&quot;sticky&quot;: true}\n",
       "            );\n",
       "        \n",
       "    \n",
       "            var circle_marker_0cce3bef1addf6b0a8bbdb9676c221f1 = L.circleMarker(\n",
       "                [37.4949023087281, 126.826353599765],\n",
       "                {&quot;bubblingMouseEvents&quot;: true, &quot;color&quot;: &quot;yellow&quot;, &quot;dashArray&quot;: null, &quot;dashOffset&quot;: null, &quot;fill&quot;: true, &quot;fillColor&quot;: &quot;yellow&quot;, &quot;fillOpacity&quot;: 0.2, &quot;fillRule&quot;: &quot;evenodd&quot;, &quot;lineCap&quot;: &quot;round&quot;, &quot;lineJoin&quot;: &quot;round&quot;, &quot;opacity&quot;: 1.0, &quot;radius&quot;: 50, &quot;stroke&quot;: true, &quot;weight&quot;: 3}\n",
       "            ).addTo(map_03370fc5c66f256379235e7baf904a67);\n",
       "        \n",
       "    \n",
       "            circle_marker_0cce3bef1addf6b0a8bbdb9676c221f1.bindTooltip(\n",
       "                `&lt;div&gt;\n",
       "                     [&#x27;우신고등학교&#x27;]\n",
       "                 &lt;/div&gt;`,\n",
       "                {&quot;sticky&quot;: true}\n",
       "            );\n",
       "        \n",
       "    \n",
       "            var circle_marker_f6cd81db035a6353a94d9fc2ad35675d = L.circleMarker(\n",
       "                [37.4879765968891, 126.823290699072],\n",
       "                {&quot;bubblingMouseEvents&quot;: true, &quot;color&quot;: &quot;yellow&quot;, &quot;dashArray&quot;: null, &quot;dashOffset&quot;: null, &quot;fill&quot;: true, &quot;fillColor&quot;: &quot;yellow&quot;, &quot;fillOpacity&quot;: 0.2, &quot;fillRule&quot;: &quot;evenodd&quot;, &quot;lineCap&quot;: &quot;round&quot;, &quot;lineJoin&quot;: &quot;round&quot;, &quot;opacity&quot;: 1.0, &quot;radius&quot;: 50, &quot;stroke&quot;: true, &quot;weight&quot;: 3}\n",
       "            ).addTo(map_03370fc5c66f256379235e7baf904a67);\n",
       "        \n",
       "    \n",
       "            circle_marker_f6cd81db035a6353a94d9fc2ad35675d.bindTooltip(\n",
       "                `&lt;div&gt;\n",
       "                     [&#x27;유한공업고등학교&#x27;]\n",
       "                 &lt;/div&gt;`,\n",
       "                {&quot;sticky&quot;: true}\n",
       "            );\n",
       "        \n",
       "    \n",
       "            var circle_marker_c1c483741a672d15b94ca352d1ec05b2 = L.circleMarker(\n",
       "                [37.6091520473272, 126.905808015137],\n",
       "                {&quot;bubblingMouseEvents&quot;: true, &quot;color&quot;: &quot;yellow&quot;, &quot;dashArray&quot;: null, &quot;dashOffset&quot;: null, &quot;fill&quot;: true, &quot;fillColor&quot;: &quot;yellow&quot;, &quot;fillOpacity&quot;: 0.2, &quot;fillRule&quot;: &quot;evenodd&quot;, &quot;lineCap&quot;: &quot;round&quot;, &quot;lineJoin&quot;: &quot;round&quot;, &quot;opacity&quot;: 1.0, &quot;radius&quot;: 50, &quot;stroke&quot;: true, &quot;weight&quot;: 3}\n",
       "            ).addTo(map_03370fc5c66f256379235e7baf904a67);\n",
       "        \n",
       "    \n",
       "            circle_marker_c1c483741a672d15b94ca352d1ec05b2.bindTooltip(\n",
       "                `&lt;div&gt;\n",
       "                     [&#x27;은평고등학교&#x27;]\n",
       "                 &lt;/div&gt;`,\n",
       "                {&quot;sticky&quot;: true}\n",
       "            );\n",
       "        \n",
       "    \n",
       "            var circle_marker_eb545aee3ec8fe8857584d1b1a29cdda = L.circleMarker(\n",
       "                [37.6353465248875, 126.929704776155],\n",
       "                {&quot;bubblingMouseEvents&quot;: true, &quot;color&quot;: &quot;yellow&quot;, &quot;dashArray&quot;: null, &quot;dashOffset&quot;: null, &quot;fill&quot;: true, &quot;fillColor&quot;: &quot;yellow&quot;, &quot;fillOpacity&quot;: 0.2, &quot;fillRule&quot;: &quot;evenodd&quot;, &quot;lineCap&quot;: &quot;round&quot;, &quot;lineJoin&quot;: &quot;round&quot;, &quot;opacity&quot;: 1.0, &quot;radius&quot;: 50, &quot;stroke&quot;: true, &quot;weight&quot;: 3}\n",
       "            ).addTo(map_03370fc5c66f256379235e7baf904a67);\n",
       "        \n",
       "    \n",
       "            circle_marker_eb545aee3ec8fe8857584d1b1a29cdda.bindTooltip(\n",
       "                `&lt;div&gt;\n",
       "                     [&#x27;은평메디텍고등학교&#x27;]\n",
       "                 &lt;/div&gt;`,\n",
       "                {&quot;sticky&quot;: true}\n",
       "            );\n",
       "        \n",
       "    \n",
       "            var circle_marker_176ecf5a580f4f31d831d69410a1c33b = L.circleMarker(\n",
       "                [37.565689, 126.971218],\n",
       "                {&quot;bubblingMouseEvents&quot;: true, &quot;color&quot;: &quot;yellow&quot;, &quot;dashArray&quot;: null, &quot;dashOffset&quot;: null, &quot;fill&quot;: true, &quot;fillColor&quot;: &quot;yellow&quot;, &quot;fillOpacity&quot;: 0.2, &quot;fillRule&quot;: &quot;evenodd&quot;, &quot;lineCap&quot;: &quot;round&quot;, &quot;lineJoin&quot;: &quot;round&quot;, &quot;opacity&quot;: 1.0, &quot;radius&quot;: 50, &quot;stroke&quot;: true, &quot;weight&quot;: 3}\n",
       "            ).addTo(map_03370fc5c66f256379235e7baf904a67);\n",
       "        \n",
       "    \n",
       "            circle_marker_176ecf5a580f4f31d831d69410a1c33b.bindTooltip(\n",
       "                `&lt;div&gt;\n",
       "                     [&#x27;이화여자고등학교&#x27;]\n",
       "                 &lt;/div&gt;`,\n",
       "                {&quot;sticky&quot;: true}\n",
       "            );\n",
       "        \n",
       "    \n",
       "            var circle_marker_89148dba874be0db0fca97fba0e056a9 = L.circleMarker(\n",
       "                [37.564885131451, 126.964023197643],\n",
       "                {&quot;bubblingMouseEvents&quot;: true, &quot;color&quot;: &quot;yellow&quot;, &quot;dashArray&quot;: null, &quot;dashOffset&quot;: null, &quot;fill&quot;: true, &quot;fillColor&quot;: &quot;yellow&quot;, &quot;fillOpacity&quot;: 0.2, &quot;fillRule&quot;: &quot;evenodd&quot;, &quot;lineCap&quot;: &quot;round&quot;, &quot;lineJoin&quot;: &quot;round&quot;, &quot;opacity&quot;: 1.0, &quot;radius&quot;: 50, &quot;stroke&quot;: true, &quot;weight&quot;: 3}\n",
       "            ).addTo(map_03370fc5c66f256379235e7baf904a67);\n",
       "        \n",
       "    \n",
       "            circle_marker_89148dba874be0db0fca97fba0e056a9.bindTooltip(\n",
       "                `&lt;div&gt;\n",
       "                     [&#x27;인창고등학교&#x27;]\n",
       "                 &lt;/div&gt;`,\n",
       "                {&quot;sticky&quot;: true}\n",
       "            );\n",
       "        \n",
       "    \n",
       "            var circle_marker_64b136be0bf698bbfcb840f03e4f9c2d = L.circleMarker(\n",
       "                [37.5017941334924, 127.114241325581],\n",
       "                {&quot;bubblingMouseEvents&quot;: true, &quot;color&quot;: &quot;yellow&quot;, &quot;dashArray&quot;: null, &quot;dashOffset&quot;: null, &quot;fill&quot;: true, &quot;fillColor&quot;: &quot;yellow&quot;, &quot;fillOpacity&quot;: 0.2, &quot;fillRule&quot;: &quot;evenodd&quot;, &quot;lineCap&quot;: &quot;round&quot;, &quot;lineJoin&quot;: &quot;round&quot;, &quot;opacity&quot;: 1.0, &quot;radius&quot;: 50, &quot;stroke&quot;: true, &quot;weight&quot;: 3}\n",
       "            ).addTo(map_03370fc5c66f256379235e7baf904a67);\n",
       "        \n",
       "    \n",
       "            circle_marker_64b136be0bf698bbfcb840f03e4f9c2d.bindTooltip(\n",
       "                `&lt;div&gt;\n",
       "                     [&#x27;일신여자상업고등학교&#x27;]\n",
       "                 &lt;/div&gt;`,\n",
       "                {&quot;sticky&quot;: true}\n",
       "            );\n",
       "        \n",
       "    \n",
       "            var circle_marker_379a38942c341180b1a2a44f6d4b62c5 = L.circleMarker(\n",
       "                [37.522930433109, 127.106515037791],\n",
       "                {&quot;bubblingMouseEvents&quot;: true, &quot;color&quot;: &quot;yellow&quot;, &quot;dashArray&quot;: null, &quot;dashOffset&quot;: null, &quot;fill&quot;: true, &quot;fillColor&quot;: &quot;yellow&quot;, &quot;fillOpacity&quot;: 0.2, &quot;fillRule&quot;: &quot;evenodd&quot;, &quot;lineCap&quot;: &quot;round&quot;, &quot;lineJoin&quot;: &quot;round&quot;, &quot;opacity&quot;: 1.0, &quot;radius&quot;: 50, &quot;stroke&quot;: true, &quot;weight&quot;: 3}\n",
       "            ).addTo(map_03370fc5c66f256379235e7baf904a67);\n",
       "        \n",
       "    \n",
       "            circle_marker_379a38942c341180b1a2a44f6d4b62c5.bindTooltip(\n",
       "                `&lt;div&gt;\n",
       "                     [&#x27;잠실고등학교&#x27;]\n",
       "                 &lt;/div&gt;`,\n",
       "                {&quot;sticky&quot;: true}\n",
       "            );\n",
       "        \n",
       "    \n",
       "            var circle_marker_270debb7e87648df17936148673bd2b4 = L.circleMarker(\n",
       "                [37.4918425685769, 127.05169012944],\n",
       "                {&quot;bubblingMouseEvents&quot;: true, &quot;color&quot;: &quot;yellow&quot;, &quot;dashArray&quot;: null, &quot;dashOffset&quot;: null, &quot;fill&quot;: true, &quot;fillColor&quot;: &quot;yellow&quot;, &quot;fillOpacity&quot;: 0.2, &quot;fillRule&quot;: &quot;evenodd&quot;, &quot;lineCap&quot;: &quot;round&quot;, &quot;lineJoin&quot;: &quot;round&quot;, &quot;opacity&quot;: 1.0, &quot;radius&quot;: 50, &quot;stroke&quot;: true, &quot;weight&quot;: 3}\n",
       "            ).addTo(map_03370fc5c66f256379235e7baf904a67);\n",
       "        \n",
       "    \n",
       "            circle_marker_270debb7e87648df17936148673bd2b4.bindTooltip(\n",
       "                `&lt;div&gt;\n",
       "                     [&#x27;중앙대학교사범대학부속고등학교&#x27;]\n",
       "                 &lt;/div&gt;`,\n",
       "                {&quot;sticky&quot;: true}\n",
       "            );\n",
       "        \n",
       "    \n",
       "            var circle_marker_3609761f105f29cf1307c419813414fc = L.circleMarker(\n",
       "                [37.5240834137562, 126.865465205432],\n",
       "                {&quot;bubblingMouseEvents&quot;: true, &quot;color&quot;: &quot;yellow&quot;, &quot;dashArray&quot;: null, &quot;dashOffset&quot;: null, &quot;fill&quot;: true, &quot;fillColor&quot;: &quot;yellow&quot;, &quot;fillOpacity&quot;: 0.2, &quot;fillRule&quot;: &quot;evenodd&quot;, &quot;lineCap&quot;: &quot;round&quot;, &quot;lineJoin&quot;: &quot;round&quot;, &quot;opacity&quot;: 1.0, &quot;radius&quot;: 50, &quot;stroke&quot;: true, &quot;weight&quot;: 3}\n",
       "            ).addTo(map_03370fc5c66f256379235e7baf904a67);\n",
       "        \n",
       "    \n",
       "            circle_marker_3609761f105f29cf1307c419813414fc.bindTooltip(\n",
       "                `&lt;div&gt;\n",
       "                     [&#x27;진명여자고등학교&#x27;]\n",
       "                 &lt;/div&gt;`,\n",
       "                {&quot;sticky&quot;: true}\n",
       "            );\n",
       "        \n",
       "    \n",
       "            var circle_marker_adc687e7c4584c1a419f717b1eb80ec0 = L.circleMarker(\n",
       "                [37.5162435130486, 127.140273586345],\n",
       "                {&quot;bubblingMouseEvents&quot;: true, &quot;color&quot;: &quot;yellow&quot;, &quot;dashArray&quot;: null, &quot;dashOffset&quot;: null, &quot;fill&quot;: true, &quot;fillColor&quot;: &quot;yellow&quot;, &quot;fillOpacity&quot;: 0.2, &quot;fillRule&quot;: &quot;evenodd&quot;, &quot;lineCap&quot;: &quot;round&quot;, &quot;lineJoin&quot;: &quot;round&quot;, &quot;opacity&quot;: 1.0, &quot;radius&quot;: 50, &quot;stroke&quot;: true, &quot;weight&quot;: 3}\n",
       "            ).addTo(map_03370fc5c66f256379235e7baf904a67);\n",
       "        \n",
       "    \n",
       "            circle_marker_adc687e7c4584c1a419f717b1eb80ec0.bindTooltip(\n",
       "                `&lt;div&gt;\n",
       "                     [&#x27;창덕여자고등학교&#x27;]\n",
       "                 &lt;/div&gt;`,\n",
       "                {&quot;sticky&quot;: true}\n",
       "            );\n",
       "        \n",
       "    \n",
       "            var circle_marker_bcc1be548f703ee9b5a0132c433836d8 = L.circleMarker(\n",
       "                [37.6652515464657, 127.062532889006],\n",
       "                {&quot;bubblingMouseEvents&quot;: true, &quot;color&quot;: &quot;yellow&quot;, &quot;dashArray&quot;: null, &quot;dashOffset&quot;: null, &quot;fill&quot;: true, &quot;fillColor&quot;: &quot;yellow&quot;, &quot;fillOpacity&quot;: 0.2, &quot;fillRule&quot;: &quot;evenodd&quot;, &quot;lineCap&quot;: &quot;round&quot;, &quot;lineJoin&quot;: &quot;round&quot;, &quot;opacity&quot;: 1.0, &quot;radius&quot;: 50, &quot;stroke&quot;: true, &quot;weight&quot;: 3}\n",
       "            ).addTo(map_03370fc5c66f256379235e7baf904a67);\n",
       "        \n",
       "    \n",
       "            circle_marker_bcc1be548f703ee9b5a0132c433836d8.bindTooltip(\n",
       "                `&lt;div&gt;\n",
       "                     [&#x27;청원고등학교&#x27;]\n",
       "                 &lt;/div&gt;`,\n",
       "                {&quot;sticky&quot;: true}\n",
       "            );\n",
       "        \n",
       "    \n",
       "            var circle_marker_96515472f7e40888bdf21ab9ae420514 = L.circleMarker(\n",
       "                [37.5393010496265, 126.897109034358],\n",
       "                {&quot;bubblingMouseEvents&quot;: true, &quot;color&quot;: &quot;yellow&quot;, &quot;dashArray&quot;: null, &quot;dashOffset&quot;: null, &quot;fill&quot;: true, &quot;fillColor&quot;: &quot;yellow&quot;, &quot;fillOpacity&quot;: 0.2, &quot;fillRule&quot;: &quot;evenodd&quot;, &quot;lineCap&quot;: &quot;round&quot;, &quot;lineJoin&quot;: &quot;round&quot;, &quot;opacity&quot;: 1.0, &quot;radius&quot;: 50, &quot;stroke&quot;: true, &quot;weight&quot;: 3}\n",
       "            ).addTo(map_03370fc5c66f256379235e7baf904a67);\n",
       "        \n",
       "    \n",
       "            circle_marker_96515472f7e40888bdf21ab9ae420514.bindTooltip(\n",
       "                `&lt;div&gt;\n",
       "                     [&#x27;한강미디어고등학교&#x27;]\n",
       "                 &lt;/div&gt;`,\n",
       "                {&quot;sticky&quot;: true}\n",
       "            );\n",
       "        \n",
       "    \n",
       "            var circle_marker_3663c80717c3121297a6e458e6f33fea = L.circleMarker(\n",
       "                [37.583064896247, 127.011742675693],\n",
       "                {&quot;bubblingMouseEvents&quot;: true, &quot;color&quot;: &quot;yellow&quot;, &quot;dashArray&quot;: null, &quot;dashOffset&quot;: null, &quot;fill&quot;: true, &quot;fillColor&quot;: &quot;yellow&quot;, &quot;fillOpacity&quot;: 0.2, &quot;fillRule&quot;: &quot;evenodd&quot;, &quot;lineCap&quot;: &quot;round&quot;, &quot;lineJoin&quot;: &quot;round&quot;, &quot;opacity&quot;: 1.0, &quot;radius&quot;: 50, &quot;stroke&quot;: true, &quot;weight&quot;: 3}\n",
       "            ).addTo(map_03370fc5c66f256379235e7baf904a67);\n",
       "        \n",
       "    \n",
       "            circle_marker_3663c80717c3121297a6e458e6f33fea.bindTooltip(\n",
       "                `&lt;div&gt;\n",
       "                     [&#x27;한성여자고등학교&#x27;]\n",
       "                 &lt;/div&gt;`,\n",
       "                {&quot;sticky&quot;: true}\n",
       "            );\n",
       "        \n",
       "    \n",
       "            var circle_marker_faa91fd288bfc43f4da720dcd5d2237b = L.circleMarker(\n",
       "                [37.5484055955739, 126.832657307166],\n",
       "                {&quot;bubblingMouseEvents&quot;: true, &quot;color&quot;: &quot;yellow&quot;, &quot;dashArray&quot;: null, &quot;dashOffset&quot;: null, &quot;fill&quot;: true, &quot;fillColor&quot;: &quot;yellow&quot;, &quot;fillOpacity&quot;: 0.2, &quot;fillRule&quot;: &quot;evenodd&quot;, &quot;lineCap&quot;: &quot;round&quot;, &quot;lineJoin&quot;: &quot;round&quot;, &quot;opacity&quot;: 1.0, &quot;radius&quot;: 50, &quot;stroke&quot;: true, &quot;weight&quot;: 3}\n",
       "            ).addTo(map_03370fc5c66f256379235e7baf904a67);\n",
       "        \n",
       "    \n",
       "            circle_marker_faa91fd288bfc43f4da720dcd5d2237b.bindTooltip(\n",
       "                `&lt;div&gt;\n",
       "                     [&#x27;화곡보건경영고등학교&#x27;]\n",
       "                 &lt;/div&gt;`,\n",
       "                {&quot;sticky&quot;: true}\n",
       "            );\n",
       "        \n",
       "    \n",
       "            var circle_marker_acbbe025dae2a01be9a86d2400579f06 = L.circleMarker(\n",
       "                [37.5010757915029, 127.116425831354],\n",
       "                {&quot;bubblingMouseEvents&quot;: true, &quot;color&quot;: &quot;green&quot;, &quot;dashArray&quot;: null, &quot;dashOffset&quot;: null, &quot;fill&quot;: true, &quot;fillColor&quot;: &quot;green&quot;, &quot;fillOpacity&quot;: 0.2, &quot;fillRule&quot;: &quot;evenodd&quot;, &quot;lineCap&quot;: &quot;round&quot;, &quot;lineJoin&quot;: &quot;round&quot;, &quot;opacity&quot;: 1.0, &quot;radius&quot;: 50, &quot;stroke&quot;: true, &quot;weight&quot;: 3}\n",
       "            ).addTo(map_03370fc5c66f256379235e7baf904a67);\n",
       "        \n",
       "    \n",
       "            circle_marker_acbbe025dae2a01be9a86d2400579f06.bindTooltip(\n",
       "                `&lt;div&gt;\n",
       "                     [&#x27;가락고등학교&#x27;]\n",
       "                 &lt;/div&gt;`,\n",
       "                {&quot;sticky&quot;: true}\n",
       "            );\n",
       "        \n",
       "    \n",
       "            var circle_marker_656acf80121cba37bb23cfb15d88b811 = L.circleMarker(\n",
       "                [37.5892585316989, 126.970057092906],\n",
       "                {&quot;bubblingMouseEvents&quot;: true, &quot;color&quot;: &quot;green&quot;, &quot;dashArray&quot;: null, &quot;dashOffset&quot;: null, &quot;fill&quot;: true, &quot;fillColor&quot;: &quot;green&quot;, &quot;fillOpacity&quot;: 0.2, &quot;fillRule&quot;: &quot;evenodd&quot;, &quot;lineCap&quot;: &quot;round&quot;, &quot;lineJoin&quot;: &quot;round&quot;, &quot;opacity&quot;: 1.0, &quot;radius&quot;: 50, &quot;stroke&quot;: true, &quot;weight&quot;: 3}\n",
       "            ).addTo(map_03370fc5c66f256379235e7baf904a67);\n",
       "        \n",
       "    \n",
       "            circle_marker_656acf80121cba37bb23cfb15d88b811.bindTooltip(\n",
       "                `&lt;div&gt;\n",
       "                     [&#x27;경기상업고등학교&#x27;]\n",
       "                 &lt;/div&gt;`,\n",
       "                {&quot;sticky&quot;: true}\n",
       "            );\n",
       "        \n",
       "    \n",
       "            var circle_marker_b1189ac55e26d9925a0affc8cd8be011 = L.circleMarker(\n",
       "                [37.563510635781, 126.919166278819],\n",
       "                {&quot;bubblingMouseEvents&quot;: true, &quot;color&quot;: &quot;green&quot;, &quot;dashArray&quot;: null, &quot;dashOffset&quot;: null, &quot;fill&quot;: true, &quot;fillColor&quot;: &quot;green&quot;, &quot;fillOpacity&quot;: 0.2, &quot;fillRule&quot;: &quot;evenodd&quot;, &quot;lineCap&quot;: &quot;round&quot;, &quot;lineJoin&quot;: &quot;round&quot;, &quot;opacity&quot;: 1.0, &quot;radius&quot;: 50, &quot;stroke&quot;: true, &quot;weight&quot;: 3}\n",
       "            ).addTo(map_03370fc5c66f256379235e7baf904a67);\n",
       "        \n",
       "    \n",
       "            circle_marker_b1189ac55e26d9925a0affc8cd8be011.bindTooltip(\n",
       "                `&lt;div&gt;\n",
       "                     [&#x27;경성고등학교&#x27;]\n",
       "                 &lt;/div&gt;`,\n",
       "                {&quot;sticky&quot;: true}\n",
       "            );\n",
       "        \n",
       "    \n",
       "            var circle_marker_5931abadf2d16b8e438ad0346c8861c2 = L.circleMarker(\n",
       "                [37.5939491407769, 127.054890960564],\n",
       "                {&quot;bubblingMouseEvents&quot;: true, &quot;color&quot;: &quot;green&quot;, &quot;dashArray&quot;: null, &quot;dashOffset&quot;: null, &quot;fill&quot;: true, &quot;fillColor&quot;: &quot;green&quot;, &quot;fillOpacity&quot;: 0.2, &quot;fillRule&quot;: &quot;evenodd&quot;, &quot;lineCap&quot;: &quot;round&quot;, &quot;lineJoin&quot;: &quot;round&quot;, &quot;opacity&quot;: 1.0, &quot;radius&quot;: 50, &quot;stroke&quot;: true, &quot;weight&quot;: 3}\n",
       "            ).addTo(map_03370fc5c66f256379235e7baf904a67);\n",
       "        \n",
       "    \n",
       "            circle_marker_5931abadf2d16b8e438ad0346c8861c2.bindTooltip(\n",
       "                `&lt;div&gt;\n",
       "                     [&#x27;경희고등학교&#x27;]\n",
       "                 &lt;/div&gt;`,\n",
       "                {&quot;sticky&quot;: true}\n",
       "            );\n",
       "        \n",
       "    \n",
       "            var circle_marker_68616e9ac6e9f6f39939435f302b6171 = L.circleMarker(\n",
       "                [37.5371981027922, 126.823275879439],\n",
       "                {&quot;bubblingMouseEvents&quot;: true, &quot;color&quot;: &quot;green&quot;, &quot;dashArray&quot;: null, &quot;dashOffset&quot;: null, &quot;fill&quot;: true, &quot;fillColor&quot;: &quot;green&quot;, &quot;fillOpacity&quot;: 0.2, &quot;fillRule&quot;: &quot;evenodd&quot;, &quot;lineCap&quot;: &quot;round&quot;, &quot;lineJoin&quot;: &quot;round&quot;, &quot;opacity&quot;: 1.0, &quot;radius&quot;: 50, &quot;stroke&quot;: true, &quot;weight&quot;: 3}\n",
       "            ).addTo(map_03370fc5c66f256379235e7baf904a67);\n",
       "        \n",
       "    \n",
       "            circle_marker_68616e9ac6e9f6f39939435f302b6171.bindTooltip(\n",
       "                `&lt;div&gt;\n",
       "                     [&#x27;광영여자고등학교&#x27;]\n",
       "                 &lt;/div&gt;`,\n",
       "                {&quot;sticky&quot;: true}\n",
       "            );\n",
       "        \n",
       "    \n",
       "            var circle_marker_24330bb8b31b958b872358b71e59f80f = L.circleMarker(\n",
       "                [37.6192397716155, 127.056545166873],\n",
       "                {&quot;bubblingMouseEvents&quot;: true, &quot;color&quot;: &quot;green&quot;, &quot;dashArray&quot;: null, &quot;dashOffset&quot;: null, &quot;fill&quot;: true, &quot;fillColor&quot;: &quot;green&quot;, &quot;fillOpacity&quot;: 0.2, &quot;fillRule&quot;: &quot;evenodd&quot;, &quot;lineCap&quot;: &quot;round&quot;, &quot;lineJoin&quot;: &quot;round&quot;, &quot;opacity&quot;: 1.0, &quot;radius&quot;: 50, &quot;stroke&quot;: true, &quot;weight&quot;: 3}\n",
       "            ).addTo(map_03370fc5c66f256379235e7baf904a67);\n",
       "        \n",
       "    \n",
       "            circle_marker_24330bb8b31b958b872358b71e59f80f.bindTooltip(\n",
       "                `&lt;div&gt;\n",
       "                     [&#x27;광운인공지능고등학교&#x27;]\n",
       "                 &lt;/div&gt;`,\n",
       "                {&quot;sticky&quot;: true}\n",
       "            );\n",
       "        \n",
       "    \n",
       "            var circle_marker_a4ead995c2f0b1a0c516fe4703d84053 = L.circleMarker(\n",
       "                [37.5815827310558, 126.987951316186],\n",
       "                {&quot;bubblingMouseEvents&quot;: true, &quot;color&quot;: &quot;green&quot;, &quot;dashArray&quot;: null, &quot;dashOffset&quot;: null, &quot;fill&quot;: true, &quot;fillColor&quot;: &quot;green&quot;, &quot;fillOpacity&quot;: 0.2, &quot;fillRule&quot;: &quot;evenodd&quot;, &quot;lineCap&quot;: &quot;round&quot;, &quot;lineJoin&quot;: &quot;round&quot;, &quot;opacity&quot;: 1.0, &quot;radius&quot;: 50, &quot;stroke&quot;: true, &quot;weight&quot;: 3}\n",
       "            ).addTo(map_03370fc5c66f256379235e7baf904a67);\n",
       "        \n",
       "    \n",
       "            circle_marker_a4ead995c2f0b1a0c516fe4703d84053.bindTooltip(\n",
       "                `&lt;div&gt;\n",
       "                     [&#x27;대동세무고등학교&#x27;]\n",
       "                 &lt;/div&gt;`,\n",
       "                {&quot;sticky&quot;: true}\n",
       "            );\n",
       "        \n",
       "    \n",
       "            var circle_marker_da58a048c67ce6046656dab9505bc402 = L.circleMarker(\n",
       "                [37.573123769216, 126.96125454884],\n",
       "                {&quot;bubblingMouseEvents&quot;: true, &quot;color&quot;: &quot;green&quot;, &quot;dashArray&quot;: null, &quot;dashOffset&quot;: null, &quot;fill&quot;: true, &quot;fillColor&quot;: &quot;green&quot;, &quot;fillOpacity&quot;: 0.2, &quot;fillRule&quot;: &quot;evenodd&quot;, &quot;lineCap&quot;: &quot;round&quot;, &quot;lineJoin&quot;: &quot;round&quot;, &quot;opacity&quot;: 1.0, &quot;radius&quot;: 50, &quot;stroke&quot;: true, &quot;weight&quot;: 3}\n",
       "            ).addTo(map_03370fc5c66f256379235e7baf904a67);\n",
       "        \n",
       "    \n",
       "            circle_marker_da58a048c67ce6046656dab9505bc402.bindTooltip(\n",
       "                `&lt;div&gt;\n",
       "                     [&#x27;대신고등학교&#x27;]\n",
       "                 &lt;/div&gt;`,\n",
       "                {&quot;sticky&quot;: true}\n",
       "            );\n",
       "        \n",
       "    \n",
       "            var circle_marker_fa77d5d3d3571b9f700f2791aa94bbbb = L.circleMarker(\n",
       "                [37.5036530645899, 126.905518076656],\n",
       "                {&quot;bubblingMouseEvents&quot;: true, &quot;color&quot;: &quot;green&quot;, &quot;dashArray&quot;: null, &quot;dashOffset&quot;: null, &quot;fill&quot;: true, &quot;fillColor&quot;: &quot;green&quot;, &quot;fillOpacity&quot;: 0.2, &quot;fillRule&quot;: &quot;evenodd&quot;, &quot;lineCap&quot;: &quot;round&quot;, &quot;lineJoin&quot;: &quot;round&quot;, &quot;opacity&quot;: 1.0, &quot;radius&quot;: 50, &quot;stroke&quot;: true, &quot;weight&quot;: 3}\n",
       "            ).addTo(map_03370fc5c66f256379235e7baf904a67);\n",
       "        \n",
       "    \n",
       "            circle_marker_fa77d5d3d3571b9f700f2791aa94bbbb.bindTooltip(\n",
       "                `&lt;div&gt;\n",
       "                     [&#x27;대영고등학교&#x27;]\n",
       "                 &lt;/div&gt;`,\n",
       "                {&quot;sticky&quot;: true}\n",
       "            );\n",
       "        \n",
       "    \n",
       "            var circle_marker_38d8ce03de38dff9a282948e8b0857a6 = L.circleMarker(\n",
       "                [37.5394886976531, 126.863403109826],\n",
       "                {&quot;bubblingMouseEvents&quot;: true, &quot;color&quot;: &quot;green&quot;, &quot;dashArray&quot;: null, &quot;dashOffset&quot;: null, &quot;fill&quot;: true, &quot;fillColor&quot;: &quot;green&quot;, &quot;fillOpacity&quot;: 0.2, &quot;fillRule&quot;: &quot;evenodd&quot;, &quot;lineCap&quot;: &quot;round&quot;, &quot;lineJoin&quot;: &quot;round&quot;, &quot;opacity&quot;: 1.0, &quot;radius&quot;: 50, &quot;stroke&quot;: true, &quot;weight&quot;: 3}\n",
       "            ).addTo(map_03370fc5c66f256379235e7baf904a67);\n",
       "        \n",
       "    \n",
       "            circle_marker_38d8ce03de38dff9a282948e8b0857a6.bindTooltip(\n",
       "                `&lt;div&gt;\n",
       "                     [&#x27;대일고등학교&#x27;]\n",
       "                 &lt;/div&gt;`,\n",
       "                {&quot;sticky&quot;: true}\n",
       "            );\n",
       "        \n",
       "    \n",
       "            var circle_marker_a7b66c46579c8b20ddaa5c6ea65c6bda = L.circleMarker(\n",
       "                [37.6133045933527, 127.014175970968],\n",
       "                {&quot;bubblingMouseEvents&quot;: true, &quot;color&quot;: &quot;green&quot;, &quot;dashArray&quot;: null, &quot;dashOffset&quot;: null, &quot;fill&quot;: true, &quot;fillColor&quot;: &quot;green&quot;, &quot;fillOpacity&quot;: 0.2, &quot;fillRule&quot;: &quot;evenodd&quot;, &quot;lineCap&quot;: &quot;round&quot;, &quot;lineJoin&quot;: &quot;round&quot;, &quot;opacity&quot;: 1.0, &quot;radius&quot;: 50, &quot;stroke&quot;: true, &quot;weight&quot;: 3}\n",
       "            ).addTo(map_03370fc5c66f256379235e7baf904a67);\n",
       "        \n",
       "    \n",
       "            circle_marker_a7b66c46579c8b20ddaa5c6ea65c6bda.bindTooltip(\n",
       "                `&lt;div&gt;\n",
       "                     [&#x27;대일외국어고등학교&#x27;]\n",
       "                 &lt;/div&gt;`,\n",
       "                {&quot;sticky&quot;: true}\n",
       "            );\n",
       "        \n",
       "    \n",
       "            var circle_marker_9a34e940e631ffb2f094c3cfd9ab8379 = L.circleMarker(\n",
       "                [37.5777608153459, 126.983558137257],\n",
       "                {&quot;bubblingMouseEvents&quot;: true, &quot;color&quot;: &quot;green&quot;, &quot;dashArray&quot;: null, &quot;dashOffset&quot;: null, &quot;fill&quot;: true, &quot;fillColor&quot;: &quot;green&quot;, &quot;fillOpacity&quot;: 0.2, &quot;fillRule&quot;: &quot;evenodd&quot;, &quot;lineCap&quot;: &quot;round&quot;, &quot;lineJoin&quot;: &quot;round&quot;, &quot;opacity&quot;: 1.0, &quot;radius&quot;: 50, &quot;stroke&quot;: true, &quot;weight&quot;: 3}\n",
       "            ).addTo(map_03370fc5c66f256379235e7baf904a67);\n",
       "        \n",
       "    \n",
       "            circle_marker_9a34e940e631ffb2f094c3cfd9ab8379.bindTooltip(\n",
       "                `&lt;div&gt;\n",
       "                     [&#x27;덕성여자고등학교&#x27;]\n",
       "                 &lt;/div&gt;`,\n",
       "                {&quot;sticky&quot;: true}\n",
       "            );\n",
       "        \n",
       "    \n",
       "            var circle_marker_dda690b8106c73191a3f343c7105e4a0 = L.circleMarker(\n",
       "                [37.5552642216916, 127.041141809583],\n",
       "                {&quot;bubblingMouseEvents&quot;: true, &quot;color&quot;: &quot;green&quot;, &quot;dashArray&quot;: null, &quot;dashOffset&quot;: null, &quot;fill&quot;: true, &quot;fillColor&quot;: &quot;green&quot;, &quot;fillOpacity&quot;: 0.2, &quot;fillRule&quot;: &quot;evenodd&quot;, &quot;lineCap&quot;: &quot;round&quot;, &quot;lineJoin&quot;: &quot;round&quot;, &quot;opacity&quot;: 1.0, &quot;radius&quot;: 50, &quot;stroke&quot;: true, &quot;weight&quot;: 3}\n",
       "            ).addTo(map_03370fc5c66f256379235e7baf904a67);\n",
       "        \n",
       "    \n",
       "            circle_marker_dda690b8106c73191a3f343c7105e4a0.bindTooltip(\n",
       "                `&lt;div&gt;\n",
       "                     [&#x27;덕수고등학교&#x27;]\n",
       "                 &lt;/div&gt;`,\n",
       "                {&quot;sticky&quot;: true}\n",
       "            );\n",
       "        \n",
       "    \n",
       "            var circle_marker_6dd33f7c217bd393d8f00cca36925cf6 = L.circleMarker(\n",
       "                [37.5419293578309, 127.086973061678],\n",
       "                {&quot;bubblingMouseEvents&quot;: true, &quot;color&quot;: &quot;green&quot;, &quot;dashArray&quot;: null, &quot;dashOffset&quot;: null, &quot;fill&quot;: true, &quot;fillColor&quot;: &quot;green&quot;, &quot;fillOpacity&quot;: 0.2, &quot;fillRule&quot;: &quot;evenodd&quot;, &quot;lineCap&quot;: &quot;round&quot;, &quot;lineJoin&quot;: &quot;round&quot;, &quot;opacity&quot;: 1.0, &quot;radius&quot;: 50, &quot;stroke&quot;: true, &quot;weight&quot;: 3}\n",
       "            ).addTo(map_03370fc5c66f256379235e7baf904a67);\n",
       "        \n",
       "    \n",
       "            circle_marker_6dd33f7c217bd393d8f00cca36925cf6.bindTooltip(\n",
       "                `&lt;div&gt;\n",
       "                     [&#x27;동국대학교사범대학부속여자고등학교&#x27;]\n",
       "                 &lt;/div&gt;`,\n",
       "                {&quot;sticky&quot;: true}\n",
       "            );\n",
       "        \n",
       "    \n",
       "            var circle_marker_44ced9fe373acf86e06236b7845eef8e = L.circleMarker(\n",
       "                [37.4758460567445, 126.992615816174],\n",
       "                {&quot;bubblingMouseEvents&quot;: true, &quot;color&quot;: &quot;green&quot;, &quot;dashArray&quot;: null, &quot;dashOffset&quot;: null, &quot;fill&quot;: true, &quot;fillColor&quot;: &quot;green&quot;, &quot;fillOpacity&quot;: 0.2, &quot;fillRule&quot;: &quot;evenodd&quot;, &quot;lineCap&quot;: &quot;round&quot;, &quot;lineJoin&quot;: &quot;round&quot;, &quot;opacity&quot;: 1.0, &quot;radius&quot;: 50, &quot;stroke&quot;: true, &quot;weight&quot;: 3}\n",
       "            ).addTo(map_03370fc5c66f256379235e7baf904a67);\n",
       "        \n",
       "    \n",
       "            circle_marker_44ced9fe373acf86e06236b7845eef8e.bindTooltip(\n",
       "                `&lt;div&gt;\n",
       "                     [&#x27;동덕여자고등학교&#x27;]\n",
       "                 &lt;/div&gt;`,\n",
       "                {&quot;sticky&quot;: true}\n",
       "            );\n",
       "        \n",
       "    \n",
       "            var circle_marker_632151d9828feadc3fde62c166b2fe5f = L.circleMarker(\n",
       "                [37.6144187859471, 126.92282044301],\n",
       "                {&quot;bubblingMouseEvents&quot;: true, &quot;color&quot;: &quot;green&quot;, &quot;dashArray&quot;: null, &quot;dashOffset&quot;: null, &quot;fill&quot;: true, &quot;fillColor&quot;: &quot;green&quot;, &quot;fillOpacity&quot;: 0.2, &quot;fillRule&quot;: &quot;evenodd&quot;, &quot;lineCap&quot;: &quot;round&quot;, &quot;lineJoin&quot;: &quot;round&quot;, &quot;opacity&quot;: 1.0, &quot;radius&quot;: 50, &quot;stroke&quot;: true, &quot;weight&quot;: 3}\n",
       "            ).addTo(map_03370fc5c66f256379235e7baf904a67);\n",
       "        \n",
       "    \n",
       "            circle_marker_632151d9828feadc3fde62c166b2fe5f.bindTooltip(\n",
       "                `&lt;div&gt;\n",
       "                     [&#x27;동명여자고등학교&#x27;]\n",
       "                 &lt;/div&gt;`,\n",
       "                {&quot;sticky&quot;: true}\n",
       "            );\n",
       "        \n",
       "    \n",
       "            var circle_marker_356e46a74dc5d04c247a8b23ff2e5021 = L.circleMarker(\n",
       "                [37.5202406144077, 127.139450654266],\n",
       "                {&quot;bubblingMouseEvents&quot;: true, &quot;color&quot;: &quot;green&quot;, &quot;dashArray&quot;: null, &quot;dashOffset&quot;: null, &quot;fill&quot;: true, &quot;fillColor&quot;: &quot;green&quot;, &quot;fillOpacity&quot;: 0.2, &quot;fillRule&quot;: &quot;evenodd&quot;, &quot;lineCap&quot;: &quot;round&quot;, &quot;lineJoin&quot;: &quot;round&quot;, &quot;opacity&quot;: 1.0, &quot;radius&quot;: 50, &quot;stroke&quot;: true, &quot;weight&quot;: 3}\n",
       "            ).addTo(map_03370fc5c66f256379235e7baf904a67);\n",
       "        \n",
       "    \n",
       "            circle_marker_356e46a74dc5d04c247a8b23ff2e5021.bindTooltip(\n",
       "                `&lt;div&gt;\n",
       "                     [&#x27;동북고등학교&#x27;]\n",
       "                 &lt;/div&gt;`,\n",
       "                {&quot;sticky&quot;: true}\n",
       "            );\n",
       "        \n",
       "    \n",
       "            var circle_marker_7fb764c85a37789ac2ff27d7966ed52d = L.circleMarker(\n",
       "                [37.5600277060889, 126.85286487714],\n",
       "                {&quot;bubblingMouseEvents&quot;: true, &quot;color&quot;: &quot;green&quot;, &quot;dashArray&quot;: null, &quot;dashOffset&quot;: null, &quot;fill&quot;: true, &quot;fillColor&quot;: &quot;green&quot;, &quot;fillOpacity&quot;: 0.2, &quot;fillRule&quot;: &quot;evenodd&quot;, &quot;lineCap&quot;: &quot;round&quot;, &quot;lineJoin&quot;: &quot;round&quot;, &quot;opacity&quot;: 1.0, &quot;radius&quot;: 50, &quot;stroke&quot;: true, &quot;weight&quot;: 3}\n",
       "            ).addTo(map_03370fc5c66f256379235e7baf904a67);\n",
       "        \n",
       "    \n",
       "            circle_marker_7fb764c85a37789ac2ff27d7966ed52d.bindTooltip(\n",
       "                `&lt;div&gt;\n",
       "                     [&#x27;마포고등학교&#x27;]\n",
       "                 &lt;/div&gt;`,\n",
       "                {&quot;sticky&quot;: true}\n",
       "            );\n",
       "        \n",
       "    \n",
       "            var circle_marker_223c8090754bb01e0a4109a8f12c43b5 = L.circleMarker(\n",
       "                [37.5497763325665, 127.149581506712],\n",
       "                {&quot;bubblingMouseEvents&quot;: true, &quot;color&quot;: &quot;green&quot;, &quot;dashArray&quot;: null, &quot;dashOffset&quot;: null, &quot;fill&quot;: true, &quot;fillColor&quot;: &quot;green&quot;, &quot;fillOpacity&quot;: 0.2, &quot;fillRule&quot;: &quot;evenodd&quot;, &quot;lineCap&quot;: &quot;round&quot;, &quot;lineJoin&quot;: &quot;round&quot;, &quot;opacity&quot;: 1.0, &quot;radius&quot;: 50, &quot;stroke&quot;: true, &quot;weight&quot;: 3}\n",
       "            ).addTo(map_03370fc5c66f256379235e7baf904a67);\n",
       "        \n",
       "    \n",
       "            circle_marker_223c8090754bb01e0a4109a8f12c43b5.bindTooltip(\n",
       "                `&lt;div&gt;\n",
       "                     [&#x27;명일여자고등학교&#x27;]\n",
       "                 &lt;/div&gt;`,\n",
       "                {&quot;sticky&quot;: true}\n",
       "            );\n",
       "        \n",
       "    \n",
       "            var circle_marker_74920ae4b6b4f79005a04953d404db10 = L.circleMarker(\n",
       "                [37.4661018035835, 126.931927855676],\n",
       "                {&quot;bubblingMouseEvents&quot;: true, &quot;color&quot;: &quot;green&quot;, &quot;dashArray&quot;: null, &quot;dashOffset&quot;: null, &quot;fill&quot;: true, &quot;fillColor&quot;: &quot;green&quot;, &quot;fillOpacity&quot;: 0.2, &quot;fillRule&quot;: &quot;evenodd&quot;, &quot;lineCap&quot;: &quot;round&quot;, &quot;lineJoin&quot;: &quot;round&quot;, &quot;opacity&quot;: 1.0, &quot;radius&quot;: 50, &quot;stroke&quot;: true, &quot;weight&quot;: 3}\n",
       "            ).addTo(map_03370fc5c66f256379235e7baf904a67);\n",
       "        \n",
       "    \n",
       "            circle_marker_74920ae4b6b4f79005a04953d404db10.bindTooltip(\n",
       "                `&lt;div&gt;\n",
       "                     [&#x27;미림여자정보과학고등학교&#x27;]\n",
       "                 &lt;/div&gt;`,\n",
       "                {&quot;sticky&quot;: true}\n",
       "            );\n",
       "        \n",
       "    \n",
       "            var circle_marker_4f3798e90f5ff069b23f65575aa85e98 = L.circleMarker(\n",
       "                [37.604108905882, 126.955159496571],\n",
       "                {&quot;bubblingMouseEvents&quot;: true, &quot;color&quot;: &quot;green&quot;, &quot;dashArray&quot;: null, &quot;dashOffset&quot;: null, &quot;fill&quot;: true, &quot;fillColor&quot;: &quot;green&quot;, &quot;fillOpacity&quot;: 0.2, &quot;fillRule&quot;: &quot;evenodd&quot;, &quot;lineCap&quot;: &quot;round&quot;, &quot;lineJoin&quot;: &quot;round&quot;, &quot;opacity&quot;: 1.0, &quot;radius&quot;: 50, &quot;stroke&quot;: true, &quot;weight&quot;: 3}\n",
       "            ).addTo(map_03370fc5c66f256379235e7baf904a67);\n",
       "        \n",
       "    \n",
       "            circle_marker_4f3798e90f5ff069b23f65575aa85e98.bindTooltip(\n",
       "                `&lt;div&gt;\n",
       "                     [&#x27;상명대학교사범대학부속여자고등학교&#x27;]\n",
       "                 &lt;/div&gt;`,\n",
       "                {&quot;sticky&quot;: true}\n",
       "            );\n",
       "        \n",
       "    \n",
       "            var circle_marker_166a253c7d6eb52108f1665de8fb45e3 = L.circleMarker(\n",
       "                [37.4889197255873, 126.984545759343],\n",
       "                {&quot;bubblingMouseEvents&quot;: true, &quot;color&quot;: &quot;green&quot;, &quot;dashArray&quot;: null, &quot;dashOffset&quot;: null, &quot;fill&quot;: true, &quot;fillColor&quot;: &quot;green&quot;, &quot;fillOpacity&quot;: 0.2, &quot;fillRule&quot;: &quot;evenodd&quot;, &quot;lineCap&quot;: &quot;round&quot;, &quot;lineJoin&quot;: &quot;round&quot;, &quot;opacity&quot;: 1.0, &quot;radius&quot;: 50, &quot;stroke&quot;: true, &quot;weight&quot;: 3}\n",
       "            ).addTo(map_03370fc5c66f256379235e7baf904a67);\n",
       "        \n",
       "    \n",
       "            circle_marker_166a253c7d6eb52108f1665de8fb45e3.bindTooltip(\n",
       "                `&lt;div&gt;\n",
       "                     [&#x27;서문여자고등학교&#x27;]\n",
       "                 &lt;/div&gt;`,\n",
       "                {&quot;sticky&quot;: true}\n",
       "            );\n",
       "        \n",
       "    \n",
       "            var circle_marker_67c7008ce7decc5396ce24d0d04d85a0 = L.circleMarker(\n",
       "                [37.5019012578828, 126.922363030415],\n",
       "                {&quot;bubblingMouseEvents&quot;: true, &quot;color&quot;: &quot;green&quot;, &quot;dashArray&quot;: null, &quot;dashOffset&quot;: null, &quot;fill&quot;: true, &quot;fillColor&quot;: &quot;green&quot;, &quot;fillOpacity&quot;: 0.2, &quot;fillRule&quot;: &quot;evenodd&quot;, &quot;lineCap&quot;: &quot;round&quot;, &quot;lineJoin&quot;: &quot;round&quot;, &quot;opacity&quot;: 1.0, &quot;radius&quot;: 50, &quot;stroke&quot;: true, &quot;weight&quot;: 3}\n",
       "            ).addTo(map_03370fc5c66f256379235e7baf904a67);\n",
       "        \n",
       "    \n",
       "            circle_marker_67c7008ce7decc5396ce24d0d04d85a0.bindTooltip(\n",
       "                `&lt;div&gt;\n",
       "                     [&#x27;서울공업고등학교&#x27;]\n",
       "                 &lt;/div&gt;`,\n",
       "                {&quot;sticky&quot;: true}\n",
       "            );\n",
       "        \n",
       "    \n",
       "            var circle_marker_8e1574911f3ebf50865f4599cfe024fc = L.circleMarker(\n",
       "                [37.6307779754887, 127.073998366297],\n",
       "                {&quot;bubblingMouseEvents&quot;: true, &quot;color&quot;: &quot;green&quot;, &quot;dashArray&quot;: null, &quot;dashOffset&quot;: null, &quot;fill&quot;: true, &quot;fillColor&quot;: &quot;green&quot;, &quot;fillOpacity&quot;: 0.2, &quot;fillRule&quot;: &quot;evenodd&quot;, &quot;lineCap&quot;: &quot;round&quot;, &quot;lineJoin&quot;: &quot;round&quot;, &quot;opacity&quot;: 1.0, &quot;radius&quot;: 50, &quot;stroke&quot;: true, &quot;weight&quot;: 3}\n",
       "            ).addTo(map_03370fc5c66f256379235e7baf904a67);\n",
       "        \n",
       "    \n",
       "            circle_marker_8e1574911f3ebf50865f4599cfe024fc.bindTooltip(\n",
       "                `&lt;div&gt;\n",
       "                     [&#x27;서울동산고등학교&#x27;]\n",
       "                 &lt;/div&gt;`,\n",
       "                {&quot;sticky&quot;: true}\n",
       "            );\n",
       "        \n",
       "    \n",
       "            var circle_marker_b9c91607b2d8fdc4101b44a6a1333515 = L.circleMarker(\n",
       "                [37.5477744781642, 127.011037345163],\n",
       "                {&quot;bubblingMouseEvents&quot;: true, &quot;color&quot;: &quot;green&quot;, &quot;dashArray&quot;: null, &quot;dashOffset&quot;: null, &quot;fill&quot;: true, &quot;fillColor&quot;: &quot;green&quot;, &quot;fillOpacity&quot;: 0.2, &quot;fillRule&quot;: &quot;evenodd&quot;, &quot;lineCap&quot;: &quot;round&quot;, &quot;lineJoin&quot;: &quot;round&quot;, &quot;opacity&quot;: 1.0, &quot;radius&quot;: 50, &quot;stroke&quot;: true, &quot;weight&quot;: 3}\n",
       "            ).addTo(map_03370fc5c66f256379235e7baf904a67);\n",
       "        \n",
       "    \n",
       "            circle_marker_b9c91607b2d8fdc4101b44a6a1333515.bindTooltip(\n",
       "                `&lt;div&gt;\n",
       "                     [&#x27;서울방송고등학교&#x27;]\n",
       "                 &lt;/div&gt;`,\n",
       "                {&quot;sticky&quot;: true}\n",
       "            );\n",
       "        \n",
       "    \n",
       "            var circle_marker_a1a1b3ea74d1764c2b74bddef68b9e47 = L.circleMarker(\n",
       "                [37.4903893469638, 127.102796812957],\n",
       "                {&quot;bubblingMouseEvents&quot;: true, &quot;color&quot;: &quot;green&quot;, &quot;dashArray&quot;: null, &quot;dashOffset&quot;: null, &quot;fill&quot;: true, &quot;fillColor&quot;: &quot;green&quot;, &quot;fillOpacity&quot;: 0.2, &quot;fillRule&quot;: &quot;evenodd&quot;, &quot;lineCap&quot;: &quot;round&quot;, &quot;lineJoin&quot;: &quot;round&quot;, &quot;opacity&quot;: 1.0, &quot;radius&quot;: 50, &quot;stroke&quot;: true, &quot;weight&quot;: 3}\n",
       "            ).addTo(map_03370fc5c66f256379235e7baf904a67);\n",
       "        \n",
       "    \n",
       "            circle_marker_a1a1b3ea74d1764c2b74bddef68b9e47.bindTooltip(\n",
       "                `&lt;div&gt;\n",
       "                     [&#x27;서울세종고등학교&#x27;]\n",
       "                 &lt;/div&gt;`,\n",
       "                {&quot;sticky&quot;: true}\n",
       "            );\n",
       "        \n",
       "    \n",
       "            var circle_marker_01a3a2f57c6a77ef433df26fded96ead = L.circleMarker(\n",
       "                [37.4916482412209, 127.142085431868],\n",
       "                {&quot;bubblingMouseEvents&quot;: true, &quot;color&quot;: &quot;green&quot;, &quot;dashArray&quot;: null, &quot;dashOffset&quot;: null, &quot;fill&quot;: true, &quot;fillColor&quot;: &quot;green&quot;, &quot;fillOpacity&quot;: 0.2, &quot;fillRule&quot;: &quot;evenodd&quot;, &quot;lineCap&quot;: &quot;round&quot;, &quot;lineJoin&quot;: &quot;round&quot;, &quot;opacity&quot;: 1.0, &quot;radius&quot;: 50, &quot;stroke&quot;: true, &quot;weight&quot;: 3}\n",
       "            ).addTo(map_03370fc5c66f256379235e7baf904a67);\n",
       "        \n",
       "    \n",
       "            circle_marker_01a3a2f57c6a77ef433df26fded96ead.bindTooltip(\n",
       "                `&lt;div&gt;\n",
       "                     [&#x27;서울인공지능고등학교&#x27;]\n",
       "                 &lt;/div&gt;`,\n",
       "                {&quot;sticky&quot;: true}\n",
       "            );\n",
       "        \n",
       "    \n",
       "            var circle_marker_7022b06828fc5f350f732c3161a4cbc5 = L.circleMarker(\n",
       "                [37.5592845614915, 127.158215928554],\n",
       "                {&quot;bubblingMouseEvents&quot;: true, &quot;color&quot;: &quot;green&quot;, &quot;dashArray&quot;: null, &quot;dashOffset&quot;: null, &quot;fill&quot;: true, &quot;fillColor&quot;: &quot;green&quot;, &quot;fillOpacity&quot;: 0.2, &quot;fillRule&quot;: &quot;evenodd&quot;, &quot;lineCap&quot;: &quot;round&quot;, &quot;lineJoin&quot;: &quot;round&quot;, &quot;opacity&quot;: 1.0, &quot;radius&quot;: 50, &quot;stroke&quot;: true, &quot;weight&quot;: 3}\n",
       "            ).addTo(map_03370fc5c66f256379235e7baf904a67);\n",
       "        \n",
       "    \n",
       "            circle_marker_7022b06828fc5f350f732c3161a4cbc5.bindTooltip(\n",
       "                `&lt;div&gt;\n",
       "                     [&#x27;서울컨벤션고등학교&#x27;]\n",
       "                 &lt;/div&gt;`,\n",
       "                {&quot;sticky&quot;: true}\n",
       "            );\n",
       "        \n",
       "    \n",
       "            var circle_marker_449db484811579c45c26b3d4b7b99adb = L.circleMarker(\n",
       "                [37.5563158751807, 127.13577562154],\n",
       "                {&quot;bubblingMouseEvents&quot;: true, &quot;color&quot;: &quot;green&quot;, &quot;dashArray&quot;: null, &quot;dashOffset&quot;: null, &quot;fill&quot;: true, &quot;fillColor&quot;: &quot;green&quot;, &quot;fillOpacity&quot;: 0.2, &quot;fillRule&quot;: &quot;evenodd&quot;, &quot;lineCap&quot;: &quot;round&quot;, &quot;lineJoin&quot;: &quot;round&quot;, &quot;opacity&quot;: 1.0, &quot;radius&quot;: 50, &quot;stroke&quot;: true, &quot;weight&quot;: 3}\n",
       "            ).addTo(map_03370fc5c66f256379235e7baf904a67);\n",
       "        \n",
       "    \n",
       "            circle_marker_449db484811579c45c26b3d4b7b99adb.bindTooltip(\n",
       "                `&lt;div&gt;\n",
       "                     [&#x27;선사고등학교&#x27;]\n",
       "                 &lt;/div&gt;`,\n",
       "                {&quot;sticky&quot;: true}\n",
       "            );\n",
       "        \n",
       "    \n",
       "            var circle_marker_6a4b559d2b58a54799286b1501a8ba9c = L.circleMarker(\n",
       "                [37.5498545397762, 127.141541303447],\n",
       "                {&quot;bubblingMouseEvents&quot;: true, &quot;color&quot;: &quot;green&quot;, &quot;dashArray&quot;: null, &quot;dashOffset&quot;: null, &quot;fill&quot;: true, &quot;fillColor&quot;: &quot;green&quot;, &quot;fillOpacity&quot;: 0.2, &quot;fillRule&quot;: &quot;evenodd&quot;, &quot;lineCap&quot;: &quot;round&quot;, &quot;lineJoin&quot;: &quot;round&quot;, &quot;opacity&quot;: 1.0, &quot;radius&quot;: 50, &quot;stroke&quot;: true, &quot;weight&quot;: 3}\n",
       "            ).addTo(map_03370fc5c66f256379235e7baf904a67);\n",
       "        \n",
       "    \n",
       "            circle_marker_6a4b559d2b58a54799286b1501a8ba9c.bindTooltip(\n",
       "                `&lt;div&gt;\n",
       "                     [&#x27;성덕고등학교&#x27;]\n",
       "                 &lt;/div&gt;`,\n",
       "                {&quot;sticky&quot;: true}\n",
       "            );\n",
       "        \n",
       "    \n",
       "            var circle_marker_6d3adc796473f5afd48112a770b660e3 = L.circleMarker(\n",
       "                [37.5641621970073, 127.022389203196],\n",
       "                {&quot;bubblingMouseEvents&quot;: true, &quot;color&quot;: &quot;green&quot;, &quot;dashArray&quot;: null, &quot;dashOffset&quot;: null, &quot;fill&quot;: true, &quot;fillColor&quot;: &quot;green&quot;, &quot;fillOpacity&quot;: 0.2, &quot;fillRule&quot;: &quot;evenodd&quot;, &quot;lineCap&quot;: &quot;round&quot;, &quot;lineJoin&quot;: &quot;round&quot;, &quot;opacity&quot;: 1.0, &quot;radius&quot;: 50, &quot;stroke&quot;: true, &quot;weight&quot;: 3}\n",
       "            ).addTo(map_03370fc5c66f256379235e7baf904a67);\n",
       "        \n",
       "    \n",
       "            circle_marker_6d3adc796473f5afd48112a770b660e3.bindTooltip(\n",
       "                `&lt;div&gt;\n",
       "                     [&#x27;성동고등학교&#x27;]\n",
       "                 &lt;/div&gt;`,\n",
       "                {&quot;sticky&quot;: true}\n",
       "            );\n",
       "        \n",
       "    \n",
       "            var circle_marker_a8869801ab278bbacc38bf9587b1c1e4 = L.circleMarker(\n",
       "                [37.4807283676946, 126.920957326353],\n",
       "                {&quot;bubblingMouseEvents&quot;: true, &quot;color&quot;: &quot;green&quot;, &quot;dashArray&quot;: null, &quot;dashOffset&quot;: null, &quot;fill&quot;: true, &quot;fillColor&quot;: &quot;green&quot;, &quot;fillOpacity&quot;: 0.2, &quot;fillRule&quot;: &quot;evenodd&quot;, &quot;lineCap&quot;: &quot;round&quot;, &quot;lineJoin&quot;: &quot;round&quot;, &quot;opacity&quot;: 1.0, &quot;radius&quot;: 50, &quot;stroke&quot;: true, &quot;weight&quot;: 3}\n",
       "            ).addTo(map_03370fc5c66f256379235e7baf904a67);\n",
       "        \n",
       "    \n",
       "            circle_marker_a8869801ab278bbacc38bf9587b1c1e4.bindTooltip(\n",
       "                `&lt;div&gt;\n",
       "                     [&#x27;성보고등학교&#x27;]\n",
       "                 &lt;/div&gt;`,\n",
       "                {&quot;sticky&quot;: true}\n",
       "            );\n",
       "        \n",
       "    \n",
       "            var circle_marker_57451f03991104fec49b77cba07be4f3 = L.circleMarker(\n",
       "                [37.5473418143935, 127.038253431317],\n",
       "                {&quot;bubblingMouseEvents&quot;: true, &quot;color&quot;: &quot;green&quot;, &quot;dashArray&quot;: null, &quot;dashOffset&quot;: null, &quot;fill&quot;: true, &quot;fillColor&quot;: &quot;green&quot;, &quot;fillOpacity&quot;: 0.2, &quot;fillRule&quot;: &quot;evenodd&quot;, &quot;lineCap&quot;: &quot;round&quot;, &quot;lineJoin&quot;: &quot;round&quot;, &quot;opacity&quot;: 1.0, &quot;radius&quot;: 50, &quot;stroke&quot;: true, &quot;weight&quot;: 3}\n",
       "            ).addTo(map_03370fc5c66f256379235e7baf904a67);\n",
       "        \n",
       "    \n",
       "            circle_marker_57451f03991104fec49b77cba07be4f3.bindTooltip(\n",
       "                `&lt;div&gt;\n",
       "                     [&#x27;성수고등학교&#x27;]\n",
       "                 &lt;/div&gt;`,\n",
       "                {&quot;sticky&quot;: true}\n",
       "            );\n",
       "        \n",
       "    \n",
       "            var circle_marker_86268cf9bb56afbaee7715217773ec81 = L.circleMarker(\n",
       "                [37.4975693967975, 126.827351739435],\n",
       "                {&quot;bubblingMouseEvents&quot;: true, &quot;color&quot;: &quot;green&quot;, &quot;dashArray&quot;: null, &quot;dashOffset&quot;: null, &quot;fill&quot;: true, &quot;fillColor&quot;: &quot;green&quot;, &quot;fillOpacity&quot;: 0.2, &quot;fillRule&quot;: &quot;evenodd&quot;, &quot;lineCap&quot;: &quot;round&quot;, &quot;lineJoin&quot;: &quot;round&quot;, &quot;opacity&quot;: 1.0, &quot;radius&quot;: 50, &quot;stroke&quot;: true, &quot;weight&quot;: 3}\n",
       "            ).addTo(map_03370fc5c66f256379235e7baf904a67);\n",
       "        \n",
       "    \n",
       "            circle_marker_86268cf9bb56afbaee7715217773ec81.bindTooltip(\n",
       "                `&lt;div&gt;\n",
       "                     [&#x27;세종과학고등학교&#x27;]\n",
       "                 &lt;/div&gt;`,\n",
       "                {&quot;sticky&quot;: true}\n",
       "            );\n",
       "        \n",
       "    \n",
       "            var circle_marker_b2d206d0278e9d09a35590c4a7ca1540 = L.circleMarker(\n",
       "                [37.5019964569165, 126.994230013893],\n",
       "                {&quot;bubblingMouseEvents&quot;: true, &quot;color&quot;: &quot;green&quot;, &quot;dashArray&quot;: null, &quot;dashOffset&quot;: null, &quot;fill&quot;: true, &quot;fillColor&quot;: &quot;green&quot;, &quot;fillOpacity&quot;: 0.2, &quot;fillRule&quot;: &quot;evenodd&quot;, &quot;lineCap&quot;: &quot;round&quot;, &quot;lineJoin&quot;: &quot;round&quot;, &quot;opacity&quot;: 1.0, &quot;radius&quot;: 50, &quot;stroke&quot;: true, &quot;weight&quot;: 3}\n",
       "            ).addTo(map_03370fc5c66f256379235e7baf904a67);\n",
       "        \n",
       "    \n",
       "            circle_marker_b2d206d0278e9d09a35590c4a7ca1540.bindTooltip(\n",
       "                `&lt;div&gt;\n",
       "                     [&#x27;세화고등학교&#x27;]\n",
       "                 &lt;/div&gt;`,\n",
       "                {&quot;sticky&quot;: true}\n",
       "            );\n",
       "        \n",
       "    \n",
       "            var circle_marker_afad9cf50fe9b675dfe8bdd01ce25cfe = L.circleMarker(\n",
       "                [37.5019964569165, 126.994230013893],\n",
       "                {&quot;bubblingMouseEvents&quot;: true, &quot;color&quot;: &quot;green&quot;, &quot;dashArray&quot;: null, &quot;dashOffset&quot;: null, &quot;fill&quot;: true, &quot;fillColor&quot;: &quot;green&quot;, &quot;fillOpacity&quot;: 0.2, &quot;fillRule&quot;: &quot;evenodd&quot;, &quot;lineCap&quot;: &quot;round&quot;, &quot;lineJoin&quot;: &quot;round&quot;, &quot;opacity&quot;: 1.0, &quot;radius&quot;: 50, &quot;stroke&quot;: true, &quot;weight&quot;: 3}\n",
       "            ).addTo(map_03370fc5c66f256379235e7baf904a67);\n",
       "        \n",
       "    \n",
       "            circle_marker_afad9cf50fe9b675dfe8bdd01ce25cfe.bindTooltip(\n",
       "                `&lt;div&gt;\n",
       "                     [&#x27;세화여자고등학교&#x27;]\n",
       "                 &lt;/div&gt;`,\n",
       "                {&quot;sticky&quot;: true}\n",
       "            );\n",
       "        \n",
       "    \n",
       "            var circle_marker_6af4510de63c97775137dbf58c8ccb6e = L.circleMarker(\n",
       "                [37.4928014552579, 126.914907105304],\n",
       "                {&quot;bubblingMouseEvents&quot;: true, &quot;color&quot;: &quot;green&quot;, &quot;dashArray&quot;: null, &quot;dashOffset&quot;: null, &quot;fill&quot;: true, &quot;fillColor&quot;: &quot;green&quot;, &quot;fillOpacity&quot;: 0.2, &quot;fillRule&quot;: &quot;evenodd&quot;, &quot;lineCap&quot;: &quot;round&quot;, &quot;lineJoin&quot;: &quot;round&quot;, &quot;opacity&quot;: 1.0, &quot;radius&quot;: 50, &quot;stroke&quot;: true, &quot;weight&quot;: 3}\n",
       "            ).addTo(map_03370fc5c66f256379235e7baf904a67);\n",
       "        \n",
       "    \n",
       "            circle_marker_6af4510de63c97775137dbf58c8ccb6e.bindTooltip(\n",
       "                `&lt;div&gt;\n",
       "                     [&#x27;수도여자고등학교&#x27;]\n",
       "                 &lt;/div&gt;`,\n",
       "                {&quot;sticky&quot;: true}\n",
       "            );\n",
       "        \n",
       "    \n",
       "            var circle_marker_8275118ac88c91f568436365d142d919 = L.circleMarker(\n",
       "                [37.5508908073511, 126.945768932715],\n",
       "                {&quot;bubblingMouseEvents&quot;: true, &quot;color&quot;: &quot;green&quot;, &quot;dashArray&quot;: null, &quot;dashOffset&quot;: null, &quot;fill&quot;: true, &quot;fillColor&quot;: &quot;green&quot;, &quot;fillOpacity&quot;: 0.2, &quot;fillRule&quot;: &quot;evenodd&quot;, &quot;lineCap&quot;: &quot;round&quot;, &quot;lineJoin&quot;: &quot;round&quot;, &quot;opacity&quot;: 1.0, &quot;radius&quot;: 50, &quot;stroke&quot;: true, &quot;weight&quot;: 3}\n",
       "            ).addTo(map_03370fc5c66f256379235e7baf904a67);\n",
       "        \n",
       "    \n",
       "            circle_marker_8275118ac88c91f568436365d142d919.bindTooltip(\n",
       "                `&lt;div&gt;\n",
       "                     [&#x27;숭문고등학교&#x27;]\n",
       "                 &lt;/div&gt;`,\n",
       "                {&quot;sticky&quot;: true}\n",
       "            );\n",
       "        \n",
       "    \n",
       "            var circle_marker_663458f2d94b96db1e48b41e77d262d6 = L.circleMarker(\n",
       "                [37.507364139341, 126.92924328346],\n",
       "                {&quot;bubblingMouseEvents&quot;: true, &quot;color&quot;: &quot;green&quot;, &quot;dashArray&quot;: null, &quot;dashOffset&quot;: null, &quot;fill&quot;: true, &quot;fillColor&quot;: &quot;green&quot;, &quot;fillOpacity&quot;: 0.2, &quot;fillRule&quot;: &quot;evenodd&quot;, &quot;lineCap&quot;: &quot;round&quot;, &quot;lineJoin&quot;: &quot;round&quot;, &quot;opacity&quot;: 1.0, &quot;radius&quot;: 50, &quot;stroke&quot;: true, &quot;weight&quot;: 3}\n",
       "            ).addTo(map_03370fc5c66f256379235e7baf904a67);\n",
       "        \n",
       "    \n",
       "            circle_marker_663458f2d94b96db1e48b41e77d262d6.bindTooltip(\n",
       "                `&lt;div&gt;\n",
       "                     [&#x27;숭의여자고등학교&#x27;]\n",
       "                 &lt;/div&gt;`,\n",
       "                {&quot;sticky&quot;: true}\n",
       "            );\n",
       "        \n",
       "    \n",
       "            var circle_marker_6a3250e8144a9138fd18e1a962c1f277 = L.circleMarker(\n",
       "                [37.525051010673, 126.934219234109],\n",
       "                {&quot;bubblingMouseEvents&quot;: true, &quot;color&quot;: &quot;green&quot;, &quot;dashArray&quot;: null, &quot;dashOffset&quot;: null, &quot;fill&quot;: true, &quot;fillColor&quot;: &quot;green&quot;, &quot;fillOpacity&quot;: 0.2, &quot;fillRule&quot;: &quot;evenodd&quot;, &quot;lineCap&quot;: &quot;round&quot;, &quot;lineJoin&quot;: &quot;round&quot;, &quot;opacity&quot;: 1.0, &quot;radius&quot;: 50, &quot;stroke&quot;: true, &quot;weight&quot;: 3}\n",
       "            ).addTo(map_03370fc5c66f256379235e7baf904a67);\n",
       "        \n",
       "    \n",
       "            circle_marker_6a3250e8144a9138fd18e1a962c1f277.bindTooltip(\n",
       "                `&lt;div&gt;\n",
       "                     [&#x27;여의도고등학교&#x27;]\n",
       "                 &lt;/div&gt;`,\n",
       "                {&quot;sticky&quot;: true}\n",
       "            );\n",
       "        \n",
       "    \n",
       "            var circle_marker_a1bba6fed1328a7ae5ac3f269faa371a = L.circleMarker(\n",
       "                [37.5229539211231, 126.934857399184],\n",
       "                {&quot;bubblingMouseEvents&quot;: true, &quot;color&quot;: &quot;green&quot;, &quot;dashArray&quot;: null, &quot;dashOffset&quot;: null, &quot;fill&quot;: true, &quot;fillColor&quot;: &quot;green&quot;, &quot;fillOpacity&quot;: 0.2, &quot;fillRule&quot;: &quot;evenodd&quot;, &quot;lineCap&quot;: &quot;round&quot;, &quot;lineJoin&quot;: &quot;round&quot;, &quot;opacity&quot;: 1.0, &quot;radius&quot;: 50, &quot;stroke&quot;: true, &quot;weight&quot;: 3}\n",
       "            ).addTo(map_03370fc5c66f256379235e7baf904a67);\n",
       "        \n",
       "    \n",
       "            circle_marker_a1bba6fed1328a7ae5ac3f269faa371a.bindTooltip(\n",
       "                `&lt;div&gt;\n",
       "                     [&#x27;여의도여자고등학교&#x27;]\n",
       "                 &lt;/div&gt;`,\n",
       "                {&quot;sticky&quot;: true}\n",
       "            );\n",
       "        \n",
       "    \n",
       "            var circle_marker_927724521977bd95ab37c6721dbf6592 = L.circleMarker(\n",
       "                [37.5099746522433, 127.089443727735],\n",
       "                {&quot;bubblingMouseEvents&quot;: true, &quot;color&quot;: &quot;green&quot;, &quot;dashArray&quot;: null, &quot;dashOffset&quot;: null, &quot;fill&quot;: true, &quot;fillColor&quot;: &quot;green&quot;, &quot;fillOpacity&quot;: 0.2, &quot;fillRule&quot;: &quot;evenodd&quot;, &quot;lineCap&quot;: &quot;round&quot;, &quot;lineJoin&quot;: &quot;round&quot;, &quot;opacity&quot;: 1.0, &quot;radius&quot;: 50, &quot;stroke&quot;: true, &quot;weight&quot;: 3}\n",
       "            ).addTo(map_03370fc5c66f256379235e7baf904a67);\n",
       "        \n",
       "    \n",
       "            circle_marker_927724521977bd95ab37c6721dbf6592.bindTooltip(\n",
       "                `&lt;div&gt;\n",
       "                     [&#x27;영동일고등학교&#x27;]\n",
       "                 &lt;/div&gt;`,\n",
       "                {&quot;sticky&quot;: true}\n",
       "            );\n",
       "        \n",
       "    \n",
       "            var circle_marker_554199c17d462cfd1803ae7a48ae8885 = L.circleMarker(\n",
       "                [37.4765425944329, 126.945416385602],\n",
       "                {&quot;bubblingMouseEvents&quot;: true, &quot;color&quot;: &quot;green&quot;, &quot;dashArray&quot;: null, &quot;dashOffset&quot;: null, &quot;fill&quot;: true, &quot;fillColor&quot;: &quot;green&quot;, &quot;fillOpacity&quot;: 0.2, &quot;fillRule&quot;: &quot;evenodd&quot;, &quot;lineCap&quot;: &quot;round&quot;, &quot;lineJoin&quot;: &quot;round&quot;, &quot;opacity&quot;: 1.0, &quot;radius&quot;: 50, &quot;stroke&quot;: true, &quot;weight&quot;: 3}\n",
       "            ).addTo(map_03370fc5c66f256379235e7baf904a67);\n",
       "        \n",
       "    \n",
       "            circle_marker_554199c17d462cfd1803ae7a48ae8885.bindTooltip(\n",
       "                `&lt;div&gt;\n",
       "                     [&#x27;영락고등학교&#x27;]\n",
       "                 &lt;/div&gt;`,\n",
       "                {&quot;sticky&quot;: true}\n",
       "            );\n",
       "        \n",
       "    \n",
       "            var circle_marker_6248d494de477bc566b496023edba00c = L.circleMarker(\n",
       "                [37.4765425944329, 126.945416385602],\n",
       "                {&quot;bubblingMouseEvents&quot;: true, &quot;color&quot;: &quot;green&quot;, &quot;dashArray&quot;: null, &quot;dashOffset&quot;: null, &quot;fill&quot;: true, &quot;fillColor&quot;: &quot;green&quot;, &quot;fillOpacity&quot;: 0.2, &quot;fillRule&quot;: &quot;evenodd&quot;, &quot;lineCap&quot;: &quot;round&quot;, &quot;lineJoin&quot;: &quot;round&quot;, &quot;opacity&quot;: 1.0, &quot;radius&quot;: 50, &quot;stroke&quot;: true, &quot;weight&quot;: 3}\n",
       "            ).addTo(map_03370fc5c66f256379235e7baf904a67);\n",
       "        \n",
       "    \n",
       "            circle_marker_6248d494de477bc566b496023edba00c.bindTooltip(\n",
       "                `&lt;div&gt;\n",
       "                     [&#x27;영락의료과학고등학교&#x27;]\n",
       "                 &lt;/div&gt;`,\n",
       "                {&quot;sticky&quot;: true}\n",
       "            );\n",
       "        \n",
       "    \n",
       "            var circle_marker_79876799633af15df5520f1f1e860631 = L.circleMarker(\n",
       "                [37.6109458980893, 126.914792838283],\n",
       "                {&quot;bubblingMouseEvents&quot;: true, &quot;color&quot;: &quot;green&quot;, &quot;dashArray&quot;: null, &quot;dashOffset&quot;: null, &quot;fill&quot;: true, &quot;fillColor&quot;: &quot;green&quot;, &quot;fillOpacity&quot;: 0.2, &quot;fillRule&quot;: &quot;evenodd&quot;, &quot;lineCap&quot;: &quot;round&quot;, &quot;lineJoin&quot;: &quot;round&quot;, &quot;opacity&quot;: 1.0, &quot;radius&quot;: 50, &quot;stroke&quot;: true, &quot;weight&quot;: 3}\n",
       "            ).addTo(map_03370fc5c66f256379235e7baf904a67);\n",
       "        \n",
       "    \n",
       "            circle_marker_79876799633af15df5520f1f1e860631.bindTooltip(\n",
       "                `&lt;div&gt;\n",
       "                     [&#x27;예일여자고등학교&#x27;]\n",
       "                 &lt;/div&gt;`,\n",
       "                {&quot;sticky&quot;: true}\n",
       "            );\n",
       "        \n",
       "    \n",
       "            var circle_marker_b4ad15b5c493ac14c6a66866856c35c1 = L.circleMarker(\n",
       "                [37.5235805097988, 127.000887240982],\n",
       "                {&quot;bubblingMouseEvents&quot;: true, &quot;color&quot;: &quot;green&quot;, &quot;dashArray&quot;: null, &quot;dashOffset&quot;: null, &quot;fill&quot;: true, &quot;fillColor&quot;: &quot;green&quot;, &quot;fillOpacity&quot;: 0.2, &quot;fillRule&quot;: &quot;evenodd&quot;, &quot;lineCap&quot;: &quot;round&quot;, &quot;lineJoin&quot;: &quot;round&quot;, &quot;opacity&quot;: 1.0, &quot;radius&quot;: 50, &quot;stroke&quot;: true, &quot;weight&quot;: 3}\n",
       "            ).addTo(map_03370fc5c66f256379235e7baf904a67);\n",
       "        \n",
       "    \n",
       "            circle_marker_b4ad15b5c493ac14c6a66866856c35c1.bindTooltip(\n",
       "                `&lt;div&gt;\n",
       "                     [&#x27;오산고등학교&#x27;]\n",
       "                 &lt;/div&gt;`,\n",
       "                {&quot;sticky&quot;: true}\n",
       "            );\n",
       "        \n",
       "    \n",
       "            var circle_marker_f4fe8f2c14a03aabeda0d5fd44f1f6fb = L.circleMarker(\n",
       "                [37.5886903262008, 127.024660795253],\n",
       "                {&quot;bubblingMouseEvents&quot;: true, &quot;color&quot;: &quot;green&quot;, &quot;dashArray&quot;: null, &quot;dashOffset&quot;: null, &quot;fill&quot;: true, &quot;fillColor&quot;: &quot;green&quot;, &quot;fillOpacity&quot;: 0.2, &quot;fillRule&quot;: &quot;evenodd&quot;, &quot;lineCap&quot;: &quot;round&quot;, &quot;lineJoin&quot;: &quot;round&quot;, &quot;opacity&quot;: 1.0, &quot;radius&quot;: 50, &quot;stroke&quot;: true, &quot;weight&quot;: 3}\n",
       "            ).addTo(map_03370fc5c66f256379235e7baf904a67);\n",
       "        \n",
       "    \n",
       "            circle_marker_f4fe8f2c14a03aabeda0d5fd44f1f6fb.bindTooltip(\n",
       "                `&lt;div&gt;\n",
       "                     [&#x27;용문고등학교&#x27;]\n",
       "                 &lt;/div&gt;`,\n",
       "                {&quot;sticky&quot;: true}\n",
       "            );\n",
       "        \n",
       "    \n",
       "            var circle_marker_c6ef454c8cb50d742e267f3bd1963324 = L.circleMarker(\n",
       "                [37.6303438661503, 127.054499915273],\n",
       "                {&quot;bubblingMouseEvents&quot;: true, &quot;color&quot;: &quot;green&quot;, &quot;dashArray&quot;: null, &quot;dashOffset&quot;: null, &quot;fill&quot;: true, &quot;fillColor&quot;: &quot;green&quot;, &quot;fillOpacity&quot;: 0.2, &quot;fillRule&quot;: &quot;evenodd&quot;, &quot;lineCap&quot;: &quot;round&quot;, &quot;lineJoin&quot;: &quot;round&quot;, &quot;opacity&quot;: 1.0, &quot;radius&quot;: 50, &quot;stroke&quot;: true, &quot;weight&quot;: 3}\n",
       "            ).addTo(map_03370fc5c66f256379235e7baf904a67);\n",
       "        \n",
       "    \n",
       "            circle_marker_c6ef454c8cb50d742e267f3bd1963324.bindTooltip(\n",
       "                `&lt;div&gt;\n",
       "                     [&#x27;인덕과학기술고등학교&#x27;]\n",
       "                 &lt;/div&gt;`,\n",
       "                {&quot;sticky&quot;: true}\n",
       "            );\n",
       "        \n",
       "    \n",
       "            var circle_marker_25a72e1dbbffe09a0552902fc253b055 = L.circleMarker(\n",
       "                [37.536077967735, 127.073339535384],\n",
       "                {&quot;bubblingMouseEvents&quot;: true, &quot;color&quot;: &quot;green&quot;, &quot;dashArray&quot;: null, &quot;dashOffset&quot;: null, &quot;fill&quot;: true, &quot;fillColor&quot;: &quot;green&quot;, &quot;fillOpacity&quot;: 0.2, &quot;fillRule&quot;: &quot;evenodd&quot;, &quot;lineCap&quot;: &quot;round&quot;, &quot;lineJoin&quot;: &quot;round&quot;, &quot;opacity&quot;: 1.0, &quot;radius&quot;: 50, &quot;stroke&quot;: true, &quot;weight&quot;: 3}\n",
       "            ).addTo(map_03370fc5c66f256379235e7baf904a67);\n",
       "        \n",
       "    \n",
       "            circle_marker_25a72e1dbbffe09a0552902fc253b055.bindTooltip(\n",
       "                `&lt;div&gt;\n",
       "                     [&#x27;자양고등학교&#x27;]\n",
       "                 &lt;/div&gt;`,\n",
       "                {&quot;sticky&quot;: true}\n",
       "            );\n",
       "        \n",
       "    \n",
       "            var circle_marker_a87f94c3636a632b8122ccf564073ba6 = L.circleMarker(\n",
       "                [37.5133455931748, 126.916228547854],\n",
       "                {&quot;bubblingMouseEvents&quot;: true, &quot;color&quot;: &quot;green&quot;, &quot;dashArray&quot;: null, &quot;dashOffset&quot;: null, &quot;fill&quot;: true, &quot;fillColor&quot;: &quot;green&quot;, &quot;fillOpacity&quot;: 0.2, &quot;fillRule&quot;: &quot;evenodd&quot;, &quot;lineCap&quot;: &quot;round&quot;, &quot;lineJoin&quot;: &quot;round&quot;, &quot;opacity&quot;: 1.0, &quot;radius&quot;: 50, &quot;stroke&quot;: true, &quot;weight&quot;: 3}\n",
       "            ).addTo(map_03370fc5c66f256379235e7baf904a67);\n",
       "        \n",
       "    \n",
       "            circle_marker_a87f94c3636a632b8122ccf564073ba6.bindTooltip(\n",
       "                `&lt;div&gt;\n",
       "                     [&#x27;장훈고등학교&#x27;]\n",
       "                 &lt;/div&gt;`,\n",
       "                {&quot;sticky&quot;: true}\n",
       "            );\n",
       "        \n",
       "    \n",
       "            var circle_marker_fe95391c38fdd28d476c30588264e66e = L.circleMarker(\n",
       "                [37.6612906377296, 127.080799772038],\n",
       "                {&quot;bubblingMouseEvents&quot;: true, &quot;color&quot;: &quot;green&quot;, &quot;dashArray&quot;: null, &quot;dashOffset&quot;: null, &quot;fill&quot;: true, &quot;fillColor&quot;: &quot;green&quot;, &quot;fillOpacity&quot;: 0.2, &quot;fillRule&quot;: &quot;evenodd&quot;, &quot;lineCap&quot;: &quot;round&quot;, &quot;lineJoin&quot;: &quot;round&quot;, &quot;opacity&quot;: 1.0, &quot;radius&quot;: 50, &quot;stroke&quot;: true, &quot;weight&quot;: 3}\n",
       "            ).addTo(map_03370fc5c66f256379235e7baf904a67);\n",
       "        \n",
       "    \n",
       "            circle_marker_fe95391c38fdd28d476c30588264e66e.bindTooltip(\n",
       "                `&lt;div&gt;\n",
       "                     [&#x27;재현고등학교&#x27;]\n",
       "                 &lt;/div&gt;`,\n",
       "                {&quot;sticky&quot;: true}\n",
       "            );\n",
       "        \n",
       "    \n",
       "            var circle_marker_bae0c6041452674d870c548f94dc7ccd = L.circleMarker(\n",
       "                [37.5094538398143, 127.073847329188],\n",
       "                {&quot;bubblingMouseEvents&quot;: true, &quot;color&quot;: &quot;green&quot;, &quot;dashArray&quot;: null, &quot;dashOffset&quot;: null, &quot;fill&quot;: true, &quot;fillColor&quot;: &quot;green&quot;, &quot;fillOpacity&quot;: 0.2, &quot;fillRule&quot;: &quot;evenodd&quot;, &quot;lineCap&quot;: &quot;round&quot;, &quot;lineJoin&quot;: &quot;round&quot;, &quot;opacity&quot;: 1.0, &quot;radius&quot;: 50, &quot;stroke&quot;: true, &quot;weight&quot;: 3}\n",
       "            ).addTo(map_03370fc5c66f256379235e7baf904a67);\n",
       "        \n",
       "    \n",
       "            circle_marker_bae0c6041452674d870c548f94dc7ccd.bindTooltip(\n",
       "                `&lt;div&gt;\n",
       "                     [&#x27;정신여자고등학교&#x27;]\n",
       "                 &lt;/div&gt;`,\n",
       "                {&quot;sticky&quot;: true}\n",
       "            );\n",
       "        \n",
       "    \n",
       "            var circle_marker_ae9f3bf2873e44bd06e06afe965c7f28 = L.circleMarker(\n",
       "                [37.586048641672, 127.041070321981],\n",
       "                {&quot;bubblingMouseEvents&quot;: true, &quot;color&quot;: &quot;green&quot;, &quot;dashArray&quot;: null, &quot;dashOffset&quot;: null, &quot;fill&quot;: true, &quot;fillColor&quot;: &quot;green&quot;, &quot;fillOpacity&quot;: 0.2, &quot;fillRule&quot;: &quot;evenodd&quot;, &quot;lineCap&quot;: &quot;round&quot;, &quot;lineJoin&quot;: &quot;round&quot;, &quot;opacity&quot;: 1.0, &quot;radius&quot;: 50, &quot;stroke&quot;: true, &quot;weight&quot;: 3}\n",
       "            ).addTo(map_03370fc5c66f256379235e7baf904a67);\n",
       "        \n",
       "    \n",
       "            circle_marker_ae9f3bf2873e44bd06e06afe965c7f28.bindTooltip(\n",
       "                `&lt;div&gt;\n",
       "                     [&#x27;정화여자상업고등학교&#x27;]\n",
       "                 &lt;/div&gt;`,\n",
       "                {&quot;sticky&quot;: true}\n",
       "            );\n",
       "        \n",
       "    \n",
       "            var circle_marker_849cb73671ed4c31e691234bd5144b31 = L.circleMarker(\n",
       "                [37.5631767195176, 126.954059321222],\n",
       "                {&quot;bubblingMouseEvents&quot;: true, &quot;color&quot;: &quot;green&quot;, &quot;dashArray&quot;: null, &quot;dashOffset&quot;: null, &quot;fill&quot;: true, &quot;fillColor&quot;: &quot;green&quot;, &quot;fillOpacity&quot;: 0.2, &quot;fillRule&quot;: &quot;evenodd&quot;, &quot;lineCap&quot;: &quot;round&quot;, &quot;lineJoin&quot;: &quot;round&quot;, &quot;opacity&quot;: 1.0, &quot;radius&quot;: 50, &quot;stroke&quot;: true, &quot;weight&quot;: 3}\n",
       "            ).addTo(map_03370fc5c66f256379235e7baf904a67);\n",
       "        \n",
       "    \n",
       "            circle_marker_849cb73671ed4c31e691234bd5144b31.bindTooltip(\n",
       "                `&lt;div&gt;\n",
       "                     [&#x27;중앙여자고등학교&#x27;]\n",
       "                 &lt;/div&gt;`,\n",
       "                {&quot;sticky&quot;: true}\n",
       "            );\n",
       "        \n",
       "    \n",
       "            var circle_marker_4c7115d6a1269779ba6d0999d1399a65 = L.circleMarker(\n",
       "                [37.6048146052263, 127.083654104942],\n",
       "                {&quot;bubblingMouseEvents&quot;: true, &quot;color&quot;: &quot;green&quot;, &quot;dashArray&quot;: null, &quot;dashOffset&quot;: null, &quot;fill&quot;: true, &quot;fillColor&quot;: &quot;green&quot;, &quot;fillOpacity&quot;: 0.2, &quot;fillRule&quot;: &quot;evenodd&quot;, &quot;lineCap&quot;: &quot;round&quot;, &quot;lineJoin&quot;: &quot;round&quot;, &quot;opacity&quot;: 1.0, &quot;radius&quot;: 50, &quot;stroke&quot;: true, &quot;weight&quot;: 3}\n",
       "            ).addTo(map_03370fc5c66f256379235e7baf904a67);\n",
       "        \n",
       "    \n",
       "            circle_marker_4c7115d6a1269779ba6d0999d1399a65.bindTooltip(\n",
       "                `&lt;div&gt;\n",
       "                     [&#x27;중화고등학교&#x27;]\n",
       "                 &lt;/div&gt;`,\n",
       "                {&quot;sticky&quot;: true}\n",
       "            );\n",
       "        \n",
       "    \n",
       "            var circle_marker_4dbe45623548ce195f985eecd0ce7f67 = L.circleMarker(\n",
       "                [37.5279473627751, 127.043866627763],\n",
       "                {&quot;bubblingMouseEvents&quot;: true, &quot;color&quot;: &quot;green&quot;, &quot;dashArray&quot;: null, &quot;dashOffset&quot;: null, &quot;fill&quot;: true, &quot;fillColor&quot;: &quot;green&quot;, &quot;fillOpacity&quot;: 0.2, &quot;fillRule&quot;: &quot;evenodd&quot;, &quot;lineCap&quot;: &quot;round&quot;, &quot;lineJoin&quot;: &quot;round&quot;, &quot;opacity&quot;: 1.0, &quot;radius&quot;: 50, &quot;stroke&quot;: true, &quot;weight&quot;: 3}\n",
       "            ).addTo(map_03370fc5c66f256379235e7baf904a67);\n",
       "        \n",
       "    \n",
       "            circle_marker_4dbe45623548ce195f985eecd0ce7f67.bindTooltip(\n",
       "                `&lt;div&gt;\n",
       "                     [&#x27;청담고등학교&#x27;]\n",
       "                 &lt;/div&gt;`,\n",
       "                {&quot;sticky&quot;: true}\n",
       "            );\n",
       "        \n",
       "    \n",
       "            var circle_marker_fc854965f72fe50ea23c6564611c3c12 = L.circleMarker(\n",
       "                [37.5888860047887, 127.051310950177],\n",
       "                {&quot;bubblingMouseEvents&quot;: true, &quot;color&quot;: &quot;green&quot;, &quot;dashArray&quot;: null, &quot;dashOffset&quot;: null, &quot;fill&quot;: true, &quot;fillColor&quot;: &quot;green&quot;, &quot;fillOpacity&quot;: 0.2, &quot;fillRule&quot;: &quot;evenodd&quot;, &quot;lineCap&quot;: &quot;round&quot;, &quot;lineJoin&quot;: &quot;round&quot;, &quot;opacity&quot;: 1.0, &quot;radius&quot;: 50, &quot;stroke&quot;: true, &quot;weight&quot;: 3}\n",
       "            ).addTo(map_03370fc5c66f256379235e7baf904a67);\n",
       "        \n",
       "    \n",
       "            circle_marker_fc854965f72fe50ea23c6564611c3c12.bindTooltip(\n",
       "                `&lt;div&gt;\n",
       "                     [&#x27;청량고등학교&#x27;]\n",
       "                 &lt;/div&gt;`,\n",
       "                {&quot;sticky&quot;: true}\n",
       "            );\n",
       "        \n",
       "    \n",
       "            var circle_marker_0d61e33a096eaacc7331c6911682332b = L.circleMarker(\n",
       "                [37.5818725994505, 127.056976879173],\n",
       "                {&quot;bubblingMouseEvents&quot;: true, &quot;color&quot;: &quot;green&quot;, &quot;dashArray&quot;: null, &quot;dashOffset&quot;: null, &quot;fill&quot;: true, &quot;fillColor&quot;: &quot;green&quot;, &quot;fillOpacity&quot;: 0.2, &quot;fillRule&quot;: &quot;evenodd&quot;, &quot;lineCap&quot;: &quot;round&quot;, &quot;lineJoin&quot;: &quot;round&quot;, &quot;opacity&quot;: 1.0, &quot;radius&quot;: 50, &quot;stroke&quot;: true, &quot;weight&quot;: 3}\n",
       "            ).addTo(map_03370fc5c66f256379235e7baf904a67);\n",
       "        \n",
       "    \n",
       "            circle_marker_0d61e33a096eaacc7331c6911682332b.bindTooltip(\n",
       "                `&lt;div&gt;\n",
       "                     [&#x27;해성여자고등학교&#x27;]\n",
       "                 &lt;/div&gt;`,\n",
       "                {&quot;sticky&quot;: true}\n",
       "            );\n",
       "        \n",
       "    \n",
       "            var circle_marker_d9c8386a8efde9b2210894404151e5c9 = L.circleMarker(\n",
       "                [37.5537559309443, 126.962588449936],\n",
       "                {&quot;bubblingMouseEvents&quot;: true, &quot;color&quot;: &quot;green&quot;, &quot;dashArray&quot;: null, &quot;dashOffset&quot;: null, &quot;fill&quot;: true, &quot;fillColor&quot;: &quot;green&quot;, &quot;fillOpacity&quot;: 0.2, &quot;fillRule&quot;: &quot;evenodd&quot;, &quot;lineCap&quot;: &quot;round&quot;, &quot;lineJoin&quot;: &quot;round&quot;, &quot;opacity&quot;: 1.0, &quot;radius&quot;: 50, &quot;stroke&quot;: true, &quot;weight&quot;: 3}\n",
       "            ).addTo(map_03370fc5c66f256379235e7baf904a67);\n",
       "        \n",
       "    \n",
       "            circle_marker_d9c8386a8efde9b2210894404151e5c9.bindTooltip(\n",
       "                `&lt;div&gt;\n",
       "                     [&#x27;환일고등학교&#x27;]\n",
       "                 &lt;/div&gt;`,\n",
       "                {&quot;sticky&quot;: true}\n",
       "            );\n",
       "        \n",
       "    \n",
       "            var circle_marker_67ee73f518142e33352c9a79c890222c = L.circleMarker(\n",
       "                [37.585153012865, 127.069450940954],\n",
       "                {&quot;bubblingMouseEvents&quot;: true, &quot;color&quot;: &quot;green&quot;, &quot;dashArray&quot;: null, &quot;dashOffset&quot;: null, &quot;fill&quot;: true, &quot;fillColor&quot;: &quot;green&quot;, &quot;fillOpacity&quot;: 0.2, &quot;fillRule&quot;: &quot;evenodd&quot;, &quot;lineCap&quot;: &quot;round&quot;, &quot;lineJoin&quot;: &quot;round&quot;, &quot;opacity&quot;: 1.0, &quot;radius&quot;: 50, &quot;stroke&quot;: true, &quot;weight&quot;: 3}\n",
       "            ).addTo(map_03370fc5c66f256379235e7baf904a67);\n",
       "        \n",
       "    \n",
       "            circle_marker_67ee73f518142e33352c9a79c890222c.bindTooltip(\n",
       "                `&lt;div&gt;\n",
       "                     [&#x27;휘경공업고등학교&#x27;]\n",
       "                 &lt;/div&gt;`,\n",
       "                {&quot;sticky&quot;: true}\n",
       "            );\n",
       "        \n",
       "    \n",
       "            var circle_marker_bee07197fb3a97bd07cc40f9520c6d2a = L.circleMarker(\n",
       "                [37.4849602867225, 127.059406502269],\n",
       "                {&quot;bubblingMouseEvents&quot;: true, &quot;color&quot;: &quot;blue&quot;, &quot;dashArray&quot;: null, &quot;dashOffset&quot;: null, &quot;fill&quot;: true, &quot;fillColor&quot;: &quot;blue&quot;, &quot;fillOpacity&quot;: 0.2, &quot;fillRule&quot;: &quot;evenodd&quot;, &quot;lineCap&quot;: &quot;round&quot;, &quot;lineJoin&quot;: &quot;round&quot;, &quot;opacity&quot;: 1.0, &quot;radius&quot;: 50, &quot;stroke&quot;: true, &quot;weight&quot;: 3}\n",
       "            ).addTo(map_03370fc5c66f256379235e7baf904a67);\n",
       "        \n",
       "    \n",
       "            circle_marker_bee07197fb3a97bd07cc40f9520c6d2a.bindTooltip(\n",
       "                `&lt;div&gt;\n",
       "                     [&#x27;개포고등학교&#x27;]\n",
       "                 &lt;/div&gt;`,\n",
       "                {&quot;sticky&quot;: true}\n",
       "            );\n",
       "        \n",
       "    \n",
       "            var circle_marker_19fd6471d336f60145fa36ca80464270 = L.circleMarker(\n",
       "                [37.539182674872, 127.074711902268],\n",
       "                {&quot;bubblingMouseEvents&quot;: true, &quot;color&quot;: &quot;blue&quot;, &quot;dashArray&quot;: null, &quot;dashOffset&quot;: null, &quot;fill&quot;: true, &quot;fillColor&quot;: &quot;blue&quot;, &quot;fillOpacity&quot;: 0.2, &quot;fillRule&quot;: &quot;evenodd&quot;, &quot;lineCap&quot;: &quot;round&quot;, &quot;lineJoin&quot;: &quot;round&quot;, &quot;opacity&quot;: 1.0, &quot;radius&quot;: 50, &quot;stroke&quot;: true, &quot;weight&quot;: 3}\n",
       "            ).addTo(map_03370fc5c66f256379235e7baf904a67);\n",
       "        \n",
       "    \n",
       "            circle_marker_19fd6471d336f60145fa36ca80464270.bindTooltip(\n",
       "                `&lt;div&gt;\n",
       "                     [&#x27;건국대학교사범대학부속고등학교&#x27;]\n",
       "                 &lt;/div&gt;`,\n",
       "                {&quot;sticky&quot;: true}\n",
       "            );\n",
       "        \n",
       "    \n",
       "            var circle_marker_7ee9093a0938e05ccec6b9583db59a53 = L.circleMarker(\n",
       "                [37.517564539911, 127.056075505663],\n",
       "                {&quot;bubblingMouseEvents&quot;: true, &quot;color&quot;: &quot;blue&quot;, &quot;dashArray&quot;: null, &quot;dashOffset&quot;: null, &quot;fill&quot;: true, &quot;fillColor&quot;: &quot;blue&quot;, &quot;fillOpacity&quot;: 0.2, &quot;fillRule&quot;: &quot;evenodd&quot;, &quot;lineCap&quot;: &quot;round&quot;, &quot;lineJoin&quot;: &quot;round&quot;, &quot;opacity&quot;: 1.0, &quot;radius&quot;: 50, &quot;stroke&quot;: true, &quot;weight&quot;: 3}\n",
       "            ).addTo(map_03370fc5c66f256379235e7baf904a67);\n",
       "        \n",
       "    \n",
       "            circle_marker_7ee9093a0938e05ccec6b9583db59a53.bindTooltip(\n",
       "                `&lt;div&gt;\n",
       "                     [&#x27;경기고등학교&#x27;]\n",
       "                 &lt;/div&gt;`,\n",
       "                {&quot;sticky&quot;: true}\n",
       "            );\n",
       "        \n",
       "    \n",
       "            var circle_marker_fe334ac1d4177e4cb893e6b6158fc31a = L.circleMarker(\n",
       "                [37.4869571488922, 127.066101597746],\n",
       "                {&quot;bubblingMouseEvents&quot;: true, &quot;color&quot;: &quot;blue&quot;, &quot;dashArray&quot;: null, &quot;dashOffset&quot;: null, &quot;fill&quot;: true, &quot;fillColor&quot;: &quot;blue&quot;, &quot;fillOpacity&quot;: 0.2, &quot;fillRule&quot;: &quot;evenodd&quot;, &quot;lineCap&quot;: &quot;round&quot;, &quot;lineJoin&quot;: &quot;round&quot;, &quot;opacity&quot;: 1.0, &quot;radius&quot;: 50, &quot;stroke&quot;: true, &quot;weight&quot;: 3}\n",
       "            ).addTo(map_03370fc5c66f256379235e7baf904a67);\n",
       "        \n",
       "    \n",
       "            circle_marker_fe334ac1d4177e4cb893e6b6158fc31a.bindTooltip(\n",
       "                `&lt;div&gt;\n",
       "                     [&#x27;경기여자고등학교&#x27;]\n",
       "                 &lt;/div&gt;`,\n",
       "                {&quot;sticky&quot;: true}\n",
       "            );\n",
       "        \n",
       "    \n",
       "            var circle_marker_9410098346715d310feee3d3b04626e7 = L.circleMarker(\n",
       "                [37.585945671102, 126.971510913077],\n",
       "                {&quot;bubblingMouseEvents&quot;: true, &quot;color&quot;: &quot;blue&quot;, &quot;dashArray&quot;: null, &quot;dashOffset&quot;: null, &quot;fill&quot;: true, &quot;fillColor&quot;: &quot;blue&quot;, &quot;fillOpacity&quot;: 0.2, &quot;fillRule&quot;: &quot;evenodd&quot;, &quot;lineCap&quot;: &quot;round&quot;, &quot;lineJoin&quot;: &quot;round&quot;, &quot;opacity&quot;: 1.0, &quot;radius&quot;: 50, &quot;stroke&quot;: true, &quot;weight&quot;: 3}\n",
       "            ).addTo(map_03370fc5c66f256379235e7baf904a67);\n",
       "        \n",
       "    \n",
       "            circle_marker_9410098346715d310feee3d3b04626e7.bindTooltip(\n",
       "                `&lt;div&gt;\n",
       "                     [&#x27;경복고등학교&#x27;]\n",
       "                 &lt;/div&gt;`,\n",
       "                {&quot;sticky&quot;: true}\n",
       "            );\n",
       "        \n",
       "    \n",
       "            var circle_marker_5fb447171db573711c93cc60b8ffc3a0 = L.circleMarker(\n",
       "                [37.5922022663657, 126.999531005507],\n",
       "                {&quot;bubblingMouseEvents&quot;: true, &quot;color&quot;: &quot;blue&quot;, &quot;dashArray&quot;: null, &quot;dashOffset&quot;: null, &quot;fill&quot;: true, &quot;fillColor&quot;: &quot;blue&quot;, &quot;fillOpacity&quot;: 0.2, &quot;fillRule&quot;: &quot;evenodd&quot;, &quot;lineCap&quot;: &quot;round&quot;, &quot;lineJoin&quot;: &quot;round&quot;, &quot;opacity&quot;: 1.0, &quot;radius&quot;: 50, &quot;stroke&quot;: true, &quot;weight&quot;: 3}\n",
       "            ).addTo(map_03370fc5c66f256379235e7baf904a67);\n",
       "        \n",
       "    \n",
       "            circle_marker_5fb447171db573711c93cc60b8ffc3a0.bindTooltip(\n",
       "                `&lt;div&gt;\n",
       "                     [&#x27;경신고등학교&#x27;]\n",
       "                 &lt;/div&gt;`,\n",
       "                {&quot;sticky&quot;: true}\n",
       "            );\n",
       "        \n",
       "    \n",
       "            var circle_marker_2ec7407d1e318401aefa4206797c42c9 = L.circleMarker(\n",
       "                [37.5438298177401, 127.047868294458],\n",
       "                {&quot;bubblingMouseEvents&quot;: true, &quot;color&quot;: &quot;blue&quot;, &quot;dashArray&quot;: null, &quot;dashOffset&quot;: null, &quot;fill&quot;: true, &quot;fillColor&quot;: &quot;blue&quot;, &quot;fillOpacity&quot;: 0.2, &quot;fillRule&quot;: &quot;evenodd&quot;, &quot;lineCap&quot;: &quot;round&quot;, &quot;lineJoin&quot;: &quot;round&quot;, &quot;opacity&quot;: 1.0, &quot;radius&quot;: 50, &quot;stroke&quot;: true, &quot;weight&quot;: 3}\n",
       "            ).addTo(map_03370fc5c66f256379235e7baf904a67);\n",
       "        \n",
       "    \n",
       "            circle_marker_2ec7407d1e318401aefa4206797c42c9.bindTooltip(\n",
       "                `&lt;div&gt;\n",
       "                     [&#x27;경일고등학교&#x27;]\n",
       "                 &lt;/div&gt;`,\n",
       "                {&quot;sticky&quot;: true}\n",
       "            );\n",
       "        \n",
       "    \n",
       "            var circle_marker_4483a4fb0d33637ee0499593c0301818 = L.circleMarker(\n",
       "                [37.5976746822279, 127.019186925653],\n",
       "                {&quot;bubblingMouseEvents&quot;: true, &quot;color&quot;: &quot;blue&quot;, &quot;dashArray&quot;: null, &quot;dashOffset&quot;: null, &quot;fill&quot;: true, &quot;fillColor&quot;: &quot;blue&quot;, &quot;fillOpacity&quot;: 0.2, &quot;fillRule&quot;: &quot;evenodd&quot;, &quot;lineCap&quot;: &quot;round&quot;, &quot;lineJoin&quot;: &quot;round&quot;, &quot;opacity&quot;: 1.0, &quot;radius&quot;: 50, &quot;stroke&quot;: true, &quot;weight&quot;: 3}\n",
       "            ).addTo(map_03370fc5c66f256379235e7baf904a67);\n",
       "        \n",
       "    \n",
       "            circle_marker_4483a4fb0d33637ee0499593c0301818.bindTooltip(\n",
       "                `&lt;div&gt;\n",
       "                     [&#x27;고명외식고등학교&#x27;]\n",
       "                 &lt;/div&gt;`,\n",
       "                {&quot;sticky&quot;: true}\n",
       "            );\n",
       "        \n",
       "    \n",
       "            var circle_marker_eb8a80df720844fcb9d3def43b8d2b9b = L.circleMarker(\n",
       "                [37.541514723184, 127.101213923003],\n",
       "                {&quot;bubblingMouseEvents&quot;: true, &quot;color&quot;: &quot;blue&quot;, &quot;dashArray&quot;: null, &quot;dashOffset&quot;: null, &quot;fill&quot;: true, &quot;fillColor&quot;: &quot;blue&quot;, &quot;fillOpacity&quot;: 0.2, &quot;fillRule&quot;: &quot;evenodd&quot;, &quot;lineCap&quot;: &quot;round&quot;, &quot;lineJoin&quot;: &quot;round&quot;, &quot;opacity&quot;: 1.0, &quot;radius&quot;: 50, &quot;stroke&quot;: true, &quot;weight&quot;: 3}\n",
       "            ).addTo(map_03370fc5c66f256379235e7baf904a67);\n",
       "        \n",
       "    \n",
       "            circle_marker_eb8a80df720844fcb9d3def43b8d2b9b.bindTooltip(\n",
       "                `&lt;div&gt;\n",
       "                     [&#x27;광남고등학교&#x27;]\n",
       "                 &lt;/div&gt;`,\n",
       "                {&quot;sticky&quot;: true}\n",
       "            );\n",
       "        \n",
       "    \n",
       "            var circle_marker_255ed6761d770fe2d5020c9455d1bf49 = L.circleMarker(\n",
       "                [37.4762397420077, 127.051213825746],\n",
       "                {&quot;bubblingMouseEvents&quot;: true, &quot;color&quot;: &quot;blue&quot;, &quot;dashArray&quot;: null, &quot;dashOffset&quot;: null, &quot;fill&quot;: true, &quot;fillColor&quot;: &quot;blue&quot;, &quot;fillOpacity&quot;: 0.2, &quot;fillRule&quot;: &quot;evenodd&quot;, &quot;lineCap&quot;: &quot;round&quot;, &quot;lineJoin&quot;: &quot;round&quot;, &quot;opacity&quot;: 1.0, &quot;radius&quot;: 50, &quot;stroke&quot;: true, &quot;weight&quot;: 3}\n",
       "            ).addTo(map_03370fc5c66f256379235e7baf904a67);\n",
       "        \n",
       "    \n",
       "            circle_marker_255ed6761d770fe2d5020c9455d1bf49.bindTooltip(\n",
       "                `&lt;div&gt;\n",
       "                     [&#x27;국립국악고등학교&#x27;]\n",
       "                 &lt;/div&gt;`,\n",
       "                {&quot;sticky&quot;: true}\n",
       "            );\n",
       "        \n",
       "    \n",
       "            var circle_marker_b0e664bf3b15b4a55835222a8ed9fc04 = L.circleMarker(\n",
       "                [37.5536214995345, 127.023433782844],\n",
       "                {&quot;bubblingMouseEvents&quot;: true, &quot;color&quot;: &quot;blue&quot;, &quot;dashArray&quot;: null, &quot;dashOffset&quot;: null, &quot;fill&quot;: true, &quot;fillColor&quot;: &quot;blue&quot;, &quot;fillOpacity&quot;: 0.2, &quot;fillRule&quot;: &quot;evenodd&quot;, &quot;lineCap&quot;: &quot;round&quot;, &quot;lineJoin&quot;: &quot;round&quot;, &quot;opacity&quot;: 1.0, &quot;radius&quot;: 50, &quot;stroke&quot;: true, &quot;weight&quot;: 3}\n",
       "            ).addTo(map_03370fc5c66f256379235e7baf904a67);\n",
       "        \n",
       "    \n",
       "            circle_marker_b0e664bf3b15b4a55835222a8ed9fc04.bindTooltip(\n",
       "                `&lt;div&gt;\n",
       "                     [&#x27;금호고등학교&#x27;]\n",
       "                 &lt;/div&gt;`,\n",
       "                {&quot;sticky&quot;: true}\n",
       "            );\n",
       "        \n",
       "    \n",
       "            var circle_marker_68bfbd7569a0d1ee796acd60e7971ec9 = L.circleMarker(\n",
       "                [37.4956174948977, 127.057768228297],\n",
       "                {&quot;bubblingMouseEvents&quot;: true, &quot;color&quot;: &quot;blue&quot;, &quot;dashArray&quot;: null, &quot;dashOffset&quot;: null, &quot;fill&quot;: true, &quot;fillColor&quot;: &quot;blue&quot;, &quot;fillOpacity&quot;: 0.2, &quot;fillRule&quot;: &quot;evenodd&quot;, &quot;lineCap&quot;: &quot;round&quot;, &quot;lineJoin&quot;: &quot;round&quot;, &quot;opacity&quot;: 1.0, &quot;radius&quot;: 50, &quot;stroke&quot;: true, &quot;weight&quot;: 3}\n",
       "            ).addTo(map_03370fc5c66f256379235e7baf904a67);\n",
       "        \n",
       "    \n",
       "            circle_marker_68bfbd7569a0d1ee796acd60e7971ec9.bindTooltip(\n",
       "                `&lt;div&gt;\n",
       "                     [&#x27;단국대학교부속소프트웨어고등학교&#x27;]\n",
       "                 &lt;/div&gt;`,\n",
       "                {&quot;sticky&quot;: true}\n",
       "            );\n",
       "        \n",
       "    \n",
       "            var circle_marker_7430cea71e2186927578d433f3fac20d = L.circleMarker(\n",
       "                [37.4956174948977, 127.057768228297],\n",
       "                {&quot;bubblingMouseEvents&quot;: true, &quot;color&quot;: &quot;blue&quot;, &quot;dashArray&quot;: null, &quot;dashOffset&quot;: null, &quot;fill&quot;: true, &quot;fillColor&quot;: &quot;blue&quot;, &quot;fillOpacity&quot;: 0.2, &quot;fillRule&quot;: &quot;evenodd&quot;, &quot;lineCap&quot;: &quot;round&quot;, &quot;lineJoin&quot;: &quot;round&quot;, &quot;opacity&quot;: 1.0, &quot;radius&quot;: 50, &quot;stroke&quot;: true, &quot;weight&quot;: 3}\n",
       "            ).addTo(map_03370fc5c66f256379235e7baf904a67);\n",
       "        \n",
       "    \n",
       "            circle_marker_7430cea71e2186927578d433f3fac20d.bindTooltip(\n",
       "                `&lt;div&gt;\n",
       "                     [&#x27;단국대학교사범대학부속고등학교&#x27;]\n",
       "                 &lt;/div&gt;`,\n",
       "                {&quot;sticky&quot;: true}\n",
       "            );\n",
       "        \n",
       "    \n",
       "            var circle_marker_a6d1bb95ec78d5762acbbe342ee1bd89 = L.circleMarker(\n",
       "                [37.5563732600255, 127.016979156363],\n",
       "                {&quot;bubblingMouseEvents&quot;: true, &quot;color&quot;: &quot;blue&quot;, &quot;dashArray&quot;: null, &quot;dashOffset&quot;: null, &quot;fill&quot;: true, &quot;fillColor&quot;: &quot;blue&quot;, &quot;fillOpacity&quot;: 0.2, &quot;fillRule&quot;: &quot;evenodd&quot;, &quot;lineCap&quot;: &quot;round&quot;, &quot;lineJoin&quot;: &quot;round&quot;, &quot;opacity&quot;: 1.0, &quot;radius&quot;: 50, &quot;stroke&quot;: true, &quot;weight&quot;: 3}\n",
       "            ).addTo(map_03370fc5c66f256379235e7baf904a67);\n",
       "        \n",
       "    \n",
       "            circle_marker_a6d1bb95ec78d5762acbbe342ee1bd89.bindTooltip(\n",
       "                `&lt;div&gt;\n",
       "                     [&#x27;대경생활과학고등학교&#x27;]\n",
       "                 &lt;/div&gt;`,\n",
       "                {&quot;sticky&quot;: true}\n",
       "            );\n",
       "        \n",
       "    \n",
       "            var circle_marker_0c2c0f38b04007b19b17574eb699267a = L.circleMarker(\n",
       "                [37.4904281491372, 127.095979339516],\n",
       "                {&quot;bubblingMouseEvents&quot;: true, &quot;color&quot;: &quot;blue&quot;, &quot;dashArray&quot;: null, &quot;dashOffset&quot;: null, &quot;fill&quot;: true, &quot;fillColor&quot;: &quot;blue&quot;, &quot;fillOpacity&quot;: 0.2, &quot;fillRule&quot;: &quot;evenodd&quot;, &quot;lineCap&quot;: &quot;round&quot;, &quot;lineJoin&quot;: &quot;round&quot;, &quot;opacity&quot;: 1.0, &quot;radius&quot;: 50, &quot;stroke&quot;: true, &quot;weight&quot;: 3}\n",
       "            ).addTo(map_03370fc5c66f256379235e7baf904a67);\n",
       "        \n",
       "    \n",
       "            circle_marker_0c2c0f38b04007b19b17574eb699267a.bindTooltip(\n",
       "                `&lt;div&gt;\n",
       "                     [&#x27;대진디자인고등학교&#x27;]\n",
       "                 &lt;/div&gt;`,\n",
       "                {&quot;sticky&quot;: true}\n",
       "            );\n",
       "        \n",
       "    \n",
       "            var circle_marker_1c8e73bcd3ffa02a16191064cdd9c778 = L.circleMarker(\n",
       "                [37.5668439494, 127.026995731182],\n",
       "                {&quot;bubblingMouseEvents&quot;: true, &quot;color&quot;: &quot;blue&quot;, &quot;dashArray&quot;: null, &quot;dashOffset&quot;: null, &quot;fill&quot;: true, &quot;fillColor&quot;: &quot;blue&quot;, &quot;fillOpacity&quot;: 0.2, &quot;fillRule&quot;: &quot;evenodd&quot;, &quot;lineCap&quot;: &quot;round&quot;, &quot;lineJoin&quot;: &quot;round&quot;, &quot;opacity&quot;: 1.0, &quot;radius&quot;: 50, &quot;stroke&quot;: true, &quot;weight&quot;: 3}\n",
       "            ).addTo(map_03370fc5c66f256379235e7baf904a67);\n",
       "        \n",
       "    \n",
       "            circle_marker_1c8e73bcd3ffa02a16191064cdd9c778.bindTooltip(\n",
       "                `&lt;div&gt;\n",
       "                     [&#x27;도선고등학교&#x27;]\n",
       "                 &lt;/div&gt;`,\n",
       "                {&quot;sticky&quot;: true}\n",
       "            );\n",
       "        \n",
       "    \n",
       "            var circle_marker_c880a67baed23b92aa1e3a950285ce4f = L.circleMarker(\n",
       "                [37.5849699592551, 127.003097645534],\n",
       "                {&quot;bubblingMouseEvents&quot;: true, &quot;color&quot;: &quot;blue&quot;, &quot;dashArray&quot;: null, &quot;dashOffset&quot;: null, &quot;fill&quot;: true, &quot;fillColor&quot;: &quot;blue&quot;, &quot;fillOpacity&quot;: 0.2, &quot;fillRule&quot;: &quot;evenodd&quot;, &quot;lineCap&quot;: &quot;round&quot;, &quot;lineJoin&quot;: &quot;round&quot;, &quot;opacity&quot;: 1.0, &quot;radius&quot;: 50, &quot;stroke&quot;: true, &quot;weight&quot;: 3}\n",
       "            ).addTo(map_03370fc5c66f256379235e7baf904a67);\n",
       "        \n",
       "    \n",
       "            circle_marker_c880a67baed23b92aa1e3a950285ce4f.bindTooltip(\n",
       "                `&lt;div&gt;\n",
       "                     [&#x27;동성고등학교&#x27;]\n",
       "                 &lt;/div&gt;`,\n",
       "                {&quot;sticky&quot;: true}\n",
       "            );\n",
       "        \n",
       "    \n",
       "            var circle_marker_958d4f836cdb32edda130ff780bd1be7 = L.circleMarker(\n",
       "                [37.5849113531243, 126.927090249447],\n",
       "                {&quot;bubblingMouseEvents&quot;: true, &quot;color&quot;: &quot;blue&quot;, &quot;dashArray&quot;: null, &quot;dashOffset&quot;: null, &quot;fill&quot;: true, &quot;fillColor&quot;: &quot;blue&quot;, &quot;fillOpacity&quot;: 0.2, &quot;fillRule&quot;: &quot;evenodd&quot;, &quot;lineCap&quot;: &quot;round&quot;, &quot;lineJoin&quot;: &quot;round&quot;, &quot;opacity&quot;: 1.0, &quot;radius&quot;: 50, &quot;stroke&quot;: true, &quot;weight&quot;: 3}\n",
       "            ).addTo(map_03370fc5c66f256379235e7baf904a67);\n",
       "        \n",
       "    \n",
       "            circle_marker_958d4f836cdb32edda130ff780bd1be7.bindTooltip(\n",
       "                `&lt;div&gt;\n",
       "                     [&#x27;명지고등학교&#x27;]\n",
       "                 &lt;/div&gt;`,\n",
       "                {&quot;sticky&quot;: true}\n",
       "            );\n",
       "        \n",
       "    \n",
       "            var circle_marker_abf4b9be3aa6c14fe8f9f64afc385541 = L.circleMarker(\n",
       "                [37.5576263308862, 127.033880902274],\n",
       "                {&quot;bubblingMouseEvents&quot;: true, &quot;color&quot;: &quot;blue&quot;, &quot;dashArray&quot;: null, &quot;dashOffset&quot;: null, &quot;fill&quot;: true, &quot;fillColor&quot;: &quot;blue&quot;, &quot;fillOpacity&quot;: 0.2, &quot;fillRule&quot;: &quot;evenodd&quot;, &quot;lineCap&quot;: &quot;round&quot;, &quot;lineJoin&quot;: &quot;round&quot;, &quot;opacity&quot;: 1.0, &quot;radius&quot;: 50, &quot;stroke&quot;: true, &quot;weight&quot;: 3}\n",
       "            ).addTo(map_03370fc5c66f256379235e7baf904a67);\n",
       "        \n",
       "    \n",
       "            circle_marker_abf4b9be3aa6c14fe8f9f64afc385541.bindTooltip(\n",
       "                `&lt;div&gt;\n",
       "                     [&#x27;무학여자고등학교&#x27;]\n",
       "                 &lt;/div&gt;`,\n",
       "                {&quot;sticky&quot;: true}\n",
       "            );\n",
       "        \n",
       "    \n",
       "            var circle_marker_9994fb4cc6543902cf354df17b15bb1c = L.circleMarker(\n",
       "                [37.5795440101952, 126.967291871532],\n",
       "                {&quot;bubblingMouseEvents&quot;: true, &quot;color&quot;: &quot;blue&quot;, &quot;dashArray&quot;: null, &quot;dashOffset&quot;: null, &quot;fill&quot;: true, &quot;fillColor&quot;: &quot;blue&quot;, &quot;fillOpacity&quot;: 0.2, &quot;fillRule&quot;: &quot;evenodd&quot;, &quot;lineCap&quot;: &quot;round&quot;, &quot;lineJoin&quot;: &quot;round&quot;, &quot;opacity&quot;: 1.0, &quot;radius&quot;: 50, &quot;stroke&quot;: true, &quot;weight&quot;: 3}\n",
       "            ).addTo(map_03370fc5c66f256379235e7baf904a67);\n",
       "        \n",
       "    \n",
       "            circle_marker_9994fb4cc6543902cf354df17b15bb1c.bindTooltip(\n",
       "                `&lt;div&gt;\n",
       "                     [&#x27;배화여자고등학교&#x27;]\n",
       "                 &lt;/div&gt;`,\n",
       "                {&quot;sticky&quot;: true}\n",
       "            );\n",
       "        \n",
       "    \n",
       "            var circle_marker_f9d64e37cef55bf4018612a326069237 = L.circleMarker(\n",
       "                [37.5813414106022, 126.883394497343],\n",
       "                {&quot;bubblingMouseEvents&quot;: true, &quot;color&quot;: &quot;blue&quot;, &quot;dashArray&quot;: null, &quot;dashOffset&quot;: null, &quot;fill&quot;: true, &quot;fillColor&quot;: &quot;blue&quot;, &quot;fillOpacity&quot;: 0.2, &quot;fillRule&quot;: &quot;evenodd&quot;, &quot;lineCap&quot;: &quot;round&quot;, &quot;lineJoin&quot;: &quot;round&quot;, &quot;opacity&quot;: 1.0, &quot;radius&quot;: 50, &quot;stroke&quot;: true, &quot;weight&quot;: 3}\n",
       "            ).addTo(map_03370fc5c66f256379235e7baf904a67);\n",
       "        \n",
       "    \n",
       "            circle_marker_f9d64e37cef55bf4018612a326069237.bindTooltip(\n",
       "                `&lt;div&gt;\n",
       "                     [&#x27;상암고등학교&#x27;]\n",
       "                 &lt;/div&gt;`,\n",
       "                {&quot;sticky&quot;: true}\n",
       "            );\n",
       "        \n",
       "    \n",
       "            var circle_marker_a18dc616e2f5a2e289b6c726499b831d = L.circleMarker(\n",
       "                [37.4842930566875, 127.004901860862],\n",
       "                {&quot;bubblingMouseEvents&quot;: true, &quot;color&quot;: &quot;blue&quot;, &quot;dashArray&quot;: null, &quot;dashOffset&quot;: null, &quot;fill&quot;: true, &quot;fillColor&quot;: &quot;blue&quot;, &quot;fillOpacity&quot;: 0.2, &quot;fillRule&quot;: &quot;evenodd&quot;, &quot;lineCap&quot;: &quot;round&quot;, &quot;lineJoin&quot;: &quot;round&quot;, &quot;opacity&quot;: 1.0, &quot;radius&quot;: 50, &quot;stroke&quot;: true, &quot;weight&quot;: 3}\n",
       "            ).addTo(map_03370fc5c66f256379235e7baf904a67);\n",
       "        \n",
       "    \n",
       "            circle_marker_a18dc616e2f5a2e289b6c726499b831d.bindTooltip(\n",
       "                `&lt;div&gt;\n",
       "                     [&#x27;서울고등학교&#x27;]\n",
       "                 &lt;/div&gt;`,\n",
       "                {&quot;sticky&quot;: true}\n",
       "            );\n",
       "        \n",
       "    \n",
       "            var circle_marker_86d706a31f49a72c846e79ca89cee978 = L.circleMarker(\n",
       "                [37.5915480465968, 126.998436321282],\n",
       "                {&quot;bubblingMouseEvents&quot;: true, &quot;color&quot;: &quot;blue&quot;, &quot;dashArray&quot;: null, &quot;dashOffset&quot;: null, &quot;fill&quot;: true, &quot;fillColor&quot;: &quot;blue&quot;, &quot;fillOpacity&quot;: 0.2, &quot;fillRule&quot;: &quot;evenodd&quot;, &quot;lineCap&quot;: &quot;round&quot;, &quot;lineJoin&quot;: &quot;round&quot;, &quot;opacity&quot;: 1.0, &quot;radius&quot;: 50, &quot;stroke&quot;: true, &quot;weight&quot;: 3}\n",
       "            ).addTo(map_03370fc5c66f256379235e7baf904a67);\n",
       "        \n",
       "    \n",
       "            circle_marker_86d706a31f49a72c846e79ca89cee978.bindTooltip(\n",
       "                `&lt;div&gt;\n",
       "                     [&#x27;서울과학고등학교&#x27;]\n",
       "                 &lt;/div&gt;`,\n",
       "                {&quot;sticky&quot;: true}\n",
       "            );\n",
       "        \n",
       "    \n",
       "            var circle_marker_3032ef3c81d528ad9275aa98f5942f7b = L.circleMarker(\n",
       "                [37.5917911485864, 126.995490680124],\n",
       "                {&quot;bubblingMouseEvents&quot;: true, &quot;color&quot;: &quot;blue&quot;, &quot;dashArray&quot;: null, &quot;dashOffset&quot;: null, &quot;fill&quot;: true, &quot;fillColor&quot;: &quot;blue&quot;, &quot;fillOpacity&quot;: 0.2, &quot;fillRule&quot;: &quot;evenodd&quot;, &quot;lineCap&quot;: &quot;round&quot;, &quot;lineJoin&quot;: &quot;round&quot;, &quot;opacity&quot;: 1.0, &quot;radius&quot;: 50, &quot;stroke&quot;: true, &quot;weight&quot;: 3}\n",
       "            ).addTo(map_03370fc5c66f256379235e7baf904a67);\n",
       "        \n",
       "    \n",
       "            circle_marker_3032ef3c81d528ad9275aa98f5942f7b.bindTooltip(\n",
       "                `&lt;div&gt;\n",
       "                     [&#x27;서울국제고등학교&#x27;]\n",
       "                 &lt;/div&gt;`,\n",
       "                {&quot;sticky&quot;: true}\n",
       "            );\n",
       "        \n",
       "    \n",
       "            var circle_marker_9eb03f7bf90e9e50d989889275a05895 = L.circleMarker(\n",
       "                [37.480741415643, 127.084154946756],\n",
       "                {&quot;bubblingMouseEvents&quot;: true, &quot;color&quot;: &quot;blue&quot;, &quot;dashArray&quot;: null, &quot;dashOffset&quot;: null, &quot;fill&quot;: true, &quot;fillColor&quot;: &quot;blue&quot;, &quot;fillOpacity&quot;: 0.2, &quot;fillRule&quot;: &quot;evenodd&quot;, &quot;lineCap&quot;: &quot;round&quot;, &quot;lineJoin&quot;: &quot;round&quot;, &quot;opacity&quot;: 1.0, &quot;radius&quot;: 50, &quot;stroke&quot;: true, &quot;weight&quot;: 3}\n",
       "            ).addTo(map_03370fc5c66f256379235e7baf904a67);\n",
       "        \n",
       "    \n",
       "            circle_marker_9eb03f7bf90e9e50d989889275a05895.bindTooltip(\n",
       "                `&lt;div&gt;\n",
       "                     [&#x27;서울로봇고등학교&#x27;]\n",
       "                 &lt;/div&gt;`,\n",
       "                {&quot;sticky&quot;: true}\n",
       "            );\n",
       "        \n",
       "    \n",
       "            var circle_marker_118e30dfcc38fd8da1834efc99d11e6f = L.circleMarker(\n",
       "                [37.6057568225162, 126.967890699043],\n",
       "                {&quot;bubblingMouseEvents&quot;: true, &quot;color&quot;: &quot;blue&quot;, &quot;dashArray&quot;: null, &quot;dashOffset&quot;: null, &quot;fill&quot;: true, &quot;fillColor&quot;: &quot;blue&quot;, &quot;fillOpacity&quot;: 0.2, &quot;fillRule&quot;: &quot;evenodd&quot;, &quot;lineCap&quot;: &quot;round&quot;, &quot;lineJoin&quot;: &quot;round&quot;, &quot;opacity&quot;: 1.0, &quot;radius&quot;: 50, &quot;stroke&quot;: true, &quot;weight&quot;: 3}\n",
       "            ).addTo(map_03370fc5c66f256379235e7baf904a67);\n",
       "        \n",
       "    \n",
       "            circle_marker_118e30dfcc38fd8da1834efc99d11e6f.bindTooltip(\n",
       "                `&lt;div&gt;\n",
       "                     [&#x27;서울예술고등학교&#x27;]\n",
       "                 &lt;/div&gt;`,\n",
       "                {&quot;sticky&quot;: true}\n",
       "            );\n",
       "        \n",
       "    \n",
       "            var circle_marker_33ee798e34c6ab4a952e3bdd4bdbf9a4 = L.circleMarker(\n",
       "                [37.5572980883659, 126.966720324892],\n",
       "                {&quot;bubblingMouseEvents&quot;: true, &quot;color&quot;: &quot;blue&quot;, &quot;dashArray&quot;: null, &quot;dashOffset&quot;: null, &quot;fill&quot;: true, &quot;fillColor&quot;: &quot;blue&quot;, &quot;fillOpacity&quot;: 0.2, &quot;fillRule&quot;: &quot;evenodd&quot;, &quot;lineCap&quot;: &quot;round&quot;, &quot;lineJoin&quot;: &quot;round&quot;, &quot;opacity&quot;: 1.0, &quot;radius&quot;: 50, &quot;stroke&quot;: true, &quot;weight&quot;: 3}\n",
       "            ).addTo(map_03370fc5c66f256379235e7baf904a67);\n",
       "        \n",
       "    \n",
       "            circle_marker_33ee798e34c6ab4a952e3bdd4bdbf9a4.bindTooltip(\n",
       "                `&lt;div&gt;\n",
       "                     [&#x27;서울의료보건고등학교&#x27;]\n",
       "                 &lt;/div&gt;`,\n",
       "                {&quot;sticky&quot;: true}\n",
       "            );\n",
       "        \n",
       "    \n",
       "            var circle_marker_a484cf35ed32977052bb26f685f22bd9 = L.circleMarker(\n",
       "                [37.5793793625106, 127.012792681686],\n",
       "                {&quot;bubblingMouseEvents&quot;: true, &quot;color&quot;: &quot;blue&quot;, &quot;dashArray&quot;: null, &quot;dashOffset&quot;: null, &quot;fill&quot;: true, &quot;fillColor&quot;: &quot;blue&quot;, &quot;fillOpacity&quot;: 0.2, &quot;fillRule&quot;: &quot;evenodd&quot;, &quot;lineCap&quot;: &quot;round&quot;, &quot;lineJoin&quot;: &quot;round&quot;, &quot;opacity&quot;: 1.0, &quot;radius&quot;: 50, &quot;stroke&quot;: true, &quot;weight&quot;: 3}\n",
       "            ).addTo(map_03370fc5c66f256379235e7baf904a67);\n",
       "        \n",
       "    \n",
       "            circle_marker_a484cf35ed32977052bb26f685f22bd9.bindTooltip(\n",
       "                `&lt;div&gt;\n",
       "                     [&#x27;서일문화예술고등학교&#x27;]\n",
       "                 &lt;/div&gt;`,\n",
       "                {&quot;sticky&quot;: true}\n",
       "            );\n",
       "        \n",
       "    \n",
       "            var circle_marker_0da2f3ad7474813a0815db880de9697c = L.circleMarker(\n",
       "                [37.5052815748623, 126.926615278225],\n",
       "                {&quot;bubblingMouseEvents&quot;: true, &quot;color&quot;: &quot;blue&quot;, &quot;dashArray&quot;: null, &quot;dashOffset&quot;: null, &quot;fill&quot;: true, &quot;fillColor&quot;: &quot;blue&quot;, &quot;fillOpacity&quot;: 0.2, &quot;fillRule&quot;: &quot;evenodd&quot;, &quot;lineCap&quot;: &quot;round&quot;, &quot;lineJoin&quot;: &quot;round&quot;, &quot;opacity&quot;: 1.0, &quot;radius&quot;: 50, &quot;stroke&quot;: true, &quot;weight&quot;: 3}\n",
       "            ).addTo(map_03370fc5c66f256379235e7baf904a67);\n",
       "        \n",
       "    \n",
       "            circle_marker_0da2f3ad7474813a0815db880de9697c.bindTooltip(\n",
       "                `&lt;div&gt;\n",
       "                     [&#x27;성남고등학교&#x27;]\n",
       "                 &lt;/div&gt;`,\n",
       "                {&quot;sticky&quot;: true}\n",
       "            );\n",
       "        \n",
       "    \n",
       "            var circle_marker_e1ad90c70b5bc0a406dcf760cb31f28b = L.circleMarker(\n",
       "                [37.5693631529572, 127.017281730243],\n",
       "                {&quot;bubblingMouseEvents&quot;: true, &quot;color&quot;: &quot;blue&quot;, &quot;dashArray&quot;: null, &quot;dashOffset&quot;: null, &quot;fill&quot;: true, &quot;fillColor&quot;: &quot;blue&quot;, &quot;fillOpacity&quot;: 0.2, &quot;fillRule&quot;: &quot;evenodd&quot;, &quot;lineCap&quot;: &quot;round&quot;, &quot;lineJoin&quot;: &quot;round&quot;, &quot;opacity&quot;: 1.0, &quot;radius&quot;: 50, &quot;stroke&quot;: true, &quot;weight&quot;: 3}\n",
       "            ).addTo(map_03370fc5c66f256379235e7baf904a67);\n",
       "        \n",
       "    \n",
       "            circle_marker_e1ad90c70b5bc0a406dcf760cb31f28b.bindTooltip(\n",
       "                `&lt;div&gt;\n",
       "                     [&#x27;성동공업고등학교&#x27;]\n",
       "                 &lt;/div&gt;`,\n",
       "                {&quot;sticky&quot;: true}\n",
       "            );\n",
       "        \n",
       "    \n",
       "            var circle_marker_4333c3edc1a16059a0ddeff0fbea59b2 = L.circleMarker(\n",
       "                [37.5658547150955, 127.0135246262],\n",
       "                {&quot;bubblingMouseEvents&quot;: true, &quot;color&quot;: &quot;blue&quot;, &quot;dashArray&quot;: null, &quot;dashOffset&quot;: null, &quot;fill&quot;: true, &quot;fillColor&quot;: &quot;blue&quot;, &quot;fillOpacity&quot;: 0.2, &quot;fillRule&quot;: &quot;evenodd&quot;, &quot;lineCap&quot;: &quot;round&quot;, &quot;lineJoin&quot;: &quot;round&quot;, &quot;opacity&quot;: 1.0, &quot;radius&quot;: 50, &quot;stroke&quot;: true, &quot;weight&quot;: 3}\n",
       "            ).addTo(map_03370fc5c66f256379235e7baf904a67);\n",
       "        \n",
       "    \n",
       "            circle_marker_4333c3edc1a16059a0ddeff0fbea59b2.bindTooltip(\n",
       "                `&lt;div&gt;\n",
       "                     [&#x27;성동글로벌경영고등학교&#x27;]\n",
       "                 &lt;/div&gt;`,\n",
       "                {&quot;sticky&quot;: true}\n",
       "            );\n",
       "        \n",
       "    \n",
       "            var circle_marker_ec56ea297923ec5d17599d84aa0d2021 = L.circleMarker(\n",
       "                [37.5405694282104, 127.050960207026],\n",
       "                {&quot;bubblingMouseEvents&quot;: true, &quot;color&quot;: &quot;blue&quot;, &quot;dashArray&quot;: null, &quot;dashOffset&quot;: null, &quot;fill&quot;: true, &quot;fillColor&quot;: &quot;blue&quot;, &quot;fillOpacity&quot;: 0.2, &quot;fillRule&quot;: &quot;evenodd&quot;, &quot;lineCap&quot;: &quot;round&quot;, &quot;lineJoin&quot;: &quot;round&quot;, &quot;opacity&quot;: 1.0, &quot;radius&quot;: 50, &quot;stroke&quot;: true, &quot;weight&quot;: 3}\n",
       "            ).addTo(map_03370fc5c66f256379235e7baf904a67);\n",
       "        \n",
       "    \n",
       "            circle_marker_ec56ea297923ec5d17599d84aa0d2021.bindTooltip(\n",
       "                `&lt;div&gt;\n",
       "                     [&#x27;성수공업고등학교&#x27;]\n",
       "                 &lt;/div&gt;`,\n",
       "                {&quot;sticky&quot;: true}\n",
       "            );\n",
       "        \n",
       "    \n",
       "            var circle_marker_21669654bc4da01b9a1814c46818410e = L.circleMarker(\n",
       "                [37.6278475739332, 126.923545504491],\n",
       "                {&quot;bubblingMouseEvents&quot;: true, &quot;color&quot;: &quot;blue&quot;, &quot;dashArray&quot;: null, &quot;dashOffset&quot;: null, &quot;fill&quot;: true, &quot;fillColor&quot;: &quot;blue&quot;, &quot;fillOpacity&quot;: 0.2, &quot;fillRule&quot;: &quot;evenodd&quot;, &quot;lineCap&quot;: &quot;round&quot;, &quot;lineJoin&quot;: &quot;round&quot;, &quot;opacity&quot;: 1.0, &quot;radius&quot;: 50, &quot;stroke&quot;: true, &quot;weight&quot;: 3}\n",
       "            ).addTo(map_03370fc5c66f256379235e7baf904a67);\n",
       "        \n",
       "    \n",
       "            circle_marker_21669654bc4da01b9a1814c46818410e.bindTooltip(\n",
       "                `&lt;div&gt;\n",
       "                     [&#x27;세명컴퓨터고등학교&#x27;]\n",
       "                 &lt;/div&gt;`,\n",
       "                {&quot;sticky&quot;: true}\n",
       "            );\n",
       "        \n",
       "    \n",
       "            var circle_marker_508fce07827c72076807d2c2fc8bcd63 = L.circleMarker(\n",
       "                [37.4849375350333, 127.064478665219],\n",
       "                {&quot;bubblingMouseEvents&quot;: true, &quot;color&quot;: &quot;blue&quot;, &quot;dashArray&quot;: null, &quot;dashOffset&quot;: null, &quot;fill&quot;: true, &quot;fillColor&quot;: &quot;blue&quot;, &quot;fillOpacity&quot;: 0.2, &quot;fillRule&quot;: &quot;evenodd&quot;, &quot;lineCap&quot;: &quot;round&quot;, &quot;lineJoin&quot;: &quot;round&quot;, &quot;opacity&quot;: 1.0, &quot;radius&quot;: 50, &quot;stroke&quot;: true, &quot;weight&quot;: 3}\n",
       "            ).addTo(map_03370fc5c66f256379235e7baf904a67);\n",
       "        \n",
       "    \n",
       "            circle_marker_508fce07827c72076807d2c2fc8bcd63.bindTooltip(\n",
       "                `&lt;div&gt;\n",
       "                     [&#x27;수도전기공업고등학교&#x27;]\n",
       "                 &lt;/div&gt;`,\n",
       "                {&quot;sticky&quot;: true}\n",
       "            );\n",
       "        \n",
       "    \n",
       "            var circle_marker_ab10121edffdd2b6e3f39a151c74900f = L.circleMarker(\n",
       "                [37.5239143189255, 126.860209579436],\n",
       "                {&quot;bubblingMouseEvents&quot;: true, &quot;color&quot;: &quot;blue&quot;, &quot;dashArray&quot;: null, &quot;dashOffset&quot;: null, &quot;fill&quot;: true, &quot;fillColor&quot;: &quot;blue&quot;, &quot;fillOpacity&quot;: 0.2, &quot;fillRule&quot;: &quot;evenodd&quot;, &quot;lineCap&quot;: &quot;round&quot;, &quot;lineJoin&quot;: &quot;round&quot;, &quot;opacity&quot;: 1.0, &quot;radius&quot;: 50, &quot;stroke&quot;: true, &quot;weight&quot;: 3}\n",
       "            ).addTo(map_03370fc5c66f256379235e7baf904a67);\n",
       "        \n",
       "    \n",
       "            circle_marker_ab10121edffdd2b6e3f39a151c74900f.bindTooltip(\n",
       "                `&lt;div&gt;\n",
       "                     [&#x27;신서고등학교&#x27;]\n",
       "                 &lt;/div&gt;`,\n",
       "                {&quot;sticky&quot;: true}\n",
       "            );\n",
       "        \n",
       "    \n",
       "            var circle_marker_a7dca683f1d05416d827e2cbbcad0f6f = L.circleMarker(\n",
       "                [37.5311339475008, 127.032711640733],\n",
       "                {&quot;bubblingMouseEvents&quot;: true, &quot;color&quot;: &quot;blue&quot;, &quot;dashArray&quot;: null, &quot;dashOffset&quot;: null, &quot;fill&quot;: true, &quot;fillColor&quot;: &quot;blue&quot;, &quot;fillOpacity&quot;: 0.2, &quot;fillRule&quot;: &quot;evenodd&quot;, &quot;lineCap&quot;: &quot;round&quot;, &quot;lineJoin&quot;: &quot;round&quot;, &quot;opacity&quot;: 1.0, &quot;radius&quot;: 50, &quot;stroke&quot;: true, &quot;weight&quot;: 3}\n",
       "            ).addTo(map_03370fc5c66f256379235e7baf904a67);\n",
       "        \n",
       "    \n",
       "            circle_marker_a7dca683f1d05416d827e2cbbcad0f6f.bindTooltip(\n",
       "                `&lt;div&gt;\n",
       "                     [&#x27;압구정고등학교&#x27;]\n",
       "                 &lt;/div&gt;`,\n",
       "                {&quot;sticky&quot;: true}\n",
       "            );\n",
       "        \n",
       "    \n",
       "            var circle_marker_31719c9d0bef1d03e5c728c4ac6185ea = L.circleMarker(\n",
       "                [37.4824216431127, 127.032079625373],\n",
       "                {&quot;bubblingMouseEvents&quot;: true, &quot;color&quot;: &quot;blue&quot;, &quot;dashArray&quot;: null, &quot;dashOffset&quot;: null, &quot;fill&quot;: true, &quot;fillColor&quot;: &quot;blue&quot;, &quot;fillOpacity&quot;: 0.2, &quot;fillRule&quot;: &quot;evenodd&quot;, &quot;lineCap&quot;: &quot;round&quot;, &quot;lineJoin&quot;: &quot;round&quot;, &quot;opacity&quot;: 1.0, &quot;radius&quot;: 50, &quot;stroke&quot;: true, &quot;weight&quot;: 3}\n",
       "            ).addTo(map_03370fc5c66f256379235e7baf904a67);\n",
       "        \n",
       "    \n",
       "            circle_marker_31719c9d0bef1d03e5c728c4ac6185ea.bindTooltip(\n",
       "                `&lt;div&gt;\n",
       "                     [&#x27;양재고등학교&#x27;]\n",
       "                 &lt;/div&gt;`,\n",
       "                {&quot;sticky&quot;: true}\n",
       "            );\n",
       "        \n",
       "    \n",
       "            var circle_marker_0dee1db6953708272decd10261d2c3e8 = L.circleMarker(\n",
       "                [37.4723300184587, 127.043005236379],\n",
       "                {&quot;bubblingMouseEvents&quot;: true, &quot;color&quot;: &quot;blue&quot;, &quot;dashArray&quot;: null, &quot;dashOffset&quot;: null, &quot;fill&quot;: true, &quot;fillColor&quot;: &quot;blue&quot;, &quot;fillOpacity&quot;: 0.2, &quot;fillRule&quot;: &quot;evenodd&quot;, &quot;lineCap&quot;: &quot;round&quot;, &quot;lineJoin&quot;: &quot;round&quot;, &quot;opacity&quot;: 1.0, &quot;radius&quot;: 50, &quot;stroke&quot;: true, &quot;weight&quot;: 3}\n",
       "            ).addTo(map_03370fc5c66f256379235e7baf904a67);\n",
       "        \n",
       "    \n",
       "            circle_marker_0dee1db6953708272decd10261d2c3e8.bindTooltip(\n",
       "                `&lt;div&gt;\n",
       "                     [&#x27;언남고등학교&#x27;]\n",
       "                 &lt;/div&gt;`,\n",
       "                {&quot;sticky&quot;: true}\n",
       "            );\n",
       "        \n",
       "    \n",
       "            var circle_marker_90585e083eedf3a1e1569394e9768d90 = L.circleMarker(\n",
       "                [37.5213890143821, 127.043739258782],\n",
       "                {&quot;bubblingMouseEvents&quot;: true, &quot;color&quot;: &quot;blue&quot;, &quot;dashArray&quot;: null, &quot;dashOffset&quot;: null, &quot;fill&quot;: true, &quot;fillColor&quot;: &quot;blue&quot;, &quot;fillOpacity&quot;: 0.2, &quot;fillRule&quot;: &quot;evenodd&quot;, &quot;lineCap&quot;: &quot;round&quot;, &quot;lineJoin&quot;: &quot;round&quot;, &quot;opacity&quot;: 1.0, &quot;radius&quot;: 50, &quot;stroke&quot;: true, &quot;weight&quot;: 3}\n",
       "            ).addTo(map_03370fc5c66f256379235e7baf904a67);\n",
       "        \n",
       "    \n",
       "            circle_marker_90585e083eedf3a1e1569394e9768d90.bindTooltip(\n",
       "                `&lt;div&gt;\n",
       "                     [&#x27;영동고등학교&#x27;]\n",
       "                 &lt;/div&gt;`,\n",
       "                {&quot;sticky&quot;: true}\n",
       "            );\n",
       "        \n",
       "    \n",
       "            var circle_marker_760e1900a616da3e1c4bb6fcb5030f9d = L.circleMarker(\n",
       "                [37.5153884476796, 126.915356313843],\n",
       "                {&quot;bubblingMouseEvents&quot;: true, &quot;color&quot;: &quot;blue&quot;, &quot;dashArray&quot;: null, &quot;dashOffset&quot;: null, &quot;fill&quot;: true, &quot;fillColor&quot;: &quot;blue&quot;, &quot;fillOpacity&quot;: 0.2, &quot;fillRule&quot;: &quot;evenodd&quot;, &quot;lineCap&quot;: &quot;round&quot;, &quot;lineJoin&quot;: &quot;round&quot;, &quot;opacity&quot;: 1.0, &quot;radius&quot;: 50, &quot;stroke&quot;: true, &quot;weight&quot;: 3}\n",
       "            ).addTo(map_03370fc5c66f256379235e7baf904a67);\n",
       "        \n",
       "    \n",
       "            circle_marker_760e1900a616da3e1c4bb6fcb5030f9d.bindTooltip(\n",
       "                `&lt;div&gt;\n",
       "                     [&#x27;영등포여자고등학교&#x27;]\n",
       "                 &lt;/div&gt;`,\n",
       "                {&quot;sticky&quot;: true}\n",
       "            );\n",
       "        \n",
       "    \n",
       "            var circle_marker_935e7d7b2e62cbed57a20f82cc7b0e89 = L.circleMarker(\n",
       "                [37.6525485061054, 127.08350874514],\n",
       "                {&quot;bubblingMouseEvents&quot;: true, &quot;color&quot;: &quot;blue&quot;, &quot;dashArray&quot;: null, &quot;dashOffset&quot;: null, &quot;fill&quot;: true, &quot;fillColor&quot;: &quot;blue&quot;, &quot;fillOpacity&quot;: 0.2, &quot;fillRule&quot;: &quot;evenodd&quot;, &quot;lineCap&quot;: &quot;round&quot;, &quot;lineJoin&quot;: &quot;round&quot;, &quot;opacity&quot;: 1.0, &quot;radius&quot;: 50, &quot;stroke&quot;: true, &quot;weight&quot;: 3}\n",
       "            ).addTo(map_03370fc5c66f256379235e7baf904a67);\n",
       "        \n",
       "    \n",
       "            circle_marker_935e7d7b2e62cbed57a20f82cc7b0e89.bindTooltip(\n",
       "                `&lt;div&gt;\n",
       "                     [&#x27;영신간호비즈니스고등학교&#x27;]\n",
       "                 &lt;/div&gt;`,\n",
       "                {&quot;sticky&quot;: true}\n",
       "            );\n",
       "        \n",
       "    \n",
       "            var circle_marker_d87a927b3dfc9b59b5418458399c3600 = L.circleMarker(\n",
       "                [37.4981009442437, 126.909739022671],\n",
       "                {&quot;bubblingMouseEvents&quot;: true, &quot;color&quot;: &quot;blue&quot;, &quot;dashArray&quot;: null, &quot;dashOffset&quot;: null, &quot;fill&quot;: true, &quot;fillColor&quot;: &quot;blue&quot;, &quot;fillOpacity&quot;: 0.2, &quot;fillRule&quot;: &quot;evenodd&quot;, &quot;lineCap&quot;: &quot;round&quot;, &quot;lineJoin&quot;: &quot;round&quot;, &quot;opacity&quot;: 1.0, &quot;radius&quot;: 50, &quot;stroke&quot;: true, &quot;weight&quot;: 3}\n",
       "            ).addTo(map_03370fc5c66f256379235e7baf904a67);\n",
       "        \n",
       "    \n",
       "            circle_marker_d87a927b3dfc9b59b5418458399c3600.bindTooltip(\n",
       "                `&lt;div&gt;\n",
       "                     [&#x27;영신고등학교&#x27;]\n",
       "                 &lt;/div&gt;`,\n",
       "                {&quot;sticky&quot;: true}\n",
       "            );\n",
       "        \n",
       "    \n",
       "            var circle_marker_13fb08ad73553a09bd27e16a94649add = L.circleMarker(\n",
       "                [37.5472872620345, 126.86205890011],\n",
       "                {&quot;bubblingMouseEvents&quot;: true, &quot;color&quot;: &quot;blue&quot;, &quot;dashArray&quot;: null, &quot;dashOffset&quot;: null, &quot;fill&quot;: true, &quot;fillColor&quot;: &quot;blue&quot;, &quot;fillOpacity&quot;: 0.2, &quot;fillRule&quot;: &quot;evenodd&quot;, &quot;lineCap&quot;: &quot;round&quot;, &quot;lineJoin&quot;: &quot;round&quot;, &quot;opacity&quot;: 1.0, &quot;radius&quot;: 50, &quot;stroke&quot;: true, &quot;weight&quot;: 3}\n",
       "            ).addTo(map_03370fc5c66f256379235e7baf904a67);\n",
       "        \n",
       "    \n",
       "            circle_marker_13fb08ad73553a09bd27e16a94649add.bindTooltip(\n",
       "                `&lt;div&gt;\n",
       "                     [&#x27;영일고등학교&#x27;]\n",
       "                 &lt;/div&gt;`,\n",
       "                {&quot;sticky&quot;: true}\n",
       "            );\n",
       "        \n",
       "    \n",
       "            var circle_marker_8728b99d2d48c742ee1a3307c7d01b67 = L.circleMarker(\n",
       "                [37.5458673821179, 126.980327669219],\n",
       "                {&quot;bubblingMouseEvents&quot;: true, &quot;color&quot;: &quot;blue&quot;, &quot;dashArray&quot;: null, &quot;dashOffset&quot;: null, &quot;fill&quot;: true, &quot;fillColor&quot;: &quot;blue&quot;, &quot;fillOpacity&quot;: 0.2, &quot;fillRule&quot;: &quot;evenodd&quot;, &quot;lineCap&quot;: &quot;round&quot;, &quot;lineJoin&quot;: &quot;round&quot;, &quot;opacity&quot;: 1.0, &quot;radius&quot;: 50, &quot;stroke&quot;: true, &quot;weight&quot;: 3}\n",
       "            ).addTo(map_03370fc5c66f256379235e7baf904a67);\n",
       "        \n",
       "    \n",
       "            circle_marker_8728b99d2d48c742ee1a3307c7d01b67.bindTooltip(\n",
       "                `&lt;div&gt;\n",
       "                     [&#x27;용산고등학교&#x27;]\n",
       "                 &lt;/div&gt;`,\n",
       "                {&quot;sticky&quot;: true}\n",
       "            );\n",
       "        \n",
       "    \n",
       "            var circle_marker_05a14988ee53ef00c353aa915c6446aa = L.circleMarker(\n",
       "                [37.5243415841733, 126.967358069735],\n",
       "                {&quot;bubblingMouseEvents&quot;: true, &quot;color&quot;: &quot;blue&quot;, &quot;dashArray&quot;: null, &quot;dashOffset&quot;: null, &quot;fill&quot;: true, &quot;fillColor&quot;: &quot;blue&quot;, &quot;fillOpacity&quot;: 0.2, &quot;fillRule&quot;: &quot;evenodd&quot;, &quot;lineCap&quot;: &quot;round&quot;, &quot;lineJoin&quot;: &quot;round&quot;, &quot;opacity&quot;: 1.0, &quot;radius&quot;: 50, &quot;stroke&quot;: true, &quot;weight&quot;: 3}\n",
       "            ).addTo(map_03370fc5c66f256379235e7baf904a67);\n",
       "        \n",
       "    \n",
       "            circle_marker_05a14988ee53ef00c353aa915c6446aa.bindTooltip(\n",
       "                `&lt;div&gt;\n",
       "                     [&#x27;용산철도고등학교&#x27;]\n",
       "                 &lt;/div&gt;`,\n",
       "                {&quot;sticky&quot;: true}\n",
       "            );\n",
       "        \n",
       "    \n",
       "            var circle_marker_5d0c8198387eba431d47d8a9f5799aa0 = L.circleMarker(\n",
       "                [37.4883484513575, 127.035021467585],\n",
       "                {&quot;bubblingMouseEvents&quot;: true, &quot;color&quot;: &quot;blue&quot;, &quot;dashArray&quot;: null, &quot;dashOffset&quot;: null, &quot;fill&quot;: true, &quot;fillColor&quot;: &quot;blue&quot;, &quot;fillOpacity&quot;: 0.2, &quot;fillRule&quot;: &quot;evenodd&quot;, &quot;lineCap&quot;: &quot;round&quot;, &quot;lineJoin&quot;: &quot;round&quot;, &quot;opacity&quot;: 1.0, &quot;radius&quot;: 50, &quot;stroke&quot;: true, &quot;weight&quot;: 3}\n",
       "            ).addTo(map_03370fc5c66f256379235e7baf904a67);\n",
       "        \n",
       "    \n",
       "            circle_marker_5d0c8198387eba431d47d8a9f5799aa0.bindTooltip(\n",
       "                `&lt;div&gt;\n",
       "                     [&#x27;은광여자고등학교&#x27;]\n",
       "                 &lt;/div&gt;`,\n",
       "                {&quot;sticky&quot;: true}\n",
       "            );\n",
       "        \n",
       "    \n",
       "            var circle_marker_29100c31d4d49cda3f7f5b1f83c1ac0c = L.circleMarker(\n",
       "                [37.5145543759031, 127.082367731592],\n",
       "                {&quot;bubblingMouseEvents&quot;: true, &quot;color&quot;: &quot;blue&quot;, &quot;dashArray&quot;: null, &quot;dashOffset&quot;: null, &quot;fill&quot;: true, &quot;fillColor&quot;: &quot;blue&quot;, &quot;fillOpacity&quot;: 0.2, &quot;fillRule&quot;: &quot;evenodd&quot;, &quot;lineCap&quot;: &quot;round&quot;, &quot;lineJoin&quot;: &quot;round&quot;, &quot;opacity&quot;: 1.0, &quot;radius&quot;: 50, &quot;stroke&quot;: true, &quot;weight&quot;: 3}\n",
       "            ).addTo(map_03370fc5c66f256379235e7baf904a67);\n",
       "        \n",
       "    \n",
       "            circle_marker_29100c31d4d49cda3f7f5b1f83c1ac0c.bindTooltip(\n",
       "                `&lt;div&gt;\n",
       "                     [&#x27;잠일고등학교&#x27;]\n",
       "                 &lt;/div&gt;`,\n",
       "                {&quot;sticky&quot;: true}\n",
       "            );\n",
       "        \n",
       "    \n",
       "            var circle_marker_d529685851f9d1725f7e063c8080f41f = L.circleMarker(\n",
       "                [37.5535149002283, 127.006414953028],\n",
       "                {&quot;bubblingMouseEvents&quot;: true, &quot;color&quot;: &quot;blue&quot;, &quot;dashArray&quot;: null, &quot;dashOffset&quot;: null, &quot;fill&quot;: true, &quot;fillColor&quot;: &quot;blue&quot;, &quot;fillOpacity&quot;: 0.2, &quot;fillRule&quot;: &quot;evenodd&quot;, &quot;lineCap&quot;: &quot;round&quot;, &quot;lineJoin&quot;: &quot;round&quot;, &quot;opacity&quot;: 1.0, &quot;radius&quot;: 50, &quot;stroke&quot;: true, &quot;weight&quot;: 3}\n",
       "            ).addTo(map_03370fc5c66f256379235e7baf904a67);\n",
       "        \n",
       "    \n",
       "            circle_marker_d529685851f9d1725f7e063c8080f41f.bindTooltip(\n",
       "                `&lt;div&gt;\n",
       "                     [&#x27;장충고등학교&#x27;]\n",
       "                 &lt;/div&gt;`,\n",
       "                {&quot;sticky&quot;: true}\n",
       "            );\n",
       "        \n",
       "    \n",
       "            var circle_marker_50ec1eee29b205a9280fe0d05999ca54 = L.circleMarker(\n",
       "                [37.5176803956953, 126.975638256286],\n",
       "                {&quot;bubblingMouseEvents&quot;: true, &quot;color&quot;: &quot;blue&quot;, &quot;dashArray&quot;: null, &quot;dashOffset&quot;: null, &quot;fill&quot;: true, &quot;fillColor&quot;: &quot;blue&quot;, &quot;fillOpacity&quot;: 0.2, &quot;fillRule&quot;: &quot;evenodd&quot;, &quot;lineCap&quot;: &quot;round&quot;, &quot;lineJoin&quot;: &quot;round&quot;, &quot;opacity&quot;: 1.0, &quot;radius&quot;: 50, &quot;stroke&quot;: true, &quot;weight&quot;: 3}\n",
       "            ).addTo(map_03370fc5c66f256379235e7baf904a67);\n",
       "        \n",
       "    \n",
       "            circle_marker_50ec1eee29b205a9280fe0d05999ca54.bindTooltip(\n",
       "                `&lt;div&gt;\n",
       "                     [&#x27;중경고등학교&#x27;]\n",
       "                 &lt;/div&gt;`,\n",
       "                {&quot;sticky&quot;: true}\n",
       "            );\n",
       "        \n",
       "    \n",
       "            var circle_marker_1f4cb997d0e9fbcae7cba1be5ff7b77c = L.circleMarker(\n",
       "                [37.4937134106081, 127.080660058176],\n",
       "                {&quot;bubblingMouseEvents&quot;: true, &quot;color&quot;: &quot;blue&quot;, &quot;dashArray&quot;: null, &quot;dashOffset&quot;: null, &quot;fill&quot;: true, &quot;fillColor&quot;: &quot;blue&quot;, &quot;fillOpacity&quot;: 0.2, &quot;fillRule&quot;: &quot;evenodd&quot;, &quot;lineCap&quot;: &quot;round&quot;, &quot;lineJoin&quot;: &quot;round&quot;, &quot;opacity&quot;: 1.0, &quot;radius&quot;: 50, &quot;stroke&quot;: true, &quot;weight&quot;: 3}\n",
       "            ).addTo(map_03370fc5c66f256379235e7baf904a67);\n",
       "        \n",
       "    \n",
       "            circle_marker_1f4cb997d0e9fbcae7cba1be5ff7b77c.bindTooltip(\n",
       "                `&lt;div&gt;\n",
       "                     [&#x27;중동고등학교&#x27;]\n",
       "                 &lt;/div&gt;`,\n",
       "                {&quot;sticky&quot;: true}\n",
       "            );\n",
       "        \n",
       "    \n",
       "            var circle_marker_23e519455c7528ca9df79896f648f1af = L.circleMarker(\n",
       "                [37.4857429318866, 127.0814284922],\n",
       "                {&quot;bubblingMouseEvents&quot;: true, &quot;color&quot;: &quot;blue&quot;, &quot;dashArray&quot;: null, &quot;dashOffset&quot;: null, &quot;fill&quot;: true, &quot;fillColor&quot;: &quot;blue&quot;, &quot;fillOpacity&quot;: 0.2, &quot;fillRule&quot;: &quot;evenodd&quot;, &quot;lineCap&quot;: &quot;round&quot;, &quot;lineJoin&quot;: &quot;round&quot;, &quot;opacity&quot;: 1.0, &quot;radius&quot;: 50, &quot;stroke&quot;: true, &quot;weight&quot;: 3}\n",
       "            ).addTo(map_03370fc5c66f256379235e7baf904a67);\n",
       "        \n",
       "    \n",
       "            circle_marker_23e519455c7528ca9df79896f648f1af.bindTooltip(\n",
       "                `&lt;div&gt;\n",
       "                     [&#x27;중산고등학교&#x27;]\n",
       "                 &lt;/div&gt;`,\n",
       "                {&quot;sticky&quot;: true}\n",
       "            );\n",
       "        \n",
       "    \n",
       "            var circle_marker_a56d9e3f876b4cc7a67ec9d08dbd24ed = L.circleMarker(\n",
       "                [37.5837882231459, 126.987472622092],\n",
       "                {&quot;bubblingMouseEvents&quot;: true, &quot;color&quot;: &quot;blue&quot;, &quot;dashArray&quot;: null, &quot;dashOffset&quot;: null, &quot;fill&quot;: true, &quot;fillColor&quot;: &quot;blue&quot;, &quot;fillOpacity&quot;: 0.2, &quot;fillRule&quot;: &quot;evenodd&quot;, &quot;lineCap&quot;: &quot;round&quot;, &quot;lineJoin&quot;: &quot;round&quot;, &quot;opacity&quot;: 1.0, &quot;radius&quot;: 50, &quot;stroke&quot;: true, &quot;weight&quot;: 3}\n",
       "            ).addTo(map_03370fc5c66f256379235e7baf904a67);\n",
       "        \n",
       "    \n",
       "            circle_marker_a56d9e3f876b4cc7a67ec9d08dbd24ed.bindTooltip(\n",
       "                `&lt;div&gt;\n",
       "                     [&#x27;중앙고등학교&#x27;]\n",
       "                 &lt;/div&gt;`,\n",
       "                {&quot;sticky&quot;: true}\n",
       "            );\n",
       "        \n",
       "    \n",
       "            var circle_marker_d065c32b1d6d5753396d40578203190a = L.circleMarker(\n",
       "                [37.5023028920315, 127.048286565491],\n",
       "                {&quot;bubblingMouseEvents&quot;: true, &quot;color&quot;: &quot;blue&quot;, &quot;dashArray&quot;: null, &quot;dashOffset&quot;: null, &quot;fill&quot;: true, &quot;fillColor&quot;: &quot;blue&quot;, &quot;fillOpacity&quot;: 0.2, &quot;fillRule&quot;: &quot;evenodd&quot;, &quot;lineCap&quot;: &quot;round&quot;, &quot;lineJoin&quot;: &quot;round&quot;, &quot;opacity&quot;: 1.0, &quot;radius&quot;: 50, &quot;stroke&quot;: true, &quot;weight&quot;: 3}\n",
       "            ).addTo(map_03370fc5c66f256379235e7baf904a67);\n",
       "        \n",
       "    \n",
       "            circle_marker_d065c32b1d6d5753396d40578203190a.bindTooltip(\n",
       "                `&lt;div&gt;\n",
       "                     [&#x27;진선여자고등학교&#x27;]\n",
       "                 &lt;/div&gt;`,\n",
       "                {&quot;sticky&quot;: true}\n",
       "            );\n",
       "        \n",
       "    \n",
       "            var circle_marker_557a51d96a8ebcdd20b7bd3a7b937b09 = L.circleMarker(\n",
       "                [37.4713361652893, 127.09996343408],\n",
       "                {&quot;bubblingMouseEvents&quot;: true, &quot;color&quot;: &quot;blue&quot;, &quot;dashArray&quot;: null, &quot;dashOffset&quot;: null, &quot;fill&quot;: true, &quot;fillColor&quot;: &quot;blue&quot;, &quot;fillOpacity&quot;: 0.2, &quot;fillRule&quot;: &quot;evenodd&quot;, &quot;lineCap&quot;: &quot;round&quot;, &quot;lineJoin&quot;: &quot;round&quot;, &quot;opacity&quot;: 1.0, &quot;radius&quot;: 50, &quot;stroke&quot;: true, &quot;weight&quot;: 3}\n",
       "            ).addTo(map_03370fc5c66f256379235e7baf904a67);\n",
       "        \n",
       "    \n",
       "            circle_marker_557a51d96a8ebcdd20b7bd3a7b937b09.bindTooltip(\n",
       "                `&lt;div&gt;\n",
       "                     [&#x27;풍문고등학교&#x27;]\n",
       "                 &lt;/div&gt;`,\n",
       "                {&quot;sticky&quot;: true}\n",
       "            );\n",
       "        \n",
       "    \n",
       "            var circle_marker_26296d3f286a6c2ed68095256e4251b9 = L.circleMarker(\n",
       "                [37.559096439531, 126.954456481223],\n",
       "                {&quot;bubblingMouseEvents&quot;: true, &quot;color&quot;: &quot;blue&quot;, &quot;dashArray&quot;: null, &quot;dashOffset&quot;: null, &quot;fill&quot;: true, &quot;fillColor&quot;: &quot;blue&quot;, &quot;fillOpacity&quot;: 0.2, &quot;fillRule&quot;: &quot;evenodd&quot;, &quot;lineCap&quot;: &quot;round&quot;, &quot;lineJoin&quot;: &quot;round&quot;, &quot;opacity&quot;: 1.0, &quot;radius&quot;: 50, &quot;stroke&quot;: true, &quot;weight&quot;: 3}\n",
       "            ).addTo(map_03370fc5c66f256379235e7baf904a67);\n",
       "        \n",
       "    \n",
       "            circle_marker_26296d3f286a6c2ed68095256e4251b9.bindTooltip(\n",
       "                `&lt;div&gt;\n",
       "                     [&#x27;한성고등학교&#x27;]\n",
       "                 &lt;/div&gt;`,\n",
       "                {&quot;sticky&quot;: true}\n",
       "            );\n",
       "        \n",
       "    \n",
       "            var circle_marker_e016be64a65fd4d7734d28ac89f62ce1 = L.circleMarker(\n",
       "                [37.57543616578, 126.952370943937],\n",
       "                {&quot;bubblingMouseEvents&quot;: true, &quot;color&quot;: &quot;blue&quot;, &quot;dashArray&quot;: null, &quot;dashOffset&quot;: null, &quot;fill&quot;: true, &quot;fillColor&quot;: &quot;blue&quot;, &quot;fillOpacity&quot;: 0.2, &quot;fillRule&quot;: &quot;evenodd&quot;, &quot;lineCap&quot;: &quot;round&quot;, &quot;lineJoin&quot;: &quot;round&quot;, &quot;opacity&quot;: 1.0, &quot;radius&quot;: 50, &quot;stroke&quot;: true, &quot;weight&quot;: 3}\n",
       "            ).addTo(map_03370fc5c66f256379235e7baf904a67);\n",
       "        \n",
       "    \n",
       "            circle_marker_e016be64a65fd4d7734d28ac89f62ce1.bindTooltip(\n",
       "                `&lt;div&gt;\n",
       "                     [&#x27;한성과학고등학교&#x27;]\n",
       "                 &lt;/div&gt;`,\n",
       "                {&quot;sticky&quot;: true}\n",
       "            );\n",
       "        \n",
       "    \n",
       "            var circle_marker_21ff0e8336140dd69d8d8457bf5e4ef8 = L.circleMarker(\n",
       "                [37.5517983189983, 126.952078400158],\n",
       "                {&quot;bubblingMouseEvents&quot;: true, &quot;color&quot;: &quot;blue&quot;, &quot;dashArray&quot;: null, &quot;dashOffset&quot;: null, &quot;fill&quot;: true, &quot;fillColor&quot;: &quot;blue&quot;, &quot;fillOpacity&quot;: 0.2, &quot;fillRule&quot;: &quot;evenodd&quot;, &quot;lineCap&quot;: &quot;round&quot;, &quot;lineJoin&quot;: &quot;round&quot;, &quot;opacity&quot;: 1.0, &quot;radius&quot;: 50, &quot;stroke&quot;: true, &quot;weight&quot;: 3}\n",
       "            ).addTo(map_03370fc5c66f256379235e7baf904a67);\n",
       "        \n",
       "    \n",
       "            circle_marker_21ff0e8336140dd69d8d8457bf5e4ef8.bindTooltip(\n",
       "                `&lt;div&gt;\n",
       "                     [&#x27;한세사이버보안고등학교&#x27;]\n",
       "                 &lt;/div&gt;`,\n",
       "                {&quot;sticky&quot;: true}\n",
       "            );\n",
       "        \n",
       "    \n",
       "            var circle_marker_2693b437af4c803de2e412ff56f815f7 = L.circleMarker(\n",
       "                [37.5658716036039, 127.011443307588],\n",
       "                {&quot;bubblingMouseEvents&quot;: true, &quot;color&quot;: &quot;blue&quot;, &quot;dashArray&quot;: null, &quot;dashOffset&quot;: null, &quot;fill&quot;: true, &quot;fillColor&quot;: &quot;blue&quot;, &quot;fillOpacity&quot;: 0.2, &quot;fillRule&quot;: &quot;evenodd&quot;, &quot;lineCap&quot;: &quot;round&quot;, &quot;lineJoin&quot;: &quot;round&quot;, &quot;opacity&quot;: 1.0, &quot;radius&quot;: 50, &quot;stroke&quot;: true, &quot;weight&quot;: 3}\n",
       "            ).addTo(map_03370fc5c66f256379235e7baf904a67);\n",
       "        \n",
       "    \n",
       "            circle_marker_2693b437af4c803de2e412ff56f815f7.bindTooltip(\n",
       "                `&lt;div&gt;\n",
       "                     [&#x27;한양공업고등학교&#x27;]\n",
       "                 &lt;/div&gt;`,\n",
       "                {&quot;sticky&quot;: true}\n",
       "            );\n",
       "        \n",
       "    \n",
       "            var circle_marker_dbad6a0ba5acbd897c170def56681c8f = L.circleMarker(\n",
       "                [37.5619188387132, 127.042324044658],\n",
       "                {&quot;bubblingMouseEvents&quot;: true, &quot;color&quot;: &quot;blue&quot;, &quot;dashArray&quot;: null, &quot;dashOffset&quot;: null, &quot;fill&quot;: true, &quot;fillColor&quot;: &quot;blue&quot;, &quot;fillOpacity&quot;: 0.2, &quot;fillRule&quot;: &quot;evenodd&quot;, &quot;lineCap&quot;: &quot;round&quot;, &quot;lineJoin&quot;: &quot;round&quot;, &quot;opacity&quot;: 1.0, &quot;radius&quot;: 50, &quot;stroke&quot;: true, &quot;weight&quot;: 3}\n",
       "            ).addTo(map_03370fc5c66f256379235e7baf904a67);\n",
       "        \n",
       "    \n",
       "            circle_marker_dbad6a0ba5acbd897c170def56681c8f.bindTooltip(\n",
       "                `&lt;div&gt;\n",
       "                     [&#x27;한양대학교사범대학부속고등학교&#x27;]\n",
       "                 &lt;/div&gt;`,\n",
       "                {&quot;sticky&quot;: true}\n",
       "            );\n",
       "        \n",
       "    \n",
       "            var circle_marker_2754be73ab00177826da4f37e2cd60ad = L.circleMarker(\n",
       "                [37.5818725994505, 127.056976879173],\n",
       "                {&quot;bubblingMouseEvents&quot;: true, &quot;color&quot;: &quot;blue&quot;, &quot;dashArray&quot;: null, &quot;dashOffset&quot;: null, &quot;fill&quot;: true, &quot;fillColor&quot;: &quot;blue&quot;, &quot;fillOpacity&quot;: 0.2, &quot;fillRule&quot;: &quot;evenodd&quot;, &quot;lineCap&quot;: &quot;round&quot;, &quot;lineJoin&quot;: &quot;round&quot;, &quot;opacity&quot;: 1.0, &quot;radius&quot;: 50, &quot;stroke&quot;: true, &quot;weight&quot;: 3}\n",
       "            ).addTo(map_03370fc5c66f256379235e7baf904a67);\n",
       "        \n",
       "    \n",
       "            circle_marker_2754be73ab00177826da4f37e2cd60ad.bindTooltip(\n",
       "                `&lt;div&gt;\n",
       "                     [&#x27;해성국제컨벤션고등학교&#x27;]\n",
       "                 &lt;/div&gt;`,\n",
       "                {&quot;sticky&quot;: true}\n",
       "            );\n",
       "        \n",
       "    \n",
       "            var circle_marker_cdee8bdc8f6a92dcb51b342c91303645 = L.circleMarker(\n",
       "                [37.5254804993365, 127.022377298509],\n",
       "                {&quot;bubblingMouseEvents&quot;: true, &quot;color&quot;: &quot;blue&quot;, &quot;dashArray&quot;: null, &quot;dashOffset&quot;: null, &quot;fill&quot;: true, &quot;fillColor&quot;: &quot;blue&quot;, &quot;fillOpacity&quot;: 0.2, &quot;fillRule&quot;: &quot;evenodd&quot;, &quot;lineCap&quot;: &quot;round&quot;, &quot;lineJoin&quot;: &quot;round&quot;, &quot;opacity&quot;: 1.0, &quot;radius&quot;: 50, &quot;stroke&quot;: true, &quot;weight&quot;: 3}\n",
       "            ).addTo(map_03370fc5c66f256379235e7baf904a67);\n",
       "        \n",
       "    \n",
       "            circle_marker_cdee8bdc8f6a92dcb51b342c91303645.bindTooltip(\n",
       "                `&lt;div&gt;\n",
       "                     [&#x27;현대고등학교&#x27;]\n",
       "                 &lt;/div&gt;`,\n",
       "                {&quot;sticky&quot;: true}\n",
       "            );\n",
       "        \n",
       "    \n",
       "            var circle_marker_f5e6180608b6245bf923caa96244a63e = L.circleMarker(\n",
       "                [37.559665162458, 126.912928685692],\n",
       "                {&quot;bubblingMouseEvents&quot;: true, &quot;color&quot;: &quot;blue&quot;, &quot;dashArray&quot;: null, &quot;dashOffset&quot;: null, &quot;fill&quot;: true, &quot;fillColor&quot;: &quot;blue&quot;, &quot;fillOpacity&quot;: 0.2, &quot;fillRule&quot;: &quot;evenodd&quot;, &quot;lineCap&quot;: &quot;round&quot;, &quot;lineJoin&quot;: &quot;round&quot;, &quot;opacity&quot;: 1.0, &quot;radius&quot;: 50, &quot;stroke&quot;: true, &quot;weight&quot;: 3}\n",
       "            ).addTo(map_03370fc5c66f256379235e7baf904a67);\n",
       "        \n",
       "    \n",
       "            circle_marker_f5e6180608b6245bf923caa96244a63e.bindTooltip(\n",
       "                `&lt;div&gt;\n",
       "                     [&#x27;홍익대학교사범대학부속여자고등학교&#x27;]\n",
       "                 &lt;/div&gt;`,\n",
       "                {&quot;sticky&quot;: true}\n",
       "            );\n",
       "        \n",
       "    \n",
       "            var circle_marker_4d2c76091256412474b9d7929efaa3fa = L.circleMarker(\n",
       "                [37.5052894535671, 127.061993880621],\n",
       "                {&quot;bubblingMouseEvents&quot;: true, &quot;color&quot;: &quot;blue&quot;, &quot;dashArray&quot;: null, &quot;dashOffset&quot;: null, &quot;fill&quot;: true, &quot;fillColor&quot;: &quot;blue&quot;, &quot;fillOpacity&quot;: 0.2, &quot;fillRule&quot;: &quot;evenodd&quot;, &quot;lineCap&quot;: &quot;round&quot;, &quot;lineJoin&quot;: &quot;round&quot;, &quot;opacity&quot;: 1.0, &quot;radius&quot;: 50, &quot;stroke&quot;: true, &quot;weight&quot;: 3}\n",
       "            ).addTo(map_03370fc5c66f256379235e7baf904a67);\n",
       "        \n",
       "    \n",
       "            circle_marker_4d2c76091256412474b9d7929efaa3fa.bindTooltip(\n",
       "                `&lt;div&gt;\n",
       "                     [&#x27;휘문고등학교&#x27;]\n",
       "                 &lt;/div&gt;`,\n",
       "                {&quot;sticky&quot;: true}\n",
       "            );\n",
       "        \n",
       "    \n",
       "            var circle_marker_83145be3ca896c5269758946f70c8026 = L.circleMarker(\n",
       "                [37.5863723553049, 127.068940658438],\n",
       "                {&quot;bubblingMouseEvents&quot;: true, &quot;color&quot;: &quot;blue&quot;, &quot;dashArray&quot;: null, &quot;dashOffset&quot;: null, &quot;fill&quot;: true, &quot;fillColor&quot;: &quot;blue&quot;, &quot;fillOpacity&quot;: 0.2, &quot;fillRule&quot;: &quot;evenodd&quot;, &quot;lineCap&quot;: &quot;round&quot;, &quot;lineJoin&quot;: &quot;round&quot;, &quot;opacity&quot;: 1.0, &quot;radius&quot;: 50, &quot;stroke&quot;: true, &quot;weight&quot;: 3}\n",
       "            ).addTo(map_03370fc5c66f256379235e7baf904a67);\n",
       "        \n",
       "    \n",
       "            circle_marker_83145be3ca896c5269758946f70c8026.bindTooltip(\n",
       "                `&lt;div&gt;\n",
       "                     [&#x27;휘봉고등학교&#x27;]\n",
       "                 &lt;/div&gt;`,\n",
       "                {&quot;sticky&quot;: true}\n",
       "            );\n",
       "        \n",
       "&lt;/script&gt;\n",
       "&lt;/html&gt;\" style=\"position:absolute;width:100%;height:100%;left:0;top:0;border:none !important;\" allowfullscreen webkitallowfullscreen mozallowfullscreen></iframe></div></div>"
      ],
      "text/plain": [
       "<folium.folium.Map at 0x268e9171070>"
      ]
     },
     "execution_count": 74,
     "metadata": {},
     "output_type": "execute_result"
    }
   ],
   "source": [
    "map"
   ]
  },
  {
   "cell_type": "code",
   "execution_count": null,
   "id": "57f3a9a9-3fc0-4397-b6d4-fabcaaeb97cf",
   "metadata": {},
   "outputs": [],
   "source": []
  },
  {
   "cell_type": "code",
   "execution_count": null,
   "id": "f4ebb48b-a94b-4880-86de-794170ad8e73",
   "metadata": {},
   "outputs": [],
   "source": []
  },
  {
   "cell_type": "code",
   "execution_count": null,
   "id": "896ce04d-a053-41ca-995a-89b8aa545c18",
   "metadata": {},
   "outputs": [],
   "source": []
  }
 ],
 "metadata": {
  "kernelspec": {
   "display_name": "Python 3 (ipykernel)",
   "language": "python",
   "name": "python3"
  },
  "language_info": {
   "codemirror_mode": {
    "name": "ipython",
    "version": 3
   },
   "file_extension": ".py",
   "mimetype": "text/x-python",
   "name": "python",
   "nbconvert_exporter": "python",
   "pygments_lexer": "ipython3",
   "version": "3.9.15"
  }
 },
 "nbformat": 4,
 "nbformat_minor": 5
}
